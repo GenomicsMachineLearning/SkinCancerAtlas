{
 "cells": [
  {
   "cell_type": "markdown",
   "id": "1328a08e-4e9e-4ba9-b772-e2182d89fab4",
   "metadata": {},
   "source": [
    "# Skin Atlas Glycomics Data Analysis Notebook"
   ]
  },
  {
   "cell_type": "markdown",
   "id": "3df39ee8-1795-4caa-95a1-e55b76568510",
   "metadata": {},
   "source": [
    "The below script contains code for the analysis of 3 glycomics samples generated for the skin cancer atlas publication. \n",
    "* code below is finalised analysis\n",
    "\n",
    "\n",
    "Author: Andrew Causer (6/1/2025)"
   ]
  },
  {
   "cell_type": "markdown",
   "id": "b171d1f9-ebf2-43e0-8f7f-f4be41ec687d",
   "metadata": {
    "jp-MarkdownHeadingCollapsed": true
   },
   "source": [
    "## Library and Data Loading"
   ]
  },
  {
   "cell_type": "markdown",
   "id": "1480f58b-a60b-44ef-aba1-b8573c40b622",
   "metadata": {},
   "source": [
    "#### Required Libraries "
   ]
  },
  {
   "cell_type": "code",
   "execution_count": null,
   "id": "96e5659a-05ce-4467-b71b-63dddcceff86",
   "metadata": {
    "scrolled": true
   },
   "outputs": [],
   "source": [
    "library(SpaMTP)\n",
    "library(Seurat)\n",
    "library(Cardinal)\n",
    "library(ggplot2)\n",
    "library(viridis)\n",
    "library(EnhancedVolcano)"
   ]
  },
  {
   "cell_type": "code",
   "execution_count": null,
   "id": "1e3f09c8-ae69-4a01-bdf7-96b2beb161d7",
   "metadata": {},
   "outputs": [],
   "source": [
    "setwd(\"/scratch/user/uqacause/files/GML_SkinAtlas/data/raw_data/\")"
   ]
  },
  {
   "cell_type": "markdown",
   "id": "1afafc05-bca8-4280-8cf8-6602bd41ef95",
   "metadata": {},
   "source": [
    "#### Set I/O Directories"
   ]
  },
  {
   "cell_type": "code",
   "execution_count": null,
   "id": "2aa0e562-e102-4349-878e-9d29b09fdc29",
   "metadata": {},
   "outputs": [],
   "source": [
    "## Data must be symbolically linked from RDM/Scratch (check out README.md file for more infomation on how to link files)\n",
    "## or INPUT_DIR can be changed to define the path to data stored elsewhere.\n",
    "\n",
    "INPUT_DIR <- \"../data/raw_data/\"\n",
    "OUTPUT_DIR <- \"../data/output/\""
   ]
  },
  {
   "cell_type": "code",
   "execution_count": null,
   "id": "1479bbe9-8e1f-4a5a-83fc-3137d28fd3e8",
   "metadata": {},
   "outputs": [],
   "source": [
    "# Create the directory if it doesn't exist\n",
    "if (!dir.exists(OUTPUT_DIR)) {\n",
    "  dir.create(OUTPUT_DIR)\n",
    "  message(\"Directory 'output' created.\")\n",
    "} else {\n",
    "  message(\"Directory 'output' already exists.\")\n",
    "}"
   ]
  },
  {
   "cell_type": "markdown",
   "id": "b4ece0a7-7b72-49e8-aac3-5b72b45bb8a8",
   "metadata": {},
   "source": [
    "#### Set Sample Names for Analysis"
   ]
  },
  {
   "cell_type": "code",
   "execution_count": null,
   "id": "0417c1c6-b3f4-4f5b-ba9f-acf1f17966b3",
   "metadata": {},
   "outputs": [],
   "source": [
    "# Get sample names\n",
    "sample_names <- list.dirs(\"/scratch/user/uqacause/files/GML_SkinAtlas/data/raw_data/\", recursive = F, full.names = F)\n",
    "\n",
    "print(sample_names)"
   ]
  },
  {
   "cell_type": "code",
   "execution_count": null,
   "id": "8f47e691-df2c-4a78-a864-62ab72fefdc5",
   "metadata": {},
   "outputs": [],
   "source": [
    "# Create list to store data \n",
    "data_list <- list()"
   ]
  },
  {
   "cell_type": "markdown",
   "id": "c74bd08d-83d6-461c-b010-aa524fc93275",
   "metadata": {},
   "source": [
    "These sample names will be used to load/store the processed data for each sample"
   ]
  },
  {
   "cell_type": "markdown",
   "id": "da704e66-5111-4fd3-bf2b-bca2a8f57fb1",
   "metadata": {
    "jp-MarkdownHeadingCollapsed": true
   },
   "source": [
    "## Read in data using *SpaMTP*"
   ]
  },
  {
   "cell_type": "code",
   "execution_count": null,
   "id": "975ddb78-6a63-4bb4-bd3c-eed54cc8d242",
   "metadata": {
    "scrolled": true
   },
   "outputs": [],
   "source": [
    "for (sample in sample_names) {\n",
    "    data_list[[sample]] <- LoadSM(name = sample, path = paste0(\"/scratch/user/uqacause/files/GML_SkinAtlas/data/raw_data/\", \"/\", sample, \"/\"), mass.range = c(900, 3500), resolution = 250, units = \"ppm\")\n",
    "}"
   ]
  },
  {
   "cell_type": "markdown",
   "id": "ba82b6f1-3ff1-4daf-bf3b-e8ddb3b0785a",
   "metadata": {},
   "source": [
    "Below is a printout of the loaded data. Each sample has 5433 m/z values and contain roughly between 66,000 and 170,000 pixels each."
   ]
  },
  {
   "cell_type": "code",
   "execution_count": null,
   "id": "055d5c14-f8e3-4772-b5f5-80834131291f",
   "metadata": {},
   "outputs": [],
   "source": [
    "saveRDS(data_list, \"/QRISdata/Q4427/glycomic_data/spamtp_data_objects.RDS\")"
   ]
  },
  {
   "cell_type": "markdown",
   "id": "bf06e55f-65e0-4a92-b3f3-8bf9fafcf281",
   "metadata": {
    "jp-MarkdownHeadingCollapsed": true
   },
   "source": [
    "## Individual Sample Analysis\n",
    "\n",
    "Each sample will be analysed indiviudally following a standard pipeline:\n",
    "1. Annotate the m/z values using SpaMTP against the LIPIDMAPS database\n",
    "2. Run PCA and clustering analysis using 30pc's and a resolution of 0.3\n",
    "3. Remove background noise from sample (outside of tissue) and rerun clustering\n",
    "4. Based on histological analysis identify the cluster which matches the cancer region\n",
    "5. Run differential metabolite abundance analysis to identify metabolites which are significantly up regulated by this cancer cluster"
   ]
  },
  {
   "cell_type": "markdown",
   "id": "6de0b806-0cfd-4cf8-b736-004ee9ad198f",
   "metadata": {},
   "source": [
    "#### Run Clustering Per Sample "
   ]
  },
  {
   "cell_type": "code",
   "execution_count": null,
   "id": "953dbfb2-374e-472b-bb88-6068bcd74cd3",
   "metadata": {
    "scrolled": true
   },
   "outputs": [],
   "source": [
    "## Annotate Each Sample\n",
    "for (sample in names(data_list)){\n",
    "    data_list[[sample]] <- AnnotateSM(data_list[[sample]], db = Lipidmaps_db, ppm_error = 5, polarity = \"positive\", return.only.annotated = F)\n",
    "}"
   ]
  },
  {
   "cell_type": "code",
   "execution_count": null,
   "id": "b33badf6-818f-4228-98ed-137371cc0315",
   "metadata": {},
   "outputs": [],
   "source": [
    "## Run PCA for each sample\n",
    "for (sample in names(data_list)){\n",
    "    data_list[[sample]] <- RunMetabolicPCA(SpaMTP = data_list[[sample]], assay = \"Spatial\")\n",
    "}"
   ]
  },
  {
   "cell_type": "code",
   "execution_count": null,
   "id": "05714d5c-e56b-4086-9033-0d172d4fe742",
   "metadata": {},
   "outputs": [],
   "source": [
    "## Cluster Each Sample\n",
    "for (sample in names(data_list)){\n",
    "    data_list[[sample]] <- FindNeighbors(data_list[[sample]], dims = 1:30, verbose = FALSE) # use the SpaMTP object generated from PCA Pathway Analysis\n",
    "    data_list[[sample]] <- RunUMAP(data_list[[sample]], dims = 1:30, verbose = FALSE)\n",
    "    data_list[[sample]] <- FindClusters(data_list[[sample]], resolution = 0.3, cluster.name = \"clusters_per_sample\", verbose = FALSE)\n",
    "}"
   ]
  },
  {
   "cell_type": "code",
   "execution_count": null,
   "id": "96006ba3-e044-4f4a-b2fd-4c5c4f31c97a",
   "metadata": {},
   "outputs": [],
   "source": [
    "## Plot each sample\n",
    "plots <- list()\n",
    "for (sample in names(data_list)){\n",
    "    if (sample != \"sample1\"){\n",
    "        plots[[sample]] <- ImageDimPlot(data_list[[sample]], size = 4) + theme_void()+ coord_flip()+ggplot2::scale_x_reverse()\n",
    "    } else {\n",
    "        plots[[sample]] <- ImageDimPlot(data_list[[sample]], size = 3)+ theme_void()\n",
    "    }\n",
    "}"
   ]
  },
  {
   "cell_type": "code",
   "execution_count": null,
   "id": "892d2b9d-8a5e-4490-956c-a03ff0178782",
   "metadata": {},
   "outputs": [],
   "source": [
    "options(repr.plot.width = 20, repr.plot.height = 10)\n",
    "\n",
    "plots[[1]]\n",
    "plots[[2]]\n",
    "plots[[3]]"
   ]
  },
  {
   "cell_type": "markdown",
   "id": "5d1fe666-8ab0-4d56-bd3a-40f1b2cec809",
   "metadata": {},
   "source": [
    "Based on the plots above we can see that there is some background outside the tissue. We will remove that and then continue the analysis"
   ]
  },
  {
   "cell_type": "code",
   "execution_count": null,
   "id": "45f3f878-00eb-4b4f-8d62-650bb4b14c9e",
   "metadata": {
    "scrolled": true
   },
   "outputs": [],
   "source": [
    "data_subset <- list()\n",
    "data_subset[[\"sample1\"]] <- subset(data_list[[\"sample1\"]], subset = clusters_per_sample %in% c(4, 6, 10, 12), invert = T)\n",
    "data_subset[[\"sample2\"]] <- subset(data_list[[\"sample2\"]], subset = clusters_per_sample %in% c(4, 10, 12), invert = T)\n",
    "data_subset[[\"sample3\"]] <- subset(data_list[[\"sample3\"]], subset = clusters_per_sample %in% c(1, 11, 8), invert = T)"
   ]
  },
  {
   "cell_type": "code",
   "execution_count": null,
   "id": "267db41a-870d-4a65-9ee9-a2dc24042b8a",
   "metadata": {},
   "outputs": [],
   "source": [
    "## Plot each sample\n",
    "plots <- list()\n",
    "for (sample in names(data_subset)){\n",
    "    if (sample != \"sample1\"){\n",
    "        plots[[sample]] <- ImageDimPlot(data_subset[[sample]], size = 4) + theme_void()+ coord_flip()+ggplot2::scale_x_reverse()\n",
    "    } else {\n",
    "        plots[[sample]] <- ImageDimPlot(data_subset[[sample]], size = 3)+ theme_void()\n",
    "    }\n",
    "}"
   ]
  },
  {
   "cell_type": "code",
   "execution_count": null,
   "id": "4c650c4b-7627-4712-aefa-21e307f960bd",
   "metadata": {},
   "outputs": [],
   "source": [
    "options(repr.plot.width = 20, repr.plot.height = 10)\n",
    "\n",
    "plots[[1]]\n",
    "plots[[2]]\n",
    "plots[[3]]"
   ]
  },
  {
   "cell_type": "code",
   "execution_count": null,
   "id": "aa8f8f3b-8cf4-4fb9-829b-79e286d8a00c",
   "metadata": {
    "scrolled": true
   },
   "outputs": [],
   "source": [
    "## Run PCA for each sample\n",
    "for (sample in names(data_subset)){\n",
    "    data_subset[[sample]] <- RunMetabolicPCA(SpaMTP = data_subset[[sample]], assay = \"Spatial\")\n",
    "}"
   ]
  },
  {
   "cell_type": "code",
   "execution_count": null,
   "id": "74eae230-49af-4472-a4c6-f0bca2e4d434",
   "metadata": {},
   "outputs": [],
   "source": [
    "## Cluster Each Sample\n",
    "for (sample in names(data_subset)){\n",
    "    data_subset[[sample]] <- FindNeighbors(data_subset[[sample]], dims = 1:30, verbose = FALSE) # use the SpaMTP object generated from PCA Pathway Analysis\n",
    "    data_subset[[sample]] <- RunUMAP(data_subset[[sample]], dims = 1:30, verbose = FALSE)\n",
    "    data_subset[[sample]] <- FindClusters(data_subset[[sample]], resolution = 0.3, cluster.name = \"clusters_per_sample_filtered\", verbose = FALSE)\n",
    "}"
   ]
  },
  {
   "cell_type": "code",
   "execution_count": null,
   "id": "744c2401-fe63-47cb-9269-b029267217e4",
   "metadata": {},
   "outputs": [],
   "source": [
    "## Plot each sample\n",
    "plots <- list()\n",
    "for (sample in names(data_subset)){\n",
    "    if (sample != \"sample1\"){\n",
    "        plots[[sample]] <- ImageDimPlot(data_subset[[sample]], size = 4, group.by = \"clusters_per_sample_filtered\") & theme_void()& coord_flip()&ggplot2::scale_x_reverse()|\n",
    "                            ImageDimPlot(data_subset[[sample]], size = 4, group.by = \"clusters_per_sample\") & theme_void()& coord_flip()&ggplot2::scale_x_reverse()\n",
    "    } else {\n",
    "        plots[[sample]] <- ImageDimPlot(data_subset[[sample]], size = 3, group.by = \"clusters_per_sample_filtered\") & theme_void()| \n",
    "                           ImageDimPlot(data_subset[[sample]], size = 3, group.by = \"clusters_per_sample\") & theme_void()\n",
    "    }\n",
    "}"
   ]
  },
  {
   "cell_type": "code",
   "execution_count": null,
   "id": "e0c6422b-ed30-4351-9553-b9611444f876",
   "metadata": {
    "scrolled": true
   },
   "outputs": [],
   "source": [
    "options(repr.plot.width = 30, repr.plot.height = 10)\n",
    "\n",
    "plots[[1]]\n",
    "plots[[2]]\n",
    "plots[[3]]"
   ]
  },
  {
   "cell_type": "markdown",
   "id": "1bb5fb71-55cf-4c8d-aa31-412e20e8a074",
   "metadata": {},
   "source": [
    "#### Identify Melanoma region"
   ]
  },
  {
   "cell_type": "code",
   "execution_count": null,
   "id": "ed4fa31d-ba74-4721-9f32-afa2c3e08cb0",
   "metadata": {},
   "outputs": [],
   "source": [
    "## Plot each sample\n",
    "plots <- list()\n",
    "for (sample in names(data_subset)){\n",
    "    if (sample != \"sample1\"){\n",
    "        plots[[sample]] <- ImageDimPlot(data_subset[[sample]], size = 3, split.by = \"clusters_per_sample_filtered\", dark.background = F)& coord_flip()&ggplot2::scale_x_reverse() | \n",
    "        ((ImageDimPlot(data_subset[[sample]], size = 3, group.by = \"clusters_per_sample_filtered\")& theme_void()& coord_flip()&ggplot2::scale_x_reverse() )/ DimPlot(data_subset[[sample]], group.by = \"clusters_per_sample_filtered\"))\n",
    "    } else {\n",
    "        plots[[sample]] <- ImageDimPlot(data_subset[[sample]], size = 2, split.by = \"clusters_per_sample_filtered\", dark.background = F)  |\n",
    "        ((ImageDimPlot(data_subset[[sample]], size = 2, group.by = \"clusters_per_sample_filtered\")& theme_void()) /DimPlot(data_subset[[sample]], group.by = \"clusters_per_sample_filtered\"))\n",
    "    }\n",
    "}"
   ]
  },
  {
   "cell_type": "code",
   "execution_count": null,
   "id": "d502d60c-6df0-43fc-9512-a46a5d1e0a47",
   "metadata": {},
   "outputs": [],
   "source": [
    "options(repr.plot.width = 30, repr.plot.height = 10)\n",
    "\n",
    "for (sample in names(plots)){\n",
    "    print(plots[[sample]])\n",
    "    #ggplot2::ggsave(plots[[sample]], filename = paste0(OUTPUT_DIR, sample, \"_individual_clustering_results.png\"), height = 10, width = 30, dpi = 500)\n",
    "}"
   ]
  },
  {
   "cell_type": "markdown",
   "id": "7d586c58-501b-4bbe-85b3-1d77bc9e31ca",
   "metadata": {},
   "source": [
    "Based on the plots above the melanoma clusters for each sample are:\n",
    "* Sample1 = cluster 6\n",
    "* Sample2 = cluster 8\n",
    "* Sample3 = cluster 6"
   ]
  },
  {
   "cell_type": "code",
   "execution_count": null,
   "id": "129e2a40-f8f0-4bf3-94eb-d5a635bf27c0",
   "metadata": {},
   "outputs": [],
   "source": [
    "melanoma_clusters <- list(\"6\", \"8\", \"6\")\n",
    "names(melanoma_clusters) <- names(data_subset)"
   ]
  },
  {
   "cell_type": "markdown",
   "id": "8c4a5aca-2ac9-45a0-9fed-cd96cece427c",
   "metadata": {},
   "source": [
    "## Identify Common Metabolites associated with Melanoma Region "
   ]
  },
  {
   "cell_type": "markdown",
   "id": "c624784f-9c4f-46b4-9c6d-c0c540d5bd56",
   "metadata": {},
   "source": [
    "First we will identify DE genes that are differentially expressed in each of the melanoma clusters"
   ]
  },
  {
   "cell_type": "code",
   "execution_count": null,
   "id": "21dac450-c654-4db1-975e-78f4ec439013",
   "metadata": {
    "scrolled": true
   },
   "outputs": [],
   "source": [
    "whole_de <- list()\n",
    "\n",
    "\n",
    "for (sample in names(data_subset)){\n",
    "    ## Plot each sample\n",
    "    whole_de[[sample]] <- FindAllDEMs(data_subset[[sample]], ident = \"clusters_per_sample_filtered\", return.individual = F) \n",
    "}\n",
    "\n"
   ]
  },
  {
   "cell_type": "code",
   "execution_count": null,
   "id": "057cb27f-d60d-46df-9c40-765d392d4e87",
   "metadata": {},
   "outputs": [],
   "source": [
    "merged_de <- whole_de"
   ]
  },
  {
   "cell_type": "code",
   "execution_count": null,
   "id": "88dd2c24-2812-4ca3-a508-d904f1a1d522",
   "metadata": {},
   "outputs": [],
   "source": [
    "merged_de[[1]]$DEMs <- NULL\n",
    "merged_de[[2]]$DEMs <- NULL\n",
    "merged_de[[3]]$DEMs <- NULL"
   ]
  },
  {
   "cell_type": "code",
   "execution_count": null,
   "id": "51a8d2a3-5003-42c9-9818-fc4d85c903af",
   "metadata": {},
   "outputs": [],
   "source": [
    "\n",
    "# Add prefixes to sample names in each DGEList object\n",
    "colnames(merged_de[[1]]$counts) <- paste0(\"s1_\", colnames(merged_de[[1]]$counts))\n",
    "colnames(merged_de[[2]]$counts) <- paste0(\"s2_\", colnames(merged_de[[2]]$counts))\n",
    "colnames(merged_de[[3]]$counts) <- paste0(\"s3_\", colnames(merged_de[[3]]$counts))\n",
    "\n",
    "merged_de[[1]]$samples$samp <- \"Sample 1\"\n",
    "merged_de[[2]]$samples$samp <- \"Sample 2\"\n",
    "merged_de[[3]]$samples$samp <- \"Sample 3\"\n",
    "\n",
    "\n",
    "\n",
    "# Merge the counts matrices from all DGEList objects\n",
    "dge_counts <- cbind(\n",
    "  merged_de[[1]]$counts,\n",
    "  merged_de[[2]]$counts,\n",
    "  merged_de[[3]]$counts\n",
    ")\n",
    "\n",
    "# If needed, you can also handle the `samples` data\n",
    "dge_samples <- rbind(\n",
    "  merged_de[[1]]$samples,\n",
    "  merged_de[[2]]$samples,\n",
    "  merged_de[[3]]$samples\n",
    ")\n",
    "\n",
    "# Create a new DGEList object with merged counts and samples\n",
    "dge <- edgeR::DGEList(counts = dge_counts, samples = dge_samples)\n"
   ]
  },
  {
   "cell_type": "code",
   "execution_count": null,
   "id": "a4b0544f-4aa5-473a-a339-d0d0e8d7098c",
   "metadata": {},
   "outputs": [],
   "source": [
    "significant_mz <- list()\n",
    "\n",
    "for (sample in names(whole_de)){\n",
    "    ## Plot each sample\n",
    "    first_10_genes <- whole_de[[1]]$DEMs[whole_de[[1]]$DEMs$regulate != \"Normal\",] %>%\n",
    "                      group_by(cluster) %>%          # Group by cluster\n",
    "                      slice_head(n = 10) %>%         # Select the first 10 rows for each cluster\n",
    "                      ungroup()      \n",
    "    significant_mz[[sample]] <- first_10_genes$gene\n",
    "}"
   ]
  },
  {
   "cell_type": "code",
   "execution_count": null,
   "id": "0d296f10-0c30-4538-b187-c17335d27dcd",
   "metadata": {
    "scrolled": true
   },
   "outputs": [],
   "source": [
    "edgeR_output <- dge\n",
    "n = 5\n",
    " only.pos = FALSE\n",
    " FDR.threshold = 0.05\n",
    " logfc.threshold = 0.5\n",
    " order.by = \"FDR\"\n",
    " scale =\"row\"\n",
    " color = grDevices::colorRampPalette(c(\"navy\", \"white\", \"red\"))(50)\n",
    " cluster_cols = T\n",
    " cluster_rows = T\n",
    " fontsize_row = 15\n",
    " fontsize_col = 15\n",
    " cutree_cols = 9\n",
    " silent = TRUE\n",
    " plot_annotations_column = NULL\n",
    " save_to_path = NULL\n",
    " plot.save.width = 20\n",
    " plot.save.height = 20\n",
    " nlabels.to.show = NULL\n",
    " annotation_colors = NULL\n",
    "\n",
    "  col_annot <- data.frame(sample = edgeR_output$samples$samp)\n",
    "  row.names(col_annot) <- colnames(as.data.frame(edgeR::cpm(edgeR_output,log=TRUE)))\n",
    "\n",
    "  if (!is.null(annotation_colors)){\n",
    "    annotation_colors <- list(sample = unlist(annotation_colors))\n",
    "  } else {\n",
    "    annotation_colors <- NA\n",
    "  }\n",
    "\n",
    "  mtx <- as.matrix(as.data.frame(edgeR::cpm(edgeR_output,log=TRUE))[unique(unlist(significant_mz)),])\n",
    "  if (!(is.null(plot_annotations_column))){\n",
    "    if (is.null(edgeR_output$DEMs[[plot_annotations_column]])){\n",
    "      warning(\"There are no annotations present in the edgeR_output object. Run 'annotate.SeuratMALDI()' prior to 'FindAllDEMs' and set annotations = TRUE .....\\n Heatmap will plot default m/z values ... \")\n",
    "    } else{\n",
    "      if (!is.null(nlabels.to.show)){\n",
    "        df[[plot_annotations_column]] <- labels_to_show(df[[plot_annotations_column]], n = nlabels.to.show)\n",
    "      }\n",
    "      rownames(mtx) <- unique(df[[plot_annotations_column]])\n",
    "    }\n",
    "  }\n",
    "    \n",
    "  p <- pheatmap::pheatmap(mtx,scale=scale,color=color,cluster_cols = cluster_cols, annotation_col=col_annot, cluster_rows = cluster_rows,\n",
    "                          fontsize_row = fontsize_row, fontsize_col = fontsize_col, cutree_cols = cutree_cols, silent = silent, annotation_colors = annotation_colors)\n"
   ]
  },
  {
   "cell_type": "code",
   "execution_count": null,
   "id": "d32e58a9-50a7-4876-bd30-75d2f5fece5b",
   "metadata": {},
   "outputs": [],
   "source": []
  },
  {
   "cell_type": "code",
   "execution_count": null,
   "id": "db4f4363-4ee4-4702-bcd6-6d92f7f2ac37",
   "metadata": {},
   "outputs": [],
   "source": [
    "colnames(mtx) <- unlist(lapply(colnames(mtx), function(x) { st <- strsplit(x, split = \"_\")[[1]]\n",
    "                                    label <- paste0(st[3], \"_\", st[4])\n",
    "                                   label}))"
   ]
  },
  {
   "cell_type": "code",
   "execution_count": null,
   "id": "3e47a443-8805-411b-bb20-2df55cf30394",
   "metadata": {},
   "outputs": [],
   "source": [
    "options(repr.plot.width = 30, repr.plot.height = 12)\n",
    "p"
   ]
  },
  {
   "cell_type": "code",
   "execution_count": null,
   "id": "65c8cbf0-3645-4797-b6ea-a011e9643fe4",
   "metadata": {},
   "outputs": [],
   "source": [
    "pdf(paste0(OUTPUT_DIR,\"combined_metabolite_de.pdf\"), width=30, height=12)\n",
    "grid::grid.newpage()\n",
    "grid::grid.draw(p$gtable)\n",
    "dev.off()"
   ]
  },
  {
   "cell_type": "code",
   "execution_count": null,
   "id": "e9b6aac2-508f-4533-9441-a23bd5e64620",
   "metadata": {
    "scrolled": true
   },
   "outputs": [],
   "source": [
    "DE_results <- list()\n",
    "\n",
    "for (sample in names(data_subset)){\n",
    "    ## Plot each sample\n",
    "    de <- FindAllDEMs(data_subset[[sample]], ident = \"clusters_per_sample_filtered\", return.individual = T) \n",
    "    names(de) <- unlist(lapply(1:length(de), function (x){unique(de[[x]]$DEMs$cluster)}))\n",
    "    melanoma_de <- de[[melanoma_clusters[[sample]]]]\n",
    "    melanoma_de$DEMs$cluster <- \"Melanoma\"\n",
    "    DE_results[[sample]] <- melanoma_de\n",
    "}"
   ]
  },
  {
   "cell_type": "code",
   "execution_count": null,
   "id": "8f7dd568-80ee-4886-ab65-e3f659f0c039",
   "metadata": {},
   "outputs": [],
   "source": [
    "options(repr.plot.width = 10, repr.plot.height = 10)\n",
    "DEMsHeatmap(DE_results[[\"sample1\"]], n = 100, only.pos = F)"
   ]
  },
  {
   "cell_type": "markdown",
   "id": "7081154d-e090-4474-8a94-ee116ef1301f",
   "metadata": {},
   "source": [
    "Now we can identify metabolites which are up regulated across all 3 samples"
   ]
  },
  {
   "cell_type": "code",
   "execution_count": null,
   "id": "ef42c38f-e220-4007-9b21-9c86e88df6c8",
   "metadata": {},
   "outputs": [],
   "source": [
    "UP_metabolites <- list()\n",
    "\n",
    "for (sample in names(DE_results)){\n",
    "    ## Plot each sample\n",
    "    df <- DE_results[[sample]]$DEMs\n",
    "    df <- df[df$regulate == \"Up\",]\n",
    "    UP_metabolites[[sample]] <- df$gene\n",
    "}"
   ]
  },
  {
   "cell_type": "code",
   "execution_count": null,
   "id": "30df8cba-124b-4f03-b350-6bc89307465c",
   "metadata": {},
   "outputs": [],
   "source": [
    "common_melanoma_markers <- Reduce(intersect, UP_metabolites)"
   ]
  },
  {
   "cell_type": "code",
   "execution_count": null,
   "id": "3ecde4b6-aa12-4b07-af33-bee8b9b7b1c4",
   "metadata": {},
   "outputs": [],
   "source": [
    "cat(paste0(\" There were \", length(common_melanoma_markers), \"which are named:\"))\n",
    "common_melanoma_markers"
   ]
  },
  {
   "cell_type": "markdown",
   "id": "236cf454-7c61-4156-83d4-4543b80285c0",
   "metadata": {},
   "source": [
    "## Spatially Plot the common metabolites"
   ]
  },
  {
   "cell_type": "code",
   "execution_count": null,
   "id": "17605cff-680f-4a88-bb9c-7fab754b10ff",
   "metadata": {},
   "outputs": [],
   "source": [
    "## Adding metadata annotations for only melanoma spots\n",
    "\n",
    "for (sample in names(data_subset)){\n",
    "    data_subset[[sample]]@meta.data$melanoma <- ifelse(data_subset[[sample]]@meta.data$clusters_per_sample_filtered == melanoma_clusters[[sample]], \"melanoma\", \"other\")\n",
    "}"
   ]
  },
  {
   "cell_type": "code",
   "execution_count": null,
   "id": "5f6074b6-09cb-46bf-a518-dcd3fb900166",
   "metadata": {
    "scrolled": true
   },
   "outputs": [],
   "source": [
    "## Plot each sample\n",
    "\n",
    "spatial_plots <- list()\n",
    "dim_plots <- list()\n",
    "\n",
    "for (sample in names(data_subset)){\n",
    "    if (sample != \"sample1\"){\n",
    "        spatial_plots[[sample]] <- ImageFeaturePlot(data_subset[[sample]], features = common_melanoma_markers) & theme_void()& coord_flip()&ggplot2::scale_x_reverse()&scale_fill_gradientn(colors = inferno(100))\n",
    "    } else {\n",
    "        spatial_plots[[sample]] <- ImageFeaturePlot(data_subset[[sample]], features = common_melanoma_markers)& theme_void()&scale_fill_gradientn(colors = inferno(100))\n",
    "    }\n",
    "    \n",
    "    dim_plots[[sample]] <- FeaturePlot(data_subset[[sample]], features = common_melanoma_markers, ncol = 5, slot = \"counts\")&scale_colour_gradientn(colors = inferno(100))\n",
    "    ggsave(dim_plots[[sample]], filename = paste0(OUTPUT_DIR, sample, \"_melanoma_markers_UMAP.png\"), height = 20, width = 25, dpi = 500)\n",
    "    ggsave(spatial_plots[[sample]], filename = paste0(OUTPUT_DIR, sample, \"_melanoma_markers_spatial.png\"), height = 12, width = 35, dpi = 500)\n",
    "        \n",
    "}"
   ]
  },
  {
   "cell_type": "code",
   "execution_count": null,
   "id": "8ef0ea51-b317-4b0e-87d7-b04223c89195",
   "metadata": {
    "scrolled": true
   },
   "outputs": [],
   "source": [
    "options(repr.plot.width = 35, repr.plot.height = 12)\n",
    "spatial_plots[[1]]\n",
    "\n",
    "options(repr.plot.width = 25, repr.plot.height = 20)\n",
    "dim_plots[[1]]"
   ]
  },
  {
   "cell_type": "code",
   "execution_count": null,
   "id": "907e54e2-2a5b-4615-afec-dd4fe0073ee4",
   "metadata": {},
   "outputs": [],
   "source": [
    "plots <- list()\n",
    "\n",
    "mz <- common_melanoma_markers[1]\n",
    "\n",
    "for (sample in names(data_subset)){\n",
    "    if (sample != \"sample1\"){\n",
    "        plots[[sample]] <- ImageFeaturePlot(data_subset[[sample]], features = mz, size = 3) & theme_void()& coord_flip()&ggplot2::scale_x_reverse()&scale_fill_gradientn(colors = inferno(100))|\n",
    "                            ImageDimPlot(data_subset[[sample]], size = 3, group.by = \"melanoma\", cols = list(\"melanoma\" = \"red\", \"other\" = \"grey\"))& theme_void()& coord_flip()&ggplot2::scale_x_reverse()\n",
    "    } else {\n",
    "        plots[[sample]] <- ImageFeaturePlot(data_subset[[sample]], features = mz, size = 2)& theme_void()&scale_fill_gradientn(colors = inferno(100))|\n",
    "                            ImageDimPlot(data_subset[[sample]], size = 2, group.by = \"melanoma\", cols = list(\"melanoma\" = \"red\", \"other\" = \"grey\"))& theme_void()\n",
    "    }\n",
    "}"
   ]
  },
  {
   "cell_type": "code",
   "execution_count": null,
   "id": "637ee3c0-6ccb-487d-afef-709bda2b8b9a",
   "metadata": {
    "scrolled": true
   },
   "outputs": [],
   "source": [
    "options(repr.plot.width = 30, repr.plot.height = 10)\n",
    "\n",
    "for (sample in names(plots)){\n",
    "    print(plots[[sample]])\n",
    "    #ggplot2::ggsave(plots[[sample]], filename = paste0(OUTPUT_DIR, sample, \"_individual_clustering_results.png\"), height = 10, width = 30, dpi = 500)\n",
    "}"
   ]
  },
  {
   "cell_type": "code",
   "execution_count": null,
   "id": "f07530fc-41af-4ff2-9cb0-457fcb9e30ff",
   "metadata": {},
   "outputs": [],
   "source": [
    "common_melanoma_markers = c('mz-1583.89893435206', 'mz-1585.08730414198', 'mz-1744.79921812841', 'mz-1746.98158085498', 'mz-1422.81810614908', 'mz-1421.75139263149', 'mz-1581.92029757944', 'mz-2068.11897965862', 'mz-1746.10830839632', 'mz-1743.92703657837', 'mz-1909.11443559991', 'mz-1908.16011697668', 'mz-1583.10718283514', 'mz-2069.1532977118', 'mz-1743.05529101009', 'mz-1907.20627539349', 'mz-1745.23547246474', 'mz-1906.25291061188', 'mz-1584.29495858868', 'mz-1905.30002239352', 'mz-2070.18813305333', 'mz-1582.31582709502', 'mz-1421.04069462078', 'mz-1422.10687491493', 'mz-1419.97531366206', 'mz-1258.77557936752', 'mz-1744.36307284204', 'mz-1705.1268173896')"
   ]
  },
  {
   "cell_type": "code",
   "execution_count": null,
   "id": "1b8b7d77-01b2-46ad-8e9f-5ee7ddbac842",
   "metadata": {
    "scrolled": true
   },
   "outputs": [],
   "source": [
    "melanoma_marker_annotations <- data_subset[[1]]@assays$Spatial@meta.data[data_subset[[1]]@assays$Spatial@meta.data$mz_names %in% common_melanoma_markers,]\n",
    "melanoma_marker_annotations"
   ]
  },
  {
   "cell_type": "code",
   "execution_count": null,
   "id": "970684a2-67b5-4fb9-a2b1-11fc9808a73f",
   "metadata": {},
   "outputs": [],
   "source": [
    "write.csv(melanoma_marker_annotations, paste0(OUTPUT_DIR, \"common_melanoma_metabolites.csv\"))"
   ]
  },
  {
   "cell_type": "code",
   "execution_count": null,
   "id": "a193ae36-d0e5-4055-97aa-2f4fc6629a45",
   "metadata": {},
   "outputs": [],
   "source": [
    "saveRDS(data_subset, paste0(OUTPUT_DIR, \"processed_data_objects.RDS\"))"
   ]
  },
  {
   "cell_type": "code",
   "execution_count": null,
   "id": "89d4473e-ea60-43d1-94c0-c4a00f17e636",
   "metadata": {},
   "outputs": [],
   "source": [
    "UP_metabolites"
   ]
  },
  {
   "cell_type": "code",
   "execution_count": null,
   "id": "352b3305-a351-4ce1-9bfa-294e598926bd",
   "metadata": {},
   "outputs": [],
   "source": [
    "library(ggVennDiagram)"
   ]
  },
  {
   "cell_type": "code",
   "execution_count": null,
   "id": "63cf235d-14dc-4733-b939-f8a72af47ea4",
   "metadata": {},
   "outputs": [],
   "source": [
    "options(repr.plot.width = 10, repr.plot.height = 10)\n",
    "p <- ggVennDiagram(UP_metabolites) + scale_fill_distiller(palette = \"Reds\", direction = 1)\n",
    "p\n",
    "\n",
    "#ggplot2::ggsave(p, filename = paste0(OUTPUT_DIR, \"_upregulated_metabolite_vendiagram.pdf\"), height = 10, width = 10)"
   ]
  },
  {
   "cell_type": "markdown",
   "id": "ff5a6ccf-7251-4316-8305-524e9cdfd31c",
   "metadata": {},
   "source": [
    "## Publication Images"
   ]
  },
  {
   "cell_type": "code",
   "execution_count": null,
   "id": "b5bdbdb6-dfe4-4df9-b439-dc35aa5a2c40",
   "metadata": {},
   "outputs": [],
   "source": [
    "data_subset <- readRDS(paste0(OUTPUT_DIR, \"processed_data_objects.RDS\"))"
   ]
  },
  {
   "cell_type": "code",
   "execution_count": null,
   "id": "3d8b2848-9c13-4b9d-ae4e-12d71f86019f",
   "metadata": {},
   "outputs": [],
   "source": [
    "## Plot each sample\n",
    "p1 <- ImageDimPlot(data_subset[[1]], size = 3, split.by = \"clusters_per_sample_filtered\", dark.background = F, cols = list()& coord_flip()&ggplot2::scale_x_reverse() | \n",
    "        ((ImageDimPlot(data_subset[[sample]], size = 3, group.by = \"clusters_per_sample_filtered\")& theme_void()& coord_flip()&ggplot2::scale_x_reverse() )/ DimPlot(data_subset[[sample]], group.by = \"clusters_per_sample_filtered\"))\n",
    "    } else {\n",
    "        plots[[sample]] <- ImageDimPlot(data_subset[[sample]], size = 2, split.by = \"clusters_per_sample_filtered\", dark.background = F)  |\n",
    "        ((ImageDimPlot(data_subset[[sample]], size = 2, group.by = \"clusters_per_sample_filtered\")& theme_void()) /DimPlot(data_subset[[sample]], group.by = \"clusters_per_sample_filtered\"))\n",
    "    }\n",
    "}"
   ]
  },
  {
   "cell_type": "code",
   "execution_count": null,
   "id": "79660609-e47a-4bb4-a2d5-944288e46505",
   "metadata": {},
   "outputs": [],
   "source": [
    "options(repr.plot.width = 10, repr.plot.height = 10)\n",
    "ImageDimPlot(data_subset[[1]], size = 2, split.by = \"clusters_per_sample_filtered\", dark.background = F, cols = list(\"0\" = \"#6e246e\",\n",
    "                                                                                                                    \"1\" = \"#db86db\",\n",
    "                                                                                                                    \"2\" = \"#e0bcf7\",\n",
    "                                                                                                                    \"3\" = \"#bcdef7\",\n",
    "                                                                                                                    \"4\" = \"#2594e6\",\n",
    "                                                                                                                    \"5\" = \"#8659a5\",\n",
    "                                                                                                                    \"6\" = \"#9cd089\",\n",
    "                                                                                                                    \"7\" = \"#d92a28\",\n",
    "                                                                                                                    \"8\" = \"#e61ce6\"))"
   ]
  },
  {
   "cell_type": "code",
   "execution_count": null,
   "id": "78f26585-bbf6-4436-b970-f001964b29e0",
   "metadata": {},
   "outputs": [],
   "source": [
    "options(repr.plot.width = 20, repr.plot.height = 10)\n",
    "p <- ImageDimPlot(data_subset[[1]], size = 1.6, group.by = \"clusters_per_sample_filtered\", dark.background = F, cols = list(\"0\" = \"#6e246e\",\n",
    "                                                                                                                    \"1\" = \"#db86db\",\n",
    "                                                                                                                    \"2\" = \"#e0bcf7\",\n",
    "                                                                                                                    \"3\" = \"#bcdef7\",\n",
    "                                                                                                                    \"4\" = \"#2594e6\",\n",
    "                                                                                                                    \"5\" = \"#8659a5\",\n",
    "                                                                                                                    \"6\" = \"#9cd089\",\n",
    "                                                                                                                    \"7\" = \"#d92a28\",\n",
    "                                                                                                                    \"8\" = \"#e61ce6\"))&theme_void()\n",
    "p\n",
    "ggsave(p, filename = paste0(OUTPUT_DIR, \"sample1_spatial_clusters.png\"), height = 10, width = 20, dpi = 1000)"
   ]
  },
  {
   "cell_type": "code",
   "execution_count": null,
   "id": "53e4423a-0cb6-4031-8fba-ff77af4afa15",
   "metadata": {},
   "outputs": [],
   "source": [
    "options(repr.plot.width = 25, repr.plot.height = 10)\n",
    "p <- ImageDimPlot(data_subset[[2]], size = 1.2, group.by = \"clusters_per_sample_filtered\",  dark.background = F, cols = list(\"0\" = \"#6e246e\",\n",
    "                                                                                                                    \"1\" = \"#db86db\",\n",
    "                                                                                                                    \"2\" = \"#198a17\",\n",
    "                                                                                                                    \"3\" = \"#bcdef7\",\n",
    "                                                                                                                    \"4\" = \"#2594e6\",\n",
    "                                                                                                                    \"5\" = \"#8659a5\",\n",
    "                                                                                                                    \"6\" = \"grey\",\n",
    "                                                                                                                    \"7\" = \"#edeb6b\",\n",
    "                                                                                                                    \"8\" = \"#9cd089\",\n",
    "                                                                                                                      \"9\" = \"blue\",\n",
    "                                                                                                                      \"10\" = \"#d92a28\",\n",
    "                                                                                                                      \"11\" = \"#e0bcf7\",\n",
    "                                                                                                                      \"12\" = \"#e61ce6\"))& theme_void()& coord_flip()&ggplot2::scale_x_reverse()\n",
    "p\n",
    "ggsave(p, filename = paste0(OUTPUT_DIR, \"sample2_spatial_clusters.png\"), height = 10, width = 25, dpi = 1000)"
   ]
  },
  {
   "cell_type": "code",
   "execution_count": null,
   "id": "0006c076-4104-4f5f-9bfd-4b6505af889e",
   "metadata": {},
   "outputs": [],
   "source": [
    "ImageDimPlot(data_subset[[3]], size = 1.4, split.by = \"clusters_per_sample_filtered\", dark.background = F, cols = list(\"0\" = \"#6e246e\",\n",
    "                                                                                                                    \"1\" = \"#db86db\",\n",
    "                                                                                                                    \"2\" = \"#198a17\",\n",
    "                                                                                                                    \"3\" = \"#bcdef7\",\n",
    "                                                                                                                    \"4\" = \"#d92a28\",\n",
    "                                                                                                                    \"5\" = \"#8659a5\",\n",
    "                                                                                                                    \"6\" = \"#9cd089\",\n",
    "                                                                                                                    \"7\" = \"#2594e6\",\n",
    "                                                                                                                    \"8\" = \"#e61ce6\"))& theme_void()& coord_flip()&ggplot2::scale_x_reverse()"
   ]
  },
  {
   "cell_type": "code",
   "execution_count": null,
   "id": "dedbcc0b-ae24-48a8-86f7-e7334dfcf5f6",
   "metadata": {},
   "outputs": [],
   "source": [
    "options(repr.plot.width = 25, repr.plot.height = 10)\n",
    "p <- ImageDimPlot(data_subset[[3]], size = 1.3, group.by = \"clusters_per_sample_filtered\", dark.background = F, cols = list(\"0\" = \"#6e246e\",\n",
    "                                                                                                                    \"1\" = \"#db86db\",\n",
    "                                                                                                                    \"2\" = \"#f0788c\",\n",
    "                                                                                                                    \"3\" = \"#2594e6\",\n",
    "                                                                                                                    \"4\" = \"#d92a28\",\n",
    "                                                                                                                    \"5\" = \"#8659a5\",\n",
    "                                                                                                                    \"6\" = \"#9cd089\",\n",
    "                                                                                                                    \"7\" = \"#bcdef7\",\n",
    "                                                                                                                    \"8\" = \"#e61ce6\"))& theme_void()& coord_flip()&ggplot2::scale_x_reverse() &  scale_shape_manual(values=c(15))\n",
    "p\n",
    "ggsave(p, filename = paste0(OUTPUT_DIR, \"sample3_spatial_clusters.png\"), height = 10, width = 25, dpi = 1000)"
   ]
  },
  {
   "cell_type": "code",
   "execution_count": null,
   "id": "913884c0-2f85-43d9-9bc8-7e8ccd535c02",
   "metadata": {
    "scrolled": true
   },
   "outputs": [],
   "source": [
    "annotated_mzs <- melanoma_marker_annotations[melanoma_marker_annotations$all_IsomerNames != \"No Annotation\",]$mz_names\n",
    "melanoma_marker_annotations[melanoma_marker_annotations$all_IsomerNames != \"No Annotation\",]"
   ]
  },
  {
   "cell_type": "code",
   "execution_count": null,
   "id": "5a8a5217-e2d2-40cd-956c-afffaf52b92a",
   "metadata": {},
   "outputs": [],
   "source": [
    "which(annotated_mzs == annotated_mzs[c(2)])"
   ]
  },
  {
   "cell_type": "code",
   "execution_count": null,
   "id": "97a064ac-f94e-45b1-8cec-04399bf03997",
   "metadata": {
    "scrolled": true
   },
   "outputs": [],
   "source": [
    "## Plot each sample\n",
    "\n",
    "spatial_plots <- list()\n",
    "dim_plots <- list()\n",
    "\n",
    "for (sample in names(data_subset)){\n",
    "    p <- list()\n",
    "    if (sample != \"sample1\"){\n",
    "        for (mz in annotated_mzs[c(2, 3, 6, 7)]){\n",
    "            p[[mz]] <- ImageFeaturePlot(data_subset[[sample]], features = mz) & theme_void()& coord_flip()&ggplot2::scale_x_reverse()&scale_fill_gradientn(colors = inferno(100))\n",
    "            ggsave(p[[mz]], filename = paste0(OUTPUT_DIR, sample,\"_mz_\", which(annotated_mzs == mz), \"_melanoma_markers_spatial.png\"),height = 5, width = 10, dpi = 1200)\n",
    "        }\n",
    "        \n",
    "    } else {\n",
    "        for (mz in annotated_mzs[c(2,3, 6, 7)]){\n",
    "            p[[mz]] <- ImageFeaturePlot(data_subset[[sample]], features = mz)& theme_void()&scale_fill_gradientn(colors = inferno(100))\n",
    "            ggsave(p[[mz]], filename = paste0(OUTPUT_DIR, sample,\"_mz_\", which(annotated_mzs == mz), \"_melanoma_markers_spatial.png\"),height = 5, width = 10, dpi = 1200)\n",
    "        }\n",
    "    }\n",
    "    spatial_plots[[sample]] <- Reduce(\"|\", p)\n",
    "    #dim_plots[[sample]] <- FeaturePlot(data_subset[[sample]], features = annotated_mzs, ncol = 5, slot = \"counts\")&scale_colour_gradientn(colors = inferno(100))\n",
    "    #ggsave(dim_plots[[sample]], filename = paste0(OUTPUT_DIR, sample, \"_melanoma_markers_UMAP.png\"), height = 20, width = 25, dpi = 500)\n",
    "    #ggsave(spatial_plots[[sample]], filename = paste0(OUTPUT_DIR, sample, \"_melanoma_markers_spatial.png\"), height = 12, width = 35, dpi = 500)\n",
    "        \n",
    "}"
   ]
  },
  {
   "cell_type": "code",
   "execution_count": null,
   "id": "ceb4ead9-b5a1-46fe-b39b-93138192ef83",
   "metadata": {},
   "outputs": [],
   "source": [
    "options(repr.plot.width = 30, repr.plot.height = 5)\n",
    "spatial_plots[[1]]\n",
    "ggsave(spatial_plots[[1]], filename = paste0(OUTPUT_DIR, \"sample1_melanoma_markers_spatial.pdf\"), height = 5, width = 30, dpi = 1000)\n",
    "options(repr.plot.width = 30, repr.plot.height = 4)\n",
    "spatial_plots[[2]]\n",
    "ggsave(spatial_plots[[2]], filename = paste0(OUTPUT_DIR, \"sample2_melanoma_markers_spatial.pdf\"), height = 4, width = 30, dpi = 1000)\n",
    "options(repr.plot.width = 30, repr.plot.height = 4)\n",
    "spatial_plots[[3]]\n",
    "ggsave(spatial_plots[[3]], filename = paste0(OUTPUT_DIR, \"sample3_melanoma_markers_spatial.pdf\"), height = 4, width = 30, dpi = 1000)"
   ]
  },
  {
   "cell_type": "code",
   "execution_count": null,
   "id": "649725b7-d5d1-4e20-86a0-36840f578dc5",
   "metadata": {},
   "outputs": [],
   "source": [
    "options(repr.plot.width = 10, repr.plot.height = 5)\n",
    "\n",
    "p[[1]]"
   ]
  },
  {
   "cell_type": "code",
   "execution_count": null,
   "id": "9f6e4c28-36f0-427f-b0f2-12eefe0f6d7c",
   "metadata": {},
   "outputs": [],
   "source": []
  },
  {
   "cell_type": "code",
   "execution_count": null,
   "id": "b057b33e-ff23-4257-97fb-1bb634976220",
   "metadata": {},
   "outputs": [],
   "source": [
    "sessionInfo()"
   ]
  },
  {
   "cell_type": "code",
   "execution_count": null,
   "id": "8b0e7c20-a8be-4cd4-b2dc-ba2815b07406",
   "metadata": {},
   "outputs": [],
   "source": []
  }
 ],
 "metadata": {
  "kernelspec": {
   "display_name": "R",
   "language": "R",
   "name": "ir"
  },
  "language_info": {
   "codemirror_mode": "r",
   "file_extension": ".r",
   "mimetype": "text/x-r-source",
   "name": "R",
   "pygments_lexer": "r",
   "version": "4.4.2"
  }
 },
 "nbformat": 4,
 "nbformat_minor": 5
}
