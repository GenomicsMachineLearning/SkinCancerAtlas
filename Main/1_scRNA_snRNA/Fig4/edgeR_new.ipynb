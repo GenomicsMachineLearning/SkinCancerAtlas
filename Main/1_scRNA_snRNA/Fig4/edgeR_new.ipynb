{
 "cells": [
  {
   "cell_type": "code",
   "id": "a420def9-00d9-45ac-8c1d-ddecdbd20ad5",
   "metadata": {
    "scrolled": true,
    "vscode": {
     "languageId": "r"
    }
   },
   "source": [
    "library(edgeR)\n",
    "library(Seurat)\n",
    "library(dplyr)\n",
    "library(tidyr)"
   ],
   "outputs": [],
   "execution_count": null
  },
  {
   "cell_type": "code",
   "id": "b7b2cfda-0699-42d4-bae5-bc40b65cd77a",
   "metadata": {
    "vscode": {
     "languageId": "r"
    }
   },
   "source": [
    "#  decideTestsDGE.R\n",
    "\n",
    "decideTests.DGEExact <- decideTests.DGELRT <- function(object,adjust.method=\"BH\",p.value=0.05,lfc=0,...)\n",
    "{\n",
    "\tdecideTestsDGE(object=object,adjust.method=adjust.method,p.value=p.value,lfc=lfc)\n",
    "}\n",
    "\n",
    "decideTestsDGE <- function(object,adjust.method=\"BH\",p.value=0.05,lfc=0)\n",
    "#\tAccept or reject hypothesis tests across genes and contrasts\n",
    "#\tedgeR team. Original author was Davis McCarthy.\n",
    "#\tCreated 15 August 2010. Last modified 15 July 2018.\n",
    "{\n",
    "#\tCheck object class\n",
    "\tif( !(is(object,\"DGEExact\") || is(object,\"DGELRT\")) ) stop(\"Need DGEExact or DGELRT object\")\n",
    "\n",
    "#\tApply multiple testing\n",
    "\tp <- object$table$PValue\n",
    "\tp <- p.adjust(p, method=adjust.method)\n",
    "\tisDE <- as.integer(p < p.value)\n",
    "\n",
    "#\tExtract logFC\n",
    "\tlogFC <- object$table$logFC\n",
    "\n",
    "#\tCheck for F-test with multiple logFC columns\n",
    "\tFTest <- is.null(logFC)\n",
    "\n",
    "#\tWith multiple contrasts, apply lfc threshold to maximum logFC\n",
    "\tif(FTest) {\n",
    "\t\tif(lfc>0) {\n",
    "\t\t\tcoef.col <- grep(\"^logFC\",colnames(object$table))\n",
    "\t\t\tlogFC <- object$table[,coef.col]\n",
    "\t\t\tSmallFC <- rowSums(abs(logFC) >= lfc) == 0\n",
    "\t\t\tisDE[SmallFC] <- 0L\n",
    "\t\t}\n",
    "\n",
    "#\tWith single contrast, apply directionality and lfc threshold\n",
    "\t} else {\n",
    "\t\tisDE[isDE & logFC<0] <- -1L\n",
    "\t\tSmallFC <- (abs(logFC) < lfc)\n",
    "\t\tisDE[SmallFC] <- 0L\n",
    "\t}\n",
    "\n",
    "#\tAssemble TestResults object\n",
    "\tisDE <- matrix(isDE, ncol=1)\n",
    "\trow.names(isDE) <- row.names(object)\n",
    "\tcolnames(isDE) <- paste(rev(object$comparison),collapse=\"-\")\n",
    "\n",
    "#\tRecord possible values\n",
    "\tif(FTest) {\n",
    "\t\tattr(isDE,\"levels\") <- c(0L,1L)\n",
    "\t\tattr(isDE,\"labels\") <- c(\"NotSig\",\"Sig\")\n",
    "\t} else {\n",
    "\t\tattr(isDE,\"levels\") <- c(-1L,0L,1L)\n",
    "\t\tattr(isDE,\"labels\") <- c(\"Down\",\"NotSig\",\"Up\")\n",
    "\t}\t\t\n",
    "\n",
    "\tnew(\"TestResults\", isDE)\n",
    "}"
   ],
   "outputs": [],
   "execution_count": null
  },
  {
   "cell_type": "markdown",
   "id": "f8334503-37db-4c84-b39f-bca8c6e40618",
   "metadata": {},
   "source": [
    "## SCC BCC Finding KC Cancer"
   ]
  },
  {
   "cell_type": "code",
   "id": "4eb37601-7b54-483a-a6a7-27207630e833",
   "metadata": {
    "vscode": {
     "languageId": "r"
    }
   },
   "source": [
    "scc_bcc<-readRDS(\"/QRISdata/Q2051/SCC_Paper/resources/data/scc_bcc_sc.rds\")\n",
    "m<-read.csv(\"skin_atlas/SCC_final_object_Nov1_metadata.txt\",sep=\"\\t\")"
   ],
   "outputs": [],
   "execution_count": null
  },
  {
   "cell_type": "code",
   "id": "850b6bdf-8972-42c8-993a-fade6c77e86d",
   "metadata": {
    "vscode": {
     "languageId": "r"
    }
   },
   "source": [
    "matching_cells <- colnames(scc_bcc)\n",
    "\n",
    "# Subset meta_df to include only matching cells\n",
    "filtered_meta_df <- m[m$X %in% matching_cells, ]  # Replace 'cell_name' with your actual cell identifier column\n",
    "\n",
    "# Check if the filtered metadata has the same cell names as in seurat_obj\n",
    "filtered_meta_df <- filtered_meta_df[match(matching_cells, filtered_meta_df$X), ]\n"
   ],
   "outputs": [],
   "execution_count": null
  },
  {
   "cell_type": "code",
   "id": "09f5e35e-3a11-40f0-bc57-a76dcc1a9336",
   "metadata": {
    "vscode": {
     "languageId": "r"
    }
   },
   "source": [
    "scc_bcc@meta.data$cancer_status_corrected<-filtered_meta_df$cancer_status\n",
    "scc_bcc@meta.data$sample_ident_corrected<-filtered_meta_df$sample_ID\n",
    "scc_bcc@meta.data$Level1<-filtered_meta_df$Level1_Final\n",
    "scc_bcc@meta.data$Level2<-filtered_meta_df$Level2_Cancer\n",
    "scc_bcc@meta.data$Level3<-filtered_meta_df$Level3_Cancer\n",
    "scc_bcc@meta.data$cell_types<-filtered_meta_df$Level3_final\n",
    "scc_bcc@meta.data$leiden_KC<-filtered_meta_df$KC_leiden_R\n",
    "\n",
    "KC_cells<-rownames(scc_bcc@meta.data[grep(\"^KC\", scc_bcc@meta.data$Level1),])\n",
    "KC_only <- subset(scc_bcc, cells = KC_cells, value = TRUE)\n",
    "cancer_samples<-rownames(KC_only@meta.data[grep(\"Cancer\", KC_only@meta.data$cancer_status_corrected),])\n",
    "cancer_only <- subset(KC_only, cells = cancer_samples, value = TRUE)\n",
    "filt<-rownames(cancer_only@meta.data[grep(\"Cancer|Normal\", cancer_only@meta.data$`X2CNV_mod0.5`),])\n",
    "cancer <- subset(cancer_only, cells = filt, value = TRUE)"
   ],
   "outputs": [],
   "execution_count": null
  },
  {
   "cell_type": "code",
   "id": "f351f169-6f4f-4cbc-a3a7-44817db1f3d3",
   "metadata": {
    "vscode": {
     "languageId": "r"
    }
   },
   "source": [
    "names(KC_only@meta.data)"
   ],
   "outputs": [],
   "execution_count": null
  },
  {
   "cell_type": "code",
   "id": "30d22edb-f9c2-46ec-b600-184db6933595",
   "metadata": {
    "vscode": {
     "languageId": "r"
    }
   },
   "source": [
    "y<-Seurat2PB(KC_only,sample=\"cancer_status_corrected\", cluster = \"cell_types\")\n",
    "y<-normLibSizes(y)\n",
    "donor<-factor(y$sample$sample)\n",
    "design<-model.matrix(~donor)\n",
    "colnames(design)<-gsub(\"donor\",\"\",colnames(design))\n",
    "#colnames(design)<-gsub(\"cluster\",\"\",colnames(design))\n",
    "colnames(design)[1]<-\"Int\"\n",
    "y<-estimateDisp(y,design,robust=TRUE)\n",
    "y$common.dispersion \n",
    "fit<-glmQLFit(y,design,robust=TRUE) \n",
    "ncls<-nlevels(donor) \n",
    "contr<-rbind(matrix(1/(1-ncls),ncls,ncls), +matrix(0,ncol(design)-ncls,ncls)) \n",
    "diag(contr)<-1 \n",
    "contr[1,]<-0 \n",
    "rownames(contr)<-colnames(design) \n",
    "colnames(contr)<-colnames(design)\n",
    "qlf<-list() \n",
    "for(i in 1:ncls){ \n",
    "  qlf[[i]]<-glmQLFTest(fit,contrast=contr[,i]) \n",
    "  qlf[[i]]$comparison<-paste0(levels(donor)[i],\"_vs_others\") \n",
    "}\n",
    "options(repr.plot.width = 6, repr.plot.height = 6)\n",
    "cluster<-as.factor(y$samples$cluster) \n",
    "#pdf(\"MDS_edgeR_SCC_KC_only_corrected_labels.pdf\")\n",
    "#plotMDS(y,pch=16,col=c(2:8)[cluster],main=\"MDS\") \n",
    "#legend(\"topleft\",legend=paste0(levels(cluster)), pch=14,col=2:8,cex=0.8)\n",
    "#dev.off()\n",
    "#plotMDS(y,pch=16,col=c(2:8)[cluster],main=\"MDS\") \n",
    "#pdf(\"dispersion.pdf\")\n",
    "#plotBCV(y)\n",
    "#dev.off()\n",
    "\n",
    "#pdf(\"QLdisp.pdf\")\n",
    "#plotQLDisp(fit)\n",
    "#dev.off()\n",
    "\n",
    "dt<-lapply(lapply(qlf,decideTestsDGE),summary) \n",
    "dt.all<-do.call(\"cbind\",dt) \n",
    "head(dt.all)\n",
    "#write.table(dt.all,\"KC_only_cluster_wise_stats_labels_corrected.txt\",sep=\"\\t\",quote=FALSE,row.names=TRUE)\n",
    "\n"
   ],
   "outputs": [],
   "execution_count": null
  },
  {
   "cell_type": "code",
   "id": "f6f8f359-973e-4089-b15d-e4a4947eaca3",
   "metadata": {
    "vscode": {
     "languageId": "r"
    }
   },
   "source": [
    "#top<-20\n",
    "#topMarkers<-list()\n",
    "#for(i in 1:ncls){ \n",
    "#  ord<-order(qlf[[i]]$table$PValue,decreasing=FALSE) \n",
    "#  up<-qlf[[i]]$table$logFC>0 \n",
    "#  topMarkers[[i]]<-rownames(y)[ord[up][1:top]] \n",
    "#} \n",
    "#topMarkers<-unique(unlist(topMarkers)) \n",
    "#write.table(topMarkers,\"KC_only_SCC_topmarkers_edger.txt\",sep=\"\\t\",row.names = TRUE, quote = FALSE)\n",
    "\n",
    "top<-50\n",
    "topMarkers<-list()\n",
    "for (i in 1:ncls) { \n",
    "  ord <- order(qlf[[i]]$table$PValue, decreasing = FALSE) \n",
    "  up <- qlf[[i]]$table$logFC > 0 \n",
    "  selected_genes <- rownames(y)[ord[up]]  \n",
    "  # Remove genes starting with \"RPS\" or \"RPL\"\n",
    "  selected_genes <- selected_genes[!grepl(\"^RPS|^RPL|^LINC\", selected_genes)]  \n",
    "  # Take the top 50 genes after filtering\n",
    "  topMarkers[[i]] <- head(selected_genes, top)\n",
    "} \n",
    "topMarkers <- unique(unlist(topMarkers))\n",
    "\n",
    "\n",
    "\n",
    "ord<-order(qlf[[1]]$table$PValue,decreasing=FALSE) \n",
    "up<-qlf[[1]]$table$logFC>0 \n",
    "#write.table(qlf[[1]]$table,\"KCs_cancer_samples_Tumor_vs_nonTumor_qlf1_edger_labels_corrected.txt\",sep=\"\\t\",row.names = TRUE, quote = FALSE)\n",
    "head(qlf[[1]]$table[topMarkers,])\n",
    "\n",
    "ord<-order(qlf[[1]]$table$PValue,decreasing=FALSE) \n",
    "up<-qlf[[1]]$table$logFC>0 \n",
    "# Get the results from decideTestsDGE\n",
    "dt2 <- lapply(qlf, decideTests)\n",
    "\n",
    "# For the first comparison (Lesion_vs_others), extract the gene names that are significant\n",
    "significant_genes <- rownames(dt2[[1]])[dt2[[1]] != 0]\n",
    "\n",
    "# View the names of significant genes\n",
    "print(significant_genes)\n",
    "\n",
    "top_table<-qlf[[1]]$table[significant_genes,]\n",
    "top_table <- top_table[top_table$PValue <= 0.05, ]\n"
   ],
   "outputs": [],
   "execution_count": null
  },
  {
   "cell_type": "code",
   "id": "c51731eb-2950-4551-ab1d-021284e69372",
   "metadata": {
    "vscode": {
     "languageId": "r"
    }
   },
   "source": [
    "options(repr.plot.width = 8, repr.plot.height = 15)\n",
    "\n",
    "\n",
    "lcpm<-cpm(y,log=TRUE) \n",
    "annot<-data.frame(cluster=cluster) \n",
    "rownames(annot)<-colnames(y) \n",
    "ann_colors<-list(cluster=0:24) \n",
    "names(ann_colors$cluster)<-levels(cluster)\n",
    "ann_colors\n",
    "\n",
    "library(pheatmap)\n",
    "#o<-read.csv(\"KC_only_desired_order.txt\",sep=\"\\t\",header=FALSE)\n",
    "#desired_order<-o$V1\n",
    "colnames(lcpm)<-gsub(\"cluster\",\"\",colnames(lcpm))\n",
    "#desired_order<-c(\"0\",\"1\",\"11\",\"2\",\"4\",\"6\",\"3\",\"5\",\"7\",\"8\",\"9\",\"10\",\"12\",\"13\",\"14\",\"15\")\n",
    "#lcpm_o <- lcpm[,match(desired_order, colnames(lcpm)), drop = FALSE]\n",
    "\n",
    "\n",
    "rownames(annot)<-gsub(\"cluster\",\"\",rownames(annot))\n",
    "#annot_o <- annot[match(desired_order, rownames(annot)), , drop = FALSE]\n",
    "\n",
    "heatmap_data <- lcpm[rownames(top_table),]\n",
    "\n",
    "heatmap <- pheatmap::pheatmap(lcpm[rownames(top_table),],breaks=seq(-2,2,length.out=101),color=colorRampPalette(c(\"blue\",\"white\",\"red\"))(100),scale=\"row\",\n",
    "                   cluster_cols=FALSE,border_color=\"NA\",fontsize_row=5,\n",
    "                   show_colnames=FALSE,\n",
    "                   annotation_col=annot,annotation_colors=ann_colors)\n",
    "\n",
    "#save_pheatmap_pdf(heatmap,\"phaseSplit_Condition.pdf\",width = 10,height = 20)\n",
    "\n",
    "\n",
    "# Retrieve genes plotted on the heatmap in the same order\n",
    "genes_on_heatmap <- heatmap$tree_row$order\n",
    "genes_on_heatmap <- rownames(heatmap_data)[genes_on_heatmap]"
   ],
   "outputs": [],
   "execution_count": null
  },
  {
   "cell_type": "code",
   "id": "007617cc-90ad-4cca-93f5-c0951bca46ae",
   "metadata": {
    "vscode": {
     "languageId": "r"
    }
   },
   "source": [
    "genes_on_heatmap"
   ],
   "outputs": [],
   "execution_count": null
  },
  {
   "cell_type": "code",
   "id": "b59fa7d9-a6a3-408a-9e6e-5b0016e71590",
   "metadata": {
    "vscode": {
     "languageId": "r"
    }
   },
   "source": [
    "# Assuming heatmap_data is your dataframe\n",
    "heatmap_data_sub <- heatmap_data[rowSums(heatmap_data[, 1:6] > 0.7) == 6, ]\n",
    "heatmap2 <- pheatmap::pheatmap(lcpm[rownames(heatmap_data_sub),],breaks=seq(-2,2,length.out=101),color=colorRampPalette(c(\"blue\",\"white\",\"red\"))(100),scale=\"row\",\n",
    "                   cluster_cols=FALSE,border_color=\"NA\",fontsize_row=5,\n",
    "                   show_colnames=FALSE,\n",
    "                   annotation_col=annot,annotation_colors=ann_colors)\n",
    "\n",
    "#save_pheatmap_pdf(heatmap,\"phaseSplit_Condition.pdf\",width = 10,height = 20)\n",
    "\n",
    "\n",
    "# Retrieve genes plotted on the heatmap in the same order\n",
    "genes_on_heatmap2 <- heatmap2$tree_row$order\n",
    "genes_on_heatmap2 <- rownames(heatmap_data_sub)[genes_on_heatmap2]"
   ],
   "outputs": [],
   "execution_count": null
  },
  {
   "cell_type": "markdown",
   "id": "d7363130-bfe9-41ec-8436-abd220a12e9a",
   "metadata": {
    "scrolled": true
   },
   "source": [
    "genes_on_heatmap2"
   ]
  },
  {
   "cell_type": "code",
   "id": "4485feea-2000-4d2a-816b-011b7241daaf",
   "metadata": {
    "vscode": {
     "languageId": "r"
    }
   },
   "source": [
    "# Transpose the heatmap data\n",
    "heatmap_data_transposed <- t(heatmap_data_sub)\n",
    "\n",
    "# Plot the transposed heatmap\n",
    "pheatmap::pheatmap(lcpm[,colnames(heatmap_data_sub)],breaks=seq(-2,2,length.out=101),color=colorRampPalette(c(\"blue\",\"white\",\"red\"))(100),scale=\"row\",\n",
    "                   cluster_cols=FALSE,border_color=\"NA\",fontsize_row=5,\n",
    "                   show_colnames=FALSE,\n",
    "                   annotation_col=t(annot),annotation_colors=t(ann_colors))\n"
   ],
   "outputs": [],
   "execution_count": null
  },
  {
   "cell_type": "code",
   "id": "601fcab1-a489-4b28-a85a-7629603cb88f",
   "metadata": {
    "vscode": {
     "languageId": "r"
    }
   },
   "source": [
    "genes_on_heatmap2"
   ],
   "outputs": [],
   "execution_count": null
  },
  {
   "cell_type": "code",
   "id": "43a23856-0029-4e84-8b6d-f880d04a411d",
   "metadata": {
    "vscode": {
     "languageId": "r"
    }
   },
   "source": [
    "dim(heatmap_data[rowSums(heatmap_data[, 1:6] > 0.7) == 6, ])\n"
   ],
   "outputs": [],
   "execution_count": null
  },
  {
   "cell_type": "code",
   "id": "3f9a00ce-570a-412d-8c99-94e876d90920",
   "metadata": {
    "vscode": {
     "languageId": "r"
    }
   },
   "source": [],
   "outputs": [],
   "execution_count": null
  },
  {
   "cell_type": "code",
   "id": "2b9efd57-80ab-48e2-9c21-8fb06fa783cd",
   "metadata": {
    "vscode": {
     "languageId": "r"
    }
   },
   "source": [
    "colnames(lcpm)"
   ],
   "outputs": [],
   "execution_count": null
  },
  {
   "cell_type": "code",
   "id": "ee76a032-b959-48ff-bba2-a35882241946",
   "metadata": {
    "vscode": {
     "languageId": "r"
    }
   },
   "source": [
    "dim(counts_matrix)\n",
    "dim(metadata_df)"
   ],
   "outputs": [],
   "execution_count": null
  },
  {
   "cell_type": "code",
   "id": "a73e0617-fdd2-44aa-a304-5eca364587e4",
   "metadata": {
    "vscode": {
     "languageId": "r"
    }
   },
   "source": [],
   "outputs": [],
   "execution_count": null
  },
  {
   "cell_type": "code",
   "id": "d115b0c8-22ba-4195-b984-e8cb91e71bea",
   "metadata": {
    "scrolled": true,
    "vscode": {
     "languageId": "r"
    }
   },
   "source": [
    "lcpm"
   ],
   "outputs": [],
   "execution_count": null
  },
  {
   "cell_type": "code",
   "id": "48591acb-ea86-4839-89ae-a770997cbfc5",
   "metadata": {
    "vscode": {
     "languageId": "r"
    }
   },
   "source": [],
   "outputs": [],
   "execution_count": null
  },
  {
   "cell_type": "code",
   "id": "d4633337-623c-4c35-9742-26d0968872a8",
   "metadata": {
    "vscode": {
     "languageId": "r"
    }
   },
   "source": [],
   "outputs": [],
   "execution_count": null
  },
  {
   "cell_type": "markdown",
   "id": "553ab46e-0f2f-4dca-ae32-726b1cb8614f",
   "metadata": {},
   "source": [
    "## Finding Cancer Mel"
   ]
  },
  {
   "cell_type": "code",
   "id": "21f69ef8-3d21-4797-be2a-aaf615cdccb5",
   "metadata": {
    "vscode": {
     "languageId": "r"
    }
   },
   "source": [
    "mel<-readRDS(\"/QRISdata/Q2051/SCC_Paper/resources/data/melanoma_sc.rds\")\n",
    "m<-read.csv(\"/QRISdata/Q2051/SCC_Paper/resources/data/frozen_objects_Nov2024_PP/Melanoma_final_object_Nov10_metadata.csv\")\n",
    "names(m)"
   ],
   "outputs": [],
   "execution_count": null
  },
  {
   "cell_type": "code",
   "id": "8291254c-3eed-4d16-b211-311b3c4a197c",
   "metadata": {
    "vscode": {
     "languageId": "r"
    }
   },
   "source": [
    "head(m)"
   ],
   "outputs": [],
   "execution_count": null
  },
  {
   "cell_type": "code",
   "id": "ed0818a4-b5e1-4d64-b4ed-872c78804341",
   "metadata": {
    "vscode": {
     "languageId": "r"
    }
   },
   "source": [
    "mel\n",
    "dim(m)"
   ],
   "outputs": [],
   "execution_count": null
  },
  {
   "cell_type": "code",
   "id": "748c05ea-3659-4fd0-9181-922e8dfb0e0e",
   "metadata": {
    "vscode": {
     "languageId": "r"
    }
   },
   "source": [
    "rownames(m)<-m$BC\n",
    "#m$BC <- rownames(m)  # Create a cell_id column in m to be used for matching\n",
    "mel@meta.data$BC <- rownames(mel@meta.data)  # Create cell_id in meta.data to match with 'm'\n",
    "m<-m[colnames(mel),]\n",
    "dim(m)"
   ],
   "outputs": [],
   "execution_count": null
  },
  {
   "cell_type": "code",
   "id": "f615fac9-a076-4214-a13c-eef79248082d",
   "metadata": {
    "vscode": {
     "languageId": "r"
    }
   },
   "source": [
    "mel@meta.data$Level2_final<-m$Level2\n",
    "mel@meta.data$mel_leiden<-m$mel_leiden\n"
   ],
   "outputs": [],
   "execution_count": null
  },
  {
   "cell_type": "code",
   "id": "691539b6-8b7a-4ef9-a2bb-cb707f703e84",
   "metadata": {
    "vscode": {
     "languageId": "r"
    }
   },
   "source": [
    "melanocytes<-rownames(mel@meta.data[grep(\"Melanocytes\", mel@meta.data$Level2_final),])\n",
    "mel_only <- subset(mel, cells = melanocytes, value = TRUE)"
   ],
   "outputs": [],
   "execution_count": null
  },
  {
   "cell_type": "code",
   "id": "153d4ef5-303d-4991-9274-c4fbf78aa787",
   "metadata": {
    "vscode": {
     "languageId": "r"
    }
   },
   "source": [
    "y<-Seurat2PB(mel_only,sample=\"orig.ident\", cluster = \"mel_leiden\")\n",
    "y<-normLibSizes(y)\n",
    "donor<-factor(y$sample$sample)\n",
    "design<-model.matrix(~donor)\n",
    "colnames(design)<-gsub(\"donor\",\"\",colnames(design))\n",
    "#colnames(design)<-gsub(\"cluster\",\"\",colnames(design))\n",
    "colnames(design)[1]<-\"Int\"\n",
    "y<-estimateDisp(y,design,robust=TRUE)\n",
    "y$common.dispersion \n",
    "fit<-glmQLFit(y,design,robust=TRUE) \n",
    "ncls<-nlevels(donor) \n",
    "contr<-rbind(matrix(1/(1-ncls),ncls,ncls), +matrix(0,ncol(design)-ncls,ncls)) \n",
    "diag(contr)<-1 \n",
    "contr[1,]<-0 \n",
    "rownames(contr)<-colnames(design) \n",
    "colnames(contr)<-colnames(design)\n",
    "qlf<-list() \n",
    "for(i in 1:ncls){ \n",
    "  qlf[[i]]<-glmQLFTest(fit,contrast=contr[,i]) \n",
    "  qlf[[i]]$comparison<-paste0(levels(donor)[i],\"_vs_others\") \n",
    "}\n",
    "options(repr.plot.width = 6, repr.plot.height = 6)\n",
    "cluster<-as.factor(y$samples$cluster) \n",
    "#pdf(\"MDS_edgeR_SCC_KC_only_corrected_labels.pdf\")\n",
    "#plotMDS(y,pch=16,col=c(2:8)[cluster],main=\"MDS\") \n",
    "#legend(\"topleft\",legend=paste0(levels(cluster)), pch=14,col=2:8,cex=0.8)\n",
    "#dev.off()\n",
    "#plotMDS(y,pch=16,col=c(2:8)[cluster],main=\"MDS\") \n",
    "#pdf(\"dispersion.pdf\")\n",
    "#plotBCV(y)\n",
    "#dev.off()\n",
    "\n",
    "#pdf(\"QLdisp.pdf\")\n",
    "#plotQLDisp(fit)\n",
    "#dev.off()\n",
    "\n",
    "dt<-lapply(lapply(qlf,decideTestsDGE),summary) \n",
    "dt.all<-do.call(\"cbind\",dt) \n",
    "head(dt.all)\n",
    "#write.table(dt.all,\"KC_only_cluster_wise_stats_labels_corrected.txt\",sep=\"\\t\",quote=FALSE,row.names=TRUE)\n",
    "\n"
   ],
   "outputs": [],
   "execution_count": null
  },
  {
   "cell_type": "code",
   "id": "0a9fd5f3-48c1-4d4e-bed7-cdfd0b84b133",
   "metadata": {
    "scrolled": true,
    "vscode": {
     "languageId": "r"
    }
   },
   "source": [
    "#top<-20\n",
    "#topMarkers<-list()\n",
    "#for(i in 1:ncls){ \n",
    "#  ord<-order(qlf[[i]]$table$PValue,decreasing=FALSE) \n",
    "#  up<-qlf[[i]]$table$logFC>0 \n",
    "#  topMarkers[[i]]<-rownames(y)[ord[up][1:top]] \n",
    "#} \n",
    "#topMarkers<-unique(unlist(topMarkers)) \n",
    "#write.table(topMarkers,\"KC_only_SCC_topmarkers_edger.txt\",sep=\"\\t\",row.names = TRUE, quote = FALSE)\n",
    "\n",
    "top<-50\n",
    "topMarkers<-list()\n",
    "for (i in 1:ncls) { \n",
    "  ord <- order(qlf[[i]]$table$PValue, decreasing = FALSE) \n",
    "  up <- qlf[[i]]$table$logFC > 0 \n",
    "  selected_genes <- rownames(y)[ord[up]]  \n",
    "  # Remove genes starting with \"RPS\" or \"RPL\"\n",
    "  selected_genes <- selected_genes[!grepl(\"^RPS|^RPL|^LINC\", selected_genes)]  \n",
    "  # Take the top 50 genes after filtering\n",
    "  topMarkers[[i]] <- head(selected_genes, top)\n",
    "} \n",
    "topMarkers <- unique(unlist(topMarkers))\n",
    "\n",
    "\n",
    "\n",
    "ord<-order(qlf[[1]]$table$PValue,decreasing=FALSE) \n",
    "up<-qlf[[1]]$table$logFC>0 \n",
    "#write.table(qlf[[1]]$table,\"KCs_cancer_samples_Tumor_vs_nonTumor_qlf1_edger_labels_corrected.txt\",sep=\"\\t\",row.names = TRUE, quote = FALSE)\n",
    "head(qlf[[1]]$table[topMarkers,])\n",
    "\n",
    "ord<-order(qlf[[1]]$table$PValue,decreasing=FALSE) \n",
    "up<-qlf[[1]]$table$logFC>0 \n",
    "# Get the results from decideTestsDGE\n",
    "dt2 <- lapply(qlf, decideTests)\n",
    "\n",
    "# For the first comparison (Lesion_vs_others), extract the gene names that are significant\n",
    "significant_genes <- rownames(dt2[[1]])[dt2[[1]] != 0]\n",
    "\n",
    "# View the names of significant genes\n",
    "print(significant_genes)\n",
    "\n",
    "top_table<-qlf[[1]]$table[significant_genes,]\n",
    "top_table <- top_table[top_table$PValue <= 0.05, ]\n"
   ],
   "outputs": [],
   "execution_count": null
  },
  {
   "cell_type": "code",
   "id": "e28851e2-52f4-4b47-8874-ce5ef07f4e01",
   "metadata": {
    "vscode": {
     "languageId": "r"
    }
   },
   "source": [
    "options(repr.plot.width = 8, repr.plot.height = 15)\n",
    "\n",
    "\n",
    "lcpm<-cpm(y,log=TRUE) \n",
    "annot<-data.frame(cluster=cluster) \n",
    "rownames(annot)<-colnames(y) \n",
    "ann_colors<-list(cluster=0:24) \n",
    "names(ann_colors$cluster)<-levels(cluster)\n",
    "ann_colors\n",
    "\n",
    "library(pheatmap)\n",
    "#o<-read.csv(\"KC_only_desired_order.txt\",sep=\"\\t\",header=FALSE)\n",
    "#desired_order<-o$V1\n",
    "colnames(lcpm)<-gsub(\"cluster\",\"\",colnames(lcpm))\n",
    "#desired_order<-c(\"0\",\"1\",\"11\",\"2\",\"4\",\"6\",\"3\",\"5\",\"7\",\"8\",\"9\",\"10\",\"12\",\"13\",\"14\",\"15\")\n",
    "#lcpm_o <- lcpm[,match(desired_order, colnames(lcpm)), drop = FALSE]\n",
    "\n",
    "\n",
    "rownames(annot)<-gsub(\"cluster\",\"\",rownames(annot))\n",
    "#annot_o <- annot[match(desired_order, rownames(annot)), , drop = FALSE]\n",
    "\n",
    "heatmap_data <- lcpm[rownames(top_table),]\n",
    "\n",
    "heatmap <- pheatmap::pheatmap(lcpm[rownames(top_table),],breaks=seq(-2,2,length.out=101),color=colorRampPalette(c(\"blue\",\"white\",\"red\"))(100),scale=\"row\",\n",
    "                   cluster_cols=FALSE,border_color=\"NA\",fontsize_row=5,\n",
    "                   show_colnames=FALSE,\n",
    "                   annotation_col=annot,annotation_colors=ann_colors)\n",
    "\n",
    "#save_pheatmap_pdf(heatmap,\"phaseSplit_Condition.pdf\",width = 10,height = 20)\n",
    "\n",
    "\n",
    "# Retrieve genes plotted on the heatmap in the same order\n",
    "genes_on_heatmap <- heatmap$tree_row$order\n",
    "genes_on_heatmap <- rownames(heatmap_data)[genes_on_heatmap]"
   ],
   "outputs": [],
   "execution_count": null
  },
  {
   "cell_type": "code",
   "id": "f0052be9-39bb-47c3-8366-d7a9fa0e20a1",
   "metadata": {
    "vscode": {
     "languageId": "r"
    }
   },
   "source": [
    "colnames(lcpm)"
   ],
   "outputs": [],
   "execution_count": null
  },
  {
   "cell_type": "code",
   "id": "91b967ae-1c1a-47d1-a74c-f6d2e1831551",
   "metadata": {
    "vscode": {
     "languageId": "r"
    }
   },
   "source": [
    "# Assuming heatmap_data is your dataframe\n",
    "heatmap_data_sub <- heatmap_data[rowSums(heatmap_data[, 1:11] > 7) == 11, ][1:150,]\n",
    "heatmap2 <- pheatmap::pheatmap(lcpm[rownames(heatmap_data_sub),],breaks=seq(-2,2,length.out=101),color=colorRampPalette(c(\"blue\",\"white\",\"red\"))(100),scale=\"row\",\n",
    "                   cluster_cols=FALSE,border_color=\"NA\",fontsize_row=5,\n",
    "                   show_colnames=FALSE,\n",
    "                   annotation_col=annot,annotation_colors=ann_colors)\n",
    "\n",
    "#save_pheatmap_pdf(heatmap,\"phaseSplit_Condition.pdf\",width = 10,height = 20)\n",
    "\n",
    "\n",
    "# Retrieve genes plotted on the heatmap in the same order\n",
    "genes_on_heatmap2 <- heatmap2$tree_row$order\n",
    "genes_on_heatmap2 <- rownames(heatmap_data_sub)[genes_on_heatmap2]"
   ],
   "outputs": [],
   "execution_count": null
  },
  {
   "cell_type": "code",
   "id": "a61d266d-c91b-4481-ae0f-dc98b05eed98",
   "metadata": {
    "scrolled": true,
    "vscode": {
     "languageId": "r"
    }
   },
   "source": [
    "genes_on_heatmap2"
   ],
   "outputs": [],
   "execution_count": null
  },
  {
   "cell_type": "code",
   "id": "53d9dd7d-cf79-4153-a88b-5e8c8ac5777f",
   "metadata": {
    "vscode": {
     "languageId": "r"
    }
   },
   "source": [
    "colnames(heatmap_data)"
   ],
   "outputs": [],
   "execution_count": null
  },
  {
   "cell_type": "code",
   "id": "21869f67-31a3-4a30-94c2-24f1546cd020",
   "metadata": {
    "vscode": {
     "languageId": "r"
    }
   },
   "source": [
    "n<-heatmap_data[rowSums(heatmap_data[, 1:11] > 0.5) == 11, ]\n",
    "dim(n)"
   ],
   "outputs": [],
   "execution_count": null
  },
  {
   "cell_type": "code",
   "id": "d5210ec8-aaa1-40eb-88db-2f75db9647dc",
   "metadata": {
    "vscode": {
     "languageId": "r"
    }
   },
   "source": [
    "mean(heatmap_data[47:523,1:11])"
   ],
   "outputs": [],
   "execution_count": null
  },
  {
   "cell_type": "code",
   "id": "179a5094-321e-4fd1-a8b0-22c7f8dd5158",
   "metadata": {
    "vscode": {
     "languageId": "r"
    }
   },
   "source": [],
   "outputs": [],
   "execution_count": null
  },
  {
   "cell_type": "code",
   "id": "72b09f2a-af31-4e98-a39b-d50b79eefe9f",
   "metadata": {
    "vscode": {
     "languageId": "r"
    }
   },
   "source": [],
   "outputs": [],
   "execution_count": null
  },
  {
   "cell_type": "code",
   "id": "9038a397-93f2-467c-a239-5b54d4aeb240",
   "metadata": {
    "vscode": {
     "languageId": "r"
    }
   },
   "source": [],
   "outputs": [],
   "execution_count": null
  },
  {
   "cell_type": "code",
   "id": "7db6dda6-2a44-4226-afe1-6373cda3ee73",
   "metadata": {
    "vscode": {
     "languageId": "r"
    }
   },
   "source": [],
   "outputs": [],
   "execution_count": null
  },
  {
   "cell_type": "code",
   "id": "72e94f04-073c-4593-95b5-32553e3ee238",
   "metadata": {
    "vscode": {
     "languageId": "r"
    }
   },
   "source": [],
   "outputs": [],
   "execution_count": null
  },
  {
   "cell_type": "code",
   "id": "bc1219d5-3b94-4494-95d1-5a7142b35c03",
   "metadata": {
    "vscode": {
     "languageId": "r"
    }
   },
   "source": [
    "y<-Seurat2PB(mel_only,sample=\"mel_leiden\", cluster = \"orig.ident\")\n",
    "y<-normLibSizes(y)\n",
    "donor<-factor(y$sample$sample)\n",
    "design<-model.matrix(~donor)\n",
    "colnames(design)<-gsub(\"donor\",\"\",colnames(design))\n",
    "#colnames(design)<-gsub(\"cluster\",\"\",colnames(design))\n",
    "colnames(design)[1]<-\"Int\"\n",
    "y<-estimateDisp(y,design,robust=TRUE)\n",
    "y$common.dispersion \n",
    "fit<-glmQLFit(y,design,robust=TRUE) \n",
    "ncls<-nlevels(donor) \n",
    "contr<-rbind(matrix(1/(1-ncls),ncls,ncls), +matrix(0,ncol(design)-ncls,ncls)) \n",
    "diag(contr)<-1 \n",
    "contr[1,]<-0 \n",
    "rownames(contr)<-colnames(design) \n",
    "colnames(contr)<-colnames(design)\n",
    "qlf<-list() \n",
    "for(i in 1:ncls){ \n",
    "  qlf[[i]]<-glmQLFTest(fit,contrast=contr[,i]) \n",
    "  qlf[[i]]$comparison<-paste0(levels(donor)[i],\"_vs_others\") \n",
    "}\n",
    "options(repr.plot.width = 6, repr.plot.height = 6)\n",
    "cluster<-as.factor(y$samples$cluster) \n",
    "#pdf(\"MDS_edgeR_SCC_KC_only_corrected_labels.pdf\")\n",
    "#plotMDS(y,pch=16,col=c(2:8)[cluster],main=\"MDS\") \n",
    "#legend(\"topleft\",legend=paste0(levels(cluster)), pch=14,col=2:8,cex=0.8)\n",
    "#dev.off()\n",
    "#plotMDS(y,pch=16,col=c(2:8)[cluster],main=\"MDS\") \n",
    "#pdf(\"dispersion.pdf\")\n",
    "#plotBCV(y)\n",
    "#dev.off()\n",
    "\n",
    "#pdf(\"QLdisp.pdf\")\n",
    "#plotQLDisp(fit)\n",
    "#dev.off()\n",
    "\n",
    "dt<-lapply(lapply(qlf,decideTestsDGE),summary) \n",
    "dt.all<-do.call(\"cbind\",dt) \n",
    "head(dt.all)\n",
    "#write.table(dt.all,\"KC_only_cluster_wise_stats_labels_corrected.txt\",sep=\"\\t\",quote=FALSE,row.names=TRUE)\n",
    "\n"
   ],
   "outputs": [],
   "execution_count": null
  },
  {
   "cell_type": "code",
   "id": "6fd4fe89-4d86-4492-94f1-5d88c30ba47b",
   "metadata": {
    "scrolled": true,
    "vscode": {
     "languageId": "r"
    }
   },
   "source": [
    "#top<-20\n",
    "#topMarkers<-list()\n",
    "#for(i in 1:ncls){ \n",
    "#  ord<-order(qlf[[i]]$table$PValue,decreasing=FALSE) \n",
    "#  up<-qlf[[i]]$table$logFC>0 \n",
    "#  topMarkers[[i]]<-rownames(y)[ord[up][1:top]] \n",
    "#} \n",
    "#topMarkers<-unique(unlist(topMarkers)) \n",
    "#write.table(topMarkers,\"KC_only_SCC_topmarkers_edger.txt\",sep=\"\\t\",row.names = TRUE, quote = FALSE)\n",
    "\n",
    "top<-50\n",
    "topMarkers<-list()\n",
    "for (i in 1:ncls) { \n",
    "  ord <- order(qlf[[i]]$table$PValue, decreasing = FALSE) \n",
    "  up <- qlf[[i]]$table$logFC > 0 \n",
    "  selected_genes <- rownames(y)[ord[up]]  \n",
    "  # Remove genes starting with \"RPS\" or \"RPL\"\n",
    "  selected_genes <- selected_genes[!grepl(\"^RPS|^RPL|^LINC\", selected_genes)]  \n",
    "  # Take the top 50 genes after filtering\n",
    "  topMarkers[[i]] <- head(selected_genes, top)\n",
    "} \n",
    "topMarkers <- unique(unlist(topMarkers))\n",
    "\n",
    "\n",
    "\n",
    "ord<-order(qlf[[1]]$table$PValue,decreasing=FALSE) \n",
    "up<-qlf[[1]]$table$logFC>0 \n",
    "#write.table(qlf[[1]]$table,\"KCs_cancer_samples_Tumor_vs_nonTumor_qlf1_edger_labels_corrected.txt\",sep=\"\\t\",row.names = TRUE, quote = FALSE)\n",
    "head(qlf[[1]]$table[topMarkers,])\n",
    "\n",
    "ord<-order(qlf[[1]]$table$PValue,decreasing=FALSE) \n",
    "up<-qlf[[1]]$table$logFC>0 \n",
    "# Get the results from decideTestsDGE\n",
    "dt2 <- lapply(qlf, decideTests)\n",
    "\n",
    "# For the first comparison (Lesion_vs_others), extract the gene names that are significant\n",
    "significant_genes <- rownames(dt2[[1]])[dt2[[1]] != 0]\n",
    "\n",
    "# View the names of significant genes\n",
    "print(significant_genes)\n",
    "\n",
    "top_table<-qlf[[1]]$table[significant_genes,]\n",
    "top_table <- top_table[top_table$PValue <= 0.05, ]\n",
    "options(repr.plot.width = 8, repr.plot.height = 15)\n",
    "\n",
    "\n",
    "lcpm<-cpm(y,log=TRUE) \n",
    "annot<-data.frame(cluster=cluster) \n",
    "rownames(annot)<-colnames(y) \n",
    "ann_colors<-list(cluster=0:24) \n",
    "names(ann_colors$cluster)<-levels(cluster)\n",
    "ann_colors\n",
    "\n",
    "#o<-read.csv(\"KC_only_desired_order.txt\",sep=\"\\t\",header=FALSE)\n",
    "#desired_order<-o$V1\n",
    "colnames(lcpm)<-gsub(\"cluster\",\"\",colnames(lcpm))\n",
    "#desired_order<-c(\"0\",\"1\",\"11\",\"2\",\"4\",\"6\",\"3\",\"5\",\"7\",\"8\",\"9\",\"10\",\"12\",\"13\",\"14\",\"15\")\n",
    "#lcpm_o <- lcpm[,match(desired_order, colnames(lcpm)), drop = FALSE]\n",
    "\n",
    "\n",
    "rownames(annot)<-gsub(\"cluster\",\"\",rownames(annot))\n",
    "#annot_o <- annot[match(desired_order, rownames(annot)), , drop = FALSE]\n",
    "\n",
    "heatmap_datac <- lcpm[rownames(top_table),]\n",
    "\n",
    "heatmapc <- pheatmap::pheatmap(lcpm[rownames(top_table),],breaks=seq(-2,2,length.out=101),color=colorRampPalette(c(\"blue\",\"white\",\"red\"))(100),scale=\"row\",\n",
    "                   cluster_cols=FALSE,border_color=\"NA\",fontsize_row=5,\n",
    "                   show_colnames=FALSE,\n",
    "                   annotation_col=annot,annotation_colors=ann_colors)\n",
    "\n",
    "#save_pheatmap_pdf(heatmap,\"phaseSplit_Condition.pdf\",width = 10,height = 20)\n",
    "\n",
    "\n",
    "# Retrieve genes plotted on the heatmap in the same order\n",
    "genes_on_heatmapc <- heatmapc$tree_row$order\n",
    "genes_on_heatmapc <- rownames(heatmap_data)[genes_on_heatmapc]"
   ],
   "outputs": [],
   "execution_count": null
  },
  {
   "cell_type": "code",
   "id": "1335d13c-9065-4fe0-aafe-b6d2ba160879",
   "metadata": {
    "vscode": {
     "languageId": "r"
    }
   },
   "source": [
    "heatmapc"
   ],
   "outputs": [],
   "execution_count": null
  },
  {
   "cell_type": "code",
   "id": "c79ce5f9-c681-4ad3-85a0-a42df59cc27a",
   "metadata": {
    "vscode": {
     "languageId": "r"
    }
   },
   "source": [
    "colnames(lcpm)"
   ],
   "outputs": [],
   "execution_count": null
  },
  {
   "cell_type": "code",
   "id": "1000c993-7f70-478f-b083-4c289a6804d2",
   "metadata": {
    "vscode": {
     "languageId": "r"
    }
   },
   "source": [
    "# Subset the data to include clusters 9 and 10 vs other clusters\n",
    "# Assuming 'seurat_obj' is your Seurat object and 'seurat_obj$cluster' contains cluster assignments\n",
    "cluster_9_10 = mel_only[mel_only$mel_leiden %in% [9, 10], ]\n",
    "rest_of_clusters = mel_only[!mel_only$mel_leiden %in% [9, 10], ]\n",
    "\n",
    "# Assign group labels for differential expression analysis\n",
    "mel_only$group <- ifelse(mel_only$mel_leiden %in% [9, 10], \"MPS13\", \"Others\")\n",
    "\n",
    "# Perform differential expression analysis\n",
    "markers = FindMarkers(mel_only, ident.1 = \"MPS13\", ident.2 = \"Others\")\n",
    "\n",
    "# View the top markers\n",
    "head(markers)\n"
   ],
   "outputs": [],
   "execution_count": null
  },
  {
   "cell_type": "code",
   "id": "2a018265-3209-4212-be50-465735126362",
   "metadata": {
    "vscode": {
     "languageId": "r"
    }
   },
   "source": [
    "## pseudo assignment"
   ],
   "outputs": [],
   "execution_count": null
  },
  {
   "cell_type": "code",
   "id": "ae8a104f-76da-454e-8284-23d723b7baef",
   "metadata": {
    "vscode": {
     "languageId": "r"
    }
   },
   "source": [
    "\n",
    "# Step 1: Get the total number of cells in the Seurat object\n",
    "n_cells <- ncol(mel_only)\n",
    "\n",
    "# Step 2: Set the number of groups\n",
    "n_groups <- 5\n",
    "\n",
    "# Step 3: Randomly assign cells to pseudo_groups (1-5) with equal numbers\n",
    "set.seed(42)  # Set seed for reproducibility\n",
    "pseudo_groups <- sample(rep(1:n_groups, length.out = n_cells))\n",
    "\n",
    "# Step 4: Add the pseudo_groups to the Seurat object as metadata\n",
    "mel_only$pseudo_groups <- pseudo_groups\n",
    "\n",
    "# Step 5: Verify by checking the first few rows of the new pseudo_groups column\n",
    "head(mel_only$pseudo_groups)\n"
   ],
   "outputs": [],
   "execution_count": null
  },
  {
   "cell_type": "code",
   "id": "43c6d380-927f-4777-bc6d-3d22d3582a76",
   "metadata": {
    "scrolled": true,
    "vscode": {
     "languageId": "r"
    }
   },
   "source": [
    "mel_only@meta.data %>% group_by(pseudo_groups,orig.ident) %>% tally()"
   ],
   "outputs": [],
   "execution_count": null
  },
  {
   "cell_type": "code",
   "id": "be4ab371-0cd8-48dd-8e11-ae5c3d51551a",
   "metadata": {
    "vscode": {
     "languageId": "r"
    }
   },
   "source": [
    "y<-Seurat2PB(mel_only,sample=\"orig.ident\", cluster = \"pseudo_groups\")\n",
    "y<-normLibSizes(y)\n",
    "donor<-factor(y$sample$sample)\n",
    "design<-model.matrix(~donor)\n",
    "colnames(design)<-gsub(\"donor\",\"\",colnames(design))\n",
    "#colnames(design)<-gsub(\"cluster\",\"\",colnames(design))\n",
    "colnames(design)[1]<-\"Int\"\n",
    "y<-estimateDisp(y,design,robust=TRUE)\n",
    "y$common.dispersion \n",
    "fit<-glmQLFit(y,design,robust=TRUE) \n",
    "ncls<-nlevels(donor) \n",
    "contr<-rbind(matrix(1/(1-ncls),ncls,ncls), +matrix(0,ncol(design)-ncls,ncls)) \n",
    "diag(contr)<-1 \n",
    "contr[1,]<-0 \n",
    "rownames(contr)<-colnames(design) \n",
    "colnames(contr)<-colnames(design)\n",
    "qlf<-list() \n",
    "for(i in 1:ncls){ \n",
    "  qlf[[i]]<-glmQLFTest(fit,contrast=contr[,i]) \n",
    "  qlf[[i]]$comparison<-paste0(levels(donor)[i],\"_vs_others\") \n",
    "}\n",
    "options(repr.plot.width = 6, repr.plot.height = 6)\n",
    "cluster<-as.factor(y$samples$cluster) \n",
    "#pdf(\"MDS_edgeR_SCC_KC_only_corrected_labels.pdf\")\n",
    "#plotMDS(y,pch=16,col=c(2:8)[cluster],main=\"MDS\") \n",
    "#legend(\"topleft\",legend=paste0(levels(cluster)), pch=14,col=2:8,cex=0.8)\n",
    "#dev.off()\n",
    "#plotMDS(y,pch=16,col=c(2:8)[cluster],main=\"MDS\") \n",
    "#pdf(\"dispersion.pdf\")\n",
    "#plotBCV(y)\n",
    "#dev.off()\n",
    "\n",
    "#pdf(\"QLdisp.pdf\")\n",
    "#plotQLDisp(fit)\n",
    "#dev.off()\n",
    "\n",
    "dt<-lapply(lapply(qlf,decideTestsDGE),summary) \n",
    "dt.all<-do.call(\"cbind\",dt) \n",
    "head(dt.all)\n",
    "#write.table(dt.all,\"KC_only_cluster_wise_stats_labels_corrected.txt\",sep=\"\\t\",quote=FALSE,row.names=TRUE)\n",
    "\n"
   ],
   "outputs": [],
   "execution_count": null
  },
  {
   "cell_type": "code",
   "id": "6ba9e057-cdc7-45a5-94ea-91f15794d005",
   "metadata": {
    "vscode": {
     "languageId": "r"
    }
   },
   "source": [
    "#top<-20\n",
    "#topMarkers<-list()\n",
    "#for(i in 1:ncls){ \n",
    "#  ord<-order(qlf[[i]]$table$PValue,decreasing=FALSE) \n",
    "#  up<-qlf[[i]]$table$logFC>0 \n",
    "#  topMarkers[[i]]<-rownames(y)[ord[up][1:top]] \n",
    "#} \n",
    "#topMarkers<-unique(unlist(topMarkers)) \n",
    "#write.table(topMarkers,\"KC_only_SCC_topmarkers_edger.txt\",sep=\"\\t\",row.names = TRUE, quote = FALSE)\n",
    "\n",
    "top<-50\n",
    "topMarkers<-list()\n",
    "for (i in 1:ncls) { \n",
    "  ord <- order(qlf[[i]]$table$PValue, decreasing = FALSE) \n",
    "  up <- qlf[[i]]$table$logFC > 0 \n",
    "  selected_genes <- rownames(y)[ord[up]]  \n",
    "  # Remove genes starting with \"RPS\" or \"RPL\"\n",
    "  selected_genes <- selected_genes[!grepl(\"^RPS|^RPL|^LINC\", selected_genes)]  \n",
    "  # Take the top 50 genes after filtering\n",
    "  topMarkers[[i]] <- head(selected_genes, top)\n",
    "} \n",
    "topMarkers <- unique(unlist(topMarkers))\n",
    "\n",
    "\n",
    "\n",
    "ord<-order(qlf[[1]]$table$PValue,decreasing=FALSE) \n",
    "up<-qlf[[1]]$table$logFC>0 \n",
    "#write.table(qlf[[1]]$table,\"KCs_cancer_samples_Tumor_vs_nonTumor_qlf1_edger_labels_corrected.txt\",sep=\"\\t\",row.names = TRUE, quote = FALSE)\n",
    "head(qlf[[1]]$table[topMarkers,])\n",
    "\n",
    "ord<-order(qlf[[1]]$table$PValue,decreasing=FALSE) \n",
    "up<-qlf[[1]]$table$logFC>0 \n",
    "# Get the results from decideTestsDGE\n",
    "dt2 <- lapply(qlf, decideTests)\n",
    "\n",
    "# For the first comparison (Lesion_vs_others), extract the gene names that are significant\n",
    "significant_genes <- rownames(dt2[[1]])[dt2[[1]] != 0]\n",
    "\n",
    "# View the names of significant genes\n",
    "print(significant_genes)\n",
    "\n",
    "top_table<-qlf[[1]]$table[significant_genes,]\n",
    "top_table <- top_table[top_table$PValue <= 0.05, ]"
   ],
   "outputs": [],
   "execution_count": null
  },
  {
   "cell_type": "code",
   "id": "1511ff9a-993d-45a9-92be-cec64b0b66ca",
   "metadata": {
    "scrolled": true,
    "vscode": {
     "languageId": "r"
    }
   },
   "source": [
    "options(repr.plot.width = 8, repr.plot.height = 15)\n",
    "\n",
    "\n",
    "lcpm<-cpm(y,log=TRUE) \n",
    "annot<-data.frame(cluster=cluster) \n",
    "rownames(annot)<-colnames(y) \n",
    "ann_colors<-list(cluster=0:24) \n",
    "names(ann_colors$cluster)<-levels(cluster)\n",
    "ann_colors\n",
    "\n",
    "#o<-read.csv(\"KC_only_desired_order.txt\",sep=\"\\t\",header=FALSE)\n",
    "#desired_order<-o$V1\n",
    "colnames(lcpm)<-gsub(\"cluster\",\"\",colnames(lcpm))\n",
    "#desired_order<-c(\"0\",\"1\",\"11\",\"2\",\"4\",\"6\",\"3\",\"5\",\"7\",\"8\",\"9\",\"10\",\"12\",\"13\",\"14\",\"15\")\n",
    "#lcpm_o <- lcpm[,match(desired_order, colnames(lcpm)), drop = FALSE]\n",
    "\n",
    "\n",
    "rownames(annot)<-gsub(\"cluster\",\"\",rownames(annot))\n",
    "#annot_o <- annot[match(desired_order, rownames(annot)), , drop = FALSE]\n",
    "\n",
    "heatmap_datac <- lcpm[rownames(top_table),]\n",
    "\n",
    "heatmapc <- pheatmap::pheatmap(lcpm[rownames(top_table),],breaks=seq(-2,2,length.out=101),color=colorRampPalette(c(\"blue\",\"white\",\"red\"))(100),scale=\"row\",\n",
    "                   cluster_cols=FALSE,border_color=\"NA\",fontsize_row=5,\n",
    "                   show_colnames=FALSE,\n",
    "                   annotation_col=annot,annotation_colors=ann_colors)\n",
    "\n",
    "#save_pheatmap_pdf(heatmap,\"phaseSplit_Condition.pdf\",width = 10,height = 20)\n",
    "\n",
    "\n",
    "# Retrieve genes plotted on the heatmap in the same order\n",
    "genes_on_heatmapc <- heatmapc$tree_row$order\n",
    "genes_on_heatmapc <- rownames(heatmap_data)[genes_on_heatmapc]"
   ],
   "outputs": [],
   "execution_count": null
  },
  {
   "cell_type": "code",
   "id": "f6405211-b7ea-4334-be0c-0f4004545135",
   "metadata": {
    "vscode": {
     "languageId": "r"
    }
   },
   "source": [
    "# Assuming heatmap_data is your dataframe\n",
    "heatmap_data_sub <- heatmap_data[rowSums(heatmap_data[, 1:5] > 7) == 5, ][1:150,]\n",
    "heatmap2 <- pheatmap::pheatmap(lcpm[rownames(heatmap_data_sub),],breaks=seq(-2,2,length.out=101),color=colorRampPalette(c(\"blue\",\"white\",\"red\"))(100),scale=\"row\",\n",
    "                   cluster_cols=FALSE,border_color=\"NA\",fontsize_row=5,\n",
    "                   show_colnames=FALSE,\n",
    "                   annotation_col=annot,annotation_colors=ann_colors)\n",
    "\n",
    "#save_pheatmap_pdf(heatmap,\"phaseSplit_Condition.pdf\",width = 10,height = 20)\n",
    "\n",
    "\n",
    "# Retrieve genes plotted on the heatmap in the same order\n",
    "genes_on_heatmap2 <- heatmap2$tree_row$order\n",
    "genes_on_heatmap2 <- rownames(heatmap_data_sub)[genes_on_heatmap2]"
   ],
   "outputs": [],
   "execution_count": null
  },
  {
   "cell_type": "code",
   "id": "c7419483-9157-4cda-80b3-2e2f4cdc5638",
   "metadata": {
    "vscode": {
     "languageId": "r"
    }
   },
   "source": [
    "colnames(lcpm)"
   ],
   "outputs": [],
   "execution_count": null
  },
  {
   "cell_type": "code",
   "id": "ab4e6728-e6a5-439f-93be-ea0e5919711f",
   "metadata": {
    "vscode": {
     "languageId": "r"
    }
   },
   "source": [
    "genes_on_heatmap2[1:100]"
   ],
   "outputs": [],
   "execution_count": null
  },
  {
   "cell_type": "code",
   "id": "f1982a88-af30-4c01-98be-06614616891f",
   "metadata": {
    "vscode": {
     "languageId": "r"
    }
   },
   "source": [
    "# Assuming your Seurat object is called 'mel_only'\n",
    "\n",
    "# Add a new column 'malignant' to distinguish malignant from benign cells\n",
    "mel_only$malignant <- ifelse(mel_only$mel_leiden %in% c(9, 10), \"Malignant\", \"Benign\")\n"
   ],
   "outputs": [],
   "execution_count": null
  },
  {
   "cell_type": "code",
   "id": "23e3b432-ff39-487b-8a6b-408913c250a2",
   "metadata": {
    "vscode": {
     "languageId": "r"
    }
   },
   "source": [
    "# Normalize the data if it hasn't been done yet\n",
    "mel_only <- NormalizeData(mel_only)\n",
    "Idents(mel_only)<-mel_only$malignant\n",
    "# Perform differential expression between malignant and benign cells\n",
    "de_genes <- FindMarkers(mel_only, ident.1 = \"Malignant\", ident.2 = \"Benign\", test.use = \"wilcox\")\n",
    "de_genes\n",
    "# Visualize DE genes using a volcano plot\n",
    "library(ggplot2)\n",
    "ggplot(de_genes, aes(x = avg_log2FC, y = -log10(p_val))) +\n",
    "    geom_point(aes(color = p_val < 0.05), size = 2) +\n",
    "    labs(title = \"Volcano plot of DE genes\", x = \"Log2 Fold Change\", y = \"-Log10 p-value\")\n"
   ],
   "outputs": [],
   "execution_count": null
  },
  {
   "cell_type": "code",
   "id": "09d1d21f-125f-490e-96e1-d45afec858ee",
   "metadata": {
    "scrolled": true,
    "vscode": {
     "languageId": "r"
    }
   },
   "source": [
    "de_genes_sig<-de_genes[de_genes$p_val_adj<0.05,]\n",
    "de_genes_sig<-de_genes[de_genes$avg_log2FC>3,]\n",
    "\n",
    "de_genes_sig"
   ],
   "outputs": [],
   "execution_count": null
  },
  {
   "cell_type": "code",
   "id": "5c2d3736-a329-4067-9f07-26de4d3d9870",
   "metadata": {
    "vscode": {
     "languageId": "r"
    }
   },
   "source": [
    "rownames(de_genes_sig)"
   ],
   "outputs": [],
   "execution_count": null
  },
  {
   "cell_type": "markdown",
   "id": "a8af7f9d-0e5e-4964-895d-b40407c8348b",
   "metadata": {},
   "source": [
    "# SCC vs Melanoma"
   ]
  },
  {
   "cell_type": "code",
   "id": "a07080f1-0627-4e2e-985a-5b6c711312f7",
   "metadata": {
    "vscode": {
     "languageId": "r"
    }
   },
   "source": [
    "scc_bcc<-readRDS(\"/QRISdata/Q2051/SCC_Paper/resources/data/frozen_objects_Nov2024_PP/SCC_BCC/SCC_BCC_seurat.rds\")\n",
    "mel<-readRDS(\"/QRISdata/Q2051/SCC_Paper/resources/data/frozen_objects_Nov2024_PP/Mel/Melanoma_seurat.Rds\")\n"
   ],
   "outputs": [],
   "execution_count": null
  },
  {
   "cell_type": "code",
   "id": "6a3d4bb2-4c0f-4aca-b7af-89874d084efc",
   "metadata": {
    "vscode": {
     "languageId": "r"
    }
   },
   "source": [
    "unique(scc_bcc$KC_leiden_R)"
   ],
   "outputs": [],
   "execution_count": null
  },
  {
   "cell_type": "code",
   "id": "56360c81-f8a1-47b0-9984-abe983980635",
   "metadata": {
    "vscode": {
     "languageId": "r"
    }
   },
   "source": [
    "KCcancer<-rownames(scc_bcc@meta.data[grep(\"Cancer\", scc_bcc@meta.data$Level2_Cancer),])\n",
    "KCcancer <- subset(scc_bcc, cells = KCcancer, value = TRUE)\n",
    "melanoma<-rownames(mel@meta.data[grep(\"Melanoma\", mel$Level2_Cancer),])\n",
    "Melanoma <- subset(mel, cells = melanoma, value = TRUE)\n",
    "\n",
    "Melanoma@meta.data$seurat_clusters<-Melanoma$mel_leiden\n",
    "KCcancer@meta.data$seurat_clusters<-KCcancer$KC_leiden_R\n",
    "KC_Mel_cancer<-merge(KCcancer,Melanoma, add.cell.ids = c(\"KC\",\"Mel\"))\n",
    "\n",
    "KC_Mel_cancer@meta.data$cancer_type<-KC_Mel_cancer$Level2_Cancer\n",
    "#KC_Mel_cancer$cancer_type<-gsub(\"KC Basal|KC Hair|KC Differentiating|KC Cornified\",\"KC\",KC_Mel_cancer$cancer_type)\n",
    "unique(KC_Mel_cancer$cancer_type)"
   ],
   "outputs": [],
   "execution_count": null
  },
  {
   "cell_type": "code",
   "id": "7b6c476d-dfaf-47f4-9a16-bc2cf3f3faa9",
   "metadata": {
    "vscode": {
     "languageId": "r"
    }
   },
   "source": [
    "KC_Mel_cancer<-JoinLayers(object = KC_Mel_cancer, layers = \"counts\")\n",
    "y<-Seurat2PB(KC_Mel_cancer,sample=\"cancer_type\")\n",
    "y<-normLibSizes(y)\n",
    "donor<-factor(y$sample$sample)\n",
    "design<-model.matrix(~donor)\n",
    "colnames(design)<-gsub(\"donor\",\"\",colnames(design))\n",
    "#colnames(design)<-gsub(\"cluster\",\"\",colnames(design))\n",
    "colnames(design)[1]<-\"Int\"\n",
    "y<-estimateDisp(y,design,robust=TRUE)\n",
    "y$common.dispersion \n",
    "fit<-glmQLFit(y,design,robust=TRUE) \n",
    "ncls<-nlevels(donor) \n",
    "contr<-rbind(matrix(1/(1-ncls),ncls,ncls), +matrix(0,ncol(design)-ncls,ncls)) \n",
    "diag(contr)<-1 \n",
    "contr[1,]<-0 \n",
    "rownames(contr)<-colnames(design) \n",
    "colnames(contr)<-colnames(design)\n",
    "qlf<-list() \n",
    "for(i in 1:ncls){ \n",
    "  qlf[[i]]<-glmQLFTest(fit,contrast=contr[,i]) \n",
    "  qlf[[i]]$comparison<-paste0(levels(donor)[i],\"_vs_others\") \n",
    "}\n",
    "options(repr.plot.width = 6, repr.plot.height = 6)\n",
    "cluster<-as.factor(y$samples$cluster) \n",
    "#pdf(\"MDS_edgeR_SCC_KC_only_corrected_labels.pdf\")\n",
    "#plotMDS(y,pch=16,col=c(2:8)[cluster],main=\"MDS\") \n",
    "#legend(\"topleft\",legend=paste0(levels(cluster)), pch=14,col=2:8,cex=0.8)\n",
    "#dev.off()\n",
    "#plotMDS(y,pch=16,col=c(2:8)[cluster],main=\"MDS\") \n",
    "#pdf(\"dispersion.pdf\")\n",
    "#plotBCV(y)\n",
    "#dev.off()\n",
    "\n",
    "#pdf(\"QLdisp.pdf\")\n",
    "plotQLDisp(fit)\n",
    "#dev.off()\n",
    "\n",
    "dt<-lapply(lapply(qlf,decideTestsDGE),summary) \n",
    "dt.all<-do.call(\"cbind\",dt) \n",
    "head(dt.all)\n",
    "#write.table(dt.all,\"KC_only_cluster_wise_stats_labels_corrected.txt\",sep=\"\\t\",quote=FALSE,row.names=TRUE)\n"
   ],
   "outputs": [],
   "execution_count": null
  },
  {
   "cell_type": "code",
   "id": "c70acc0e-6c56-4752-9551-2c7f89196b18",
   "metadata": {
    "vscode": {
     "languageId": "r"
    }
   },
   "source": [
    "qlf[[1]]$table$FDR <- p.adjust(qlf[[1]]$table$PValue, method = \"BH\")\n",
    "\n",
    "# Add a column for significance\n",
    "logFC_threshold <- 2  # Fold change threshold (adjust as needed)\n",
    "fdr_threshold <- 0.05 # FDR threshold for significance\n",
    "\n",
    "qlf[[1]]$table$Significance <- with(qlf[[1]]$table, ifelse(FDR < fdr_threshold & logFC > logFC_threshold, \"Upregulated\",\n",
    "                                          ifelse(FDR < fdr_threshold & logFC < -logFC_threshold, \"Downregulated\", \"Not Significant\")))\n",
    "\n",
    "kc_up_sig<-rownames(qlf[[1]]$table[qlf[[1]]$table$logFC > logFC_threshold & qlf[[1]]$table$FDR < fdr_threshold, ])\n",
    "mel_up_sig<-rownames(qlf[[1]]$table[qlf[[1]]$table$logFC < -logFC_threshold & qlf[[1]]$table$FDR < fdr_threshold, ])\n",
    "length(kc_up_sig)\n",
    "length(mel_up_sig)"
   ],
   "outputs": [],
   "execution_count": null
  },
  {
   "cell_type": "code",
   "id": "e71e8edc-9ab8-433b-bce7-de91b5bbb265",
   "metadata": {
    "vscode": {
     "languageId": "r"
    }
   },
   "source": [
    "top <- 50  # Number of top genes to select from each direction (up and down)\n",
    "topMarkers <- list()\n",
    "\n",
    "for (i in 1:ncls) {\n",
    "  # Get the table for the current cluster\n",
    "  current_table <- qlf[[i]]$table\n",
    "  \n",
    "  # Order genes by PValue, then by logFC (positive and negative separately)\n",
    "  ordered_genes <- current_table[order(current_table$PValue, decreasing = FALSE), ]\n",
    "  \n",
    "  # Filter for upregulated genes (logFC > 0)\n",
    "  upregulated <- ordered_genes[ordered_genes$logFC > 0, ]\n",
    "  upregulated <- upregulated[order(-upregulated$logFC), ]  # Sort by descending logFC\n",
    "  \n",
    "  # Filter for downregulated genes (logFC < 0)\n",
    "  downregulated <- ordered_genes[ordered_genes$logFC < 0, ]\n",
    "  downregulated <- downregulated[order(downregulated$logFC), ]  # Sort by ascending logFC\n",
    "  \n",
    "  # Remove unwanted genes (e.g., RPS, RPL, LINC)\n",
    "  upregulated <- upregulated[!grepl(\"^RPS|^RPL|^LINC\", rownames(upregulated)), ]\n",
    "  downregulated <- downregulated[!grepl(\"^RPS|^RPL|^LINC\", rownames(downregulated)), ]\n",
    "  \n",
    "  # Select top N genes from both up and down\n",
    "  top_up <- head(rownames(upregulated), top)\n",
    "  top_down <- head(rownames(downregulated), top)\n",
    "  \n",
    "  # Combine selected genes for this cluster\n",
    "  topMarkers[[i]] <- c(top_up, top_down)\n",
    "}\n",
    "\n",
    "# Combine all selected genes into a single list\n",
    "combined_topMarkers <- unlist(topMarkers, use.names = FALSE)\n",
    "\n",
    "# Remove duplicates if necessary\n",
    "combined_topMarkers <- unique(combined_topMarkers)\n",
    "\n",
    "# Print the total number of genes in the final list\n",
    "length(combined_topMarkers)\n",
    "\n",
    "# Final result: `combined_topMarkers` contains top genes (upregulated and downregulated) for all clusters\n",
    "topMarkers <-combined_topMarkers"
   ],
   "outputs": [],
   "execution_count": null
  },
  {
   "cell_type": "code",
   "id": "e1387840-cce9-4fbf-be77-da38509941e8",
   "metadata": {
    "vscode": {
     "languageId": "r"
    }
   },
   "source": [
    "qlf[[1]]$table[topMarkers,]"
   ],
   "outputs": [],
   "execution_count": null
  },
  {
   "cell_type": "code",
   "id": "d33beb2c-8b40-4e64-931f-cece2a5ce2c8",
   "metadata": {
    "vscode": {
     "languageId": "r"
    }
   },
   "source": [
    "lcpm<-cpm(y,log=TRUE) \n",
    "annot<-data.frame(cluster=cluster) \n",
    "rownames(annot)<-colnames(y) \n",
    "ann_colors<-list(cluster=0:16) \n",
    "names(ann_colors$cluster)<-levels(cluster)"
   ],
   "outputs": [],
   "execution_count": null
  },
  {
   "cell_type": "code",
   "id": "c6f586b8-4b46-4557-a5c0-d4dfdfebd236",
   "metadata": {
    "vscode": {
     "languageId": "r"
    }
   },
   "source": [
    "options(repr.plot.width = 8, repr.plot.height = 15)\n",
    "\n",
    "library(pheatmap)\n",
    "#o<-read.csv(\"KC_only_desired_order.txt\",sep=\"\\t\",header=FALSE)\n",
    "#desired_order<-o$V1\n",
    "colnames(lcpm)<-gsub(\"cluster\",\"\",colnames(lcpm))\n",
    "#desired_order<-c(\"0\",\"1\",\"11\",\"2\",\"4\",\"6\",\"3\",\"5\",\"7\",\"8\",\"9\",\"10\",\"12\",\"13\",\"14\",\"15\")\n",
    "#lcpm_o <- lcpm[,match(desired_order, colnames(lcpm)), drop = FALSE]\n",
    "\n",
    "\n",
    "#rownames(annot)<-gsub(\"cluster\",\"\",rownames(annot))\n",
    "#annot_o <- annot[match(desired_order, rownames(annot)), , drop = FALSE]\n",
    "\n",
    "heatmap_data <- lcpm[topMarkers,]\n",
    "\n",
    "kc_mel <- pheatmap::pheatmap(lcpm[topMarkers,],breaks=seq(-2,2,length.out=101),color=colorRampPalette(c(\"blue\",\"white\",\"red\"))(100),scale=\"row\",\n",
    "                   cluster_cols=FALSE,border_color=\"NA\",fontsize_row=8,\n",
    "                   show_colnames=FALSE)\n",
    "\n",
    "\n",
    "\n",
    "genes_on_heatmap <- rownames(heatmap_data)[kc_mel$tree_row$order]\n"
   ],
   "outputs": [],
   "execution_count": null
  },
  {
   "cell_type": "code",
   "id": "0af54b00-67ae-4766-aaf9-9e2ed71fc76a",
   "metadata": {
    "vscode": {
     "languageId": "r"
    }
   },
   "source": [
    "top <- 50  # Number of top genes to select from each direction (up and down)\n",
    "topMarkers <- list()\n",
    "\n",
    "for (i in 1:ncls) {\n",
    "  # Get the table for the current cluster\n",
    "  current_table <- qlf[[1]]$table\n",
    "  # Order genes by PValue, then by logFC (positive and negative separately)\n",
    "  ordered_genes <- current_table[order(current_table$FDR, decreasing = FALSE), ]\n",
    "  # Filter for upregulated genes (logFC > 0)\n",
    "  upregulated <- ordered_genes[ordered_genes$logFC > 0, ]\n",
    "  upregulated <- upregulated[order(-upregulated$logFC), ]  # Sort by descending logFC\n",
    "  # Filter for downregulated genes (logFC < 0)\n",
    "  downregulated <- ordered_genes[ordered_genes$logFC < 0, ]\n",
    "  downregulated <- downregulated[order(downregulated$logFC), ]  # Sort by ascending logFC\n",
    "  # Remove unwanted genes (e.g., RPS, RPL, LINC)\n",
    "  upregulated <- upregulated[!grepl(\"^RPS|^RPL|^LINC\", rownames(upregulated)), ]\n",
    "  downregulated <- downregulated[!grepl(\"^RPS|^RPL|^LINC\", rownames(downregulated)), ]\n",
    "  # Select top N genes from both up and down\n",
    "  top_up <- head(rownames(upregulated), top)\n",
    "  top_down <- head(rownames(downregulated), top)\n",
    "    # Combine selected genes for this cluster\n",
    "  topMarkers[[i]] <- c(top_up, top_down)\n",
    "}\n",
    "# Combine all selected genes into a single list\n",
    "combined_topMarkers <- unlist(topMarkers, use.names = FALSE)\n",
    "# Remove duplicates if necessary\n",
    "combined_topMarkers <- unique(combined_topMarkers)\n",
    "# Print the total number of genes in the final list\n",
    "length(combined_topMarkers)\n",
    "# Final result: `combined_topMarkers` contains top genes (upregulated and downregulated) for all clusters\n",
    "topMarkers <-combined_topMarkers\n",
    "\n",
    "\n",
    "\n",
    "options(repr.plot.width = 8, repr.plot.height = 15)\n",
    "\n",
    "library(pheatmap)\n",
    "#o<-read.csv(\"KC_only_desired_order.txt\",sep=\"\\t\",header=FALSE)\n",
    "#desired_order<-o$V1\n",
    "colnames(lcpm)<-gsub(\"cluster\",\"\",colnames(lcpm))\n",
    "#desired_order<-c(\"0\",\"1\",\"11\",\"2\",\"4\",\"6\",\"3\",\"5\",\"7\",\"8\",\"9\",\"10\",\"12\",\"13\",\"14\",\"15\")\n",
    "#lcpm_o <- lcpm[,match(desired_order, colnames(lcpm)), drop = FALSE]\n",
    "\n",
    "\n",
    "#rownames(annot)<-gsub(\"cluster\",\"\",rownames(annot))\n",
    "#annot_o <- annot[match(desired_order, rownames(annot)), , drop = FALSE]\n",
    "\n",
    "heatmap_data <- lcpm[topMarkers,]\n",
    "\n",
    "kc_mel <- pheatmap::pheatmap(lcpm[topMarkers,],breaks=seq(-2,2,length.out=101),color=colorRampPalette(c(\"blue\",\"white\",\"red\"))(100),scale=\"row\",\n",
    "                   cluster_cols=FALSE,border_color=\"NA\",fontsize_row=8,\n",
    "                   show_colnames=FALSE)\n",
    "\n",
    "\n",
    "\n",
    "genes_on_heatmap <- rownames(heatmap_data)[kc_mel$tree_row$order]\n"
   ],
   "outputs": [],
   "execution_count": null
  },
  {
   "cell_type": "code",
   "id": "4386cf2f-94b8-4406-b3ff-19c2f64add46",
   "metadata": {
    "vscode": {
     "languageId": "r"
    }
   },
   "source": [
    "genes_on_heatmap"
   ],
   "outputs": [],
   "execution_count": null
  },
  {
   "cell_type": "code",
   "id": "9ea25183-97a7-46c4-8489-0862373ba1b6",
   "metadata": {
    "vscode": {
     "languageId": "r"
    }
   },
   "source": [
    "# Set plot dimensions\n",
    "options(repr.plot.width = 20, repr.plot.height = 5)\n",
    "heatmap_data_transposed <- t(heatmap_data)\n",
    "\n",
    "# Generate the heatmap\n",
    "kc_mel_flipped <- pheatmap::pheatmap(\n",
    "  heatmap_data_transposed,\n",
    "  breaks = seq(-2, 2, length.out = 101),\n",
    "  color = colorRampPalette(c(\"blue\", \"white\", \"red\"))(100),\n",
    "  scale = \"row\",\n",
    "  cluster_cols = FALSE,\n",
    "  border_color = \"NA\",\n",
    "  fontsize_row = 8,\n",
    "  show_colnames = TRUE,\n",
    "  show_rownames = FALSE\n",
    ")\n"
   ],
   "outputs": [],
   "execution_count": null
  },
  {
   "cell_type": "code",
   "id": "e02549c4-d939-4d7e-87ce-35aea7e99315",
   "metadata": {
    "vscode": {
     "languageId": "r"
    }
   },
   "source": [
    "colnames(lcpm)"
   ],
   "outputs": [],
   "execution_count": null
  },
  {
   "cell_type": "code",
   "id": "a89d02b5-ac00-439f-8a91-ca4fb3066321",
   "metadata": {
    "vscode": {
     "languageId": "r"
    }
   },
   "source": [
    "options(repr.plot.width = 8, repr.plot.height = 15)\n",
    "\n",
    "kc_mel_sig <- pheatmap::pheatmap(lcpm[c(kc_up_sig,mel_up_sig),],breaks=seq(-2,2,length.out=101),color=colorRampPalette(c(\"blue\",\"white\",\"red\"))(100),scale=\"row\",\n",
    "                   cluster_cols=FALSE,border_color=\"NA\",fontsize_row=8,\n",
    "                   show_colnames=FALSE)\n",
    "\n"
   ],
   "outputs": [],
   "execution_count": null
  },
  {
   "cell_type": "code",
   "id": "5f909317-1ff0-48e9-b91e-8805ec51a331",
   "metadata": {
    "vscode": {
     "languageId": "r"
    }
   },
   "source": [
    "colnames(lcpm)"
   ],
   "outputs": [],
   "execution_count": null
  },
  {
   "cell_type": "code",
   "id": "d1eb98a2-8257-4c46-9b9d-6282ce3d9c0c",
   "metadata": {
    "vscode": {
     "languageId": "r"
    }
   },
   "source": [
    "topMarkers"
   ],
   "outputs": [],
   "execution_count": null
  },
  {
   "cell_type": "code",
   "id": "cc9df6e6-a4fd-408b-bedd-320a494dda5a",
   "metadata": {
    "vscode": {
     "languageId": "r"
    }
   },
   "source": [
    "# Define thresholds\n",
    "logFC_threshold <- 2  # Change if necessary\n",
    "pvalue_threshold <- 0.05  # Adjust based on significance level\n",
    "\n",
    "# Extract upregulated genes in KC\n",
    "kc_up <- rownames(qlf[[1]]$table[qlf[[1]]$table$logFC > logFC_threshold & qlf[[1]]$table$PValue < pvalue_threshold, ])\n",
    "\n",
    "# Extract downregulated genes in KC (upregulated in MEL)\n",
    "mel_up <- rownames(qlf[[1]]$table[qlf[[1]]$table$logFC < -logFC_threshold & qlf[[1]]$table$PValue < pvalue_threshold, ])\n",
    "\n",
    "# Print summary\n",
    "cat(\"Number of significantly upregulated genes in KC:\", length(kc_up), \"\\n\")\n",
    "cat(\"Number of significantly downregulated genes in KC (up in MEL):\", length(mel_up), \"\\n\")\n"
   ],
   "outputs": [],
   "execution_count": null
  },
  {
   "cell_type": "code",
   "id": "a05f25a0-607f-473f-928a-af69ba49aa1d",
   "metadata": {
    "vscode": {
     "languageId": "r"
    }
   },
   "source": [
    "pheatmap::pheatmap(lcpm[mel_up,],breaks=seq(-2,2,length.out=101),color=colorRampPalette(c(\"blue\",\"white\",\"red\"))(100),scale=\"row\",\n",
    "                   cluster_cols=FALSE,border_color=\"NA\",fontsize_row=8,\n",
    "                   show_colnames=FALSE)\n",
    "\n",
    "pheatmap::pheatmap(lcpm[kc_up,],breaks=seq(-2,2,length.out=101),color=colorRampPalette(c(\"blue\",\"white\",\"red\"))(100),scale=\"row\",\n",
    "                   cluster_cols=FALSE,border_color=\"NA\",fontsize_row=8,\n",
    "                   show_colnames=FALSE)\n"
   ],
   "outputs": [],
   "execution_count": null
  },
  {
   "cell_type": "code",
   "id": "4136e80c-7027-4c09-aabd-31200f2138cd",
   "metadata": {
    "vscode": {
     "languageId": "r"
    }
   },
   "source": [
    "options(repr.plot.width = 5, repr.plot.height = 5)\n",
    "\n",
    "# Load ggplot2\n",
    "library(ggplot2)\n",
    "\n",
    "# Add a column for adjusted p-values\n",
    "qlf[[1]]$table$FDR <- p.adjust(qlf[[1]]$table$PValue, method = \"BH\")\n",
    "\n",
    "# Add a column for significance\n",
    "logFC_threshold <- 5  # Fold change threshold (adjust as needed)\n",
    "fdr_threshold <- 0.05 # FDR threshold for significance\n",
    "\n",
    "qlf[[1]]$table$Significance <- with(qlf[[1]]$table, ifelse(FDR < fdr_threshold & logFC > logFC_threshold, \"Upregulated\",\n",
    "                                          ifelse(FDR < fdr_threshold & logFC < -logFC_threshold, \"Downregulated\", \"Not Significant\")))\n",
    "\n",
    "# Convert to a data frame for ggplot2\n",
    "volcano_data <- data.frame(qlf[[1]]$table)\n",
    "\n",
    "# Plot the volcano\n",
    "volcano_plot <- ggplot(volcano_data, aes(x = logFC, y = -log10(PValue), color = Significance)) +\n",
    "  geom_point(alpha = 0.8, size = 2) +\n",
    "  scale_color_manual(values = c(\"Upregulated\" = \"red\", \"Downregulated\" = \"blue\", \"Not Significant\" = \"grey\")) +\n",
    "  theme_minimal() +\n",
    "  labs(title = \"Volcano Plot\",\n",
    "       x = \"Log2 Fold Change\",\n",
    "       y = \"-Log10 P-value\") +\n",
    "  theme(legend.title = element_blank(),\n",
    "        plot.title = element_text(hjust = 0.5))\n",
    "\n",
    "# Display the plot\n",
    "print(volcano_plot)\n"
   ],
   "outputs": [],
   "execution_count": null
  },
  {
   "cell_type": "code",
   "id": "bd42e59b-227d-4bf4-8952-86dc4b111d63",
   "metadata": {
    "scrolled": true,
    "vscode": {
     "languageId": "r"
    }
   },
   "source": [
    "qlf[[1]]$table[topMarkers,]"
   ],
   "outputs": [],
   "execution_count": null
  },
  {
   "cell_type": "markdown",
   "id": "6fc069af-423b-4c6a-b462-9936e419066f",
   "metadata": {},
   "source": [
    "# Melanpma vs melanocytes"
   ]
  },
  {
   "cell_type": "code",
   "id": "cdb14fcb-366b-4809-8367-fc94852d2417",
   "metadata": {
    "vscode": {
     "languageId": "r"
    }
   },
   "source": [
    "mel_only<-rownames(mel@meta.data[grep(\"Melanocytes\", mel$Level2),])\n",
    "mel_only <- subset(mel, cells = mel_only, value = TRUE)\n",
    "mel_only"
   ],
   "outputs": [],
   "execution_count": null
  },
  {
   "cell_type": "code",
   "id": "888a6f95-db6b-48a8-aaf8-64376e0f4c1b",
   "metadata": {
    "vscode": {
     "languageId": "r"
    }
   },
   "source": [
    "mel_only$Level3_MPS13cancer"
   ],
   "outputs": [],
   "execution_count": null
  },
  {
   "cell_type": "code",
   "id": "2313ff24-d99e-45e7-882e-b1e97f04d4c0",
   "metadata": {
    "vscode": {
     "languageId": "r"
    }
   },
   "source": [
    "y<-Seurat2PB(mel_only,sample=\"Level3_MPS13cancer\", cluster=\"mel_leiden\")\n",
    "y<-normLibSizes(y)\n",
    "donor<-factor(y$sample$sample)\n",
    "design<-model.matrix(~donor)\n",
    "colnames(design)<-gsub(\"donor\",\"\",colnames(design))\n",
    "#colnames(design)<-gsub(\"cluster\",\"\",colnames(design))\n",
    "colnames(design)[1]<-\"Int\"\n",
    "y<-estimateDisp(y,design,robust=TRUE)\n",
    "y$common.dispersion \n",
    "fit<-glmQLFit(y,design,robust=TRUE) \n",
    "ncls<-nlevels(donor) \n",
    "contr<-rbind(matrix(1/(1-ncls),ncls,ncls), +matrix(0,ncol(design)-ncls,ncls)) \n",
    "diag(contr)<-1 \n",
    "contr[1,]<-0 \n",
    "rownames(contr)<-colnames(design) \n",
    "colnames(contr)<-colnames(design)\n",
    "qlf<-list() \n",
    "for(i in 1:ncls){ \n",
    "  qlf[[i]]<-glmQLFTest(fit,contrast=contr[,i]) \n",
    "  qlf[[i]]$comparison<-paste0(levels(donor)[i],\"_vs_others\") \n",
    "}\n",
    "options(repr.plot.width = 6, repr.plot.height = 6)\n",
    "cluster<-as.factor(y$samples$cluster) \n",
    "#pdf(\"MDS_edgeR_SCC_KC_only_corrected_labels.pdf\")\n",
    "#plotMDS(y,pch=16,col=c(2:8)[cluster],main=\"MDS\") \n",
    "#legend(\"topleft\",legend=paste0(levels(cluster)), pch=14,col=2:8,cex=0.8)\n",
    "#dev.off()\n",
    "#plotMDS(y,pch=16,col=c(2:8)[cluster],main=\"MDS\") \n",
    "#pdf(\"dispersion.pdf\")\n",
    "#plotBCV(y)\n",
    "#dev.off()\n",
    "\n",
    "#pdf(\"QLdisp.pdf\")\n",
    "plotQLDisp(fit)\n",
    "#dev.off()\n",
    "\n",
    "dt<-lapply(lapply(qlf,decideTestsDGE),summary) \n",
    "dt.all<-do.call(\"cbind\",dt) \n",
    "head(dt.all)\n",
    "#write.table(dt.all,\"KC_only_cluster_wise_stats_labels_corrected.txt\",sep=\"\\t\",quote=FALSE,row.names=TRUE)\n"
   ],
   "outputs": [],
   "execution_count": null
  },
  {
   "cell_type": "code",
   "id": "59143906-0a84-423a-9a72-b2c91a9c4ce8",
   "metadata": {
    "vscode": {
     "languageId": "r"
    }
   },
   "source": [
    "qlf[[1]]$table$FDR <- p.adjust(qlf[[1]]$table$PValue, method = \"BH\")\n",
    "\n",
    "# Add a column for significance\n",
    "logFC_threshold <- 2  # Fold change threshold (adjust as needed)\n",
    "fdr_threshold <- 0.05 # FDR threshold for significance\n",
    "\n",
    "qlf[[1]]$table$Significance <- with(qlf[[1]]$table, ifelse(FDR < fdr_threshold & logFC > logFC_threshold, \"Upregulated\",\n",
    "                                          ifelse(FDR < fdr_threshold & logFC < -logFC_threshold, \"Downregulated\", \"Not Significant\")))\n",
    "length(rownames(qlf[[1]]$table[qlf[[1]]$table$logFC > logFC_threshold & qlf[[1]]$table$FDR < fdr_threshold, ]))\n",
    "\n",
    "norm_mel_up_sig<-rownames(qlf[[1]]$table[qlf[[1]]$table$logFC > logFC_threshold & qlf[[1]]$table$FDR < fdr_threshold, ])\n",
    "cancer_mel_up_sig<-rownames(qlf[[1]]$table[qlf[[1]]$table$logFC < -logFC_threshold & qlf[[1]]$table$FDR < fdr_threshold, ])\n",
    "length(norm_mel_up_sig)\n",
    "length(cancer_mel_up_sig)"
   ],
   "outputs": [],
   "execution_count": null
  },
  {
   "cell_type": "code",
   "id": "8146fbf3-f8ba-4ee2-a02b-4091faa5b51d",
   "metadata": {
    "vscode": {
     "languageId": "r"
    }
   },
   "source": [],
   "outputs": [],
   "execution_count": null
  },
  {
   "cell_type": "code",
   "id": "af1d656d-fd5a-4cad-9726-a0d617def0ff",
   "metadata": {
    "vscode": {
     "languageId": "r"
    }
   },
   "source": [
    "length(melanoma_up)"
   ],
   "outputs": [],
   "execution_count": null
  },
  {
   "cell_type": "code",
   "id": "7da1e264-ab96-4989-a0fd-bc6a08bafa9f",
   "metadata": {
    "vscode": {
     "languageId": "r"
    }
   },
   "source": [
    "top <- 50  # Number of top genes to select from each direction (up and down)\n",
    "topMarkers <- list()\n",
    "\n",
    "for (i in 1:ncls) {\n",
    "  # Get the table for the current cluster\n",
    "  current_table <- qlf[[i]]$table\n",
    "  \n",
    "  # Order genes by PValue, then by logFC (positive and negative separately)\n",
    "  ordered_genes <- current_table[order(current_table$PValue, decreasing = FALSE), ]\n",
    "  \n",
    "  # Filter for upregulated genes (logFC > 0)\n",
    "  upregulated <- ordered_genes[ordered_genes$logFC > 0, ]\n",
    "  upregulated <- upregulated[order(-upregulated$logFC), ]  # Sort by descending logFC\n",
    "  \n",
    "  # Filter for downregulated genes (logFC < 0)\n",
    "  downregulated <- ordered_genes[ordered_genes$logFC < 0, ]\n",
    "  downregulated <- downregulated[order(downregulated$logFC), ]  # Sort by ascending logFC\n",
    "  \n",
    "  # Remove unwanted genes (e.g., RPS, RPL, LINC)\n",
    "  upregulated <- upregulated[!grepl(\"^RPS|^RPL|^LINC\", rownames(upregulated)), ]\n",
    "  downregulated <- downregulated[!grepl(\"^RPS|^RPL|^LINC\", rownames(downregulated)), ]\n",
    "  \n",
    "  # Select top N genes from both up and down\n",
    "  top_up <- head(rownames(upregulated), top)\n",
    "  top_down <- head(rownames(downregulated), top)\n",
    "  \n",
    "  # Combine selected genes for this cluster\n",
    "  topMarkers[[i]] <- c(top_up, top_down)\n",
    "}\n",
    "\n",
    "# Combine all selected genes into a single list\n",
    "combined_topMarkers <- unlist(topMarkers, use.names = FALSE)\n",
    "\n",
    "# Remove duplicates if necessary\n",
    "combined_topMarkers <- unique(combined_topMarkers)\n",
    "\n",
    "# Print the total number of genes in the final list\n",
    "length(combined_topMarkers)\n",
    "\n",
    "# Final result: `combined_topMarkers` contains top genes (upregulated and downregulated) for all clusters\n",
    "topMarkers <-combined_topMarkers"
   ],
   "outputs": [],
   "execution_count": null
  },
  {
   "cell_type": "code",
   "id": "b875ab32-b303-4c99-87bf-5cd61e1289c9",
   "metadata": {
    "vscode": {
     "languageId": "r"
    }
   },
   "source": [
    "lcpm<-cpm(y,log=TRUE) \n",
    "annot<-data.frame(cluster=cluster) \n",
    "rownames(annot)<-colnames(y) \n",
    "ann_colors<-list(cluster=0:20) \n",
    "names(ann_colors$cluster)<-levels(cluster)"
   ],
   "outputs": [],
   "execution_count": null
  },
  {
   "cell_type": "code",
   "id": "91bd5d5d-1d8d-46a4-a9ba-2a99a39af4ed",
   "metadata": {
    "vscode": {
     "languageId": "r"
    }
   },
   "source": [
    "options(repr.plot.width = 8, repr.plot.height = 15)\n",
    "\n",
    "library(pheatmap)\n",
    "#o<-read.csv(\"KC_only_desired_order.txt\",sep=\"\\t\",header=FALSE)\n",
    "#desired_order<-o$V1\n",
    "colnames(lcpm)<-gsub(\"cluster\",\"\",colnames(lcpm))\n",
    "#desired_order<-c(\"0\",\"1\",\"11\",\"2\",\"4\",\"6\",\"3\",\"5\",\"7\",\"8\",\"9\",\"10\",\"12\",\"13\",\"14\",\"15\")\n",
    "#lcpm_o <- lcpm[,match(desired_order, colnames(lcpm)), drop = FALSE]\n",
    "\n",
    "\n",
    "#rownames(annot)<-gsub(\"cluster\",\"\",rownames(annot))\n",
    "#annot_o <- annot[match(desired_order, rownames(annot)), , drop = FALSE]\n",
    "\n",
    "heatmap_data <- lcpm[topMarkers,]\n",
    "\n",
    "mel_c_vs_n <- pheatmap::pheatmap(lcpm[topMarkers,],breaks=seq(-2,2,length.out=101),color=colorRampPalette(c(\"blue\",\"white\",\"red\"))(100),scale=\"row\",\n",
    "                   cluster_cols=FALSE,border_color=\"NA\",fontsize_row=8,\n",
    "                   show_colnames=FALSE)\n",
    "\n",
    "\n",
    "\n",
    "genes_on_heatmap <- rownames(heatmap_data)[kc_mel$tree_row$order]\n"
   ],
   "outputs": [],
   "execution_count": null
  },
  {
   "cell_type": "code",
   "id": "60ad02fd-a5fa-487b-844a-d14c55d65289",
   "metadata": {
    "vscode": {
     "languageId": "r"
    }
   },
   "source": [
    "options(repr.plot.width = 8, repr.plot.height = 15)\n",
    "\n",
    "mel_c_n_sig<-pheatmap::pheatmap(lcpm[c(norm_mel_up_sig,cancer_mel_up_sig),],breaks=seq(-2,2,length.out=101),color=colorRampPalette(c(\"blue\",\"white\",\"red\"))(100),scale=\"row\",\n",
    "                   cluster_cols=FALSE,border_color=\"NA\",fontsize_row=8,\n",
    "                   show_colnames=FALSE)"
   ],
   "outputs": [],
   "execution_count": null
  },
  {
   "cell_type": "code",
   "id": "0e83843e-31ff-498b-a17f-4048122a0639",
   "metadata": {
    "vscode": {
     "languageId": "r"
    }
   },
   "source": [
    "colnames(lcpm)"
   ],
   "outputs": [],
   "execution_count": null
  },
  {
   "cell_type": "code",
   "id": "90e2bab5-dc5f-4507-aec9-c730486f96a7",
   "metadata": {
    "vscode": {
     "languageId": "r"
    }
   },
   "source": [
    "# Define thresholds\n",
    "logFC_threshold <- 2  # Change if necessary\n",
    "pvalue_threshold <- 0.05  # Adjust based on significance level\n",
    "\n",
    "# Extract upregulated genes in KC\n",
    "norm_melanocytes_up <- rownames(qlf[[1]]$table[qlf[[1]]$table$logFC > logFC_threshold & qlf[[1]]$table$PValue < pvalue_threshold, ])\n",
    "\n",
    "# Extract downregulated genes in KC (upregulated in MEL)\n",
    "melanoma_up <- rownames(qlf[[1]]$table[qlf[[1]]$table$logFC < -logFC_threshold & qlf[[1]]$table$PValue < pvalue_threshold, ])\n",
    "\n",
    "# Print summary\n",
    "cat(\"Number of significantly upregulated genes in norm mel:\", length(norm_melanocytes_up), \"\\n\")\n",
    "cat(\"Number of significantly downregulated genes in KC (up in cancer mel):\", length(melanoma_up), \"\\n\")\n"
   ],
   "outputs": [],
   "execution_count": null
  },
  {
   "cell_type": "code",
   "id": "8d722238-f07b-4795-8edc-4027e48c3a16",
   "metadata": {
    "vscode": {
     "languageId": "r"
    }
   },
   "source": [],
   "outputs": [],
   "execution_count": null
  },
  {
   "cell_type": "code",
   "id": "fae41751-816d-4847-8d60-bed883320095",
   "metadata": {
    "vscode": {
     "languageId": "r"
    }
   },
   "source": [],
   "outputs": [],
   "execution_count": null
  },
  {
   "cell_type": "markdown",
   "id": "6a58d4b3-9818-48fd-9a89-bc732410816f",
   "metadata": {},
   "source": [
    "# KC Normal Vs Cancer"
   ]
  },
  {
   "cell_type": "code",
   "id": "5f1527bb-59dd-408e-9982-90b9909749c9",
   "metadata": {
    "vscode": {
     "languageId": "r"
    }
   },
   "source": [
    "kc_only<-rownames(scc_bcc@meta.data[grep(\"KC\", scc_bcc$Level2),])\n",
    "kc_only <- subset(scc_bcc, cells = kc_only, value = TRUE)\n",
    "kc_only"
   ],
   "outputs": [],
   "execution_count": null
  },
  {
   "cell_type": "code",
   "id": "d121c368-0d48-4cb1-b153-ea59a4d827e6",
   "metadata": {
    "vscode": {
     "languageId": "r"
    }
   },
   "source": [
    "kc_only@meta.data$cancer_type<-kc_only$Level2_Cancer\n",
    "kc_only$cancer_type<-gsub(\"KC Basal|KC Hair|KC Differentiating|KC Cornified|KC Dysplastic|KC IFN\",\"KC Normal\",kc_only$cancer_type)\n",
    "unique(kc_only$cancer_type)\n",
    "\n",
    "kc_only$KC_leiden_R"
   ],
   "outputs": [],
   "execution_count": null
  },
  {
   "cell_type": "code",
   "id": "84b65114-8583-4c34-b34d-3e897c71bf4d",
   "metadata": {
    "vscode": {
     "languageId": "r"
    }
   },
   "source": [
    "y<-Seurat2PB(kc_only,sample=\"cancer_type\", cluster=\"KC_leiden_R\")\n",
    "y<-normLibSizes(y)\n",
    "donor<-factor(y$sample$sample)\n",
    "design<-model.matrix(~donor)\n",
    "colnames(design)<-gsub(\"donor\",\"\",colnames(design))\n",
    "#colnames(design)<-gsub(\"cluster\",\"\",colnames(design))\n",
    "colnames(design)[1]<-\"Int\"\n",
    "y<-estimateDisp(y,design,robust=TRUE)\n",
    "y$common.dispersion \n",
    "fit<-glmQLFit(y,design,robust=TRUE) \n",
    "ncls<-nlevels(donor) \n",
    "contr<-rbind(matrix(1/(1-ncls),ncls,ncls), +matrix(0,ncol(design)-ncls,ncls)) \n",
    "diag(contr)<-1 \n",
    "contr[1,]<-0 \n",
    "rownames(contr)<-colnames(design) \n",
    "colnames(contr)<-colnames(design)\n",
    "qlf<-list() \n",
    "for(i in 1:ncls){ \n",
    "  qlf[[i]]<-glmQLFTest(fit,contrast=contr[,i]) \n",
    "  qlf[[i]]$comparison<-paste0(levels(donor)[i],\"_vs_others\") \n",
    "}\n",
    "options(repr.plot.width = 6, repr.plot.height = 6)\n",
    "cluster<-as.factor(y$samples$cluster) \n",
    "#pdf(\"MDS_edgeR_SCC_KC_only_corrected_labels.pdf\")\n",
    "#plotMDS(y,pch=16,col=c(2:8)[cluster],main=\"MDS\") \n",
    "#legend(\"topleft\",legend=paste0(levels(cluster)), pch=14,col=2:8,cex=0.8)\n",
    "#dev.off()\n",
    "#plotMDS(y,pch=16,col=c(2:8)[cluster],main=\"MDS\") \n",
    "#pdf(\"dispersion.pdf\")\n",
    "#plotBCV(y)\n",
    "#dev.off()\n",
    "\n",
    "#pdf(\"QLdisp.pdf\")\n",
    "plotQLDisp(fit)\n",
    "#dev.off()\n",
    "\n",
    "dt<-lapply(lapply(qlf,decideTestsDGE),summary) \n",
    "dt.all<-do.call(\"cbind\",dt) \n",
    "head(dt.all)\n",
    "#write.table(dt.all,\"KC_only_cluster_wise_stats_labels_corrected.txt\",sep=\"\\t\",quote=FALSE,row.names=TRUE)\n"
   ],
   "outputs": [],
   "execution_count": null
  },
  {
   "cell_type": "code",
   "id": "a1348cd7-ee98-40de-856f-576842c1e4f2",
   "metadata": {
    "vscode": {
     "languageId": "r"
    }
   },
   "source": [
    "qlf[[1]]$table$FDR <- p.adjust(qlf[[1]]$table$PValue, method = \"BH\")\n",
    "\n",
    "# Add a column for significance\n",
    "logFC_threshold <- 2  # Fold change threshold (adjust as needed)\n",
    "fdr_threshold <- 0.05 # FDR threshold for significance\n",
    "\n",
    "qlf[[1]]$table$Significance <- with(qlf[[1]]$table, ifelse(FDR < fdr_threshold & logFC > logFC_threshold, \"Upregulated\",\n",
    "                                          ifelse(FDR < fdr_threshold & logFC < -logFC_threshold, \"Downregulated\", \"Not Significant\")))\n",
    "\n",
    "norm_kc_up_sig<-rownames(qlf[[1]]$table[qlf[[1]]$table$logFC > logFC_threshold & qlf[[1]]$table$FDR < fdr_threshold, ])\n",
    "cancer_kc_up_sig<-rownames(qlf[[1]]$table[qlf[[1]]$table$logFC < -logFC_threshold & qlf[[1]]$table$FDR < fdr_threshold, ])\n",
    "length(norm_kc_up_sig)\n",
    "length(cancer_kc_up_sig)"
   ],
   "outputs": [],
   "execution_count": null
  },
  {
   "cell_type": "code",
   "id": "b3b599aa-1ec3-481d-84e4-65a1bac569bd",
   "metadata": {
    "vscode": {
     "languageId": "r"
    }
   },
   "source": [],
   "outputs": [],
   "execution_count": null
  },
  {
   "cell_type": "code",
   "id": "6762baa8-88f1-42e8-bdc7-fe871bbed67d",
   "metadata": {
    "vscode": {
     "languageId": "r"
    }
   },
   "source": [
    "top <- 50  # Number of top genes to select from each direction (up and down)\n",
    "topMarkers <- list()\n",
    "\n",
    "for (i in 1:ncls) {\n",
    "  # Get the table for the current cluster\n",
    "  current_table <- qlf[[i]]$table\n",
    "  \n",
    "  # Order genes by PValue, then by logFC (positive and negative separately)\n",
    "  ordered_genes <- current_table[order(current_table$PValue, decreasing = FALSE), ]\n",
    "  \n",
    "  # Filter for upregulated genes (logFC > 0)\n",
    "  upregulated <- ordered_genes[ordered_genes$logFC > 0, ]\n",
    "  upregulated <- upregulated[order(-upregulated$logFC), ]  # Sort by descending logFC\n",
    "  \n",
    "  # Filter for downregulated genes (logFC < 0)\n",
    "  downregulated <- ordered_genes[ordered_genes$logFC < 0, ]\n",
    "  downregulated <- downregulated[order(downregulated$logFC), ]  # Sort by ascending logFC\n",
    "  \n",
    "  # Remove unwanted genes (e.g., RPS, RPL, LINC)\n",
    "  upregulated <- upregulated[!grepl(\"^RPS|^RPL|^LINC\", rownames(upregulated)), ]\n",
    "  downregulated <- downregulated[!grepl(\"^RPS|^RPL|^LINC\", rownames(downregulated)), ]\n",
    "  \n",
    "  # Select top N genes from both up and down\n",
    "  top_up <- head(rownames(upregulated), top)\n",
    "  top_down <- head(rownames(downregulated), top)\n",
    "  \n",
    "  # Combine selected genes for this cluster\n",
    "  topMarkers[[i]] <- c(top_up, top_down)\n",
    "}\n",
    "\n",
    "# Combine all selected genes into a single list\n",
    "combined_topMarkers <- unlist(topMarkers, use.names = FALSE)\n",
    "\n",
    "# Remove duplicates if necessary\n",
    "combined_topMarkers <- unique(combined_topMarkers)\n",
    "\n",
    "# Print the total number of genes in the final list\n",
    "length(combined_topMarkers)\n",
    "\n",
    "# Final result: `combined_topMarkers` contains top genes (upregulated and downregulated) for all clusters\n",
    "topMarkers <-combined_topMarkers"
   ],
   "outputs": [],
   "execution_count": null
  },
  {
   "cell_type": "code",
   "id": "4768cc3f-c3d5-4afa-8be5-ab483ff8926b",
   "metadata": {
    "vscode": {
     "languageId": "r"
    }
   },
   "source": [
    "lcpm<-cpm(y,log=TRUE) \n",
    "annot<-data.frame(cluster=cluster) \n",
    "rownames(annot)<-colnames(y) \n",
    "ann_colors<-list(cluster=0:25) \n",
    "names(ann_colors$cluster)<-levels(cluster)"
   ],
   "outputs": [],
   "execution_count": null
  },
  {
   "cell_type": "code",
   "id": "6793563a-eb3e-4a0c-afcc-6a6bdc39fb34",
   "metadata": {
    "vscode": {
     "languageId": "r"
    }
   },
   "source": [
    "options(repr.plot.width = 8, repr.plot.height = 15)\n",
    "\n",
    "library(pheatmap)\n",
    "#o<-read.csv(\"KC_only_desired_order.txt\",sep=\"\\t\",header=FALSE)\n",
    "#desired_order<-o$V1\n",
    "colnames(lcpm)<-gsub(\"cluster\",\"\",colnames(lcpm))\n",
    "#desired_order<-c(\"0\",\"1\",\"11\",\"2\",\"4\",\"6\",\"3\",\"5\",\"7\",\"8\",\"9\",\"10\",\"12\",\"13\",\"14\",\"15\")\n",
    "#lcpm_o <- lcpm[,match(desired_order, colnames(lcpm)), drop = FALSE]\n",
    "\n",
    "\n",
    "#rownames(annot)<-gsub(\"cluster\",\"\",rownames(annot))\n",
    "#annot_o <- annot[match(desired_order, rownames(annot)), , drop = FALSE]\n",
    "\n",
    "heatmap_data <- lcpm[topMarkers,]\n",
    "\n",
    "kc_cvsn <- pheatmap::pheatmap(lcpm[topMarkers,],breaks=seq(-2,2,length.out=101),color=colorRampPalette(c(\"blue\",\"white\",\"red\"))(100),scale=\"row\",\n",
    "                   cluster_cols=FALSE,border_color=\"NA\",fontsize_row=8,\n",
    "                   show_colnames=FALSE)\n",
    "\n",
    "\n",
    "\n",
    "genes_on_heatmap_kc_cvsn <- rownames(heatmap_data)[kc_mel$tree_row$order]\n"
   ],
   "outputs": [],
   "execution_count": null
  },
  {
   "cell_type": "code",
   "id": "872ce934-04e1-4427-9fc9-14bc8ba1cc68",
   "metadata": {
    "vscode": {
     "languageId": "r"
    }
   },
   "source": [
    "top <- 50  # Number of top genes to select from each direction (up and down)\n",
    "topMarkers <- list()\n",
    "\n",
    "for (i in 1:ncls) {\n",
    "  # Get the table for the current cluster\n",
    "  current_table <- qlf[[1]]$table\n",
    "  # Order genes by PValue, then by logFC (positive and negative separately)\n",
    "  ordered_genes <- current_table[order(current_table$FDR, decreasing = FALSE), ]\n",
    "  # Filter for upregulated genes (logFC > 0)\n",
    "  upregulated <- ordered_genes[ordered_genes$logFC > 0, ]\n",
    "  upregulated <- upregulated[order(-upregulated$logFC), ]  # Sort by descending logFC\n",
    "  # Filter for downregulated genes (logFC < 0)\n",
    "  downregulated <- ordered_genes[ordered_genes$logFC < 0, ]\n",
    "  downregulated <- downregulated[order(downregulated$logFC), ]  # Sort by ascending logFC\n",
    "  # Remove unwanted genes (e.g., RPS, RPL, LINC)\n",
    "  upregulated <- upregulated[!grepl(\"^RPS|^RPL|^LINC\", rownames(upregulated)), ]\n",
    "  downregulated <- downregulated[!grepl(\"^RPS|^RPL|^LINC\", rownames(downregulated)), ]\n",
    "  # Select top N genes from both up and down\n",
    "  top_up <- head(rownames(upregulated), top)\n",
    "  top_down <- head(rownames(downregulated), top)\n",
    "    # Combine selected genes for this cluster\n",
    "  topMarkers[[i]] <- c(top_up, top_down)\n",
    "}\n",
    "# Combine all selected genes into a single list\n",
    "combined_topMarkers <- unlist(topMarkers, use.names = FALSE)\n",
    "# Remove duplicates if necessary\n",
    "combined_topMarkers <- unique(combined_topMarkers)\n",
    "# Print the total number of genes in the final list\n",
    "length(combined_topMarkers)\n",
    "# Final result: `combined_topMarkers` contains top genes (upregulated and downregulated) for all clusters\n",
    "topMarkers <-combined_topMarkers\n",
    "\n",
    "\n",
    "\n",
    "options(repr.plot.width = 8, repr.plot.height = 15)\n",
    "\n",
    "library(pheatmap)\n",
    "#o<-read.csv(\"KC_only_desired_order.txt\",sep=\"\\t\",header=FALSE)\n",
    "#desired_order<-o$V1\n",
    "colnames(lcpm)<-gsub(\"cluster\",\"\",colnames(lcpm))\n",
    "#desired_order<-c(\"0\",\"1\",\"11\",\"2\",\"4\",\"6\",\"3\",\"5\",\"7\",\"8\",\"9\",\"10\",\"12\",\"13\",\"14\",\"15\")\n",
    "#lcpm_o <- lcpm[,match(desired_order, colnames(lcpm)), drop = FALSE]\n",
    "\n",
    "\n",
    "#rownames(annot)<-gsub(\"cluster\",\"\",rownames(annot))\n",
    "#annot_o <- annot[match(desired_order, rownames(annot)), , drop = FALSE]\n",
    "\n",
    "heatmap_data <- lcpm[topMarkers,]\n",
    "\n",
    "kc_c_n_sig <- pheatmap::pheatmap(lcpm[topMarkers,],breaks=seq(-2,2,length.out=101),color=colorRampPalette(c(\"blue\",\"white\",\"red\"))(100),scale=\"row\",\n",
    "                   cluster_cols=FALSE,border_color=\"NA\",fontsize_row=8,\n",
    "                   show_colnames=FALSE)\n",
    "\n",
    "\n",
    "\n",
    "genes_on_heatmap <- rownames(heatmap_data)[kc_mel$tree_row$order]\n"
   ],
   "outputs": [],
   "execution_count": null
  },
  {
   "cell_type": "code",
   "id": "b9be62a2-5d3e-4759-b820-1d609658f1a0",
   "metadata": {
    "vscode": {
     "languageId": "r"
    }
   },
   "source": [
    "colnames(lcpm)"
   ],
   "outputs": [],
   "execution_count": null
  },
  {
   "cell_type": "code",
   "id": "c037edf5-c84e-41b6-b43d-2e8c22b19dd1",
   "metadata": {
    "vscode": {
     "languageId": "r"
    }
   },
   "source": [
    "# Define thresholds\n",
    "logFC_threshold <- 2  # Change if necessary\n",
    "pvalue_threshold <- 0.05  # Adjust based on significance level\n",
    "\n",
    "# Extract upregulated genes in KC\n",
    "kc_cancer_up <- rownames(qlf[[1]]$table[qlf[[1]]$table$logFC > logFC_threshold & qlf[[1]]$table$PValue < pvalue_threshold, ])\n",
    "\n",
    "# Extract downregulated genes in KC (upregulated in MEL)\n",
    "kc_norm_up <- rownames(qlf[[1]]$table[qlf[[1]]$table$logFC < -logFC_threshold & qlf[[1]]$table$PValue < pvalue_threshold, ])\n",
    "\n",
    "# Print summary\n",
    "cat(\"Number of significantly upregulated genes in KC:\", length(kc_cancer_up), \"\\n\")\n",
    "cat(\"Number of significantly downregulated genes in KC (up in MEL):\", length(kc_norm_up), \"\\n\")\n"
   ],
   "outputs": [],
   "execution_count": null
  },
  {
   "cell_type": "code",
   "id": "2e941917-c866-47ac-8eda-e653027541c7",
   "metadata": {
    "vscode": {
     "languageId": "r"
    }
   },
   "source": [
    "norm_melanocytes_up\n",
    "melanoma_up\n",
    "kc_cancer_up\n",
    "kc_norm_up\n",
    "kc_up\n",
    "mel_up"
   ],
   "outputs": [],
   "execution_count": null
  },
  {
   "cell_type": "code",
   "id": "a74579e4-18fa-41cb-9af3-c662d464e092",
   "metadata": {
    "vscode": {
     "languageId": "r"
    }
   },
   "source": [],
   "outputs": [],
   "execution_count": null
  },
  {
   "cell_type": "code",
   "id": "67a81b26-2cf7-4038-bd7d-8f1076390c64",
   "metadata": {
    "vscode": {
     "languageId": "r"
    }
   },
   "source": [
    "install.packages(\"VennDiagram\")\n"
   ],
   "outputs": [],
   "execution_count": null
  },
  {
   "cell_type": "code",
   "id": "85425441-d452-4261-94d8-31f483838d7f",
   "metadata": {
    "vscode": {
     "languageId": "r"
    }
   },
   "source": [
    "library(VennDiagram)\n",
    "\n",
    "# Create a list of gene sets\n",
    "gene_lists <- list(\n",
    "  List1 = kc_up,\n",
    "  List2 = kc_cancer_up,\n",
    "  List3 = mel_up,\n",
    "  List4 = melanoma_up\n",
    ")\n",
    "\n",
    "# Generate the Venn diagram\n",
    "venn.plot <- venn.diagram(\n",
    "  x = gene_lists,\n",
    "  category.names = c(\"List1\", \"List2\", \"List3\", \"List4\"),\n",
    "  filename = NULL, # Use NULL to draw in R's plotting window\n",
    "  col = \"black\", \n",
    "  fill = c(\"red\", \"blue\", \"green\", \"yellow\"),\n",
    "  alpha = 0.5,\n",
    "  cex = 1,\n",
    "  cat.cex = 1,\n",
    "  cat.col = \"black\",\n",
    "  main = \"4-Way Venn Diagram\"\n",
    ")\n",
    "\n",
    "# Plot the Venn diagram\n",
    "grid.newpage()\n",
    "grid.draw(venn.plot)\n"
   ],
   "outputs": [],
   "execution_count": null
  },
  {
   "cell_type": "code",
   "id": "855ea8f3-c44f-4074-842b-29851516fa84",
   "metadata": {
    "vscode": {
     "languageId": "r"
    }
   },
   "source": [
    "options(repr.plot.width = 6, repr.plot.height = 6)\n",
    "\n",
    "\n",
    "# Create a list of gene sets\n",
    "gene_lists <- list(\n",
    "  List1 = kc_up_sig,\n",
    "  List2 = cancer_kc_up_sig,\n",
    "  List3 = mel_up_sig,\n",
    "  List4 = cancer_mel_up_sig\n",
    ")\n",
    "\n",
    "# Generate the Venn diagram\n",
    "venn.plot <- venn.diagram(\n",
    "  x = gene_lists,\n",
    "  category.names = c(\"List1\", \"List2\", \"List3\", \"List4\"),\n",
    "  filename = NULL, # Use NULL to draw in R's plotting window\n",
    "  col = \"black\", \n",
    "  fill = c(\"red\", \"blue\", \"green\", \"yellow\"),\n",
    "  alpha = 0.5,\n",
    "  cex = 1,\n",
    "  cat.cex = 1,\n",
    "  cat.col = \"black\",\n",
    "  main = \"4-Way Venn Diagram\"\n",
    ")\n",
    "\n",
    "# Plot the Venn diagram\n",
    "grid.newpage()\n",
    "grid.draw(venn.plot)\n"
   ],
   "outputs": [],
   "execution_count": null
  },
  {
   "cell_type": "code",
   "id": "86ec51c1-6e63-43b8-bbf0-0b1ca86360bb",
   "metadata": {
    "vscode": {
     "languageId": "r"
    }
   },
   "source": [
    "options(repr.plot.width = 20, repr.plot.height = 5)\n",
    "pdf(\"/QRISdata/Q2051/SCC_Paper/resources/data/reanalysis_figs/KCcancer_vs_mel.pdf\", width=20, height=5)\n",
    "kc_mel_flipped\n",
    "dev.off()"
   ],
   "outputs": [],
   "execution_count": null
  },
  {
   "cell_type": "code",
   "id": "38fc6957-5d33-406d-9b9c-e1b60bf98a26",
   "metadata": {
    "vscode": {
     "languageId": "r"
    }
   },
   "source": [
    "options(repr.plot.width = 8, repr.plot.height = 15)\n",
    "pdf(\"/QRISdata/Q2051/SCC_Paper/resources/data/reanalysis_figs/cancer_vs_normal_mel_samples_sig.pdf\", width=8, height=15)\n",
    "mel_c_n_sig\n",
    "dev.off()"
   ],
   "outputs": [],
   "execution_count": null
  },
  {
   "cell_type": "code",
   "id": "2f8bf4bb-b9d2-487b-ba83-378cb66e20e9",
   "metadata": {
    "vscode": {
     "languageId": "r"
    }
   },
   "source": [],
   "outputs": [],
   "execution_count": null
  },
  {
   "cell_type": "code",
   "id": "a6800cfa-60e4-4bf3-8873-9680b279dc2b",
   "metadata": {
    "vscode": {
     "languageId": "r"
    }
   },
   "source": [
    "options(repr.plot.width = 8, repr.plot.height = 15)\n",
    "pdf(\"/QRISdata/Q2051/SCC_Paper/resources/data/reanalysis_figs/cancer_vs_normal_KCs.pdf\", width=8, height=15)\n",
    "mel_cvsn\n",
    "dev.off()"
   ],
   "outputs": [],
   "execution_count": null
  },
  {
   "cell_type": "code",
   "id": "2e74408f-6adb-4789-8ceb-a18d4a5efad4",
   "metadata": {
    "vscode": {
     "languageId": "r"
    }
   },
   "source": [
    "list1<-norm_mel_up_sig\n",
    "list2<-cancer_mel_up_sig\n",
    "\n",
    "list3<-cancer_kc_up_sig\n",
    "list4<-norm_kc_up_sig\n",
    "list5<-kc_up\n",
    "list6<-mel_up"
   ],
   "outputs": [],
   "execution_count": null
  },
  {
   "cell_type": "code",
   "id": "fb81a081-d588-4e28-88c7-70a0d429976f",
   "metadata": {
    "vscode": {
     "languageId": "r"
    }
   },
   "source": [
    "# Make all lists the same length by adding NAs\n",
    "max_length <- max(length(list1), length(list2), length(list3), length(list4), length(list5), length(list6))\n",
    "\n",
    "# Pad lists with NA values to match the maximum length\n",
    "list1 <- c(list1, rep(NA, max_length - length(list1)))\n",
    "list2 <- c(list2, rep(NA, max_length - length(list2)))\n",
    "list3 <- c(list3, rep(NA, max_length - length(list3)))\n",
    "list4 <- c(list4, rep(NA, max_length - length(list4)))\n",
    "list5 <- c(list5, rep(NA, max_length - length(list5)))\n",
    "list6 <- c(list6, rep(NA, max_length - length(list6)))\n",
    "\n",
    "# Create a data frame with the lists\n",
    "gene_lists_df <- data.frame(\n",
    "  norm_melanocytes_up = list1,\n",
    "  melanoma_up = list2,\n",
    "  kc_cancer_up = list3,\n",
    "  kc_norm_up = list4,\n",
    "  kc_up = list5,\n",
    "  mel_up = list6,\n",
    "  stringsAsFactors = FALSE\n",
    ")\n",
    "\n",
    "# Write the data frame to a text file\n",
    "write.table(gene_lists_df, \"gene_lists_sig.txt\", sep = \"\\t\", row.names = FALSE, quote = FALSE)\n",
    "\n",
    "# Confirm the contents of the file\n",
    "head(gene_lists_df)"
   ],
   "outputs": [],
   "execution_count": null
  },
  {
   "cell_type": "code",
   "id": "61933d73-058d-45dd-bd94-7c97355600c9",
   "metadata": {
    "vscode": {
     "languageId": "r"
    }
   },
   "source": [
    "  list1 = kc_up_sig\n",
    "  list2 = cancer_kc_up_sig\n",
    "  list3 = mel_up_sig\n",
    "  list4 = cancer_mel_up_sig\n",
    "\n",
    "# Make all lists the same length by adding NAs\n",
    "max_length <- max(length(list1), length(list2), length(list3), length(list4), length(list5), length(list6))\n",
    "\n",
    "# Pad lists with NA values to match the maximum length\n",
    "list1 <- c(list1, rep(NA, max_length - length(list1)))\n",
    "list2 <- c(list2, rep(NA, max_length - length(list2)))\n",
    "list3 <- c(list3, rep(NA, max_length - length(list3)))\n",
    "list4 <- c(list4, rep(NA, max_length - length(list4)))\n",
    "list5 <- c(list5, rep(NA, max_length - length(list5)))\n",
    "list6 <- c(list6, rep(NA, max_length - length(list6)))\n",
    "\n",
    "# Create a data frame with the lists\n",
    "gene_lists_df <- data.frame(\n",
    "  norm_melanocytes_up = list1,\n",
    "  melanoma_up = list2,\n",
    "  kc_cancer_up = list3,\n",
    "  kc_norm_up = list4,\n",
    "  kc_up = list5,\n",
    "  mel_up = list6,\n",
    "  stringsAsFactors = FALSE\n",
    ")\n",
    "\n",
    "# Write the data frame to a text file\n",
    "write.table(gene_lists_df, \"edger_gene_lists_sig.txt\", sep = \"\\t\", row.names = FALSE, quote = FALSE)\n",
    "\n",
    "# Confirm the contents of the file\n",
    "head(gene_lists_df)"
   ],
   "outputs": [],
   "execution_count": null
  },
  {
   "cell_type": "code",
   "id": "c5831a04-0707-4b5c-8434-fb464c6abf56",
   "metadata": {
    "vscode": {
     "languageId": "r"
    }
   },
   "source": [],
   "outputs": [],
   "execution_count": null
  },
  {
   "cell_type": "code",
   "id": "c293c062-e736-4ccb-aea1-860a4ffe0c22",
   "metadata": {
    "vscode": {
     "languageId": "r"
    }
   },
   "source": [
    "qlf[[1]]$table$FDR <- p.adjust(qlf[[1]]$table$PValue, method = \"BH\")\n",
    "\n",
    "# Add a column for significance\n",
    "logFC_threshold <- 2  # Fold change threshold (adjust as needed)\n",
    "fdr_threshold <- 0.05 # FDR threshold for significance\n",
    "\n",
    "qlf[[1]]$table$Significance <- with(qlf[[1]]$table, ifelse(FDR < fdr_threshold & logFC > logFC_threshold, \"Upregulated\",\n",
    "                                          ifelse(FDR < fdr_threshold & logFC < -logFC_threshold, \"Downregulated\", \"Not Significant\")))\n",
    "rownames(qlf[[1]]$table[qlf[[1]]$table$logFC > logFC_threshold & qlf[[1]]$table$FDR < fdr_threshold, ])"
   ],
   "outputs": [],
   "execution_count": null
  },
  {
   "cell_type": "code",
   "id": "c587f186-79cf-4e22-895c-862759f9c546",
   "metadata": {
    "vscode": {
     "languageId": "r"
    }
   },
   "source": [
    "length(kc_up_sig)\n",
    "length(kc_up)\n",
    "length(intersect(kc_up_sig,kc_up))"
   ],
   "outputs": [],
   "execution_count": null
  },
  {
   "cell_type": "code",
   "id": "dda613f2-b5b4-40c1-a165-25e19c13fbae",
   "metadata": {
    "vscode": {
     "languageId": "r"
    }
   },
   "source": [
    "length(kc_up_sig)\n",
    "length(genes_on_heatmap)\n",
    "length(intersect(kc_up_sig,genes_on_heatmap))"
   ],
   "outputs": [],
   "execution_count": null
  },
  {
   "cell_type": "code",
   "id": "45abeadb-11fc-4778-ac7a-88699e19454f",
   "metadata": {
    "vscode": {
     "languageId": "r"
    }
   },
   "source": [
    "options(repr.plot.width = 8, repr.plot.height = 15)\n",
    "pdf(\"kc_mel_sig.pdf\", width=8, height=15)\n",
    "kc_mel\n",
    "dev.off()"
   ],
   "outputs": [],
   "execution_count": null
  },
  {
   "cell_type": "code",
   "id": "1deccd3e-5b2a-49e4-92bd-4136119b9227",
   "metadata": {
    "vscode": {
     "languageId": "r"
    }
   },
   "source": [
    "getwd()"
   ],
   "outputs": [],
   "execution_count": null
  },
  {
   "cell_type": "code",
   "id": "7d908f61-bf7c-4b60-b78c-6260a4311fcc",
   "metadata": {
    "vscode": {
     "languageId": "r"
    }
   },
   "source": [
    "intersect(kc_up_sig,cancer_kc_up_sig)"
   ],
   "outputs": [],
   "execution_count": null
  },
  {
   "cell_type": "code",
   "id": "4ea70f08-3170-46b3-bd5f-9f0157e95204",
   "metadata": {
    "vscode": {
     "languageId": "r"
    }
   },
   "source": [
    "intersect(mel_up_sig,cancer_mel_up_sig)"
   ],
   "outputs": [],
   "execution_count": null
  },
  {
   "cell_type": "code",
   "id": "35409a54-80a0-4645-9f7d-9959c68b220d",
   "metadata": {
    "vscode": {
     "languageId": "r"
    }
   },
   "source": [
    "setdiff(mel_up_sig, cancer_mel_up_sig)"
   ],
   "outputs": [],
   "execution_count": null
  },
  {
   "cell_type": "code",
   "id": "862fd8c3-017e-4588-8c88-8a1e4b61a638",
   "metadata": {
    "vscode": {
     "languageId": "r"
    }
   },
   "source": [],
   "outputs": [],
   "execution_count": null
  }
 ],
 "metadata": {
  "kernelspec": {
   "display_name": "R_edgeR",
   "language": "R",
   "name": "r_edger"
  },
  "language_info": {
   "codemirror_mode": "r",
   "file_extension": ".r",
   "mimetype": "text/x-r-source",
   "name": "R",
   "pygments_lexer": "r",
   "version": "4.4.0"
  }
 },
 "nbformat": 4,
 "nbformat_minor": 5
}
