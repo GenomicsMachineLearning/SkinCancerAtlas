{
 "cells": [
  {
   "cell_type": "code",
   "id": "3f9278f4-0727-40e9-abe4-1c6ae66b33e6",
   "metadata": {
    "scrolled": true
   },
   "source": [
    "library(Seurat)\n",
    "library(ape)\n",
    "library(ggtree)\n",
    "library(ggplot2)\n",
    "library(dplyr)\n",
    "library(tidyverse)\n"
   ],
   "outputs": [],
   "execution_count": null
  },
  {
   "cell_type": "code",
   "id": "d258134b-4933-4bb7-8608-a3a51641d37c",
   "metadata": {},
   "source": [
    "scc <- read.delim(\"/QRISdata/Q2051/SCC_Paper/resources/data/frozen_objects_Nov2024_PP/SCC_BCC/SCC_full_object_final_Nov26_metadata.txt\", sep = \"\\t\", stringsAsFactors = FALSE)\n",
    "#scc <- scc[!(scc$Level2_Cancer == \"KC Cancer\" & scc$sample_ID == \"P4_N\"), ]\n",
    "scc<-scc[-45506,]\n",
    "head(scc)"
   ],
   "outputs": [],
   "execution_count": null
  },
  {
   "cell_type": "code",
   "id": "155b886d-a75c-4ee1-9455-3b084e1e0e77",
   "metadata": {},
   "source": [
    "scc[(scc$Level2_Cancer == \"KC Cancer\" & scc$sample_ID == \"P4_N\"), ]"
   ],
   "outputs": [],
   "execution_count": null
  },
  {
   "cell_type": "code",
   "id": "8afee1ab-32d2-41a4-a934-294aa193081a",
   "metadata": {},
   "source": [
    "sccc <- subset(scc, Level2_Cancer == \"KC Cancer\")\n",
    "sccc %>% group_by(sample_ID) %>% tally()"
   ],
   "outputs": [],
   "execution_count": null
  },
  {
   "cell_type": "code",
   "id": "66c1077b-632a-40d2-8ea2-55f5dc4d9d96",
   "metadata": {},
   "source": [
    "meta<-data.frame(Level2=scc$Level2_Cancer, sample_ident = scc$sample_ID, cancer_status = scc$cancer_status)\n",
    "head(meta)\n",
    "unique(meta$Level2)"
   ],
   "outputs": [],
   "execution_count": null
  },
  {
   "cell_type": "code",
   "id": "837446b0-918a-4c29-8eb2-456cb1c147e3",
   "metadata": {},
   "source": [
    "tail(meta)"
   ],
   "outputs": [],
   "execution_count": null
  },
  {
   "cell_type": "code",
   "id": "fa43a18e-dbb1-43e8-92fd-796b47e2b800",
   "metadata": {},
   "source": [
    "meta$general_type <- meta$Level2\n",
    "meta$general_type <- gsub(\"KC Basal\", \"KC\", meta$general_type) #KC\n",
    "meta$general_type <- gsub(\"KC Dysplastic\", \"KC\", meta$general_type) #KC\n",
    "meta$general_type <- gsub(\"KC Granular\", \"KC\", meta$general_type) #KC\n",
    "meta$general_type <- gsub(\"KC Hair\", \"KC\", meta$general_type) #KC\n",
    "meta$general_type <- gsub(\"KC Cornified\", \"KC\", meta$general_type) #KC\n",
    "meta$general_type <- gsub(\"KC IFN\", \"KC\", meta$general_type) #KC\n",
    "meta$general_type <- gsub(\"KC Cancer\", \"KC\", meta$general_type) #KC\n",
    "meta$general_type <- gsub(\"KC Differentiating\", \"KC\", meta$general_type) #KC\n",
    "\n",
    "meta$general_type <- gsub(\"B Cell\",  \"Immune\", meta$general_type) #imm\n",
    "meta$general_type <- gsub(\"T Cell\",  \"Immune\", meta$general_type) #imm\n",
    "meta$general_type <- gsub(\"Treg\",  \"Immune\", meta$general_type) #imm\n",
    "meta$general_type <- gsub(\"Macrophage\",  \"Immune\", meta$general_type) #imm\n",
    "meta$general_type <- gsub(\"Monocytes\",  \"Immune\", meta$general_type) #imm\n",
    "meta$general_type <- gsub(\"NK\",  \"Immune\", meta$general_type) #imm\n",
    "meta$general_type <- gsub(\"Plasma\",  \"Immune\", meta$general_type) #imm\n",
    "meta$general_type <- gsub(\"DC\",  \"Immune\", meta$general_type) #imm\n",
    "meta$general_type <- gsub(\"LC\",  \"Immune\", meta$general_type) #imm\n",
    "\n",
    "unique(meta$general_type)"
   ],
   "outputs": [],
   "execution_count": null
  },
  {
   "cell_type": "code",
   "id": "48f5cbbe-1a09-4ddb-84cf-9b1f81940577",
   "metadata": {},
   "source": [
    "meta$patient <- meta$sample_ident\n",
    "meta$patient <- gsub(\"_N\", \"\", meta$patient)\n",
    "meta$patient <- gsub(\"_SCC1\", \"\", meta$patient)\n",
    "meta$patient <- gsub(\"_SCC2\", \"\", meta$patient)\n",
    "meta$patient <- gsub(\"_SCC\", \"\", meta$patient)\n",
    "meta$patient <- gsub(\"_BCC\", \"\", meta$patient)\n",
    "meta$patient <- gsub(\"_IEC\", \"\", meta$patient)\n",
    "head(meta)"
   ],
   "outputs": [],
   "execution_count": null
  },
  {
   "cell_type": "code",
   "id": "04233a70-a64a-4f21-8fda-f26aaf8e33ac",
   "metadata": {},
   "source": [],
   "outputs": [],
   "execution_count": null
  },
  {
   "cell_type": "code",
   "id": "97e5b8db-0926-407c-8010-d01f7ab7fbf0",
   "metadata": {},
   "source": [
    "library(dplyr)\n",
    "meta <- mutate(meta, patient_status = paste0(patient, \"_\", cancer_status))\n",
    "#meta <- meta[!(meta$Level2 == \"KC Cancer\" & meta$sample_ID == \"P4_N\"), ]\n",
    "\n",
    "counts <- meta\n",
    "# remove zeroes\n",
    "#counts <- counts[counts$Freq > 0,]\n",
    "# relevel \"Level2\" celltypes\n",
    "Level2_order <- unique(counts[,c(\"Level2\", \"general_type\")])\n",
    "Level2_order <- Level2_order[order(Level2_order$general_type),]\n",
    "Level2_order <- Level2_order$Level2\n",
    "counts$Level2 <- factor(counts$Level2, levels = Level2_order) #this orders them alphabetically by general_type then by Level2\n",
    "# relevel samples\n",
    "counts$patient_status <- factor(counts$patient_status, levels = c(\"P1_Normal\", \"P2_Normal\", \"P3_Normal\", \"P4_Normal\", \"P5_Normal\", \"P1_Cancer\", \"P2_Cancer\", \"P3_Cancer\", \"P4_Cancer\", \"P5_Cancer\"))\n",
    "\n",
    "counts$Level2<-gsub(\"Endothelial Cell\",\"Endothelial\",counts$Level2)\n",
    "counts$general_type<-gsub(\"Endothelial Cell\",\"Endothelial\",counts$general_type)\n",
    "\n",
    "palette <- c(\n",
    "  `Endothelial` = \"orange\",\n",
    "  `Fibroblast` = \"forestgreen\",\n",
    "  `Immune` = \"yellowgreen\",\n",
    "  `KC` = \"deeppink\",\n",
    "  `Melanocytes` = \"saddlebrown\", `KC Cancer`=\"black\")\n",
    "\n",
    "palette_status = c(`Cancer` = \"deeppink3\",\n",
    "              `Normal` = \"turquoise3\") \n",
    "\n",
    "\n",
    "counts2<- as.data.frame(counts %>% group_by(Level2,general_type,patient_status) %>% tally(n = \"Freq\"))\n",
    "library(ggplot2)\n",
    "dotplot_raw<-ggplot(counts2, aes(x = patient_status, y = Level2, color = general_type, size = Freq)) +\n",
    "  scale_y_discrete(limits = rev(levels(counts$Level2))) +\n",
    "  geom_point() +\n",
    "    scale_size(range = c(0.3,9)) +\n",
    "  scale_color_manual(values = palette) +\n",
    "  scale_x_discrete(labels = c(\"P1\", \"P2\", \"P3\", \"P4\", \"P5\", \"P1\", \"P2\", \"P3\", \"P4\", \"P5\")) +\n",
    "  xlab(\"patient\") +\n",
    "  ylab(\"celltype\") +\n",
    "  theme_bw()\n",
    "\n",
    "\n",
    "options(repr.plot.width = 8, repr.plot.height = 8)\n",
    "\n",
    "library(ggmap)\n",
    "library(patchwork)\n",
    "my.labels <- as.data.frame(x = c(rep(\"normal\", 5), rep(\"cancer\", 5)))\n",
    "colnames(my.labels) <- c(\"status_redundant\")\n",
    "my.labels$unique <- make.unique(my.labels$status_redundant)\n",
    "colnames(my.labels) <- c(\"status_redundant\", \"status\")\n",
    "my.labels$status <- factor(my.labels$status, my.labels$status)\n",
    "\n",
    "labels <- my.labels %>%\n",
    "  ggplot(aes(x=status, y = 1, fill = status)) +\n",
    "  geom_tile() + \n",
    "  scale_fill_manual(values = c(rep(unname(palette_status[\"Normal\"]), 5), rep(unname(palette_status[\"Cancer\"]), 5))) + \n",
    "  theme_nothing()\n",
    "\n",
    "labels + dotplot_raw + plot_layout(ncol = 1, heights = c(0.9, 20))\n"
   ],
   "outputs": [],
   "execution_count": null
  },
  {
   "cell_type": "code",
   "id": "cb48c0ec-a447-445b-9599-d923df40a1bd",
   "metadata": {},
   "source": [
    "meta_cancer <- subset(meta, Level2 == \"KC Cancer\")\n",
    "meta_cancer %>% group_by(sample_ident) %>% tally()"
   ],
   "outputs": [],
   "execution_count": null
  },
  {
   "cell_type": "markdown",
   "id": "6dbfd1ae-b82e-4b26-afa2-03f946009770",
   "metadata": {},
   "source": [
    "### Mel data"
   ]
  },
  {
   "cell_type": "code",
   "id": "618e9f4b-3638-4efa-884d-03e7adcb22a1",
   "metadata": {},
   "source": [
    "mel <- read.delim(\"/QRISdata/Q2051/SCC_Paper/resources/data/frozen_objects_Nov2024_PP/Mel/Mel_full_object_final_Nov26_metadata.txt\", sep = \"\\t\", stringsAsFactors = FALSE)\n",
    "meta_mel<-data.frame(Level2=mel$Level3_Cancer, general_type=mel$Level1, sample_ident=mel$orig.ident, cancer_status = \"Cancer\")\n",
    "head(meta_mel)"
   ],
   "outputs": [],
   "execution_count": null
  },
  {
   "cell_type": "code",
   "id": "71e35821-1334-4e2c-9c8c-b9718dc8ba8d",
   "metadata": {},
   "source": [
    "meta_mel$patient_status<-meta_mel$sample_ident\n",
    "meta_mel$patient_status <- gsub(\"MPS13\",\"MPS13_Malignant\",meta_mel$patient_status)\n",
    "meta_mel$patient_status <- gsub(\"MPS42\",\"MPS42_Benign\",meta_mel$patient_status)\n",
    "meta_mel$patient_status <- gsub(\"MPS43\",\"MPS43_Benign\",meta_mel$patient_status)\n",
    "head(meta_mel)"
   ],
   "outputs": [],
   "execution_count": null
  },
  {
   "cell_type": "code",
   "id": "e180eeab-61cf-4978-bb95-94427102f378",
   "metadata": {},
   "source": [
    "unique(meta_mel$Level2)\n",
    "unique(meta_mel$general_type)"
   ],
   "outputs": [],
   "execution_count": null
  },
  {
   "cell_type": "code",
   "id": "455af96e-f5a0-4b0b-be25-dbd678f904de",
   "metadata": {},
   "source": [
    "meta_mel$Level2<-gsub(\"Endothelial Cell\",\"Endothelial\",meta_mel$Level2)\n",
    "meta_mel$general_type<-gsub(\"Endothelial cell\",\"Endothelial\",meta_mel$general_type)\n",
    "\n",
    "counts_mel <- meta_mel\n",
    "# remove zeroes\n",
    "#counts <- counts[counts$Freq > 0,]\n",
    "# relevel \"Level2\" celltypes\n",
    "Level2_order <- unique(counts_mel[,c(\"Level2\", \"general_type\")])\n",
    "Level2_order <- Level2_order[order(Level2_order$general_type),]\n",
    "Level2_order <- Level2_order$Level2\n",
    "counts_mel$Level2 <- factor(counts_mel$Level2, levels = Level2_order) #this orders them alphabetically by general_type then by Level2\n",
    "# relevel samples\n",
    "counts_mel$patient_status <- factor(counts_mel$patient_status, levels = c(\"MPS13_Malignant\",\"MPS42_Benign\",\"MPS43_Benign\"))\n",
    "\n",
    "palette <- c(\n",
    "  `Endothelial` = \"orange\",\n",
    "  `Fibroblast` = \"forestgreen\",\n",
    "  `Immune` = \"yellowgreen\",\n",
    "  `KC` = \"deeppink\",\n",
    "  `Melanocytes` = \"saddlebrown\",\n",
    "  `Other` = \"royalblue2\",`Melanoma` = \"black\")\n",
    "\n",
    "palette_status = c(`Cancer` = \"deeppink3\",\n",
    "              `Normal` = \"turquoise3\") \n",
    "counts2_mel<- as.data.frame(counts_mel %>% group_by(Level2,general_type,patient_status) %>% tally(n = \"Freq\"))\n",
    "\n",
    "\n",
    "options(repr.plot.width = 6, repr.plot.height = 8)\n",
    "ggplot(counts2_mel, aes(x = patient_status, y = Level2, color = general_type, size = Freq)) +\n",
    "  scale_y_discrete(limits = rev(levels(counts2_mel$Level2))) +\n",
    "  geom_point() +\n",
    "    scale_size(range = c(0.3,9)) +\n",
    "  scale_color_manual(values = palette) +\n",
    "  scale_x_discrete(labels = c(\"MPS13\",\"MPS42\",\"MPS43\")) +\n",
    "  xlab(\"patient\") +\n",
    "  ylab(\"celltype\") +\n",
    "  theme_bw()"
   ],
   "outputs": [],
   "execution_count": null
  },
  {
   "cell_type": "code",
   "id": "2170235b-a778-4e21-905d-8724d413b254",
   "metadata": {},
   "source": [
    "counts2$Level2<-gsub(\"Endothelial Cell\",\"Endothelial\",counts2$Level2)\n"
   ],
   "outputs": [],
   "execution_count": null
  },
  {
   "cell_type": "code",
   "id": "31b1a032-59df-4004-80c9-27aae5742b6e",
   "metadata": {},
   "source": [
    "final_counts2<-rbind(counts2,counts2_mel)\n",
    "unique(final_counts2$Level2)\n",
    "\n",
    "final_counts2$Level2<-gsub(\"cell\",\"Cell\",final_counts2$Level2)\n",
    "final_counts2$Level2<-gsub(\"Endothelial Cell\",\"Endothelial\",final_counts2$Level2)\n",
    "\n",
    "unique(final_counts2$Level2)"
   ],
   "outputs": [],
   "execution_count": null
  },
  {
   "cell_type": "code",
   "id": "7c3c0513-edb6-4e96-818c-2cc1903ea9a1",
   "metadata": {},
   "source": [
    "desired_order <- c(\"Endothelial\",\"Fibroblast\",\"LC\",\"DC\",\"T Cell\",\"NK\",\"Macrophage\",\"Monocytes\",\"Plasma\",\"B Cell\",\"KC Basal\",\"KC Differentiating\",\n",
    "                   \"KC Granular\",\"KC Hair\",\"KC Cornified\",\"KC IFN\",\"KC Dysplastic\",\"KC Cancer\",\"Melanocytes\",\"Melanoma\")  # Replace with your actual labels in the desired order\n",
    "\n",
    "# Ensure Level2 is a factor and set the levels\n",
    "final_counts2$Level2 <- factor(final_counts2$Level2, levels = desired_order)\n",
    "\n",
    "dotplot_raw_combined<-ggplot(final_counts2, aes(x = patient_status, y = Level2, color = general_type, size = Freq)) +\n",
    "  scale_y_discrete(limits = rev(levels(final_counts2$Level2))) +\n",
    "  geom_point() +\n",
    "    scale_size(range = c(0.3,9)) +\n",
    "  scale_color_manual(values = palette) +\n",
    "  scale_x_discrete(labels = c(\"P1\", \"P2\", \"P3\", \"P4\", \"P5\", \"P1\", \"P2\", \"P3\", \"P4\", \"P5\",\"MPS13\",\"MPS42\",\"MPS43\")) +\n",
    "  xlab(\"patient\") +\n",
    "  ylab(\"celltype\") +\n",
    "  theme_bw() +   theme(axis.text.x = element_text(angle = 30, hjust = 1, vjust = 1))\n",
    "\n",
    "\n",
    "\n",
    "palette <- c(\n",
    "  `Endothelial` = \"orange\",\n",
    "  `Fibroblast` = \"forestgreen\",\n",
    "  `Immune` = \"yellowgreen\",\n",
    "  `KC` = \"deeppink\",\n",
    "  `Melanocytes` = \"saddlebrown\",\n",
    "  `Other` = \"royalblue2\",`Melanoma` = \"black\")\n",
    "\n",
    "palette_status = c(`Cancer SCC/BCC` = \"deeppink3\",\n",
    "              `Normal` = \"turquoise3\",`Melanoma`=\"yellow\") \n",
    "\n",
    "my.labels <- as.data.frame(x = c(rep(\"Normal\", 5), rep(\"Cancer SCC/BCC\", 5),rep(\"Melanoma\", 3)))\n",
    "colnames(my.labels) <- c(\"status_redundant\")\n",
    "my.labels$unique <- make.unique(my.labels$status_redundant)\n",
    "colnames(my.labels) <- c(\"status_redundant\", \"status\")\n",
    "my.labels$status <- factor(my.labels$status, my.labels$status)\n",
    "\n",
    "labels <- my.labels %>%\n",
    "  ggplot(aes(x=status, y = 1, fill = status)) +\n",
    "  geom_tile() + \n",
    "  #scale_fill_manual(values = c(rep(unname(palette_status[\"Normal\"]), 5), rep(unname(palette_status[\"Cancer SCC/BCC\"]), 5)),rep(unname(palette_status[\"Melanoma\"]), 3)) + \n",
    "  scale_fill_manual(values = c(rep(\"deeppink3\",5),rep(\"turquoise3\",5),rep(\"yellow\",3))) +\n",
    "  theme_nothing()\n",
    "\n",
    "options(repr.plot.width = 8, repr.plot.height = 8)\n",
    "labels + dotplot_raw_combined + plot_layout(ncol = 1, heights = c(0.9, 20))\n"
   ],
   "outputs": [],
   "execution_count": null
  },
  {
   "cell_type": "code",
   "id": "a190068c-32b7-4c31-b280-8439df746d2f",
   "metadata": {},
   "source": [
    "pdf(\"/QRISdata/Q2051/SCC_Paper/resources/data/reanalysis_figs/SCC_Mel_CT_abundance_dotplot.pdf\")\n",
    "labels + dotplot_raw_combined + plot_layout(ncol = 1, heights = c(0.9, 20))\n",
    "dev.off()"
   ],
   "outputs": [],
   "execution_count": null
  },
  {
   "cell_type": "markdown",
   "id": "e1af889f-c829-4bc2-b9a7-0b082d0c9663",
   "metadata": {},
   "source": [
    "### DA stats"
   ]
  },
  {
   "cell_type": "code",
   "id": "e16f6aeb-8eb6-4c67-85eb-6c995dd07dfc",
   "metadata": {
    "scrolled": true
   },
   "source": [
    "## Creating mel seurat object\n",
    "#--------------------------------------------------------------------------------------------------------------------------------\n",
    "# # R script\n",
    "library(Seurat)\n",
    "message(\"Reading counts...\")\n",
    "x <- read.csv(\"/QRISdata/Q2051/SCC_Paper/resources/data/frozen_objects_Nov2024_PP/intermediate/Mel_raw_counts.csv\",header=TRUE)\n",
    "rownames(x) <- x[,1]\n",
    "x[,1] <- NULL\n",
    "print(dim(x))\n",
    "print(x[1:5,1:5])\n",
    "message(\"Reading metadata...\")\n",
    "m <- read.csv(\"/QRISdata/Q2051/SCC_Paper/resources/data/frozen_objects_Nov2024_PP/Mel/Mel_full_object_final_Nov26_metadata.txt\",sep=\"\\t\",header=TRUE)\n",
    "rownames(m) <- m[,1]\n",
    "colnames(m)[1] <- \"sample\"\n",
    "print(dim(m))\n",
    "print(head(m))\n",
    "message(\"Writing seurat object...\")\n",
    "saveRDS(\n",
    "  CreateSeuratObject(counts=t(x),meta.data=m,project=\"seurat\",min.cells=0,min.features=0),\n",
    "  \"/QRISdata/Q2051/SCC_Paper/resources/data/frozen_objects_Nov2024_PP/Mel/Melanoma_seurat.Rds\")"
   ],
   "outputs": [],
   "execution_count": null
  },
  {
   "cell_type": "code",
   "id": "f21c67bb-5d40-47b1-8ae9-b810923ae6bb",
   "metadata": {
    "scrolled": true
   },
   "source": [
    "x <- read.csv(\"/QRISdata/Q2051/SCC_Paper/resources/data/frozen_objects_Nov2024_PP/intermediate/SCC_BCC_raw_counts.csv\",header=TRUE)\n",
    "rownames(x) <- x[,1]\n",
    "x[,1] <- NULL\n",
    "print(dim(x))\n",
    "print(x[1:5,1:5])\n",
    "message(\"Reading metadata...\")\n",
    "m <- read.delim(\"/QRISdata/Q2051/SCC_Paper/resources/data/frozen_objects_Nov2024_PP/SCC_BCC/SCC_full_object_final_Nov26_metadata.txt\", sep = \"\\t\", stringsAsFactors = FALSE)\n",
    "\n",
    "rownames(m) <- m[,1]\n",
    "colnames(m)[1] <- \"sample\"\n",
    "print(dim(m))\n",
    "print(head(m))\n",
    "message(\"Writing seurat object...\")\n",
    "saveRDS(\n",
    "  CreateSeuratObject(counts=t(x),meta.data=m,project=\"seurat\",min.cells=0,min.features=0),\n",
    "  \"/QRISdata/Q2051/SCC_Paper/resources/data/frozen_objects_Nov2024_PP/SCC_BCC/SCC_BCC_seurat.rds\")\n"
   ],
   "outputs": [],
   "execution_count": null
  },
  {
   "cell_type": "code",
   "id": "3d26d6dd-6211-4b1d-914a-edd5a3c4d168",
   "metadata": {},
   "source": [
    "scc_bcc<-readRDS(\"/QRISdata/Q2051/SCC_Paper/resources/data/frozen_objects_Nov2024_PP/SCC_BCC/SCC_BCC_seurat.rds\")\n",
    "mel<-readRDS(\"/QRISdata/Q2051/SCC_Paper/resources/data/frozen_objects_Nov2024_PP/Mel/Melanoma_seurat.Rds\")\n"
   ],
   "outputs": [],
   "execution_count": null
  },
  {
   "cell_type": "code",
   "id": "a424d0b7-d031-4f2a-b360-9fe0e131a69f",
   "metadata": {},
   "source": [
    "specific_counts_scc <- as.data.frame.matrix(table(scc_bcc[[c(\"Level2_Cancer\", \"sample_ID\")]]))\n",
    "specific_counts_mel<-as.data.frame.matrix(table(mel[[c(\"Level2_Cancer\", \"orig.ident\")]]))"
   ],
   "outputs": [],
   "execution_count": null
  },
  {
   "cell_type": "code",
   "id": "f4538b4a-cd55-4c45-a2ae-b65e07a76518",
   "metadata": {
    "scrolled": true
   },
   "source": [
    "# Assuming your data frame is named df\n",
    "specific_counts_scc[\"KC Cancer\", \"P4_N\"] <- 0\n",
    "specific_counts_scc"
   ],
   "outputs": [],
   "execution_count": null
  },
  {
   "cell_type": "code",
   "id": "c2605217-897d-4865-ac5b-af93dde4b7de",
   "metadata": {},
   "source": [
    "unique(rownames(specific_counts_scc))\n",
    "unique(rownames(specific_counts_mel))"
   ],
   "outputs": [],
   "execution_count": null
  },
  {
   "cell_type": "code",
   "id": "77ad8ac9-2430-42b5-97a2-cc8776f1639a",
   "metadata": {},
   "source": [
    "# Assuming df1 and df2 have the same row names and are ordered the same way\n",
    "#cbind(specific_counts_scc, specific_counts_mel)\n",
    "# Assuming df1 and df2 are your data frames\n",
    "specific_counts <- merge(specific_counts_scc, specific_counts_mel, by = \"row.names\", all = TRUE)\n",
    "\n",
    "# Optionally, set the row names to the first column (which now contains the original row names)\n",
    "rownames(specific_counts) <- specific_counts$Row.names\n",
    "specific_counts$Row.names <- NULL\n",
    "specific_counts"
   ],
   "outputs": [],
   "execution_count": null
  },
  {
   "cell_type": "code",
   "id": "ef28bb3b-ddb0-44ec-9056-729358eda9d9",
   "metadata": {},
   "source": [
    "write.table(specific_counts,\"/QRISdata/Q2051/SCC_Paper/resources/data/frozen_objects_Nov2024_PP/intermediate/specific_counts_for_DA_SCC_Mel.txt\",sep=\"\\t\",quote = FALSE)"
   ],
   "outputs": [],
   "execution_count": null
  },
  {
   "cell_type": "code",
   "id": "376a1b73-9dae-4c40-984f-b5763cbd8d31",
   "metadata": {},
   "source": [
    "library(Seurat)\n",
    "library(edgeR)\n",
    "library(ggplot2)\n",
    "library(gtools)  # For stars.pval\n",
    "\n",
    "# Load and preprocess data\n",
    "specific_counts <- read.csv(\"/QRISdata/Q2051/SCC_Paper/resources/data/frozen_objects_Nov2024_PP/intermediate/specific_counts_for_DA_SCC_Mel.txt\", header = TRUE, sep=\"\\t\")\n",
    "specific_counts[is.na(specific_counts)] <- 0\n",
    "\n",
    "meta <- read.csv(\"meta_for_DA_scc_mel.txt\", sep=\"\\t\")\n",
    "rownames(meta) <- meta$samples\n",
    "\n",
    "# Ensure disease is a factor with the correct levels\n",
    "meta$disease <- factor(meta$disease, levels = c(\"Normal\", \"SCC\", \"Melanoma\"))\n",
    "\n",
    "# Create DGEList object\n",
    "y.ab <- DGEList(counts = specific_counts, group = meta$disease)\n",
    "#keep <- filterByExpr(y.ab)\n",
    "#y.ab <- y.ab[keep,]\n",
    "\n",
    "# Design matrix for multiple group comparisons\n",
    "design <- model.matrix(~ disease, data = meta)\n",
    "colnames(design) <- make.names(colnames(design))\n",
    "\n",
    "# Recompute dispersion\n",
    "y.ab <- estimateDisp(y.ab, design)\n",
    "\n",
    "# Fit model\n",
    "fit.ab <- glmQLFit(y.ab, design, robust = TRUE)\n",
    "\n",
    "# Perform tests for all comparisons\n",
    "# Normal vs. SCC\n",
    "res_normal_vs_scc <- glmQLFTest(fit.ab, coef = \"diseaseSCC\")\n",
    "# Normal vs. Mel\n",
    "res_normal_vs_mel <- glmQLFTest(fit.ab, coef = \"diseaseMelanoma\")\n",
    "# SCC vs. Mel\n",
    "res_scc_vs_mel <- glmQLFTest(fit.ab, contrast = c(0, -1, 1))\n",
    "\n",
    "# Results for Normal vs. SCC\n",
    "summary(decideTests(res_normal_vs_scc))\n",
    "topTags(res_normal_vs_scc, n = 20)\n",
    "tagtable_normal_vs_scc <- topTags(res_normal_vs_scc, n = 20)$table\n",
    "tagtable_normal_vs_scc$stats <- gtools::stars.pval(tagtable_normal_vs_scc$FDR)\n",
    "\n",
    "# Results for Normal vs. Mel\n",
    "summary(decideTests(res_normal_vs_mel))\n",
    "topTags(res_normal_vs_mel, n = 20)\n",
    "tagtable_normal_vs_mel <- topTags(res_normal_vs_mel, n = 20)$table\n",
    "tagtable_normal_vs_mel$stats <- gtools::stars.pval(tagtable_normal_vs_mel$FDR)\n",
    "\n",
    "# Results for SCC vs. Mel\n",
    "summary(decideTests(res_scc_vs_mel))\n",
    "topTags(res_scc_vs_mel, n = 20)\n",
    "tagtable_scc_vs_mel <- topTags(res_scc_vs_mel, n = 20)$table\n",
    "tagtable_scc_vs_mel$stats <- gtools::stars.pval(tagtable_scc_vs_mel$FDR)\n",
    "\n",
    "# Save results if needed\n",
    " write.table(tagtable_normal_vs_scc, \"/QRISdata/Q2051/SCC_Paper/resources/data/frozen_objects_Nov2024_PP/intermediate//results_normal_vs_scc.txt\", sep = \"\\t\", quote = FALSE)\n",
    " write.table(tagtable_normal_vs_mel, \"/QRISdata/Q2051/SCC_Paper/resources/data/frozen_objects_Nov2024_PP/intermediate//results_normal_vs_mel.txt\", sep = \"\\t\", quote = FALSE)\n",
    " write.table(tagtable_scc_vs_mel, \"/QRISdata/Q2051/SCC_Paper/resources/data/frozen_objects_Nov2024_PP/intermediate//results_scc_vs_mel.txt\", sep = \"\\t\", quote = FALSE)\n"
   ],
   "outputs": [],
   "execution_count": null
  },
  {
   "cell_type": "code",
   "id": "47d4c492-ecca-4667-91a8-355f2a8d6a72",
   "metadata": {},
   "source": [
    "tagtable_normal_vs_scc"
   ],
   "outputs": [],
   "execution_count": null
  },
  {
   "cell_type": "code",
   "id": "05d0f8d0-6e7f-41cd-8b18-c333e62c07cf",
   "metadata": {},
   "source": [
    "tagtable_normal_vs_mel"
   ],
   "outputs": [],
   "execution_count": null
  },
  {
   "cell_type": "code",
   "id": "de326734-a3d3-47c0-811f-21b18a6dc6a0",
   "metadata": {},
   "source": [
    "tagtable_scc_vs_mel"
   ],
   "outputs": [],
   "execution_count": null
  },
  {
   "cell_type": "code",
   "id": "ca565285-a0ba-46a5-ac93-1e98c0b1164b",
   "metadata": {},
   "source": [],
   "outputs": [],
   "execution_count": null
  }
 ],
 "metadata": {
  "kernelspec": {
   "display_name": "R (r_env_CNVs)",
   "language": "R",
   "name": "ir_env_cnvs"
  },
  "language_info": {
   "codemirror_mode": "r",
   "file_extension": ".r",
   "mimetype": "text/x-r-source",
   "name": "R",
   "pygments_lexer": "r",
   "version": "4.3.3"
  }
 },
 "nbformat": 4,
 "nbformat_minor": 5
}
