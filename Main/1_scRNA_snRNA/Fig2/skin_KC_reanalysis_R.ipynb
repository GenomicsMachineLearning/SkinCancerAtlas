{
 "cells": [
  {
   "cell_type": "code",
   "id": "28a053f3-5ba7-4ebc-9e81-7b0e96e86400",
   "metadata": {},
   "source": [
    "library(Seurat)\n",
    "library(dplyr)\n",
    "library(ggplot2)"
   ],
   "outputs": [],
   "execution_count": null
  },
  {
   "cell_type": "code",
   "id": "403e472c-4094-4163-939a-2b962323b153",
   "metadata": {},
   "source": [
    "full<-readRDS(\"/QRISdata/Q2051/SCC_Paper/resources/data/scRNASeq_ReanalysisApril2024/FullDataset/FullObject_withAnnotations.RDS\")\n",
    "DimPlot(full)"
   ],
   "outputs": [],
   "execution_count": null
  },
  {
   "cell_type": "code",
   "id": "7fc296f3-8b08-4e3b-8678-578c16b18cc5",
   "metadata": {},
   "source": [
    "head(full@meta.data)"
   ],
   "outputs": [],
   "execution_count": null
  },
  {
   "cell_type": "code",
   "id": "a8d5e91b-0752-4b1c-9bee-99433c466333",
   "metadata": {},
   "source": [
    "KC<-subset(full, subset = Level1_unnamed == \"KC\")\n",
    "KC\n",
    "options(repr.plot.width = 6, repr.plot.height = 4)\n",
    "DimPlot(KC)"
   ],
   "outputs": [],
   "execution_count": null
  },
  {
   "cell_type": "code",
   "id": "df63763d-fd59-4b46-a64d-7c01688de01d",
   "metadata": {},
   "source": [
    "options(repr.plot.width = 20, repr.plot.height = 4)\n",
    "\n",
    "# Define the gene sets as a list\n",
    "gene_list <- list(\n",
    "#  \"Immune cell\" = c(\"CD3D\", \"CD3E\", \"CD4\", \"CD8B\", \"CD8A\", \"CCR7\", \"SELL\", \"CD44\", \"CD27\", \"ITGAM\", \"S100A8\"),\n",
    "#  \"prolif\" = c(\"MKI67\"),\n",
    "  \"IFN\" = c(\"ISG15\", \"IFI27\", \"STAT1\"),\n",
    "  \"KC Basal\" = c(\"KRT15\", \"KRT5\", \"KRT14\", \"CTNNB1\", \"C1orf56\"),\n",
    "  \"KC Differentiating\" = c(\"KRT1\", \"KRT10\"),\n",
    "  \"KC Cornified\" = c(\"LOR\", \"IVL\"),\n",
    "  \"KC Granular\" = c(\"KRT2\", \"FLG\"),\n",
    "  \"KC stem/hair/stress\" = c(\"KRT16\", \"KRT17\", \"KRT6A\"),\n",
    "  \"KC nail/nail\" = c(\"KRT6B\", \"KRT79\")\n",
    ")\n",
    "\n",
    "# Convert the list of gene sets to a vector for plotting\n",
    "genes_to_plot <- unlist(gene_list)\n",
    "\n",
    "# Generate the dot plot\n",
    "DotPlot(\n",
    "  object = KC,           # Your Seurat object\n",
    "  features = genes_to_plot,      # Genes to plot         # Grouping variable (like 'leiden_R')\n",
    "  cols = \"Reds\",             # Color scheme (similar to 'color_map' in scanpy)\n",
    "  scale = TRUE                 # Scale the gene expression values\n",
    ") + theme(axis.text.x = element_text(angle = 90, hjust = 1)) +  RotatedAxis()                  # Rotate axis labels for better readability\n"
   ],
   "outputs": [],
   "execution_count": null
  },
  {
   "cell_type": "code",
   "id": "a5e7bf16-6746-405f-804a-dd3cf3deac72",
   "metadata": {},
   "source": [
    "m<-read.csv(\"/QRISdata/Q2051/SCC_Paper/resources/data/scc_bcc_sc_Idents_corrected_meta.txt\",sep=\"\\t\")\n",
    "names(m)"
   ],
   "outputs": [],
   "execution_count": null
  },
  {
   "cell_type": "code",
   "id": "fd69a697-1b5d-4806-af98-d794912fb23a",
   "metadata": {},
   "source": [
    "DefaultAssay(KC)"
   ],
   "outputs": [],
   "execution_count": null
  },
  {
   "cell_type": "code",
   "id": "3b7730a9-a65a-486d-8b4d-56348eb057da",
   "metadata": {},
   "source": [
    "head(m)"
   ],
   "outputs": [],
   "execution_count": null
  },
  {
   "cell_type": "code",
   "id": "177e41b3-2ab8-451b-9554-3739dae0fc5c",
   "metadata": {},
   "source": [],
   "outputs": [],
   "execution_count": null
  },
  {
   "cell_type": "code",
   "id": "be73fffe-1755-4c29-acf1-96307c77e83e",
   "metadata": {},
   "source": [
    "options(repr.plot.width = 6, repr.plot.height = 4)\n",
    "\n",
    "DimPlot(KC, group.by =\"Level2_CT\")"
   ],
   "outputs": [],
   "execution_count": null
  },
  {
   "cell_type": "code",
   "id": "9848dded-0b8a-4578-bbea-7003e659a474",
   "metadata": {},
   "source": [
    "options(repr.plot.width = 20, repr.plot.height = 4)\n",
    "\n",
    "# Define the gene sets as a list\n",
    "gene_list <- list(\n",
    "  \"IFN\" = c(\"ISG15\", \"IFI27\", \"STAT1\"),\n",
    "  \"KC Basal\" = c(\"KRT15\", \"KRT5\", \"KRT14\", \"CTNNB1\", \"C1orf56\"),\n",
    "  \"KC Differentiating\" = c(\"KRT1\", \"KRT10\"),\n",
    "  \"KC Cornified\" = c(\"LOR\", \"IVL\"),\n",
    "  \"KC Granular\" = c(\"KRT2\", \"FLG\"),\n",
    "  \"KC stem/hair/stress\" = c(\"KRT16\", \"KRT17\", \"KRT6A\"),\n",
    "  \"KC nail/nail\" = c(\"KRT6B\", \"KRT79\")\n",
    ")\n",
    "\n",
    "# Convert the list of gene sets to a vector for plotting\n",
    "genes_to_plot <- unlist(gene_list)\n",
    "Idents(KC)<-KC@meta.data$Level2_CT\n",
    "# Generate the dot plot\n",
    "DotPlot(\n",
    "  object = KC,           # Your Seurat object\n",
    "  features = genes_to_plot,      # Genes to plot         # Grouping variable (like 'leiden_R')\n",
    "  cols = \"Reds\",             # Color scheme (similar to 'color_map' in scanpy)\n",
    "  scale = TRUE       # Scale the gene expression values\n",
    ") + theme(axis.text.x = element_text(angle = 90, hjust = 1)) +  RotatedAxis()                  # Rotate axis labels for better readability\n"
   ],
   "outputs": [],
   "execution_count": null
  },
  {
   "cell_type": "code",
   "id": "9f0b52d2-ced4-4b73-ae06-9a6da44e8017",
   "metadata": {},
   "source": [
    "# Check if 'Level2_CT' exists in the metadata\n",
    "head(KC@meta.data$Level2_CT)\n"
   ],
   "outputs": [],
   "execution_count": null
  },
  {
   "cell_type": "code",
   "id": "c60f6475-5fde-4a07-95de-9bba1831d58c",
   "metadata": {},
   "source": [],
   "outputs": [],
   "execution_count": null
  },
  {
   "cell_type": "code",
   "id": "92082e05-3299-4c7d-92b6-f966c57bd46c",
   "metadata": {},
   "source": [
    "library(Seurat)\n",
    "\n",
    "#df <- readRDS(\"/Volumes/flan/Archive/SCC/1_sandbox/20240322_StartSingleCellAgain/10_subsetAnnotations/KC+ambig/outdir/KC+ambig_reclust_correctedMetadata.RDS\")\n",
    "df<-readRDS(\"/QRISdata/Q2051/SCC_Paper/resources/data/scRNASeq_ReanalysisApril2024/Subclustering/KC+ambig/outdir/KC+ambig_reclust_correctedMetadata.RDS\")\n",
    "DefaultAssay(df) <- \"RNA\"\n",
    "# shared by Prakrithi 19/9/24\n",
    "meta_subsequent <- read.delim(\"/QRISdata/Q2051/SCC_Paper/resources/data/scc_bcc_sc_Idents_corrected_meta.txt\", row.names = 1)\n",
    "\n",
    " #Define the gene sets as a list\n",
    "gene_list <- list(\n",
    "#  \"Immune cell\" = c(\"CD3D\", \"CD3E\", \"CD4\", \"CD8B\", \"CD8A\", \"CCR7\", \"SELL\", \"CD44\", \"CD27\", \"ITGAM\", \"S100A8\"),\n",
    "#  \"prolif\" = c(\"MKI67\"),\n",
    "  \"IFN\" = c(\"ISG15\", \"IFI27\", \"STAT1\"),\n",
    "  \"KC Basal\" = c(\"KRT15\", \"KRT5\", \"KRT14\", \"CTNNB1\", \"C1orf56\"),\n",
    "  \"KC Differentiating\" = c(\"KRT1\", \"KRT10\"),\n",
    "  \"KC Cornified\" = c(\"LOR\", \"IVL\"),\n",
    "  \"KC Granular\" = c(\"KRT2\", \"FLG\"),\n",
    "  \"KC stem/hair/stress\" = c(\"KRT16\", \"KRT17\", \"KRT6A\"),\n",
    "  \"KC nail/nail\" = c(\"KRT6B\", \"KRT79\")\n",
    ")\n"
   ],
   "outputs": [],
   "execution_count": null
  },
  {
   "cell_type": "code",
   "id": "026a0d74-7550-45cc-9bcb-ac7e3456e072",
   "metadata": {},
   "source": [
    "df\n",
    "dim(meta_subsequent)"
   ],
   "outputs": [],
   "execution_count": null
  },
  {
   "cell_type": "code",
   "id": "789708e8-a7dc-41c3-9a26-58d1a0a0088e",
   "metadata": {},
   "source": [
    "meta_subsequent<-meta_subsequent[colnames(df),]\n",
    "dim(meta_subsequent)"
   ],
   "outputs": [],
   "execution_count": null
  },
  {
   "cell_type": "code",
   "id": "d795c0d2-17ca-4459-97f6-20416a3de432",
   "metadata": {},
   "source": [
    "colnames(df)[23000]\n",
    "meta_subsequent[23000,]"
   ],
   "outputs": [],
   "execution_count": null
  },
  {
   "cell_type": "code",
   "id": "867cee04-96ef-419b-acf5-fd44000538a4",
   "metadata": {},
   "source": [
    "\n",
    "unique(df$Level2)\n"
   ],
   "outputs": [],
   "execution_count": null
  },
  {
   "cell_type": "code",
   "id": "e9142779-9ee7-4555-9b8b-687a18730f3e",
   "metadata": {},
   "source": [
    "df@meta.data$Level2<-meta_subsequent$Level2\n",
    "df@meta.data$Level2[is.na(df@meta.data$Level2)] <- \"Unknown\"\n",
    "\n",
    "DotPlot(\n",
    "  object = df,           \n",
    "  features = genes_to_plot,\n",
    "  cols = \"Reds\",\n",
    "  scale = TRUE , group.by=\"Level2\") + theme(axis.text.x = element_text(angle = 90, hjust = 1)) +  RotatedAxis()    \n"
   ],
   "outputs": [],
   "execution_count": null
  },
  {
   "cell_type": "code",
   "id": "252d3603-61a2-4e6d-8d5a-ebc6a2c4f3a6",
   "metadata": {
    "scrolled": true
   },
   "source": [
    "df@meta.data"
   ],
   "outputs": [],
   "execution_count": null
  },
  {
   "cell_type": "code",
   "id": "72902c48-a0cf-4e9f-ac66-53985b2bc141",
   "metadata": {},
   "source": [],
   "outputs": [],
   "execution_count": null
  },
  {
   "cell_type": "code",
   "id": "4193c39b-8195-4c3a-9210-aa01e821a535",
   "metadata": {},
   "source": [
    "sub<-readRDS(\"/QRISdata/Q2051/SCC_Paper/resources/data/scRNASeq_ReanalysisApril2024/Subclustering/KC+ambig/outdir/KC+ambig_reclust_correctedMetadata.RDS\")\n",
    "DimPlot(sub)"
   ],
   "outputs": [],
   "execution_count": null
  },
  {
   "cell_type": "code",
   "id": "967f9b63-4311-4c1b-9a2e-e4b9659c3d1e",
   "metadata": {},
   "source": [
    "sub"
   ],
   "outputs": [],
   "execution_count": null
  },
  {
   "cell_type": "code",
   "id": "173f4a24-8e3f-4690-a817-f5bc1989c9ea",
   "metadata": {},
   "source": [
    "sub<-FindSubCluster(\n",
    "  sub,\n",
    "  c(\"0\",\"1\",\"2\",\"3\",\"4\",\"5\",\"6\"),\n",
    "  \"integrated_snn\",\n",
    "  subcluster.name = \"Sub\",\n",
    "  resolution = 0.3,\n",
    "  algorithm = 1\n",
    ")\n"
   ],
   "outputs": [],
   "execution_count": null
  },
  {
   "cell_type": "code",
   "id": "14fb7a5d-3691-48ac-b27c-748c26a05cfb",
   "metadata": {},
   "source": [
    "sub<-FindSubCluster(\n",
    "  sub,\n",
    "  \"3\",\n",
    "  \"integrated_snn\",\n",
    "  subcluster.name = \"Sub3\",\n",
    "  resolution = 0.3,\n",
    "  algorithm = 1\n",
    ")\n"
   ],
   "outputs": [],
   "execution_count": null
  },
  {
   "cell_type": "code",
   "id": "98bf49e0-8bdc-49f3-8726-4d66c96e5c02",
   "metadata": {},
   "source": [],
   "outputs": [],
   "execution_count": null
  },
  {
   "cell_type": "code",
   "id": "68762cdd-3619-4fda-bd04-1a86be960e4c",
   "metadata": {},
   "source": [
    "# Check the list of embeddings available in your Seurat object\n",
    "#Embeddings(sub)\n",
    "names(sub@graphs)\n"
   ],
   "outputs": [],
   "execution_count": null
  },
  {
   "cell_type": "code",
   "id": "86713be1-da52-4f1b-8757-782ac4af7c15",
   "metadata": {},
   "source": [
    "options(repr.plot.width = 20, repr.plot.height = 4)\n",
    "\n",
    "DimPlot(sub,group.by = c(\"Sub0\",\"Sub3\",\"Sub4\"))"
   ],
   "outputs": [],
   "execution_count": null
  },
  {
   "cell_type": "code",
   "id": "e34c1eae-3abc-4b67-b242-baeec15b84d7",
   "metadata": {},
   "source": [
    "options(repr.plot.width = 20, repr.plot.height = 4)\n",
    "\n",
    "# Define the gene sets as a list\n",
    "gene_list <- list(\n",
    "#  \"Immune cell\" = c(\"CD3D\", \"CD3E\", \"CD4\", \"CD8B\", \"CD8A\", \"CCR7\", \"SELL\", \"CD44\", \"CD27\", \"ITGAM\", \"S100A8\"),\n",
    "#  \"prolif\" = c(\"MKI67\"),\n",
    "  \"IFN\" = c(\"ISG15\", \"IFI27\", \"STAT1\"),\n",
    "  \"KC Basal\" = c(\"KRT15\", \"KRT5\", \"KRT14\", \"CTNNB1\", \"C1orf56\"),\n",
    "  \"KC Differentiating\" = c(\"KRT1\", \"KRT10\"),\n",
    "  \"KC Cornified\" = c(\"LOR\", \"IVL\"),\n",
    "  \"KC Granular\" = c(\"KRT2\", \"FLG\"),\n",
    "  \"KC stem/hair/stress\" = c(\"KRT16\", \"KRT17\", \"KRT6A\"),\n",
    "  \"KC nail/nail\" = c(\"KRT6B\", \"KRT79\")\n",
    ")\n",
    "\n",
    "# Convert the list of gene sets to a vector for plotting\n",
    "genes_to_plot <- unlist(gene_list)\n",
    "\n",
    "# Generate the dot plot\n",
    "DotPlot(\n",
    "  object = sub,           # Your Seurat object\n",
    "  features = genes_to_plot,      # Genes to plot         # Grouping variable (like 'leiden_R')\n",
    "  cols = \"Reds\",             # Color scheme (similar to 'color_map' in scanpy)\n",
    "  scale = TRUE                 # Scale the gene expression values\n",
    ") + theme(axis.text.x = element_text(angle = 90, hjust = 1)) +  RotatedAxis()                  # Rotate axis labels for better readability\n"
   ],
   "outputs": [],
   "execution_count": null
  },
  {
   "cell_type": "code",
   "id": "cbc984cf-6a1e-41ca-9eb2-355cf84ea9a6",
   "metadata": {
    "scrolled": true
   },
   "source": [
    "options(repr.plot.width = 20, repr.plot.height = 12)\n",
    "\n",
    "# Define the gene sets as a list\n",
    "gene_list <- list(\n",
    "#  \"Immune cell\" = c(\"CD3D\", \"CD3E\", \"CD4\", \"CD8B\", \"CD8A\", \"CCR7\", \"SELL\", \"CD44\", \"CD27\", \"ITGAM\", \"S100A8\"),\n",
    "#  \"prolif\" = c(\"MKI67\"),\n",
    "  \"IFN\" = c(\"ISG15\", \"IFI27\", \"STAT1\"),\n",
    "  \"KC Basal\" = c(\"KRT15\", \"KRT5\", \"KRT14\", \"CTNNB1\", \"C1orf56\"),\n",
    "  \"KC Differentiating\" = c(\"KRT1\", \"KRT10\"),\n",
    "  \"KC Cornified\" = c(\"LOR\", \"IVL\"),\n",
    "  \"KC Granular\" = c(\"KRT2\", \"FLG\"),\n",
    "  \"KC stem/hair/stress\" = c(\"KRT16\", \"KRT17\", \"KRT6A\"),\n",
    "  \"KC nail/nail\" = c(\"KRT6B\", \"KRT79\")\n",
    ")\n",
    "\n",
    "# Convert the list of gene sets to a vector for plotting\n",
    "genes_to_plot <- unlist(gene_list)\n",
    "\n",
    "# Generate the dot plot\n",
    "DotPlot(\n",
    "  object = sub,           # Your Seurat object\n",
    "  features = genes_to_plot,      # Genes to plot         # Grouping variable (like 'leiden_R')\n",
    "  cols = \"Reds\",   group.by=\"Sub\",             # Color scheme (similar to 'color_map' in scanpy)\n",
    "  scale = TRUE                   # Scale the gene expression values\n",
    ") + theme(axis.text.x = element_text(angle = 90, hjust = 1)) +  RotatedAxis()                  # Rotate axis labels for better readability\n"
   ],
   "outputs": [],
   "execution_count": null
  },
  {
   "cell_type": "code",
   "id": "80cfbff3-0a2a-4057-a75b-1c669b779dd4",
   "metadata": {},
   "source": [
    "DefaultAssay(sub) <- \"integrated\""
   ],
   "outputs": [],
   "execution_count": null
  },
  {
   "cell_type": "code",
   "id": "05e04704-8e08-4e05-aecf-2a5ea711a5f1",
   "metadata": {},
   "source": [
    "options(repr.plot.width = 10, repr.plot.height = 4)\n",
    "\n",
    "# Convert the list of gene sets to a vector for plotting\n",
    "genes_to_plot <- unlist(gene_list)\n",
    "\n",
    "# Generate the dot plot\n",
    "DotPlot(\n",
    "  object = sub,         # Your Seurat object\n",
    "  features = genes_to_plot,      # Genes to plot         # Grouping variable (like 'leiden_R')\n",
    "  cols = \"Reds\",             # Color scheme (similar to 'color_map' in scanpy)\n",
    "  scale = TRUE                   # Scale the gene expression values\n",
    ") + theme(axis.text.x = element_text(angle = 90, hjust = 1)) +  RotatedAxis()                  # Rotate axis labels for better readability\n"
   ],
   "outputs": [],
   "execution_count": null
  },
  {
   "cell_type": "code",
   "id": "87b4e84e-03a5-4f2b-87ea-19e0e663cd12",
   "metadata": {},
   "source": [
    "options(repr.plot.width = 10, repr.plot.height = 4)\n",
    "\n",
    "# Convert the list of gene sets to a vector for plotting\n",
    "genes_to_plot <- unlist(gene_list)\n",
    "\n",
    "# Generate the dot plot\n",
    "DotPlot(\n",
    "  object = sub,         # Your Seurat object\n",
    "  features = genes_to_plot,      # Genes to plot         # Grouping variable (like 'leiden_R')\n",
    "  cols = \"Reds\", group.by=\"Sub3\",            # Color scheme (similar to 'color_map' in scanpy)\n",
    "  scale = TRUE                   # Scale the gene expression values\n",
    ") + theme(axis.text.x = element_text(angle = 90, hjust = 1)) +  RotatedAxis()                  # Rotate axis labels for better readability\n"
   ],
   "outputs": [],
   "execution_count": null
  },
  {
   "cell_type": "code",
   "id": "c06f2371-3759-41c2-98e8-71d1fc505713",
   "metadata": {},
   "source": [
    "\"4_0\",\"4_2\",\"4_3\" KC Hair\n",
    "\"4_1\",\"1\",\"2\" KC Basal"
   ],
   "outputs": [],
   "execution_count": null
  },
  {
   "cell_type": "code",
   "id": "d5939725-3a06-41bb-83d2-b03859b439b3",
   "metadata": {},
   "source": [
    "genes_to_plot"
   ],
   "outputs": [],
   "execution_count": null
  },
  {
   "cell_type": "code",
   "id": "5d048f2b-6b3c-4690-bebd-b41d6ade503b",
   "metadata": {},
   "source": [
    "RenameIdents(`0`=\"KC Differentiating\","
   ],
   "outputs": [],
   "execution_count": null
  },
  {
   "cell_type": "code",
   "id": "71da86e8-3244-4248-8920-3b1247e1b92d",
   "metadata": {},
   "source": [],
   "outputs": [],
   "execution_count": null
  },
  {
   "cell_type": "code",
   "id": "f26524ca-92f5-4f95-a859-a5e6a8fe8f08",
   "metadata": {},
   "source": [
    "names(full@meta.data)\n",
    "names(sub@meta.data)"
   ],
   "outputs": [],
   "execution_count": null
  },
  {
   "cell_type": "code",
   "id": "7a130ce6-cef2-4a42-834a-97d86133ddf5",
   "metadata": {},
   "source": [
    "unique(full@meta.data$Level2_unnamed)"
   ],
   "outputs": [],
   "execution_count": null
  },
  {
   "cell_type": "code",
   "id": "fb68321f-1c7a-4507-a62e-2208587157ef",
   "metadata": {},
   "source": [
    "m=read.csv(\"/QRISdata/Q2051/SCC_Paper/resources/data/scc_bcc_sc_Idents_corrected_meta.txt\",sep=\"\\t\")\n",
    "names(m)"
   ],
   "outputs": [],
   "execution_count": null
  },
  {
   "cell_type": "code",
   "id": "be21eb91-c6e4-4171-aefe-ecaeece42e5d",
   "metadata": {},
   "source": [
    "m2<-read.csv(\"/QRISdata/Q2051/SCC_Paper/resources/data/scc_bcc_celltypes.txt\",sep=\"\\t\")\n",
    "names(m2)\n",
    "rownames(m2)<-m2$X\n",
    "head(m2)"
   ],
   "outputs": [],
   "execution_count": null
  },
  {
   "cell_type": "code",
   "id": "cc79472b-582a-43c3-8aba-9a9b573c2402",
   "metadata": {},
   "source": [
    "unique(m$cell_type_js)"
   ],
   "outputs": [],
   "execution_count": null
  },
  {
   "cell_type": "code",
   "id": "8b5931f7-d96f-42a5-967d-fa455cd1bdb5",
   "metadata": {},
   "source": [
    "head(m)"
   ],
   "outputs": [],
   "execution_count": null
  },
  {
   "cell_type": "code",
   "id": "b54c8cbe-8aba-48c9-a974-e7e26b70c545",
   "metadata": {},
   "source": [
    "rownames(m)<-m$BC"
   ],
   "outputs": [],
   "execution_count": null
  },
  {
   "cell_type": "code",
   "id": "fb18077f-e93e-444d-b7cc-8346b2ff05e2",
   "metadata": {},
   "source": [
    "options(repr.plot.width = 10, repr.plot.height = 6)\n",
    "\n",
    "# Match the rownames from `m` to the rownames in Seurat object's metadata\n",
    "matching_rows <- match(rownames(sub@meta.data), rownames(m))\n",
    "\n",
    "# Add the `m$celltype` column to `seurat_obj@meta.data$celltype_js` based on matching rownames\n",
    "sub@meta.data$cell_type_js <- m$cell_type_js[matching_rows]\n",
    "DimPlot(sub,group.by = \"cell_type_js\")"
   ],
   "outputs": [],
   "execution_count": null
  },
  {
   "cell_type": "code",
   "id": "108985e0-4c95-4c3b-8dc7-2c64dffba274",
   "metadata": {},
   "source": [
    "options(repr.plot.width = 10, repr.plot.height = 6)\n",
    "\n",
    "# Match the rownames from `m` to the rownames in Seurat object's metadata\n",
    "matching_rows <- match(rownames(sub@meta.data), rownames(m2))\n",
    "\n",
    "# Add the `m$celltype` column to `seurat_obj@meta.data$celltype_js` based on matching rownames\n",
    "sub@meta.data$cell_type_L2_Cancer <- m2$Level2_Cancer[matching_rows]\n",
    "DimPlot(sub,group.by = \"cell_type_L2_Cancer\")"
   ],
   "outputs": [],
   "execution_count": null
  },
  {
   "cell_type": "code",
   "id": "7316e069-4219-45fb-9b99-4a72fdf0684b",
   "metadata": {},
   "source": [],
   "outputs": [],
   "execution_count": null
  },
  {
   "cell_type": "code",
   "id": "e3c02c26-024f-4011-8005-517e5992d35c",
   "metadata": {},
   "source": [
    "BiocManager::install(\"zellkonverter\")\n"
   ],
   "outputs": [],
   "execution_count": null
  },
  {
   "cell_type": "code",
   "id": "e1d5f908-d11c-4827-b0e8-2a7e98bd2bfa",
   "metadata": {},
   "source": [
    "library(Seurat)\n",
    "library(zellkonverter)"
   ],
   "outputs": [],
   "execution_count": null
  },
  {
   "cell_type": "code",
   "id": "5cf1ff29-c76f-4903-a6e2-43b2818f7817",
   "metadata": {},
   "source": [
    "seu <- readRDS(\"/QRISdata/Q2051/SCC_Paper/resources/data/scRNASeq_ReanalysisApril2024/FullDataset/FullObject_withAnnotations.RDS\")\n",
    "seu"
   ],
   "outputs": [],
   "execution_count": null
  },
  {
   "cell_type": "code",
   "id": "bff60b08-3f23-45f6-a41e-ad40a8e52030",
   "metadata": {},
   "source": [
    "counts<-GetAssayData(seu, slot = \"counts\")\n",
    "head(counts)"
   ],
   "outputs": [],
   "execution_count": null
  },
  {
   "cell_type": "code",
   "id": "2d7bbadb-4721-4721-a1d7-52b73ab54c36",
   "metadata": {},
   "source": [
    "data<-GetAssayData(seu, slot = \"data\")\n",
    "head(data)"
   ],
   "outputs": [],
   "execution_count": null
  },
  {
   "cell_type": "code",
   "id": "554b5b7c-39bc-4fe1-b92e-c1926eeca951",
   "metadata": {},
   "source": [
    "scale.data<-GetAssayData(seu, slot = \"scale.data\")\n",
    "head(scale.data)"
   ],
   "outputs": [],
   "execution_count": null
  },
  {
   "cell_type": "code",
   "id": "fef79a6b-d720-40d1-85a7-a4f18bfbc23d",
   "metadata": {},
   "source": [
    "DefaultAssay(object = seu) <- \"integrated\"\n",
    "seu"
   ],
   "outputs": [],
   "execution_count": null
  },
  {
   "cell_type": "code",
   "id": "434977f4-8f01-49bd-91e4-25a83f6b9592",
   "metadata": {},
   "source": [
    "seu"
   ],
   "outputs": [],
   "execution_count": null
  },
  {
   "cell_type": "code",
   "id": "bfd41155-1ca2-4c55-b2d5-7395e23b5480",
   "metadata": {},
   "source": [
    "sce <- as.SingleCellExperiment(seu, assay='RNA')\n",
    "sce\n"
   ],
   "outputs": [],
   "execution_count": null
  },
  {
   "cell_type": "code",
   "id": "df9cffcb-bd8a-45c8-82d5-3b1f7c803367",
   "metadata": {},
   "source": [
    "writeH5AD(sce, file=\"skin_atlas/SCC_KCreanalysis_RNA_PP_sep2024.h5ad\")"
   ],
   "outputs": [],
   "execution_count": null
  },
  {
   "cell_type": "code",
   "id": "757e7251-53b1-45a4-9eba-34ad65fda3c7",
   "metadata": {},
   "source": [
    "sce2 <- as.SingleCellExperiment(seu, assay='integrated')\n",
    "writeH5AD(sce2, file=\"skin_atlas/SCC_KCreanalysis_integrated_PP_sep2024.h5ad\")"
   ],
   "outputs": [],
   "execution_count": null
  },
  {
   "cell_type": "code",
   "id": "fd83bc87-76b0-42b1-9083-65a0261a61fd",
   "metadata": {},
   "source": [
    "full"
   ],
   "outputs": [],
   "execution_count": null
  },
  {
   "cell_type": "code",
   "id": "a71d1fd4-0a2b-4114-8944-d1ccb9b9a4ed",
   "metadata": {},
   "source": [
    "# View the data for the active assay (typically normalized data)\n",
    "head(full@assays$RNA$data)  # For normalized data\n",
    "head(full@assays$RNA$counts)  # For raw counts"
   ],
   "outputs": [],
   "execution_count": null
  },
  {
   "cell_type": "code",
   "id": "5c37eb07-12ac-4d96-8900-c59f0f412649",
   "metadata": {
    "scrolled": true
   },
   "source": [
    "# View the data for the active assay (typically normalized data)\n",
    "head(full@assays$integrated$data)  # For normalized data\n"
   ],
   "outputs": [],
   "execution_count": null
  },
  {
   "cell_type": "code",
   "id": "5b59f280-a512-496d-8b0d-4a3688c1b6a4",
   "metadata": {},
   "source": [],
   "outputs": [],
   "execution_count": null
  }
 ],
 "metadata": {
  "kernelspec": {
   "display_name": "R (r_env_CNVs)",
   "language": "R",
   "name": "ir_env_cnvs"
  },
  "language_info": {
   "codemirror_mode": "r",
   "file_extension": ".r",
   "mimetype": "text/x-r-source",
   "name": "R",
   "pygments_lexer": "r",
   "version": "4.3.3"
  }
 },
 "nbformat": 4,
 "nbformat_minor": 5
}
