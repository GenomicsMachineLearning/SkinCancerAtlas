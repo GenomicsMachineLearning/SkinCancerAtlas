{
 "cells": [
  {
   "cell_type": "code",
   "metadata": {},
   "source": [
    "import scanpy as sc\n",
    "import pandas as pd\n",
    "import numpy as np\n",
    "import os\n",
    "import warnings\n",
    "\n",
    "# Suppress all future warnings\n",
    "warnings.simplefilter(action=\"ignore\", category=FutureWarning)\n",
    "\n",
    "sc.logging.print_header()"
   ],
   "outputs": [],
   "execution_count": null
  },
  {
   "cell_type": "code",
   "metadata": {},
   "source": [
    "print(\"Previous working directory: \" + os.getcwd())\n",
    "if 'notebooks' in os.getcwd():\n",
    "    os.chdir(\"..\")\n",
    "print(\"Current working directory: \" + os.getcwd())"
   ],
   "outputs": [],
   "execution_count": null
  },
  {
   "cell_type": "code",
   "metadata": {},
   "source": [
    "adata = sc.read_h5ad(\"SCC_KCreanalysis_RNA_PP_sep2024.h5ad\") \n",
    "import numpy as np\n",
    "\n",
    "# Assuming `adata.obsm['UMAP']` is a DataFrame with 'umap_1' and 'umap_2' columns\n",
    "umap_df = adata.obsm['UMAP']\n",
    "\n",
    "# Convert DataFrame to NumPy array\n",
    "umap_array = umap_df[['umap_1', 'umap_2']].to_numpy()\n",
    "\n",
    "# Assign the array to adata.obsm['X_umap']\n",
    "adata.obsm['X_umap'] = umap_array\n",
    "\n",
    "# Check the result\n",
    "adata.obsm['X_umap']\n",
    "adata"
   ],
   "outputs": [],
   "execution_count": null
  },
  {
   "cell_type": "code",
   "metadata": {},
   "source": [
    "adata.layers['counts'] = adata.X.copy()\n"
   ],
   "outputs": [],
   "execution_count": null
  },
  {
   "cell_type": "code",
   "metadata": {},
   "source": [
    "adata.obsm[\"X_umap\"] = adata.obsm[\"UMAP\"].values"
   ],
   "outputs": [],
   "execution_count": null
  },
  {
   "cell_type": "code",
   "metadata": {},
   "source": [
    "sc.pl.umap(adata, color=[\"ident\",\"Level1_unnamed\"], legend_loc='on data')"
   ],
   "outputs": [],
   "execution_count": null
  },
  {
   "metadata": {},
   "cell_type": "markdown",
   "source": [
    "Expected output:<br>\n",
    "![sample outtput](./images/umap_1.png)"
   ]
  },
  {
   "cell_type": "code",
   "metadata": {},
   "source": [
    "adata.obs = adata.obs.join(pd.concat([\n",
    "        pd.read_csv('data\\Endothelial_annotations.txt', sep='\\t', index_col=0),\n",
    "        pd.read_csv('data\\Fibroblast_annotations.txt', sep='\\t', index_col=0),\n",
    "        pd.read_csv('data\\Immune_annotations.txt', sep='\\t', index_col=0),\n",
    "        pd.read_csv('data\\KC_annotations.txt', sep='\\t', index_col=0),\n",
    "        pd.read_csv('data\\Melanocyte_annotations.txt', sep='\\t', index_col=0),\n",
    "    ]).drop(['integrated_snn_res.0.1','integrated_snn_res.0.4'], axis=1)\n",
    ")"
   ],
   "outputs": [],
   "execution_count": null
  },
  {
   "cell_type": "code",
   "metadata": {},
   "source": [
    "# Subset Immune Cells\n",
    "idata = adata[adata.obs.Level1_unnamed == 'immune']"
   ],
   "outputs": [],
   "execution_count": null
  },
  {
   "cell_type": "code",
   "metadata": {},
   "source": [
    "idata.var[\"mt\"] = idata.var_names.str.startswith(\"MT-\")\n",
    "sc.pp.calculate_qc_metrics(\n",
    "    idata, qc_vars=[\"mt\"], percent_top=None, log1p=False, inplace=True\n",
    ")\n",
    "sc.pp.normalize_total(idata, target_sum=1e4)\n",
    "sc.pp.log1p(idata)\n",
    "sc.pp.highly_variable_genes(idata, min_mean=0.0125, max_mean=3, min_disp=0.5)"
   ],
   "outputs": [],
   "execution_count": null
  },
  {
   "cell_type": "code",
   "metadata": {},
   "source": [
    "import re\n",
    "\n",
    "vdj_pattern = \"^TR[AB][VDJ]|^IG[HKL][VDJC]\"\n",
    "for i in idata.var.index:\n",
    "    if vdj_pattern is not None:\n",
    "        if re.search(vdj_pattern, i):\n",
    "            idata.var.at[i, \"highly_variable\"] = False"
   ],
   "outputs": [],
   "execution_count": null
  },
  {
   "cell_type": "code",
   "metadata": {},
   "source": [
    "idata.raw = idata\n",
    "idata = idata[:, idata.var[\"highly_variable\"]].copy()"
   ],
   "outputs": [],
   "execution_count": null
  },
  {
   "cell_type": "code",
   "metadata": {},
   "source": [
    "sc.pp.scale(idata, max_value=10)\n",
    "sc.tl.pca(idata, svd_solver=\"arpack\")\n",
    "sc.pp.neighbors(idata, n_neighbors=10, n_pcs=50)\n",
    "sc.tl.leiden(idata)\n",
    "sc.tl.umap(idata, min_dist=0.3)"
   ],
   "outputs": [],
   "execution_count": null
  },
  {
   "cell_type": "code",
   "metadata": {},
   "source": [
    "idata"
   ],
   "outputs": [],
   "execution_count": null
  },
  {
   "cell_type": "code",
   "metadata": {},
   "source": [
    "sc.pl.umap(idata, color=['leiden','JCHAIN', 'CD19','CD3E', 'CD8A', 'CD8B','CD4', 'CD1C', 'PCLAF','CD14', 'S100A9', \"NCAM1\",\n",
    "                         \"KRT14\", \"MS4A1\", \"FCN1\", \"KIT\",], legend_loc='on data')"
   ],
   "outputs": [],
   "execution_count": null
  },
  {
   "metadata": {},
   "cell_type": "markdown",
   "source": [
    "Expected output:<br>\n",
    "![sample outtput](./images/umap_2.png)"
   ]
  },
  {
   "cell_type": "code",
   "metadata": {},
   "source": [
    "sc.tl.rank_genes_groups(idata, groupby=\"leiden\", method=\"wilcoxon\")\n"
   ],
   "outputs": [],
   "execution_count": null
  },
  {
   "cell_type": "code",
   "metadata": {},
   "source": [
    "sc.pl.rank_genes_groups_dotplot(\n",
    "    idata, groupby=\"leiden\", standard_scale=\"var\", n_genes=5\n",
    ")"
   ],
   "outputs": [],
   "execution_count": null
  },
  {
   "metadata": {},
   "cell_type": "markdown",
   "source": [
    "Expected output:<br>\n",
    "![sample outtput](./images/heatmap_1.png)"
   ]
  },
  {
   "cell_type": "code",
   "metadata": {},
   "source": [
    "# 5, 14 are doublets with keratinocytes?? Express KRT14\n",
    "\n",
    "new_cell_dict = {\n",
    "    \"0\": \"Imm_T cell\",\n",
    "    \"1\": \"Imm_T cell\",\n",
    "    \"2\": \"Imm_T cell\",#\n",
    "    \"3\": \"Imm_T cell\",#\n",
    "    \"4\": \"Imm_T cell\",#\n",
    "    \"5\": \"Imm_Myeloid\",#\n",
    "    \"6\": \"Ambiguous\",#\n",
    "    \"7\": \"Imm_T cell\",#\n",
    "    \"8\": \"Imm_T cell\",#\n",
    "    \"9\": \"Imm_T cell\", #\n",
    "    \"10\": \"Imm_Myeloid\",#\n",
    "    \"11\": \"Imm_B cell\",#\n",
    "    \"12\": \"Imm_T cell\",#\n",
    "    \"13\": \"Imm_Myeloid\",#\n",
    "    \"14\": \"Ambiguous\",#\n",
    "    \"15\": \"Imm_Plasma\",#\n",
    "    \"16\": \"Imm_Myeloid\",#\n",
    "    \"17\": \"Imm_Myeloid\",#\n",
    "    \"18\": \"Imm_T cell\",#\n",
    "    \"19\": \"Ambiguous\" #\n",
    "}\n",
    "idata.obs[\"cell_type_PP\"] = [new_cell_dict[x] for x in idata.obs[\"leiden\"]]\n",
    "\n",
    "mdata = idata[idata.obs[\"cell_type_PP\"].isin([\"Imm_Myeloid\"])].copy()\n",
    "tdata = idata[idata.obs[\"cell_type_PP\"].isin([\"Imm_T cell\"])].copy()"
   ],
   "outputs": [],
   "execution_count": null
  },
  {
   "cell_type": "code",
   "metadata": {},
   "source": "idata.obs.to_csv(\"Imm_annot_PP_adata_obs.txt\", sep='\\t', index=True)",
   "outputs": [],
   "execution_count": null
  },
  {
   "cell_type": "markdown",
   "metadata": {},
   "source": [
    "Compute subclusters for the T cell and Myeloid cell groups"
   ]
  },
  {
   "cell_type": "code",
   "metadata": {},
   "source": [
    "mdata = mdata.raw.to_adata()\n",
    "vdj_pattern = \"^TR[AB][VDJ]|^IG[HKL][VDJC]\"\n",
    "sc.pp.highly_variable_genes(mdata, min_mean=0.0125, max_mean=3, min_disp=0.5)\n",
    "for i in mdata.var.index:\n",
    "    if vdj_pattern is not None:\n",
    "        if re.search(vdj_pattern, i):\n",
    "            mdata.var.at[i, \"highly_variable\"] = False\n",
    "mdata.raw = mdata\n",
    "mdata = mdata[:, mdata.var[\"highly_variable\"]].copy()\n",
    "sc.pp.scale(mdata, max_value=10)\n",
    "sc.tl.pca(mdata, svd_solver=\"arpack\")\n",
    "sc.pp.neighbors(mdata, n_neighbors=10, n_pcs=50)\n",
    "sc.tl.leiden(mdata)\n",
    "sc.tl.umap(mdata, min_dist=0.3)"
   ],
   "outputs": [],
   "execution_count": null
  },
  {
   "cell_type": "code",
   "metadata": {},
   "source": [
    "tdata = tdata.raw.to_adata()\n",
    "vdj_pattern = \"^TR[AB][VDJ]|^IG[HKL][VDJC]\"\n",
    "sc.pp.highly_variable_genes(tdata, min_mean=0.0125, max_mean=3, min_disp=0.5)\n",
    "for i in tdata.var.index:\n",
    "    if vdj_pattern is not None:\n",
    "        if re.search(vdj_pattern, i):\n",
    "            tdata.var.at[i, \"highly_variable\"] = False\n",
    "tdata.raw = tdata\n",
    "tdata = tdata[:, tdata.var[\"highly_variable\"]].copy()\n",
    "sc.pp.scale(tdata, max_value=10)\n",
    "sc.tl.pca(tdata, svd_solver=\"arpack\")\n",
    "sc.pp.neighbors(tdata, n_neighbors=10, n_pcs=50)\n",
    "sc.tl.leiden(tdata)\n",
    "sc.tl.umap(tdata, min_dist=0.3)"
   ],
   "outputs": [],
   "execution_count": null
  },
  {
   "cell_type": "code",
   "metadata": {},
   "source": [
    "mdata.obs_keys()"
   ],
   "outputs": [],
   "execution_count": null
  },
  {
   "cell_type": "markdown",
   "metadata": {},
   "source": [
    "Analysis of myeloid cell data"
   ]
  },
  {
   "cell_type": "code",
   "metadata": {},
   "source": [
    "sc.pl.umap(mdata, color=['leiden'], legend_loc='on data')"
   ],
   "outputs": [],
   "execution_count": null
  },
  {
   "metadata": {},
   "cell_type": "markdown",
   "source": [
    "Expected output:<br>\n",
    "![sample outtput](./images/umap_3.png)"
   ]
  },
  {
   "cell_type": "code",
   "metadata": {},
   "source": [
    "sc.pl.umap(mdata, color=['leiden', 'cancer_status_corrected',\n",
    "                         'CD1C', 'S100A9', 'CD14', 'FCGR3A',\n",
    "                         'IL15RA',\n",
    "                         'TREM2', 'CD68', 'CD8A', 'JCHAIN', \"CALML5\",\n",
    "                         ], legend_loc='on data')"
   ],
   "outputs": [],
   "execution_count": null
  },
  {
   "metadata": {},
   "cell_type": "markdown",
   "source": [
    "Expected output:<br>\n",
    "![sample outtput](./images/umap_4.png)"
   ]
  },
  {
   "cell_type": "code",
   "metadata": {},
   "source": [
    "sc.pl.umap(mdata, color=['leiden', 'cancer_status_corrected'])"
   ],
   "outputs": [],
   "execution_count": null
  },
  {
   "metadata": {},
   "cell_type": "markdown",
   "source": [
    "Expected output:<br>\n",
    "![sample outtput](./images/umap_5.png)"
   ]
  },
  {
   "cell_type": "code",
   "metadata": {},
   "source": [
    "sc.tl.leiden(mdata, resolution=0.2, restrict_to=(\"leiden\", [\"3\"]))\n",
    "sc.tl.leiden(mdata, resolution=0.2, restrict_to=(\"leiden_R\", [\"8\"]))\n",
    "sc.pl.umap(mdata, color=\"leiden_R\", legend_loc=\"on data\", legend_fontoutline=2)"
   ],
   "outputs": [],
   "execution_count": null
  },
  {
   "metadata": {},
   "cell_type": "markdown",
   "source": [
    "Expected output:<br>\n",
    "![sample outtput](./images/umap_6.png)"
   ]
  },
  {
   "cell_type": "code",
   "metadata": {},
   "source": [
    "sc.tl.rank_genes_groups(mdata, groupby=\"leiden\", method=\"wilcoxon\")"
   ],
   "outputs": [],
   "execution_count": null
  },
  {
   "cell_type": "code",
   "metadata": {},
   "source": [
    "sc.tl.dendrogram(mdata, groupby='leiden')\n",
    "\n",
    "sc.pl.rank_genes_groups_dotplot(\n",
    "    mdata, groupby=\"leiden\", standard_scale=\"var\", n_genes=6\n",
    ")"
   ],
   "outputs": [],
   "execution_count": null
  },
  {
   "metadata": {},
   "cell_type": "markdown",
   "source": [
    "Expected output:<br>\n",
    "![sample outtput](./images/heatmap_2.png)"
   ]
  },
  {
   "cell_type": "code",
   "metadata": {},
   "source": [
    "sc.pl.dotplot(\n",
    "    mdata,\n",
    "    {\n",
    "        \"General\": [\"ITGAM\", \"HLA-DRA\"],\n",
    "        \"LC\": [\"CD207\", \"EPCAM\", \"ITGAX\"],\n",
    "        \"Monocyte\": [\"CCR2\", \"CD14\", \"FCGR3A\", \"S100A8\", \"S100A9\", \"FCN1\", \"CX3CR1\"],\n",
    "        \"DC1\": [\"XCR1\", \"CLEC9A\"],\n",
    "        \"DC2\": [\"CLEC10A\", \"THBD\"],\n",
    "        \"DC3\": [\"CSF3R\", \"CSF2RA\"],\n",
    "        \"mRegDC\": [\"LAMP3\", \"CCR7\"],\n",
    "        \"pDC\": [\"IL3RA\", \"KIT\", \"IRF8\"],\n",
    "        \"Mac\": [\n",
    "            \"C1QA\",\n",
    "            \"FCGR1A\",\n",
    "            \"MERTK\",\n",
    "            \"TREM2\",\n",
    "            \"SIGLEC1\",\n",
    "            \"CD68\",\n",
    "            \"LYVE1\",\n",
    "            \"ARG1\",\n",
    "            \"CD163\",\n",
    "        ],\n",
    "        \"prolif\": [\"MKI67\"],\n",
    "        \"IFN\": [\"ISG15\", \"IFI27\", \"STAT1\"],\n",
    "        \"contamination\": [\"CD3D\", \"NCAM1\"],\n",
    "    },\n",
    "    standard_scale=\"var\",\n",
    "    color_map=\"Blues\",\n",
    "    groupby=\"leiden\",\n",
    ")"
   ],
   "outputs": [],
   "execution_count": null
  },
  {
   "metadata": {},
   "cell_type": "markdown",
   "source": [
    "Expected output:<br>\n",
    "![sample outtput](./images/heatmap_3.png)"
   ]
  },
  {
   "cell_type": "code",
   "metadata": {},
   "source": [
    "# 2  Unknown\n",
    "# 11 Contamination\n",
    "# 12 Potentially granular keratinocyte\n",
    "\n",
    "new_dict = {\n",
    "    \"0\": \"Imm_LC\",\n",
    "    \"1\": \"Imm_CX3CR1+ Mono/Mac\",\n",
    "    \"2\": \"Ambiguous\",\n",
    "    \"3\": \"Imm_LC\",\n",
    "    \"4\": \"Imm_CD169+ Mac\",\n",
    "    \"5\": \"Imm_CD169+ Mac\", #\n",
    "    \"6\": \"Imm_CD14+ Mono\",\n",
    "    \"7\": \"Imm_CD14+ Mono\",#\n",
    "    \"8\": \"Ambiguous\",\n",
    "    \"9\": \"Imm_mRegDC\",\n",
    "    \"10\": \"Imm_LC KI67+\",\n",
    "    \"11\": \"Ambiguous\",\n",
    "    \"12\": \"Ambiguous\"\n",
    "}\n",
    "mdata.obs[\"cell_type_js\"] = [new_dict[x] for x in mdata.obs.leiden]"
   ],
   "outputs": [],
   "execution_count": null
  },
  {
   "cell_type": "code",
   "metadata": {},
   "source": [
    "sc.pl.dotplot(\n",
    "    mdata,\n",
    "    {\n",
    "        \"General\": [\"ITGAM\", \"HLA-DRA\"],\n",
    "        \"LC\": [\"CD207\", \"EPCAM\", \"ITGAX\"],\n",
    "        \"Monocyte\": [\"CCR2\", \"CD14\", \"FCGR3A\", \"S100A8\", \"S100A9\", \"FCN1\", \"CX3CR1\"],\n",
    "        \"DC1\": [\"XCR1\", \"CLEC9A\"],\n",
    "        \"DC2\": [\"CLEC10A\", \"THBD\"],\n",
    "        \"DC3\": [\"CSF3R\", \"CSF2RA\"],\n",
    "        \"mRegDC\": [\"LAMP3\", \"CCR7\"],\n",
    "        \"pDC\": [\"IL3RA\", \"KIT\", \"IRF8\"],\n",
    "        \"Mac\": [\n",
    "            \"C1QA\",\n",
    "            \"FCGR1A\",\n",
    "            \"MERTK\",\n",
    "            \"TREM2\",\n",
    "            \"SIGLEC1\",\n",
    "            \"CD68\",\n",
    "            \"LYVE1\",\n",
    "            \"ARG1\",\n",
    "            \"CD163\"\n",
    "        ],\n",
    "        \"prolif\": [\"MKI67\"],\n",
    "        \"IFN\": [\"ISG15\", \"IFI27\", \"STAT1\"],\n",
    "        \"contamination\": [\"CD3D\", \"NCAM1\"],\n",
    "    },\n",
    "    standard_scale=\"var\",\n",
    "    color_map=\"Blues\",\n",
    "    groupby=\"leiden_R\",\n",
    ")"
   ],
   "outputs": [],
   "execution_count": null
  },
  {
   "metadata": {},
   "cell_type": "markdown",
   "source": [
    "Expected output:<br>\n",
    "![sample outtput](./images/heatmap_3.png)"
   ]
  },
  {
   "cell_type": "code",
   "metadata": {},
   "source": [
    "# 2  Unknown\n",
    "# 11 Contamination\n",
    "# 12 Potentially granular keratinocyte\n",
    "\n",
    "new_dict = {\n",
    "    \"0\": \"Imm_LC\",\n",
    "    \"1\": \"Imm_CX3CR1+ Mono/Mac\",\n",
    "    \"2\": \"Ambiguous\",\n",
    "    \"3,0\": \"Imm_LC\",\n",
    "    \"4\": \"Imm_CD169+ Mac\",\n",
    "    \"5\": \"Imm_TREM2+ Mac\", #\n",
    "    \"6\": \"Imm_CD14+ Mono\",\n",
    "    \"7\": \"Imm_DC1/DC2\",#\n",
    "    \"8,0\":\"Imm_CX3CR1+ Mono/Mac\",\n",
    "    \"8,1\": \"Ambiguous\",\n",
    "    \"9\": \"Imm_mRegDC\",\n",
    "    \"10\": \"Imm_LC KI67+\",\n",
    "    \"11\": \"Ambiguous\",\n",
    "    \"12\": \"Ambiguous\"\n",
    "}\n",
    "mdata.obs[\"cell_type_PP\"] = [new_dict[x] for x in mdata.obs.leiden_R]\n",
    "\n",
    "sc.pl.umap(mdata, color=[\"cell_type_PP\"])"
   ],
   "outputs": [],
   "execution_count": null
  },
  {
   "metadata": {},
   "cell_type": "markdown",
   "source": [
    "Expected output:<br>\n",
    "![sample outtput](./images/umap_7.png)"
   ]
  },
  {
   "cell_type": "code",
   "metadata": {},
   "source": "mdata.obs.to_csv(\"Imm_myeloid_annot_PP_adata_obs.txt\", sep='\\t', index=True)",
   "outputs": [],
   "execution_count": null
  },
  {
   "cell_type": "markdown",
   "metadata": {},
   "source": [
    "Verify the new cell labels by checking the gene markers"
   ]
  },
  {
   "cell_type": "code",
   "metadata": {},
   "source": [
    "sc.pl.dotplot(\n",
    "    mdata,\n",
    "    {\n",
    "        \"General\": [\"ITGAM\", \"HLA-DRA\"],\n",
    "        \"LC\": [\"CD207\", \"EPCAM\", \"ITGAX\"],\n",
    "        \"Monocyte\": [\"CCR2\", \"CD14\", \"FCGR3A\", \"S100A8\", \"S100A9\", \"FCN1\", \"CX3CR1\"],\n",
    "        \"DC1\": [\"XCR1\", \"CLEC9A\"],\n",
    "        \"DC2\": [\"CLEC10A\", \"THBD\"],\n",
    "        \"DC3\": [\"CSF3R\", \"CSF2RA\"],\n",
    "        \"mRegDC\": [\"LAMP3\", \"CCR7\"],\n",
    "        \"pDC\": [\"IL3RA\", \"KIT\", \"IRF8\"],\n",
    "        \"Mac\": [\n",
    "            \"C1QA\",\n",
    "            \"FCGR1A\",\n",
    "            \"MERTK\",\n",
    "            \"TREM2\",\n",
    "            \"SIGLEC1\",\n",
    "            \"CD68\",\n",
    "            \"LYVE1\",\n",
    "            \"ARG1\",\n",
    "            \"CD163\",\n",
    "        ],\n",
    "        \"prolif\": [\"MKI67\"],\n",
    "        \"IFN\": [\"ISG15\", \"IFI27\", \"STAT1\"],\n",
    "        \"contamination\": [\"CD3D\", \"NCAM1\"],\n",
    "    },\n",
    "    standard_scale=\"var\",\n",
    "    color_map=\"Blues\",\n",
    "    groupby=\"cell_type_PP\",\n",
    ")"
   ],
   "outputs": [],
   "execution_count": null
  },
  {
   "metadata": {},
   "cell_type": "markdown",
   "source": [
    "Expected output:<br>\n",
    "![sample outtput](./images/heatmap_5.png)"
   ]
  },
  {
   "cell_type": "markdown",
   "metadata": {},
   "source": [
    "Analysis of T cell data"
   ]
  },
  {
   "cell_type": "code",
   "metadata": {},
   "source": [
    "sc.pl.umap(\n",
    "    tdata,\n",
    "    color=[\"leiden\"],\n",
    "    legend_fontoutline=2,\n",
    "    legend_loc=\"on data\",\n",
    ")"
   ],
   "outputs": [],
   "execution_count": null
  },
  {
   "metadata": {},
   "cell_type": "markdown",
   "source": [
    "Expected output:<br>\n",
    "![sample outtput](./images/umap_8.png)"
   ]
  },
  {
   "cell_type": "markdown",
   "metadata": {},
   "source": [
    "Split clusters 9 and 3 due to apparent subdivisions"
   ]
  },
  {
   "cell_type": "code",
   "metadata": {},
   "source": [
    "#sc.tl.leiden(tdata, key_added=\"leiden_R\", restrict_to=(\"leiden\", [\"3\",\"9\",\"2\"]), resolution=0.5)\n",
    "\n",
    "sc.tl.leiden(tdata, resolution=0.15, restrict_to=(\"leiden\", [\"3\"]))\n",
    "sc.tl.leiden(tdata, resolution=0.3, restrict_to=(\"leiden_R\", [\"9\"]))\n",
    "sc.tl.leiden(tdata, resolution=0.3, restrict_to=(\"leiden_R\", [\"2\"]))\n",
    "sc.tl.leiden(tdata, resolution=0.2, restrict_to=(\"leiden_R\", [\"12\"]))\n",
    "sc.pl.umap(tdata, color=\"leiden_R\", legend_loc=\"on data\", legend_fontoutline=2)"
   ],
   "outputs": [],
   "execution_count": null
  },
  {
   "metadata": {},
   "cell_type": "markdown",
   "source": [
    "Expected output:<br>\n",
    "![sample outtput](./images/umap_9.png)"
   ]
  },
  {
   "cell_type": "code",
   "metadata": {},
   "source": [
    "sc.pl.umap(tdata, \n",
    "    color=[\n",
    "        \"leiden_R\", \"CD3E\", \"CD3D\",\n",
    "        \"CD4\",\"CD8A\", \"CD8B\",\n",
    "        \"CCR7\", \"SELL\", \"CD44\",\n",
    "        \"CD27\", \"NKG7\"\n",
    "\n",
    "    ],\n",
    "    legend_fontoutline=2,\n",
    "    legend_loc=\"on data\",\n",
    ")"
   ],
   "outputs": [],
   "execution_count": null
  },
  {
   "metadata": {},
   "cell_type": "markdown",
   "source": [
    "Expected output:<br>\n",
    "![sample outtput](./images/umap_10.png)"
   ]
  },
  {
   "cell_type": "code",
   "metadata": {},
   "source": [
    "sc.tl.rank_genes_groups(tdata, groupby=\"leiden_R\")\n",
    "sc.pl.rank_genes_groups_dotplot(\n",
    "    tdata,\n",
    "    standard_scale=\"var\",\n",
    "    color_map=\"viridis\",\n",
    "    n_genes=5,\n",
    "    min_logfoldchange=1,\n",
    "    dendrogram=False,\n",
    ")"
   ],
   "outputs": [],
   "execution_count": null
  },
  {
   "metadata": {},
   "cell_type": "markdown",
   "source": [
    "Expected output:<br>\n",
    "![sample outtput](./images/heatmap_6.png)"
   ]
  },
  {
   "cell_type": "code",
   "metadata": {},
   "source": [
    "sc.pl.dotplot(\n",
    "    tdata,\n",
    "    {\n",
    "        \"T cell\": [\n",
    "            \"CD3D\",\n",
    "            \"CD3E\",\n",
    "            \"CD4\",\n",
    "            \"CD8B\",\n",
    "            \"CD8A\",\n",
    "            \"CCR7\",\n",
    "            \"SELL\",\n",
    "            \"CD44\",\n",
    "            \"CD27\",\n",
    "        ],\n",
    "        \"Trm\": [\"CD69\", \"ITGAE\", \"CRTAM\", \"S1PR1\"],\n",
    "        \"Treg\": [\"FOXP3\", \"PDCD1\", \"CTLA4\", \"IL2RA\"],\n",
    "        \"NK\": [\"NCAM1\", \"NCR1\", \"IFNG\", \"GZMB\",\"GNLY\", \"XCL2\"],\n",
    "        \"ILC\": [\"IL7R\", \"XCL1\", \"RORC\"],\n",
    "        \"prolif\": [\"MKI67\"],\n",
    "        \"IFN\": [\"ISG15\", \"IFI27\", \"STAT1\"],\n",
    "        \"Contamination\": [\"ITGAM\", \"S100A8\"],\n",
    "        \"Endothelial\": [\"CLDN5\", \"PLVAP\", \"SPARCL1\"],\n",
    "        \"Fibroblast\": [\"PDGFRA\", \"PDGFRB\", \"COL1A1\", \"COL1A2\", \"DCN\"]\n",
    "    },\n",
    "    standard_scale=\"var\",\n",
    "    color_map=\"Blues\",\n",
    "    groupby=\"leiden_R\",\n",
    ")"
   ],
   "outputs": [],
   "execution_count": null
  },
  {
   "metadata": {},
   "cell_type": "markdown",
   "source": [
    "Expected output:<br>\n",
    "![sample outtput](./images/heatmap_7.png)"
   ]
  },
  {
   "cell_type": "code",
   "metadata": {},
   "source": "sc.pl.umap(tdata, color=\"leiden_R\", legend_loc=\"on data\", legend_fontoutline=2)",
   "outputs": [],
   "execution_count": null
  },
  {
   "metadata": {},
   "cell_type": "markdown",
   "source": [
    "Expected output:<br>\n",
    "![sample outtput](./images/umap_11.png)"
   ]
  },
  {
   "cell_type": "code",
   "metadata": {},
   "source": [
    "# 6,7 Keratinocyte?\n",
    "# 11 Fibroblast\n",
    "\n",
    "new_dict = {\n",
    "    \"0\": \"Imm_CD4Tcm\",\n",
    "    \"1\": \"Imm_CD8Tem\",\n",
    "    \"2,0\": \"Imm_CD4Tcm\",\n",
    "    \"2,1\":\"Ambiguous\",\n",
    "    \"3,0\": \"Imm_Treg\",\n",
    "    \"3,1\": \"Imm_PD-1+CTLA4+ CD4Tcm\",\n",
    "    \"4\":\"Imm_CD8Tem\",\n",
    "    \"7\":\"Imm_CD4Tcm\",\n",
    "    \"8\": \"Ambiguous\",\n",
    "    \"9,0\":\"Imm_PD-1+ CD8Tem\",\n",
    "    \"9,1\":\"Imm_CD8Trm\",\n",
    "    \"12,0\": \"Imm_CD8Trm\",\n",
    "    \"12,1\": \"Imm_NK\",\n",
    "    \"18\": \"Ambiguous\",\n",
    "}\n",
    "tdata.obs[\"cell_type_PP\"] = [new_dict[x] for x in tdata.obs.leiden_R]\n",
    "\n",
    "sc.pl.umap(\n",
    "    tdata,\n",
    "    color=[\"cell_type_PP\"],\n",
    ")"
   ],
   "outputs": [],
   "execution_count": null
  },
  {
   "metadata": {},
   "cell_type": "markdown",
   "source": [
    "Expected output:<br>\n",
    "![sample outtput](./images/umap_12.png)"
   ]
  },
  {
   "cell_type": "code",
   "metadata": {},
   "source": "tdata.obs.to_csv(\"Imm_Tcell_annot_PP_adata_obs.txt\", sep='\\t', index=True)",
   "outputs": [],
   "execution_count": null
  },
  {
   "cell_type": "markdown",
   "metadata": {},
   "source": [
    "Verify labels with gene markers"
   ]
  },
  {
   "cell_type": "code",
   "metadata": {},
   "source": [
    "sc.pl.dotplot(\n",
    "    tdata,\n",
    "    {\n",
    "        \"T cell\": [\n",
    "            \"CD3D\",\n",
    "            \"CD3E\",\n",
    "            \"CD4\",\n",
    "            \"CD8B\",\n",
    "            \"CD8A\",\n",
    "            \"CCR7\",\n",
    "            \"SELL\",\n",
    "            \"CD44\",\n",
    "            \"CD27\",\n",
    "        ],\n",
    "        \"Trm\": [\"CD69\", \"ITGAE\", \"CRTAM\", \"S1PR1\"],\n",
    "        \"Treg\": [\"FOXP3\", \"PDCD1\", \"CTLA4\", \"IL2RA\"],\n",
    "        \"NK\": [\"NCAM1\", \"NCR1\", \"IFNG\", \"GZMB\"],\n",
    "        \"ILC\": [\"IL7R\", \"XCL1\", \"RORC\"],\n",
    "        \"prolif\": [\"MKI67\"],\n",
    "        \"IFN\": [\"ISG15\", \"IFI27\", \"STAT1\"],\n",
    "        \"Contamination\": [\"ITGAM\", \"S100A8\"],\n",
    "    },\n",
    "    standard_scale=\"var\",\n",
    "    color_map=\"Blues\",\n",
    "    groupby=\"cell_type_PP\",\n",
    ")"
   ],
   "outputs": [],
   "execution_count": null
  },
  {
   "metadata": {},
   "cell_type": "markdown",
   "source": [
    "Expected output:<br>\n",
    "![sample outtput](./images/heatmap_8.png)"
   ]
  },
  {
   "cell_type": "markdown",
   "metadata": {},
   "source": [
    "Remove ambiguous and recluster"
   ]
  },
  {
   "cell_type": "code",
   "metadata": {},
   "source": [
    "mdata2 = mdata.copy()\n",
    "mdata = mdata[mdata.obs[\"cell_type_PP\"] != \"Ambiguous\"]\n",
    "mdata = mdata.raw.to_adata()\n",
    "vdj_pattern = \"^TR[AB][VDJ]|^IG[HKL][VDJC]\"\n",
    "sc.pp.highly_variable_genes(mdata, min_mean=0.0125, max_mean=3, min_disp=0.5)\n",
    "for i in mdata.var.index:\n",
    "    if vdj_pattern is not None:\n",
    "        if re.search(vdj_pattern, i):\n",
    "            mdata.var.at[i, \"highly_variable\"] = False\n",
    "mdata.raw = mdata\n",
    "mdata = mdata[:, mdata.var[\"highly_variable\"]].copy()\n",
    "sc.pp.scale(mdata, max_value=10)\n",
    "sc.tl.pca(mdata, svd_solver=\"arpack\")\n",
    "sc.pp.neighbors(mdata, n_neighbors=10, n_pcs=50)\n",
    "sc.tl.leiden(mdata)\n",
    "sc.tl.umap(mdata, min_dist=0.3)"
   ],
   "outputs": [],
   "execution_count": null
  },
  {
   "cell_type": "code",
   "metadata": {},
   "source": [
    "tdata2 = tdata.copy()\n",
    "tdata = tdata[tdata.obs[\"cell_type_PP\"] != \"Ambiguous\"]\n",
    "tdata = tdata.raw.to_adata()\n",
    "vdj_pattern = \"^TR[AB][VDJ]|^IG[HKL][VDJC]\"\n",
    "sc.pp.highly_variable_genes(tdata, min_mean=0.0125, max_mean=3, min_disp=0.5)\n",
    "for i in tdata.var.index:\n",
    "    if vdj_pattern is not None:\n",
    "        if re.search(vdj_pattern, i):\n",
    "            tdata.var.at[i, \"highly_variable\"] = False\n",
    "tdata.raw = tdata\n",
    "tdata = tdata[:, tdata.var[\"highly_variable\"]].copy()\n",
    "sc.pp.scale(tdata, max_value=10)\n",
    "sc.tl.pca(tdata, svd_solver=\"arpack\")\n",
    "sc.pp.neighbors(tdata, n_neighbors=10, n_pcs=50)\n",
    "sc.tl.leiden(tdata)\n",
    "sc.tl.umap(tdata, min_dist=0.3)"
   ],
   "outputs": [],
   "execution_count": null
  },
  {
   "cell_type": "code",
   "metadata": {},
   "source": [
    "sc.pl.umap(\n",
    "    mdata,\n",
    "    color=[\"cell_type_PP\", \"leiden\"],\n",
    "    legend_fontoutline=2,\n",
    "    legend_loc=\"on data\",\n",
    ")"
   ],
   "outputs": [],
   "execution_count": null
  },
  {
   "metadata": {},
   "cell_type": "markdown",
   "source": [
    "Expected output:<br>\n",
    "![sample outtput](./images/umap_13.png)"
   ]
  },
  {
   "cell_type": "code",
   "metadata": {},
   "source": [
    "sc.tl.rank_genes_groups(mdata, groupby=\"leiden\", method=\"wilcoxon\")"
   ],
   "outputs": [],
   "execution_count": null
  },
  {
   "cell_type": "code",
   "metadata": {},
   "source": [
    "sc.pl.rank_genes_groups_dotplot(\n",
    "    mdata,\n",
    "    standard_scale=\"var\",\n",
    "    color_map=\"viridis\",\n",
    "    n_genes=10,\n",
    "    min_logfoldchange=1,\n",
    "    dendrogram=False,\n",
    ")"
   ],
   "outputs": [],
   "execution_count": null
  },
  {
   "metadata": {},
   "cell_type": "markdown",
   "source": [
    "Expected output:<br>\n",
    "![sample outtput](./images/heatmap_9.png)"
   ]
  },
  {
   "cell_type": "code",
   "metadata": {},
   "source": [
    "sc.pl.violin(mdata, [\"n_genes_by_counts\", \"total_counts\"], groupby=\"leiden\")"
   ],
   "outputs": [],
   "execution_count": null
  },
  {
   "metadata": {},
   "cell_type": "markdown",
   "source": [
    "Expected output:<br>\n",
    "![sample outtput](./images/violin_1.png)"
   ]
  },
  {
   "cell_type": "code",
   "metadata": {},
   "source": [
    "sc.pl.dotplot(\n",
    "    mdata,\n",
    "    {\n",
    "        \"General\": [\"ITGAM\", \"HLA-DRA\"],\n",
    "        \"LC\": [\"CD207\", \"EPCAM\", \"ITGAX\"],\n",
    "        \"Monocyte\": [\"CCR2\", \"CD14\", \"FCGR3A\", \"S100A8\", \"S100A9\", \"FCN1\", \"CX3CR1\"],\n",
    "        \"DC1\": [\"XCR1\", \"CLEC9A\"],\n",
    "        \"DC2\": [\"CLEC10A\", \"THBD\"],\n",
    "        \"DC3\": [\"CSF3R\", \"CSF2RA\"],\n",
    "        \"mRegDC\": [\"LAMP3\", \"CCR7\"],\n",
    "        \"pDC\": [\"IL3RA\", \"KIT\", \"IRF8\"],\n",
    "        \"Mac\": [\n",
    "            \"C1QA\",\n",
    "            \"FCGR1A\",\n",
    "            \"MERTK\",\n",
    "            \"TREM2\",\n",
    "            \"SIGLEC1\",\n",
    "            \"CD68\",\n",
    "            \"LYVE1\",\n",
    "            \"ARG1\",\n",
    "            \"CD163\",\n",
    "        ],\n",
    "        \"prolif\": [\"MKI67\"],\n",
    "        \"IFN\": [\"ISG15\", \"IFI27\", \"STAT1\"],\n",
    "        \"contamination\": [\"CD3D\", \"NCAM1\"],\n",
    "    },\n",
    "    standard_scale=\"var\",\n",
    "    color_map=\"Blues\",\n",
    "    groupby=\"leiden\",\n",
    ")"
   ],
   "outputs": [],
   "execution_count": null
  },
  {
   "metadata": {},
   "cell_type": "markdown",
   "source": [
    "Expected output:<br>\n",
    "![sample outtput](./images/heatmap_10.png)"
   ]
  },
  {
   "cell_type": "code",
   "metadata": {},
   "source": [
    "new_dict = {\n",
    "    \"0\": \"Imm_LC\",\n",
    "    \"1\": \"Imm_CX3CR1+ Mono/Mac\",\n",
    "    \"2\": \"Imm_LC\",\n",
    "    \"3\": \"Imm_CX3CR1+ Mono/Mac\",\n",
    "    \"4\": \"Imm_CD169+ Mac\",\n",
    "    \"5\": \"Imm_mRegDC\",\n",
    "    \"6\": \"Imm_TREM2+ Mac\",\n",
    "    \"7\": \"Imm_CD14+ Mono\",\n",
    "    \"9\": \"Imm_DC1/DC2\",\n",
    "    \"10\": \"Imm_IFN+ Mac\",\n",
    "    \"8\": \"Imm_LC KI67+\",\n",
    "}\n",
    "mdata.obs[\"cell_type_PP2\"] = [new_dict[x] for x in mdata.obs.leiden]"
   ],
   "outputs": [],
   "execution_count": null
  },
  {
   "cell_type": "code",
   "metadata": {},
   "source": [
    "sc.pl.umap(\n",
    "    mdata,\n",
    "    color=[\"cell_type_PP\", \"cell_type_PP2\"],\n",
    "    legend_loc=\"on data\",\n",
    ")"
   ],
   "outputs": [],
   "execution_count": null
  },
  {
   "metadata": {},
   "cell_type": "markdown",
   "source": [
    "Expected output:<br>\n",
    "![sample outtput](./images/umap_14.png)"
   ]
  },
  {
   "cell_type": "code",
   "metadata": {},
   "source": [
    "sc.pl.umap(\n",
    "    tdata,\n",
    "    color=[\"cell_type_PP\", \"leiden\"],\n",
    "    legend_fontoutline=2,\n",
    "    legend_loc=\"on data\",\n",
    ")"
   ],
   "outputs": [],
   "execution_count": null
  },
  {
   "metadata": {},
   "cell_type": "markdown",
   "source": [
    "Expected output:<br>\n",
    "![sample outtput](./images/umap_15.png)"
   ]
  },
  {
   "cell_type": "code",
   "metadata": {},
   "source": [
    "sc.tl.leiden(tdata, key_added=\"leiden_R\", restrict_to=(\"leiden\", [\"5\"]), resolution=0.2)\n",
    "sc.pl.umap(\n",
    "    tdata,\n",
    "    color=\"leiden_R\",\n",
    "    legend_fontoutline=2,\n",
    "    legend_loc=\"on data\",\n",
    ")"
   ],
   "outputs": [],
   "execution_count": null
  },
  {
   "metadata": {},
   "cell_type": "markdown",
   "source": [
    "Expected output:<br>\n",
    "![sample outtput](./images/umap_16.png)"
   ]
  },
  {
   "cell_type": "code",
   "metadata": {},
   "source": [
    "sc.tl.rank_genes_groups(tdata, groupby=\"leiden_R\")\n",
    "sc.pl.rank_genes_groups_dotplot(\n",
    "    tdata,\n",
    "    standard_scale=\"var\",\n",
    "    color_map=\"viridis\",\n",
    "    n_genes=5,\n",
    "    min_logfoldchange=1,\n",
    "    dendrogram=False,\n",
    ")"
   ],
   "outputs": [],
   "execution_count": null
  },
  {
   "metadata": {},
   "cell_type": "markdown",
   "source": [
    "Expected output:<br>\n",
    "![sample outtput](./images/heatmap_11.png)"
   ]
  },
  {
   "cell_type": "code",
   "metadata": {},
   "source": [
    "sc.pl.violin(tdata, [\"n_genes_by_counts\", \"total_counts\"], groupby=\"leiden_R\")"
   ],
   "outputs": [],
   "execution_count": null
  },
  {
   "metadata": {},
   "cell_type": "markdown",
   "source": [
    "Expected output:<br>\n",
    "![sample outtput](./images/violin_2.png)"
   ]
  },
  {
   "cell_type": "code",
   "metadata": {},
   "source": [
    "sc.pl.dotplot(\n",
    "    tdata,\n",
    "    {\n",
    "        \"T cell\": [\n",
    "            \"CD3D\",\n",
    "            \"CD3E\",\n",
    "            \"CD4\",\n",
    "            \"CD8B\",\n",
    "            \"CD8A\",\n",
    "            \"CCR7\",\n",
    "            \"SELL\",\n",
    "            \"CD44\",\n",
    "            \"CD27\",\n",
    "        ],\n",
    "        \"Trm\": [\"CD69\", \"ITGAE\", \"CRTAM\", \"S1PR1\"],\n",
    "        \"Treg\": [\"FOXP3\", \"PDCD1\", \"CTLA4\", \"IL2RA\"],\n",
    "        \"NK\": [\"NCAM1\", \"NCR1\", \"IFNG\", \"GZMB\",\"GNLY\", \"XCL2\", \"FCGR3A\", \"NKG7\", \"CD160\"],\n",
    "        \"ILC\": [\"IL7R\", \"XCL1\", \"RORC\"],\n",
    "        \"prolif\": [\"MKI67\", \"TOP2A\"],\n",
    "        \"IFN\": [\"ISG15\", \"IFI27\", \"STAT1\"],\n",
    "        \"Contamination\": [\"ITGAM\", \"S100A8\"],\n",
    "    },\n",
    "    standard_scale=\"var\",\n",
    "    color_map=\"Blues\",\n",
    "    groupby=\"leiden_R\",\n",
    ")"
   ],
   "outputs": [],
   "execution_count": null
  },
  {
   "metadata": {},
   "cell_type": "markdown",
   "source": [
    "Expected output:<br>\n",
    "![sample outtput](./images/heatmap_12.png)"
   ]
  },
  {
   "cell_type": "code",
   "metadata": {},
   "source": [
    "new_dict = {\n",
    "    \"0\": \"Imm_CD4Tcm\",\n",
    "    \"1\": \"Imm_CD4Tcm\",\n",
    "    \"2\": \"Imm_CD8Tem\",\n",
    "    \"3\": \"Imm_CD8Tem\",\n",
    "    \"4\": \"Imm_Treg\",\n",
    "    \"5,0\": \"Imm_CD16- NK\",\n",
    "    \"5,1\": \"Imm_NKT\",\n",
    "    \"5,2\": \"Imm_CD16+ NK\",\n",
    "    \"6\": \"Imm_PD-1+ CD8Tem\",\n",
    "    \"8\": \"Imm_PD-1+CTLA4+ CD8Tcm\",\n",
    "    \"7\": \"Imm_CD8Tem\"\n",
    "}\n",
    "tdata.obs[\"cell_type_PP2\"] = [new_dict[x] for x in tdata.obs.leiden_R]\n",
    "\n",
    "sc.pl.umap(\n",
    "    tdata,\n",
    "    color=[\"cell_type_PP\", \"cell_type_PP2\"],\n",
    ")"
   ],
   "outputs": [],
   "execution_count": null
  },
  {
   "metadata": {},
   "cell_type": "markdown",
   "source": [
    "Expected output:<br>\n",
    "![sample outtput](./images/umap_17.png)"
   ]
  },
  {
   "cell_type": "code",
   "metadata": {},
   "source": [
    "sc.pl.umap(\n",
    "    tdata,\n",
    "    color=[\"FCGR3A\",\"PDCD1\",\"CTLA4\"],color_map=\"Reds\") #CD16, PD-1,"
   ],
   "outputs": [],
   "execution_count": null
  },
  {
   "metadata": {},
   "cell_type": "markdown",
   "source": [
    "Expected output:<br>\n",
    "![sample outtput](./images/umap_18.png)"
   ]
  },
  {
   "cell_type": "code",
   "metadata": {},
   "source": [
    "# Possible that a subset of PD-1+ Tem cells are Trm cells\n",
    "\n",
    "sc.pl.dotplot(\n",
    "    tdata,\n",
    "    {\n",
    "        \"T cell\": [\n",
    "            \"CD3D\",\n",
    "            \"CD3E\",\n",
    "            \"CD4\",\n",
    "            \"CD8B\",\n",
    "            \"CD8A\",\n",
    "            \"CCR7\",\n",
    "            \"SELL\",\n",
    "            \"CD44\",\n",
    "            \"CD27\",\n",
    "        ],\n",
    "        \"Trm\": [\"CD69\", \"ITGAE\", \"CRTAM\", \"S1PR1\"],\n",
    "        \"Treg\": [\"FOXP3\", \"PDCD1\", \"CTLA4\", \"IL2RA\"],\n",
    "        \"NK\": [\"NCAM1\", \"NCR1\", \"IFNG\", \"GZMB\"],\n",
    "        \"ILC\": [\"IL7R\", \"XCL1\", \"RORC\"],\n",
    "        \"prolif\": [\"MKI67\"],\n",
    "        \"IFN\": [\"ISG15\", \"IFI27\", \"STAT1\"],\n",
    "        \"Contamination\": [\"ITGAM\", \"S100A8\"],\n",
    "    },\n",
    "    standard_scale=\"var\",\n",
    "    color_map=\"Blues\",\n",
    "    groupby=\"cell_type_PP2\",\n",
    ")"
   ],
   "outputs": [],
   "execution_count": null
  },
  {
   "cell_type": "markdown",
   "metadata": {},
   "source": [
    "Apply the labels to the original adata"
   ]
  },
  {
   "cell_type": "code",
   "metadata": {},
   "source": [
    "adata.obs[\"cell_type_PP\"] = adata.obs[\"Level1_unnamed\"]\n",
    "adata.obs[\"cell_type_PP\"] = adata.obs[\"cell_type_PP\"].astype(str)\n",
    "adata.obs[\"cell_type_PP\"].update(idata.obs[\"cell_type_PP\"])\n",
    "adata.obs[\"cell_type_PP\"].update(mdata2.obs[\"cell_type_PP\"])\n",
    "adata.obs[\"cell_type_PP\"].update(tdata2.obs[\"cell_type_PP\"])\n",
    "adata.obs[\"cell_type_PP\"].update(mdata.obs[\"cell_type_PP2\"])\n",
    "adata.obs[\"cell_type_PP\"].update(tdata.obs[\"cell_type_PP2\"])"
   ],
   "outputs": [],
   "execution_count": null
  },
  {
   "cell_type": "code",
   "metadata": {},
   "source": [
    "sc.pl.umap(adata, color=[\"Level1_unnamed\", \"cell_type_PP\"], ncols=1)"
   ],
   "outputs": [],
   "execution_count": null
  },
  {
   "metadata": {},
   "cell_type": "markdown",
   "source": [
    "Expected output:<br>\n",
    "![sample outtput](./images/umap_19.png)"
   ]
  },
  {
   "cell_type": "code",
   "metadata": {},
   "source": [
    "adata.write_h5ad(\"allintegratedClustered_Seurat_PP.h5ad\")"
   ],
   "outputs": [],
   "execution_count": null
  },
  {
   "cell_type": "code",
   "metadata": {},
   "source": [
    "df = pd.DataFrame(adata.obs[\"cell_type_js\"])\n",
    "df"
   ],
   "outputs": [],
   "execution_count": null
  },
  {
   "cell_type": "code",
   "metadata": {},
   "source": [
    "df.to_csv(\"data/allintegratedClustered_w_JS_imm_labels.csv\")"
   ],
   "outputs": [],
   "execution_count": null
  },
  {
   "cell_type": "code",
   "metadata": {},
   "source": [
    "idata.write_h5ad(\"idata_Immune_PP.h5ad\")\n",
    "tdata.write_h5ad(\"tdata_Tcells_PP.h5ad\")\n",
    "mdata.write_h5ad(\"mdata_myeloid_PP.h5ad\")"
   ],
   "outputs": [],
   "execution_count": null
  }
 ],
 "metadata": {
  "kernelspec": {
   "display_name": "Python_base",
   "language": "python",
   "name": "python_base"
  },
  "language_info": {
   "codemirror_mode": {
    "name": "ipython",
    "version": 3
   },
   "file_extension": ".py",
   "mimetype": "text/x-python",
   "name": "python",
   "nbconvert_exporter": "python",
   "pygments_lexer": "ipython3",
   "version": "3.8.13"
  }
 },
 "nbformat": 4,
 "nbformat_minor": 4
}
