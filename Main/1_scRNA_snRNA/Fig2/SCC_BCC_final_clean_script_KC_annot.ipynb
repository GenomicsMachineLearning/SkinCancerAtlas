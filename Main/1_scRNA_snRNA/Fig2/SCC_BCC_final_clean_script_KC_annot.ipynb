{
 "cells": [
  {
   "cell_type": "code",
   "metadata": {},
   "source": [
    "import scanpy as sc\n",
    "import pandas as pd\n",
    "import numpy as np\n",
    "import os\n",
    "import warnings\n",
    "import anndata\n",
    "import numpy as np\n",
    "import scanpy as sc\n",
    "import matplotlib.pyplot as plt\n",
    "\n",
    "\n",
    "# Suppress all future warnings\n",
    "warnings.simplefilter(action=\"ignore\", category=FutureWarning)\n",
    "\n",
    "sc.logging.print_header()"
   ],
   "outputs": [],
   "execution_count": null
  },
  {
   "cell_type": "markdown",
   "metadata": {},
   "source": [
    "# Steps\n",
    "- [KC subcluster annotations](#section1)\n",
    "- [KC final figs](#section2)\n",
    "- [Prep for label transfer whole obj](#section3)\n",
    "- [Whole object Paper figures](#section4)\n",
    "- [Splitting SCC/BCC](#section5)\n",
    "- [Immune sanity check final](#section6)\n",
    "- [KC Cancer](#section8)"
   ]
  },
  {
   "cell_type": "markdown",
   "metadata": {},
   "source": [
    "print(\"Previous working directory: \" + os.getcwd())\n",
    "if 'notebooks' in os.getcwd():\n",
    "    os.chdir(\"..\")\n",
    "print(\"Current working directory: \" + os.getcwd())"
   ]
  },
  {
   "cell_type": "code",
   "metadata": {},
   "source": [
    "adata = sc.read_h5ad(\"SCC_KCreanalysis_RNA_PP_sep2024.h5ad\") #Prakrithi\n",
    "adata"
   ],
   "outputs": [],
   "execution_count": null
  },
  {
   "cell_type": "code",
   "metadata": {},
   "source": [
    "dense_matrix = adata.X.todense()\n",
    "print(dense_matrix)\n"
   ],
   "outputs": [],
   "execution_count": null
  },
  {
   "cell_type": "code",
   "metadata": {},
   "source": [
    "scc = sc.read_h5ad('/QRISdata/Q2051/SCC_Paper/resources/data/SCC_final_object_Nov4.h5ad')\n"
   ],
   "outputs": [],
   "execution_count": null
  },
  {
   "cell_type": "code",
   "metadata": {
    "scrolled": true
   },
   "source": [
    "print(scc.X[:30, :30].todense())\n"
   ],
   "outputs": [],
   "execution_count": null
  },
  {
   "cell_type": "code",
   "metadata": {},
   "source": [
    "adata.X[:15, :5].toarray()  # View the first 5 rows and 5 columns\n",
    "#adata.var"
   ],
   "outputs": [],
   "execution_count": null
  },
  {
   "cell_type": "code",
   "metadata": {},
   "source": [
    "adata.obs.index"
   ],
   "outputs": [],
   "execution_count": null
  },
  {
   "cell_type": "code",
   "metadata": {},
   "source": [
    "import numpy as np\n",
    "\n",
    "# Assuming `adata.obsm['UMAP']` is a DataFrame with 'umap_1' and 'umap_2' columns\n",
    "umap_df = adata.obsm['UMAP']\n",
    "\n",
    "# Convert DataFrame to NumPy array\n",
    "umap_array = umap_df[['umap_1', 'umap_2']].to_numpy()\n",
    "\n",
    "# Assign the array to adata.obsm['X_umap']\n",
    "adata.obsm['X_umap'] = umap_array\n",
    "\n",
    "# Check the result\n",
    "adata.obsm['X_umap']"
   ],
   "outputs": [],
   "execution_count": null
  },
  {
   "cell_type": "code",
   "metadata": {},
   "source": [
    "sc.pl.umap(adata, color=[\"ident\",\"Level1_unnamed\"])"
   ],
   "outputs": [],
   "execution_count": null
  },
  {
   "cell_type": "code",
   "metadata": {},
   "source": [
    "sc.pl.umap(adata, color=[\"Level2_unnamed\"])"
   ],
   "outputs": [],
   "execution_count": null
  },
  {
   "cell_type": "code",
   "metadata": {},
   "source": [
    "adata.obs"
   ],
   "outputs": [],
   "execution_count": null
  },
  {
   "cell_type": "markdown",
   "metadata": {},
   "source": [
    "# <a id='section1'></a> KC subcluster annotations"
   ]
  },
  {
   "cell_type": "code",
   "metadata": {},
   "source": [
    "idata = adata[adata.obs[\"Level1_unnamed\"] == 'KC']\n",
    "idata"
   ],
   "outputs": [],
   "execution_count": null
  },
  {
   "cell_type": "code",
   "metadata": {},
   "source": [
    "idata.var[\"mt\"] = idata.var_names.str.startswith(\"MT-\")\n",
    "sc.pp.calculate_qc_metrics(\n",
    "    idata, qc_vars=[\"mt\"], percent_top=None, log1p=False, inplace=True\n",
    ")\n",
    "sc.pp.normalize_total(idata, target_sum=1e4)\n",
    "sc.pp.log1p(idata)\n",
    "sc.pp.highly_variable_genes(idata, min_mean=0.0125, max_mean=3, min_disp=0.5)"
   ],
   "outputs": [],
   "execution_count": null
  },
  {
   "cell_type": "code",
   "metadata": {},
   "source": [
    "idata.raw = idata\n",
    "idata = idata[:, idata.var[\"highly_variable\"]].copy()"
   ],
   "outputs": [],
   "execution_count": null
  },
  {
   "cell_type": "code",
   "metadata": {},
   "source": [
    "sc.pp.scale(idata, max_value=10)\n",
    "sc.tl.pca(idata, svd_solver=\"arpack\")\n",
    "sc.external.pp.harmony_integrate(idata, \"sample_ID_corrected\")\n",
    "\n",
    "sc.pp.neighbors(idata, n_neighbors=10, n_pcs=50, use_rep=\"X_pca_harmony\")\n",
    "sc.tl.leiden(idata)\n",
    "sc.tl.umap(idata, min_dist=0.3, random_state=0)\n",
    "sc.pl.umap(idata, color=[\"leiden\"])"
   ],
   "outputs": [],
   "execution_count": null
  },
  {
   "cell_type": "code",
   "metadata": {},
   "source": [
    "# Not as useful compared to the umap gene expression graphs\n",
    "\n",
    "sc.pl.dotplot(\n",
    "    idata,\n",
    "    {\n",
    "        \"KC Basal\": [\"KRT15\", \"KRT5\", \"KRT14\", \"CTNNB1\", \"C1orf56\"],\n",
    "        \"KC Differentiating\": [\"KRT1\", \"KRT10\"],\n",
    "        \"KC Cornified\": [\"LOR\", \"IVL\"],\n",
    "        \"KC Granular\": [\"KRT2\", \"FLG\"],\n",
    "        \"KC stem/hair/stress\": [\"KRT16\", \"KRT17\", \"KRT6A\"],\n",
    "        \"KC nail/nail\": [\"KRT6B\", \"KRT79\"],\n",
    "        \"sebocytes\": ['FASN', 'PPARG', 'MUC1'], \n",
    "        \"adipocytes\": ['FABP4', 'RBP4'],\n",
    "        \"eccrine gland cells\": ['KRT7', 'AQP5'],\"IFN\": [\"ISG15\", \"IFI27\", \"STAT1\"],\n",
    "        \"cancer\":['TP63','HEY1']\n",
    "    },\n",
    "    standard_scale=\"var\",\n",
    "    color_map=\"Blues\",\n",
    "    groupby=\"leiden\",\n",
    ")"
   ],
   "outputs": [],
   "execution_count": null
  },
  {
   "cell_type": "code",
   "metadata": {},
   "source": [
    "new_cell_dict = {\n",
    "    \"1\": \"KC Basal\",\n",
    "    \"0\": \"KC Differentiating\",\n",
    "    \"3\": \"KC Differentiating\",\n",
    "    \"2\": \"KC Basal\",\n",
    "    \"7\": \"KC Differentiating\",\n",
    "    \"5\": \"KC Hair\",\n",
    "    \"6\": \"KC Hair\",\n",
    "    \"4\": \"KC Cornified\",\n",
    "    \"8\": \"KC Hair\",\n",
    "    \"9\": \"KC Differentiating\",\n",
    "    \"10\": \"KC Hair\",\n",
    "    \"11\": \"KC Basal\",\n",
    "    \"12\": \"NA\",\n",
    "    \"13\": \"NA\",\n",
    "    \"14\": \"KC IFN\",\n",
    "    \"15\": \"NA\",\n",
    "    \"16\": \"NA\",\n",
    "    \"17\": \"NA\",\n",
    "    \"18\": \"KC Hair\"\n",
    "}\n",
    "idata.obs[\"cell_type_PP\"] = [new_cell_dict[x] for x in idata.obs[\"leiden\"]]\n",
    "sc.pl.umap(idata, color=[\"cell_type_PP\"])"
   ],
   "outputs": [],
   "execution_count": null
  },
  {
   "cell_type": "code",
   "metadata": {},
   "source": [],
   "outputs": [],
   "execution_count": null
  },
  {
   "cell_type": "code",
   "metadata": {},
   "source": [
    "sc.tl.leiden(idata, resolution=0.2, restrict_to=(\"leiden\", [\"10\"]))\n",
    "sc.tl.leiden(idata, resolution=0.2, restrict_to=(\"leiden_R\", [\"11\"]))\n",
    "\n",
    "#sc.tl.leiden(idata, resolution=0.2, restrict_to=(\"leiden_R\", [\"4\"]))\n",
    "#sc.tl.leiden(idata, resolution=0.2, restrict_to=(\"leiden_R\", [\"6\"]))\n",
    "sc.pl.umap(idata, color=\"leiden_R\", legend_loc=\"on data\", legend_fontoutline=2)"
   ],
   "outputs": [],
   "execution_count": null
  },
  {
   "cell_type": "code",
   "metadata": {},
   "source": [
    "# Not as useful compared to the umap gene expression graphs\n",
    "\n",
    "sc.pl.dotplot(\n",
    "    idata,\n",
    "    {\n",
    "        \"KC Basal\": [\"KRT15\", \"KRT5\", \"KRT14\", \"CTNNB1\", \"C1orf56\"],\n",
    "        \"KC Differentiating\": [\"KRT1\", \"KRT10\"],\n",
    "        \"KC Cornified\": [\"LOR\", \"IVL\"],\n",
    "        \"KC Granular\": [\"KRT2\", \"FLG\"],\n",
    "        \"KC stem/hair/stress\": [\"KRT16\", \"KRT17\", \"KRT6A\"],\n",
    "        \"KC nail/nail\": [\"KRT6B\", \"KRT79\"],\n",
    "        \"sebocytes\": ['FASN', 'PPARG', 'MUC1'], \n",
    "        \"adipocytes\": ['FABP4', 'RBP4'],\n",
    "        \"eccrine gland cells\": ['KRT7', 'AQP5'],\"IFN\": [\"ISG15\", \"IFI27\", \"STAT1\"],\n",
    "        \"STEM\":['TP63','HEY1']\n",
    "    },\n",
    "    standard_scale=\"var\",\n",
    "    color_map=\"Blues\",\n",
    "    groupby=\"leiden_R\",\n",
    ")"
   ],
   "outputs": [],
   "execution_count": null
  },
  {
   "cell_type": "code",
   "metadata": {},
   "source": [
    "new_cell_dict = {\n",
    "    \"1\": \"KC Basal\",\n",
    "    \"0\": \"KC Differentiating\",\n",
    "    \"3\": \"KC Differentiating\",\n",
    "    \"2\": \"KC Basal\",\n",
    "    \"7\": \"KC Differentiating\",\n",
    "    \"5\": \"KC Hair\",\n",
    "    \"6\": \"KC Hair\",\n",
    "    \"4\": \"KC Cornified\",\n",
    "    \"8\": \"KC Hair\",\n",
    "    \"9\": \"KC Differentiating\",\n",
    "    \"10,0\": \"KC Hair\",\n",
    "    \"10,1\": \"KC Hair\",\n",
    "    \"11,0\": \"KC Basal\",\n",
    "    \"11,1\": \"KC Differentiating\",\n",
    "    \"11,2\": \"KC Differentiating\",\n",
    "    \"12\": \"KC Differentiating\",\n",
    "    \"13\": \"NA\",\n",
    "    \"14\": \"KC IFN\",\n",
    "    \"15\": \"NA\",\n",
    "    \"16\": \"NA\",\n",
    "    \"17\": \"NA\",\n",
    "    \"18\": \"NA\"\n",
    "}\n",
    "idata.obs[\"cell_type_PP\"] = [new_cell_dict[x] for x in idata.obs[\"leiden_R\"]]\n",
    "sc.pl.umap(idata, color=[\"cell_type_PP\"])"
   ],
   "outputs": [],
   "execution_count": null
  },
  {
   "cell_type": "code",
   "metadata": {},
   "source": [
    "import pandas as pd\n",
    "\n",
    "# Read the metadata file\n",
    "meta_df2 = pd.read_csv(\"/QRISdata/Q2051/SCC_Paper/resources/data/scc_bcc_sc_metadata.csv\", sep=',', index_col=0)\n",
    "# Check if indices match\n",
    "common_bcs = idata.obs.index.intersection(meta_df2.index)\n",
    "meta_df2_subset = meta_df2.loc[common_bcs]\n",
    "# Add new columns from the metadata DataFrame to adata.obs\n",
    "idata.obs['cell_type_js'] = meta_df2_subset['cell_type_js']\n",
    "idata.obs['Level2'] = meta_df2_subset['Level2']\n",
    "idata.obs['Level2_Cancer'] = meta_df2_subset['Level2_Cancer']\n",
    "\n",
    "sc.pl.umap(idata, color=['cell_type_js','Level2_Cancer','cell_type_PP'], ncols=3)"
   ],
   "outputs": [],
   "execution_count": null
  },
  {
   "cell_type": "code",
   "metadata": {},
   "source": [
    "idata.write('KC_reanalysis_15Oct.h5ad')\n"
   ],
   "outputs": [],
   "execution_count": null
  },
  {
   "cell_type": "code",
   "metadata": {},
   "source": [
    "\n",
    "\n"
   ],
   "outputs": [],
   "execution_count": null
  },
  {
   "cell_type": "code",
   "metadata": {},
   "source": [
    "# Not as useful compared to the umap gene expression graphs\n",
    "\n",
    "sc.pl.dotplot(\n",
    "    idata,\n",
    "    {\n",
    "        \"KC Basal\": [\"KRT15\", \"KRT5\", \"KRT14\", \"CTNNB1\", \"C1orf56\"],\n",
    "        \"KC Differentiating\": [\"KRT1\", \"KRT10\"],\n",
    "        \"KC Cornified\": [\"LOR\", \"IVL\"],\n",
    "        \"KC Granular\": [\"KRT2\", \"FLG\"],\n",
    "        \"KC stem/hair/stress\": [\"KRT16\", \"KRT17\", \"KRT6A\",\"CD34\",\"SOX9\"],#,\"KRT19\",\"NES\",\"LGR5\"],\n",
    "        \"KC nail/nail\": [\"KRT6B\", \"KRT79\"],\n",
    "        \"sebocytes\": ['FASN', 'PPARG', 'MUC1'], \n",
    "        \"adipocytes\": ['FABP4', 'RBP4'],\n",
    "        \"eccrine gland cells\": ['KRT7', 'AQP5'],\"IFN\": [\"ISG15\", \"IFI27\", \"STAT1\"],\n",
    "        \"STEM\":['TP63','HEY1']\n",
    "    },\n",
    "    standard_scale=\"var\",\n",
    "    color_map=\"Blues\",\n",
    "    groupby=\"leiden_R\",\n",
    ")"
   ],
   "outputs": [],
   "execution_count": null
  },
  {
   "cell_type": "code",
   "metadata": {},
   "source": [
    "# Not as useful compared to the umap gene expression graphs\n",
    "\n",
    "sc.pl.dotplot(\n",
    "    idata,\n",
    "    {\n",
    "        \"KC Basal\": [\"KRT15\", \"KRT5\", \"KRT14\", \"CTNNB1\", \"C1orf56\"],\n",
    "        \"KC Differentiating\": [\"KRT1\", \"KRT10\"],\n",
    "        \"KC Cornified\": [\"LOR\", \"IVL\"],\n",
    "        \"KC Granular\": [\"KRT2\", \"FLG\"],\n",
    "        \"KC stem/hair/stress\": [\"KRT16\", \"KRT17\", \"KRT6A\",\"CD34\",\"SOX9\"],#,\"KRT19\",\"NES\",\"LGR5\"],\n",
    "        \"KC nail/nail\": [\"KRT6B\", \"KRT79\"],\n",
    "        \"sebocytes\": ['FASN', 'PPARG', 'MUC1'], \n",
    "        \"adipocytes\": ['FABP4', 'RBP4'],\n",
    "        \"eccrine gland cells\": ['KRT7', 'AQP5'],\"IFN\": [\"ISG15\", \"IFI27\", \"STAT1\"],\n",
    "        \"STEM\":['TP63','HEY1']\n",
    "    },\n",
    "    standard_scale=\"var\",\n",
    "    color_map=\"Blues\",\n",
    "    groupby=\"cell_type_PP\",\n",
    ")"
   ],
   "outputs": [],
   "execution_count": null
  },
  {
   "cell_type": "code",
   "metadata": {},
   "source": [
    "new_cell_dict = {\n",
    "    \"1\": \"KC Basal\",\n",
    "    \"0\": \"KC Differentiating\",\n",
    "    \"3\": \"KC Differentiating\",\n",
    "    \"2\": \"KC Basal\",\n",
    "    \"7\": \"KC Differentiating\",\n",
    "    \"5\": \"KC Basal\",\n",
    "    \"6\": \"KC Basal\",\n",
    "    \"4\": \"KC Cornified\",\n",
    "    \"8\": \"KC Hair\",\n",
    "    \"9\": \"KC Differentiating\",\n",
    "    \"10,0\": \"KC Hair\",\n",
    "    \"10,1\": \"KC Hair\",\n",
    "    \"11,0\": \"KC Basal\",\n",
    "    \"11,1\": \"KC Differentiating\",\n",
    "    \"11,2\": \"KC Differentiating\",\n",
    "    \"12\": \"KC Differentiating\",\n",
    "    \"13\": \"NA\",\n",
    "    \"14\": \"KC IFN\",\n",
    "    \"15\": \"NA\",\n",
    "    \"16\": \"NA\",\n",
    "    \"17\": \"NA\",\n",
    "    \"18\": \"NA\"\n",
    "}\n",
    "idata.obs[\"cell_type_PP2\"] = [new_cell_dict[x] for x in idata.obs[\"leiden_R\"]]\n",
    "# Not as useful compared to the umap gene expression graphs\n",
    "\n",
    "sc.pl.dotplot(\n",
    "    idata,\n",
    "    {\n",
    "        \"KC Basal\": [\"KRT15\", \"KRT5\", \"KRT14\", \"CTNNB1\", \"C1orf56\"],\n",
    "        \"KC Differentiating\": [\"KRT1\", \"KRT10\"],\n",
    "        \"KC Cornified\": [\"LOR\", \"IVL\"],\n",
    "        \"KC Granular\": [\"KRT2\", \"FLG\"],\n",
    "        \"KC stem/hair/stress\": [\"KRT16\", \"KRT17\", \"KRT6A\",\"CD34\",\"SOX9\"],#,\"KRT19\",\"NES\",\"LGR5\"],\n",
    "        \"KC nail/nail\": [\"KRT6B\", \"KRT79\"],\n",
    "        \"sebocytes\": ['FASN', 'PPARG', 'MUC1'], \n",
    "        \"adipocytes\": ['FABP4', 'RBP4'],\n",
    "        \"eccrine gland cells\": ['KRT7', 'AQP5'],\"IFN\": [\"ISG15\", \"IFI27\", \"STAT1\"],\n",
    "        \"STEM\":['TP63','HEY1']\n",
    "    },\n",
    "    standard_scale=\"var\",\n",
    "    color_map=\"Blues\",\n",
    "    groupby=\"cell_type_PP2\",\n",
    ")"
   ],
   "outputs": [],
   "execution_count": null
  },
  {
   "cell_type": "code",
   "metadata": {
    "scrolled": true
   },
   "source": [
    "from matplotlib import rcParams\n",
    "\n",
    "sc.tl.rank_genes_groups(idata, 'leiden_R', method='wilcoxon', n_genes=200)\n",
    "sc.tl.filter_rank_genes_groups(idata)\n",
    "rcParams['figure.figsize'] = 4,4\n",
    "rcParams['axes.grid'] = True\n",
    "sc.pl.rank_genes_groups(idata, key='rank_genes_groups_filtered', ncols=3)"
   ],
   "outputs": [],
   "execution_count": null
  },
  {
   "cell_type": "code",
   "metadata": {},
   "source": [
    "axs = sc.pl.rank_genes_groups_dotplot(idata, n_genes=20, groups=['5', '6','8','10,0','10,1'])"
   ],
   "outputs": [],
   "execution_count": null
  },
  {
   "cell_type": "code",
   "metadata": {},
   "source": [
    "print('C5:',idata.uns['rank_genes_groups']['names']['5'][:20])\n",
    "print('C6:',idata.uns['rank_genes_groups']['names']['6'][:20])\n",
    "print('C8:',idata.uns['rank_genes_groups']['names']['8'][:20])\n",
    "print('C10,0:',idata.uns['rank_genes_groups']['names']['10,0'][:20])\n",
    "print('C10,1:',idata.uns['rank_genes_groups']['names']['10,1'][:20])\n"
   ],
   "outputs": [],
   "execution_count": null
  },
  {
   "cell_type": "code",
   "metadata": {},
   "source": [
    "idata.obs['sample_ID_corrected'].unique()"
   ],
   "outputs": [],
   "execution_count": null
  },
  {
   "cell_type": "code",
   "metadata": {},
   "source": [
    "idata.obs['diagnosis_corrected'].unique()"
   ],
   "outputs": [],
   "execution_count": null
  },
  {
   "cell_type": "code",
   "metadata": {},
   "source": [
    "idata"
   ],
   "outputs": [],
   "execution_count": null
  },
  {
   "cell_type": "code",
   "metadata": {},
   "source": [
    "def split_umap(adata, split_by, ncol=2, nrow=None, **kwargs):\n",
    "    categories = adata.obs[split_by].cat.categories\n",
    "    if nrow is None:\n",
    "        nrow = int(np.ceil(len(categories) / ncol))\n",
    "    fig, axs = plt.subplots(nrow, ncol, figsize=(5*ncol, 4*nrow))\n",
    "    axs = axs.flatten()\n",
    "    for i, cat in enumerate(categories):\n",
    "        ax = axs[i]\n",
    "        sc.pl.umap(adata[adata.obs[split_by] == cat], ax=ax, show=False, title=cat, **kwargs)\n",
    "    plt.tight_layout()\n",
    "split_umap(idata, color = ['Level2_Cancer'], split_by='diagnosis_corrected',legend_loc = \"on data\")\n"
   ],
   "outputs": [],
   "execution_count": null
  },
  {
   "cell_type": "code",
   "metadata": {
    "scrolled": true
   },
   "source": [
    "import numpy as np\n",
    "import scanpy as sc\n",
    "import matplotlib.pyplot as plt\n",
    "\n",
    "def split_umap(adata, split_by, ncol=2, nrow=None, size=None, **kwargs):\n",
    "    # Get unique categories\n",
    "    categories = adata.obs[split_by].cat.categories\n",
    "    \n",
    "    # Determine the number of rows for subplots\n",
    "    if nrow is None:\n",
    "        nrow = int(np.ceil(len(categories) / ncol))\n",
    "    \n",
    "    # Create subplots\n",
    "    fig, axs = plt.subplots(nrow, ncol, figsize=(5 * ncol, 4 * nrow))\n",
    "    axs = axs.flatten()\n",
    "    \n",
    "    # Loop through categories to create UMAP plots\n",
    "    for i, cat in enumerate(categories):\n",
    "        ax = axs[i]\n",
    "        \n",
    "        # Subset the data for the current category\n",
    "        subset = adata[adata.obs[split_by] == cat]\n",
    "        \n",
    "        # Plot UMAP with specified size\n",
    "        sc.pl.umap(subset, ax=ax, show=False, title=cat, size=size, **kwargs)\n",
    "    \n",
    "    # Adjust layout\n",
    "    plt.tight_layout()\n",
    "    \n",
    "    # Show the plot\n",
    "    plt.show()\n",
    "\n",
    "# Example usage\n",
    "split_umap(idata, split_by='diagnosis_corrected', ncol=4, size=20, color=['leiden_R'], legend_loc=\"on data\")\n"
   ],
   "outputs": [],
   "execution_count": null
  },
  {
   "cell_type": "code",
   "metadata": {
    "scrolled": true
   },
   "source": [
    "split_umap(idata, split_by='diagnosis_corrected', ncol=4, size=20, color=['Level2_Cancer'], legend_loc=\"on data\")\n"
   ],
   "outputs": [],
   "execution_count": null
  },
  {
   "cell_type": "code",
   "metadata": {
    "scrolled": true
   },
   "source": [
    "def categorize_clusters(row):\n",
    "    cancer = row['Level2_Cancer']\n",
    "    \n",
    "    if cancer == 'KC Cancer':\n",
    "        return 'Cancer'\n",
    "    else:\n",
    "        return 'none'\n",
    "\n",
    "idata.obs['cancer'] = idata.obs.apply(categorize_clusters, axis=1)\n",
    "\n",
    "# Define the color map\n",
    "colors = {\n",
    "    'Cancer': 'red',\n",
    "    'none': 'lightgrey'\n",
    "}\n",
    "\n",
    "# Map the colors to the combined clusters\n",
    "idata.obs['cancer_color'] = idata.obs['cancer'].map(colors)\n",
    "\n",
    "# Plot the UMAP with reduced spot size and custom colors\n",
    "#sc.pl.umap(idata, color='cancer', size=10, palette=colors)\n",
    "\n",
    "split_umap(idata, split_by='diagnosis_corrected', ncol=4, size=20, color=['cancer'], legend_loc=\"best\", palette=colors)\n"
   ],
   "outputs": [],
   "execution_count": null
  },
  {
   "cell_type": "code",
   "metadata": {},
   "source": [
    "idata"
   ],
   "outputs": [],
   "execution_count": null
  },
  {
   "cell_type": "code",
   "metadata": {},
   "source": [
    "sc.pl.umap(idata, color=[\"leiden_R\",\"cell_type_PP\"], legend_loc=\"on data\")"
   ],
   "outputs": [],
   "execution_count": null
  },
  {
   "cell_type": "code",
   "metadata": {},
   "source": [
    "new_cell_dict = {\n",
    "    \"1\": \"KC Basal\",\n",
    "    \"0\": \"KC Differentiating\",\n",
    "    \"3\": \"KC Differentiating\",\n",
    "    \"2\": \"KC Basal\",\n",
    "    \"7\": \"KC Differentiating\",\n",
    "    \"5\": \"KC Dysplastic\", #/atypical\n",
    "    \"6\": \"KC Dysplastic\",\n",
    "    \"4\": \"KC Cornified\",\n",
    "    \"8\": \"KC Dysplastic\",\n",
    "    \"9\": \"KC Differentiating\",\n",
    "    \"10,0\": \"KC Hair\",\n",
    "    \"10,1\": \"KC Hair\",\n",
    "    \"11,0\": \"KC Basal\",\n",
    "    \"11,1\": \"KC Differentiating\",\n",
    "    \"11,2\": \"KC Differentiating\",\n",
    "    \"12\": \"KC Differentiating\",\n",
    "    \"13\": \"NA\",\n",
    "    \"14\": \"KC IFN\",\n",
    "    \"15\": \"NA\",\n",
    "    \"16\": \"NA\",\n",
    "    \"17\": \"NA\",\n",
    "    \"18\": \"NA\"\n",
    "}\n",
    "\n",
    "idata.obs[\"cell_type_PP_final\"] = [new_cell_dict[x] for x in idata.obs[\"leiden_R\"]]\n",
    "sc.pl.umap(idata, color=[\"cell_type_PP_final\"])"
   ],
   "outputs": [],
   "execution_count": null
  },
  {
   "cell_type": "markdown",
   "metadata": {},
   "source": [
    "# Final Obj Immune + KC"
   ]
  },
  {
   "cell_type": "code",
   "metadata": {},
   "source": [
    "imm=pd.read_csv(\"/QRISdata/Q2051/SCC_Paper/resources/data/allintegratedClustered_w_JS_imm_and_kc_labels.csv\", index_col=0)\n",
    "imm"
   ],
   "outputs": [],
   "execution_count": null
  },
  {
   "cell_type": "code",
   "metadata": {},
   "source": [
    "adata.obs['Level3_final'] = adata.obs.index.map(imm['cell_type_js'])  # Replace 'annotation_column_name' with the column name in your CSV\n",
    "\n",
    "# Ensure the indices in idata.obs are also in adata.obs to avoid mismatches\n",
    "matching_indices = adata.obs.index.intersection(idata.obs.index)\n",
    "\n",
    "# Update adata.obs['Final'] for these matching indices\n",
    "adata.obs.loc[matching_indices, 'Level3_final'] = idata.obs.loc[matching_indices, 'cell_type_PP_final']\n",
    "sc.pl.umap(adata, color=[\"Level3_final\"])"
   ],
   "outputs": [],
   "execution_count": null
  },
  {
   "cell_type": "markdown",
   "metadata": {},
   "source": [
    "KC = adata[adata.obs[\"Level1_unnamed\"] == 'KC']\n",
    "sc.pl.umap(KC, color=[\"Level3_final\"])"
   ]
  },
  {
   "cell_type": "code",
   "metadata": {},
   "source": [
    "Immune = adata[adata.obs[\"Level1_unnamed\"] == 'immune']\n",
    "sc.pl.umap(Immune, color=[\"Level3_final\"])"
   ],
   "outputs": [],
   "execution_count": null
  },
  {
   "cell_type": "code",
   "metadata": {},
   "source": [
    "adata"
   ],
   "outputs": [],
   "execution_count": null
  },
  {
   "cell_type": "code",
   "metadata": {},
   "source": [
    "print(adata.obs['Level3_final'].unique().tolist())\n"
   ],
   "outputs": [],
   "execution_count": null
  },
  {
   "cell_type": "code",
   "metadata": {},
   "source": [
    "new_cell_dict = {\n",
    "   'KC Basal':\"KC Basal\", 'KC Differentiating':'KC Differentiating', 'KC Cornified':'KC Cornified',\n",
    "    'Imm_LC':\"Imm_LC\", 'melanocyte_0':\"Melanocytes\", 'Ambiguous':\"Ambiguous\", 'KC Dysplastic':'KC Dysplastic',\n",
    "    'Imm_CD8Tem':\"Imm_T cell\", 'KC Hair':'KC Hair', 'melanocyte_2':\"Melanocytes\", 'Imm_Treg':\"Imm_T cell\", 'NA':\"Ambiguous\", 'Imm_CD4Tcm':\"Imm_T cell\",\n",
    "    'Imm_CX3CR1+ Mono/Mac':\"Immune_Mono/Mac\", \n",
    "    'Imm_mRegDC':\"Imm_DC\", 'Imm_CD14+ Mono':\"Imm_Monocytes\", 'Imm_CD16- NK':\"Imm_NK\", 'melanocyte_1':\"Melanocytes\", 'Endothelial_0':\"Endothelial\",\n",
    "    'Imm_Plasma':\"Imm_Plasma\", 'Imm_LC KI67+':\"Imm_LC\",\n",
    "    'Imm_CD16+ NK':\"Imm_NK\", 'Imm_NKT':\"Imm_NKT\", 'fibroblast_2':\"Fibroblast\", 'Imm_TREM2+ Mac':\"Imm_Macrophage\", 'Imm_B cell':\"Imm_B cell\", \n",
    "    'fibroblast_1':\"Fibroblast\", \n",
    "    'Endothelial_1':\"Endothelial\", 'Endothelial_2':\"Endothelial\", 'fibroblast_0':\"Fibroblast\", 'Imm_CD169+ Mac':\"Imm_Macrophage\", 'KC IFN':'KC IFN',\n",
    "    'Imm_IFN+ Mac':\"Imm_Macrophage\", 'Imm_PD-1+CTLA4+ CD8Tcm':\"Imm_T cell\", 'Imm_PD-1+ CD8Tem':\"Imm_T cell\", 'Endothelial_3':\"Endothelial\", 'Imm_DC1/DC2':\"Imm_DC\",\n",
    "    'fibroblast_3':\"Fibroblast\"\n",
    "    \n",
    "}\n",
    "\n",
    "adata.obs[\"Level2_Final\"] = [new_cell_dict[x] for x in adata.obs[\"Level3_final\"]]\n",
    "sc.pl.umap(adata, color=[\"Level2_Final\"])"
   ],
   "outputs": [],
   "execution_count": null
  },
  {
   "cell_type": "code",
   "metadata": {},
   "source": [
    "print(adata.obs['Level2_Final'].unique().tolist())\n"
   ],
   "outputs": [],
   "execution_count": null
  },
  {
   "cell_type": "code",
   "metadata": {},
   "source": [
    "new_cell_dict = {\n",
    "  'KC Basal':\"KC\", 'KC Differentiating':\"KC\", 'KC Cornified':\"KC\", 'Imm_LC':\"Immune\", 'Melanocytes':\"Melanocytes\", 'Ambiguous':\"Ambiguous\", 'KC Dysplastic':\"KC\", \n",
    "    'Imm_T cell':\"Immune\", 'KC Hair':\"KC\", 'Immune_Mono/Mac':\"Immune\", 'Imm_DC':\"Immune\", 'Imm_Monocytes':\"Immune\", \n",
    "    'Imm_NK':\"Immune\", 'Endothelial':\"Endothelial\", 'Imm_Plasma':\"Immune\", 'Imm_NKT':\"Immune\", 'Fibroblast':\"Fibroblast\", 'Imm_Macrophage':\"Immune\", 'Imm_B cell':\"Immune\",\n",
    "    'KC IFN':\"KC\"}\n",
    "\n",
    "adata.obs[\"Level1_Final\"] = [new_cell_dict[x] for x in adata.obs[\"Level2_Final\"]]\n",
    "sc.pl.umap(adata, color=[\"Level1_Final\"])"
   ],
   "outputs": [],
   "execution_count": null
  },
  {
   "cell_type": "code",
   "metadata": {},
   "source": [
    "print(scc.obs['Level2_Cancer'].unique().tolist())"
   ],
   "outputs": [],
   "execution_count": null
  },
  {
   "cell_type": "code",
   "metadata": {},
   "source": [
    "# Step 1: Temporarily convert 'Level2_Cancer' in both adata and cancer to string to avoid category mismatches\n",
    "adata.obs['Level2_Cancer'] = adata.obs['Level2_Final'].astype(str)\n",
    "cancer.obs['Level2_Cancer'] = cancer.obs['Level2_Cancer'].astype(str)\n",
    "\n",
    "# Step 2: Get the intersection of indices between adata and cancer, and update only matching cells\n",
    "matching_indices = adata.obs.index.intersection(cancer.obs.index)\n",
    "adata.obs.loc[matching_indices, 'Level2_Cancer'] = cancer.obs.loc[matching_indices, 'Level2_Cancer']\n",
    "\n",
    "# Step 3: Convert 'Level2_Cancer' back to categorical, using the combined categories from both data frames\n",
    "combined_categories = sorted(set(adata.obs['Level2_Cancer']).union(cancer.obs['Level2_Cancer']))\n",
    "adata.obs['Level2_Cancer'] = pd.Categorical(adata.obs['Level2_Cancer'], categories=combined_categories)\n",
    "\n",
    "# Step 4: Plot the UMAP with the updated 'Level2_Cancer' annotations\n",
    "sc.pl.umap(adata, color=[\"Level2_Cancer\"])\n"
   ],
   "outputs": [],
   "execution_count": null
  },
  {
   "cell_type": "code",
   "metadata": {},
   "source": [
    "# Step 1: Temporarily convert 'Level2_Cancer' in both adata and cancer to string to avoid category mismatches\n",
    "adata.obs['Level3_Cancer'] = adata.obs['Level3_final'].astype(str)\n",
    "adata.obs.loc[matching_indices, 'Level3_Cancer'] = cancer.obs.loc[matching_indices, 'Level2_Cancer']\n",
    "\n",
    "# Step 3: Convert 'Level2_Cancer' back to categorical, using the combined categories from both data frames\n",
    "combined_categories = sorted(set(adata.obs['Level3_Cancer']).union(cancer.obs['Level2_Cancer']))\n",
    "adata.obs['Level3_Cancer'] = pd.Categorical(adata.obs['Level3_Cancer'], categories=combined_categories)\n",
    "\n",
    "# Step 4: Plot the UMAP with the updated 'Level2_Cancer' annotations\n",
    "sc.pl.umap(adata, color=[\"Level3_Cancer\"])\n"
   ],
   "outputs": [],
   "execution_count": null
  },
  {
   "cell_type": "code",
   "metadata": {},
   "source": [
    "adata.obs"
   ],
   "outputs": [],
   "execution_count": null
  },
  {
   "cell_type": "code",
   "metadata": {},
   "source": [
    "adata"
   ],
   "outputs": [],
   "execution_count": null
  },
  {
   "cell_type": "code",
   "metadata": {},
   "source": [
    "scc"
   ],
   "outputs": [],
   "execution_count": null
  },
  {
   "cell_type": "code",
   "metadata": {},
   "source": [
    "adata.obs['cancer_status'].unique()"
   ],
   "outputs": [],
   "execution_count": null
  },
  {
   "cell_type": "code",
   "metadata": {},
   "source": [
    "rna_adata=anndata.read_h5ad(\"/QRISdata/Q2051/SCC_Paper/resources/data/allintegratedClustered_Seurat_JS_3_withCNV.h5ad\")\n",
    "# Ensure `mel_only` is your AnnData object\n",
    "\n",
    "def handle_categorical(column):\n",
    "    if column.dtype.name == 'category':\n",
    "        # Check if 'nan' is already a category\n",
    "        if 'nan' not in column.cat.categories:\n",
    "            column = column.cat.add_categories(['nan'])\n",
    "        # Fill missing values with 'nan'\n",
    "        column = column.fillna('nan')\n",
    "    else:\n",
    "        # Convert to category and fill missing values\n",
    "        column = pd.Categorical(column.fillna('nan'))\n",
    "    return column\n",
    "\n",
    "adata.obs['Copykat_aneuploid']=rna_adata.obs['Copykat_aneuploid']\n",
    "adata.obs['InferCNV_Aneuploid']=rna_adata.obs['InferCNV_Aneuploid']\n",
    "\n",
    "\n",
    "\n",
    "# Handle categorical columns\n",
    "adata.obs['copykat_pred'] = handle_categorical(adata.obs['Copykat_aneuploid'])\n",
    "adata.obs['infercnv_pred'] = handle_categorical(adata.obs['InferCNV_Aneuploid'])\n",
    "\n",
    "# Create a combined clustering column focusing on \"Aneuploid\" clusters and NA values\n",
    "def categorize_clusters(row):\n",
    "    infercnv = row['infercnv_pred']\n",
    "    copykat = row['copykat_pred']\n",
    "    \n",
    "    if infercnv == 'Aneuploid' and copykat == 'Aneuploid':\n",
    "        return 'overlap'\n",
    "    elif infercnv == 'Aneuploid' and copykat != 'Aneuploid':\n",
    "        return 'infercnv_only'\n",
    "    elif infercnv != 'Aneuploid' and copykat == 'Aneuploid':\n",
    "        return 'copykat_only'\n",
    "    else:\n",
    "        return 'none'\n",
    "\n",
    "adata.obs['Aneuploid_combined_clusters'] = adata.obs.apply(categorize_clusters, axis=1)\n",
    "\n",
    "# Define the color map\n",
    "colors = {\n",
    "    'infercnv_only': 'blue',\n",
    "    'copykat_only': 'orange',\n",
    "    'overlap': 'red',\n",
    "    'none': 'lightgrey'\n",
    "}\n",
    "\n",
    "# Map the colors to the combined clusters\n",
    "adata.obs['Aneuploid_combined_clusters_color'] = adata.obs['Aneuploid_combined_clusters'].map(colors)\n",
    "\n",
    "# Plot the UMAP with reduced spot size and custom colors\n",
    "sc.pl.umap(adata, color='Aneuploid_combined_clusters', title='UMAP of Combined Clusters', size=10, palette=colors)\n"
   ],
   "outputs": [],
   "execution_count": null
  },
  {
   "cell_type": "code",
   "metadata": {},
   "source": [
    "# Ensure 'leiden_R' and 'leiden_S' (or whichever columns) exist in both obs DataFrames\n",
    "if 'leiden_R' in idata.obs.columns and 'leiden' in idata.obs.columns:\n",
    "    # Copy 'leiden_R' and 'leiden_S' from idata.obs to adata.obs, ensuring the indices match\n",
    "    adata.obs.loc[idata.obs.index, 'KC_leiden_R'] = idata.obs['leiden_R']\n",
    "    adata.obs.loc[idata.obs.index, 'KC_leiden'] = idata.obs['leiden']\n",
    "    \n",
    "    # Verify the update\n",
    "    print(adata.obs[['KC_leiden_R', 'KC_leiden']].head())\n",
    "else:\n",
    "    print(\"Columns 'leiden_R' and/or 'leiden_S' not found in idata.obs\")\n"
   ],
   "outputs": [],
   "execution_count": null
  },
  {
   "cell_type": "code",
   "metadata": {},
   "source": [
    "adata"
   ],
   "outputs": [],
   "execution_count": null
  },
  {
   "cell_type": "code",
   "metadata": {},
   "source": [
    "columns_to_remove = ['Level1_unnamed', 'Level2_unnamed','Level1.5_unnamed','copykat_pred','infercnv_pred'] #sort_order\n",
    "adata.obs = adata.obs.drop(columns=columns_to_remove)\n",
    "\n",
    "# Verify if the columns are removed\n",
    "adata"
   ],
   "outputs": [],
   "execution_count": null
  },
  {
   "cell_type": "code",
   "metadata": {},
   "source": [
    "adata.obs['integrated_snn_res.0.4'].unique()"
   ],
   "outputs": [],
   "execution_count": null
  },
  {
   "cell_type": "code",
   "metadata": {},
   "source": [
    "columns_to_rename = {\n",
    "    'sample_ID_corrected': 'sample_ID',\n",
    "    'diagnosis_corrected': 'diagnosis',\n",
    "    'cancer_status_corrected':'cancer_status'\n",
    "}\n",
    "\n",
    "# Rename the columns in adata.obs\n",
    "adata.obs = adata.obs.rename(columns=columns_to_rename)\n",
    "\n",
    "# Verify the changes\n",
    "adata"
   ],
   "outputs": [],
   "execution_count": null
  },
  {
   "cell_type": "code",
   "metadata": {},
   "source": [
    "adata.obs['2CNV_mod0.5'].unique()"
   ],
   "outputs": [],
   "execution_count": null
  },
  {
   "cell_type": "code",
   "metadata": {},
   "source": [
    "# Ensure `mel_only` is your AnnData object\n",
    "\n",
    "def handle_categorical(column):\n",
    "    if column.dtype.name == 'category':\n",
    "        # Check if 'nan' is already a category\n",
    "        if 'nan' not in column.cat.categories:\n",
    "            column = column.cat.add_categories(['nan'])\n",
    "        # Fill missing values with 'nan'\n",
    "        column = column.fillna('nan')\n",
    "    else:\n",
    "        # Convert to category and fill missing values\n",
    "        column = pd.Categorical(column.fillna('nan'))\n",
    "    return column\n",
    "\n",
    "adata.obs['2CNV_mod0.5']=scc.obs['2CNV_mod0.5']\n",
    "\n",
    "\n",
    "\n",
    "# Handle categorical columns\n",
    "adata.obs['2CNV_mod0.5'] = handle_categorical(adata.obs['2CNV_mod0.5'])\n",
    "\n",
    "# Create a combined clustering column focusing on \"Aneuploid\" clusters and NA values\n",
    "def categorize_clusters(row):\n",
    "    cancer = row['2CNV_mod0.5']    \n",
    "    if cancer == 'Cancer':\n",
    "        return 'Cancer'\n",
    "    else:\n",
    "        return 'none'\n",
    "\n",
    "adata.obs['KC_cancer_2CNV_mod0.5'] = adata.obs.apply(categorize_clusters, axis=1)\n",
    "\n",
    "# Define the color map\n",
    "colors_cancer = {\n",
    "    'Cancer': 'red',\n",
    "    'none': 'lightgrey'\n",
    "}\n",
    "\n",
    "# Map the colors to the combined clusters\n",
    "adata.obs['KC_cancer_2CNV_mod0.5_color'] = adata.obs['KC_cancer_2CNV_mod0.5'].map(colors)\n",
    "\n",
    "# Plot the UMAP with reduced spot size and custom colors\n",
    "sc.pl.umap(adata, color='KC_cancer_2CNV_mod0.5', title='KC Cancer 2CNV+mod0.5', size=10, palette=colors_cancer)\n"
   ],
   "outputs": [],
   "execution_count": null
  },
  {
   "cell_type": "code",
   "metadata": {},
   "source": [
    "adata.write('SCC_final_object_28Oct.h5ad')\n"
   ],
   "outputs": [],
   "execution_count": null
  },
  {
   "cell_type": "markdown",
   "metadata": {},
   "source": [
    "# <a id='section2'></a> KC final figs"
   ]
  },
  {
   "cell_type": "code",
   "metadata": {},
   "source": [
    "adata=anndata.read_h5ad('SCC_final_object_28Oct.h5ad')\n",
    "idata=anndata.read_h5ad(\"KC_reanalysis_15Oct.h5ad\")"
   ],
   "outputs": [],
   "execution_count": null
  },
  {
   "cell_type": "code",
   "metadata": {},
   "source": [
    "idata.obs['BC']=idata.obs.index"
   ],
   "outputs": [],
   "execution_count": null
  },
  {
   "cell_type": "code",
   "metadata": {},
   "source": [
    "adata"
   ],
   "outputs": [],
   "execution_count": null
  },
  {
   "cell_type": "code",
   "metadata": {},
   "source": [
    "idata"
   ],
   "outputs": [],
   "execution_count": null
  },
  {
   "cell_type": "code",
   "metadata": {},
   "source": [
    "sc.pl.umap(idata, color=['cell_type_PP','leiden_R'], show=True, legend_loc=\"on data\")\n"
   ],
   "outputs": [],
   "execution_count": null
  },
  {
   "cell_type": "code",
   "metadata": {},
   "source": [
    "KC_only = rna_adata[idata.obs['cell_type_PP'].str.startswith('KC')].copy()\n"
   ],
   "outputs": [],
   "execution_count": null
  },
  {
   "cell_type": "code",
   "metadata": {},
   "source": [
    "# Ensure 'Imm_Treg' is in the categories for 'Level2_Cancer'\n",
    "if 'Imm_Treg' not in adata.obs['Level2_Cancer'].cat.categories:\n",
    "    adata.obs['Level2_Cancer'] = adata.obs['Level2_Cancer'].cat.add_categories(['Imm_Treg'])\n",
    "# Update 'Level2_Cancer' where 'Level3_Cancer' is 'Imm_Treg'\n",
    "adata.obs.loc[adata.obs['Level3_Cancer'] == 'Imm_Treg', 'Level2_Cancer'] = 'Imm_Treg'\n",
    "\n",
    "# Ensure 'Imm_T cell' is in the categories for 'Level2_Cancer'\n",
    "if 'Imm_T cell' not in adata.obs['Level2_Cancer'].cat.categories:\n",
    "    adata.obs['Level2_Cancer'] = adata.obs['Level2_Cancer'].cat.add_categories(['Imm_T cell'])\n",
    "# Replace 'Imm_NKT' with 'Imm_T cell' in 'Level2_Cancer'\n",
    "adata.obs['Level2_Cancer'] = adata.obs['Level2_Cancer'].replace('Imm_NKT', 'Imm_T cell')\n",
    "\n",
    "adata.obs['Level2_Cancer'] = adata.obs['Level2_Cancer'].replace('NA', 'Ambiguous')\n",
    "adata.obs['Level3_Cancer'] = adata.obs['Level3_Cancer'].replace('NA', 'Ambiguous')\n"
   ],
   "outputs": [],
   "execution_count": null
  },
  {
   "cell_type": "code",
   "metadata": {},
   "source": [
    "# Ensure 'Imm_Treg' is in the categories for 'Level2_Cancer'\n",
    "if 'Imm_Treg' not in adata.obs['Level2_Final'].cat.categories:\n",
    "    adata.obs['Level2_Final'] = adata.obs['Level2_Final'].cat.add_categories(['Imm_Treg'])\n",
    "# Update 'Level2_Cancer' where 'Level3_Cancer' is 'Imm_Treg'\n",
    "adata.obs.loc[adata.obs['Level2_Final'] == 'Imm_Treg', 'Level2_Final'] = 'Imm_Treg'\n",
    "\n",
    "# Ensure 'Imm_T cell' is in the categories for 'Level2_Cancer'\n",
    "if 'Imm_T cell' not in adata.obs['Level2_Final'].cat.categories:\n",
    "    adata.obs['Level2_Final'] = adata.obs['Level2_Final'].cat.add_categories(['Imm_T cell'])\n",
    "# Replace 'Imm_NKT' with 'Imm_T cell' in 'Level2_Cancer'\n",
    "adata.obs['Level2_Final'] = adata.obs['Level2_Final'].replace('Imm_NKT', 'Imm_T cell')\n",
    "\n",
    "adata.obs['Level2_Final'] = adata.obs['Level2_Final'].replace('NA', 'Ambiguous')\n",
    "adata.obs['Level2_Final'] = adata.obs['Level2_Final'].replace('NA', 'Ambiguous')\n"
   ],
   "outputs": [],
   "execution_count": null
  },
  {
   "cell_type": "code",
   "metadata": {},
   "source": [
    "#sc.pl.umap(adata, color='Level2_Cancer', size=10)\n",
    "adata.obs['Level2_Cancer'].unique().tolist()"
   ],
   "outputs": [],
   "execution_count": null
  },
  {
   "cell_type": "code",
   "metadata": {
    "scrolled": true
   },
   "source": [
    "# Ensure that the indices are aligned and add the column from `adata` to `idata`\n",
    "idata.obs['Aneuploid_combined_clusters'] = adata.obs['Aneuploid_combined_clusters'].reindex(idata.obs.index)\n",
    "idata = idata[idata.obs['cell_type_PP'].str.startswith('KC')].copy()\n",
    "\n",
    "# Define the color map\n",
    "colors = {\n",
    "    'infercnv_only': 'blue',\n",
    "    'copykat_only': 'orange',\n",
    "    'overlap': 'red',\n",
    "    'none': 'lightgrey'\n",
    "}\n",
    "\n",
    "# Map the colors to the combined clusters\n",
    "idata.obs['Aneuploid_combined_clusters_color'] = idata.obs['Aneuploid_combined_clusters'].map(colors)\n",
    "\n",
    "with plt.rc_context({\"figure.figsize\": (5, 4), \"figure.dpi\": (300)}):\n",
    "    sc.pl.umap(idata, color='Aneuploid_combined_clusters', size=4, palette=colors,show=False)\n",
    "    plt.savefig(\"/scratch/project/stseq/Prakrithi/skin_atlas/reanalysis_figs/scc/KC_Aneuploid.pdf\", bbox_inches=\"tight\")\n",
    "# Plot the UMAP with reduced spot size and custom colors\n",
    "\n"
   ],
   "outputs": [],
   "execution_count": null
  },
  {
   "cell_type": "code",
   "metadata": {},
   "source": [
    "import matplotlib.pyplot as plt\n",
    "import scanpy as sc\n",
    "\n",
    "# Create a figure and axis to plot both sets of cells on the same plot\n",
    "#fig, ax = plt.subplots()\n",
    "fig, ax = plt.subplots(figsize=(5, 5))  # Adjust figure size as needed\n",
    "\n",
    "\n",
    "# Plot 'none' cells first (background layer)\n",
    "sc.pl.umap(\n",
    "    idata[idata.obs['Aneuploid_combined_clusters'] == 'none'],\n",
    "    color='Aneuploid_combined_clusters',\n",
    "    size=6,\n",
    "    palette={'none': 'lightgrey'},\n",
    "    ax=ax,\n",
    "    show=False\n",
    ")\n",
    "\n",
    "# Overlay other cells with specific colors (foreground layer)\n",
    "sc.pl.umap(\n",
    "    idata[idata.obs['Aneuploid_combined_clusters'] != 'none'],\n",
    "    color='Aneuploid_combined_clusters',\n",
    "    size=6,\n",
    "    palette=colors,\n",
    "    ax=ax,\n",
    "    show=False\n",
    ")\n",
    "plt.savefig(\"/scratch/project/stseq/Prakrithi/skin_atlas/reanalysis_figs/scc/KC_Aneuploid_reordered.pdf\", format=\"pdf\")\n",
    "# Display the combined plot\n",
    "plt.show()\n"
   ],
   "outputs": [],
   "execution_count": null
  },
  {
   "cell_type": "code",
   "metadata": {},
   "source": [
    "# Ensure that the indices are aligned and add the column from `adata` to `idata`\n",
    "idata.obs['Aneuploid_combined_clusters'] = adata.obs['Aneuploid_combined_clusters'].reindex(idata.obs.index)\n",
    "\n",
    "# Define the color map\n",
    "colors = {\n",
    "    'infercnv_only': 'blue',\n",
    "    'copykat_only': 'orange',\n",
    "    'overlap': 'red',\n",
    "    'none': 'lightgrey'\n",
    "}\n",
    "\n",
    "# Map the colors to the combined clusters\n",
    "idata.obs['Aneuploid_combined_clusters_color'] = idata.obs['Aneuploid_combined_clusters'].map(colors)\n",
    "\n",
    "# Plot the UMAP with reduced spot size and custom colors\n",
    "sc.pl.umap(idata, color='Aneuploid_combined_clusters', size=10, palette=colors)\n"
   ],
   "outputs": [],
   "execution_count": null
  },
  {
   "cell_type": "code",
   "metadata": {},
   "source": [
    "adata"
   ],
   "outputs": [],
   "execution_count": null
  },
  {
   "cell_type": "code",
   "metadata": {},
   "source": [
    "idata.obs['Level2_Cancer'] = adata.obs['Level2_Cancer'].reindex(idata.obs.index)\n",
    "idata.obs['Level3_Cancer'] = adata.obs['Level3_Cancer'].reindex(idata.obs.index)\n",
    "idata.obs['Level2_Final'] = adata.obs['Level2_Final'].reindex(idata.obs.index)\n",
    "idata.obs['Level3_final'] = adata.obs['Level3_final'].reindex(idata.obs.index)\n",
    "\n",
    "\n",
    "sc.pl.umap(idata, color='Level3_final', size=10)\n"
   ],
   "outputs": [],
   "execution_count": null
  },
  {
   "cell_type": "code",
   "metadata": {},
   "source": [
    "sc.pl.umap(idata, color='Level2_Final', size=10)\n"
   ],
   "outputs": [],
   "execution_count": null
  },
  {
   "cell_type": "code",
   "metadata": {
    "scrolled": true
   },
   "source": [
    "# Check if Level3_Cancer is in idata.obs\n",
    "if 'Level3_Cancer' in idata.obs.columns:\n",
    "    # Subset idata to keep only cells where Level3_Cancer starts with 'KC'\n",
    "    idata_subset = idata[idata.obs['Level3_Cancer'].str.startswith('KC')]\n",
    "else:\n",
    "    raise KeyError(\"Level3_Cancer not found in idata.obs\")\n",
    "# Optional: Reset the index if desired\n",
    "idata_subset = idata_subset.copy()  # Create a copy to avoid SettingWithCopyWarning\n",
    "idata_subset.obs.reset_index(drop=True, inplace=True)\n",
    "\n",
    "\n",
    "# Define color list based on cell types\n",
    "kc_color_dict = {\n",
    "   # \"pDC\"= \"#8A2BE2\",\n",
    "  \"KC Basal\" : \"#FF6A6A\",\n",
    "  \"KC Cornified\" : \"#8B3A62\",\n",
    "  \"KC Differentiating\" : \"#ab82ff\",\n",
    "  \"KC Hair\" : \"#FF0000\",\n",
    " # \"KC Cancer\" : \"black\",  # Darker shade of \"saddlebrown\"\n",
    " 'KC Granular':'#008941',\n",
    "'KC IFN' : '#7b4f4b',\n",
    " \"KC Dysplastic\": \"#dac0eb\", 'Aneuploid':'grey'\n",
    "}\n",
    "\n",
    "\n",
    "with plt.rc_context({\"figure.figsize\": (4, 4), \"figure.dpi\": (300)}):\n",
    "    sc.pl.umap(\n",
    "    idata_subset,  # Your AnnData object\n",
    "    color='Level3_final',  # Assuming 'Level3' is the categorical variable you want to color by\n",
    "    palette=kc_color_dict,  # Use your color dictionary\n",
    "    show=False, size=10 # Set to False if you don't want to display the plot immediately\n",
    ")\n",
    "    plt.savefig(\"/scratch/project/stseq/Prakrithi/skin_atlas/reanalysis_figs/scc/KC_subclusters_types.pdf\", bbox_inches=\"tight\")\n"
   ],
   "outputs": [],
   "execution_count": null
  },
  {
   "cell_type": "code",
   "metadata": {},
   "source": [
    "# Check if Level3_Cancer is in idata.obs\n",
    "if 'Level3_Cancer' in idata.obs.columns:\n",
    "    # Subset idata to keep only cells where Level3_Cancer starts with 'KC'\n",
    "    idata_subset = idata[idata.obs['Level3_Cancer'].str.startswith('KC')]\n",
    "else:\n",
    "    raise KeyError(\"Level3_Cancer not found in idata.obs\")\n",
    "# Optional: Reset the index if desired\n",
    "idata_subset = idata_subset.copy()  # Create a copy to avoid SettingWithCopyWarning\n",
    "idata_subset.obs.reset_index(drop=True, inplace=True)\n",
    "\n",
    "\n",
    "# Define color list based on cell types\n",
    "kc_color_dict = {\n",
    "   # \"pDC\"= \"#8A2BE2\",\n",
    "  \"KC Basal\" : \"#FF6A6A\",\n",
    "  \"KC Cornified\" : \"#8B3A62\",\n",
    "  \"KC Differentiating\" : \"#ab82ff\",\n",
    "  \"KC Hair\" : \"#FF0000\",\n",
    "  \"KC Cancer\" : \"black\",  # Darker shade of \"saddlebrown\"\n",
    " 'KC Granular':'#008941',\n",
    "'KC IFN' : '#7b4f4b',\n",
    " \"KC Dysplastic\": \"#dac0eb\", 'Aneuploid':'grey'\n",
    "}\n",
    "\n",
    "sc.pl.umap(\n",
    "    idata_subset,  # Your AnnData object\n",
    "    color='Level3_Cancer',  # Assuming 'Level3' is the categorical variable you want to color by\n",
    "    palette=kc_color_dict,  # Use your color dictionary\n",
    "    show=True, size=10 # Set to False if you don't want to display the plot immediately\n",
    ")\n",
    "\n",
    "# Optimize layout\n",
    "plt.tight_layout()\n",
    "plt.show()\n"
   ],
   "outputs": [],
   "execution_count": null
  },
  {
   "cell_type": "code",
   "metadata": {},
   "source": [
    "# Check if Level3_Cancer is in idata.obs\n",
    "if 'Level3_final' in idata.obs.columns:\n",
    "    # Subset idata to keep only cells where Level3_Cancer starts with 'KC'\n",
    "    idata_subset = idata[idata.obs['Level3_final'].str.startswith('KC')]\n",
    "else:\n",
    "    raise KeyError(\"Level3_Cancer not found in idata.obs\")\n",
    "# Optional: Reset the index if desired\n",
    "idata_subset = idata_subset.copy()  # Create a copy to avoid SettingWithCopyWarning\n",
    "idata_subset.obs.reset_index(drop=True, inplace=True)\n",
    "\n",
    "\n",
    "# Define color list based on cell types\n",
    "kc_color_dict = {\n",
    "   # \"pDC\"= \"#8A2BE2\",\n",
    "  \"KC Basal\" : \"#FF6A6A\",\n",
    "  \"KC Cornified\" : \"#8B3A62\",\n",
    "  \"KC Differentiating\" : \"#ab82ff\",\n",
    "  \"KC Hair\" : \"#FF0000\",\n",
    "  \"KC Cancer\" : \"black\",  # Darker shade of \"saddlebrown\"\n",
    " 'KC Granular':'#008941',\n",
    "'KC IFN' : '#7b4f4b',\n",
    " \"KC Dysplastic\": \"#dac0eb\", 'Aneuploid':'grey'\n",
    "}\n",
    "\n",
    "sc.pl.umap(\n",
    "    idata_subset,  # Your AnnData object\n",
    "    color='Level3_final',  # Assuming 'Level3' is the categorical variable you want to color by\n",
    "    palette=kc_color_dict,  # Use your color dictionary\n",
    "    show=True, size=10 # Set to False if you don't want to display the plot immediately\n",
    ")\n",
    "\n",
    "# Optimize layout\n",
    "plt.tight_layout()\n",
    "plt.show()\n"
   ],
   "outputs": [],
   "execution_count": null
  },
  {
   "cell_type": "code",
   "metadata": {},
   "source": [
    "sc.pl.umap(idata_subset, color='Aneuploid_combined_clusters', size=10, palette=colors)\n"
   ],
   "outputs": [],
   "execution_count": null
  },
  {
   "cell_type": "code",
   "metadata": {},
   "source": [
    "sc.pl.umap(idata_subset, color='Level3_Cancer', size=10)\n"
   ],
   "outputs": [],
   "execution_count": null
  },
  {
   "cell_type": "code",
   "metadata": {},
   "source": [
    "idata_subset"
   ],
   "outputs": [],
   "execution_count": null
  },
  {
   "cell_type": "code",
   "metadata": {},
   "source": [
    "with plt.rc_context({\"figure.figsize\": (4, 4), \"figure.dpi\": (300)}):\n",
    "    sc.pl.umap(\n",
    "    idata_subset,  # Your AnnData object\n",
    "    color='sample_ID_corrected',  # Assuming 'Level3' is the categorical variable you want to color by\n",
    "    show=False, size=10 # Set to False if you don't want to display the plot immediately\n",
    ")\n",
    "    plt.savefig(\"/scratch/project/stseq/Prakrithi/skin_atlas/reanalysis_figs/scc/KC_samples.pdf\", bbox_inches=\"tight\")\n"
   ],
   "outputs": [],
   "execution_count": null
  },
  {
   "cell_type": "code",
   "metadata": {},
   "source": [
    "idata_subset.write('/QRISdata/Q4386/skin_atlas/SCC_BCC/SCC_KC_only_final_object_21Nov.h5ad')\n"
   ],
   "outputs": [],
   "execution_count": null
  },
  {
   "cell_type": "code",
   "metadata": {},
   "source": [
    "idata_subset.write('SCC_KC_only_final_object_21Nov.h5ad')\n"
   ],
   "outputs": [],
   "execution_count": null
  },
  {
   "cell_type": "code",
   "metadata": {},
   "source": [
    "#idata_subset.obs.index=idata_subset.obs['BC']\n",
    "idata_subset.obs"
   ],
   "outputs": [],
   "execution_count": null
  },
  {
   "cell_type": "code",
   "metadata": {},
   "source": [
    "# Step 1: Temporarily convert 'Level2_Cancer' in both adata and cancer to string to avoid category mismatches\n",
    "adata.obs['Level2_Cancer'] = adata.obs['Level2_Final'].astype(str)\n",
    "cancer.obs['Level2_Cancer'] = cancer.obs['Level2_Cancer'].astype(str)\n",
    "\n",
    "# Step 2: Get the intersection of indices between adata and cancer, and update only matching cells\n",
    "matching_indices = adata.obs.index.intersection(cancer.obs.index)\n",
    "adata.obs.loc[matching_indices, 'Level2_Cancer'] = cancer.obs.loc[matching_indices, 'Level2_Cancer']\n",
    "\n",
    "# Step 3: Convert 'Level2_Cancer' back to categorical, using the combined categories from both data frames\n",
    "combined_categories = sorted(set(adata.obs['Level2_Cancer']).union(cancer.obs['Level2_Cancer']))\n",
    "adata.obs['Level2_Cancer'] = pd.Categorical(adata.obs['Level2_Cancer'], categories=combined_categories)\n",
    "\n",
    "# Step 4: Plot the UMAP with the updated 'Level2_Cancer' annotations\n",
    "sc.pl.umap(adata, color=[\"Level2_Cancer\"])\n"
   ],
   "outputs": [],
   "execution_count": null
  },
  {
   "cell_type": "code",
   "metadata": {},
   "source": [
    "sc.pl.umap(adata, color='Level3_Cancer', size=10)\n"
   ],
   "outputs": [],
   "execution_count": null
  },
  {
   "cell_type": "code",
   "metadata": {},
   "source": [
    "adata.obs['Level2_Cancer'].unique().tolist()"
   ],
   "outputs": [],
   "execution_count": null
  },
  {
   "cell_type": "code",
   "metadata": {},
   "source": [
    "import pandas as pd\n",
    "\n",
    "# Define the desired order of 'Level3' categories\n",
    "level2_order = [\n",
    "    'Imm_NK',\n",
    "    'Imm_T cell',\n",
    "    'Imm_Treg',\n",
    "    'Imm_LC',\n",
    "    'Imm_DC',\n",
    "    'Imm_Macrophage',\n",
    "    'Melanocytes',\n",
    "    'Endothelial',\n",
    "    'Fibroblast',\n",
    "    'KC Cornified',\n",
    "    'KC Differentiating',\n",
    "    'KC Basal',\n",
    "    'KC Cancer',\n",
    "    'KC Hair',\n",
    "]\n",
    "\n",
    "# Set 'Level3' as a categorical variable with the defined order\n",
    "adata.obs['Level2_Cancer'] = pd.Categorical(\n",
    "    adata.obs['Level2_Cancer'], \n",
    "    categories=level2_order, \n",
    "    ordered=True\n",
    ")\n",
    "\n",
    "# Now plot the dotplot with the custom order\n",
    "sc.pl.dotplot(\n",
    "    adata,\n",
    "    { \"Category1\": ['CTSW','KLRB1','NKG7','GNLY','CD52','CD3E','IL32','FOXP3','CD207','CST3','LYZ','BASP1','CD83','CD74','TYROBP',\n",
    "                   'CD68','AIF1','FCER1G','DCT','MLANA','TYRP1','PMEL','GNG11','IGFBP7','RAMP2','PECAM1','EGFL7','COL1A1','COL1A2','COL6A2',\n",
    "                   'DCN','PLAC9','SBSN','KRT2','DSC1','KRT15','KRT10','KRTDAP','PKP1','KRT14','KRT5','KRT15','IFI27','S100A8','KRT6A']},\n",
    "    standard_scale=\"var\",\n",
    "    color_map=\"Reds\",\n",
    "    groupby=\"Level2_Cancer\", figsize=(18, 6) \n",
    ")\n"
   ],
   "outputs": [],
   "execution_count": null
  },
  {
   "cell_type": "markdown",
   "metadata": {},
   "source": [
    "# level3 colors"
   ]
  },
  {
   "cell_type": "code",
   "metadata": {},
   "source": [
    "import matplotlib.pyplot as plt\n",
    "# Define color list based on cell types\n",
    "level3_color_dict = {\n",
    "    'Endothelial cell':\"#FFA500\", \n",
    "     \"Fibroblast\": \"#458B00\", \n",
    "      \"Imm_DC\" : \"#5F9EA0\",\n",
    "  \"Imm_LC\" : \"#0000CD\",\n",
    "  \"Imm_Macrophage\" : \"#EEEE00\",\n",
    "  \"Imm_NK\": \"#9ACD32\",\n",
    "  \"Imm_T cell\": \"#1874CD\",\n",
    "#  \"Imm_Treg\" : \"#00B2EE\",\n",
    "   # \"pDC\"= \"#8A2BE2\",\n",
    "  \"KC Basal\" : \"#FF6A6A\",\n",
    "  \"KC Cornified\" : \"#8B3A62\",\n",
    "  \"KC Differentiating\" : \"#ab82ff\",\n",
    "  \"KC Hair\" : \"#FF0000\",\n",
    "  \"Melanocyte\" : \"#8B4513\",\n",
    "  \"KC Cancer\" : \"black\",  # Darker shade of \"saddlebrown\"\n",
    "# 'KC Granular':'#008941',\n",
    "'Imm_CD8Tem':'#7a4900',\n",
    "'Imm_Treg':'#8fb0ff',\n",
    "'Imm_CD4Tcm' : '#997d87',\n",
    "'Imm_CX3CR1+ Mono/Mac' : '#5a0007',\n",
    "'Imm_mRegDC' : '#809693',\n",
    "'Imm_CD14+ Mono' : '#6a3a4c',\n",
    "'Imm_CD16- NK' : '#1b4400',\n",
    "'Imm_Plasma' : '#4a3b53',\n",
    "'Imm_LC KI67+' : '#ff2f80',\n",
    "'Imm_CD16+ NK' : '#61615a',\n",
    "'Imm_NKT' : '#ba0900',\n",
    "'Imm_TREM2+ Mac' : '#00c2a0',\n",
    "'Imm_B cell' : '#ffaa92',\n",
    "'Imm_CD169+ Mac': '#000035',\n",
    "'KC IFN' : '#7b4f4b',\n",
    "'Imm_IFN+ Mac' : '#a1c299',\n",
    "'Imm_PD-1+CTLA4+ CD8Tcm' : '#300018',\n",
    "'Imm_PD-1+ CD8Tem' : '#0aa6d8',\n",
    "'Imm_DC1/DC2' : '#00846f', 'fibroblast_0':'#ddefff',\n",
    "'fibroblast_3':'#372101',\n",
    "'fibroblast_2':'#6b7900',\n",
    "'fibroblast_1':'#ff90c9','Endothelial_0':'#3b5dff',\n",
    "'Endothelial_1':'#b903aa',\n",
    "'Endothelial_2':'#d16100',\n",
    "    'Endothelial_3':'#013349',\n",
    "'melanocyte_0':'#a30059',\n",
    "'melanocyte_1':'#4fc601',\n",
    "'melanocyte_2':'#004d43', \"Ambiguous\":\"grey\", \"KC Dysplastic\": \"#dac0eb\"\n",
    "}\n",
    "\n",
    "sc.pl.umap(\n",
    "    adata,  # Your AnnData object\n",
    "    color='Level3_Cancer',  # Assuming 'Level3' is the categorical variable you want to color by\n",
    "    palette=level3_color_dict,  # Use your color dictionary\n",
    "    show=True,  # Set to False if you don't want to display the plot immediately\n",
    ")\n",
    "\n",
    "# Optimize layout\n",
    "plt.tight_layout()\n",
    "plt.show()\n"
   ],
   "outputs": [],
   "execution_count": null
  },
  {
   "cell_type": "code",
   "metadata": {},
   "source": [
    "adata"
   ],
   "outputs": [],
   "execution_count": null
  },
  {
   "cell_type": "code",
   "metadata": {},
   "source": [
    "# Ensure 'Endothelial cell' is a category in Level2_Cancer\n",
    "if 'Endothelial' not in adata.obs['Level2_Cancer'].cat.categories:\n",
    "    adata.obs['Level2_Cancer'] = adata.obs['Level2_Cancer'].cat.add_categories(['Endothelial'])\n",
    "# Set the corresponding 'Level2_Cancer' values to 'Endothelial cell' where 'Level2_Final' is 'Endothelial cell'\n",
    "adata.obs.loc[adata.obs['Level2_Final'] == 'Endothelial', 'Level2_Cancer'] = 'Endothelial'\n",
    "\n",
    "\n",
    "\n",
    "if 'KC Dysplastic' not in adata.obs['Level2_Cancer'].cat.categories:\n",
    "    adata.obs['Level2_Cancer'] = adata.obs['Level2_Cancer'].cat.add_categories(['KC Dysplastic'])\n",
    "# Set the corresponding 'Level2_Cancer' values to 'Endothelial cell' where 'Level2_Final' is 'Endothelial cell'\n",
    "adata.obs.loc[adata.obs['Level2_Final'] == 'KC Dysplastic', 'Level2_Cancer'] = 'KC Dysplastic'\n",
    "\n",
    "if 'KC IFN' not in adata.obs['Level2_Cancer'].cat.categories:\n",
    "    adata.obs['Level2_Cancer'] = adata.obs['Level2_Cancer'].cat.add_categories(['KC IFN'])\n",
    "# Set the corresponding 'Level2_Cancer' values to 'Endothelial cell' where 'Level2_Final' is 'Endothelial cell'\n",
    "adata.obs.loc[adata.obs['Level2_Final'] == 'KC IFN', 'Level2_Cancer'] = 'KC IFN'\n",
    "\n",
    "\n",
    "adata.obs['Level2_Cancer'].unique().tolist()"
   ],
   "outputs": [],
   "execution_count": null
  },
  {
   "cell_type": "code",
   "metadata": {},
   "source": [
    "sc.pl.umap(\n",
    "    adata,  # Your AnnData object\n",
    "    color='Level2_Final',  # Assuming 'Level3' is the categorical variable you want to color by\n",
    "    show=True,  # Set to False if you don't want to display the plot immediately\n",
    ")"
   ],
   "outputs": [],
   "execution_count": null
  },
  {
   "cell_type": "code",
   "metadata": {},
   "source": [
    "sc.pl.umap(\n",
    "    adata,  # Your AnnData object\n",
    "    color=['Level2_Cancer'],  # Assuming 'Level3' is the categorical variable you want to color by\n",
    "    show=True,  # Set to False if you don't want to display the plot immediately\n",
    ")"
   ],
   "outputs": [],
   "execution_count": null
  },
  {
   "cell_type": "code",
   "metadata": {},
   "source": [
    "import matplotlib.pyplot as plt\n",
    "# Define color list based on cell types\n",
    "level3_color_dict = {\n",
    "    'Endothelial':\"#FFA500\", \n",
    "     \"Fibroblast\": \"#458B00\", \n",
    "      \"Imm_DC\" : \"#5F9EA0\",\n",
    "  \"Imm_LC\" : \"#0000CD\",\n",
    "  \"Imm_Macrophage\" : \"#EEEE00\",\n",
    "  \"Imm_NK\": \"#9ACD32\",\n",
    "  \"Imm_T cell\": \"#1874CD\",\n",
    "  \"Imm_Treg\" : \"#00B2EE\",\n",
    "   # \"pDC\"= \"#8A2BE2\",\n",
    "  \"KC Basal\" : \"#FF6A6A\",\n",
    "  \"KC Cornified\" : \"#8B3A62\",\n",
    "  \"KC Differentiating\" : \"#ab82ff\",\n",
    "  \"KC Hair\" : \"#FF0000\",\n",
    "  \"Melanocyte\" : \"#8B4513\",\n",
    "  \"KC Cancer\" : \"black\",  # Darker shade of \"saddlebrown\"\n",
    " 'KC Granular':'#008941',\n",
    "'Imm_CD8Tem':'#7a4900',\n",
    "'Imm_Treg':'#8fb0ff',\n",
    "'Imm_CD4Tcm' : '#997d87',\n",
    "'Imm_CX3CR1+ Mono/Mac' : '#5a0007',\n",
    "'Imm_mRegDC' : '#809693',\n",
    "'Imm_CD14+ Mono' : '#6a3a4c',\n",
    "'Imm_CD16- NK' : '#1b4400',\n",
    "'Imm_Plasma' : '#4a3b53',\n",
    "'Imm_LC KI67+' : '#ff2f80',\n",
    "'Imm_CD16+ NK' : '#61615a',\n",
    "'Imm_NKT' : '#ba0900',\n",
    "'Imm_TREM2+ Mac' : '#00c2a0',\n",
    "'Imm_B cell' : '#ffaa92',\n",
    "'Imm_CD169+ Mac': '#000035',\n",
    "'KC IFN' : '#7b4f4b',\n",
    "\n",
    "}\n",
    "\n",
    "sc.pl.umap(\n",
    "    adata,  # Your AnnData object\n",
    "    color='Level3_Cancer',  # Assuming 'Level3' is the categorical variable you want to color by\n",
    "    palette=level3_color_dict,  # Use your color dictionary\n",
    "    show=True,  # Set to False if you don't want to display the plot immediately\n",
    ")\n",
    "\n",
    "# Optimize layout\n",
    "plt.tight_layout()\n",
    "plt.show()\n"
   ],
   "outputs": [],
   "execution_count": null
  },
  {
   "cell_type": "code",
   "metadata": {},
   "source": [
    "# Ensure that the indices are aligned and add the column from `adata` to `idata`\n",
    "idata.obs['KC_cancer_2CNV_mod0.5'] = adata.obs['KC_cancer_2CNV_mod0.5'].reindex(idata.obs.index)\n",
    "\n",
    "# Define the color map\n",
    "cancer_colors = {\n",
    "    'Cancer': 'red',\n",
    "    'none': 'lightgrey'\n",
    "}\n",
    "\n",
    "# Map the colors to the combined clusters\n",
    "idata.obs['KC_cancer_2CNV_mod0.5_color'] = idata.obs['KC_cancer_2CNV_mod0.5'].map(colors)\n",
    "\n",
    "# Plot the UMAP with reduced spot size and custom colors\n",
    "sc.pl.umap(idata, color='KC_cancer_2CNV_mod0.5', size=10, palette=cancer_colors)\n"
   ],
   "outputs": [],
   "execution_count": null
  },
  {
   "cell_type": "code",
   "metadata": {},
   "source": [
    "# Specify the columns you want to remove\n",
    "columns_to_remove = ['2CNV_mod0.5', 'KC_cancer_2CNV_mod0.5', 'KC_cancer_2CNV_mod0.5_color']\n",
    "\n",
    "# Remove the specified columns from idata_subset.obs\n",
    "idata_subset.obs.drop(columns=columns_to_remove, inplace=True)\n"
   ],
   "outputs": [],
   "execution_count": null
  },
  {
   "cell_type": "code",
   "metadata": {},
   "source": [
    "sc.pl.umap(idata_subset, color='KC_cancer_2CNV_mod0.5', size=10, palette=cancer_colors)\n"
   ],
   "outputs": [],
   "execution_count": null
  },
  {
   "cell_type": "code",
   "metadata": {},
   "source": [
    "\n",
    "sc.pl.umap(idata_subset, color='Aneuploid_combined_clusters', size=10, palette=colors)\n"
   ],
   "outputs": [],
   "execution_count": null
  },
  {
   "cell_type": "code",
   "metadata": {},
   "source": [
    "sc.pl.umap(adata, color='KC_cancer_2CNV_mod0.5', title='KC Cancer 2CNV+mod0.5', size=10)\n"
   ],
   "outputs": [],
   "execution_count": null
  },
  {
   "cell_type": "code",
   "metadata": {},
   "source": [
    "adata.write('SCC_final_object_31Oct.h5ad')\n",
    "idata_subset.write('SCC_final_object_31Oct_KCs.h5ad')\n",
    "adata.obs.to_csv('SCC_final_object_31Oct_metadata.txt',sep=\"\\t\")"
   ],
   "outputs": [],
   "execution_count": null
  },
  {
   "cell_type": "code",
   "metadata": {},
   "source": [
    "# Add 'Monocytes' to the categories in Level2_Cancer\n",
    "#adata.obs['Level2_Cancer'] = adata.obs['Level2_Cancer'].cat.add_categories('Monocytes')\n",
    "#adata.obs.loc[adata.obs['Level3_Cancer'] == 'Imm_CD14+ Mono', 'Level2_Cancer'] = 'Monocytes'\n",
    "# Check if 'Level2' is categorical, and if so, add 'KC Dysplastic' as a category\n",
    "#if adata.obs['Level2_Cancer'].dtype.name == 'category':\n",
    "#    adata.obs['Level2_Cancer'] = adata.obs['Level2_Cancer'].cat.add_categories('KC Dysplastic')\n",
    "#adata.obs.loc[adata.obs['Level3_Cancer'] == 'KC Dysplastic', 'Level2_Cancer'] = 'KC Dysplastic'\n",
    "#adata.obs.loc[adata.obs['Level3_Cancer'] == 'Imm_CX3CR1+ Mono/Mac', 'Level2_Cancer'] = 'Imm_Macrophage'\n",
    "# Add the new category 'Imm_Plasma' to Level2_Cancer if it doesn't already exist\n",
    "if 'Imm_Plasma' not in adata.obs['Level2_Cancer'].cat.categories:\n",
    "    adata.obs['Level2_Cancer'] = adata.obs['Level2_Cancer'].cat.add_categories(['Imm_Plasma'])\n",
    "# Now set Level2_Cancer to 'Imm_Plasma' where Level3_Cancer is 'Imm_Plasma'\n",
    "adata.obs.loc[adata.obs['Level3_Cancer'] == 'Imm_Plasma', 'Level2_Cancer'] = 'Imm_Plasma'\n",
    "\n",
    "sc.pl.umap(\n",
    "    adata,  # Your AnnData object\n",
    "    color=['Level2_Cancer','Level3_Cancer'],  # Assuming 'Level3' is the categorical variable you want to color by\n",
    "    show=True,  # Set to False if you don't want to display the plot immediately\n",
    ")"
   ],
   "outputs": [],
   "execution_count": null
  },
  {
   "cell_type": "code",
   "metadata": {},
   "source": [
    "# Group by Level1, Level2, and Level3 and count occurrences\n",
    "tally = adata.obs.groupby(['Level2_Cancer', 'Level3_Cancer']).size().reset_index(name='count')\n",
    "\n",
    "# Filter to keep only counts greater than 0\n",
    "tally_positive = tally[tally['count'] > 0]\n",
    "\n",
    "# Display the tally with counts greater than 0\n",
    "print(tally_positive)\n"
   ],
   "outputs": [],
   "execution_count": null
  },
  {
   "cell_type": "code",
   "metadata": {},
   "source": [
    "adata"
   ],
   "outputs": [],
   "execution_count": null
  },
  {
   "cell_type": "code",
   "metadata": {},
   "source": [
    "# Final Level2 colors"
   ],
   "outputs": [],
   "execution_count": null
  },
  {
   "cell_type": "code",
   "metadata": {},
   "source": [
    "adata.obs['Level2_Cancer'].unique().tolist()"
   ],
   "outputs": [],
   "execution_count": null
  },
  {
   "cell_type": "code",
   "metadata": {},
   "source": [
    "import matplotlib.pyplot as plt\n",
    "# Define color list based on cell types\n",
    "# Update Level2_Cancer where Level3_Cancer is Imm_Treg\n",
    "adata.obs.loc[adata.obs['Level3_Cancer'] == 'Imm_Treg', 'Level2_Cancer'] = 'Imm_T cell'\n",
    "\n",
    "\n",
    "level2_color_dict = {\n",
    "    'Endothelial':\"#FFA500\", \n",
    "     \"Fibroblast\": \"#458B00\", \n",
    "      \"Imm_DC\" : \"#5F9EA0\",\n",
    "  \"Imm_LC\" : \"#0000CD\",\n",
    "  \"Imm_Macrophage\" : \"#EEEE00\",\n",
    "  \"Imm_NK\": \"#9ACD32\",\n",
    "  \"Imm_T cell\": \"#1874CD\",\n",
    "  \"KC Basal\" : \"#FF6A6A\",\n",
    "  \"KC Cornified\" : \"#8B3A62\",\n",
    "  \"KC Differentiating\" : \"#ab82ff\",\n",
    "  \"KC Hair\" : \"#FF0000\",\n",
    "  \"Melanocytes\" : \"#8B4513\",\n",
    "  \"KC Cancer\" : \"black\",  # Darker shade of \"saddlebrown\"\n",
    " 'KC Granular':'#008941',\n",
    "'Imm_Plasma' : '#4a3b53',\n",
    "'Imm_B cell' : '#ffaa92',\n",
    "'KC IFN' : '#7b4f4b', \"Imm_Treg\" : \"#00B2EE\",\"Monocytes\":\"#6a3a4c\",\"KC Dysplastic\": \"#dac0eb\",\"Ambiguous\":\"grey\"\n",
    "\n",
    "}\n",
    "\n",
    "sc.pl.umap(\n",
    "    adata,  # Your AnnData object\n",
    "    color='Level2_Cancer',  # Assuming 'Level3' is the categorical variable you want to color by\n",
    "    palette=level2_color_dict,  # Use your color dictionary\n",
    "    show=True,  # Set to False if you don't want to display the plot immediately\n",
    ")\n",
    "\n",
    "# Optimize layout\n",
    "plt.tight_layout()\n",
    "plt.show()\n"
   ],
   "outputs": [],
   "execution_count": null
  },
  {
   "cell_type": "code",
   "metadata": {},
   "source": [
    "sc.pl.umap(\n",
    "    adata,  # Your AnnData object\n",
    "    color=['Level1_Final'],  # Assuming 'Level3' is the categorical variable you want to color by\n",
    "    show=True,  # Set to False if you don't want to display the plot immediately\n",
    ")"
   ],
   "outputs": [],
   "execution_count": null
  },
  {
   "cell_type": "code",
   "metadata": {},
   "source": [
    "sc.pl.umap(\n",
    "    adata,  # Your AnnData object\n",
    "    color=['Level1_Final','Level2_Cancer','Level3_Cancer'],  # Assuming 'Level3' is the categorical variable you want to color by\n",
    "    show=True,  # Set to False if you don't want to display the plot immediately\n",
    ")"
   ],
   "outputs": [],
   "execution_count": null
  },
  {
   "cell_type": "code",
   "metadata": {},
   "source": [
    "# Replace NaN values in Level2_Cancer with \"Ambiguous\"\n",
    "# Add \"Ambiguous\" as a category to Level2_Cancer\n",
    "#adata.obs['Level2_Cancer'] = adata.obs['Level2_Cancer'].cat.add_categories(\"Ambiguous\")\n",
    "# Replace NaN values in Level2_Cancer with \"Ambiguous\"\n",
    "#adata.obs['Level2_Cancer'] = adata.obs['Level2_Cancer'].fillna(\"Ambiguous\n",
    "if 'Imm_B cell' not in adata.obs['Level2_Cancer'].cat.categories:\n",
    "    adata.obs['Level2_Cancer'] = adata.obs['Level2_Cancer'].cat.add_categories(['Imm_B cell'])\n",
    "\n",
    "if 'KC IFN' not in adata.obs['Level2_Cancer'].cat.categories:\n",
    "    adata.obs['Level2_Cancer'] = adata.obs['Level2_Cancer'].cat.add_categories(['KC IFN'])\n",
    "\n",
    "adata.obs.loc[adata.obs['Level3_Cancer'] == 'Imm_B cell', 'Level2_Cancer'] = 'Imm_B cell'\n",
    "adata.obs.loc[adata.obs['Level3_Cancer'] == 'KC Cancer', 'Level2_Cancer'] = 'KC Cancer'\n",
    "adata.obs.loc[adata.obs['Level3_Cancer'] == 'KC IFN', 'Level2_Cancer'] = 'KC IFN'\n",
    "\n",
    "# Group by Level1, Level2, and Level3 and count occurrences\n",
    "tally = adata.obs.groupby(['Level1_Final', 'Level2_Cancer', 'Level3_Cancer']).size().reset_index(name='count')\n",
    "# Filter to keep only counts greater than 0\n",
    "tally_positive = tally[tally['count'] > 0]\n",
    "# Display the tally with counts greater than 0\n",
    "print(tally_positive)\n"
   ],
   "outputs": [],
   "execution_count": null
  },
  {
   "cell_type": "code",
   "metadata": {},
   "source": [
    "#adata.obs[adata.obs['Level1_Final'] == 'Ambiguous']\n",
    "# Filter columns that start with 'Level'\n",
    "level_columns = [col for col in adata.obs.columns if col.startswith('Level')]\n",
    "\n",
    "# Display rows where 'Level1_Final' is 'Ambiguous' and only the selected columns\n",
    "adata.obs.loc[adata.obs['Level1_Final'] == 'Ambiguous', level_columns]\n"
   ],
   "outputs": [],
   "execution_count": null
  },
  {
   "cell_type": "code",
   "metadata": {},
   "source": [
    "\n",
    "# Remove specified columns from adata.obs\n",
    "#obs_to_remove = ['Level3_final', 'Level2_Final']\n",
    "#adata.obs = adata.obs.drop(columns=obs_to_remove)\n",
    "\n",
    "# Remove specified keys from adata.uns\n",
    "uns_to_remove = ['Level1_unnamed_colors', 'Level3_final_colors', 'Level2_Final_colors']\n",
    "for key in uns_to_remove:\n",
    "    if key in adata.uns:\n",
    "        del adata.uns[key]\n",
    "\n",
    "\n",
    "adata"
   ],
   "outputs": [],
   "execution_count": null
  },
  {
   "cell_type": "code",
   "metadata": {},
   "source": [
    "adata.write('SCC_final_object_Nov1.h5ad')\n",
    "#idata_subset.write('SCC_final_object_Nov1_KCs.h5ad')\n",
    "adata.obs.to_csv('SCC_final_object_Nov1_metadata.txt',sep=\"\\t\")"
   ],
   "outputs": [],
   "execution_count": null
  },
  {
   "cell_type": "code",
   "metadata": {},
   "source": [
    "cell_cycle_genes = [x.strip() for x in open('data/regev_lab_cell_cycle_genes.txt')]\n",
    "s_genes = cell_cycle_genes[:43]\n",
    "g2m_genes = cell_cycle_genes[43:]\n",
    "cell_cycle_genes = [x for x in cell_cycle_genes if x in idata.var_names]"
   ],
   "outputs": [],
   "execution_count": null
  },
  {
   "cell_type": "code",
   "metadata": {},
   "source": [
    "sc.tl.score_genes_cell_cycle(idata, s_genes=s_genes, g2m_genes=g2m_genes)\n",
    "\n",
    "sc.pl.umap(\n",
    "    idata,\n",
    "    color=\"phase\",\n",
    "    color_map=cmp(),\n",
    ")"
   ],
   "outputs": [],
   "execution_count": null
  },
  {
   "cell_type": "code",
   "metadata": {},
   "source": [
    "\n",
    "sc.pl.umap(\n",
    "    idata,\n",
    "    color=\"phase\",\n",
    ")"
   ],
   "outputs": [],
   "execution_count": null
  },
  {
   "cell_type": "code",
   "metadata": {},
   "source": [
    "sc.pl.umap(idata, color=['sample_ID_corrected'], ncols=3)"
   ],
   "outputs": [],
   "execution_count": null
  },
  {
   "cell_type": "code",
   "metadata": {},
   "source": [
    "# Group by 'cancer' and 'sample_ID_corrected', then count the values\n",
    "grouped_counts = idata.obs.groupby(['cancer', 'sample_ID_corrected']).size()\n",
    "\n",
    "# Convert the result to a DataFrame for easier viewing if needed\n",
    "grouped_counts = grouped_counts.reset_index(name='count')\n",
    "\n",
    "# Display the grouped counts\n",
    "print(grouped_counts)"
   ],
   "outputs": [],
   "execution_count": null
  },
  {
   "cell_type": "markdown",
   "metadata": {},
   "source": [
    "# IEC vs SCC"
   ]
  },
  {
   "cell_type": "code",
   "metadata": {},
   "source": [
    "adata=idata.copy()"
   ],
   "outputs": [],
   "execution_count": null
  },
  {
   "cell_type": "code",
   "metadata": {},
   "source": [
    "# Check the distribution of cell types across diagnoses\n",
    "cell_type_distribution = adata.obs.groupby(['diagnosis_corrected', 'cell_type_PP']).size()\n",
    "print(cell_type_distribution)\n"
   ],
   "outputs": [],
   "execution_count": null
  },
  {
   "cell_type": "code",
   "metadata": {},
   "source": [
    "# Filter for IEC and SCC diagnoses\n",
    "filtered_adata = adata[adata.obs['diagnosis_corrected'].isin(['IEC', 'SCC']), :]\n",
    "\n",
    "# Check the filtered data shape\n",
    "print(\"Filtered data shape:\", filtered_adata.shape)\n",
    "\n",
    "# Verify available cell types in the filtered data\n",
    "print(\"Available cell types in filtered data:\", filtered_adata.obs['cell_type_PP'].unique())\n"
   ],
   "outputs": [],
   "execution_count": null
  },
  {
   "cell_type": "code",
   "metadata": {},
   "source": [
    "import pandas as pd\n",
    "import numpy as np\n",
    "import scanpy as sc\n",
    "\n",
    "# Assuming adata is your AnnData object and you have the necessary parameters defined\n",
    "# For example, run differential expression analysis for \"KC Basal\"\n",
    "cell_type = \"KC Basal\"\n",
    "\n",
    "# Example code for running differential expression analysis\n",
    "# Replace with your actual parameters and method if different\n",
    "sc.tl.rank_genes_groups(adata, groupby='cell_type_PP', groups=[cell_type], method='t-test')\n",
    "\n",
    "# Retrieve results\n",
    "results = adata.uns['rank_genes_groups']\n",
    "\n",
    "# Create a DataFrame from the results\n",
    "specific_results = pd.DataFrame({\n",
    "    'gene': results['names'][cell_type],\n",
    "    'logfoldchanges': results['logfoldchanges'][cell_type],\n",
    "    'pvals': results['pvals'][cell_type],\n",
    "    'pvals_adj': results['pvals_adj'][cell_type],\n",
    "    'cell_type': cell_type  # Assign the cell type directly\n",
    "})\n",
    "\n",
    "# Step 1: Remove rows where cell_type_PP is NA\n",
    "specific_results = specific_results.dropna(subset=['cell_type'])\n",
    "\n",
    "# Step 2: Convert structured arrays to regular DataFrame columns\n",
    "specific_results['logfoldchanges_IEC'] = specific_results['logfoldchanges'].apply(lambda x: x[0] if isinstance(x, np.ndarray) else x)\n",
    "specific_results['logfoldchanges_SCC'] = specific_results['logfoldchanges'].apply(lambda x: x[1] if isinstance(x, np.ndarray) else x)\n",
    "specific_results['pvals_IEC'] = specific_results['pvals'].apply(lambda x: x[0] if isinstance(x, np.ndarray) else x)\n",
    "specific_results['pvals_SCC'] = specific_results['pvals'].apply(lambda x: x[1] if isinstance(x, np.ndarray) else x)\n",
    "specific_results['pvals_adj_IEC'] = specific_results['pvals_adj'].apply(lambda x: x[0] if isinstance(x, np.ndarray) else x)\n",
    "specific_results['pvals_adj_SCC'] = specific_results['pvals_adj'].apply(lambda x: x[1] if isinstance(x, np.ndarray) else x)\n",
    "\n",
    "# Step 3: Drop the original structured array columns\n",
    "specific_results = specific_results.drop(columns=['logfoldchanges', 'pvals', 'pvals_adj'])\n",
    "\n",
    "# Optional: Reset the index if needed\n",
    "specific_results.reset_index(drop=True, inplace=True)\n",
    "\n",
    "# Check data types\n",
    "print(specific_results.dtypes)\n",
    "\n",
    "# Print the modified DataFrame\n",
    "print(specific_results)\n"
   ],
   "outputs": [],
   "execution_count": null
  },
  {
   "cell_type": "code",
   "metadata": {},
   "source": [
    "import scanpy as sc\n",
    "import pandas as pd\n",
    "\n",
    "# Assuming specific_results is a DataFrame with columns like 'gene', 'pvals_adj_IEC', and 'pvals_adj_SCC'\n",
    "# Replace this with your actual specific_results data\n",
    "# For example:\n",
    "# specific_results = pd.DataFrame({\n",
    "#     'gene': ['Gene1', 'Gene2', 'Gene3', ...],\n",
    "#     'pvals_adj_IEC': [...],\n",
    "#     'pvals_adj_SCC': [...],\n",
    "#     'logfoldchanges_IEC': [...],\n",
    "#     'logfoldchanges_SCC': [...],\n",
    "# })\n",
    "\n",
    "# Extract top genes for IEC based on adjusted p-values\n",
    "top_genes_IEC = specific_results.nsmallest(10, 'pvals_adj_IEC')['gene'].tolist()\n",
    "\n",
    "# Extract top genes for SCC based on adjusted p-values\n",
    "top_genes_SCC = specific_results.nsmallest(10, 'pvals_adj_SCC')['gene'].tolist()\n",
    "\n",
    "# Prepare the gene list for the dot plot\n",
    "genes_to_plot = {\n",
    "    \"IEC\": top_genes_IEC,\n",
    "    \"SCC\": top_genes_SCC,\n",
    "}\n",
    "\n",
    "# Create the dot plot\n",
    "sc.pl.dotplot(\n",
    "    adata,  # Your AnnData object\n",
    "    genes_to_plot,\n",
    "    standard_scale=\"var\",  # Scale the genes across the specified axis\n",
    "    color_map=\"Blues\",     # Choose a color map for visualization\n",
    "    groupby=\"cell_type_PP\"  # Use the correct grouping for your analysis\n",
    ")\n"
   ],
   "outputs": [],
   "execution_count": null
  },
  {
   "cell_type": "code",
   "metadata": {},
   "source": [
    "idata\n",
    "print(idata.n_obs, idata.n_vars)\n",
    "del idata.raw #.to_adata()\n"
   ],
   "outputs": [],
   "execution_count": null
  },
  {
   "cell_type": "code",
   "metadata": {},
   "source": [
    "idata.obs['cell_type_PP'].unique()"
   ],
   "outputs": [],
   "execution_count": null
  },
  {
   "cell_type": "code",
   "metadata": {},
   "source": [
    "mito_genes = idata.var_names.str.startswith('MT-')\n",
    "ribo = idata.var_names.str.startswith((\"RPS\", \"RPL\"))\n",
    "\n",
    "remove = np.add(mito_genes, ribo)\n",
    "keep = np.invert(remove)\n",
    "\n",
    "adata = idata[:,keep]\n",
    "\n",
    "print(adata.n_obs, adata.n_vars)"
   ],
   "outputs": [],
   "execution_count": null
  },
  {
   "cell_type": "code",
   "metadata": {},
   "source": [
    "idata = idata[idata.obs['diagnosis_corrected'].isin([\"IEC\", \"SCC\"])].copy()"
   ],
   "outputs": [],
   "execution_count": null
  },
  {
   "cell_type": "code",
   "metadata": {},
   "source": [
    "# adata_KC_Basal = idata[idata.obs['cell_type_PP'] == \"KC Basal\"].copy()\n",
    "adata_KC_Basal = idata[idata.obs['cell_type_PP'] == \"KC Basal\"].copy()\n",
    "sc.tl.rank_genes_groups(adata_KC_Basal, 'diagnosis_corrected', method='wilcoxon', n_genes=200)\n",
    "sc.tl.filter_rank_genes_groups(adata_KC_Basal)\n",
    "rcParams['figure.figsize'] = 4,4\n",
    "rcParams['axes.grid'] = True\n",
    "#sc.pl.rank_genes_groups(adata_KC_Basal, key='rank_genes_groups_filtered', ncols=3)\n",
    "\n",
    "axs = sc.pl.rank_genes_groups_dotplot(adata_KC_Basal, n_genes=20, groups=['IEC', 'SCC'])\n"
   ],
   "outputs": [],
   "execution_count": null
  },
  {
   "cell_type": "code",
   "metadata": {},
   "source": [
    "print(\"IEC: \",adata_KC_Basal.uns['rank_genes_groups']['names']['IEC'].tolist()[:100])\n",
    "print(\"SCC: \",adata_KC_Basal.uns['rank_genes_groups']['names']['SCC'].tolist()[:100])"
   ],
   "outputs": [],
   "execution_count": null
  },
  {
   "cell_type": "code",
   "metadata": {},
   "source": [
    "# adata_KC_Basal = idata[idata.obs['cell_type_PP'] == \"KC Basal\"].copy()\n",
    "from matplotlib import rcParams\n",
    "adata_KC_Diff = idata[idata.obs['cell_type_PP'] == \"KC Differentiating\"].copy()\n",
    "sc.tl.rank_genes_groups(adata_KC_Diff, 'diagnosis_corrected', method='wilcoxon', n_genes=200)\n",
    "sc.tl.filter_rank_genes_groups(adata_KC_Diff)\n",
    "rcParams['figure.figsize'] = 4,4\n",
    "rcParams['axes.grid'] = True\n",
    "#sc.pl.rank_genes_groups(adata_KC_Basal, key='rank_genes_groups_filtered', ncols=3)\n",
    "\n",
    "axs = sc.pl.rank_genes_groups_dotplot(adata_KC_Diff, n_genes=20, groups=['IEC', 'SCC'])\n"
   ],
   "outputs": [],
   "execution_count": null
  },
  {
   "cell_type": "code",
   "metadata": {},
   "source": [
    "print(\"IEC: \",adata_KC_Diff.uns['rank_genes_groups']['names']['IEC'].tolist()[:100])\n",
    "print(\"SCC: \",adata_KC_Diff.uns['rank_genes_groups']['names']['SCC'].tolist()[:100])"
   ],
   "outputs": [],
   "execution_count": null
  },
  {
   "cell_type": "code",
   "metadata": {},
   "source": [
    "# (adata_KC_Basal.var_names.str.startswith('MT-')).sum()\n",
    "# sc.tl.filter_rank_genes_groups(adata_KC_Basal)\n",
    "# adata_KC_Basal.uns[\"rank_genes_groups_filtered\"][\"names\"]\n",
    "sc.get.rank_genes_groups_df(adata_KC_Basal, group='SCC')"
   ],
   "outputs": [],
   "execution_count": null
  },
  {
   "cell_type": "code",
   "metadata": {},
   "source": [
    "# adata_KC_Basal = idata[idata.obs['cell_type_PP'] == \"KC Basal\"].copy()\n",
    "adata_KC_cornified = idata[idata.obs['cell_type_PP'] == \"KC Cornified\"].copy()\n",
    "sc.tl.rank_genes_groups(adata_KC_cornified, 'diagnosis_corrected', method='wilcoxon', n_genes=200)\n",
    "sc.tl.filter_rank_genes_groups(adata_KC_cornified)\n",
    "rcParams['figure.figsize'] = 4,4\n",
    "rcParams['axes.grid'] = True\n",
    "#sc.pl.rank_genes_groups(adata_KC_Basal, key='rank_genes_groups_filtered', ncols=3)\n",
    "\n",
    "axs = sc.pl.rank_genes_groups_dotplot(adata_KC_cornified, n_genes=20, groups=['IEC', 'SCC'])\n"
   ],
   "outputs": [],
   "execution_count": null
  },
  {
   "cell_type": "code",
   "metadata": {},
   "source": [
    "print(\"IEC: \",adata_KC_cornified.uns['rank_genes_groups']['names']['IEC'].tolist()[:100])\n",
    "print(\"SCC: \",adata_KC_cornified.uns['rank_genes_groups']['names']['SCC'].tolist()[:100])"
   ],
   "outputs": [],
   "execution_count": null
  },
  {
   "cell_type": "code",
   "metadata": {},
   "source": [],
   "outputs": [],
   "execution_count": null
  },
  {
   "cell_type": "code",
   "metadata": {},
   "source": [
    "# adata_KC_Basal = idata[idata.obs['cell_type_PP'] == \"KC Basal\"].copy()\n",
    "adata_KC_hair= idata[idata.obs['cell_type_PP'] == \"KC Hair\"].copy()\n",
    "sc.tl.rank_genes_groups(adata_KC_hair, 'diagnosis_corrected', method='wilcoxon', n_genes=200)\n",
    "sc.tl.filter_rank_genes_groups(adata_KC_hair)\n",
    "rcParams['figure.figsize'] = 4,4\n",
    "rcParams['axes.grid'] = True\n",
    "axs = sc.pl.rank_genes_groups_dotplot(adata_KC_hair, n_genes=20, groups=['IEC', 'SCC'])\n"
   ],
   "outputs": [],
   "execution_count": null
  },
  {
   "cell_type": "code",
   "metadata": {},
   "source": [
    "print(\"IEC: \",adata_KC_hair.uns['rank_genes_groups']['names']['IEC'].tolist()[:100])\n",
    "print(\"SCC: \",adata_KC_hair.uns['rank_genes_groups']['names']['SCC'].tolist()[:100])"
   ],
   "outputs": [],
   "execution_count": null
  },
  {
   "cell_type": "code",
   "metadata": {},
   "source": [
    "# adata_KC_Basal = idata[idata.obs['cell_type_PP'] == \"KC Basal\"].copy()\n",
    "adata_KC_cancer= idata[idata.obs['Level2_Cancer'] == \"KC Cancer\"].copy()\n",
    "sc.tl.rank_genes_groups(adata_KC_cancer, 'diagnosis_corrected', method='wilcoxon', n_genes=200)\n",
    "sc.tl.filter_rank_genes_groups(adata_KC_cancer)\n",
    "rcParams['figure.figsize'] = 4,4\n",
    "rcParams['axes.grid'] = True\n",
    "axs = sc.pl.rank_genes_groups_dotplot(adata_KC_cancer, n_genes=20, groups=['IEC', 'SCC'])\n"
   ],
   "outputs": [],
   "execution_count": null
  },
  {
   "cell_type": "code",
   "metadata": {
    "scrolled": true
   },
   "source": [
    "print(\"IEC: \",adata_KC_cancer.uns['rank_genes_groups']['names']['IEC'].tolist()[:100])\n",
    "print(\"SCC: \",adata_KC_cancer.uns['rank_genes_groups']['names']['SCC'].tolist()[:100])"
   ],
   "outputs": [],
   "execution_count": null
  },
  {
   "cell_type": "code",
   "metadata": {},
   "source": [
    "# Prepare the genes for the dot plot\n",
    "IEC_Cancer = adata_KC_cancer.uns['rank_genes_groups']['names']['IEC'].tolist()[:5]\n",
    "SCC_Cancer = adata_KC_cancer.uns['rank_genes_groups']['names']['SCC'].tolist()[:5]\n",
    "IEC_Basal = adata_KC_Basal.uns['rank_genes_groups']['names']['IEC'].tolist()[:5]\n",
    "SCC_Basal = adata_KC_Basal.uns['rank_genes_groups']['names']['SCC'].tolist()[:5]\n",
    "IEC_corn = adata_KC_cornified.uns['rank_genes_groups']['names']['IEC'].tolist()[:5]\n",
    "SCC_corn = adata_KC_cornified.uns['rank_genes_groups']['names']['SCC'].tolist()[:5]\n",
    "IEC_diff = adata_KC_Diff.uns['rank_genes_groups']['names']['IEC'].tolist()[:5]\n",
    "SCC_diff = adata_KC_Diff.uns['rank_genes_groups']['names']['SCC'].tolist()[:5]\n",
    "IEC_hair = adata_KC_hair.uns['rank_genes_groups']['names']['IEC'].tolist()[:5]\n",
    "SCC_hair = adata_KC_hair.uns['rank_genes_groups']['names']['SCC'].tolist()[:5]\n",
    "\n",
    "\n",
    "adata_KC_cornified\n",
    "\n",
    "# Create a dot plot\n",
    "sc.pl.dotplot(\n",
    "    idata,\n",
    "    {\n",
    "        \"Cancer\": IEC_Cancer + SCC_Cancer,  # Combine IEC and SCC genes for the 'Cancer' category\n",
    "        \"Basal\":IEC_Basal+SCC_Basal,\n",
    "        \"Differentiating\":IEC_diff+SCC_diff, \"Cornified\":IEC_corn+SCC_corn,\"Hair\":IEC_hair+SCC_hair\n",
    "    },\n",
    "    groupby='diagnosis_corrected',\n",
    "    show=True\n",
    ")\n"
   ],
   "outputs": [],
   "execution_count": null
  },
  {
   "cell_type": "code",
   "metadata": {},
   "source": [
    "import scanpy as sc\n",
    "from matplotlib import rcParams\n",
    "\n",
    "# Assume `idata` is your AnnData object containing all cell types\n",
    "\n",
    "# Get unique cell types\n",
    "cell_types = idata.obs['cell_type_PP'].unique()\n",
    "\n",
    "# Dictionary to store results\n",
    "results = {}\n",
    "\n",
    "# Loop through each cell type and perform DE analysis\n",
    "for cell_type in cell_types:\n",
    "    print(f'Analyzing cell type: {cell_type}')\n",
    "    \n",
    "    # Subset the data for the current cell type\n",
    "    adata_subset = idata[idata.obs['cell_type_PP'] == cell_type].copy()\n",
    "    \n",
    "    # Check if we have enough cells for the analysis\n",
    "    if adata_subset.n_obs > 0:\n",
    "        # Run differential expression analysis for IEC vs SCC\n",
    "        sc.tl.rank_genes_groups(adata_subset, groupby='diagnosis_corrected', method='wilcoxon', groups=['IEC', 'SCC'], n_genes=200)\n",
    "\n",
    "        # Store results for the current cell type\n",
    "        results[cell_type] = adata_subset.uns['rank_genes_groups']\n",
    "\n",
    "# Example: Print top genes for each cell type\n",
    "for cell_type, result in results.items():\n",
    "    top_genes_IEC = result['names']['IEC'][:5]  # Top 5 genes for IEC\n",
    "    top_genes_SCC = result['names']['SCC'][:5]  # Top 5 genes for SCC\n",
    "    print(f'Top genes for {cell_type} - IEC: {top_genes_IEC}, SCC: {top_genes_SCC}')\n",
    "\n",
    "# Optional: Create dot plots for the top genes of each cell type\n",
    "for cell_type in results.keys():\n",
    "    # Flatten the lists of top genes for IEC and SCC\n",
    "    top_genes = list(top_genes_IEC) + list(top_genes_SCC)  # Combine top genes into a single list\n",
    "    \n",
    "    sc.pl.dotplot(\n",
    "        idata,\n",
    "        var_names=top_genes,  # Pass the flattened list of genes\n",
    "        groupby='diagnosis_corrected',\n",
    "        show=True\n",
    "    )\n"
   ],
   "outputs": [],
   "execution_count": null
  },
  {
   "cell_type": "code",
   "metadata": {},
   "source": [],
   "outputs": [],
   "execution_count": null
  },
  {
   "cell_type": "code",
   "metadata": {},
   "source": [],
   "outputs": [],
   "execution_count": null
  },
  {
   "cell_type": "code",
   "metadata": {
    "scrolled": true
   },
   "source": [
    "sc.tl.rank_genes_groups(adata_KC_Basal, 'diagnosis_corrected', method='wilcoxon', groups =['SCC'], reference='IEC')\n",
    "sc.pl.rank_genes_groups(adata_KC_Basal, groups =['SCC'], n_genes=20)\n",
    "adata_KC_Basal.uns['rank_genes_groups']['names']['SCC'].tolist()"
   ],
   "outputs": [],
   "execution_count": null
  },
  {
   "cell_type": "code",
   "metadata": {},
   "source": [],
   "outputs": [],
   "execution_count": null
  },
  {
   "cell_type": "code",
   "metadata": {},
   "source": [],
   "outputs": [],
   "execution_count": null
  },
  {
   "cell_type": "markdown",
   "metadata": {},
   "source": [
    "# <a id='section3'></a> Prep Whole objectFor label transfer"
   ]
  },
  {
   "cell_type": "code",
   "metadata": {},
   "source": [
    "scc=anndata.read(\"/QRISdata/Q2051/SCC_Paper/resources/data/frozen_objects_Nov2024_PP/old_versions/SCC_final_object_Nov4.h5ad\")"
   ],
   "outputs": [],
   "execution_count": null
  },
  {
   "cell_type": "code",
   "metadata": {},
   "source": [
    "scc.obs['Level2'].unique().to_list()"
   ],
   "outputs": [],
   "execution_count": null
  },
  {
   "cell_type": "code",
   "metadata": {},
   "source": [
    "scc.obs['Level2'] = scc.obs['Level2'].str.replace('cell', 'Cell').str.replace('Imm_', '').str.replace('Endothelial', 'Endothelial Cell')\n",
    "\n",
    "\n",
    "level2_color_dict = {\n",
    "    'Endothelial Cell':\"#FFA500\", \n",
    "    \"Fibroblast\": \"#458B00\", \n",
    "    \"DC\" : \"#5F9EA0\",\n",
    "    \"LC\" : \"#0000CD\",\n",
    "    \"Macrophage\" : \"#EEEE00\",\n",
    "    \"NK\": \"#9ACD32\",\n",
    "    \"T Cell\": \"#1874CD\",\n",
    "    \"KC Basal\" : \"#FF6A6A\",\n",
    "    \"KC Cornified\" : \"#8B3A62\",\n",
    "    \"KC Differentiating\" : \"#ab82ff\",\n",
    "    \"KC Hair\" : \"#FF0000\",\n",
    "    \"Melanocytes\" : \"#8B4513\",\n",
    "   'Plasma' : '#4a3b53',\n",
    "   'B Cell' : '#ffaa92',\n",
    "   'KC IFN' : '#7b4f4b', \n",
    "   \"Treg\" : \"#00B2EE\",\n",
    "   \"Monocytes\":\"#6a3a4c\",\n",
    "   \"KC Dysplastic\": \"#dac0eb\",\n",
    "   \"Ambiguous\":\"grey\"\n",
    "}\n",
    "\n",
    "sc.pl.umap(\n",
    "    scc,  # Your AnnData object\n",
    "    color='Level2',  # Assuming 'Level3' is the categorical variable you want to color by\n",
    "    palette=level2_color_dict,  # Use your color dictionary\n",
    "    show=True,  # Set to False if you don't want to display the plot immediately\n",
    ")\n"
   ],
   "outputs": [],
   "execution_count": null
  },
  {
   "cell_type": "code",
   "metadata": {},
   "source": [
    "scc.obs['Level3'] = scc.obs['Level3'].str.replace('cell', 'Cell')\n",
    "# Define color list based on cell types\n",
    "level3_color_dict = {\n",
    "    'Endothelial Cell':\"#FFA500\", \n",
    "     \"Fibroblast\": \"#458B00\", \n",
    "      \"Imm_DC\" : \"#5F9EA0\",\n",
    "  \"Imm_LC\" : \"#0000CD\",\n",
    "  \"Imm_Macrophage\" : \"#EEEE00\",\n",
    "  \"Imm_NK\": \"#9ACD32\",\n",
    "  \"Imm_T Cell\": \"#1874CD\",\n",
    "  \"Imm_Treg\" : \"#00B2EE\",\n",
    "   # \"pDC\"= \"#8A2BE2\",\n",
    "  \"KC Basal\" : \"#FF6A6A\",\n",
    "  \"KC Cornified\" : \"#8B3A62\",\n",
    "  \"KC Differentiating\" : \"#ab82ff\",\n",
    "  \"KC Hair\" : \"#FF0000\",\n",
    "  \"Melanocyte\" : \"#8B4513\",\n",
    "  \"KC Cancer\" : \"black\",  # Darker shade of \"saddlebrown\"\n",
    " 'KC Granular':'#008941',\n",
    "'Imm_CD8Tem':'#7a4900',\n",
    "'Imm_Treg':'#8fb0ff',\n",
    "'Imm_CD4Tcm' : '#997d87',\n",
    "'Imm_CX3CR1+ Mono/Mac' : '#5a0007',\n",
    "'Imm_mRegDC' : '#809693',\n",
    "'Imm_CD14+ Mono' : '#6a3a4c',\n",
    "'Imm_CD16- NK' : '#1b4400',\n",
    "'Imm_Plasma' : '#4a3b53',\n",
    "'Imm_LC KI67+' : '#ff2f80',\n",
    "'Imm_CD16+ NK' : '#61615a',\n",
    "'Imm_NKT' : '#ba0900',\n",
    "'Imm_TREM2+ Mac' : '#00c2a0',\n",
    "'Imm_B Cell' : '#ffaa92',\n",
    "'Imm_CD169+ Mac': '#000035',\n",
    "'KC IFN' : '#7b4f4b',\n",
    "'Imm_IFN+ Mac' : '#a1c299',\n",
    "'Imm_PD-1+CTLA4+ CD8Tcm' : '#300018',\n",
    "'Imm_PD-1+ CD8Tem' : '#0aa6d8',\n",
    "'Imm_DC1/DC2' : '#00846f', 'fibroblast_0':'#ddefff',\n",
    "'fibroblast_3':'#372101',\n",
    "'fibroblast_2':'#6b7900',\n",
    "'fibroblast_1':'#ff90c9','Endothelial_0':'#3b5dff',\n",
    "'Endothelial_1':'#b903aa',\n",
    "'Endothelial_2':'#d16100',\n",
    "    'Endothelial_3':'#013349',\n",
    "'melanocyte_0':'#a30059',\n",
    "'melanocyte_1':'#4fc601',\n",
    "'melanocyte_2':'#004d43', \"Ambiguous\":\"grey\", \"KC Dysplastic\": \"#dac0eb\"\n",
    "}\n",
    "\n",
    "sc.pl.umap(\n",
    "    scc,  # Your AnnData object\n",
    "    color='Level3',  # Assuming 'Level3' is the categorical variable you want to color by\n",
    "    palette=level3_color_dict,  # Use your color dictionary\n",
    "    show=True,  # Set to False if you don't want to display the plot immediately\n",
    ")\n"
   ],
   "outputs": [],
   "execution_count": null
  },
  {
   "cell_type": "code",
   "metadata": {},
   "source": [
    "sc.pl.umap(\n",
    "    scc,  # Your AnnData object\n",
    "    color='Level3',  # Assuming 'Level3' is the categorical variable you want to color by\n",
    "    show=True,  # Set to False if you don't want to display the plot immediately\n",
    ")"
   ],
   "outputs": [],
   "execution_count": null
  },
  {
   "cell_type": "code",
   "metadata": {
    "scrolled": true
   },
   "source": [
    "#scc.obs['Level2'] = scc.obs['Level2'].str.replace('cell', 'Cell').str.replace('Imm_', '').str.replace('Endothelial', 'Endothelial Cell')\n",
    "scc.obs['Level3'].unique().tolist()"
   ],
   "outputs": [],
   "execution_count": null
  },
  {
   "cell_type": "code",
   "metadata": {},
   "source": [
    "scc.write('/QRISdata/Q2051/SCC_Paper/resources/data/frozen_objects_Nov2024_PP/SCC_final_object_Nov10.h5ad')\n"
   ],
   "outputs": [],
   "execution_count": null
  },
  {
   "cell_type": "code",
   "metadata": {},
   "source": [
    "\n",
    "sc.pl.umap(\n",
    "    scc,  # Your AnnData object\n",
    "    color='sample_ID',  # Assuming 'Level3' is the categorical variable you want to color by\n",
    "    show=True,  # Set to False if you don't want to display the plot immediately\n",
    ")"
   ],
   "outputs": [],
   "execution_count": null
  },
  {
   "cell_type": "code",
   "metadata": {
    "scrolled": true
   },
   "source": [
    "def split_umap(adata, split_by, ncol=2, nrow=None, **kwargs):\n",
    "    categories = adata.obs[split_by].cat.categories\n",
    "    if nrow is None:\n",
    "        nrow = int(np.ceil(len(categories) / ncol))\n",
    "    fig, axs = plt.subplots(nrow, ncol, figsize=(5*ncol, 4*nrow))\n",
    "    axs = axs.flatten()\n",
    "    for i, cat in enumerate(categories):\n",
    "        ax = axs[i]\n",
    "        sc.pl.umap(adata[adata.obs[split_by] == cat], ax=ax, show=False, title=cat, **kwargs)\n",
    "    plt.tight_layout()\n",
    "split_umap(scc, color = ['Level2'], split_by='sample_ID',legend_loc = \"on data\")\n"
   ],
   "outputs": [],
   "execution_count": null
  },
  {
   "cell_type": "code",
   "metadata": {},
   "source": [
    "# Checking the row names of your data\n",
    "print(idata_subset.obs)\n"
   ],
   "outputs": [],
   "execution_count": null
  },
  {
   "cell_type": "markdown",
   "metadata": {},
   "source": [
    "# <a id='section8'></a>  KC Cancer"
   ]
  },
  {
   "cell_type": "code",
   "metadata": {},
   "source": [
    "idata=anndata.read_h5ad(\"/QRISdata/Q4386/skin_atlas/SCC_BCC/SCC_KC_only_final_object_21Nov.h5ad\")\n",
    "idata #Level3_final"
   ],
   "outputs": [],
   "execution_count": null
  },
  {
   "cell_type": "code",
   "metadata": {},
   "source": [
    "idata.obs['UMAP_color'].unique()"
   ],
   "outputs": [],
   "execution_count": null
  },
  {
   "cell_type": "code",
   "metadata": {},
   "source": [
    "from matplotlib import rcParams\n",
    "\n",
    "dysplastic_adata = idata[idata.obs['Level3_final'] == 'KC Dysplastic']\n",
    "sc.tl.rank_genes_groups(dysplastic_adata, 'cancer_status_corrected', method='wilcoxon', n_genes=200)\n",
    "sc.tl.filter_rank_genes_groups(dysplastic_adata)\n",
    "rcParams['figure.figsize'] = 4,4\n",
    "rcParams['axes.grid'] = True\n",
    "#sc.pl.rank_genes_groups(adata_KC_Basal, key='rank_genes_groups_filtered', ncols=3)\n",
    "\n",
    "axs = sc.pl.rank_genes_groups_dotplot(dysplastic_adata, n_genes=20, groups=['Cancer', 'Normal'])\n"
   ],
   "outputs": [],
   "execution_count": null
  },
  {
   "cell_type": "code",
   "metadata": {},
   "source": [
    "axs = sc.pl.rank_genes_groups_dotplot(dysplastic_adata, n_genes=100, groups=['Cancer', 'Normal'])\n"
   ],
   "outputs": [],
   "execution_count": null
  },
  {
   "cell_type": "code",
   "metadata": {},
   "source": [
    "print(\"Cancer: \",dysplastic_adata.uns['rank_genes_groups']['names']['Cancer'].tolist()[:100])\n",
    "print(\"Normal: \",dysplastic_adata.uns['rank_genes_groups']['names']['Normal'].tolist()[:100])"
   ],
   "outputs": [],
   "execution_count": null
  },
  {
   "cell_type": "code",
   "metadata": {},
   "source": [
    "idata.raw= None\n",
    "mito_genes = idata.var_names.str.startswith('MT-')\n",
    "ribo = idata.var_names.str.startswith((\"RPS\", \"RPL\"))\n",
    "\n",
    "remove = np.add(mito_genes, ribo)\n",
    "keep = np.invert(remove)\n",
    "\n",
    "adata = idata[:,keep]\n",
    "\n",
    "print(idata.n_obs, idata.n_vars)"
   ],
   "outputs": [],
   "execution_count": null
  },
  {
   "cell_type": "code",
   "metadata": {},
   "source": [],
   "outputs": [],
   "execution_count": null
  },
  {
   "cell_type": "code",
   "metadata": {},
   "source": [
    "from matplotlib import rcParams\n",
    "\n",
    "sc.tl.rank_genes_groups(idata, 'cancer_status_corrected', method='wilcoxon', n_genes=200)\n",
    "sc.tl.filter_rank_genes_groups(idata)\n",
    "rcParams['figure.figsize'] = 4,4\n",
    "rcParams['axes.grid'] = True\n",
    "#sc.pl.rank_genes_groups(adata_KC_Basal, key='rank_genes_groups_filtered', ncols=3)\n",
    "\n",
    "axs = sc.pl.rank_genes_groups_dotplot(idata, n_genes=20, groups=['Cancer', 'Normal'])\n",
    "\n",
    "print(\"Cancer: \",idata.uns['rank_genes_groups']['names']['Cancer'].tolist()[:100])\n",
    "print(\"Normal: \",idata.uns['rank_genes_groups']['names']['Normal'].tolist()[:100])"
   ],
   "outputs": [],
   "execution_count": null
  },
  {
   "cell_type": "code",
   "metadata": {},
   "source": [
    "# genes with raw counts as input"
   ],
   "outputs": [],
   "execution_count": null
  },
  {
   "cell_type": "code",
   "metadata": {},
   "source": [
    "## SCC genes from literature\n",
    "def split_umap(adata, split_by, ncol=2, nrow=None, **kwargs):\n",
    "    categories = adata.obs[split_by].cat.categories\n",
    "    if nrow is None:\n",
    "        nrow = int(np.ceil(len(categories) / ncol))\n",
    "    fig, axs = plt.subplots(nrow, ncol, figsize=(5*ncol, 4*nrow))\n",
    "    axs = axs.flatten()\n",
    "    for i, cat in enumerate(categories):\n",
    "        ax = axs[i]\n",
    "        sc.pl.umap(adata[adata.obs[split_by] == cat], ax=ax, show=False, title=cat, **kwargs)\n",
    "    plt.tight_layout()\n",
    "\n",
    "\n",
    "import scanpy as sc\n",
    "\n",
    "# Define your gene sets\n",
    "gene_sets = {\n",
    "    'Dys_Cancer': dysplastic_adata.uns['rank_genes_groups']['names']['Cancer'].tolist()[:100],\n",
    "    'all_Cancer': idata.uns['rank_genes_groups']['names']['Cancer'].tolist()[:100],\n",
    "    'TSK':['PTHLH','FEZ1','INHBA','MMP1','SERPINE2','IGFBP6','TNC','ITGA5','SPINK6','TMSB10','KRT18','FST','ODC1','ITGA6','SORL1','EMP3','EREG','TIMP3','LGALS1','TNFRSF12A','ATP1B1','MBOAT2','F3','ANXA1','KRT17','PHLDA1','LTBP1','CAPN2','IGFBP2','COL17A1','AREG','ARPC1B','GLIPR1','S100A6','CAV1','ADIRF','RBP1','UPP1','SDC1','GJB6','SLC7A8','RAB32','FXYD5','FSCN1']\n",
    "} #\"GDF15\"=\"PLAB\", MLANA=MART1\n",
    "\n",
    "# Calculate and add module scores\n",
    "for name, genes in gene_sets.items():\n",
    "    sc.tl.score_genes(idata, gene_list=genes, score_name=name)\n",
    "\n",
    "# Inspect the results\n",
    "#print(mel.obs.head())\n",
    "#idata.obs['cancer'] = ['cancer' if x == 'KC Cancer' else 'Others' for x in scc.obs['Level3_Cancer']]\n",
    "#idata.obs['cancer'] = idata.obs['cancer'].astype('category')\n",
    "\n",
    "# Plot the module scores\n",
    "split_umap(idata, color=['Dys_Cancer'], size=5,split_by='cancer_status_corrected')\n",
    "split_umap(idata, color=['all_Cancer'], size=5,split_by='cancer_status_corrected')\n",
    "split_umap(idata, color=['TSK'], size=5,split_by='cancer_status_corrected')\n",
    "\n",
    "#split_umap(scc, color = ['InferCNV_and_CopyKAT_aneuploid'], split_by='cancer_status',legend_loc = \"right margin\")\n"
   ],
   "outputs": [],
   "execution_count": null
  },
  {
   "cell_type": "code",
   "metadata": {},
   "source": [
    "idata.obs['KC_cancer_all_DE'] "
   ],
   "outputs": [],
   "execution_count": null
  },
  {
   "cell_type": "code",
   "metadata": {},
   "source": [
    "# Define the condition\n",
    "condition = (idata.obs['Aneuploid_combined_clusters'] == 'overlap') & (idata.obs['all_Cancer'] > 1)\n",
    "condition25 = (idata.obs['Aneuploid_combined_clusters'] == 'overlap') & (idata.obs['all_Cancer'] > 1.25)\n",
    "condition05 = (idata.obs['Aneuploid_combined_clusters'] == 'overlap') & (idata.obs['all_Cancer'] > 0.5)\n",
    "condition98 = (idata.obs['Aneuploid_combined_clusters'] == 'overlap') & (idata.obs['all_Cancer'] > 0.984)\n",
    "\n",
    "# Assign colors: 'red' for cells meeting the condition, 'grey' otherwise\n",
    "idata.obs['KC_cancer_all_DE'] = ['Cancer' if cond else 'Normal' for cond in condition]\n",
    "idata.obs['KC_cancer_all_DE_mod125'] = ['Cancer' if cond else 'Normal' for cond in condition25]\n",
    "idata.obs['KC_cancer_all_DE_mod05'] = ['Cancer' if cond else 'Normal' for cond in condition05]\n",
    "idata.obs['KC_cancer_all_DE_mod98'] = ['Cancer' if cond else 'Normal' for cond in condition98]\n",
    "\n",
    "# Define a color map\n",
    "color_map = {'Cancer': 'red', 'Normal': 'grey'}\n",
    "\n",
    "# Plot UMAP\n",
    "sc.pl.umap(idata, color=['KC_cancer_all_DE','KC_cancer_all_DE_mod125','KC_cancer_all_DE_mod05','KC_cancer_all_DE_mod98'], palette=color_map, size=5)\n",
    "\n",
    "\n",
    "# Plot UMAP with the new color assignment\n",
    "#sc.pl.umap(idata, color='UMAP_color', title='UMAP Highlighting Overlap & Cancer > 1.5', frameon=False)\n"
   ],
   "outputs": [],
   "execution_count": null
  },
  {
   "cell_type": "code",
   "metadata": {},
   "source": [
    "# Assuming `df` is your DataFrame\n",
    "cancer_count = idata.obs[idata.obs['KC_cancer_all_DE'] == 'Cancer'].shape[0]\n",
    "print(f\"Number of cells marked as 'Cancer' mod>1: {cancer_count}\")\n",
    "\n",
    "\n",
    "cancer_count25=idata.obs[idata.obs['KC_cancer_all_DE_mod125'] == 'Cancer'].shape[0]\n",
    "cancer_count05=idata.obs[idata.obs['KC_cancer_all_DE_mod05'] == 'Cancer'].shape[0]\n",
    "cancer_count98=idata.obs[idata.obs['KC_cancer_all_DE_mod98'] == 'Cancer'].shape[0]\n",
    "\n",
    "print(f\"Number of cells marked as 'Cancer' mod>1.25: {cancer_count25}\")\n",
    "print(f\"Number of cells marked as 'Cancer' mod>0.5: {cancer_count05}\")\n",
    "print(f\"Number of cells marked as 'Cancer' mod>0.98: {cancer_count98}\")\n",
    "\n"
   ],
   "outputs": [],
   "execution_count": null
  },
  {
   "cell_type": "code",
   "metadata": {},
   "source": [
    "import matplotlib.pyplot as plt\n",
    "import seaborn as sns\n",
    "\n",
    "# Extract the 'all_Cancer' data from adata.obs\n",
    "all_cancer_values = idata.obs['all_Cancer']\n",
    "\n",
    "# Plot a histogram using seaborn for better visualization\n",
    "plt.figure(figsize=(8, 5))\n",
    "sns.histplot(all_cancer_values, kde=False, bins=30, color='blue', edgecolor='black')\n",
    "\n",
    "# Add titles and labels\n",
    "plt.title('Histogram of all_Cancer', fontsize=14)\n",
    "plt.xlabel('all_Cancer', fontsize=12)\n",
    "plt.ylabel('Frequency', fontsize=12)\n",
    "\n",
    "# Show the plot\n",
    "plt.tight_layout()\n",
    "plt.show()\n"
   ],
   "outputs": [],
   "execution_count": null
  },
  {
   "cell_type": "code",
   "metadata": {},
   "source": [
    "from scipy.stats import median_abs_deviation\n",
    "\n",
    "# Assuming `adata.obs['all_Cancer']` is a pandas Series or numpy array\n",
    "data = idata.obs['all_Cancer'].values  # Extracting values as a numpy array\n",
    "mad_value = median_abs_deviation(data, nan_policy='omit')  # Calculate MAD, ignoring NaNs\n",
    "print(f\"MAD for all_Cancer: {mad_value}\")\n"
   ],
   "outputs": [],
   "execution_count": null
  },
  {
   "cell_type": "code",
   "metadata": {},
   "source": [
    "from scipy.stats import median_abs_deviation\n",
    "import numpy as np\n",
    "\n",
    "# Extract 'all_Cancer' values as a numpy array\n",
    "data = adata.obs['all_Cancer'].values\n",
    "\n",
    "# Calculate the median of the data\n",
    "median_value = np.median(data)\n",
    "\n",
    "# Filter the data to include only values in the upper tail (greater than the median)\n",
    "upper_tail_data = data[data > median_value]\n",
    "\n",
    "# Calculate MAD for the upper tail, ignoring NaNs\n",
    "mad_upper_tail = median_abs_deviation(upper_tail_data, nan_policy='omit')\n",
    "\n",
    "# Calculate 3 times the MAD (3MAD) for the upper tail\n",
    "three_mad_upper_tail = 3 * mad_upper_tail\n",
    "\n",
    "print(f\"3MAD for the upper tail of all_Cancer: {three_mad_upper_tail}\")\n"
   ],
   "outputs": [],
   "execution_count": null
  },
  {
   "cell_type": "code",
   "metadata": {},
   "source": [
    "import numpy as np\n",
    "# Extract the 'all_Cancer' data from adata.obs\n",
    "all_cancer_values = idata.obs['all_Cancer']\n",
    "# Calculate the 90th percentile\n",
    "percentile_90 = np.percentile(all_cancer_values, 90)\n",
    "percentile_95 = np.percentile(all_cancer_values, 95)\n",
    "percentile_99 = np.percentile(all_cancer_values, 99)\n",
    "percentile_995 = np.percentile(all_cancer_values, 99.5)\n",
    "\n",
    "\n",
    "# Print the result\n",
    "print(f\"90th Percentile of 'all_Cancer': {percentile_90}\")\n",
    "print(f\"95th Percentile of 'all_Cancer': {percentile_95}\")\n",
    "print(f\"99th Percentile of 'all_Cancer': {percentile_99}\")\n",
    "print(f\"99.5th Percentile of 'all_Cancer': {percentile_995}\")"
   ],
   "outputs": [],
   "execution_count": null
  },
  {
   "cell_type": "code",
   "metadata": {},
   "source": [
    "# Define the condition\n",
    "condition90p = (idata.obs['Aneuploid_combined_clusters'] == 'overlap') & (idata.obs['all_Cancer'] > 0.53)\n",
    "condition95p = (idata.obs['Aneuploid_combined_clusters'] == 'overlap') & (idata.obs['all_Cancer'] > 0.72)\n",
    "condition99p = (idata.obs['Aneuploid_combined_clusters'] == 'overlap') & (idata.obs['all_Cancer'] > 0.98)\n",
    "condition99_5p = (idata.obs['Aneuploid_combined_clusters'] == 'overlap') & (idata.obs['all_Cancer'] > 1.06)\n",
    "\n",
    "# Assign colors: 'red' for cells meeting the condition, 'grey' otherwise\n",
    "idata.obs['KC_cancer_all_DE_90p'] = ['Cancer' if cond else 'Normal' for cond in condition90p]\n",
    "idata.obs['KC_cancer_all_DE_95p'] = ['Cancer' if cond else 'Normal' for cond in condition95p]\n",
    "idata.obs['KC_cancer_all_DE_99p'] = ['Cancer' if cond else 'Normal' for cond in condition99p]\n",
    "idata.obs['KC_cancer_all_DE_99_5p'] = ['Cancer' if cond else 'Normal' for cond in condition99_5p]\n",
    "\n",
    "# Define a color map\n",
    "color_map = {'Cancer': 'red', 'Normal': 'lightgrey'}\n",
    "\n",
    "# Plot UMAP\n",
    "sc.pl.umap(idata, color=['KC_cancer_all_DE_90p','KC_cancer_all_DE_95p','KC_cancer_all_DE_99p','KC_cancer_all_DE_99_5p'], palette=color_map, size=5)\n",
    "\n",
    "\n",
    "# Assuming `df` is your DataFrame\n",
    "cancer_count90p = idata.obs[idata.obs['KC_cancer_all_DE_90p'] == 'Cancer'].shape[0]\n",
    "cancer_count95p=idata.obs[idata.obs['KC_cancer_all_DE_95p'] == 'Cancer'].shape[0]\n",
    "cancer_count99p=idata.obs[idata.obs['KC_cancer_all_DE_99p'] == 'Cancer'].shape[0]\n",
    "cancer_count99_5p=idata.obs[idata.obs['KC_cancer_all_DE_99_5p'] == 'Cancer'].shape[0]\n",
    "\n",
    "print(f\"Number of cells marked as 'Cancer' 90th percentile: {cancer_count90p}\")\n",
    "print(f\"Number of cells marked as 'Cancer' 95th percentile: {cancer_count95p}\")\n",
    "print(f\"Number of cells marked as 'Cancer' 99th percentile: {cancer_count99p}\")\n",
    "print(f\"Number of cells marked as 'Cancer' 99.5th percentile: {cancer_count99_5p}\")\n",
    "\n"
   ],
   "outputs": [],
   "execution_count": null
  },
  {
   "cell_type": "code",
   "metadata": {},
   "source": [],
   "outputs": [],
   "execution_count": null
  },
  {
   "cell_type": "code",
   "metadata": {},
   "source": [
    "grouped = idata.obs.groupby(['Level3_Cancer', 'KC_cancer_all_DE', 'all_Cancer']).size().reset_index(name='count')\n",
    "print(grouped)"
   ],
   "outputs": [],
   "execution_count": null
  },
  {
   "cell_type": "code",
   "metadata": {
    "scrolled": true
   },
   "source": [
    "# Print the first few rows of the grouped data\n",
    "# Print the last few rows to see the end of the grouped data\n",
    "print(grouped.tail(100))\n"
   ],
   "outputs": [],
   "execution_count": null
  },
  {
   "cell_type": "code",
   "metadata": {
    "scrolled": true
   },
   "source": [
    "idata.obs['KC_cancer_all_DE'].value_counts()"
   ],
   "outputs": [],
   "execution_count": null
  },
  {
   "cell_type": "code",
   "metadata": {},
   "source": [
    "#idata.obs[idata.obs['KC_cancer_all_DE'] == 'Cancer']\n",
    "\n",
    "OLD_CANCER_DF=idata.obs[idata.obs['Level3_Cancer'] == 'KC Cancer']\n",
    "print(OLD_CANCER_DF['KC_cancer_all_DE'].value_counts())\n",
    "print(OLD_CANCER_DF['KC_cancer_all_DE_mod98'].value_counts())"
   ],
   "outputs": [],
   "execution_count": null
  },
  {
   "cell_type": "code",
   "metadata": {},
   "source": [
    "#idata.obs.head()\n",
    "idata.obs.to_csv('/QRISdata/Q4386/skin_atlas/SCC_BCC/KConly_with_mod_score_nov21_meta.txt',sep=\"\\t\", index=True)\n"
   ],
   "outputs": [],
   "execution_count": null
  },
  {
   "cell_type": "code",
   "metadata": {},
   "source": [
    "#idata.var.index = idata.var.index.astype(str)\n",
    "#idata.obs.index = idata.obs.index.astype(str)\n",
    "\n",
    "idata.obs.head()\n"
   ],
   "outputs": [],
   "execution_count": null
  },
  {
   "cell_type": "code",
   "metadata": {},
   "source": [
    "TSK=['CACAGTAGTCAGCTAT-3','CGTGTAACAAGACACG-3','GCTCTGTCATTGAGCT-3','GTCGTAAAGATAGTCA-3','TACTTACGTGATGCCC-3','TAAGCGTTCGCTTGTC-5','ACGGGTCTCGGAATCT-10','AGCGGTCCAAACGTGG-10','AGCTCCTAGGGCACTA-10','AGTAGTCCAAGCTGGA-10','ATCACGAGTCGCTTCT-10','CACACAATCCTAAGTG-10','CACCACTTCCACGTGG-10','CACCTTGAGTGTTTGC-10','CATCAGAGTCGAATCT-10','CCAGCGAAGTCGTACT-10','CCATTCGTCAATCACG-10','CCTAAAGAGAGCTGGT-10','CGCGGTAGTGCGGTAA-10','CGCTTCAGTAAATGAC-10','CGGAGTCTCAACCAAC-10','CGTCACTGTGCCTGGT-10','CGTGTCTGTGAGGCTA-10','CTAGCCTCACCGATAT-10','CTAGTGAGTAGGCTGA-10','CTCGTCACAGGTCTCG-10','CTTAGGATCCACGCAG-10','CTTCTCTGTCGACTGC-10','GCGACCAGTTTGACTG-10','GGCTGGTAGGATGTAT-10','GGGCACTCAATTCCTT-10','GGGTCTGTCCTCATTA-10','GTACTTTGTCTCCACT-10','TAAACCGAGTAGTGCG-10','TAAGAGACATGCAACT-10','TACAGTGCATTTCAGG-10','TGCGCAGCACCCTATC-10','TGGTTCCGTACAAGTA-10','TGTTCCGTCACCTCGT-10','TTGCGTCAGATACACA-10','TTTATGCCACTCGACG-10']\n",
    "\n",
    "      \n",
    "# Assuming TSK is a list of cell names\n",
    "#mask = scc.obs.index.isin(TSK)\n",
    "\n",
    "# Subset the AnnData object\n",
    "#scc_subset = scc[mask].copy()\n",
    "# Plot UMAP\n",
    "#sc.pl.umap(scc_subset, size=30, vmax=0.5)\n",
    "\n",
    "# Create a new column 'TSK' initialized with empty strings\n",
    "idata.obs['TSK'] = 'none'\n",
    "\n",
    "# Convert TSK list to a set for faster lookup\n",
    "TSK_set = set(TSK)\n",
    "\n",
    "# Update the 'TSK' column based on whether the index is in TSK\n",
    "idata.obs.loc[idata.obs.index.isin(TSK_set), 'TSK'] = 'TSK'\n",
    "\n",
    "\n",
    "import matplotlib.pyplot as plt\n",
    "import scanpy as sc\n",
    "\n",
    "# Create a figure and axis to plot both sets of cells on the same plot\n",
    "#fig, ax = plt.subplots()\n",
    "fig, ax = plt.subplots(figsize=(5, 5))  # Adjust figure size as needed\n",
    "\n",
    "# Define the color map\n",
    "colors = {\n",
    "    'TSK': 'red',\n",
    "    'none': 'lightgrey'\n",
    "}\n",
    "\n",
    "# Plot 'none' cells first (background layer)\n",
    "sc.pl.umap(\n",
    "    idata[idata.obs['TSK'] == 'none'],\n",
    "    color='TSK',\n",
    "    size=1,\n",
    "    palette={'none': 'lightgrey'},\n",
    "    ax=ax,\n",
    "    show=False\n",
    ")\n",
    "\n",
    "# Overlay other cells with specific colors (foreground layer)\n",
    "sc.pl.umap(\n",
    "    idata[idata.obs['TSK'] != 'none'],\n",
    "    color='TSK',\n",
    "    size=4,\n",
    "    palette=colors,\n",
    "    ax=ax,\n",
    "    show=False\n",
    ")\n",
    "# Display the combined plot\n",
    "\n",
    "\n",
    "# Optionally, you can check the result\n",
    "#sc.pl.umap(idata, color=['TSK'], size=10, vmax=0.5)\n"
   ],
   "outputs": [],
   "execution_count": null
  },
  {
   "cell_type": "code",
   "metadata": {},
   "source": [
    "# Define the condition\n",
    "conditionTSK = (idata.obs['Aneuploid_combined_clusters'] == 'overlap') & (idata.obs['TSK'] > 0.8)\n",
    "conditionTSK6 = (idata.obs['Aneuploid_combined_clusters'] == 'overlap') & (idata.obs['TSK'] > 0.6)\n",
    "# Assign colors: 'red' for cells meeting the condition, 'grey' otherwise\n",
    "idata.obs['TSK_cancermod'] = ['Cancer' if cond else 'Normal' for cond in conditionTSK]\n",
    "idata.obs['TSK_cancermod6'] = ['Cancer' if cond else 'Normal' for cond in conditionTSK6]\n",
    "\n",
    "# Define a color map\n",
    "color_map = {'Cancer': 'red', 'Normal': 'grey'}\n",
    "\n",
    "# Plot UMAP\n",
    "sc.pl.umap(idata, color=['TSK_cancermod','TSK_cancermod6'], palette=color_map, size=5)\n",
    "\n",
    "\n",
    "# Plot UMAP with the new color assignment\n",
    "#sc.pl.umap(idata, color='UMAP_color', title='UMAP Highlighting Overlap & Cancer > 1.5', frameon=False)\n"
   ],
   "outputs": [],
   "execution_count": null
  },
  {
   "cell_type": "code",
   "metadata": {},
   "source": [
    "TSK_df=idata.obs[idata.obs['TSK'] == 'TSK']\n",
    "print(TSK_df['KC_cancer_all_DE_99p'].value_counts())\n",
    "print(TSK_df['Level3_Cancer'].value_counts())\n",
    "print(TSK_df['KC_cancer_all_DE_95p'].value_counts())\n"
   ],
   "outputs": [],
   "execution_count": null
  },
  {
   "cell_type": "code",
   "metadata": {},
   "source": [
    "len(TSK)"
   ],
   "outputs": [],
   "execution_count": null
  },
  {
   "cell_type": "code",
   "metadata": {},
   "source": [
    "idata.obs['TSK'].unique()"
   ],
   "outputs": [],
   "execution_count": null
  },
  {
   "cell_type": "code",
   "metadata": {
    "scrolled": true
   },
   "source": [
    "def split_umap(adata, split_by, ncol=2, nrow=None, **kwargs):\n",
    "    categories = adata.obs[split_by].cat.categories\n",
    "    if nrow is None:\n",
    "        nrow = int(np.ceil(len(categories) / ncol))\n",
    "    fig, axs = plt.subplots(nrow, ncol, figsize=(5*ncol, 4*nrow))\n",
    "    axs = axs.flatten()\n",
    "    for i, cat in enumerate(categories):\n",
    "        ax = axs[i]\n",
    "        sc.pl.umap(adata[adata.obs[split_by] == cat], ax=ax, show=False, title=cat, **kwargs)\n",
    "    plt.tight_layout()\n",
    "split_umap(idata, color = ['KC_cancer_all_DE_99p'], split_by='diagnosis_corrected',legend_loc = \"on data\")\n"
   ],
   "outputs": [],
   "execution_count": null
  },
  {
   "cell_type": "code",
   "metadata": {
    "scrolled": true
   },
   "source": [
    "split_umap(idata, color = ['KC_cancer_all_DE_95p'], split_by='diagnosis_corrected')\n"
   ],
   "outputs": [],
   "execution_count": null
  },
  {
   "cell_type": "code",
   "metadata": {},
   "source": [
    "sc.pl.dotplot(\n",
    "    scc,\n",
    "    { 'TSK':[\"MMP10\",\"PTHLH\",\"FEZ1\",\"IL24\",\"KCNMA1\",\"INHBA\",\"MAGEA4\",\"NT5E\",\"LAMC2\",\"SLITRK6\",\"MMP1\",\"SERPINE1\",\"SERPINE2\",\"IGFBP6\",\"TNC\",\"ITGA5\",\"ECM1\",\"SPINK6\",\"TMSB10\",\"KRT18\",\"FST\",\"ODC1\",\"LAMB3\",\"ITGA6\",\"ACTB\",\"ITGB1\",\"SORL1\",\"PFN1\",\"EMP3\",\"S100A10\",\"EREG\",\"LAMA3\",\"OCIAD2\",\"CTSV\",\"ANXA3\",\"S100A2\",\"MET\",\"CD99\",\"TMSB4X\",\"TIMP3\",\"TPM4\",\"NEFM\",\"SCG5\",\"SH3BGRL3\",\"PLAU\",\"PKM\",\"CD63\",\"LGALS1\",\"BMP1\",\"TNFRSF12A\",\"ATP1B1\",\"CFL1\",\"MBOAT2\",\"F3\",\"TNFRSF21\",\"CLIC1\",\"CAP1\",\"PDPN\",\"SERINC2\",\"ANXA1\",\"BSG\",\"DSG2\",\"RHOC\",\"KRT17\",\"PDLIM7\",\"PHLDA1\",\"GLO1\",\"LTBP1\",\"TAGLN2\",\"CD151\",\"CAPN2\",\"COL5A2\",\"IGFBP2\",\"P4HA2\",\"COL17A1\",\"PLEK2\",\"AREG\",\"ARPC1B\",\"GLIPR1\",\"S100A6\",\"PLOD3\",\"YWHAZ\",\"CAV1\",\"ADIRF\",\"TGFBI\",\"RBP1\",\"FSTL3\",\"C16orf74\",\"UPP1\",\"TNNT1\",\"ANXA5\",\"SDC1\",\"PRDX5\",\"MYL12A\",\"GJB6\",\"SLC7A8\",\"RAB32\",\"FXYD5\",\"FSCN1\"]},\n",
    "    standard_scale=\"var\",\n",
    "    color_map=\"Reds\",\n",
    "    groupby=\"Level2\", figsize=(18, 6) ,show=False\n",
    ")"
   ],
   "outputs": [],
   "execution_count": null
  },
  {
   "cell_type": "code",
   "metadata": {},
   "source": [
    "sc.pl.dotplot(\n",
    "    idata,\n",
    "    { 'TSK':['PTHLH','FEZ1','INHBA','MMP1','SERPINE2','IGFBP6','TNC','ITGA5','SPINK6','TMSB10','KRT18','FST','ODC1','ITGA6','SORL1','EMP3','EREG','TIMP3','LGALS1','TNFRSF12A','ATP1B1','MBOAT2','F3','ANXA1','KRT17','PHLDA1','LTBP1','CAPN2','IGFBP2','COL17A1','AREG','ARPC1B','GLIPR1','S100A6','CAV1','ADIRF','RBP1','UPP1','SDC1','GJB6','SLC7A8','RAB32','FXYD5','FSCN1']},\n",
    "        #'TSK':[\"MMP10\",\"PTHLH\",\"FEZ1\",\"IL24\",\"KCNMA1\",\"INHBA\",\"MAGEA4\",\"NT5E\",\"LAMC2\",\"SLITRK6\",\"MMP1\",\"SERPINE1\",\"SERPINE2\",\"IGFBP6\",\"TNC\",\"ITGA5\",\"ECM1\",\"SPINK6\",\"TMSB10\",\"KRT18\",\"FST\",\"ODC1\",\"LAMB3\",\"ITGA6\",\"ACTB\",\"ITGB1\",\"SORL1\",\"PFN1\",\"EMP3\",\"S100A10\",\"EREG\",\"LAMA3\",\"OCIAD2\",\"CTSV\",\"ANXA3\",\"S100A2\",\"MET\",\"CD99\",\"TMSB4X\",\"TIMP3\",\"TPM4\",\"NEFM\",\"SCG5\",\"SH3BGRL3\",\"PLAU\",\"PKM\",\"CD63\",\"LGALS1\",\"BMP1\",\"TNFRSF12A\",\"ATP1B1\",\"CFL1\",\"MBOAT2\",\"F3\",\"TNFRSF21\",\"CLIC1\",\"CAP1\",\"PDPN\",\"SERINC2\",\"ANXA1\",\"BSG\",\"DSG2\",\"RHOC\",\"KRT17\",\"PDLIM7\",\"PHLDA1\",\"GLO1\",\"LTBP1\",\"TAGLN2\",\"CD151\",\"CAPN2\",\"COL5A2\",\"IGFBP2\",\"P4HA2\",\"COL17A1\",\"PLEK2\",\"AREG\",\"ARPC1B\",\"GLIPR1\",\"S100A6\",\"PLOD3\",\"YWHAZ\",\"CAV1\",\"ADIRF\",\"TGFBI\",\"RBP1\",\"FSTL3\",\"C16orf74\",\"UPP1\",\"TNNT1\",\"ANXA5\",\"SDC1\",\"PRDX5\",\"MYL12A\",\"GJB6\",\"SLC7A8\",\"RAB32\",\"FXYD5\",\"FSCN1\"]},\n",
    "    standard_scale=\"var\",\n",
    "    color_map=\"Reds\",\n",
    "    groupby=\"KC_cancer_all_DE_95p\", figsize=(10, 1) ,show=False\n",
    ")"
   ],
   "outputs": [],
   "execution_count": null
  },
  {
   "cell_type": "code",
   "metadata": {},
   "source": [
    "# Cells cancer in 95p but normal in 99p\n",
    "# Filter barcodes that are 'Cancer' in 'KC_cancer_all_DE_95p'\n",
    "cancer_95p = idata.obs[idata.obs['KC_cancer_all_DE_95p'] == 'Cancer'].index\n",
    "\n",
    "# Filter barcodes that are 'Normal' in 'KC_cancer_all_DE_99p'\n",
    "normal_99p = idata.obs[idata.obs['KC_cancer_all_DE_99p'] == 'Normal'].index\n",
    "\n",
    "# Find the intersection of the two conditions\n",
    "result_barcodes = cancer_95p.intersection(normal_99p)\n",
    "\n",
    "# Subset the AnnData object to include only the barcodes in the result\n",
    "idata_subset = idata[result_barcodes, :]\n",
    "\n",
    "# Display\n",
    "sc.pl.dotplot(\n",
    "    idata_subset,\n",
    "    { 'TSK':['PTHLH','FEZ1','INHBA','MMP1','SERPINE2','IGFBP6','TNC','ITGA5','SPINK6','TMSB10','KRT18','FST','ODC1','ITGA6','SORL1','EMP3','EREG','TIMP3','LGALS1','TNFRSF12A','ATP1B1','MBOAT2','F3','ANXA1','KRT17','PHLDA1','LTBP1','CAPN2','IGFBP2','COL17A1','AREG','ARPC1B','GLIPR1','S100A6','CAV1','ADIRF','RBP1','UPP1','SDC1','GJB6','SLC7A8','RAB32','FXYD5','FSCN1']},\n",
    "        #'TSK':[\"MMP10\",\"PTHLH\",\"FEZ1\",\"IL24\",\"KCNMA1\",\"INHBA\",\"MAGEA4\",\"NT5E\",\"LAMC2\",\"SLITRK6\",\"MMP1\",\"SERPINE1\",\"SERPINE2\",\"IGFBP6\",\"TNC\",\"ITGA5\",\"ECM1\",\"SPINK6\",\"TMSB10\",\"KRT18\",\"FST\",\"ODC1\",\"LAMB3\",\"ITGA6\",\"ACTB\",\"ITGB1\",\"SORL1\",\"PFN1\",\"EMP3\",\"S100A10\",\"EREG\",\"LAMA3\",\"OCIAD2\",\"CTSV\",\"ANXA3\",\"S100A2\",\"MET\",\"CD99\",\"TMSB4X\",\"TIMP3\",\"TPM4\",\"NEFM\",\"SCG5\",\"SH3BGRL3\",\"PLAU\",\"PKM\",\"CD63\",\"LGALS1\",\"BMP1\",\"TNFRSF12A\",\"ATP1B1\",\"CFL1\",\"MBOAT2\",\"F3\",\"TNFRSF21\",\"CLIC1\",\"CAP1\",\"PDPN\",\"SERINC2\",\"ANXA1\",\"BSG\",\"DSG2\",\"RHOC\",\"KRT17\",\"PDLIM7\",\"PHLDA1\",\"GLO1\",\"LTBP1\",\"TAGLN2\",\"CD151\",\"CAPN2\",\"COL5A2\",\"IGFBP2\",\"P4HA2\",\"COL17A1\",\"PLEK2\",\"AREG\",\"ARPC1B\",\"GLIPR1\",\"S100A6\",\"PLOD3\",\"YWHAZ\",\"CAV1\",\"ADIRF\",\"TGFBI\",\"RBP1\",\"FSTL3\",\"C16orf74\",\"UPP1\",\"TNNT1\",\"ANXA5\",\"SDC1\",\"PRDX5\",\"MYL12A\",\"GJB6\",\"SLC7A8\",\"RAB32\",\"FXYD5\",\"FSCN1\"]},\n",
    "    standard_scale=\"var\",\n",
    "    color_map=\"Reds\",\n",
    "    groupby=[\"KC_cancer_all_DE_95p\"], figsize=(10, 1) ,show=False\n",
    ")\n",
    "\n",
    "sc.pl.dotplot(\n",
    "    idata_subset,\n",
    "    { 'TSK':['PTHLH','FEZ1','INHBA','MMP1','SERPINE2','IGFBP6','TNC','ITGA5','SPINK6','TMSB10','KRT18','FST','ODC1','ITGA6','SORL1','EMP3','EREG','TIMP3','LGALS1','TNFRSF12A','ATP1B1','MBOAT2','F3','ANXA1','KRT17','PHLDA1','LTBP1','CAPN2','IGFBP2','COL17A1','AREG','ARPC1B','GLIPR1','S100A6','CAV1','ADIRF','RBP1','UPP1','SDC1','GJB6','SLC7A8','RAB32','FXYD5','FSCN1']},\n",
    "        #'TSK':[\"MMP10\",\"PTHLH\",\"FEZ1\",\"IL24\",\"KCNMA1\",\"INHBA\",\"MAGEA4\",\"NT5E\",\"LAMC2\",\"SLITRK6\",\"MMP1\",\"SERPINE1\",\"SERPINE2\",\"IGFBP6\",\"TNC\",\"ITGA5\",\"ECM1\",\"SPINK6\",\"TMSB10\",\"KRT18\",\"FST\",\"ODC1\",\"LAMB3\",\"ITGA6\",\"ACTB\",\"ITGB1\",\"SORL1\",\"PFN1\",\"EMP3\",\"S100A10\",\"EREG\",\"LAMA3\",\"OCIAD2\",\"CTSV\",\"ANXA3\",\"S100A2\",\"MET\",\"CD99\",\"TMSB4X\",\"TIMP3\",\"TPM4\",\"NEFM\",\"SCG5\",\"SH3BGRL3\",\"PLAU\",\"PKM\",\"CD63\",\"LGALS1\",\"BMP1\",\"TNFRSF12A\",\"ATP1B1\",\"CFL1\",\"MBOAT2\",\"F3\",\"TNFRSF21\",\"CLIC1\",\"CAP1\",\"PDPN\",\"SERINC2\",\"ANXA1\",\"BSG\",\"DSG2\",\"RHOC\",\"KRT17\",\"PDLIM7\",\"PHLDA1\",\"GLO1\",\"LTBP1\",\"TAGLN2\",\"CD151\",\"CAPN2\",\"COL5A2\",\"IGFBP2\",\"P4HA2\",\"COL17A1\",\"PLEK2\",\"AREG\",\"ARPC1B\",\"GLIPR1\",\"S100A6\",\"PLOD3\",\"YWHAZ\",\"CAV1\",\"ADIRF\",\"TGFBI\",\"RBP1\",\"FSTL3\",\"C16orf74\",\"UPP1\",\"TNNT1\",\"ANXA5\",\"SDC1\",\"PRDX5\",\"MYL12A\",\"GJB6\",\"SLC7A8\",\"RAB32\",\"FXYD5\",\"FSCN1\"]},\n",
    "    standard_scale=\"var\",\n",
    "    color_map=\"Reds\",\n",
    "    groupby=[\"KC_cancer_all_DE_99p\"], figsize=(10, 1) ,show=False\n",
    ")"
   ],
   "outputs": [],
   "execution_count": null
  },
  {
   "cell_type": "code",
   "metadata": {},
   "source": [],
   "outputs": [],
   "execution_count": null
  },
  {
   "cell_type": "code",
   "metadata": {},
   "source": [
    "sc.pl.dotplot(\n",
    "    idata,\n",
    "    { 'TSK':['PTHLH','FEZ1','INHBA','MMP1','SERPINE2','IGFBP6','TNC','ITGA5','SPINK6','TMSB10','KRT18','FST','ODC1','ITGA6','SORL1','EMP3','EREG','TIMP3','LGALS1','TNFRSF12A','ATP1B1','MBOAT2','F3','ANXA1','KRT17','PHLDA1','LTBP1','CAPN2','IGFBP2','COL17A1','AREG','ARPC1B','GLIPR1','S100A6','CAV1','ADIRF','RBP1','UPP1','SDC1','GJB6','SLC7A8','RAB32','FXYD5','FSCN1']},\n",
    "        #'TSK':[\"MMP10\",\"PTHLH\",\"FEZ1\",\"IL24\",\"KCNMA1\",\"INHBA\",\"MAGEA4\",\"NT5E\",\"LAMC2\",\"SLITRK6\",\"MMP1\",\"SERPINE1\",\"SERPINE2\",\"IGFBP6\",\"TNC\",\"ITGA5\",\"ECM1\",\"SPINK6\",\"TMSB10\",\"KRT18\",\"FST\",\"ODC1\",\"LAMB3\",\"ITGA6\",\"ACTB\",\"ITGB1\",\"SORL1\",\"PFN1\",\"EMP3\",\"S100A10\",\"EREG\",\"LAMA3\",\"OCIAD2\",\"CTSV\",\"ANXA3\",\"S100A2\",\"MET\",\"CD99\",\"TMSB4X\",\"TIMP3\",\"TPM4\",\"NEFM\",\"SCG5\",\"SH3BGRL3\",\"PLAU\",\"PKM\",\"CD63\",\"LGALS1\",\"BMP1\",\"TNFRSF12A\",\"ATP1B1\",\"CFL1\",\"MBOAT2\",\"F3\",\"TNFRSF21\",\"CLIC1\",\"CAP1\",\"PDPN\",\"SERINC2\",\"ANXA1\",\"BSG\",\"DSG2\",\"RHOC\",\"KRT17\",\"PDLIM7\",\"PHLDA1\",\"GLO1\",\"LTBP1\",\"TAGLN2\",\"CD151\",\"CAPN2\",\"COL5A2\",\"IGFBP2\",\"P4HA2\",\"COL17A1\",\"PLEK2\",\"AREG\",\"ARPC1B\",\"GLIPR1\",\"S100A6\",\"PLOD3\",\"YWHAZ\",\"CAV1\",\"ADIRF\",\"TGFBI\",\"RBP1\",\"FSTL3\",\"C16orf74\",\"UPP1\",\"TNNT1\",\"ANXA5\",\"SDC1\",\"PRDX5\",\"MYL12A\",\"GJB6\",\"SLC7A8\",\"RAB32\",\"FXYD5\",\"FSCN1\"]},\n",
    "    standard_scale=\"var\",\n",
    "    color_map=\"Reds\",\n",
    "    groupby=\"KC_cancer_all_DE_99p\", figsize=(10, 1) ,show=False\n",
    ")"
   ],
   "outputs": [],
   "execution_count": null
  },
  {
   "cell_type": "markdown",
   "metadata": {},
   "source": [
    "### with raw data"
   ]
  },
  {
   "cell_type": "code",
   "metadata": {},
   "source": [
    "from matplotlib import rcParams\n",
    "\n",
    "sc.tl.rank_genes_groups(idata, 'cancer_status_corrected', method='wilcoxon', n_genes=200)\n",
    "sc.tl.filter_rank_genes_groups(idata)\n",
    "rcParams['figure.figsize'] = 4,4\n",
    "rcParams['axes.grid'] = True\n",
    "#sc.pl.rank_genes_groups(adata_KC_Basal, key='rank_genes_groups_filtered', ncols=3)\n",
    "\n",
    "axs = sc.pl.rank_genes_groups_dotplot(idata, n_genes=20, groups=['Cancer', 'Normal'])\n",
    "\n",
    "print(\"Cancer: \",idata.uns['rank_genes_groups']['names']['Cancer'].tolist()[:100])\n",
    "print(\"Normal: \",idata.uns['rank_genes_groups']['names']['Normal'].tolist()[:100])"
   ],
   "outputs": [],
   "execution_count": null
  },
  {
   "cell_type": "code",
   "metadata": {},
   "source": [
    "## SCC genes from literature\n",
    "def split_umap(adata, split_by, ncol=2, nrow=None, **kwargs):\n",
    "    categories = adata.obs[split_by].cat.categories\n",
    "    if nrow is None:\n",
    "        nrow = int(np.ceil(len(categories) / ncol))\n",
    "    fig, axs = plt.subplots(nrow, ncol, figsize=(5*ncol, 4*nrow))\n",
    "    axs = axs.flatten()\n",
    "    for i, cat in enumerate(categories):\n",
    "        ax = axs[i]\n",
    "        sc.pl.umap(adata[adata.obs[split_by] == cat], ax=ax, show=False, title=cat, **kwargs)\n",
    "    plt.tight_layout()\n",
    "\n",
    "\n",
    "import scanpy as sc\n",
    "\n",
    "# Define your gene sets\n",
    "gene_sets = {\n",
    " #   'Dys_Cancer': i.uns['rank_genes_groups']['names']['Cancer'].tolist()[:100],\n",
    "    'all_Cancer': idata.uns['rank_genes_groups']['names']['Cancer'].tolist()[:100],\n",
    "    'TSK':['PTHLH','FEZ1','INHBA','MMP1','SERPINE2','IGFBP6','TNC','ITGA5','SPINK6','TMSB10','KRT18','FST','ODC1','ITGA6','SORL1','EMP3','EREG','TIMP3','LGALS1','TNFRSF12A','ATP1B1','MBOAT2','F3','ANXA1','KRT17','PHLDA1','LTBP1','CAPN2','IGFBP2','COL17A1','AREG','ARPC1B','GLIPR1','S100A6','CAV1','ADIRF','RBP1','UPP1','SDC1','GJB6','SLC7A8','RAB32','FXYD5','FSCN1']\n",
    "} #\"GDF15\"=\"PLAB\", MLANA=MART1\n",
    "\n",
    "# Calculate and add module scores\n",
    "for name, genes in gene_sets.items():\n",
    "    sc.tl.score_genes(idata, gene_list=genes, score_name=name)\n",
    "\n",
    "# Inspect the results\n",
    "#print(mel.obs.head())\n",
    "#idata.obs['cancer'] = ['cancer' if x == 'KC Cancer' else 'Others' for x in scc.obs['Level3_Cancer']]\n",
    "#idata.obs['cancer'] = idata.obs['cancer'].astype('category')\n",
    "\n",
    "# Plot the module scores\n",
    "split_umap(idata, color=['all_Cancer'], size=5,split_by='cancer_status_corrected')\n",
    "split_umap(idata, color=['TSK'], size=5,split_by='cancer_status_corrected')\n",
    "\n",
    "#split_umap(scc, color = ['InferCNV_and_CopyKAT_aneuploid'], split_by='cancer_status',legend_loc = \"right margin\")\n"
   ],
   "outputs": [],
   "execution_count": null
  },
  {
   "cell_type": "code",
   "metadata": {},
   "source": [
    "import matplotlib.pyplot as plt\n",
    "import seaborn as sns\n",
    "\n",
    "# Extract the 'all_Cancer' data from adata.obs\n",
    "all_cancer_values = idata.obs['all_Cancer']\n",
    "\n",
    "# Plot a histogram using seaborn for better visualization\n",
    "plt.figure(figsize=(8, 5))\n",
    "sns.histplot(all_cancer_values, kde=False, bins=30, color='blue', edgecolor='black')\n",
    "\n",
    "# Add titles and labels\n",
    "plt.title('Histogram of all_Cancer', fontsize=14)\n",
    "plt.xlabel('all_Cancer', fontsize=12)\n",
    "plt.ylabel('Frequency', fontsize=12)\n",
    "\n",
    "# Show the plot\n",
    "plt.tight_layout()\n",
    "plt.show()\n",
    "import numpy as np\n",
    "# Extract the 'all_Cancer' data from adata.obs\n",
    "all_cancer_values = idata.obs['all_Cancer']\n",
    "# Calculate the 90th percentile\n",
    "percentile_90 = np.percentile(all_cancer_values, 90)\n",
    "percentile_95 = np.percentile(all_cancer_values, 95)\n",
    "percentile_99 = np.percentile(all_cancer_values, 99)\n",
    "percentile_995 = np.percentile(all_cancer_values, 99.5)\n",
    "\n",
    "\n",
    "# Print the result\n",
    "print(f\"90th Percentile of 'all_Cancer': {percentile_90}\")\n",
    "print(f\"95th Percentile of 'all_Cancer': {percentile_95}\")\n",
    "print(f\"99th Percentile of 'all_Cancer': {percentile_99}\")\n",
    "print(f\"99.5th Percentile of 'all_Cancer': {percentile_995}\")"
   ],
   "outputs": [],
   "execution_count": null
  },
  {
   "cell_type": "code",
   "metadata": {},
   "source": [
    "import matplotlib.pyplot as plt\n",
    "import seaborn as sns\n",
    "\n",
    "# Extract the 'all_Cancer' data from adata.obs\n",
    "TSK_values = idata.obs['TSK']\n",
    "\n",
    "# Plot a histogram using seaborn for better visualization\n",
    "plt.figure(figsize=(8, 5))\n",
    "sns.histplot(all_cancer_values, kde=False, bins=30, color='blue', edgecolor='black')\n",
    "\n",
    "# Add titles and labels\n",
    "plt.title('Histogram of all_Cancer', fontsize=14)\n",
    "plt.xlabel('all_Cancer', fontsize=12)\n",
    "plt.ylabel('Frequency', fontsize=12)\n",
    "\n",
    "# Show the plot\n",
    "plt.tight_layout()\n",
    "plt.show()\n",
    "import numpy as np\n",
    "# Extract the 'all_Cancer' data from adata.obs\n",
    "# Calculate the 90th percentile\n",
    "TSKpercentile_90 = np.percentile(TSK_values, 90)\n",
    "TSKpercentile_95 = np.percentile(TSK_values, 95)\n",
    "TSKpercentile_99 = np.percentile(TSK_values, 99)\n",
    "TSKpercentile_995 = np.percentile(TSK_values, 99.5)\n",
    "\n",
    "\n",
    "# Print the result\n",
    "print(f\"90th Percentile of 'TSK': {TSKpercentile_90}\")\n",
    "print(f\"95th Percentile of 'TSK': {TSKpercentile_95}\")\n",
    "print(f\"99th Percentile of 'TSK': {TSKpercentile_99}\")\n",
    "print(f\"99.5th Percentile of 'TSK': {TSKpercentile_995}\")"
   ],
   "outputs": [],
   "execution_count": null
  },
  {
   "cell_type": "code",
   "metadata": {},
   "source": [
    "# Define the condition\n",
    "condition90p = (idata.obs['Aneuploid_combined_clusters'] == 'overlap') & (idata.obs['all_Cancer'] > 1.24)\n",
    "condition95p = (idata.obs['Aneuploid_combined_clusters'] == 'overlap') & (idata.obs['all_Cancer'] > 1.41)\n",
    "condition99p = (idata.obs['Aneuploid_combined_clusters'] == 'overlap') & (idata.obs['all_Cancer'] > 1.61)\n",
    "condition99_5p = (idata.obs['Aneuploid_combined_clusters'] == 'overlap') & (idata.obs['all_Cancer'] > 1.65)\n",
    "\n",
    "# Assign colors: 'red' for cells meeting the condition, 'grey' otherwise\n",
    "idata.obs['KC_cancer_all_DE_90p'] = ['Cancer' if cond else 'Normal' for cond in condition90p]\n",
    "idata.obs['KC_cancer_all_DE_95p'] = ['Cancer' if cond else 'Normal' for cond in condition95p]\n",
    "idata.obs['KC_cancer_all_DE_99p'] = ['Cancer' if cond else 'Normal' for cond in condition99p]\n",
    "idata.obs['KC_cancer_all_DE_99_5p'] = ['Cancer' if cond else 'Normal' for cond in condition99_5p]\n",
    "\n",
    "# Define a color map\n",
    "color_map = {'Cancer': 'red', 'Normal': 'lightgrey'}\n",
    "\n",
    "# Plot UMAP\n",
    "sc.pl.umap(idata, color=['KC_cancer_all_DE_90p','KC_cancer_all_DE_95p','KC_cancer_all_DE_99p','KC_cancer_all_DE_99_5p'], palette=color_map, size=5)\n",
    "\n",
    "\n",
    "# Assuming `df` is your DataFrame\n",
    "cancer_count90p = idata.obs[idata.obs['KC_cancer_all_DE_90p'] == 'Cancer'].shape[0]\n",
    "cancer_count95p=idata.obs[idata.obs['KC_cancer_all_DE_95p'] == 'Cancer'].shape[0]\n",
    "cancer_count99p=idata.obs[idata.obs['KC_cancer_all_DE_99p'] == 'Cancer'].shape[0]\n",
    "cancer_count99_5p=idata.obs[idata.obs['KC_cancer_all_DE_99_5p'] == 'Cancer'].shape[0]\n",
    "\n",
    "print(f\"Number of cells marked as 'Cancer' 90th percentile: {cancer_count90p}\")\n",
    "print(f\"Number of cells marked as 'Cancer' 95th percentile: {cancer_count95p}\")\n",
    "print(f\"Number of cells marked as 'Cancer' 99th percentile: {cancer_count99p}\")\n",
    "print(f\"Number of cells marked as 'Cancer' 99.5th percentile: {cancer_count99_5p}\")\n",
    "\n",
    "\n",
    "\n",
    "\n",
    "\n",
    "\n",
    "\n",
    "TSKcondition90p = (idata.obs['Aneuploid_combined_clusters'] == 'overlap') & (idata.obs['TSK'] > 0.24)\n",
    "TSKcondition95p = (idata.obs['Aneuploid_combined_clusters'] == 'overlap') & (idata.obs['TSK'] > 0.31)\n",
    "TSKcondition99p = (idata.obs['Aneuploid_combined_clusters'] == 'overlap') & (idata.obs['TSK'] > 0.47)\n",
    "TSKcondition99_5p = (idata.obs['Aneuploid_combined_clusters'] == 'overlap') & (idata.obs['TSK'] > 0.56)\n",
    "\n",
    "# Assign colors: 'red' for cells meeting the condition, 'grey' otherwise\n",
    "idata.obs['TSKKC_cancer_all_DE_90p'] = ['Cancer' if cond else 'Normal' for cond in TSKcondition90p]\n",
    "idata.obs['TSKKC_cancer_all_DE_95p'] = ['Cancer' if cond else 'Normal' for cond in TSKcondition95p]\n",
    "idata.obs['TSKKC_cancer_all_DE_99p'] = ['Cancer' if cond else 'Normal' for cond in TSKcondition99p]\n",
    "idata.obs['TSKKC_cancer_all_DE_99_5p'] = ['Cancer' if cond else 'Normal' for cond in TSKcondition99_5p]\n",
    "\n",
    "# Define a color map\n",
    "color_map = {'Cancer': 'red', 'Normal': 'lightgrey'}\n",
    "\n",
    "# Plot UMAP\n",
    "sc.pl.umap(idata, color=['TSKKC_cancer_all_DE_90p','TSKKC_cancer_all_DE_95p','TSKKC_cancer_all_DE_99p','TSKKC_cancer_all_DE_99_5p'], palette=color_map, size=5)\n",
    "\n",
    "\n",
    "# Assuming `df` is your DataFrame\n",
    "TSKcancer_count90p = idata.obs[idata.obs['TSKKC_cancer_all_DE_90p'] == 'Cancer'].shape[0]\n",
    "TSKcancer_count95p=idata.obs[idata.obs['TSKKC_cancer_all_DE_95p'] == 'Cancer'].shape[0]\n",
    "TSKcancer_count99p=idata.obs[idata.obs['TSKKC_cancer_all_DE_99p'] == 'Cancer'].shape[0]\n",
    "TSKcancer_count99_5p=idata.obs[idata.obs['TSKKC_cancer_all_DE_99_5p'] == 'Cancer'].shape[0]\n",
    "\n",
    "print(f\"Number of cells marked as 'Cancer' 90th percentile: {TSKcancer_count90p}\")\n",
    "print(f\"Number of cells marked as 'Cancer' 95th percentile: {TSKcancer_count95p}\")\n",
    "print(f\"Number of cells marked as 'Cancer' 99th percentile: {TSKcancer_count99p}\")\n",
    "print(f\"Number of cells marked as 'Cancer' 99.5th percentile: {TSKcancer_count99_5p}\")\n",
    "\n"
   ],
   "outputs": [],
   "execution_count": null
  },
  {
   "cell_type": "code",
   "metadata": {},
   "source": [
    "TSK_df=idata.obs[idata.obs['TSKKC_cancer_all_DE_90p'] == 'Cancer']\n",
    "print(TSK_df['KC_cancer_all_DE_99p'].value_counts())\n",
    "print(TSK_df['KC_cancer_all_DE_95p'].value_counts())\n"
   ],
   "outputs": [],
   "execution_count": null
  },
  {
   "cell_type": "code",
   "metadata": {
    "scrolled": true
   },
   "source": [
    "raw=idata.raw\n",
    "\n",
    "# Define the desired order of 'Level3' categories\n",
    "SAMPLE_order = [\n",
    " 'P5_SCC_BCC',\n",
    " 'P1_SCC',\n",
    " 'P2_SCC1',\n",
    " 'P2_SCC2',\n",
    " 'P3_IEC',\n",
    " 'P4_SCC',\n",
    " 'P4_N','P5_N', 'P3_N', 'P2_N', 'P1_N']\n",
    "\n",
    "# Set 'Level3' as a categorical variable with the defined order\n",
    "idata.obs['sample_ID_corrected'] = pd.Categorical(\n",
    "    idata.obs['sample_ID_corrected'], \n",
    "    categories=SAMPLE_order, \n",
    "    ordered=True\n",
    ")\n",
    "#idata.raw=None\n",
    "sc.pl.dotplot(\n",
    "    idata,\n",
    "    {'pyDEraw':idata.uns['rank_genes_groups']['names']['Cancer'].tolist()[:100]},\n",
    "    color_map=\"Reds\",\n",
    "    groupby=\"sample_ID_corrected\", figsize=(20, 3) ,show=False\n",
    ")\n",
    "\n",
    "sc.pl.dotplot(\n",
    "    idata,\n",
    "    {'pyDEraw':idata.uns['rank_genes_groups']['names']['Cancer'].tolist()[:100]},\n",
    "    color_map=\"Reds\",\n",
    "    groupby=\"cancer_status_corrected\", figsize=(20, 3) ,show=False\n",
    ")"
   ],
   "outputs": [],
   "execution_count": null
  },
  {
   "cell_type": "code",
   "metadata": {},
   "source": [
    "raw=idata.raw\n",
    "\n",
    "idata_no_raw=idata.copy()\n",
    "idata_no_raw.raw=None\n",
    "\n",
    "sc.pl.dotplot(\n",
    "    idata_no_raw,\n",
    "    {'pyDEraw':['IFI27','KRT6A','FABP5','KRT16','S100A7','TMSB10','TYMP','IFITM3','KRT6B','CALML3','ENO1','DBI','TXNDC17','KRT6C','PSME2','S100A6','LY6E','CSTB','GJB2','CHCHD10','SNHG25','IFI6','CD74','SLIRP','ATOX1','WDR66','TNFSF10','KRT17','S100A13','CTSC','IFI16','DSC2','CRABP2','TPD52L1','GJB6']},\n",
    "    color_map=\"Reds\",\n",
    "    groupby=\"cancer_status_corrected\", figsize=(20, 3) ,show=False\n",
    ")\n",
    "\n",
    "sc.pl.dotplot(\n",
    "    idata_no_raw,\n",
    "    {'pyDEraw':['IFI27','KRT6A','FABP5','KRT16','S100A7','TMSB10','TYMP','IFITM3','KRT6B','CALML3','ENO1','DBI','TXNDC17','KRT6C','PSME2','S100A6','LY6E','CSTB','GJB2','CHCHD10','SNHG25','IFI6','CD74','SLIRP','ATOX1','WDR66','TNFSF10','KRT17','S100A13','CTSC','IFI16','DSC2','CRABP2','TPD52L1','GJB6']},\n",
    "    color_map=\"Reds\",\n",
    "    groupby=\"sample_ID_corrected\", figsize=(20, 3) ,show=False\n",
    ")"
   ],
   "outputs": [],
   "execution_count": null
  },
  {
   "cell_type": "code",
   "metadata": {},
   "source": [
    "split_umap(idata, color = ['KC_cancer_all_DE_99p'], split_by='diagnosis_corrected',legend_loc = \"on data\")"
   ],
   "outputs": [],
   "execution_count": null
  },
  {
   "cell_type": "markdown",
   "metadata": {},
   "source": [
    "### edgeR genes"
   ]
  },
  {
   "cell_type": "code",
   "metadata": {},
   "source": [
    "raw=idata.raw\n",
    "#idata.raw=None\n",
    "sc.pl.dotplot(\n",
    "    idata,\n",
    "    { #'DE':['BST2','CCL4','PLA2G16','CSRP2','CFH'],\n",
    "    'DE2':['RAB5IF','IFI44L','BST2','PITX1','SAMD9','IRF7','TMEM132A','HENMT1','CCL21','USP18','CTPS1','EEF1AKMT4','TIMM13','CKMT1B','COX7B','TPI1','RASIP1','MPZL1','CAPNS1','FCF1','CD3D','LYZ','EIF4EBP1','AKR1B10','CDKN2A','CSRP2','SRM','TMSB10','CCL5','NETO2','XAF1','EPSTI1','SNX10','OASL','CLEC7A','IFI27','APOL3','IFI6','ISG15','MX1','HERC6','OAS1','MYLK','S100A9','KRT6C','CTSB','CXCR4','U62317.1','LINC01006','SLC43A2','TNFRSF21','IFITM3','APOL1','TYMP','IFIT3','IFI44','IFIT1','OAS2','CBX3','PSME2','ATP5MF','PSMA7','ENO1','AGTRAP','FABP6','KRT13','STAT1','GBP1','PARP14','SAMD9L','GTF3C6','ISG20','DDX60','DTX3L','APOL6','PARP9','OAS3','GNG11','SNHG25','MLKL','EIF2S2','OAF','MINOS1','SLIRP','NQO1','PYCR1','POLR3G','GCLM','HLA-DPA1','CTSC','G6PC3','STEAP3','TRIM22','CD52','LTB','ACP2','RTL6','SLC7A8','LGALS3BP','FBLIM1','HLA-DMA']},\n",
    "        #'TSK':[\"MMP10\",\"PTHLH\",\"FEZ1\",\"IL24\",\"KCNMA1\",\"INHBA\",\"MAGEA4\",\"NT5E\",\"LAMC2\",\"SLITRK6\",\"MMP1\",\"SERPINE1\",\"SERPINE2\",\"IGFBP6\",\"TNC\",\"ITGA5\",\"ECM1\",\"SPINK6\",\"TMSB10\",\"KRT18\",\"FST\",\"ODC1\",\"LAMB3\",\"ITGA6\",\"ACTB\",\"ITGB1\",\"SORL1\",\"PFN1\",\"EMP3\",\"S100A10\",\"EREG\",\"LAMA3\",\"OCIAD2\",\"CTSV\",\"ANXA3\",\"S100A2\",\"MET\",\"CD99\",\"TMSB4X\",\"TIMP3\",\"TPM4\",\"NEFM\",\"SCG5\",\"SH3BGRL3\",\"PLAU\",\"PKM\",\"CD63\",\"LGALS1\",\"BMP1\",\"TNFRSF12A\",\"ATP1B1\",\"CFL1\",\"MBOAT2\",\"F3\",\"TNFRSF21\",\"CLIC1\",\"CAP1\",\"PDPN\",\"SERINC2\",\"ANXA1\",\"BSG\",\"DSG2\",\"RHOC\",\"KRT17\",\"PDLIM7\",\"PHLDA1\",\"GLO1\",\"LTBP1\",\"TAGLN2\",\"CD151\",\"CAPN2\",\"COL5A2\",\"IGFBP2\",\"P4HA2\",\"COL17A1\",\"PLEK2\",\"AREG\",\"ARPC1B\",\"GLIPR1\",\"S100A6\",\"PLOD3\",\"YWHAZ\",\"CAV1\",\"ADIRF\",\"TGFBI\",\"RBP1\",\"FSTL3\",\"C16orf74\",\"UPP1\",\"TNNT1\",\"ANXA5\",\"SDC1\",\"PRDX5\",\"MYL12A\",\"GJB6\",\"SLC7A8\",\"RAB32\",\"FXYD5\",\"FSCN1\"]},\n",
    "    standard_scale=\"var\",\n",
    "    color_map=\"Reds\",\n",
    "    groupby=\"cancer_status_corrected\", figsize=(20, 3) ,show=False\n",
    ")"
   ],
   "outputs": [],
   "execution_count": null
  },
  {
   "cell_type": "code",
   "metadata": {},
   "source": [
    "idata.obs['sample_ID_corrected'].unique().tolist()"
   ],
   "outputs": [],
   "execution_count": null
  },
  {
   "cell_type": "code",
   "metadata": {},
   "source": [
    "raw=idata.raw\n",
    "\n",
    "# Define the desired order of 'Level3' categories\n",
    "SAMPLE_order = [\n",
    " 'P5_SCC_BCC',\n",
    " 'P1_SCC',\n",
    " 'P2_SCC1',\n",
    " 'P2_SCC2',\n",
    " 'P3_IEC',\n",
    " 'P4_SCC',\n",
    " 'P4_N','P5_N', 'P3_N', 'P2_N', 'P1_N']\n",
    "\n",
    "# Set 'Level3' as a categorical variable with the defined order\n",
    "idata.obs['sample_ID_corrected'] = pd.Categorical(\n",
    "    idata.obs['sample_ID_corrected'], \n",
    "    categories=SAMPLE_order, \n",
    "    ordered=True\n",
    ")\n",
    "#idata.raw=None\n",
    "sc.pl.dotplot(\n",
    "    idata,\n",
    "    { #'DE':['BST2','CCL4','PLA2G16','CSRP2','CFH'],\n",
    "    'DE2':['RAB5IF','IFI44L','BST2','PITX1','SAMD9','IRF7','TMEM132A','HENMT1','CCL21','USP18','CTPS1','EEF1AKMT4','TIMM13','CKMT1B','COX7B','TPI1','RASIP1','MPZL1','CAPNS1','FCF1','CD3D','LYZ','EIF4EBP1','AKR1B10','CDKN2A','CSRP2','SRM','TMSB10','CCL5','NETO2','XAF1','EPSTI1','SNX10','OASL','CLEC7A','IFI27','APOL3','IFI6','ISG15','MX1','HERC6','OAS1','MYLK','S100A9','KRT6C','CTSB','CXCR4','U62317.1','LINC01006','SLC43A2','TNFRSF21','IFITM3','APOL1','TYMP','IFIT3','IFI44','IFIT1','OAS2','CBX3','PSME2','ATP5MF','PSMA7','ENO1','AGTRAP','FABP6','KRT13','STAT1','GBP1','PARP14','SAMD9L','GTF3C6','ISG20','DDX60','DTX3L','APOL6','PARP9','OAS3','GNG11','SNHG25','MLKL','EIF2S2','OAF','MINOS1','SLIRP','NQO1','PYCR1','POLR3G','GCLM','HLA-DPA1','CTSC','G6PC3','STEAP3','TRIM22','CD52','LTB','ACP2','RTL6','SLC7A8','LGALS3BP','FBLIM1','HLA-DMA']},    standard_scale=\"var\",\n",
    "    color_map=\"Reds\",\n",
    "    groupby=\"sample_ID_corrected\", figsize=(20, 3) ,show=False\n",
    ")"
   ],
   "outputs": [],
   "execution_count": null
  },
  {
   "cell_type": "code",
   "metadata": {},
   "source": [
    "## not raw\n",
    "idatacp=idata\n",
    "idatacp.raw=None\n",
    "sc.pl.dotplot(\n",
    "    idatacp,\n",
    "    { #'DE':['BST2','CCL4','PLA2G16','CSRP2','CFH'],\n",
    "    'DE2':['IFI44L','BST2','SAMD9','TMEM132A','HENMT1','CCL21','CD3D','LYZ','EIF4EBP1','AKR1B10','CDKN2A','CSRP2','SRM','TMSB10','CCL5','NETO2','EPSTI1','SNX10','OASL','CLEC7A','IFI27','APOL3','IFI6','ISG15','MX1','MYLK','KRT6C','CTSB','CXCR4','IFITM3','TYMP','IFIT3','IFI44','IFIT1','PSME2','ENO1','FABP6','KRT13','GBP1','ISG20','GNG11','SNHG25','OAF','SLIRP','HLA-DPA1','CTSC','TRIM22','CD52','LTB','SLC7A8','HLA-DMA']},\n",
    "        #'TSK':[\"MMP10\",\"PTHLH\",\"FEZ1\",\"IL24\",\"KCNMA1\",\"INHBA\",\"MAGEA4\",\"NT5E\",\"LAMC2\",\"SLITRK6\",\"MMP1\",\"SERPINE1\",\"SERPINE2\",\"IGFBP6\",\"TNC\",\"ITGA5\",\"ECM1\",\"SPINK6\",\"TMSB10\",\"KRT18\",\"FST\",\"ODC1\",\"LAMB3\",\"ITGA6\",\"ACTB\",\"ITGB1\",\"SORL1\",\"PFN1\",\"EMP3\",\"S100A10\",\"EREG\",\"LAMA3\",\"OCIAD2\",\"CTSV\",\"ANXA3\",\"S100A2\",\"MET\",\"CD99\",\"TMSB4X\",\"TIMP3\",\"TPM4\",\"NEFM\",\"SCG5\",\"SH3BGRL3\",\"PLAU\",\"PKM\",\"CD63\",\"LGALS1\",\"BMP1\",\"TNFRSF12A\",\"ATP1B1\",\"CFL1\",\"MBOAT2\",\"F3\",\"TNFRSF21\",\"CLIC1\",\"CAP1\",\"PDPN\",\"SERINC2\",\"ANXA1\",\"BSG\",\"DSG2\",\"RHOC\",\"KRT17\",\"PDLIM7\",\"PHLDA1\",\"GLO1\",\"LTBP1\",\"TAGLN2\",\"CD151\",\"CAPN2\",\"COL5A2\",\"IGFBP2\",\"P4HA2\",\"COL17A1\",\"PLEK2\",\"AREG\",\"ARPC1B\",\"GLIPR1\",\"S100A6\",\"PLOD3\",\"YWHAZ\",\"CAV1\",\"ADIRF\",\"TGFBI\",\"RBP1\",\"FSTL3\",\"C16orf74\",\"UPP1\",\"TNNT1\",\"ANXA5\",\"SDC1\",\"PRDX5\",\"MYL12A\",\"GJB6\",\"SLC7A8\",\"RAB32\",\"FXYD5\",\"FSCN1\"]},\n",
    "    standard_scale=\"var\",\n",
    "    color_map=\"Reds\",\n",
    "    groupby=[\"cancer_status_corrected\",\"sample_ID_corrected\"], figsize=(20, 3) ,show=False\n",
    ")"
   ],
   "outputs": [],
   "execution_count": null
  },
  {
   "cell_type": "code",
   "metadata": {},
   "source": [
    "# mod scores from edgeR list"
   ],
   "outputs": [],
   "execution_count": null
  },
  {
   "cell_type": "code",
   "metadata": {},
   "source": [
    "## SCC genes from literature\n",
    "def split_umap(adata, split_by, ncol=2, nrow=None, **kwargs):\n",
    "    categories = adata.obs[split_by].cat.categories\n",
    "    if nrow is None:\n",
    "        nrow = int(np.ceil(len(categories) / ncol))\n",
    "    fig, axs = plt.subplots(nrow, ncol, figsize=(5*ncol, 4*nrow))\n",
    "    axs = axs.flatten()\n",
    "    for i, cat in enumerate(categories):\n",
    "        ax = axs[i]\n",
    "        sc.pl.umap(adata[adata.obs[split_by] == cat], ax=ax, show=False, title=cat, **kwargs)\n",
    "    plt.tight_layout()\n",
    "\n",
    "\n",
    "#idata_raw=idata\n",
    "#idata_raw.X = idata_raw.raw\n",
    "\n",
    "# Define your gene sets\n",
    "gene_sets = {\n",
    "'DE2':['RAB5IF','IFI44L','BST2','PITX1','SAMD9','IRF7','TMEM132A','HENMT1','CCL21','USP18','CTPS1','EEF1AKMT4','TIMM13','CKMT1B','COX7B','TPI1','RASIP1','MPZL1','CAPNS1','FCF1','CD3D','LYZ','EIF4EBP1','AKR1B10','CDKN2A','CSRP2','SRM','TMSB10','CCL5','NETO2','XAF1','EPSTI1','SNX10','OASL','CLEC7A','IFI27','APOL3','IFI6','ISG15','MX1','HERC6','OAS1','MYLK','S100A9','KRT6C','CTSB','CXCR4','U62317.1','LINC01006','SLC43A2','TNFRSF21','IFITM3','APOL1','TYMP','IFIT3','IFI44','IFIT1','OAS2','CBX3','PSME2','ATP5MF','PSMA7','ENO1','AGTRAP','FABP6','KRT13','STAT1','GBP1','PARP14','SAMD9L','GTF3C6','ISG20','DDX60','DTX3L','APOL6','PARP9','OAS3','GNG11','SNHG25','MLKL','EIF2S2','OAF','MINOS1','SLIRP','NQO1','PYCR1','POLR3G','GCLM','HLA-DPA1','CTSC','G6PC3','STEAP3','TRIM22','CD52','LTB','ACP2','RTL6','SLC7A8','LGALS3BP','FBLIM1','HLA-DMA']\n",
    "} #\"GDF15\"=\"PLAB\", MLANA=MART1\n",
    "\n",
    "# Calculate and add module scores\n",
    "for name, genes in gene_sets.items():\n",
    "    sc.tl.score_genes(idata, gene_list=genes, score_name=name)\n",
    "\n",
    "# Inspect the results\n",
    "#print(mel.obs.head())\n",
    "#idata.obs['cancer'] = ['cancer' if x == 'KC Cancer' else 'Others' for x in scc.obs['Level3_Cancer']]\n",
    "#idata.obs['cancer'] = idata.obs['cancer'].astype('category')\n",
    "\n",
    "# Plot the module scores\n",
    "split_umap(idata, color=['DE2'], size=5,split_by='cancer_status_corrected')\n",
    "\n",
    "#split_umap(scc, color = ['InferCNV_and_CopyKAT_aneuploid'], split_by='cancer_status',legend_loc = \"right margin\")\n"
   ],
   "outputs": [],
   "execution_count": null
  },
  {
   "cell_type": "code",
   "metadata": {},
   "source": [
    "import matplotlib.pyplot as plt\n",
    "import seaborn as sns\n",
    "\n",
    "# Extract the 'all_Cancer' data from adata.obs\n",
    "all_cancer_values = idata.obs['DE2']\n",
    "\n",
    "# Plot a histogram using seaborn for better visualization\n",
    "plt.figure(figsize=(8, 5))\n",
    "sns.histplot(all_cancer_values, kde=False, bins=30, color='blue', edgecolor='black')\n",
    "\n",
    "# Add titles and labels\n",
    "plt.title('Histogram of all_Cancer', fontsize=14)\n",
    "plt.xlabel('all_Cancer', fontsize=12)\n",
    "plt.ylabel('Frequency', fontsize=12)\n",
    "\n",
    "# Show the plot\n",
    "plt.tight_layout()\n",
    "plt.show()\n",
    "import numpy as np\n",
    "# Extract the 'all_Cancer' data from adata.obs\n",
    "all_cancer_values = idata.obs['DE2']\n",
    "# Calculate the 90th percentile\n",
    "percentile_90 = np.percentile(all_cancer_values, 90)\n",
    "percentile_95 = np.percentile(all_cancer_values, 95)\n",
    "percentile_99 = np.percentile(all_cancer_values, 99)\n",
    "percentile_995 = np.percentile(all_cancer_values, 99.5)\n",
    "\n",
    "\n",
    "# Print the result\n",
    "print(f\"90th Percentile of 'all_Cancer': {percentile_90}\")\n",
    "print(f\"95th Percentile of 'all_Cancer': {percentile_95}\")\n",
    "print(f\"99th Percentile of 'all_Cancer': {percentile_99}\")\n",
    "print(f\"99.5th Percentile of 'all_Cancer': {percentile_995}\")"
   ],
   "outputs": [],
   "execution_count": null
  },
  {
   "cell_type": "code",
   "metadata": {},
   "source": [
    "# Define the condition\n",
    "condition90p = (idata.obs['Aneuploid_combined_clusters'] == 'overlap') & (idata.obs['DE2'] > 0.24)\n",
    "condition95p = (idata.obs['Aneuploid_combined_clusters'] == 'overlap') & (idata.obs['DE2'] > 0.31)\n",
    "condition99p = (idata.obs['Aneuploid_combined_clusters'] == 'overlap') & (idata.obs['DE2'] > 0.42)\n",
    "condition99_5p = (idata.obs['Aneuploid_combined_clusters'] == 'overlap') & (idata.obs['DE2'] > 0.47)\n",
    "\n",
    "# Assign colors: 'red' for cells meeting the condition, 'grey' otherwise\n",
    "idata.obs['eKC_cancer_all_DE_90p'] = ['Cancer' if cond else 'Normal' for cond in condition90p]\n",
    "idata.obs['eKC_cancer_all_DE_95p'] = ['Cancer' if cond else 'Normal' for cond in condition95p]\n",
    "idata.obs['eKC_cancer_all_DE_99p'] = ['Cancer' if cond else 'Normal' for cond in condition99p]\n",
    "idata.obs['eKC_cancer_all_DE_99_5p'] = ['Cancer' if cond else 'Normal' for cond in condition99_5p]\n",
    "\n",
    "# Define a color map\n",
    "color_map = {'Cancer': 'red', 'Normal': 'lightgrey'}\n",
    "\n",
    "# Plot UMAP\n",
    "sc.pl.umap(idata, color=['eKC_cancer_all_DE_90p','eKC_cancer_all_DE_95p','eKC_cancer_all_DE_99p','eKC_cancer_all_DE_99_5p'], palette=color_map, size=5)\n",
    "\n",
    "\n",
    "# Assuming `df` is your DataFrame\n",
    "cancer_count90p = idata.obs[idata.obs['eKC_cancer_all_DE_90p'] == 'Cancer'].shape[0]\n",
    "cancer_count95p=idata.obs[idata.obs['eKC_cancer_all_DE_95p'] == 'Cancer'].shape[0]\n",
    "cancer_count99p=idata.obs[idata.obs['eKC_cancer_all_DE_99p'] == 'Cancer'].shape[0]\n",
    "cancer_count99_5p=idata.obs[idata.obs['eKC_cancer_all_DE_99_5p'] == 'Cancer'].shape[0]\n",
    "\n",
    "print(f\"Number of cells marked as 'Cancer' 90th percentile: {cancer_count90p}\")\n",
    "print(f\"Number of cells marked as 'Cancer' 95th percentile: {cancer_count95p}\")\n",
    "print(f\"Number of cells marked as 'Cancer' 99th percentile: {cancer_count99p}\")\n",
    "print(f\"Number of cells marked as 'Cancer' 99.5th percentile: {cancer_count99_5p}\")\n",
    "\n"
   ],
   "outputs": [],
   "execution_count": null
  },
  {
   "cell_type": "code",
   "metadata": {},
   "source": [
    "KC_cancer_all_DE_99p=idata.obs[idata.obs['KC_cancer_all_DE_99p'] == 'Cancer']\n",
    "KC_cancer_all_DE_99p['Level3_final'].value_counts()"
   ],
   "outputs": [],
   "execution_count": null
  },
  {
   "cell_type": "code",
   "metadata": {},
   "source": [
    "print(KC_cancer_all_DE_99p['Level3_Cancer'].value_counts())\n",
    "idata.obs['Level3_Cancer'].value_counts()"
   ],
   "outputs": [],
   "execution_count": null
  },
  {
   "cell_type": "code",
   "metadata": {},
   "source": [
    "TSK_df=idata.obs[idata.obs['TSKKC_cancer_all_DE_99p'] == 'Cancer']\n",
    "print(TSK_df['eKC_cancer_all_DE_99p'].value_counts())\n",
    "print(TSK_df['eKC_cancer_all_DE_95p'].value_counts())\n"
   ],
   "outputs": [],
   "execution_count": null
  },
  {
   "cell_type": "code",
   "metadata": {},
   "source": [
    "TSK=['CACAGTAGTCAGCTAT-3','CGTGTAACAAGACACG-3','GCTCTGTCATTGAGCT-3','GTCGTAAAGATAGTCA-3','TACTTACGTGATGCCC-3','TAAGCGTTCGCTTGTC-5','ACGGGTCTCGGAATCT-10','AGCGGTCCAAACGTGG-10','AGCTCCTAGGGCACTA-10','AGTAGTCCAAGCTGGA-10','ATCACGAGTCGCTTCT-10','CACACAATCCTAAGTG-10','CACCACTTCCACGTGG-10','CACCTTGAGTGTTTGC-10','CATCAGAGTCGAATCT-10','CCAGCGAAGTCGTACT-10','CCATTCGTCAATCACG-10','CCTAAAGAGAGCTGGT-10','CGCGGTAGTGCGGTAA-10','CGCTTCAGTAAATGAC-10','CGGAGTCTCAACCAAC-10','CGTCACTGTGCCTGGT-10','CGTGTCTGTGAGGCTA-10','CTAGCCTCACCGATAT-10','CTAGTGAGTAGGCTGA-10','CTCGTCACAGGTCTCG-10','CTTAGGATCCACGCAG-10','CTTCTCTGTCGACTGC-10','GCGACCAGTTTGACTG-10','GGCTGGTAGGATGTAT-10','GGGCACTCAATTCCTT-10','GGGTCTGTCCTCATTA-10','GTACTTTGTCTCCACT-10','TAAACCGAGTAGTGCG-10','TAAGAGACATGCAACT-10','TACAGTGCATTTCAGG-10','TGCGCAGCACCCTATC-10','TGGTTCCGTACAAGTA-10','TGTTCCGTCACCTCGT-10','TTGCGTCAGATACACA-10','TTTATGCCACTCGACG-10']\n",
    "\n",
    "      \n",
    "# Assuming TSK is a list of cell names\n",
    "#mask = scc.obs.index.isin(TSK)\n",
    "\n",
    "# Subset the AnnData object\n",
    "#scc_subset = scc[mask].copy()\n",
    "# Plot UMAP\n",
    "#sc.pl.umap(scc_subset, size=30, vmax=0.5)\n",
    "\n",
    "# Create a new column 'TSK' initialized with empty strings\n",
    "idata.obs['TSK'] = 'none'\n",
    "\n",
    "# Convert TSK list to a set for faster lookup\n",
    "TSK_set = set(TSK)\n",
    "\n",
    "# Update the 'TSK' column based on whether the index is in TSK\n",
    "idata.obs.loc[idata.obs.index.isin(TSK_set), 'TSK'] = 'TSK'\n",
    "\n",
    "\n",
    "import matplotlib.pyplot as plt\n",
    "import scanpy as sc\n",
    "\n",
    "# Create a figure and axis to plot both sets of cells on the same plot\n",
    "#fig, ax = plt.subplots()\n",
    "fig, ax = plt.subplots(figsize=(5, 5))  # Adjust figure size as needed\n",
    "\n",
    "# Define the color map\n",
    "colors = {\n",
    "    'TSK': 'red',\n",
    "    'none': 'lightgrey'\n",
    "}\n",
    "\n",
    "# Plot 'none' cells first (background layer)\n",
    "sc.pl.umap(\n",
    "    idata[idata.obs['TSK'] == 'none'],\n",
    "    color='TSK',\n",
    "    size=1,\n",
    "    palette={'none': 'lightgrey'},\n",
    "    ax=ax,\n",
    "    show=False\n",
    ")\n",
    "\n",
    "# Overlay other cells with specific colors (foreground layer)\n",
    "sc.pl.umap(\n",
    "    idata[idata.obs['TSK'] != 'none'],\n",
    "    color='TSK',\n",
    "    size=4,\n",
    "    palette=colors,\n",
    "    ax=ax,\n",
    "    show=False\n",
    ")\n",
    "# Display the combined plot\n",
    "\n",
    "\n",
    "# Optionally, you can check the result\n",
    "#sc.pl.umap(idata, color=['TSK'], size=10, vmax=0.5)\n"
   ],
   "outputs": [],
   "execution_count": null
  },
  {
   "cell_type": "code",
   "metadata": {},
   "source": [
    "TSK_df_lt=idata.obs[idata.obs['TSK'] == 'TSK']\n",
    "print(TSK_df_lt['eKC_cancer_all_DE_99p'].value_counts())\n",
    "print(TSK_df_lt['eKC_cancer_all_DE_95p'].value_counts())\n"
   ],
   "outputs": [],
   "execution_count": null
  },
  {
   "cell_type": "code",
   "metadata": {},
   "source": [
    "# python DE and edgeR consistency\n",
    "pyDE=idata.obs[idata.obs['KC_cancer_all_DE_95p'] == 'Cancer']\n",
    "print(pyDE['eKC_cancer_all_DE_95p'].value_counts())\n",
    "\n",
    "\n",
    "# python DE and edgeR consistency\n",
    "pyDE99=idata.obs[idata.obs['KC_cancer_all_DE_99p'] == 'Cancer']\n",
    "print(pyDE99['eKC_cancer_all_DE_99p'].value_counts())\n",
    "print(pyDE99['TSKKC_cancer_all_DE_99p'].value_counts())\n"
   ],
   "outputs": [],
   "execution_count": null
  },
  {
   "cell_type": "code",
   "metadata": {},
   "source": [
    "EDGER=idata.obs[idata.obs['eKC_cancer_all_DE_99p'] == 'Cancer']\n",
    "print(EDGER['TSKKC_cancer_all_DE_99p'].value_counts())\n",
    "print(EDGER['KC_cancer_all_DE_99p'].value_counts())\n",
    "\n"
   ],
   "outputs": [],
   "execution_count": null
  },
  {
   "cell_type": "code",
   "metadata": {},
   "source": [
    "## CANCER IN EDGER , PYDE AND TSK\n",
    "\n",
    "# Count cells that are 'Cancer' in all three columns\n",
    "cancer_cells_count = (\n",
    "    (idata.obs['eKC_cancer_all_DE_99p'] == 'Cancer') &\n",
    "    (idata.obs['TSKKC_cancer_all_DE_99p'] == 'Cancer') &\n",
    "    (idata.obs['KC_cancer_all_DE_99p'] == 'Cancer')\n",
    ").sum()\n",
    "\n",
    "\n",
    "\n",
    "cancer_cells_count95 = (\n",
    "    (idata.obs['eKC_cancer_all_DE_95p'] == 'Cancer') &\n",
    "    (idata.obs['TSKKC_cancer_all_DE_95p'] == 'Cancer') &\n",
    "    (idata.obs['KC_cancer_all_DE_95p'] == 'Cancer')\n",
    ").sum()\n",
    "\n",
    "\n",
    "print(f\"Number of cells labeled as 'Cancer' in all three categories 95p: {cancer_cells_count95} ; {cancer_cells_count95/1306*100} %\")\n",
    "print(f\"Number of cells labeled as 'Cancer' in all three categories 99p: {cancer_cells_count}; {cancer_cells_count/291*100} %\")\n"
   ],
   "outputs": [],
   "execution_count": null
  },
  {
   "cell_type": "code",
   "metadata": {},
   "source": [
    "# Create a new column based on the conditions\n",
    "idata.obs['Cancer_across3modscores_99p'] = (\n",
    "    (idata.obs['eKC_cancer_all_DE_99p'] == 'Cancer') &\n",
    "    (idata.obs['TSKKC_cancer_all_DE_99p'] == 'Cancer') &\n",
    "    (idata.obs['KC_cancer_all_DE_99p'] == 'Cancer')\n",
    ").replace({True: 'Cancer', False: 'Normal'})\n",
    "\n",
    "idata.obs['Cancer_across3modscores_95p'] = (\n",
    "    (idata.obs['eKC_cancer_all_DE_95p'] == 'Cancer') &\n",
    "    (idata.obs['TSKKC_cancer_all_DE_95p'] == 'Cancer') &\n",
    "    (idata.obs['KC_cancer_all_DE_95p'] == 'Cancer')\n",
    ").replace({True: 'Cancer', False: 'Normal'})\n",
    "\n",
    "\n",
    "# Define a color map\n",
    "color_map = {'Cancer': 'red', 'Normal': 'lightgrey'}\n",
    "# Plot UMAP\n",
    "sc.pl.umap(idata, color=['Cancer_across3modscores_95p','Cancer_across3modscores_99p'], palette=color_map, size=5)\n",
    "\n"
   ],
   "outputs": [],
   "execution_count": null
  },
  {
   "cell_type": "code",
   "metadata": {
    "scrolled": true
   },
   "source": [
    "split_umap(idata, color = ['Cancer_across3modscores_95p'], split_by='diagnosis_corrected',legend_loc = \"on data\")"
   ],
   "outputs": [],
   "execution_count": null
  },
  {
   "cell_type": "code",
   "metadata": {},
   "source": [
    "Cancer_across3modscores_95p=idata.obs[idata.obs['Cancer_across3modscores_95p'] == 'Cancer']\n",
    "Cancer_across3modscores_95p['Level3_final'].value_counts()"
   ],
   "outputs": [],
   "execution_count": null
  },
  {
   "cell_type": "code",
   "metadata": {},
   "source": [
    "KC_cancer_all_DE_99p=idata.obs[idata.obs['KC_cancer_all_DE_99p'] == 'Cancer']\n",
    "KC_cancer_all_DE_99p['Level3_final'].value_counts()"
   ],
   "outputs": [],
   "execution_count": null
  },
  {
   "cell_type": "code",
   "metadata": {},
   "source": [
    "eKC_cancer_all_DE_99p=idata.obs[idata.obs['eKC_cancer_all_DE_99p'] == 'Cancer']\n",
    "eKC_cancer_all_DE_99p['Level3_final'].value_counts()"
   ],
   "outputs": [],
   "execution_count": null
  },
  {
   "cell_type": "code",
   "metadata": {
    "scrolled": true
   },
   "source": [
    "sc.pl.dotplot(\n",
    "    idata,\n",
    "    { 'TSK':['PTHLH','FEZ1','INHBA','MMP1','SERPINE2','IGFBP6','TNC','ITGA5','SPINK6','TMSB10','KRT18','FST','ODC1','ITGA6','SORL1','EMP3','EREG','TIMP3','LGALS1','TNFRSF12A','ATP1B1','MBOAT2','F3','ANXA1','KRT17','PHLDA1','LTBP1','CAPN2','IGFBP2','COL17A1','AREG','ARPC1B','GLIPR1','S100A6','CAV1','ADIRF','RBP1','UPP1','SDC1','GJB6','SLC7A8','RAB32','FXYD5','FSCN1']},\n",
    "        #'TSK':[\"MMP10\",\"PTHLH\",\"FEZ1\",\"IL24\",\"KCNMA1\",\"INHBA\",\"MAGEA4\",\"NT5E\",\"LAMC2\",\"SLITRK6\",\"MMP1\",\"SERPINE1\",\"SERPINE2\",\"IGFBP6\",\"TNC\",\"ITGA5\",\"ECM1\",\"SPINK6\",\"TMSB10\",\"KRT18\",\"FST\",\"ODC1\",\"LAMB3\",\"ITGA6\",\"ACTB\",\"ITGB1\",\"SORL1\",\"PFN1\",\"EMP3\",\"S100A10\",\"EREG\",\"LAMA3\",\"OCIAD2\",\"CTSV\",\"ANXA3\",\"S100A2\",\"MET\",\"CD99\",\"TMSB4X\",\"TIMP3\",\"TPM4\",\"NEFM\",\"SCG5\",\"SH3BGRL3\",\"PLAU\",\"PKM\",\"CD63\",\"LGALS1\",\"BMP1\",\"TNFRSF12A\",\"ATP1B1\",\"CFL1\",\"MBOAT2\",\"F3\",\"TNFRSF21\",\"CLIC1\",\"CAP1\",\"PDPN\",\"SERINC2\",\"ANXA1\",\"BSG\",\"DSG2\",\"RHOC\",\"KRT17\",\"PDLIM7\",\"PHLDA1\",\"GLO1\",\"LTBP1\",\"TAGLN2\",\"CD151\",\"CAPN2\",\"COL5A2\",\"IGFBP2\",\"P4HA2\",\"COL17A1\",\"PLEK2\",\"AREG\",\"ARPC1B\",\"GLIPR1\",\"S100A6\",\"PLOD3\",\"YWHAZ\",\"CAV1\",\"ADIRF\",\"TGFBI\",\"RBP1\",\"FSTL3\",\"C16orf74\",\"UPP1\",\"TNNT1\",\"ANXA5\",\"SDC1\",\"PRDX5\",\"MYL12A\",\"GJB6\",\"SLC7A8\",\"RAB32\",\"FXYD5\",\"FSCN1\"]},\n",
    "    standard_scale=\"var\",\n",
    "    color_map=\"Reds\",\n",
    "    groupby=\"KC_cancer_all_DE_95p\", figsize=(10, 1) ,show=False\n",
    ")"
   ],
   "outputs": [],
   "execution_count": null
  },
  {
   "cell_type": "code",
   "metadata": {},
   "source": [
    "sc.pl.dotplot(\n",
    "    idata,\n",
    "    { 'TSK':['PTHLH','FEZ1','INHBA','MMP1','SERPINE2','IGFBP6','TNC','ITGA5','SPINK6','TMSB10','KRT18','FST','ODC1','ITGA6','SORL1','EMP3','EREG','TIMP3','LGALS1','TNFRSF12A','ATP1B1','MBOAT2','F3','ANXA1','KRT17','PHLDA1','LTBP1','CAPN2','IGFBP2','COL17A1','AREG','ARPC1B','GLIPR1','S100A6','CAV1','ADIRF','RBP1','UPP1','SDC1','GJB6','SLC7A8','RAB32','FXYD5','FSCN1']},\n",
    "        #'TSK':[\"MMP10\",\"PTHLH\",\"FEZ1\",\"IL24\",\"KCNMA1\",\"INHBA\",\"MAGEA4\",\"NT5E\",\"LAMC2\",\"SLITRK6\",\"MMP1\",\"SERPINE1\",\"SERPINE2\",\"IGFBP6\",\"TNC\",\"ITGA5\",\"ECM1\",\"SPINK6\",\"TMSB10\",\"KRT18\",\"FST\",\"ODC1\",\"LAMB3\",\"ITGA6\",\"ACTB\",\"ITGB1\",\"SORL1\",\"PFN1\",\"EMP3\",\"S100A10\",\"EREG\",\"LAMA3\",\"OCIAD2\",\"CTSV\",\"ANXA3\",\"S100A2\",\"MET\",\"CD99\",\"TMSB4X\",\"TIMP3\",\"TPM4\",\"NEFM\",\"SCG5\",\"SH3BGRL3\",\"PLAU\",\"PKM\",\"CD63\",\"LGALS1\",\"BMP1\",\"TNFRSF12A\",\"ATP1B1\",\"CFL1\",\"MBOAT2\",\"F3\",\"TNFRSF21\",\"CLIC1\",\"CAP1\",\"PDPN\",\"SERINC2\",\"ANXA1\",\"BSG\",\"DSG2\",\"RHOC\",\"KRT17\",\"PDLIM7\",\"PHLDA1\",\"GLO1\",\"LTBP1\",\"TAGLN2\",\"CD151\",\"CAPN2\",\"COL5A2\",\"IGFBP2\",\"P4HA2\",\"COL17A1\",\"PLEK2\",\"AREG\",\"ARPC1B\",\"GLIPR1\",\"S100A6\",\"PLOD3\",\"YWHAZ\",\"CAV1\",\"ADIRF\",\"TGFBI\",\"RBP1\",\"FSTL3\",\"C16orf74\",\"UPP1\",\"TNNT1\",\"ANXA5\",\"SDC1\",\"PRDX5\",\"MYL12A\",\"GJB6\",\"SLC7A8\",\"RAB32\",\"FXYD5\",\"FSCN1\"]},\n",
    "    standard_scale=\"var\",\n",
    "    color_map=\"Reds\",\n",
    "    groupby=\"KC_cancer_all_DE_99p\", figsize=(10, 1) ,show=False\n",
    ")"
   ],
   "outputs": [],
   "execution_count": null
  },
  {
   "cell_type": "code",
   "metadata": {
    "scrolled": true
   },
   "source": [
    "split_umap(idata, color = ['KC_cancer_all_DE_99p'], split_by='diagnosis_corrected',legend_loc = \"on data\")\n"
   ],
   "outputs": [],
   "execution_count": null
  },
  {
   "cell_type": "code",
   "metadata": {},
   "source": [],
   "outputs": [],
   "execution_count": null
  },
  {
   "cell_type": "code",
   "metadata": {},
   "source": [],
   "outputs": [],
   "execution_count": null
  },
  {
   "cell_type": "code",
   "metadata": {},
   "source": [],
   "outputs": [],
   "execution_count": null
  },
  {
   "cell_type": "code",
   "metadata": {},
   "source": [],
   "outputs": [],
   "execution_count": null
  },
  {
   "cell_type": "code",
   "metadata": {},
   "source": [
    "import pickle\n",
    "\n",
    "# Save the AnnData object to a pickle file\n",
    "with open('/QRISdata/Q4386/skin_atlas/SCC_BCC/KConly_with_mod_score_nov22_edgeR.pkl', 'wb') as f:\n",
    "    pickle.dump(idata, f)\n"
   ],
   "outputs": [],
   "execution_count": null
  },
  {
   "cell_type": "code",
   "metadata": {},
   "source": [],
   "outputs": [],
   "execution_count": null
  },
  {
   "cell_type": "code",
   "metadata": {},
   "source": [],
   "outputs": [],
   "execution_count": null
  },
  {
   "cell_type": "code",
   "metadata": {},
   "source": [],
   "outputs": [],
   "execution_count": null
  },
  {
   "cell_type": "code",
   "metadata": {},
   "source": [],
   "outputs": [],
   "execution_count": null
  },
  {
   "cell_type": "code",
   "metadata": {},
   "source": [],
   "outputs": [],
   "execution_count": null
  },
  {
   "cell_type": "code",
   "metadata": {},
   "source": [
    "idata_old=anndata.read_h5ad(\"KC_reanalysis_15Oct.h5ad\")\n",
    "idata_old"
   ],
   "outputs": [],
   "execution_count": null
  },
  {
   "cell_type": "code",
   "metadata": {},
   "source": [
    "idata_new.raw.X"
   ],
   "outputs": [],
   "execution_count": null
  },
  {
   "cell_type": "code",
   "metadata": {},
   "source": [
    "#idata.raw = sc.AnnData(X=idata_new.X, var=idata_new.var, obs=idata_new.obs)\n",
    "idata.raw.X"
   ],
   "outputs": [],
   "execution_count": null
  },
  {
   "cell_type": "code",
   "metadata": {},
   "source": [
    "# Find common genes between idata.X and idata_new.raw.X\n",
    "common_genes = idata.var.index.intersection(idata_new.raw.var.index)\n",
    "\n",
    "# Subset both X matrices (data) to match the common genes\n",
    "idata_new_raw_subset = idata_new.raw.X[:, idata_new.raw.var.index.isin(common_genes)]\n",
    "\n",
    "# Now assign the subsetted data to idata.raw\n",
    "idata.raw = sc.AnnData(X=idata_new_raw_subset, \n",
    "                       var=idata_new.raw.var.loc[common_genes], \n",
    "                       obs=idata.obs)\n",
    "\n",
    "# Check the updated raw data\n",
    "print(idata.raw)\n"
   ],
   "outputs": [],
   "execution_count": null
  },
  {
   "cell_type": "code",
   "metadata": {},
   "source": [],
   "outputs": [],
   "execution_count": null
  },
  {
   "cell_type": "code",
   "metadata": {},
   "source": [
    "import pickle\n",
    "\n",
    "# Save the AnnData object to a pickle file\n",
    "with open('/QRISdata/Q4386/skin_atlas/SCC_BCC/KConly_with_mod_score_nov21.pkl', 'wb') as f:\n",
    "    pickle.dump(idata, f)\n"
   ],
   "outputs": [],
   "execution_count": null
  },
  {
   "cell_type": "code",
   "metadata": {},
   "source": [
    "# Load the AnnData object from the pickle file\n",
    "with open('/QRISdata/Q4386/skin_atlas/SCC_BCC/KConly_with_mod_score_nov21.pkl', 'rb') as f:\n",
    "    idata_loaded = pickle.load(f)\n",
    "idata_loaded"
   ],
   "outputs": [],
   "execution_count": null
  },
  {
   "cell_type": "markdown",
   "metadata": {},
   "source": [
    "# <a id='section4'></a>  Whole object Paper figures"
   ]
  },
  {
   "cell_type": "code",
   "metadata": {},
   "source": [
    "scc=anndata.read('/QRISdata/Q2051/SCC_Paper/resources/data/frozen_objects_Nov2024_PP/SCC_final_object_Nov10.h5ad')\n",
    "scc"
   ],
   "outputs": [],
   "execution_count": null
  },
  {
   "cell_type": "code",
   "metadata": {},
   "source": [],
   "outputs": [],
   "execution_count": null
  },
  {
   "cell_type": "code",
   "metadata": {},
   "source": [
    "with plt.rc_context({\"figure.figsize\": (8, 6), \"figure.dpi\": (300)}):\n",
    "    sc.pl.umap(scc, color=\"Level2\", legend_fontoutline=2,show=False)\n",
    "    plt.savefig(\"/scratch/project/stseq/Prakrithi/skin_atlas/reanalysis_figs/scc/Level2.pdf\", bbox_inches=\"tight\")"
   ],
   "outputs": [],
   "execution_count": null
  },
  {
   "cell_type": "code",
   "metadata": {
    "scrolled": true
   },
   "source": [
    "with plt.rc_context({\"figure.figsize\": (8, 6), \"figure.dpi\": (300)}):\n",
    "    sc.pl.umap(scc, color=\"Level1_Final\", legend_fontoutline=2,show=False)\n",
    "    plt.savefig(\"/scratch/project/stseq/Prakrithi/skin_atlas/reanalysis_figs/scc/Level1.pdf\", bbox_inches=\"tight\")"
   ],
   "outputs": [],
   "execution_count": null
  },
  {
   "cell_type": "code",
   "metadata": {},
   "source": [
    "with plt.rc_context({\"figure.figsize\": (8, 6), \"figure.dpi\": (300)}):\n",
    "    sc.pl.umap(scc, color=\"Level3\", legend_fontoutline=2,show=False)\n",
    "    plt.savefig(\"/scratch/project/stseq/Prakrithi/skin_atlas/reanalysis_figs/scc/Level3.pdf\", bbox_inches=\"tight\")"
   ],
   "outputs": [],
   "execution_count": null
  },
  {
   "cell_type": "code",
   "metadata": {},
   "source": [],
   "outputs": [],
   "execution_count": null
  },
  {
   "cell_type": "code",
   "metadata": {},
   "source": [],
   "outputs": [],
   "execution_count": null
  },
  {
   "cell_type": "code",
   "metadata": {},
   "source": [],
   "outputs": [],
   "execution_count": null
  },
  {
   "cell_type": "code",
   "metadata": {},
   "source": [
    "scc.obs['Level2'].unique().tolist()"
   ],
   "outputs": [],
   "execution_count": null
  },
  {
   "cell_type": "code",
   "metadata": {},
   "source": [
    "import pandas as pd\n",
    "\n",
    "# Define the desired order of 'Level3' categories\n",
    "level2_order = [\n",
    "    'NK',\n",
    "    'T Cell',\n",
    "    'B Cell',\n",
    "    'Plasma',\n",
    "    'LC',\n",
    "    'DC',\n",
    "    'Macrophage',\n",
    "    'Monocytes',\n",
    "    'Melanocytes',\n",
    "    'Endothelial Cell',\n",
    "    'Fibroblast',\n",
    "    'KC Cornified',\n",
    "    'KC Differentiating',\n",
    "    'KC Basal',\n",
    "    'KC Dysplastic',\n",
    "    'KC Hair',\n",
    "    'KC IFN',\n",
    "    \n",
    "]\n",
    "\n",
    "# Set 'Level3' as a categorical variable with the defined order\n",
    "scc.obs['Level2'] = pd.Categorical(\n",
    "    scc.obs['Level2'], \n",
    "    categories=level2_order, \n",
    "    ordered=True\n",
    ")\n",
    "\n",
    "\n",
    "with plt.rc_context({\"figure.figsize\": (8, 8), \"figure.dpi\": (300)}):\n",
    "# Now plot the dotplot with the custom order\n",
    "    sc.pl.dotplot(\n",
    "    scc,\n",
    "    { \"Category1\": ['CTSW','KLRB1','NKG7','GNLY','CD52','CD3E','IL32','CD79A','MS4A1','PLAC8','JCHAIN','IRF7','CD207','CST3','LYZ','BASP1','CD83','CD74','TYROBP',\n",
    "                   'CD68','AIF1','FCER1G',\"CD14\", \"S100A8\", \"S100A9\", \"FCN1\", \"CX3CR1\",'DCT','MLANA','TYRP1','PMEL','GNG11','IGFBP7','RAMP2','PECAM1','EGFL7','COL1A1','COL1A2','COL6A2',\n",
    "                   'DCN','PLAC9','SBSN','KRT2','DSC1','KRT15','KRT10','KRTDAP','PKP1','KRT14','KRT5','KRT15','IFI27','S100A8','KRT6A']},\n",
    "    standard_scale=\"var\",\n",
    "    color_map=\"Reds\",\n",
    "    groupby=\"Level2\", figsize=(18, 6) ,show=False\n",
    ")\n",
    "    plt.savefig(\"/scratch/project/stseq/Prakrithi/skin_atlas/reanalysis_figs/scc/Level2_dotplot.pdf\", bbox_inches=\"tight\")\n",
    "#"
   ],
   "outputs": [],
   "execution_count": null
  },
  {
   "cell_type": "code",
   "metadata": {},
   "source": [
    "import scanpy as sc\n",
    "import matplotlib.pyplot as plt\n",
    "import numpy as np\n",
    "from matplotlib.colors import ListedColormap\n",
    "\n",
    "# Define the genes for green and blue\n",
    "green_genes = ['CTSW', 'KLRB1', 'CD79A', 'IRF7', 'CD14', 'FCER1G']\n",
    "blue_genes = ['CD3E', 'GNLY', 'MS4A1', 'TYROBP', 'S100A8', 'PECAM1']\n",
    "\n",
    "# Combine all genes into one list for plotting\n",
    "all_genes = green_genes + blue_genes\n",
    "\n",
    "# Create a custom color map: green for green genes, blue for blue genes\n",
    "colors = ['green' if gene in green_genes else 'blue' for gene in all_genes]\n",
    "cmap = ListedColormap(colors)\n",
    "\n",
    "# Create the dot plot using the custom color map\n",
    "sc.pl.dotplot(\n",
    "    scc,\n",
    "    var_names=all_genes,\n",
    "    groupby=\"Level2\",\n",
    "    standard_scale=\"var\",\n",
    "    color_map=cmap,  # Apply custom color map here\n",
    "    figsize=(18, 6),\n",
    "    show=False  # Delay showing for further customization\n",
    ")\n",
    "\n",
    "# Access the current figure and axes from the dotplot object\n",
    "fig = plt.gcf()\n",
    "ax = plt.gca()\n",
    "\n",
    "# Apply colors to dots (patches) based on our custom color map\n",
    "for i, patch in enumerate(ax.patches):\n",
    "    patch.set_facecolor(colors[i])  # Set the color for each gene based on the colors list\n",
    "\n",
    "# Show the plot\n",
    "plt.show()\n"
   ],
   "outputs": [],
   "execution_count": null
  },
  {
   "cell_type": "code",
   "metadata": {},
   "source": [
    "import scanpy as sc\n",
    "import matplotlib.pyplot as plt\n",
    "from matplotlib.colors import Normalize\n",
    "\n",
    "# Define the genes for green and blue\n",
    "green_genes = ['CTSW', 'KLRB1', 'CD79A', 'IRF7', 'CD14', 'FCER1G']\n",
    "blue_genes = ['CD3E', 'GNLY', 'MS4A1', 'TYROBP', 'S100A8', 'PECAM1']\n",
    "\n",
    "# Combine all genes into one list for plotting\n",
    "all_genes = green_genes + blue_genes\n",
    "\n",
    "# Generate the dotplot using Scanpy (this will not yet apply the custom gradients)\n",
    "sc.pl.dotplot(\n",
    "    scc,\n",
    "    var_names=all_genes,\n",
    "    groupby=\"Level2\",\n",
    "    standard_scale=\"var\",\n",
    "    figsize=(18, 6),\n",
    "    show=False  # Delay showing for further customization\n",
    ")\n",
    "\n",
    "# Access the current figure and axes from the dotplot object\n",
    "fig = plt.gcf()\n",
    "ax = plt.gca()\n",
    "\n",
    "# Get the expression data for each gene (using .raw.X or .X based on availability)\n",
    "expression_data = scc.raw.X if scc.raw is not None else scc.X\n",
    "\n",
    "# Normalize the expression data to scale between 0 and 1 for color mapping\n",
    "norm = Normalize(vmin=expression_data.min(), vmax=expression_data.max())\n",
    "\n",
    "# Iterate through the patches (dots) in the dotplot to apply custom color gradients\n",
    "for i, patch in enumerate(ax.patches):\n",
    "    gene = all_genes[i]  # Get the gene corresponding to the current patch\n",
    "    expression_value = expression_data[:, scc.var_names.get_loc(gene)].mean()  # Get the mean expression value for the gene\n",
    "    \n",
    "    # Apply the gradient color for green genes (using Greens colormap)\n",
    "    if gene in green_genes:\n",
    "        color = plt.cm.Greens(norm(expression_value))  # Green gradient for green genes\n",
    "    # Apply the gradient color for blue genes (using Blues colormap)\n",
    "    elif gene in blue_genes:\n",
    "        color = plt.cm.Blues(norm(expression_value))  # Blue gradient for blue genes\n",
    "    \n",
    "    # Set the face color for the dot based on the gene's expression value and assigned gradient\n",
    "    patch.set_facecolor(color)\n",
    "\n",
    "# Show the plot with updated gradients\n",
    "plt.show()\n"
   ],
   "outputs": [],
   "execution_count": null
  },
  {
   "cell_type": "markdown",
   "metadata": {},
   "source": [
    "# <a id='section5'></a>  Splitting SCC/BCC"
   ]
  },
  {
   "cell_type": "code",
   "metadata": {},
   "source": [
    "scc.obs['sample_ID'].unique().tolist()"
   ],
   "outputs": [],
   "execution_count": null
  },
  {
   "cell_type": "code",
   "metadata": {},
   "source": [
    "# Subset the object to have only 'P5_SCC_BCC' sample in B18_adata\n",
    "B18_adata = scc[scc.obs['sample_ID'] == 'P5_SCC_BCC']\n",
    "\n",
    "# Subset the object to have all other samples in SCC_only_adata\n",
    "SCC_only_adata = scc[scc.obs['sample_ID'] != 'P5_SCC_BCC']\n"
   ],
   "outputs": [],
   "execution_count": null
  },
  {
   "cell_type": "code",
   "metadata": {},
   "source": [
    "# Subset the object to have 'P5_SCC_BCC' and 'P5_N' samples in B18_adata\n",
    "B18_adata = scc[scc.obs['sample_ID'].isin(['P5_SCC_BCC', 'P5_N'])]\n",
    "\n",
    "# Subset the object to have all other samples in SCC_only_adata\n",
    "SCC_only_adata = scc[~scc.obs['sample_ID'].isin(['P5_SCC_BCC', 'P5_N'])]\n"
   ],
   "outputs": [],
   "execution_count": null
  },
  {
   "cell_type": "code",
   "metadata": {},
   "source": [
    "\n",
    "sc.pl.umap(\n",
    "    SCC_only_adata,  # Your AnnData object\n",
    "    color='sample_ID',  # Assuming 'Level3' is the categorical variable you want to color by\n",
    "    show=True,  # Set to False if you don't want to display the plot immediately\n",
    ")"
   ],
   "outputs": [],
   "execution_count": null
  },
  {
   "cell_type": "code",
   "metadata": {},
   "source": [
    "scc.X.toarray()  # "
   ],
   "outputs": [],
   "execution_count": null
  },
  {
   "cell_type": "code",
   "metadata": {},
   "source": [
    "# First, slice the sparse matrix (10 rows and 10 columns)\n",
    "subset_sparse = scc.X[:10, :15]\n",
    "\n",
    "# Then, convert to a dense array\n",
    "subset_dense = subset_sparse.toarray()\n",
    "\n",
    "# View the subset\n",
    "print(subset_dense)\n"
   ],
   "outputs": [],
   "execution_count": null
  },
  {
   "cell_type": "code",
   "metadata": {},
   "source": [
    "scc.var"
   ],
   "outputs": [],
   "execution_count": null
  },
  {
   "cell_type": "code",
   "metadata": {},
   "source": [
    "B18_adata.write('/QRISdata/Q2051/SCC_Paper/resources/data/frozen_objects_Nov2024_PP/B18_only_SCC_BCC_reference/B18_cancer_only.h5ad')\n",
    "SCC_only_andNormaladata.write('/QRISdata/Q2051/SCC_Paper/resources/data/frozen_objects_Nov2024_PP/SCC_only_reference/SCConly_Normal.h5ad')"
   ],
   "outputs": [],
   "execution_count": null
  },
  {
   "cell_type": "code",
   "metadata": {},
   "source": [
    "B18_adata=anndata.read_h5ad('/QRISdata/Q2051/SCC_Paper/resources/data/frozen_objects_Nov2024_PP/B18_only_SCC_BCC_reference/B18_cancer_only.h5ad')\n",
    "SCC_only_andNormaladata=anndata.read_h5ad('/QRISdata/Q2051/SCC_Paper/resources/data/frozen_objects_Nov2024_PP/SCC_only_reference/SCConly_Normal.h5ad')"
   ],
   "outputs": [],
   "execution_count": null
  },
  {
   "cell_type": "code",
   "metadata": {},
   "source": [
    "B18_adata.obs['sample_ID'].unique()"
   ],
   "outputs": [],
   "execution_count": null
  },
  {
   "cell_type": "code",
   "metadata": {},
   "source": [
    "SCC_only_andNormaladata.obs['sample_ID'].unique()"
   ],
   "outputs": [],
   "execution_count": null
  },
  {
   "cell_type": "code",
   "metadata": {},
   "source": [
    "SCC_cancer = SCC_only_andNormaladata[~SCC_only_andNormaladata.obs['sample_ID'].isin(['P1_N','P2_N','P3_N','P4_N', 'P5_N'])]\n",
    "SCC_cancer.obs['sample_ID'].unique()"
   ],
   "outputs": [],
   "execution_count": null
  },
  {
   "cell_type": "code",
   "metadata": {},
   "source": [
    "SCC_cancer.write('SCC_cancer_only.h5ad') #/QRISdata/Q2051/SCC_Paper/resources/data/frozen_objects_Nov2024_PP/SCC_only_reference/\n"
   ],
   "outputs": [],
   "execution_count": null
  },
  {
   "cell_type": "code",
   "metadata": {},
   "source": [
    "Normal = SCC_only_andNormaladata[SCC_only_andNormaladata.obs['sample_ID'].isin(['P1_N','P2_N','P3_N','P4_N', 'P5_N'])]\n",
    "Normal.obs['sample_ID'].unique()\n",
    "Normal.write('Normal_only.h5ad') #/QRISdata/Q2051/SCC_Paper/resources/data/frozen_objects_Nov2024_PP/SCC_only_reference/\n"
   ],
   "outputs": [],
   "execution_count": null
  },
  {
   "cell_type": "code",
   "metadata": {},
   "source": [
    "Normal.obs['sample_ID'].unique()\n"
   ],
   "outputs": [],
   "execution_count": null
  },
  {
   "cell_type": "code",
   "metadata": {},
   "source": [],
   "outputs": [],
   "execution_count": null
  }
 ],
 "metadata": {
  "kernelspec": {
   "display_name": "Python_base",
   "language": "python",
   "name": "python_base"
  },
  "language_info": {
   "codemirror_mode": {
    "name": "ipython",
    "version": 3
   },
   "file_extension": ".py",
   "mimetype": "text/x-python",
   "name": "python",
   "nbconvert_exporter": "python",
   "pygments_lexer": "ipython3",
   "version": "3.8.13"
  }
 },
 "nbformat": 4,
 "nbformat_minor": 4
}
