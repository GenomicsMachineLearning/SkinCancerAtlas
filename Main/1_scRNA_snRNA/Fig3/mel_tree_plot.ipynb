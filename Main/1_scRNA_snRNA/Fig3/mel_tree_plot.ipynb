{
 "cells": [
  {
   "cell_type": "code",
   "id": "3f9278f4-0727-40e9-abe4-1c6ae66b33e6",
   "metadata": {
    "scrolled": true,
    "vscode": {
     "languageId": "r"
    }
   },
   "source": [
    "library(Seurat)\n",
    "library(ape)\n",
    "library(ggtree)\n",
    "library(ggplot2)\n",
    "library(dplyr)\n",
    "library(tidyverse)\n"
   ],
   "outputs": [],
   "execution_count": null
  },
  {
   "cell_type": "code",
   "id": "e294e635-4da3-41ff-862b-189ccc0b3a85",
   "metadata": {
    "vscode": {
     "languageId": "r"
    }
   },
   "source": [
    "#mel<-readRDS(\"skin_atlas/Melanoma_only_sc_reproduced_final_oct31.rds\")\n",
    "mel <- read.delim(\"/QRISdata/Q2051/SCC_Paper/resources/data/frozen_objects_Nov2024_PP/Mel/Mel_full_object_final_Nov26_metadata.txt\", sep = \"\\t\", stringsAsFactors = FALSE)\n",
    "df<-data.frame(level1=mel$Level1, level2=mel$Level2,  level3=mel$Level3_Cancer)\n",
    "# Count the occurrences for each combination\n",
    "counts <- df %>% group_by(level1, level2, level3) %>% tally()\n",
    "counts$level1 <- gsub(\" \", \"\", counts$level1)\n",
    "counts$level2 <- gsub(\" \", \"\", counts$level2)\n",
    "counts$level3 <- gsub(\" \", \"\", counts$level3)\n",
    "#counts\n",
    "\n",
    "#counts<-counts[-c(11,18,20),]\n",
    "counts$level2<-gsub(\"cell\",\"Cell\",counts$level2)\n",
    "# Function to create Newick string including Level3\n",
    "create_newick_str <- function(df) {\n",
    "  level1_nodes <- unique(df$level1)\n",
    "  newick_str <- \"\"\n",
    "  \n",
    "  for (node in level1_nodes) {\n",
    "    level2_nodes <- df %>% filter(level1 == node) %>% pull(level2) %>% unique()\n",
    "    level2_str <- \"\"\n",
    "    \n",
    "    for (level2_node in level2_nodes) {\n",
    "      children <- df %>% filter(level1 == node, level2 == level2_node) %>% pull(level3)\n",
    "      children_str <- paste(children, collapse = \",\")\n",
    "      level2_str <- paste0(level2_str, \"(\", children_str, \")\", level2_node, \",\")\n",
    "    }\n",
    "    \n",
    "    level2_str <- substr(level2_str, 1, nchar(level2_str) - 1)  # Remove trailing comma\n",
    "    newick_str <- paste0(newick_str, \"(\", level2_str, \")\", node, \",\")\n",
    "  }\n",
    "  \n",
    "  newick_str <- substr(newick_str, 1, nchar(newick_str) - 1)  # Remove trailing comma\n",
    "  newick_str <- paste0(\"(\", newick_str, \");\")\n",
    "  return(newick_str)\n",
    "}\n",
    "\n",
    "# Generate the Newick string\n",
    "newick_str <- create_newick_str(counts)\n",
    "print(newick_str)\n",
    "\n",
    "# Create the tree from the Newick string\n",
    "tree <- read.tree(text = newick_str)\n",
    "\n",
    "# Add counts to the data\n",
    "counts$counts <- counts$n\n",
    "\n",
    "# Plot the tree\n",
    "p <- ggtree(tree, layout=\"dendrogram\") +\n",
    "  geom_tiplab(aes(label=label), hjust=-0.3)\n",
    "\n",
    "# Extract the data from the ggtree object\n",
    "tree_data <- p$data\n",
    "\n",
    "# Merge counts with tree data by matching level3 to label in tree_data\n",
    "tree_data <- tree_data %>%\n",
    "  left_join(counts, by = c(\"label\" = \"level3\"), relationship = \"many-to-many\")\n",
    "\n",
    "# Ensure counts is not NA\n",
    "tree_data$counts[is.na(tree_data$counts)] <- 1\n",
    "\n",
    "# Define color list based on cell types\n",
    "color_list <-c(\"DC\"= \"#5f9d9e\",\n",
    "    \"EndothelialCell\"= \"#f8a41e\",\n",
    "    \"Fibroblast\"= \"#458b41\",\n",
    "    \"KCBasal\"= \"#f16b6b\",\n",
    "    \"KCCornified\"= \"#9a1f61\",\n",
    "    \"KCGranular\"= \"#c72685\",\n",
    "    \"KCDifferentiating\"= \"#9583bd\",\n",
    "    \"KCHair\"= \"#eb2627\",\n",
    "    \"LC\"= \"#37479b\",\n",
    "    \"Macrophage\"= \"#eae71d\",\n",
    "    \"Melanocytes\"= \"#8b471f\",\n",
    "    \"Melanoma\"= \"black\",\n",
    "    \"NK\"= \"#99ca3e\",\n",
    "    \"TCell\"= \"#41baeb\",\n",
    "    \"Treg\"= \"#bbe5f3\",\n",
    "    \"pDC\"= \"#66bf76\",\n",
    "    \"MastCell\"= \"#7f8133\",\n",
    "    \"mRegDC\"=\"#105146\",\n",
    "    'CD8+TCell'= \"#406573\",\n",
    "    \"BCell\"=\"#fed9b9\",\n",
    "    \"Pericytes\"=\"#dca566\",\n",
    "    \"Sweatglandrelated\"=\"#f2634b\",\n",
    "    \"nan\"=\"grey\",\n",
    "    'SchwannCell'='#0b507b'\n",
    ")\n",
    "# Assign colors only to the matching labels\n",
    "tree_data <- tree_data %>%\n",
    "  mutate(color = color_list[tree_data$label])\n",
    "\n",
    "# Plot the tree horizontally with counts and colors\n",
    "options(repr.plot.width = 15, repr.plot.height = 2)\n",
    "\n",
    "x_min <- min(tree_data$x, na.rm = TRUE)\n",
    "x_max <- max(tree_data$x, na.rm = TRUE)\n",
    "\n",
    "#pdf(\"scc_tree_3levels_imm.pdf\", width=15, height = 2)\n",
    "ggtree(tree, layout=\"dendrogram\") +\n",
    "  geom_tiplab(aes(label=label), hjust=10) +\n",
    "  geom_point(data=tree_data, aes(x=x, y=y, size=counts, fill=label), shape=21, color=\"black\") +\n",
    "  theme_tree2() +\n",
    "  scale_size_continuous(range = c(3, 10), limits = c(1, max(tree_data$counts, na.rm = TRUE))) + # Adjust size range and limits\n",
    "  coord_flip() +  # Flip coordinates to make the tree horizontal\n",
    "  xlim(x_min - 1, x_max + 1) + # Expand x-axis limits\n",
    "  theme(axis.text.x = element_blank(),  # Remove x-axis text\n",
    "        axis.ticks.x = element_blank(), # Remove x-axis ticks\n",
    "        axis.title.x = element_blank(), # Remove x-axis title\n",
    "        axis.line.x = element_blank()) + # Remove x-axis line\n",
    "  scale_fill_manual(values=color_list)\n",
    "#dev.off()"
   ],
   "outputs": [],
   "execution_count": null
  },
  {
   "cell_type": "code",
   "id": "6ec3d24e-0216-4868-8c78-70bfa69f1348",
   "metadata": {
    "vscode": {
     "languageId": "r"
    }
   },
   "source": [
    "pdf(\"/QRISdata/Q2051/SCC_Paper/resources/data/reanalysis_figs/mel/updated/Mel_tree_new_Level3_cancer.pdf\",width = 15,height=2)\n",
    "ggtree(tree, layout=\"dendrogram\") +\n",
    "  geom_tiplab(aes(label=label), hjust=10) +\n",
    "  geom_point(data=tree_data, aes(x=x, y=y, size=counts, fill=label), shape=21, color=\"black\") +\n",
    "  theme_tree2() +\n",
    "  scale_size_continuous(range = c(3, 10), limits = c(1, max(tree_data$counts, na.rm = TRUE))) + # Adjust size range and limits\n",
    "  coord_flip() +  # Flip coordinates to make the tree horizontal\n",
    "  xlim(x_min - 1, x_max + 1) + # Expand x-axis limits\n",
    "  theme(axis.text.x = element_blank(),  # Remove x-axis text\n",
    "        axis.ticks.x = element_blank(), # Remove x-axis ticks\n",
    "        axis.title.x = element_blank(), # Remove x-axis title\n",
    "        axis.line.x = element_blank()) + # Remove x-axis line\n",
    "  scale_fill_manual(values=color_list)\n",
    "dev.off()"
   ],
   "outputs": [],
   "execution_count": null
  },
  {
   "cell_type": "code",
   "id": "c993d33d-b7e6-4007-a99b-826d76c78db9",
   "metadata": {
    "vscode": {
     "languageId": "r"
    }
   },
   "source": [
    "options(repr.plot.width = 8, repr.plot.height = 8)\n",
    "#pdf(\"/QRISdata/Q2051/SCC_Paper/resources/data/reanalysis_figs/mel/updated/Mel_tree_labels_for_ref_since_cut.pdf\",width = 8,height=8)\n",
    "ggtree(tree, layout=\"rectangular\") +\n",
    "  geom_tiplab(aes(label=label), hjust=1) + # Adjust horizontal justification for labels\n",
    "  geom_point(data=tree_data, aes(x=x, y=y, size=counts, fill=label), shape=21, color=\"black\") +\n",
    "  theme_tree2() +\n",
    "  scale_size_continuous(range = c(3, 10), limits = c(1, max(tree_data$counts, na.rm = TRUE))) + # Adjust size range and limits\n",
    "  theme(axis.text.y = element_blank(),  # Remove y-axis text\n",
    "        axis.ticks.y = element_blank(), # Remove y-axis ticks\n",
    "        axis.title.y = element_blank(), # Remove y-axis title\n",
    "        axis.line.y = element_blank()) + # Remove y-axis line\n",
    "  scale_fill_manual(values=color_list) \n",
    "#dev.off()"
   ],
   "outputs": [],
   "execution_count": null
  }
 ],
 "metadata": {
  "kernelspec": {
   "display_name": "R (r_env_CNVs)",
   "language": "R",
   "name": "ir_env_cnvs"
  },
  "language_info": {
   "codemirror_mode": "r",
   "file_extension": ".r",
   "mimetype": "text/x-r-source",
   "name": "R",
   "pygments_lexer": "r",
   "version": "4.3.3"
  }
 },
 "nbformat": 4,
 "nbformat_minor": 5
}
