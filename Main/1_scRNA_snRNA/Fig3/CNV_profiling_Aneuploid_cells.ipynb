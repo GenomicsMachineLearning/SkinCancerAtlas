{
 "cells": [
  {
   "cell_type": "markdown",
   "id": "d0098c8d-6356-40a7-9ab1-b26f5e2f56a3",
   "metadata": {},
   "source": [
    "## CNV Profiling"
   ]
  },
  {
   "cell_type": "markdown",
   "id": "e6091859-6b56-43a8-b4bc-7fc24807f816",
   "metadata": {},
   "source": [
    "## scRNA-Seq Melanoma dataset"
   ]
  },
  {
   "cell_type": "code",
   "id": "d2589401-a491-4273-82c2-910b0cf00883",
   "metadata": {
    "vscode": {
     "languageId": "r"
    }
   },
   "source": [
    "library(Seurat)\n"
   ],
   "outputs": [],
   "execution_count": null
  },
  {
   "cell_type": "code",
   "id": "3d991301-3cd4-4926-91c0-73fd66c63831",
   "metadata": {
    "vscode": {
     "languageId": "r"
    }
   },
   "source": [
    "setwd(\"/QRISdata/Q4386/QIMR_workshop_CNV/Mel_3samples\")"
   ],
   "outputs": [],
   "execution_count": null
  },
  {
   "cell_type": "code",
   "id": "43bece69-4121-491f-a661-39b6a906a67a",
   "metadata": {
    "vscode": {
     "languageId": "r"
    }
   },
   "source": [
    "Mel_scRNA<-readRDS(\"Mel_3samples_75pcs.rds\")\n",
    "Mel_scRNA"
   ],
   "outputs": [],
   "execution_count": null
  },
  {
   "cell_type": "code",
   "id": "d37c9161-02c3-4f1d-9c2d-5e5e385ad257",
   "metadata": {
    "vscode": {
     "languageId": "r"
    }
   },
   "source": [
    "options(repr.plot.width = 8, repr.plot.height = 6)\n",
    "Idents(Mel_scRNA)<-Mel_scRNA@meta.data$cell_type\n",
    "DimPlot(Mel_scRNA)"
   ],
   "outputs": [],
   "execution_count": null
  },
  {
   "cell_type": "markdown",
   "id": "9422e809-5a84-471a-b634-81d7dec8ea9e",
   "metadata": {},
   "source": [
    "## CopyKAT"
   ]
  },
  {
   "cell_type": "code",
   "id": "3238cce4-91af-4f29-b965-a35acb15577b",
   "metadata": {
    "vscode": {
     "languageId": "r"
    }
   },
   "source": [
    "## copyKAT installation\n",
    "#install.packages(\"devtools\")\n",
    "#library(devtools)\n",
    "#install_github(\"navinlabcode/copykat\")\n",
    "library(copykat)"
   ],
   "outputs": [],
   "execution_count": null
  },
  {
   "cell_type": "markdown",
   "id": "aba5b945-cd88-4d77-b970-41997028ba4d",
   "metadata": {},
   "source": [
    "## Run CopyKAT"
   ]
  },
  {
   "cell_type": "code",
   "id": "31cfc609-a724-4023-aae4-0d215a895643",
   "metadata": {
    "vscode": {
     "languageId": "r"
    }
   },
   "source": [
    "exp.rawdata<-read.csv(\"MPSs_count_mat.txt\",sep=\"\\t\")\n",
    "rownames(exp.rawdata)<-exp.rawdata$GENE\n",
    "exp.rawdata<-exp.rawdata[,-1]"
   ],
   "outputs": [],
   "execution_count": null
  },
  {
   "cell_type": "code",
   "id": "40705ac9-2f97-479a-8f57-92b2fb2866c7",
   "metadata": {
    "vscode": {
     "languageId": "r"
    }
   },
   "source": [
    "exp.rawdata[1:5,1:5]"
   ],
   "outputs": [],
   "execution_count": null
  },
  {
   "cell_type": "code",
   "id": "9788d364-a531-4b73-9c3d-b4b6d54a0816",
   "metadata": {
    "vscode": {
     "languageId": "r"
    }
   },
   "source": [
    "copykat.test <- copykat(rawmat=exp.rawdata, id.type=\"S\", ngene.chr=5, win.size=25, KS.cut=0.1, sam.name=\"test\", distance=\"euclidean\", norm.cell.names=\"\",output.seg=\"FLASE\", plot.genes=\"TRUE\", genome=\"hg20\",n.cores=1) #hg20 built-in copkat is the hg38 coords\n"
   ],
   "outputs": [],
   "execution_count": null
  },
  {
   "cell_type": "markdown",
   "id": "ad812dce-6f85-47d3-bf77-465e3546999d",
   "metadata": {},
   "source": [
    "### Read CopyKAT predictions"
   ]
  },
  {
   "cell_type": "code",
   "id": "7d6c5032-b9f1-49be-8cd6-7d410e93693b",
   "metadata": {
    "vscode": {
     "languageId": "r"
    }
   },
   "source": [
    "p<-read.csv(\"test_copykat_prediction.txt\", sep=\"\\t\",header=TRUE)\n",
    "head(p)"
   ],
   "outputs": [],
   "execution_count": null
  },
  {
   "cell_type": "code",
   "id": "9601b6b8-90c1-4b9b-8ed7-3dcd46e08bc3",
   "metadata": {
    "vscode": {
     "languageId": "r"
    }
   },
   "source": [
    "colnames(Mel_scRNA)<-gsub(\"-1\",\".1\",colnames(Mel_scRNA))\n",
    "seurat_colnames<-colnames(Mel_scRNA)\n",
    "rownames(p)<-p$cell.names\t\n",
    "p<-p[seurat_colnames,]\n",
    "# Assuming infercnv_sub_groupings is your DataFrame and seurat_colnames contains the column names from your Seurat object\n",
    "\n",
    "# Find the order of the BC values in the seurat_colnames\n",
    "bc_order <- match(p$cell.names, seurat_colnames)\n",
    "\n",
    "# Reorder the columns of infercnv_sub_groupings based on the order\n",
    "p_reordered <- p[order(bc_order), ]\n",
    "\n",
    "# View the reordered DataFrame\n",
    "dim(p_reordered)\n",
    "head(p_reordered)"
   ],
   "outputs": [],
   "execution_count": null
  },
  {
   "cell_type": "markdown",
   "id": "f1bc00df-9c92-4c42-ad5d-9dd8979f9526",
   "metadata": {},
   "source": [
    "## Identify Malignant Tumor cells"
   ]
  },
  {
   "cell_type": "code",
   "id": "118962dc-07b4-487c-9483-d0b77888aa47",
   "metadata": {
    "vscode": {
     "languageId": "r"
    }
   },
   "source": [
    "Mel_scRNA@meta.data$copykat_pred<-p$copykat.pred\n",
    "#Mel_scRNA@meta.data$copykat_aneuploid <- ifelse(Mel_scRNA@meta.data$copykat_pred == \"aneuploid\", \"Aneuploid\", \"\")\n",
    "aneuploid_cells <- rownames(Mel_scRNA@meta.data)[Mel_scRNA@meta.data$copykat_pred == \"aneuploid\"]\n",
    "\n",
    "DimPlot(Mel_scRNA, group.by = \"copykat_pred\")\n",
    "DimPlot(Mel_scRNA, group.by = \"copykat_pred\", cells.highlight = aneuploid_cells, cols.highlight = \"red\")"
   ],
   "outputs": [],
   "execution_count": null
  },
  {
   "cell_type": "markdown",
   "id": "064f4401-367d-4e9a-99da-5ffa4c38a6d5",
   "metadata": {},
   "source": [
    "## Identify the sample with malignant tumor"
   ]
  },
  {
   "cell_type": "code",
   "id": "114713c1-ba0b-4795-aa3d-4064c25eb5ec",
   "metadata": {
    "vscode": {
     "languageId": "r"
    }
   },
   "source": [
    "options(repr.plot.width = 12, repr.plot.height = 6)\n",
    "DimPlot(Mel_scRNA, group.by = \"copykat_pred\", split.by = \"orig.ident\")\n",
    "DimPlot(Mel_scRNA, group.by = \"copykat_pred\", cells.highlight = aneuploid_cells, cols.highlight = \"red\", split.by = \"orig.ident\")\n"
   ],
   "outputs": [],
   "execution_count": null
  },
  {
   "cell_type": "markdown",
   "id": "cbfea3eb-bd98-491c-84a0-d0a90043afd6",
   "metadata": {},
   "source": [
    "## InferCNV"
   ]
  },
  {
   "cell_type": "code",
   "id": "95d5bfdc-7e82-4ad1-b2cc-ceb9e80d8915",
   "metadata": {
    "vscode": {
     "languageId": "r"
    }
   },
   "source": [
    "library(infercnv)"
   ],
   "outputs": [],
   "execution_count": null
  },
  {
   "cell_type": "code",
   "id": "35c6f749-5e4b-4503-8cc8-93575e27d9bd",
   "metadata": {
    "vscode": {
     "languageId": "r"
    }
   },
   "source": [
    "options(\"Mel_scRNA.assay.version\" = \"v3\")\n",
    "infercnv_meta <- data.frame(V1 = Mel_scRNA@meta.data$cell_type)\n",
    "rownames(infercnv_meta)<-rownames(Mel_scRNA@meta.data)\n",
    "head(infercnv_meta)\n"
   ],
   "outputs": [],
   "execution_count": null
  },
  {
   "cell_type": "code",
   "id": "6c655868-9dcb-4df2-bfca-67c05c317562",
   "metadata": {
    "vscode": {
     "languageId": "r"
    }
   },
   "source": [
    "unique(Mel_scRNA@meta.data$Level1_res1)"
   ],
   "outputs": [],
   "execution_count": null
  },
  {
   "cell_type": "markdown",
   "id": "64ad1a93-8b89-41d3-9a7f-75f8107729aa",
   "metadata": {},
   "source": [
    "### Run InferCNV"
   ]
  },
  {
   "cell_type": "code",
   "id": "543b43c2-2036-4007-a2f3-a329bba51016",
   "metadata": {
    "vscode": {
     "languageId": "r"
    }
   },
   "source": [
    "infercnv_obj = CreateInfercnvObject(\n",
    "  raw_counts_matrix=GetAssayData(Mel_scRNA, slot=\"counts\"),\n",
    "  annotations_file=infercnv_meta,\n",
    "  delim=\"\\t\",\n",
    "  gene_order_file=\"/scratch/project/stseq/Prakrithi/skin_atlas/infercnv/hg38_gencode_v27.txt\",\n",
    "  ref_group_names=NULL) # set list of confident normal cells matching ur anno file c(\"KC\",\"Immune\",\"Fibroblast\",\"Endothelial cell\"))"
   ],
   "outputs": [],
   "execution_count": null
  },
  {
   "cell_type": "code",
   "id": "91759be4-9e48-4735-a5cf-8bb5814dac82",
   "metadata": {
    "vscode": {
     "languageId": "r"
    }
   },
   "source": [
    "out_dir = tempfile()\n",
    "infercnv_obj_default = infercnv::run(\n",
    "    infercnv_obj,\n",
    "    cutoff=1, # cutoff=1 works well for Smart-seq2, and cutoff=0.1 works well for 10x Genomics\n",
    "    out_dir=\"infercnv/all/\",\n",
    "    cluster_by_groups=TRUE, \n",
    "    plot_steps=FALSE,\n",
    "    denoise=TRUE,\n",
    "    HMM=FALSE,\n",
    "    no_prelim_plot=TRUE,\n",
    "    png_res=60\n",
    ")\n"
   ],
   "outputs": [],
   "execution_count": null
  },
  {
   "cell_type": "code",
   "id": "4f9fe077-91ee-4890-8ba6-e7ae6ac3627b",
   "metadata": {
    "vscode": {
     "languageId": "r"
    }
   },
   "source": [
    "infercnv_sub_groupings<-read.csv(\"infercnv/all/infercnv_subclusters.observation_groupings.txt\", sep=\" \",header=TRUE)\n",
    "tail(infercnv_sub_groupings)"
   ],
   "outputs": [],
   "execution_count": null
  },
  {
   "cell_type": "code",
   "id": "8f58b348-ba28-4598-95de-964e329d94d8",
   "metadata": {
    "vscode": {
     "languageId": "r"
    }
   },
   "source": [
    "unique(infercnv_sub_groupings$Annotation.Group)\n",
    "dim(infercnv_sub_groupings)"
   ],
   "outputs": [],
   "execution_count": null
  },
  {
   "cell_type": "code",
   "id": "b36bee89-6d46-4006-ac68-44c88dcd1ae2",
   "metadata": {
    "vscode": {
     "languageId": "r"
    }
   },
   "source": [
    "# Assuming infercnv_sub_groupings is your DataFrame and seurat_colnames contains the column names from your Seurat object\n",
    "rownames(infercnv_sub_groupings)<-infercnv_sub_groupings$BC\n",
    "\n",
    "# Find the order of the BC values in the seurat_colnames\n",
    "bc_order <- match(rownames(infercnv_sub_groupings), colnames(Mel_scRNA))\n",
    "\n",
    "# Reorder the columns of infercnv_sub_groupings based on the order\n",
    "infercnv_sub_groupings_reordered <- infercnv_sub_groupings[order(bc_order), ]\n",
    "\n",
    "# View the reordered DataFrame\n",
    "head(infercnv_sub_groupings_reordered)"
   ],
   "outputs": [],
   "execution_count": null
  },
  {
   "cell_type": "code",
   "id": "8e169ab8-8444-4c08-a564-c2374b4676f7",
   "metadata": {
    "vscode": {
     "languageId": "r"
    }
   },
   "source": [
    "# Assuming Mel_scRNA is your Seurat object and infercnv_sub_groupings is your data frame\n",
    "\n",
    "# Create a new column in Mel_scRNA@meta.data with empty values\n",
    "Mel_scRNA@meta.data$infercnv_pred <- \"\"\n",
    "\n",
    "# Get the row names of both data frames\n",
    "mel_row_names <- rownames(Mel_scRNA@meta.data)\n",
    "infercnv_row_names <- rownames(infercnv_sub_groupings)\n",
    "\n",
    "# Find the matching row names\n",
    "matching_row_names <- intersect(mel_row_names, infercnv_row_names)\n",
    "\n",
    "# Update the new column with \"Aneuploid\" for matching rows\n",
    "Mel_scRNA@meta.data[matching_row_names, \"infercnv_pred\"] <- \"Aneuploid\"\n",
    "\n",
    "# Check the updated meta.data\n",
    "head(Mel_scRNA@meta.data)\n"
   ],
   "outputs": [],
   "execution_count": null
  },
  {
   "cell_type": "code",
   "id": "78c2c3c9-5064-4d0e-adf1-ff47ac043e96",
   "metadata": {
    "vscode": {
     "languageId": "r"
    }
   },
   "source": [
    "infercnv_aneuploid_cells <- rownames(Mel_scRNA@meta.data)[Mel_scRNA@meta.data$infercnv_pred == \"Aneuploid\"]\n",
    "DimPlot(Mel_scRNA, group.by = \"infercnv_pred\", cells.highlight = infercnv_aneuploid_cells, cols.highlight = \"red\")\n"
   ],
   "outputs": [],
   "execution_count": null
  },
  {
   "cell_type": "code",
   "id": "f8210c66-3424-4650-afac-2c5302fe2f65",
   "metadata": {
    "vscode": {
     "languageId": "r"
    }
   },
   "source": [
    "# Create a new column in Mel_scRNA@meta.data with empty values\n",
    "Mel_scRNA@meta.data$copykat_infercnv_consistent <- \"\"\n",
    "\n",
    "# Update the new column with \"Aneuploid\" where both conditions are met\n",
    "Mel_scRNA@meta.data$copykat_infercnv_consistent[Mel_scRNA@meta.data$infercnv_pred == \"Aneuploid\" & Mel_scRNA@meta.data$copykat_pred == \"aneuploid\"] <- \"Aneuploid\"\n",
    "\n",
    "# Highlight the cells that are consistent between infercnv and copykat predictions\n",
    "consistent_cells <- rownames(Mel_scRNA@meta.data)[Mel_scRNA@meta.data$copykat_infercnv_consistent == \"Aneuploid\"]\n",
    "DimPlot(Mel_scRNA, group.by = \"copykat_infercnv_consistent\", cells.highlight = consistent_cells, cols.highlight = \"red\")\n"
   ],
   "outputs": [],
   "execution_count": null
  },
  {
   "cell_type": "code",
   "id": "bd6293ae-f2fa-43aa-87cc-1dc95a19662d",
   "metadata": {
    "vscode": {
     "languageId": "r"
    }
   },
   "source": [],
   "outputs": [],
   "execution_count": null
  }
 ],
 "metadata": {
  "kernelspec": {
   "display_name": "R (r_env_CNVs)",
   "language": "R",
   "name": "ir_env_cnvs"
  },
  "language_info": {
   "codemirror_mode": "r",
   "file_extension": ".r",
   "mimetype": "text/x-r-source",
   "name": "R",
   "pygments_lexer": "r",
   "version": "4.3.3"
  }
 },
 "nbformat": 4,
 "nbformat_minor": 5
}
