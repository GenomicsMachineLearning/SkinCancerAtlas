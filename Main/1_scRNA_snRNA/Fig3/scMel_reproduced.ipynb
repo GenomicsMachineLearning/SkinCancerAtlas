{
 "cells": [
  {
   "cell_type": "code",
   "id": "8a202fbc-b308-4b26-9382-258453e16b50",
   "metadata": {},
   "source": [
    "import os\n",
    "import numpy as np\n",
    "import pandas as pd\n",
    "import scanpy as sc\n",
    "import matplotlib.pyplot as plt\n",
    "import seaborn as sns\n",
    "from sklearn.decomposition import PCA\n",
    "from sklearn.cluster import KMeans\n",
    "from sklearn.preprocessing import MinMaxScaler\n",
    "from tqdm.auto import tqdm\n",
    "from sklearn.cluster import KMeans\n",
    "from sklearn.metrics import adjusted_rand_score\n",
    "from sklearn.cluster import AgglomerativeClustering\n",
    "import anndata"
   ],
   "outputs": [],
   "execution_count": null
  },
  {
   "cell_type": "code",
   "id": "5b7ebd2e-4e3d-4c8b-83fc-de5fc9113b19",
   "metadata": {},
   "source": [
    "import sys\n",
    "print(sys.executable)\n"
   ],
   "outputs": [],
   "execution_count": null
  },
  {
   "cell_type": "code",
   "id": "b7947d1d-2d8d-4528-b70f-6f692ed3e41a",
   "metadata": {},
   "source": [
    "## Reading the count data and metadata files\n",
    "batch = pd.read_csv(\"/QRISdata/Q1851/Prakrithi/Melanoma_scRNAseq/MPSs_count_metadata.txt\", sep=\"\\t\", header=0, index_col='BC')\n",
    "#batch=batch.set_index('BC')\n",
    "rna_counts = np.transpose(pd.read_csv(\"/QRISdata/Q1851/Prakrithi/Melanoma_scRNAseq/MPSs_count_mat.txt\", sep=\"\\t\", header=0,index_col=0))"
   ],
   "outputs": [],
   "execution_count": null
  },
  {
   "cell_type": "code",
   "id": "d5dad1ff-468a-4514-a255-ce04f8568d40",
   "metadata": {},
   "source": [
    "## creating anndata objects from counts\n",
    "rna_adata = sc.AnnData(rna_counts)\n",
    "rna_adata.obs=batch.iloc[:,[0,1,2]]\n",
    "## Adding batch information to the Anndata objects from the metadata file\n",
    "#rna_adata.obs['sample'] = batch['orig.ident']\n",
    "## Making rows and column names unique (Cell barcode information is found in .obs and gene (feature) information in .var)\n",
    "rna_adata.var_names_make_unique()\n",
    "rna_adata.obs_names_make_unique()"
   ],
   "outputs": [],
   "execution_count": null
  },
  {
   "cell_type": "code",
   "id": "8be0398f-423c-4624-9f64-334547ae079f",
   "metadata": {},
   "source": [
    "rna_adata"
   ],
   "outputs": [],
   "execution_count": null
  },
  {
   "cell_type": "code",
   "id": "5c22eda1-2409-45d0-9774-bc24949b271e",
   "metadata": {},
   "source": [
    "#! pip install -U scikit-image on terminal\n",
    "import skimage"
   ],
   "outputs": [],
   "execution_count": null
  },
  {
   "cell_type": "code",
   "id": "2b29a898-1413-44be-951e-da441662bf62",
   "metadata": {},
   "source": [
    "#Doublet testing\n",
    "sc.pp.scrublet(rna_adata, batch_key=\"orig.ident\")\n",
    "sc.pl.violin(rna_adata, ['doublet_score'])\n"
   ],
   "outputs": [],
   "execution_count": null
  },
  {
   "cell_type": "code",
   "id": "dca2dff1-f939-47a6-8ffe-c507a72edde5",
   "metadata": {},
   "source": [],
   "outputs": [],
   "execution_count": null
  },
  {
   "cell_type": "code",
   "id": "70ee39f0-f4a6-4377-8664-3b19f8af648e",
   "metadata": {},
   "source": [
    "## QC plots for total genes, counts and percentage of mitochondrial genes in cells\n",
    "rna_adata.var['mt'] = rna_adata.var_names.str.startswith('MT-')\n",
    "sc.pp.calculate_qc_metrics(rna_adata, qc_vars=['mt'], percent_top=None, log1p=False, inplace=True)\n",
    "\n",
    "# Scanpy will prepend the string in the save argument with \"violin\"\n",
    "# and save it to our figure directory defined in the first step.\n",
    "sc.pl.violin(rna_adata, ['n_genes_by_counts','total_counts','pct_counts_mt'],  jitter=0.4)\n"
   ],
   "outputs": [],
   "execution_count": null
  },
  {
   "cell_type": "code",
   "id": "478809b6-b3dd-493d-a805-4e22324e9580",
   "metadata": {},
   "source": [
    "# Filtering out the low quality genes and cells\n",
    "rna_adata = rna_adata[(rna_adata.obs.n_genes_by_counts < 7000) &\n",
    "(rna_adata.obs.total_counts < 20000),:]"
   ],
   "outputs": [],
   "execution_count": null
  },
  {
   "cell_type": "code",
   "id": "8169aa06-3996-44c3-930c-959d972ac88c",
   "metadata": {},
   "source": [
    "rna_adata"
   ],
   "outputs": [],
   "execution_count": null
  },
  {
   "cell_type": "code",
   "id": "ac084d40-86cf-4606-a4af-4751f043912a",
   "metadata": {},
   "source": [
    "## Normalizing the counts\n",
    "sc.pp.normalize_total(rna_adata, target_sum=1e4)\n",
    "sc.pp.log1p(rna_adata)"
   ],
   "outputs": [],
   "execution_count": null
  },
  {
   "cell_type": "code",
   "id": "71e4a149-9559-4f47-84a5-3b593e98f6c9",
   "metadata": {},
   "source": [
    "rna_adata"
   ],
   "outputs": [],
   "execution_count": null
  },
  {
   "cell_type": "code",
   "id": "85a6b644-9ece-475b-82c4-eb485bef3cf8",
   "metadata": {},
   "source": [
    "rna_adata.X"
   ],
   "outputs": [],
   "execution_count": null
  },
  {
   "cell_type": "code",
   "id": "284d5804-21ff-4339-b965-a0b827a722ec",
   "metadata": {},
   "source": [
    "## Identifying the highly variable genes\n",
    "sc.pp.highly_variable_genes(rna_adata, min_mean=0.0125, max_mean=3, min_disp=0.25)\n",
    "# This saves the original set of genes\n",
    "#rna_adata.raw = rna_adata\n",
    "\n",
    "rna_adata = rna_adata[:,rna_adata.var.highly_variable]\n",
    "sc.pp.scale(rna_adata, max_value=10)"
   ],
   "outputs": [],
   "execution_count": null
  },
  {
   "cell_type": "code",
   "id": "c6ab7e6a-4d52-4731-87f7-c28b76c4a6d3",
   "metadata": {},
   "source": [
    "rna_adata"
   ],
   "outputs": [],
   "execution_count": null
  },
  {
   "cell_type": "code",
   "id": "575ffc59-b837-4d5d-bcb8-1d3668bfc23a",
   "metadata": {
    "scrolled": true
   },
   "source": [
    "# Lower dimension embedding - PCA\n",
    "sc.tl.pca(rna_adata, svd_solver='arpack',n_comps=200)\n",
    "sc.pl.pca_variance_ratio(rna_adata, log=True, n_pcs=200, save='200pc') # scanpy generates the filename automatically"
   ],
   "outputs": [],
   "execution_count": null
  },
  {
   "cell_type": "code",
   "id": "8ba2e366-0cce-4776-a053-761ac06c5428",
   "metadata": {},
   "source": [
    "# Lower dimension embedding - UMAP and clustering\n",
    "sc.pp.neighbors(rna_adata, n_neighbors=30, n_pcs=75)\n",
    "sc.tl.umap(rna_adata)\n",
    "sc.tl.leiden(rna_adata, resolution=1)\n",
    "sc.pl.umap(rna_adata, color=['leiden'] , legend_loc = 'best')"
   ],
   "outputs": [],
   "execution_count": null
  },
  {
   "cell_type": "code",
   "id": "24a1391f-0bd6-42cd-9710-6d8cf577aa8e",
   "metadata": {},
   "source": [],
   "outputs": [],
   "execution_count": null
  },
  {
   "cell_type": "code",
   "id": "f3d0096a-39c8-4daa-93f8-c29b7713b90f",
   "metadata": {},
   "source": [
    "def one_col_lgd(umap):\n",
    "    legend = umap.legend(bbox_to_anchor=[1.00, 0.5],\n",
    "    loc='center left', ncol=1, prop={'size': 6})\n",
    "    legend.get_frame().set_linewidth(0.0)\n",
    "    for handle in legend.legendHandles:\n",
    "        handle.set_sizes([25.0])\n",
    "    return legend\n",
    "\n",
    "## Clustering wiithout batch correction\n",
    "donor_umap = sc.pl.umap(rna_adata, color=['orig.ident'],\n",
    "show=False, palette=sns.color_palette(\"tab20\", 24),\n",
    "    legend_fontsize=6, frameon=True, title='Donor')\n",
    "\n",
    "lgd = one_col_lgd(donor_umap)\n",
    "\n",
    "fig = donor_umap.get_figure()\n",
    "fig.set_size_inches(5, 5)\n",
    "\n",
    "# by cluster\n",
    "leiden_umap = sc.pl.umap(rna_adata, color=['leiden'],\n",
    "    show=False, palette=sns.color_palette(\"husl\", 24),\n",
    "legend_fontsize=6, frameon=True, title='Leiden')\n",
    "\n",
    "lgd = one_col_lgd(leiden_umap)\n",
    "\n",
    "fig = leiden_umap.get_figure()\n",
    "fig.set_size_inches(5, 5)\n"
   ],
   "outputs": [],
   "execution_count": null
  },
  {
   "cell_type": "code",
   "id": "b351c9b7-c73a-4d6d-8517-ef922978742a",
   "metadata": {},
   "source": [
    "## Batch correction\n",
    "sc.external.pp.harmony_integrate(rna_adata, 'orig.ident')\n",
    "rna_adata.obsm['X_pca'] = rna_adata.obsm['X_pca_harmony']\n",
    "sc.pp.neighbors(rna_adata, n_neighbors=30, n_pcs=75)\n",
    "sc.tl.umap(rna_adata)\n",
    "sc.tl.leiden(rna_adata, resolution=1)"
   ],
   "outputs": [],
   "execution_count": null
  },
  {
   "cell_type": "code",
   "id": "ceb8d093-b979-483a-9b5b-a51c4a916e1a",
   "metadata": {},
   "source": [
    "### Clustering after batch correction\n",
    "# by sample\n",
    "donor_umap = sc.pl.umap(rna_adata, color=['orig.ident'],\n",
    "    show=False, legend_fontsize=6, frameon=True, title='Donor')\n",
    "\n",
    "lgd = one_col_lgd(donor_umap)\n",
    "\n",
    "fig = donor_umap.get_figure()\n",
    "fig.set_size_inches(5, 5)\n",
    "\n",
    "# by cluster\n",
    "leiden_umap = sc.pl.umap(rna_adata, color=['leiden'],\n",
    "show=False, palette=sns.color_palette(\"tab20\", 24),\n",
    "    legend_fontsize=6, frameon=True, title='Leiden')\n",
    "\n",
    "lgd = one_col_lgd(leiden_umap)\n",
    "\n",
    "fig = leiden_umap.get_figure()\n",
    "fig.set_size_inches(5, 5)\n"
   ],
   "outputs": [],
   "execution_count": null
  },
  {
   "cell_type": "code",
   "id": "dd1d683e-afbc-44c4-ae33-7165537b77a5",
   "metadata": {},
   "source": [
    "sc.pl.umap(rna_adata, color=\"leiden\", legend_loc='on data')"
   ],
   "outputs": [],
   "execution_count": null
  },
  {
   "cell_type": "code",
   "id": "c578b040-4dfc-4a48-bd7b-122a4f49d45b",
   "metadata": {},
   "source": [
    "rna_adata.raw = rna_adata\n",
    "rna_adata = rna_adata[:, rna_adata.var[\"highly_variable\"]].copy()"
   ],
   "outputs": [],
   "execution_count": null
  },
  {
   "cell_type": "code",
   "id": "6bbec666-146f-4cf4-bde4-dd278374dd6f",
   "metadata": {
    "scrolled": true
   },
   "source": [
    "sc.tl.rank_genes_groups(rna_adata, groupby=\"leiden\", method=\"wilcoxon\")\n",
    "sc.pl.rank_genes_groups_dotplot(\n",
    "    rna_adata, groupby=\"leiden\", standard_scale=\"var\", n_genes=5\n",
    ")"
   ],
   "outputs": [],
   "execution_count": null
  },
  {
   "cell_type": "code",
   "id": "3620bb86-c841-429d-b3d1-91020e59a1ee",
   "metadata": {},
   "source": [
    "# Immune subclusters\n",
    "sc.pl.dotplot(\n",
    "    rna_adata,\n",
    "    {\n",
    "        \"General\": [\"ITGAM\"],\n",
    "        \"Melanocyte\": [\"MITF\",\"PMEL\",\"TYR\",\"DCT\",\"MLANA\",\"PMEL\",\"S100A1\"], \n",
    "        \"LC\": [\"CD207\", \"EPCAM\", \"ITGAX\"],\n",
    "        \"Monocyte\": [\"CCR2\", \"CD14\", \"S100A8\", \"S100A9\", \"CX3CR1\"],\n",
    "        \"DC1\": [\"XCR1\", \"CLEC9A\"],\n",
    "        \"DC2\": [\"CLEC10A\", \"THBD\"],\n",
    "        \"DC3\": [\"CSF3R\", \"CSF2RA\"],\n",
    "        \"mRegDC\": [\"LAMP3\", \"CCR7\"],\n",
    "        \"pDC\": [\"IL3RA\", \"KIT\", \"IRF8\"],\n",
    "        \"Mac\": [\n",
    "            \"C1QA\",\n",
    "            \"TREM2\",\n",
    "            \"SIGLEC1\",\n",
    "            \"CD68\",\n",
    "            \"LYVE1\",\n",
    "            \"ARG1\",\n",
    "            \"CD163\",\n",
    "        ],\n",
    "        \"prolif\": [\"UBE2C\",\"NUSAP1\",\"MKI67\"],\n",
    "        \"IFN\": [\"ISG15\", \"IFI27\", \"STAT1\"],\n",
    "        \"contamination\": [\"CD3D\"],\n",
    "        \"sweat gland\":[\"KRT7\", \"KRT19\",\"AQP5\",\"SCGB2A2\",\"DCD\",\"SCNN1A\"]\n",
    "    },\n",
    "    standard_scale=\"var\",\n",
    "    color_map=\"Blues\",\n",
    "    groupby=\"leiden\",\n",
    ") #\"leiden_res0_25\""
   ],
   "outputs": [],
   "execution_count": null
  },
  {
   "cell_type": "code",
   "id": "60d1131c-531f-4d21-a3d0-b578512bd4d5",
   "metadata": {},
   "source": [
    "# Not as useful compared to the umap gene expression graphs\n",
    "\n",
    "sc.pl.dotplot(\n",
    "    rna_adata,\n",
    "    {\n",
    "        \"Immune cell\": [\n",
    "            \"CD3D\",\n",
    "            \"CD3E\",\n",
    "            \"CD4\",\n",
    "            \"CD8A\",\n",
    "            \"CCR7\",\n",
    "            \"SELL\",\n",
    "            \"CD27\",\n",
    "            \"ITGAM\",\n",
    "            \"S100A8\",\n",
    "        ],\n",
    "        \"prolif\": [\"MKI67\"],\n",
    "        \"IFN\": [\"ISG15\", \"IFI27\", \"STAT1\"],\n",
    "        \"KC Basal\": [\"KRT15\", \"C1orf56\"],\n",
    "        \"KC Differentiating\": [\"KRT10\"],\n",
    "        \"KC Cornified\": [\"LOR\", \"IVL\"],\n",
    "        \"KC Granular\": [\"KRT2\"],\n",
    "        \"KC stem/hair/stress\": [\"KRT16\", \"KRT17\", \"KRT6A\"],\n",
    "        \"KC nail/nail\": [\n",
    "            \"KRT6B\",\n",
    "            \"KRT79\",\n",
    "        ],\n",
    "        \"sweat gland\":[\"KRT7\", \"KRT19\",\"AQP5\",\"SCGB2A2\",\"DCD\",\"SCNN1A\"]\n",
    "    },\n",
    "    standard_scale=\"var\",\n",
    "    color_map=\"Blues\",\n",
    "    groupby=\"leiden\",\n",
    ")"
   ],
   "outputs": [],
   "execution_count": null
  },
  {
   "cell_type": "code",
   "id": "14a01fdd-c2a9-4816-8d66-4197cdcd28bf",
   "metadata": {},
   "source": [
    "sc.pl.dotplot(\n",
    "    rna_adata,\n",
    "    {\n",
    "        \"T cell\": [\n",
    "            \"CD3D\",\n",
    "            \"CD3E\",\n",
    "            \"CD4\",\n",
    "            \"CD8A\",\n",
    "            \"CCR7\",\n",
    "            \"SELL\",\n",
    "            \"CD27\",\n",
    "        ],\n",
    "        \"Trm\": [\"CD69\", \"CRTAM\", \"S1PR1\"],\n",
    "        \"Treg\": [\"FOXP3\", \"PDCD1\", \"CTLA4\", \"IL2RA\"],\n",
    "        \"NK\": [ \"NCR1\", \"GZMB\",\"GNLY\", \"XCL2\"],\n",
    "        \"ILC\": [\"IL7R\"],\n",
    "        \"prolif\": [\"MKI67\"],\n",
    "        \"IFN\": [\"ISG15\", \"IFI27\", \"STAT1\"],\n",
    "        \"Contamination\": [\"ITGAM\", \"S100A8\"],\n",
    "        \"Endothelial\": [\"CLDN5\", \"PLVAP\", \"SPARCL1\"],\n",
    "        \"Fibroblast\": [\"PDGFRA\", \"PDGFRB\", \"DCN\"],\n",
    "        \"B cell\":[\"CD79A\",\"CD22\"]\n",
    "    },\n",
    "    standard_scale=\"var\",\n",
    "    color_map=\"Blues\",\n",
    "    groupby=\"leiden\",\n",
    ")"
   ],
   "outputs": [],
   "execution_count": null
  },
  {
   "cell_type": "code",
   "id": "d9285db1-90c8-473f-8e1c-ec771f51f22a",
   "metadata": {},
   "source": [
    "# 6, 14 are doublets with keratinocytes?? Express KRT14\n",
    "\n",
    "new_cell_dict = {\n",
    "    \"0\": \"KC\",\n",
    "    \"1\": \"Melanocytes\", #\n",
    "    \"2\": \"KC\",\n",
    "    \"3\": \"Fibroblast\", #T\n",
    "    \"4\": \"Immune\", #Basal\n",
    "    \"5\": \"Endothelial cell\", #DC\n",
    "    \"6,0\": \"Melanocytes\", #\n",
    "    \"6,1\": \"Other\", #\n",
    "    \"7\": \"Immune\", #T\n",
    "    \"8\": \"Immune\", #\n",
    "    \"9\": \"Fibroblast\", #\n",
    "    \"10\": \"KC\", #\n",
    "    \"11\": \"Immune\", #\n",
    "    \"12\": \"KC\", #\n",
    "    \"13\": \"Immune\", #Basal\n",
    "    \"14\": \"KC\",\n",
    "    \"15\": \"Melanocytes\", #DC\n",
    "    \"16\": \"KC\", #DC\n",
    "    \"17\": \"KC\", #NK\n",
    "    \"18\": \"KC\", #LC (Immature DC)\n",
    "    \"19\": \"Melanocytes\",\n",
    "    \"20\": \"Sweat gland related\", #DC\n",
    "    \"21\": \"KC\", #stem/hair/stress\n",
    "    \"22\": \"Immune\", #???\n",
    "    \"23\":\"Immune\",\n",
    "    \"24\":\"Immune\",\n",
    "    \"25\":\"Immune\",\n",
    "    \"26\":\"Immune\",\n",
    "    \"27\":\"Endothelial cell\",\n",
    "    \"28\":\"Immune\",\n",
    "    \"29\":\"Immune\",\n",
    "    \"30\":\"Immune\",\n",
    "    \"31\":\"Immune\",\n",
    "    \"32\":\"Immune\",\n",
    "}\n",
    "\n",
    "new_cell_dict2 = {\n",
    "    \"0\": \"KC Differentiating\",\n",
    "    \"1\": \"Melanocytes\", #\n",
    "    \"2\": \"KC Basal\",\n",
    "    \"3\": \"Fibroblast\", #T\n",
    "    \"4\": \"T cell\", #Basal\n",
    "    \"5\": \"Endothelial cell\", #DC\n",
    "    \"6,0\": \"Melanocytes\", #\n",
    "    \"6,1\": \"Schwann Cells\", #\n",
    "    \"7\": \"Macrophage\", #T\n",
    "    \"8\": \"CD8+ Tcell\", #\n",
    "    \"9\": \"Fibroblast\", #\n",
    "    \"10\": \"KC Granular\", #\n",
    "    \"11\": \"DC\", #\n",
    "    \"12\": \"KC Differentiating\", #\n",
    "    \"13\": \"Treg\", #Basal\n",
    "    \"14\": \"KC Cornified\",\n",
    "    \"15\": \"Melanocytes\", #DC\n",
    "    \"16\": \"KC stem/hair/stress\", #DC\n",
    "    \"17\": \"KC Nail\", #NK\n",
    "    \"18\": \"KC Basal\", #LC (Immature DC)\n",
    "    \"19\": \"Melanocytes\",\n",
    "    \"20\": \"Sweat gland related\", #DC\n",
    "    \"21\": \"KC Basal\", #stem/hair/stress\n",
    "    \"22\": \"DC\", #???\n",
    "    \"23\":\"Mast Cells\",\n",
    "    \"24\":\"NK\",\n",
    "    \"25\":\"Pericytes\",\n",
    "    \"26\":\"LC\",\n",
    "    \"27\":\"Endothelial cell\",\n",
    "    \"28\":\"pDC\",\n",
    "    \"29\":\"Pericytes\",\n",
    "    \"30\":\"DC\",\n",
    "    \"31\":\"B cell\",\n",
    "    \"32\":\"Pericytes\",\n",
    "}\n",
    "\n",
    "\n",
    "rna_adata.obs[\"Level1\"] = [new_cell_dict[x] for x in rna_adata.obs[\"leiden_R\"]]\n",
    "rna_adata.obs[\"Level2\"] = [new_cell_dict2[x] for x in rna_adata.obs[\"leiden_R\"]]\n",
    "#rna_adata.obs[\"Level2\"] = [new_cell_dict2[x] for x in rna_adata.obs[\"leiden\"]]\n",
    "\n",
    "#mdata = idata[idata.obs[\"Level1\"].isin([\"Imm_Myeloid\"])].copy()\n",
    "#tdata = idata[idata.obs[\"Level1\"].isin([\"Imm_T cell\"])].copy()\n",
    "#mdata = idata[idata.obs[\"Level1\"].isin([\"Imm_Myeloid\"])].copy()\n",
    "#tdata = idata[idata.obs[\"Level1\"].isin([\"Imm_T cell\"])].copy()\n",
    "\n",
    "sc.pl.umap(\n",
    "    rna_adata,\n",
    "    color=[\"Level1\",\"Level2\"],\n",
    ")"
   ],
   "outputs": [],
   "execution_count": null
  },
  {
   "cell_type": "code",
   "id": "50abcca5-7ea6-4f5b-bd6e-1552c83c18c5",
   "metadata": {},
   "source": [
    "rna_adata.obs.groupby('leiden')['Level3'].apply(lambda x: list(set(x))).reset_index()"
   ],
   "outputs": [],
   "execution_count": null
  },
  {
   "cell_type": "code",
   "id": "06ccc593-f0ee-4265-b78e-c966157fe884",
   "metadata": {},
   "source": [
    "# Copy the 'original_Level2' column to 'original_Level2_with_Melanoma'\n",
    "rna_adata.obs['original_Level2_with_Melanoma'] = rna_adata.obs['original_Level2'].copy()\n",
    "\n",
    "# Add 'Melanoma' as a category in 'original_Level2_with_Melanoma'\n",
    "rna_adata.obs['original_Level2_with_Melanoma'] = rna_adata.obs['original_Level2_with_Melanoma'].cat.add_categories(['Melanoma'])\n",
    "\n",
    "# Replace 'original_Level2_with_Melanoma' with 'Melanoma' where 'orig.ident' is 'MPS13' and 'original_Level2' is 'Melanocytes'\n",
    "rna_adata.obs.loc[(rna_adata.obs['orig.ident'] == 'MPS13') & (rna_adata.obs['original_Level2_with_Melanoma'] == 'Melanocytes'), 'original_Level2_with_Melanoma'] = 'Melanoma'\n",
    "\n",
    "# Plot the UMAP with the updated 'original_Level2_with_Melanoma'\n",
    "sc.pl.umap(rna_adata, color=['original_Level2_with_Melanoma'])\n"
   ],
   "outputs": [],
   "execution_count": null
  },
  {
   "cell_type": "code",
   "id": "a926f5b9-e41f-4d2d-b4b9-acadf26e490a",
   "metadata": {},
   "source": [
    "sc.pl.umap(rna_adata, color=['original_Level2_with_Melanoma'],legend_loc='on data',legend_fontsize=6  )\n"
   ],
   "outputs": [],
   "execution_count": null
  },
  {
   "cell_type": "code",
   "id": "366462b0-3803-423b-92d1-12980de964df",
   "metadata": {},
   "source": [
    "rna_adata.obs['copykat_pred']"
   ],
   "outputs": [],
   "execution_count": null
  },
  {
   "cell_type": "code",
   "id": "d706da1f-af38-4d0d-ba0a-d141bfa37c3c",
   "metadata": {},
   "source": [
    "import scanpy as sc\n",
    "import pandas as pd\n",
    "import numpy as np\n",
    "import matplotlib.pyplot as plt\n",
    "\n",
    "rna_adata.obs['copykat_pred']=rna_adata_OLD.obs['copykat_pred']\n",
    "rna_adata.obs['infercnv_pred']=rna_adata_OLD.obs['infercnv_pred']\n",
    "\n",
    "\n",
    "mel_only = rna_adata[rna_adata.obs['original_Level2'] == 'Melanocytes'].copy()\n",
    "\n",
    "# Ensure `mel_only` is your AnnData object\n",
    "\n",
    "def handle_categorical(column):\n",
    "    if column.dtype.name == 'category':\n",
    "        # Check if 'nan' is already a category\n",
    "        if 'nan' not in column.cat.categories:\n",
    "            column = column.cat.add_categories(['nan'])\n",
    "        # Fill missing values with 'nan'\n",
    "        column = column.fillna('nan')\n",
    "    else:\n",
    "        # Convert to category and fill missing values\n",
    "        column = pd.Categorical(column.fillna('nan'))\n",
    "    return column\n",
    "\n",
    "# Handle categorical columns\n",
    "mel_only.obs['copykat_pred'] = handle_categorical(mel_only.obs['copykat_pred'])\n",
    "mel_only.obs['infercnv_pred'] = handle_categorical(mel_only.obs['infercnv_pred'])\n",
    "\n",
    "# Create a combined clustering column focusing on \"Aneuploid\" clusters and NA values\n",
    "def categorize_clusters(row):\n",
    "    infercnv = row['infercnv_pred']\n",
    "    copykat = row['copykat_pred']\n",
    "    \n",
    "    if infercnv == 'Aneuploid' and copykat == 'aneuploid':\n",
    "        return 'overlap'\n",
    "    elif infercnv == 'Aneuploid' and copykat != 'aneuploid':\n",
    "        return 'infercnv_only'\n",
    "    elif infercnv != 'Aneuploid' and copykat == 'aneuploid':\n",
    "        return 'copykat_only'\n",
    "    else:\n",
    "        return 'none'\n",
    "\n",
    "mel_only.obs['combined_clusters'] = mel_only.obs.apply(categorize_clusters, axis=1)\n",
    "\n",
    "# Define the color map\n",
    "colors = {\n",
    "    'infercnv_only': 'blue',\n",
    "    'copykat_only': 'orange',\n",
    "    'overlap': 'red',\n",
    "    'none': 'lightgrey'\n",
    "}\n",
    "\n",
    "# Map the colors to the combined clusters\n",
    "#mel_only.obs['combined_clusters_color'] = mel_only.obs['combined_clusters'].map(colors)\n",
    "\n",
    "# Plot the UMAP with reduced spot size and custom colors\n",
    "#sc.pl.umap(mel_only, color='combined_clusters', title='UMAP of Combined Clusters', size=30, palette=colors)\n",
    "\n",
    "\n",
    "# Sort the data to ensure 'none' (grey) is at the back, blue/orange in the middle, and red at the front\n",
    "mel_only.obs['sort_order'] = mel_only.obs['combined_clusters'].map({\n",
    "    'none': 0,             # Grey: plotted first (back)\n",
    "    'infercnv_only': 2,     # Blue: middle\n",
    "    'copykat_only': 3,      # Orange: middle\n",
    "    'overlap': 4            # Red: plotted last (front)\n",
    "})\n",
    "\n",
    "# Sort the data based on the sort order\n",
    "mel_only = mel_only[mel_only.obs.sort_values('sort_order').index]\n",
    "\n",
    "# Plot UMAP with custom colors and point size, ensuring grey is in the background\n",
    "sc.pl.umap(mel_only, color='combined_clusters', title='UMAP of Combined Clusters', size=30, palette=colors)\n"
   ],
   "outputs": [],
   "execution_count": null
  },
  {
   "cell_type": "code",
   "id": "cbe2c33c-64bd-451f-9bdd-02f651e491e0",
   "metadata": {},
   "source": [
    "# Sort the data to ensure 'none' (grey) is at the back, blue/orange in the middle, and red at the front\n",
    "mel_only.obs['sort_order_SAMPLE'] = mel_only.obs['original_Level2_with_Melanoma'].map({\n",
    "    'MPS42': 0,             # Grey: plotted first (back)\n",
    "    'MPS43': 2,     # Blue: middle\n",
    "    'MPS13': 3    # Orange: middle\n",
    "})\n",
    "\n",
    "# Sort the data based on the sort order\n",
    "mel_only = mel_only[mel_only.obs.sort_values('sort_order_SAMPLE').index]\n",
    "\n",
    "# Plot UMAP with custom colors and point size, ensuring grey is in the background\n",
    "sc.pl.umap(mel_only, color='original_Level2_with_Melanoma')\n"
   ],
   "outputs": [],
   "execution_count": null
  },
  {
   "cell_type": "code",
   "id": "fbe1179c-5cf9-4fba-8ae1-a3bea21d130b",
   "metadata": {},
   "source": [
    "mel_only.obs['original_Level2_with_Melanoma'].value_counts()"
   ],
   "outputs": [],
   "execution_count": null
  },
  {
   "cell_type": "code",
   "id": "562455dc-0c2d-4908-889c-2577da11e645",
   "metadata": {},
   "source": [
    "mel_only.obs['combined_clusters'].value_counts()"
   ],
   "outputs": [],
   "execution_count": null
  },
  {
   "cell_type": "code",
   "id": "4e7c0a1c-40b0-4b6a-96a5-c7433bcf5f7a",
   "metadata": {},
   "source": [],
   "outputs": [],
   "execution_count": null
  },
  {
   "cell_type": "code",
   "id": "889b820d-fede-4ce4-ae58-4b664ff00f99",
   "metadata": {},
   "source": [
    "rna_adata.obs['copykat_pred']=rna_adata_OLD.obs['copykat_pred']\n",
    "rna_adata.obs['infercnv_pred']=rna_adata_OLD.obs['infercnv_pred']\n",
    "\n",
    "\n",
    "#mel_only = rna_adata[rna_adata.obs['original_Level2'] == 'Melanocytes'].copy()\n",
    "\n",
    "# Ensure `mel_only` is your AnnData object\n",
    "\n",
    "def handle_categorical(column):\n",
    "    if column.dtype.name == 'category':\n",
    "        # Check if 'nan' is already a category\n",
    "        if 'nan' not in column.cat.categories:\n",
    "            column = column.cat.add_categories(['nan'])\n",
    "        # Fill missing values with 'nan'\n",
    "        column = column.fillna('nan')\n",
    "    else:\n",
    "        # Convert to category and fill missing values\n",
    "        column = pd.Categorical(column.fillna('nan'))\n",
    "    return column\n",
    "\n",
    "# Handle categorical columns\n",
    "rna_adata.obs['copykat_pred'] = handle_categorical(rna_adata.obs['copykat_pred'])\n",
    "rna_adata.obs['infercnv_pred'] = handle_categorical(rna_adata.obs['infercnv_pred'])\n",
    "\n",
    "# Create a combined clustering column focusing on \"Aneuploid\" clusters and NA values\n",
    "def categorize_clusters(row):\n",
    "    infercnv = row['infercnv_pred']\n",
    "    copykat = row['copykat_pred']\n",
    "    \n",
    "    if infercnv == 'Aneuploid' and copykat == 'aneuploid':\n",
    "        return 'overlap'\n",
    "    elif infercnv == 'Aneuploid' and copykat != 'aneuploid':\n",
    "        return 'infercnv_only'\n",
    "    elif infercnv != 'Aneuploid' and copykat == 'aneuploid':\n",
    "        return 'copykat_only'\n",
    "    else:\n",
    "        return 'none'\n",
    "\n",
    "rna_adata.obs['Aneuploid_combined_clusters'] = rna_adata.obs.apply(categorize_clusters, axis=1)\n",
    "\n",
    "# Define the color map\n",
    "colors = {\n",
    "    'infercnv_only': 'blue',\n",
    "    'copykat_only': 'orange',\n",
    "    'overlap': 'red',\n",
    "    'none': 'lightgrey'\n",
    "}\n",
    "\n",
    "# Map the colors to the combined clusters\n",
    "#mel_only.obs['Aneuploid_combined_clusters'] = mel_only.obs['combined_clusters'].map(colors)\n",
    "\n",
    "\n",
    "\n",
    "\n",
    "# Sort the data to ensure 'none' (grey) is at the back, blue/orange in the middle, and red at the front\n",
    "rna_adata.obs['sort_order'] = rna_adata.obs['Aneuploid_combined_clusters'].map({\n",
    "    'none': 0,             # Grey: plotted first (back)\n",
    "    'infercnv_only': 2,     # Blue: middle\n",
    "    'copykat_only': 3,      # Orange: middle\n",
    "    'overlap': 4            # Red: plotted last (front)\n",
    "})\n",
    "\n",
    "# Sort the data based on the sort order\n",
    "rna_adata = rna_adata[rna_adata.obs.sort_values('sort_order').index]\n",
    "\n",
    "# Plot UMAP with custom colors and point size, ensuring grey is in the background\n",
    "sc.pl.umap(rna_adata, color='Aneuploid_combined_clusters', title='UMAP of Combined Clusters', size=10, palette=colors)\n"
   ],
   "outputs": [],
   "execution_count": null
  },
  {
   "cell_type": "code",
   "id": "9e165a3b-4eef-44ca-b3cd-16ec5ed6b1e3",
   "metadata": {},
   "source": [],
   "outputs": [],
   "execution_count": null
  },
  {
   "cell_type": "code",
   "id": "3001ffc9-8584-4d5e-a2ce-4897b608b3a4",
   "metadata": {},
   "source": [
    "sc.pl.umap(rna_adata_OLD, color=['Level2_res1'], legend_loc='on data',legend_fontsize=6)"
   ],
   "outputs": [],
   "execution_count": null
  },
  {
   "cell_type": "code",
   "id": "5eb64eae-b2e4-4919-bdb6-636d82a7c262",
   "metadata": {},
   "source": [
    "sc.pl.umap(rna_adata_OLD, color=['Level1','Level2'])"
   ],
   "outputs": [],
   "execution_count": null
  },
  {
   "cell_type": "code",
   "id": "3e754c27-ecde-4bd9-b777-fbe158a789c9",
   "metadata": {},
   "source": [
    "rna_adata.obs['original_Level1']=rna_adata_OLD.obs['Level1']\n",
    "sc.pl.umap(rna_adata, color=['Level1'])"
   ],
   "outputs": [],
   "execution_count": null
  },
  {
   "cell_type": "code",
   "id": "f8ade9a5-7dac-4ba3-b2e4-24e06c77d29a",
   "metadata": {},
   "source": [
    "rna_adata.obs['Level3']=rna_adata.obs['original_Level2_with_Melanoma']\n",
    "sc.pl.umap(rna_adata, color=['Level1','Level2','Level3'])"
   ],
   "outputs": [],
   "execution_count": null
  },
  {
   "cell_type": "code",
   "id": "e74d47e5-25d2-46be-81b0-b418304ac530",
   "metadata": {},
   "source": [
    "import scanpy as sc\n",
    "import matplotlib.pyplot as plt\n",
    "\n",
    "# First, add \"Schwann Cell\" as a category if it's not already there\n",
    "rna_adata.obs['Level3'] = rna_adata.obs['Level3'].cat.add_categories(['Schwann Cell'])\n",
    "# Now replace NaN values with \"Schwann Cell\"\n",
    "rna_adata.obs['Level3'] = rna_adata.obs['Level3'].fillna('Schwann Cell')\n",
    "# Your existing color dictionary\n",
    "rna_adata.obs['Level3'] = rna_adata.obs['Level3'].str.replace('cell', 'Cell', case=False)\n",
    "\n",
    "color_dict = {\n",
    "    \"DC\": \"#5F9EA0\",\n",
    "    \"Endothelial Cell\": \"#FFA500\",\n",
    "    \"Fibroblast\": \"#458B00\",\n",
    "    \"KC Basal\": \"#FF6A6A\",\n",
    "    \"KC Cornified\": \"#8B3A62\",\n",
    "    \"KC Granular\": \"#8B3A62\",\n",
    "    \"KC Differentiating\": \"#AB82FF\",\n",
    "    \"KC Cancer\": \"#000000\",\n",
    "    \"KC Hair\": \"#FF0000\",\n",
    "    \"LC\": \"#0000CD\",\n",
    "    \"Macrophage\": \"#EEEE00\",\n",
    "    \"Melanocytes\": \"#8B4513\",\n",
    "    \"Melanoma\": \"#000000\",\n",
    "    \"NK\": \"#9ACD32\",\n",
    "    \"T Cell\": \"#1874CD\",\n",
    "    \"Treg\": \"#00B2EE\",\n",
    "    \"pDC\": \"#8A2BE2\",\n",
    "    \"Mast Cell\": \"#ab2952\",\n",
    "    \"mRegDC\":\"#809693\", 'CD8+ T Cell': \"#3f6573\",\"B Cell\":\"#ffff00\",\"Pericytes\":\"#dba465\",\"Sweat gland related\":\"#6f9c57\",\"nan\":\"grey\",\n",
    "    'Schwann Cell':'#737475'\n",
    "}\n",
    "\n",
    "# Ensure that your 'Level3' labels match the keys in the color_dict\n",
    "# Example of setting up UMAP\n",
    "sc.pl.umap(\n",
    "    rna_adata,  # Your AnnData object\n",
    "    color='Level3',  # Assuming 'Level3' is the categorical variable you want to color by\n",
    "    palette=color_dict,  # Use your color dictionary\n",
    "    show=True,  # Set to False if you don't want to display the plot immediately\n",
    ")\n",
    "\n",
    "# Optimize layout\n",
    "plt.tight_layout()\n",
    "plt.show()\n"
   ],
   "outputs": [],
   "execution_count": null
  },
  {
   "cell_type": "code",
   "id": "093dbcee-cee3-4cfe-99a7-e2deb81558b8",
   "metadata": {},
   "source": [
    "rna_adata.obs['Level1'] = rna_adata.obs['Level1'].replace('Sweat gland related', 'Other')\n",
    "# Replace \"KC Nail\" and \"KC stem/hair/stress\" with \"KC Hair\"\n",
    "rna_adata.obs['Level2'] = rna_adata.obs['Level2'].replace({\n",
    "    'KC Nail': 'KC Hair',\n",
    "    'KC stem/hair/stress': 'KC Hair',\n",
    "    'pDC': 'DC',\n",
    "    'Treg' : 'T Cell',\n",
    "    'T cell' : 'T Cell',\n",
    "    'CD8+ Tcell': 'T Cell',\n",
    "    'Mast Cells':'Mast Cell',\n",
    "    'Schwann Cells':'Schwann Cell'\n",
    "})\n",
    "\n",
    "sc.pl.umap(\n",
    "    rna_adata,  # Your AnnData object\n",
    "    color=['Level1','Level2'],  # Assuming 'Level3' is the categorical variable you want to color by\n",
    "    show=True,  # Set to False if you don't want to display the plot immediately\n",
    ")"
   ],
   "outputs": [],
   "execution_count": null
  },
  {
   "cell_type": "code",
   "id": "31c04ca3-ad78-4d80-94db-62a37564d6aa",
   "metadata": {
    "scrolled": true
   },
   "source": [
    "# Your existing color dictionary\n",
    "level2_color_dict = {\n",
    "    \"DC\": \"#5F9EA0\",\n",
    "    \"Endothelial cell\": \"#FFA500\",\n",
    "    \"Fibroblast\": \"#458B00\",\n",
    "    \"KC Basal\": \"#FF6A6A\",\n",
    "    \"KC Cornified\": \"#8B3A62\",\n",
    "    \"KC Granular\": \"#8B3A62\",\n",
    "    \"KC Differentiating\": \"#AB82FF\",\n",
    "    \"KC Cancer\": \"#000000\",\n",
    "    \"KC Hair\": \"#FF0000\",\n",
    "    \"LC\": \"#0000CD\",\n",
    "    \"Macrophage\": \"#EEEE00\",\n",
    "    \"Melanocytes\": \"#8B4513\",\n",
    "    \"Melanoma\": \"#000000\",\n",
    "    \"NK\": \"#9ACD32\",\n",
    "    \"T Cell\": \"#1874CD\",\n",
    "    \"Mast Cell\": \"#ab2952\",\n",
    "\"B cell\":\"#ffff00\",\"Pericytes\":\"#dba465\",\"Sweat gland related\":\"#6f9c57\",   'Schwann Cell':'#737475'\n",
    "}\n",
    "\n",
    "# Ensure that your 'Level3' labels match the keys in the color_dict\n",
    "# Example of setting up UMAP\n",
    "sc.pl.umap(\n",
    "    rna_adata,  # Your AnnData object\n",
    "    color='Level2',  # Assuming 'Level3' is the categorical variable you want to color by\n",
    "    palette=level2_color_dict,  # Use your color dictionary\n",
    "    show=True,  # Set to False if you don't want to display the plot immediately\n",
    ")\n",
    "\n",
    "# Optimize layout\n",
    "plt.tight_layout()\n",
    "plt.show()\n"
   ],
   "outputs": [],
   "execution_count": null
  },
  {
   "cell_type": "code",
   "id": "77d99c8a-0561-49a8-98a3-a0a5deaac556",
   "metadata": {},
   "source": [
    "rna_adata.obs['Level1'].unique().tolist()"
   ],
   "outputs": [],
   "execution_count": null
  },
  {
   "cell_type": "code",
   "id": "d1ae7239-cd61-49fe-a343-dd0ebb719045",
   "metadata": {},
   "source": [
    "# Your existing color dictionary\n",
    "level1_color_dict = {\n",
    "    \"Endothelial cell\": \"#FFA500\",\n",
    "    \"Fibroblast\": \"#458B00\",\n",
    "    \"KC\": \"#FF6A6A\",\n",
    "    \"Immune\": \"#1874CD\",\n",
    "      \"Melanocytes\": \"#8B4513\",\n",
    "    \"Other\":'#737475'\n",
    "}\n",
    "\n",
    "# Ensure that your 'Level3' labels match the keys in the color_dict\n",
    "# Example of setting up UMAP\n",
    "sc.pl.umap(\n",
    "    rna_adata,  # Your AnnData object\n",
    "    color='Level1',  # Assuming 'Level3' is the categorical variable you want to color by\n",
    "    palette=level1_color_dict,  # Use your color dictionary\n",
    "    show=True,  # Set to False if you don't want to display the plot immediately\n",
    ")\n",
    "\n",
    "# Optimize layout\n",
    "plt.tight_layout()\n",
    "plt.show()\n"
   ],
   "outputs": [],
   "execution_count": null
  },
  {
   "cell_type": "code",
   "id": "351772c1-7411-4415-ac31-ad68bd83626f",
   "metadata": {},
   "source": [
    "rna_adata"
   ],
   "outputs": [],
   "execution_count": null
  },
  {
   "cell_type": "code",
   "id": "3ab89f1c-d95e-4142-87a4-b7e719ce32a2",
   "metadata": {},
   "source": [
    "# List of columns to remove\n",
    "#columns_to_remove = [    'original_Level2', 'original_Level2_with_Melanoma','new_Level2','original_Level1']\n",
    "\n",
    "# Remove the specified columns\n",
    "#rna_adata.obs.drop(columns=columns_to_remove, inplace=True)\n",
    "\n",
    "\n",
    "# List of keys to remove\n",
    "keys_to_remove = [\n",
    "    'original_Level1_colors', \n",
    "    'original_Level2_colors', \n",
    "    'original_Level2_with_Melanoma_colors'\n",
    "]\n",
    "\n",
    "# Remove the specified keys from .uns\n",
    "for key in keys_to_remove:\n",
    "    if key in rna_adata.uns:\n",
    "        del rna_adata.uns[key]\n",
    "rna_adata"
   ],
   "outputs": [],
   "execution_count": null
  },
  {
   "cell_type": "code",
   "id": "d193d4f3-1075-429a-aae3-0666e6341e5b",
   "metadata": {},
   "source": [
    "rna_adata.write('skin_atlas/Melanoma_sc_reproduced_final_oct16.h5ad')\n"
   ],
   "outputs": [],
   "execution_count": null
  },
  {
   "cell_type": "code",
   "id": "0b1d8a49-bb00-43e3-aab7-7fe187efcec8",
   "metadata": {},
   "source": [
    "mel_only.obs['leiden'].unique().tolist()"
   ],
   "outputs": [],
   "execution_count": null
  },
  {
   "cell_type": "code",
   "id": "6c251d07-82e5-48bb-b990-05fee6445cd6",
   "metadata": {},
   "source": [
    "rna_adata.obs['mel_leiden'] = mel_only.obs['leiden'].reindex(rna_adata.obs.index)\n",
    "rna_adata"
   ],
   "outputs": [],
   "execution_count": null
  },
  {
   "cell_type": "code",
   "id": "5ba8c705-bf9d-4781-924b-6eb168739546",
   "metadata": {},
   "source": [
    "sc.pl.umap(rna_adata, color='mel_leiden', size=30)\n"
   ],
   "outputs": [],
   "execution_count": null
  },
  {
   "cell_type": "code",
   "id": "7466d15c-3476-417a-b4bf-21562b2d67cf",
   "metadata": {
    "scrolled": true
   },
   "source": [
    "# Group by Level1, Level2, and Level3 and count occurrences\n",
    "tally = rna_adata.obs.groupby(['leiden_R','Level1', 'Level2', 'Level3']).size().reset_index(name='count')\n",
    "\n",
    "# Filter to keep only counts greater than 0\n",
    "tally_positive = tally[tally['count'] > 0]\n",
    "\n",
    "# Display the tally with counts greater than 0\n",
    "print(tally_positive)\n"
   ],
   "outputs": [],
   "execution_count": null
  },
  {
   "cell_type": "code",
   "id": "3615cf55-8794-48d0-a69d-758897d214d7",
   "metadata": {},
   "source": [
    "sc.pl.umap(rna_adata, color='leiden_R', size=5, legend_loc=\"on data\")\n"
   ],
   "outputs": [],
   "execution_count": null
  },
  {
   "cell_type": "code",
   "id": "ae19dbd5-7ac3-460e-8170-88900fbe397e",
   "metadata": {},
   "source": [
    "sc.pl.umap(\n",
    "    rna_adata,  # Your AnnData object\n",
    "    color=['Level1','Level2','Level3'],  # Assuming 'Level3' is the categorical variable you want to color by\n",
    "    show=True,  # Set to False if you don't want to display the plot immediately\n",
    ")"
   ],
   "outputs": [],
   "execution_count": null
  },
  {
   "cell_type": "code",
   "id": "85c18664-ba4d-459e-a3b9-798a6f38ae71",
   "metadata": {},
   "source": [
    "rna_adata.write('skin_atlas/Melanoma_sc_reproduced_final_oct31.h5ad')\n",
    "mel_only.write('skin_atlas/Melanoma_only_sc_reproduced_final_oct31.h5ad')\n",
    "rna_adata.obs.to_csv('skin_atlas/Melanoma_sc_reproduced_final_oct31_metadata.txt',sep=\"\\t\")"
   ],
   "outputs": [],
   "execution_count": null
  },
  {
   "cell_type": "code",
   "id": "33dfb856-a8ae-447e-ab54-e7aa43c67a9f",
   "metadata": {},
   "source": [
    "import anndata\n",
    "#rna_adata=anndata.read_h5ad(\"skin_atlas/Melanoma_sc_reproduced_final.h5ad\")\n",
    "rna_adata=anndata.read_h5ad(\"skin_atlas/Melanoma_sc_reproduced_final_oct31.h5ad\")\n"
   ],
   "outputs": [],
   "execution_count": null
  },
  {
   "cell_type": "code",
   "id": "1faf26f8-38b0-49de-a3b3-fd4f37bcba49",
   "metadata": {},
   "source": [
    "# Now set Level1_Final to 'Other' where Level2_Cancer is 'Pericytes'\n",
    "rna_adata.obs.loc[rna_adata.obs['Level2'] == 'Pericytes', 'Level1'] = 'Other'\n"
   ],
   "outputs": [],
   "execution_count": null
  },
  {
   "cell_type": "code",
   "id": "7cf908b4-7a61-4dae-be3c-fbe738b43628",
   "metadata": {
    "scrolled": true
   },
   "source": [
    "# Group by Level1, Level2, and Level3 and count occurrences\n",
    "tally = rna_adata.obs.groupby(['leiden_R', 'Level2', 'Level3']).size().reset_index(name='count')\n",
    "\n",
    "# Filter to keep only counts greater than 0\n",
    "tally_positive = tally[tally['count'] > 0]\n",
    "\n",
    "# Display the tally with counts greater than 0\n",
    "print(tally_positive)\n"
   ],
   "outputs": [],
   "execution_count": null
  },
  {
   "cell_type": "code",
   "id": "a0ce11cd-1a54-4744-86c5-7a953c2eff1f",
   "metadata": {},
   "source": [
    "# Group by Level1, Level2, and Level3 and count occurrences\n",
    "tally = adata.obs.groupby(['Level1', 'Level2', 'Level3']).size().reset_index(name='count')\n",
    "\n",
    "# Filter to keep only counts greater than 0\n",
    "tally_positive = tally[tally['count'] > 0]\n",
    "\n",
    "# Display the tally with counts greater than 0\n",
    "print(tally_positive)\n"
   ],
   "outputs": [],
   "execution_count": null
  },
  {
   "cell_type": "code",
   "id": "8d4b5be9-d3c8-4077-a6ac-2be36a1ed7de",
   "metadata": {
    "scrolled": true
   },
   "source": [
    "# Filter and print rows where Level1 is 'KC Differentiating' and Level2 is 'Mast Cell'\n",
    "print(adata.obs[(adata.obs['Level2'] == 'KC Differentiating') & (adata.obs['Level3'] == 'Mast cell')])\n",
    "# Mark the specific cell\n",
    "rna_adata.obs['highlight'] = 'Other'\n",
    "rna_adata.obs.loc['MPS42_CGATGTTGTAGTAGGCACTACTCA-1', 'highlight'] = 'Target Cell'\n",
    "\n",
    "# Plot the UMAP, highlighting the specified cell\n",
    "sc.pl.umap(rna_adata, color='highlight', palette=['lightgrey', 'red'], size=10, title='Highlighted Cell on UMAP')"
   ],
   "outputs": [],
   "execution_count": null
  },
  {
   "cell_type": "code",
   "id": "bf0b663a-7723-4d7b-8426-133a49079340",
   "metadata": {
    "scrolled": true
   },
   "source": [
    "# Filter and print rows where Level1 is 'KC Differentiating' and Level2 is 'Mast Cell'\n",
    "print(adata.obs[(adata.obs['Level2'] == 'KC Differentiating') & (adata.obs['Level3'] == 'Fibroblast')])\n",
    "# Mark the specific cell\n",
    "rna_adata.obs['highlight'] = 'Other'\n",
    "rna_adata.obs.loc['MPS42_TTGATCAGTCAGGAACACTACTCA-1', 'highlight'] = 'Target Cell'\n",
    "\n",
    "# Plot the UMAP, highlighting the specified cell\n",
    "sc.pl.umap(rna_adata, color='highlight', palette=['lightgrey', 'red'], size=10, title='Highlighted Cell on UMAP')"
   ],
   "outputs": [],
   "execution_count": null
  },
  {
   "cell_type": "code",
   "id": "7ec37f69-fa19-4009-8de0-5e99fc2f513f",
   "metadata": {
    "scrolled": true
   },
   "source": [
    "# Filter and print rows where Level1 is 'KC Differentiating' and Level2 is 'Mast Cell'\n",
    "print(adata.obs[(adata.obs['Level2'] == 'T cell') & (adata.obs['Level3'] == 'Treg')])\n",
    "# Mark the specific cell\n",
    "rna_adata.obs['highlight'] = 'Other'\n",
    "rna_adata.obs.loc['MPS13_AATTTGGAGGCAAGCCAGAGGCAA-1', 'highlight'] = 'Target Cell'\n",
    "\n",
    "# Plot the UMAP, highlighting the specified cell\n",
    "sc.pl.umap(rna_adata, color='highlight', palette=['lightgrey', 'red'], size=10, title='Highlighted Cell on UMAP')"
   ],
   "outputs": [],
   "execution_count": null
  },
  {
   "cell_type": "code",
   "id": "c3f2059d-b509-48d2-9763-952827a3a0b8",
   "metadata": {},
   "source": [
    "# Update Level3 for the specific cell\n",
    "#rna_adata.obs.loc['MPS42_CGATGTTGTAGTAGGCACTACTCA-1', 'Level3'] = 'KC Differentiating'\n",
    "#rna_adata.obs.loc['MPS42_TTGATCAGTCAGGAACACTACTCA-1', 'Level3'] = 'KC Differentiating'\n",
    "rna_adata.obs.loc[rna_adata.obs['leiden_R'] == \"13\", 'Level3'] = 'Treg'\n",
    "rna_adata.obs.loc[rna_adata.obs['leiden_R'] == \"4\", 'Level3'] = 'T Cell'\n",
    "rna_adata.obs.loc[rna_adata.obs['leiden_R'] == \"24\", 'Level3'] = 'NK'\n"
   ],
   "outputs": [],
   "execution_count": null
  },
  {
   "cell_type": "code",
   "id": "18362bdb-4a51-4826-a355-191f7dd529ec",
   "metadata": {},
   "source": [
    "sc.pl.umap(\n",
    "    rna_adata,  # Your AnnData object\n",
    "    color=['Level1','Level2','Level3'],  # Assuming 'Level3' is the categorical variable you want to color by\n",
    "    show=True,  # Set to False if you don't want to display the plot immediately\n",
    ")"
   ],
   "outputs": [],
   "execution_count": null
  },
  {
   "cell_type": "code",
   "id": "0796d793-c723-493e-bc03-fb3193e0c37b",
   "metadata": {},
   "source": [
    "rna_adata.write('skin_atlas/Melanoma_sc_reproduced_final_Nov1.h5ad')\n",
    "#mel_only.write('skin_atlas/Melanoma_only_sc_reproduced_final_Nov31.h5ad')\n",
    "rna_adata.obs.to_csv('skin_atlas/Melanoma_sc_reproduced_final_Nov1_metadata.txt',sep=\"\\t\")"
   ],
   "outputs": [],
   "execution_count": null
  },
  {
   "cell_type": "code",
   "id": "d83c27d1-8d0c-4277-a762-e7f0e1da7978",
   "metadata": {},
   "source": [
    "rna_adata.obs['Level3'].unique()"
   ],
   "outputs": [],
   "execution_count": null
  },
  {
   "cell_type": "markdown",
   "id": "27600dd1-3cd0-4e91-94d0-d154291b2675",
   "metadata": {},
   "source": [
    "## Without harmony"
   ]
  },
  {
   "cell_type": "code",
   "id": "8bcce22f-e53a-4879-a547-1f94835fbb2c",
   "metadata": {},
   "source": [
    "import anndata\n",
    "mel=anndata.read_h5ad('skin_atlas/Melanoma_sc_reproduced_final_Nov1.h5ad')"
   ],
   "outputs": [],
   "execution_count": null
  },
  {
   "cell_type": "code",
   "id": "70fc18e7-4596-4266-aab9-27dd8ef58ad6",
   "metadata": {},
   "source": [
    "mel"
   ],
   "outputs": [],
   "execution_count": null
  },
  {
   "cell_type": "code",
   "id": "33b6c339-77d0-4a9a-adb3-99c7b8536a32",
   "metadata": {},
   "source": [
    "mel.X\n"
   ],
   "outputs": [],
   "execution_count": null
  },
  {
   "cell_type": "code",
   "id": "90643460-1874-4272-8d6e-3bbbb13126df",
   "metadata": {},
   "source": [
    "rna_adata.X"
   ],
   "outputs": [],
   "execution_count": null
  },
  {
   "cell_type": "code",
   "id": "343748af-3a17-4728-a2ed-3bba1bb9dec9",
   "metadata": {},
   "source": [
    "rna_adata.raw.X=rna_adata.X\n",
    "rna_adata.raw.X"
   ],
   "outputs": [],
   "execution_count": null
  },
  {
   "cell_type": "code",
   "id": "5ab60ae8-45a9-4730-9623-0b1b89e2a11a",
   "metadata": {},
   "source": [
    "#mel.raw.X = rna_adata.X\n",
    "#mel.raw.X \n",
    "\n",
    "# Replacing `mel.raw` with unprocessed counts from `rna_adata.X`\n",
    "mel.raw = sc.AnnData(X=rna_adata.X, var=rna_adata.var, obs=rna_adata.obs)\n",
    "mel.raw.X"
   ],
   "outputs": [],
   "execution_count": null
  },
  {
   "cell_type": "code",
   "id": "a872a52b-e548-4290-9014-610fa260721a",
   "metadata": {},
   "source": [
    "# Dimensions of mel.raw.X\n",
    "print(\"Dimensions of mel.raw.X:\", mel.raw.shape if mel.raw is not None else \"mel.raw is not set\")\n",
    "\n",
    "# Dimensions of mel.X\n",
    "print(\"Dimensions of mel.X:\", mel.shape)\n",
    "\n",
    "# Dimensions of rna_adata.X\n",
    "print(\"Dimensions of rna_adata.X:\", rna_adata.shape)\n"
   ],
   "outputs": [],
   "execution_count": null
  },
  {
   "cell_type": "code",
   "id": "f95e3534-7735-4e63-9c0e-4387bdd30515",
   "metadata": {},
   "source": [
    "#mel.write('/QRISdata/Q2051/SCC_Paper/resources/data/frozen_objects_Nov2024_PP/Melanoma_sc_reproduced_final_Nov6.h5ad')\n",
    "mel=anndata.read('/QRISdata/Q2051/SCC_Paper/resources/data/frozen_objects_Nov2024_PP/Melanoma_sc_reproduced_final_Nov6.h5ad')"
   ],
   "outputs": [],
   "execution_count": null
  },
  {
   "cell_type": "code",
   "id": "daebeaa5-2ae1-433b-9a75-b58cd9ba8e40",
   "metadata": {},
   "source": [
    "sc.pl.umap(\n",
    "    mel,  # Your AnnData object\n",
    "    color=['Level3'],  # Assuming 'Level3' is the categorical variable you want to color by\n",
    "    show=True,  # Set to False if you don't want to display the plot immediately\n",
    ")"
   ],
   "outputs": [],
   "execution_count": null
  },
  {
   "cell_type": "code",
   "id": "9e1a384c-fb77-4750-8ea5-062ca8f74fba",
   "metadata": {},
   "source": [
    "mel"
   ],
   "outputs": [],
   "execution_count": null
  },
  {
   "cell_type": "code",
   "id": "51d4d4aa-b009-4ab5-b0a9-e3249bd811ca",
   "metadata": {},
   "source": [
    "rna_adata.obs['Level3']=mel.obs['Level3']\n",
    "rna_adata.uns['Level3_colors']=mel.uns['Level3_colors']"
   ],
   "outputs": [],
   "execution_count": null
  },
  {
   "cell_type": "code",
   "id": "969d5213-9457-4386-ada2-97a5da257977",
   "metadata": {},
   "source": [
    "sc.pl.umap(\n",
    "    rna_adata,  # Your AnnData object\n",
    "    color=['Level3'],  # Assuming 'Level3' is the categorical variable you want to color by\n",
    "    show=True,  # Set to False if you don't want to display the plot immediately\n",
    ")"
   ],
   "outputs": [],
   "execution_count": null
  },
  {
   "cell_type": "code",
   "id": "493d26cf-48cb-40c6-afe5-f6532b7d7efb",
   "metadata": {},
   "source": [
    "import pandas as pd\n",
    "\n",
    "# Define the desired order of 'Level3' categories\n",
    "level3_order = [\n",
    "    'KC Basal',\n",
    "    'KC Differentiating',\n",
    "    'KC Cornified',\n",
    "    'KC Granular',\n",
    "    'KC Hair',\n",
    "    'Mast Cell',\n",
    "    'LC',\n",
    "    'pDC',\n",
    "    'mRegDC',\n",
    "    'DC',\n",
    "    'Macrophage',\n",
    "    'NK',\n",
    "    'T cell',\n",
    "    'Treg',\n",
    "    'CD8+ T Cell',\n",
    "    'B Cell',\n",
    "    'Melanocytes',\n",
    "    'Melanoma',\n",
    "    'Endothelial cell',\n",
    "    'Fibroblast',\n",
    "    'Pericytes',\n",
    "    'Sweat gland related',\n",
    "    'Schwann Cell',\n",
    "]\n",
    "\n",
    "# Set 'Level3' as a categorical variable with the defined order\n",
    "rna_adata.obs['Level3'] = pd.Categorical(\n",
    "    rna_adata.obs['Level3'], \n",
    "    categories=level3_order, \n",
    "    ordered=True\n",
    ")\n",
    "\n",
    "# Now plot the dotplot with the custom order\n",
    "sc.pl.dotplot(\n",
    "    rna_adata,\n",
    "    { \"Category1\": ['KRT15','COL7A1','COL17A1','KRT2','KRT10','DMKN','SBSN','SPINK5',\n",
    "                    'LOR', 'KRT2', 'KLK11',\n",
    "                    'ACSL1','HDC','VWA5A','MS4A2',\n",
    "      'SLC18A2','FCGBP','CD207','WDFY4','IRF8','SPI1','CD68','MS4A6A','IGKC','CORO1A','AKNA','ACAP1','CD3E','CD8A','CD79A','CD22','FOXP3','DCT','MLANA','TYRP1','PMEL',\n",
    "      'LY6E','SERPINE2','CDH5','PECAM1','EGFL7','COL6A1','COL6A2','DCN','KRT79','KRT7','KRT19','SCGB2A2','S100B']},\n",
    "    standard_scale=\"var\",\n",
    "    color_map=\"Reds\",\n",
    "    groupby=\"Level3\", figsize=(18, 6) \n",
    ")\n"
   ],
   "outputs": [],
   "execution_count": null
  },
  {
   "cell_type": "code",
   "id": "3d7c6906-80c2-4d52-ae5e-6d88608ec500",
   "metadata": {},
   "source": [
    "rna_adata.write('skin_atlas/Melanoma_sc_reproduced_final_Nov4_without_harmony.h5ad')\n"
   ],
   "outputs": [],
   "execution_count": null
  },
  {
   "cell_type": "code",
   "id": "b7aa22ac-a4ed-47a5-9dc4-93aec00ede85",
   "metadata": {},
   "source": [
    "\n",
    "# Define your gene sets\n",
    "gene_sets = {\n",
    "    'melano': [\"GDF15\",\"PLAB\",\"L1CAM\",\"SEMA3B\",\"HEY1\",\"NES\",\"NTRK3\",\"KNSL5\",\"CITED1\",\"SPP1\",\"CSTB\",\"CDH3\",\"PSEN2\",\"PMEL\",\"MLANA\"],\n",
    "    'hub_genes':[\"FLG\", \"DSG1\", \"DSG3\", \"IVL\", \"EGFR\"] #https://www.ncbi.nlm.nih.gov/pmc/articles/PMC7596746/\n",
    "} #\"GDF15\"=\"PLAB\", MLANA=MART1\n",
    "\n",
    "# Calculate and add module scores\n",
    "for name, genes in gene_sets.items():\n",
    "    sc.tl.score_genes(rna_adata, gene_list=genes, score_name=name)\n",
    "\n",
    "# Inspect the results\n",
    "#print(mel.obs.head())\n",
    "\n",
    "# Plot the module scores\n",
    "sc.pl.umap(rna_adata, color=['melano','hub_genes'], size=10, vmax=0.2)\n"
   ],
   "outputs": [],
   "execution_count": null
  },
  {
   "cell_type": "code",
   "id": "7b6063af-5220-4df4-8695-8f717fff2cda",
   "metadata": {
    "scrolled": true
   },
   "source": [
    "import scanpy as sc\n",
    "import pandas as pd\n",
    "adata=anndata.read_h5ad(\"skin_atlas/Melanoma_sc_reproduced_final_Nov1.h5ad\")\n",
    "# Assuming adata is your AnnData object and 'Level3' is in adata.obs\n",
    "# Step 1: Find top 100 markers for each cell type in 'Level3'\n",
    "sc.tl.rank_genes_groups(adata, groupby='Level3', method='t-test', n_genes=100)\n",
    "\n",
    "# Step 2: Collect the results\n",
    "result_dict = {}\n",
    "for group in adata.uns['rank_genes_groups']['names'].dtype.names:\n",
    "    result_dict[group] = adata.uns['rank_genes_groups']['names'][group][:100]\n",
    "\n",
    "# Create a DataFrame from the result\n",
    "markers_df = pd.DataFrame(dict([(k, pd.Series(v)) for k, v in result_dict.items()]))\n",
    "\n",
    "# Step 3: Write the DataFrame to a CSV file\n",
    "markers_df.to_csv('skin_atlas/Mel_top_100_markers_by_cell_type.txt', index=False, sep=\"\\t\")\n"
   ],
   "outputs": [],
   "execution_count": null
  },
  {
   "cell_type": "code",
   "id": "30cfbee4-0bce-4f21-ad99-d686800b8b15",
   "metadata": {},
   "source": [],
   "outputs": [],
   "execution_count": null
  },
  {
   "cell_type": "code",
   "id": "3c85c9e6-10f2-4dce-b4d1-071580654a9f",
   "metadata": {},
   "source": [],
   "outputs": [],
   "execution_count": null
  },
  {
   "cell_type": "code",
   "id": "dd7bf7c5-55e5-4a17-ab52-9c04b4e09762",
   "metadata": {},
   "source": [],
   "outputs": [],
   "execution_count": null
  },
  {
   "cell_type": "code",
   "id": "1c58235b-7635-42ce-9969-568821fd9644",
   "metadata": {},
   "source": [],
   "outputs": [],
   "execution_count": null
  },
  {
   "cell_type": "code",
   "id": "161bf6d4-92ec-465f-ab10-8cfc0bb77c8b",
   "metadata": {},
   "source": [
    "# Save the AnnData object to a file\n",
    "rna_adata.write('skin_atlas/Melanoma_sc_reproduced_final_oct16.h5ad')\n"
   ],
   "outputs": [],
   "execution_count": null
  },
  {
   "cell_type": "code",
   "id": "5b3390b9-ae8f-48a5-89b1-b026afaa791d",
   "metadata": {},
   "source": [
    "rna_adata.obs.to_csv('skin_atlas/Melanoma_sc_reproduced_final_oct16_metadata.txt',sep=\"\\t\")"
   ],
   "outputs": [],
   "execution_count": null
  },
  {
   "cell_type": "code",
   "id": "1c2199df-cbd6-4a5d-be2b-35b0674e665a",
   "metadata": {},
   "source": [
    "import anndata\n",
    "#rna_adata=anndata.read_h5ad(\"skin_atlas/Melanoma_sc_reproduced_final.h5ad\")\n",
    "rna_adata=anndata.read_h5ad(\"skin_atlas/Melanoma_sc_reproduced_final_oct16.h5ad\")\n"
   ],
   "outputs": [],
   "execution_count": null
  },
  {
   "cell_type": "code",
   "id": "95f5e64c-3353-4a6b-a914-fd746a1ca385",
   "metadata": {},
   "source": [
    "rna_adata"
   ],
   "outputs": [],
   "execution_count": null
  },
  {
   "cell_type": "code",
   "id": "189f50e2-638c-4664-8b31-4db9c83da0de",
   "metadata": {},
   "source": [
    "sc.pl.umap(rna_adata, color='leiden', size=30)\n"
   ],
   "outputs": [],
   "execution_count": null
  },
  {
   "cell_type": "code",
   "id": "fb97e3a0-37f0-402d-a8a0-dfc5ff4352e4",
   "metadata": {},
   "source": [
    "sc.tl.leiden(rna_adata, resolution=0.2, restrict_to=(\"leiden\", [\"6\"]))\n",
    "#sc.tl.leiden(idata, resolution=0.2, restrict_to=(\"leiden_R\", [\"4\"]))\n",
    "#sc.tl.leiden(idata, resolution=0.2, restrict_to=(\"leiden_R\", [\"6\"]))\n",
    "sc.pl.umap(rna_adata, color=\"leiden_R\", legend_loc=\"on data\", legend_fontoutline=2)"
   ],
   "outputs": [],
   "execution_count": null
  },
  {
   "cell_type": "code",
   "id": "631fa200-ed3a-40bf-bc9a-a8e2ca169d38",
   "metadata": {},
   "source": [
    "# Immune subclusters\n",
    "sc.pl.dotplot(\n",
    "    rna_adata,\n",
    "    {\n",
    "        \"General\": [\"ITGAM\"],\n",
    "        \"Melanocyte\": [\"MITF\",\"PMEL\",\"TYR\",\"DCT\",\"MLANA\",\"PMEL\",\"S100A1\"], \n",
    "        \"LC\": [\"CD207\", \"EPCAM\", \"ITGAX\"],\n",
    "        \"Monocyte\": [\"CCR2\", \"CD14\", \"S100A8\", \"S100A9\", \"CX3CR1\"],\n",
    "        \"DC1\": [\"XCR1\", \"CLEC9A\"],\n",
    "        \"DC2\": [\"CLEC10A\", \"THBD\"],\n",
    "        \"DC3\": [\"CSF3R\", \"CSF2RA\"],\n",
    "        \"mRegDC\": [\"LAMP3\", \"CCR7\"],\n",
    "        \"pDC\": [\"IL3RA\", \"KIT\", \"IRF8\"],\n",
    "        \"Mac\": [\n",
    "            \"C1QA\",\n",
    "            \"TREM2\",\n",
    "            \"SIGLEC1\",\n",
    "            \"CD68\",\n",
    "            \"LYVE1\",\n",
    "            \"ARG1\",\n",
    "            \"CD163\",\n",
    "        ],\n",
    "        \"prolif\": [\"UBE2C\",\"NUSAP1\",\"MKI67\"],\n",
    "        \"IFN\": [\"ISG15\", \"IFI27\", \"STAT1\"],\n",
    "        \"contamination\": [\"CD3D\"],\n",
    "        \"sweat gland\":[\"KRT7\", \"KRT19\",\"AQP5\",\"SCGB2A2\",\"DCD\",\"SCNN1A\"],\n",
    "                \"T cell\": [\n",
    "            \"CD3D\",\n",
    "            \"CD3E\",\n",
    "            \"CD4\",\n",
    "            \"CD8A\",\n",
    "            \"CCR7\",\n",
    "            \"SELL\",\n",
    "            \"CD27\",\n",
    "        ],\n",
    "        \"Trm\": [\"CD69\", \"CRTAM\", \"S1PR1\"],\n",
    "        \"Treg\": [\"FOXP3\", \"PDCD1\", \"CTLA4\", \"IL2RA\"],\n",
    "        \"NK\": [ \"NCR1\", \"GZMB\",\"GNLY\", \"XCL2\"],\n",
    "        \"ILC\": [\"IL7R\"],\n",
    "        \"prolif\": [\"MKI67\"],\n",
    "        \"IFN\": [\"ISG15\", \"IFI27\", \"STAT1\"],\n",
    "        \"Contamination\": [\"ITGAM\", \"S100A8\"],\n",
    "        \"Endothelial\": [\"CLDN5\", \"PLVAP\", \"SPARCL1\"],\n",
    "        \"Fibroblast\": [\"PDGFRA\", \"PDGFRB\", \"DCN\"],\n",
    "        \"B cell\":[\"CD79A\",\"CD22\"],\n",
    "                \"Immune cell\": [\n",
    "            \"CD3D\",\n",
    "            \"CD3E\",\n",
    "            \"CD4\",\n",
    "            \"CD8A\",\n",
    "            \"CCR7\",\n",
    "            \"SELL\",\n",
    "            \"CD27\",\n",
    "            \"ITGAM\",\n",
    "            \"S100A8\",\n",
    "        ],\n",
    "        \"prolif\": [\"MKI67\"],\n",
    "        \"IFN\": [\"ISG15\", \"IFI27\", \"STAT1\"],\n",
    "        \"KC Basal\": [\"KRT15\", \"C1orf56\"],\n",
    "        \"KC Differentiating\": [\"KRT10\"],\n",
    "        \"KC Cornified\": [\"LOR\", \"IVL\"],\n",
    "        \"KC Granular\": [\"KRT2\"],\n",
    "        \"KC stem/hair/stress\": [\"KRT16\", \"KRT17\", \"KRT6A\"],\n",
    "        \"KC nail/nail\": [ \"KRT6B\", \"KRT79\"],\n",
    "       \"Neuronal cells\": [\"S100A1\",\"S100B\"]\n",
    "    },\n",
    "    standard_scale=\"var\",\n",
    "    color_map=\"Blues\",\n",
    "    groupby=\"leiden_R\",\n",
    ") #\"leiden_res0_25\""
   ],
   "outputs": [],
   "execution_count": null
  },
  {
   "cell_type": "code",
   "id": "f8a382c6-2c67-4603-bbe0-4429435608f1",
   "metadata": {},
   "source": [
    "rna_adata.obs['Level3'].unique().tolist()"
   ],
   "outputs": [],
   "execution_count": null
  },
  {
   "cell_type": "code",
   "id": "a70c68aa-0584-4ac3-88b3-8e335fffb83d",
   "metadata": {},
   "source": [
    "# Dictionary mapping old Idents to new Idents\n",
    "ident_mapping = {\n",
    "    'KC_Cornified': 'KC Cornified',\n",
    "    'Imm_DC':'DC',\n",
    "    'KC_Differentiating': 'KC Differentiating',\n",
    "    'KC_Basal':'KC Basal',\n",
    "    'Imm_Fibroblast': 'Fibroblast',\n",
    "    'KC_Granular':'KC Granular',\n",
    "    'Imm_Tcell':'T cell',\n",
    "    'KC_stem/hair/stress': 'KC Hair',\n",
    "    'Imm_CD8+ T cell': 'CD8+ T cell',\n",
    "    'Imm_Macrophage':'Macrophage',\n",
    "    'Imm_Treg':'Treg',\n",
    "    'Imm_Endothelial cell':'Endothelial cell' ,\n",
    "    'Imm_NK': 'NK',\n",
    "    'Imm_Pericytes':'Pericytes',\n",
    "    'Imm_Bcells': 'B cell',\n",
    "    'Imm_Mast Cells': 'Mast cell',\n",
    "    'Imm_mRegDC':'mRegDC',\n",
    "    'Imm_LC':'LC',\n",
    "    'Imm_pDC':'pDC',\n",
    "    'Sweat gland related':'Sweat gland related',\n",
    "    'nan':'nan',\n",
    "    'Melanocytes':'Melanocytes',\n",
    "    'Melanoma':'Melanoma',\n",
    "}\n",
    "\n",
    "# Rename Idents and add to a new column\n",
    "rna_adata.obs['Level3'] = rna_adata.obs['Level3'].map(ident_mapping)\n",
    "\n",
    "# If you want to set the new Idents as active identity (depends on your workflow)\n",
    "#rna_adata.obs['Level3'] = rna_adata.obs['Level3']\n"
   ],
   "outputs": [],
   "execution_count": null
  },
  {
   "cell_type": "code",
   "id": "b274b4fd-c9e4-433b-8ffd-bf457e7e8040",
   "metadata": {},
   "source": [
    "import pandas as pd\n",
    "\n",
    "# Define the desired order of 'Level3' categories\n",
    "level3_order = [\n",
    "    'KC Basal',\n",
    "    'KC Differentiating',\n",
    "    'KC Cornified',\n",
    "    'KC Granular',\n",
    "    'KC Hair',\n",
    "    'Mast cell',\n",
    "    'LC',\n",
    "    'pDC',\n",
    "    'mRegDC',\n",
    "    'DC',\n",
    "    'Macrophage',\n",
    "    'NK',\n",
    "    'T cell',\n",
    "    'Treg',\n",
    "    'CD8+ T cell',\n",
    "    'B cell',\n",
    "    'Melanocytes',\n",
    "    'Melanoma',\n",
    "    'Endothelial cell',\n",
    "    'Fibroblast',\n",
    "    'Pericytes',\n",
    "    'Sweat gland related',\n",
    "    'nan',\n",
    "]\n",
    "\n",
    "# Set 'Level3' as a categorical variable with the defined order\n",
    "rna_adata.obs['Level3'] = pd.Categorical(\n",
    "    rna_adata.obs['Level3'], \n",
    "    categories=level3_order, \n",
    "    ordered=True\n",
    ")\n",
    "\n",
    "# Now plot the dotplot with the custom order\n",
    "sc.pl.dotplot(\n",
    "    rna_adata,\n",
    "    { \"Category1\": ['KRT15','COL7A1','COL17A1','KRT2','KRT10','DMKN','SBSN','SPINK5',\n",
    "                    'LOR', 'KRT2', 'KLK11',\n",
    "                    'ACSL1','HDC','VWA5A','MS4A2',\n",
    "      'SLC18A2','FCGBP','CD207','WDFY4','IRF8','SPI1','CD68','MS4A6A','IGKC','CORO1A','AKNA','ACAP1','CD3E','CD8A','CD79A','CD22','FOXP3','DCT','MLANA','TYRP1','PMEL',\n",
    "      'LY6E','SERPINE2','CDH5','PECAM1','EGFL7','COL6A1','COL6A2','DCN','KRT79','KRT7','KRT19','SCGB2A2']},\n",
    "    standard_scale=\"var\",\n",
    "    color_map=\"Reds\",\n",
    "    groupby=\"Level3\", figsize=(18, 6) \n",
    ")\n"
   ],
   "outputs": [],
   "execution_count": null
  },
  {
   "cell_type": "code",
   "id": "0f22461d-0adb-40d4-be13-94e5d1020f80",
   "metadata": {
    "scrolled": true
   },
   "source": [],
   "outputs": [],
   "execution_count": null
  },
  {
   "cell_type": "code",
   "id": "77e89829-4ecf-4418-9805-551056a130b1",
   "metadata": {},
   "source": [
    "from matplotlib import rcParams\n",
    "\n",
    "sc.tl.rank_genes_groups(rna_adata, 'Level3', method='wilcoxon', n_genes=200)\n",
    "sc.tl.filter_rank_genes_groups(rna_adata)\n",
    "rcParams['figure.figsize'] = 4,4\n",
    "rcParams['axes.grid'] = True\n",
    "sc.pl.rank_genes_groups(rna_adata, key='rank_genes_groups_filtered', ncols=3)\n",
    "\n"
   ],
   "outputs": [],
   "execution_count": null
  },
  {
   "cell_type": "code",
   "id": "81eb9630-c1f3-4709-9de8-37df21ac4064",
   "metadata": {},
   "source": [
    "sc.pl.rank_genes_groups_dotplot(rna_adata, n_genes=4)\n"
   ],
   "outputs": [],
   "execution_count": null
  },
  {
   "cell_type": "code",
   "id": "79f2c95d-8d6d-4ea6-bf6c-ee784cbbc6a6",
   "metadata": {},
   "source": [
    "axs = sc.pl.rank_genes_groups_dotplot(rna_adata, n_genes=15, groups=['KC_Cornified', 'KC_Granular'])\n"
   ],
   "outputs": [],
   "execution_count": null
  },
  {
   "cell_type": "code",
   "id": "37c9c089-944d-4246-a579-9d03cdb23aab",
   "metadata": {},
   "source": [
    "sc.tl.rank_genes_groups(rna_adata, 'Level3', method='wilcoxon', groups =['KC_Cornified'], reference='KC_Granular')\n",
    "sc.pl.rank_genes_groups(rna_adata, groups =['KC_Cornified'], n_genes=20)"
   ],
   "outputs": [],
   "execution_count": null
  },
  {
   "cell_type": "code",
   "id": "858a9ef8-eda2-4b98-9c65-0ef9a2d0d283",
   "metadata": {
    "scrolled": true
   },
   "source": [
    "rna_adata.uns['rank_genes_groups']['names']['KC_Cornified'].tolist()"
   ],
   "outputs": [],
   "execution_count": null
  },
  {
   "cell_type": "code",
   "id": "3aeed200-1d01-4815-a981-b3330e22a1de",
   "metadata": {
    "scrolled": true
   },
   "source": [
    "sc.tl.rank_genes_groups(rna_adata, 'Level3', method='wilcoxon', reference ='KC_Cornified', groups=['KC_Granular'])\n",
    "sc.pl.rank_genes_groups(rna_adata, groups =['KC_Granular'], n_genes=20)\n",
    "rna_adata.uns['rank_genes_groups']['names']['KC_Granular'].tolist()"
   ],
   "outputs": [],
   "execution_count": null
  },
  {
   "cell_type": "code",
   "id": "506d00fa-7b99-46c3-9408-9c9c9aefccd9",
   "metadata": {},
   "source": [
    "rna_adata"
   ],
   "outputs": [],
   "execution_count": null
  },
  {
   "cell_type": "code",
   "id": "dc3e4a55-836c-4fd0-9f4e-c259594cb55e",
   "metadata": {},
   "source": [
    "mel_only.obs['copykat_pred']"
   ],
   "outputs": [],
   "execution_count": null
  },
  {
   "cell_type": "code",
   "id": "da95a6b8-4dd3-4b2b-8c5b-3c25e1595ed2",
   "metadata": {},
   "source": [
    "import scanpy as sc\n",
    "import pandas as pd\n",
    "import numpy as np\n",
    "import matplotlib.pyplot as plt\n",
    "\n",
    "#rna_adata.obs['copykat_pred']=rna_adata.obs['copykat_pred']\n",
    "#rna_adata.obs['infercnv_pred']=rna_adata_OLD.obs['infercnv_pred']\n",
    "\n",
    "\n",
    "mel_only = rna_adata[rna_adata.obs['Level2'] == 'Melanocytes'].copy() #original_Level2\n",
    "# Lower dimension embedding - UMAP and clustering\n",
    "sc.pp.neighbors(mel_only, n_neighbors=30, n_pcs=75)\n",
    "sc.tl.umap(mel_only)\n",
    "sc.tl.leiden(mel_only, resolution=1)\n",
    "#sc.pl.umap(mel_only, color=['leiden'] , legend_loc = 'best')\n",
    "\n",
    "\n",
    "# Ensure `mel_only` is your AnnData object\n",
    "\n",
    "def handle_categorical(column):\n",
    "    if column.dtype.name == 'category':\n",
    "        # Check if 'nan' is already a category\n",
    "        if 'nan' not in column.cat.categories:\n",
    "            column = column.cat.add_categories(['nan'])\n",
    "        # Fill missing values with 'nan'\n",
    "        column = column.fillna('nan')\n",
    "    else:\n",
    "        # Convert to category and fill missing values\n",
    "        column = pd.Categorical(column.fillna('nan'))\n",
    "    return column\n",
    "\n",
    "# Handle categorical columns\n",
    "mel_only.obs['copykat_pred'] = handle_categorical(mel_only.obs['copykat_pred'])\n",
    "mel_only.obs['infercnv_pred'] = handle_categorical(mel_only.obs['infercnv_pred'])\n",
    "\n",
    "# Create a combined clustering column focusing on \"Aneuploid\" clusters and NA values\n",
    "def categorize_clusters(row):\n",
    "    infercnv = row['infercnv_pred']\n",
    "    copykat = row['copykat_pred']\n",
    "    \n",
    "    if infercnv == 'Aneuploid' and copykat == 'aneuploid':\n",
    "        return 'overlap'\n",
    "    elif infercnv == 'Aneuploid' and copykat != 'aneuploid':\n",
    "        return 'infercnv_only'\n",
    "    elif infercnv != 'Aneuploid' and copykat == 'aneuploid':\n",
    "        return 'copykat_only'\n",
    "    else:\n",
    "        return 'none'\n",
    "\n",
    "mel_only.obs['combined_clusters'] = mel_only.obs.apply(categorize_clusters, axis=1)\n",
    "\n",
    "# Define the color map\n",
    "colors = {\n",
    "    'infercnv_only': 'blue',\n",
    "    'copykat_only': 'orange',\n",
    "    'overlap': 'red',\n",
    "    'none': 'lightgrey'\n",
    "}\n",
    "\n",
    "# Map the colors to the combined clusters\n",
    "#mel_only.obs['combined_clusters_color'] = mel_only.obs['combined_clusters'].map(colors)\n",
    "\n",
    "# Plot the UMAP with reduced spot size and custom colors\n",
    "#sc.pl.umap(mel_only, color='combined_clusters', title='UMAP of Combined Clusters', size=30, palette=colors)\n",
    "\n",
    "\n",
    "# Sort the data to ensure 'none' (grey) is at the back, blue/orange in the middle, and red at the front\n",
    "mel_only.obs['sort_order'] = mel_only.obs['combined_clusters'].map({\n",
    "    'none': 0,             # Grey: plotted first (back)\n",
    "    'infercnv_only': 2,     # Blue: middle\n",
    "    'copykat_only': 3,      # Orange: middle\n",
    "    'overlap': 4            # Red: plotted last (front)\n",
    "})\n",
    "\n",
    "# Sort the data based on the sort order\n",
    "mel_only = mel_only[mel_only.obs.sort_values('sort_order').index]\n",
    "\n",
    "# Plot UMAP with custom colors and point size, ensuring grey is in the background\n",
    "sc.pl.umap(mel_only, color='combined_clusters', title='UMAP of Combined Clusters', size=30, palette=colors)\n"
   ],
   "outputs": [],
   "execution_count": null
  },
  {
   "cell_type": "code",
   "id": "d2c65209-50d0-4f67-ac13-ace61c7a16cb",
   "metadata": {},
   "source": [
    "sc.pl.umap(mel_only, color=['leiden','orig.ident','combined_clusters'] , legend_loc = 'best')"
   ],
   "outputs": [],
   "execution_count": null
  },
  {
   "cell_type": "code",
   "id": "d415881b-3019-4ef5-9319-866b362e5b52",
   "metadata": {},
   "source": [
    "sc.pl.umap(mel_only, color=['leiden'] , legend_loc = 'on data')"
   ],
   "outputs": [],
   "execution_count": null
  },
  {
   "cell_type": "code",
   "id": "cd1ad4fb-f89d-4e81-9244-4d747c0f3697",
   "metadata": {},
   "source": [
    "print(rna_adata)\n",
    "sc.pl.umap(rna_adata, color=['Level1'] )"
   ],
   "outputs": [],
   "execution_count": null
  },
  {
   "cell_type": "code",
   "id": "ebc54680-8105-4e3f-b052-d3dcfe7738ae",
   "metadata": {},
   "source": [
    "# Immune subclusters\n",
    "sc.pl.dotplot(\n",
    "    mel_only,\n",
    "    {\n",
    "        \"General\": [\"ITGAM\"],\n",
    "        \"Melanocyte\": [\"MITF\",\"PMEL\",\"TYR\",\"DCT\",\"MLANA\",\"PMEL\",\"S100A1\"], \n",
    "        \"LC\": [\"CD207\", \"EPCAM\", \"ITGAX\"],\n",
    "        \"Monocyte\": [\"CCR2\", \"CD14\", \"S100A8\", \"S100A9\", \"CX3CR1\"],\n",
    "        \"DC1\": [\"XCR1\", \"CLEC9A\"],\n",
    "        \"DC2\": [\"CLEC10A\", \"THBD\"],\n",
    "        \"DC3\": [\"CSF3R\", \"CSF2RA\"],\n",
    "        \"mRegDC\": [\"LAMP3\", \"CCR7\"],\n",
    "        \"pDC\": [\"IL3RA\", \"KIT\", \"IRF8\"],\n",
    "        \"Mac\": [\n",
    "            \"C1QA\",\n",
    "            \"TREM2\",\n",
    "            \"SIGLEC1\",\n",
    "            \"CD68\",\n",
    "            \"LYVE1\",\n",
    "            \"ARG1\",\n",
    "            \"CD163\",\n",
    "        ],\n",
    "        \"prolif\": [\"UBE2C\",\"NUSAP1\",\"MKI67\"],\n",
    "        \"IFN\": [\"ISG15\", \"IFI27\", \"STAT1\"],\n",
    "        \"contamination\": [\"CD3D\"],\n",
    "        \"sweat gland\":[\"KRT7\", \"KRT19\",\"AQP5\",\"SCGB2A2\",\"DCD\",\"SCNN1A\"],\n",
    "                \"T cell\": [\n",
    "            \"CD3D\",\n",
    "            \"CD3E\",\n",
    "            \"CD4\",\n",
    "            \"CD8A\",\n",
    "            \"CCR7\",\n",
    "            \"SELL\",\n",
    "            \"CD27\",\n",
    "        ],\n",
    "        \"Trm\": [\"CD69\", \"CRTAM\", \"S1PR1\"],\n",
    "        \"Treg\": [\"FOXP3\", \"PDCD1\", \"CTLA4\", \"IL2RA\"],\n",
    "        \"NK\": [ \"NCR1\", \"GZMB\",\"GNLY\", \"XCL2\"],\n",
    "        \"ILC\": [\"IL7R\"],\n",
    "        \"prolif\": [\"MKI67\"],\n",
    "        \"IFN\": [\"ISG15\", \"IFI27\", \"STAT1\"],\n",
    "        \"Contamination\": [\"ITGAM\", \"S100A8\"],\n",
    "        \"Endothelial\": [\"CLDN5\", \"PLVAP\", \"SPARCL1\"],\n",
    "        \"Fibroblast\": [\"PDGFRA\", \"PDGFRB\", \"DCN\"],\n",
    "        \"B cell\":[\"CD79A\",\"CD22\"],\n",
    "                \"Immune cell\": [\n",
    "            \"CD3D\",\n",
    "            \"CD3E\",\n",
    "            \"CD4\",\n",
    "            \"CD8A\",\n",
    "            \"CCR7\",\n",
    "            \"SELL\",\n",
    "            \"CD27\",\n",
    "            \"ITGAM\",\n",
    "            \"S100A8\",\n",
    "        ],\n",
    "        \"prolif\": [\"MKI67\"],\n",
    "        \"IFN\": [\"ISG15\", \"IFI27\", \"STAT1\"],\n",
    "        \"KC Basal\": [\"KRT15\", \"C1orf56\"],\n",
    "        \"KC Differentiating\": [\"KRT10\"],\n",
    "        \"KC Cornified\": [\"LOR\", \"IVL\"],\n",
    "        \"KC Granular\": [\"KRT2\"],\n",
    "        \"KC stem/hair/stress\": [\"KRT16\", \"KRT17\", \"KRT6A\"],\n",
    "        \"KC nail/nail\": [\n",
    "            \"KRT6B\",\n",
    "            \"KRT79\",\n",
    "        ],\n",
    "\n",
    "    },\n",
    "    standard_scale=\"var\",\n",
    "    color_map=\"Blues\",\n",
    "    groupby=\"leiden\",\n",
    ") #\"leiden_res0_25\""
   ],
   "outputs": [],
   "execution_count": null
  },
  {
   "cell_type": "code",
   "id": "08785200-f66a-4470-8410-0e0cc16e2371",
   "metadata": {},
   "source": [
    "import scanpy as sc\n",
    "#mel_only = rna_adata[rna_adata.obs['original_Level2'] == 'Melanocytes'].copy()\n",
    "\n",
    "# Load your data (replace with your actual data loading)\n",
    "\n",
    "# Define your gene sets\n",
    "gene_sets = {\n",
    "    'melano': [\"GDF15\",\"PLAB\",\"L1CAM\",\"SEMA3B\",\"HEY1\",\"NES\",\"NTRK3\",\"KNSL5\",\"CITED1\",\"SPP1\",\"CSTB\",\"CDH3\",\"PSEN2\",\"PMEL\",\"MLANA\"],\n",
    "    'hub_genes':[\"FLG\", \"DSG1\", \"DSG3\", \"IVL\", \"EGFR\"] #https://www.ncbi.nlm.nih.gov/pmc/articles/PMC7596746/\n",
    "} #\"GDF15\"=\"PLAB\", MLANA=MART1\n",
    "\n",
    "# Calculate and add module scores\n",
    "for name, genes in gene_sets.items():\n",
    "    sc.tl.score_genes(mel_only, gene_list=genes, score_name=name)\n",
    "\n",
    "# Inspect the results\n",
    "#print(mel.obs.head())\n",
    "\n",
    "# Plot the module scores\n",
    "sc.pl.umap(mel_only, color=['melano','hub_genes'], size=30, vmax=0.2)\n"
   ],
   "outputs": [],
   "execution_count": null
  },
  {
   "cell_type": "code",
   "id": "1a76310f-e91b-4cb5-bba1-1b1be8b1e95e",
   "metadata": {},
   "source": [
    "# Filter the DataFrame to include only rows where 'hub_genes' > 0\n",
    "filtered_df = mel_only.obs[mel_only.obs['hub_genes'] > 0.1]\n",
    "\n",
    "# Group by 'melanocyte_clusters' and calculate the mean of 'hub_genes'\n",
    "print(filtered_df.groupby('leiden')['hub_genes'].mean())\n",
    "\n",
    "\n",
    "print(filtered_df.groupby('leiden')['hub_genes'].median())"
   ],
   "outputs": [],
   "execution_count": null
  },
  {
   "cell_type": "code",
   "id": "3a27faf5-f65a-4540-839a-c38757006bd6",
   "metadata": {},
   "source": [
    "sc.pl.umap(mel_only, color=['leiden'] , legend_loc = 'on data')"
   ],
   "outputs": [],
   "execution_count": null
  },
  {
   "cell_type": "code",
   "id": "935bed9d-3711-4caa-bb5c-06bb718df3aa",
   "metadata": {},
   "source": [
    "# Extract indices where leiden_R is either '6' or '1'\n",
    "indices_61 = rna_adata.obs.index[rna_adata.obs['leiden_R'].isin(['6,1'])].tolist()\n",
    "\n",
    "# Extract indices where leiden is '0'\n",
    "indices_0 = mel_only.obs.index[mel_only.obs['leiden'].isin(['10'])].tolist()\n",
    "\n",
    "# Show the results\n",
    "print(\"Indices for leiden_R == '6,1':\", indices_61)\n",
    "print(\"Indices for leiden == '10':\", indices_0)\n"
   ],
   "outputs": [],
   "execution_count": null
  },
  {
   "cell_type": "code",
   "id": "bd86daf9-67aa-450b-8aa8-62a9bb09e8f6",
   "metadata": {},
   "source": [],
   "outputs": [],
   "execution_count": null
  },
  {
   "cell_type": "code",
   "id": "4a75db16-8f85-4aa4-81a2-2eb50aebef3a",
   "metadata": {
    "scrolled": true
   },
   "source": [
    "#print(rna_adata)\n",
    "sc.pl.dotplot(rna_adata, {\"QC\":['n_genes_by_counts','total_counts','pct_counts_mt']},groupby='leiden_R',swap_axes=True,  # Swap x and y axes\n",
    "    show=True)\n"
   ],
   "outputs": [],
   "execution_count": null
  },
  {
   "cell_type": "code",
   "id": "e10d349f-8fd8-4f54-b9d4-eda80397412f",
   "metadata": {
    "scrolled": true
   },
   "source": [
    "from matplotlib import rcParams\n",
    "\n",
    "# adata_KC_Basal = idata[idata.obs['cell_type_PP'] == \"KC Basal\"].copy()\n",
    "sc.tl.rank_genes_groups(rna_adata, 'leiden_R', method='wilcoxon', n_genes=200)\n",
    "sc.tl.filter_rank_genes_groups(rna_adata)\n",
    "rcParams['figure.figsize'] = 4,4\n",
    "rcParams['axes.grid'] = True\n",
    "axs = sc.pl.rank_genes_groups_dotplot(rna_adata, n_genes=20, groups=['6,0', '6,1'])\n"
   ],
   "outputs": [],
   "execution_count": null
  },
  {
   "cell_type": "code",
   "id": "67ad50e6-bdd0-42c8-aeb4-922602bb492c",
   "metadata": {},
   "source": [
    "import scanpy as sc\n",
    "import numpy as np\n",
    "\n",
    "# Assuming rna_adata is your AnnData object\n",
    "# Calculate total counts per cell\n",
    "rna_adata.obs['total_counts'] = rna_adata.X.sum(axis=1).A1  # A1 is used to convert from sparse to dense array if needed\n",
    "\n",
    "# Calculate number of genes detected per cell\n",
    "rna_adata.obs['n_genes'] = (rna_adata.X > 0).sum(axis=1).A1\n",
    "\n",
    "# Calculate percentage of mitochondrial genes (assuming mitochondrial genes start with 'MT-')\n",
    "mt_genes = rna_adata.var.index.str.startswith('MT-')\n",
    "rna_adata.obs['percent_mt'] = rna_adata.X[:, mt_genes].sum(axis=1).A1 / rna_adata.obs['total_counts'] * 100\n",
    "sc.pl.umap(rna_adata, color=['n_genes'] , legend_loc = 'on data')"
   ],
   "outputs": [],
   "execution_count": null
  },
  {
   "cell_type": "code",
   "id": "bdc3b8ba-cda6-4f3f-8bed-2b40fdff62cf",
   "metadata": {},
   "source": [
    "filtered_df['leiden'].value_counts()"
   ],
   "outputs": [],
   "execution_count": null
  },
  {
   "cell_type": "code",
   "id": "ebd0aa99-2583-4c32-b07b-0a3a81af1bd0",
   "metadata": {},
   "source": [
    "# Filter the DataFrame to include only rows where 'hub_genes' > 0\n",
    "filtered_df2 = mel_only.obs[mel_only.obs['combined_clusters'] == \"overlap\"]\n",
    "\n",
    "# Group by 'melanocyte_clusters' and calculate the mean of 'hub_genes'\n",
    "#print(filtered_df2.groupby('leiden')['combined_clusters'].mean())\n",
    "#print(filtered_df2.groupby('leiden')['combined_clusters'].median())\n",
    "\n",
    "filtered_df2['leiden'].value_counts()"
   ],
   "outputs": [],
   "execution_count": null
  },
  {
   "cell_type": "code",
   "id": "1f852109-3b56-4d2b-b5cd-c92c1d7984a3",
   "metadata": {},
   "source": [
    "rna_adata.obs['Level3'].value_counts()"
   ],
   "outputs": [],
   "execution_count": null
  },
  {
   "cell_type": "code",
   "id": "40fcc4ff-6ac1-401e-b167-e0117712a3e2",
   "metadata": {},
   "source": [],
   "outputs": [],
   "execution_count": null
  },
  {
   "cell_type": "code",
   "id": "4c496d09-9d4b-43e3-bec9-55f270d326b8",
   "metadata": {},
   "source": [],
   "outputs": [],
   "execution_count": null
  },
  {
   "cell_type": "code",
   "id": "d5f36712-cfc8-44c3-ad78-65a94f5be57d",
   "metadata": {},
   "source": [],
   "outputs": [],
   "execution_count": null
  },
  {
   "cell_type": "code",
   "id": "572b0502-0ec5-4f18-8d94-5ffb7425767f",
   "metadata": {},
   "source": [],
   "outputs": [],
   "execution_count": null
  },
  {
   "cell_type": "code",
   "id": "ce75f35b-271a-49b6-8031-da8ebf3d6c98",
   "metadata": {},
   "source": [],
   "outputs": [],
   "execution_count": null
  },
  {
   "cell_type": "code",
   "id": "2058156b-ff7a-4f73-9c94-4ca611c9da59",
   "metadata": {},
   "source": [],
   "outputs": [],
   "execution_count": null
  },
  {
   "cell_type": "code",
   "id": "149115ee-e28e-4c47-98f4-99a7ffe622d5",
   "metadata": {},
   "source": [],
   "outputs": [],
   "execution_count": null
  },
  {
   "cell_type": "code",
   "id": "d5a68be8-2a17-4219-9a3f-ab89b8994ad4",
   "metadata": {},
   "source": [],
   "outputs": [],
   "execution_count": null
  },
  {
   "cell_type": "code",
   "id": "daa070fb-ddf3-4f8f-aeac-0171fce5ce86",
   "metadata": {},
   "source": [],
   "outputs": [],
   "execution_count": null
  },
  {
   "cell_type": "code",
   "id": "1deaba56-e04d-40fd-8d0f-6ef8da87a684",
   "metadata": {},
   "source": [
    "import anndata\n",
    "rna_adata_OLD=anndata.read_h5ad(\"/QRISdata/Q1851/Prakrithi/Melanoma_scRNAseq/Mel_3samples_75pcs.h5ad\")"
   ],
   "outputs": [],
   "execution_count": null
  },
  {
   "cell_type": "code",
   "id": "114f2551-2567-4878-9d59-b7cdd68e1f25",
   "metadata": {},
   "source": [
    "rna_adata_OLD"
   ],
   "outputs": [],
   "execution_count": null
  },
  {
   "cell_type": "code",
   "id": "9d4510a7-33aa-416f-8450-c79fb335638f",
   "metadata": {},
   "source": [
    "#rna_adata.obs['original_Level2']=rna_adata_OLD.obs['Level2_res1']\n",
    "rna_adata.obs['original_Level2']=rna_adata_OLD.obs['Level2_res1']\n"
   ],
   "outputs": [],
   "execution_count": null
  },
  {
   "cell_type": "code",
   "id": "651b50c1-586b-4ccf-9770-df544e3e8f95",
   "metadata": {},
   "source": [],
   "outputs": [],
   "execution_count": null
  },
  {
   "cell_type": "code",
   "id": "5079cc57-26cc-45b3-b9d0-26b55b731e10",
   "metadata": {},
   "source": [],
   "outputs": [],
   "execution_count": null
  },
  {
   "cell_type": "code",
   "id": "301d073a-cee1-4c68-bff5-717cd4e3a4aa",
   "metadata": {},
   "source": [],
   "outputs": [],
   "execution_count": null
  },
  {
   "cell_type": "code",
   "id": "54bc604e-0e57-4721-b0da-bbdfdb3947b1",
   "metadata": {},
   "source": [
    "## creating anndata objects from counts\n",
    "rna_adata2 = sc.AnnData(rna_counts)\n",
    "rna_adata2.obs=batch.iloc[:,[0,1,2]]\n",
    "## Adding batch information to the Anndata objects from the metadata file\n",
    "#rna_adata.obs['sample'] = batch['orig.ident']\n",
    "## Making rows and column names unique (Cell barcode information is found in .obs and gene (feature) information in .var)\n",
    "rna_adata2.var_names_make_unique()\n",
    "rna_adata2.obs_names_make_unique()\n",
    "\n",
    "\n",
    "## QC plots for total genes, counts and percentage of mitochondrial genes in cells\n",
    "rna_adata2.var['mt'] = rna_adata2.var_names.str.startswith('MT-')\n",
    "sc.pp.calculate_qc_metrics(rna_adata2, qc_vars=['mt'], percent_top=None, log1p=False, inplace=True)\n",
    "\n",
    "# Scanpy will prepend the string in the save argument with \"violin\"\n",
    "# and save it to our figure directory defined in the first step.\n",
    "\n",
    "# Filtering out the low quality genes and cells\n",
    "rna_adata2 = rna_adata2[(rna_adata2.obs.n_genes_by_counts < 7000) &\n",
    "(rna_adata2.obs.total_counts < 20000),:]\n",
    "## Normalizing the counts\n",
    "sc.pp.normalize_total(rna_adata2, target_sum=1e4)\n",
    "sc.pp.log1p(rna_adata2)\n",
    "## Identifying the highly variable genes\n",
    "sc.pp.highly_variable_genes(rna_adata2, min_mean=0.0125, max_mean=3, min_disp=0.25)\n",
    "# This saves the original set of genes\n",
    "rna_adata2.raw = rna_adata2\n",
    "\n",
    "rna_adata2 = rna_adata2[:,rna_adata2.var.highly_variable]\n",
    "sc.pp.scale(rna_adata2, max_value=10)\n",
    "# Lower dimension embedding - PCA\n",
    "sc.tl.pca(rna_adata2, svd_solver='arpack',n_comps=200)\n",
    "\n",
    "## Batch correction\n",
    "sc.external.pp.harmony_integrate(rna_adata2, 'orig.ident')\n",
    "rna_adata2.obsm['X_pca'] = rna_adata2.obsm['X_pca_harmony']\n",
    "sc.pp.neighbors(rna_adata2, n_neighbors=30, n_pcs=75)\n",
    "sc.tl.leiden(rna_adata2, resolution=1)\n",
    "sc.tl.umap(rna_adata2)"
   ],
   "outputs": [],
   "execution_count": null
  },
  {
   "cell_type": "code",
   "id": "e59c8038-11ca-4be0-8041-fa94fd7a409a",
   "metadata": {},
   "source": [
    "sc.pl.umap(rna_adata2, color='leiden')"
   ],
   "outputs": [],
   "execution_count": null
  },
  {
   "cell_type": "code",
   "id": "aaece2e9-53c7-42a3-b114-871ab1be63e5",
   "metadata": {},
   "source": [],
   "outputs": [],
   "execution_count": null
  },
  {
   "cell_type": "markdown",
   "id": "98b766b1-11b8-4355-9484-14d64edf7497",
   "metadata": {},
   "source": [
    "### Import old frozen"
   ]
  },
  {
   "cell_type": "code",
   "id": "2d5bae96-bd9e-47c6-b12b-fb809598232b",
   "metadata": {},
   "source": [
    "import anndata\n",
    "rna_adata_OLD=anndata.read_h5ad(\"/QRISdata/Q2051/SCC_Paper/resources/data/melanoma_sc.h5ad\")\n"
   ],
   "outputs": [],
   "execution_count": null
  },
  {
   "cell_type": "code",
   "id": "8b486eeb-f20f-48e7-9179-4b2b615a972f",
   "metadata": {},
   "source": [
    "\n",
    "\n",
    "\n",
    "sc.pl.dotplot(\n",
    "    rna_adata_OLD,\n",
    "    {\n",
    "        \"B cell\": [\n",
    "            \"MS4A1\",\n",
    "            \"CD79A\",\n",
    "            \"CD79B\",\"CD22\",\"CD40\"]\n",
    "    },\n",
    "    standard_scale=\"var\",\n",
    "    color_map=\"Blues\",\n",
    "    groupby=\"leiden_res1\",\n",
    ")"
   ],
   "outputs": [],
   "execution_count": null
  },
  {
   "cell_type": "code",
   "id": "674cadaf-7752-4105-b157-19f9fc7e0d89",
   "metadata": {},
   "source": [
    "sc.pl.umap(rna_adata_OLD, color= [\"CD79A\",\"MS4A1\",\"CD22\",\"KRT2\",])"
   ],
   "outputs": [],
   "execution_count": null
  },
  {
   "cell_type": "code",
   "id": "ec4a63ae-b09a-4799-8fff-c45cca17ecf9",
   "metadata": {},
   "source": [
    "sc.pl.umap(rna_adata_OLD, color= [\"Level2_res1\",])"
   ],
   "outputs": [],
   "execution_count": null
  },
  {
   "cell_type": "code",
   "id": "b2cad569-5b18-4b8a-9aaa-2c156f792586",
   "metadata": {},
   "source": [
    "sc.pl.umap(rna_adata_OLD, color= [\"orig.ident\"])"
   ],
   "outputs": [],
   "execution_count": null
  },
  {
   "cell_type": "code",
   "id": "959fdec8-3c86-4131-9668-9c878c73063f",
   "metadata": {},
   "source": [],
   "outputs": [],
   "execution_count": null
  },
  {
   "cell_type": "code",
   "id": "bbe82f86-3926-4729-97fa-773e5e6dc6fc",
   "metadata": {},
   "source": [
    "rna_adata_OLD"
   ],
   "outputs": [],
   "execution_count": null
  },
  {
   "cell_type": "markdown",
   "id": "1d6435cf-a63d-42e2-a72b-eeff4446a8dc",
   "metadata": {},
   "source": [
    "# Melanoma annotations "
   ]
  },
  {
   "cell_type": "code",
   "id": "8bb6dbd8-7407-480b-ac97-f73e32bc7ad9",
   "metadata": {},
   "source": [
    "mel_only=anndata.read_h5ad('/QRISdata/Q1851/Prakrithi/skin_atlas/reanalysis_nov2024/Melanocytes_only_nov22.h5ad')"
   ],
   "outputs": [],
   "execution_count": null
  },
  {
   "cell_type": "code",
   "id": "a8d99287-f859-4ac9-bc7f-119043508274",
   "metadata": {},
   "source": [
    "mel"
   ],
   "outputs": [],
   "execution_count": null
  },
  {
   "cell_type": "code",
   "id": "e53ab101-2414-4c23-998e-2e8467a651aa",
   "metadata": {},
   "source": [
    "mel_only.obs['orig.ident'].unique\n",
    "# Add 'status' column and assign values based on the condition\n",
    "mel_only.obs['status'] = mel_only.obs['orig.ident'].apply(lambda x: 'Malignant' if x == 'MPS13' else 'Benign')\n",
    "mel_only.obs['status'].unique()\n"
   ],
   "outputs": [],
   "execution_count": null
  },
  {
   "cell_type": "code",
   "id": "f768931b-e2ef-4967-ad9d-91b22ecfd694",
   "metadata": {},
   "source": [
    "melonly_raw=mel_only.raw"
   ],
   "outputs": [],
   "execution_count": null
  },
  {
   "cell_type": "markdown",
   "id": "beb2ebea-f317-45a0-9566-6c13f6311818",
   "metadata": {},
   "source": [
    "### with raw counts"
   ]
  },
  {
   "cell_type": "code",
   "id": "adff0bb8-db04-471f-b456-23b502046bed",
   "metadata": {},
   "source": [
    "sc.pp.log1p(rna_adata)\n",
    "sc.tl.rank_genes_groups(mel_only, 'status', method='wilcoxon', n_genes=200)\n",
    "sc.tl.filter_rank_genes_groups(mel_only)\n",
    "rcParams['figure.figsize'] = 4,4\n",
    "rcParams['axes.grid'] = True\n",
    "#sc.pl.rank_genes_groups(adata_KC_Basal, key='rank_genes_groups_filtered', ncols=3)\n",
    "\n",
    "axs = sc.pl.rank_genes_groups_dotplot(mel_only, n_genes=20, groups=['Malignant', 'Benign'])\n",
    "print(\"Malignant: \",mel_only.uns['rank_genes_groups']['names']['Malignant'].tolist()[:100])\n",
    "print(\"Benign: \",mel_only.uns['rank_genes_groups']['names']['Benign'].tolist()[:100])"
   ],
   "outputs": [],
   "execution_count": null
  },
  {
   "cell_type": "code",
   "id": "6b9b1b9e-b33b-4d49-aa61-0f6910d550c2",
   "metadata": {},
   "source": [
    "## SCC genes from literature\n",
    "def split_umap(adata, split_by, ncol=2, nrow=None, **kwargs):\n",
    "    categories = adata.obs[split_by].cat.categories\n",
    "    if nrow is None:\n",
    "        nrow = int(np.ceil(len(categories) / ncol))\n",
    "    fig, axs = plt.subplots(nrow, ncol, figsize=(5*ncol, 4*nrow))\n",
    "    axs = axs.flatten()\n",
    "    for i, cat in enumerate(categories):\n",
    "        ax = axs[i]\n",
    "        sc.pl.umap(adata[adata.obs[split_by] == cat], ax=ax, show=False, title=cat, **kwargs)\n",
    "    plt.tight_layout()\n",
    "\n",
    "gene_sets = {\n",
    "    'melano': mel_only.uns['rank_genes_groups']['names']['Malignant'].tolist()[:100],\n",
    "    'hub_genes':[\"FLG\", \"DSG1\", \"DSG3\", \"IVL\", \"EGFR\"] #https://www.ncbi.nlm.nih.gov/pmc/articles/PMC7596746/\n",
    "} #\"GDF15\"=\"PLAB\", MLANA=MART1\n",
    "\n",
    "# Calculate and add module scores\n",
    "for name, genes in gene_sets.items():\n",
    "    sc.tl.score_genes(mel_only, gene_list=genes, score_name=name)\n",
    "\n",
    "# Inspect the results\n",
    "#print(mel.obs.head())\n",
    "#idata.obs['cancer'] = ['cancer' if x == 'KC Cancer' else 'Others' for x in scc.obs['Level3_Cancer']]\n",
    "#idata.obs['cancer'] = idata.obs['cancer'].astype('category')\n",
    "\n",
    "# Plot the module scores\n",
    "split_umap(mel_only, color=['melano'], size=30,split_by='status')\n",
    "split_umap(mel_only, color=['hub_genes'], size=30,split_by='status')\n",
    "\n",
    "\n",
    "#split_umap(scc, color = ['InferCNV_and_CopyKAT_aneuploid'], split_by='cancer_status',legend_loc = \"right margin\")\n"
   ],
   "outputs": [],
   "execution_count": null
  },
  {
   "cell_type": "code",
   "id": "be58fd73-ab47-4d8c-8f06-e8a6925976f6",
   "metadata": {},
   "source": [
    "import matplotlib.pyplot as plt\n",
    "import seaborn as sns\n",
    "\n",
    "# Extract the 'all_Cancer' data from adata.obs\n",
    "all_cancer_values = mel_only.obs['melano']\n",
    "\n",
    "# Plot a histogram using seaborn for better visualization\n",
    "plt.figure(figsize=(8, 5))\n",
    "sns.histplot(all_cancer_values, kde=False, bins=30, color='blue', edgecolor='black')\n",
    "\n",
    "# Add titles and labels\n",
    "plt.title('Histogram of all_Cancer', fontsize=14)\n",
    "plt.xlabel('melano mod score', fontsize=12)\n",
    "plt.ylabel('Frequency', fontsize=12)\n",
    "\n",
    "# Show the plot\n",
    "plt.tight_layout()\n",
    "plt.show()\n",
    "import numpy as np\n",
    "# Extract the 'all_Cancer' data from adata.obs\n",
    "all_cancer_values = mel_only.obs['melano']\n",
    "# Calculate the 90th percentile\n",
    "percentile_80 = np.percentile(all_cancer_values, 80)\n",
    "percentile_90 = np.percentile(all_cancer_values, 90)\n",
    "percentile_95 = np.percentile(all_cancer_values, 95)\n",
    "percentile_99 = np.percentile(all_cancer_values, 99)\n",
    "percentile_995 = np.percentile(all_cancer_values, 99.5)\n",
    "\n",
    "\n",
    "# Print the result\n",
    "print(f\"90th Percentile of 'all_Cancer': {percentile_80}\")\n",
    "print(f\"90th Percentile of 'all_Cancer': {percentile_90}\")\n",
    "print(f\"95th Percentile of 'all_Cancer': {percentile_95}\")\n",
    "print(f\"99th Percentile of 'all_Cancer': {percentile_99}\")\n",
    "print(f\"99.5th Percentile of 'all_Cancer': {percentile_995}\")"
   ],
   "outputs": [],
   "execution_count": null
  },
  {
   "cell_type": "code",
   "id": "e2146c71-b558-454d-bd0f-8130bb05c5ab",
   "metadata": {},
   "source": [
    "# Define the condition\n",
    "condition80p = (mel_only.obs['Aneuploid_combined_clusters'] == 'overlap') & (mel_only.obs['melano'] > 0.66)\n",
    "condition90p = (mel_only.obs['Aneuploid_combined_clusters'] == 'overlap') & (mel_only.obs['melano'] > 1.28)\n",
    "condition95p = (mel_only.obs['Aneuploid_combined_clusters'] == 'overlap') & (mel_only.obs['melano'] > 1.85)\n",
    "condition99p = (mel_only.obs['Aneuploid_combined_clusters'] == 'overlap') & (mel_only.obs['melano'] > 5.13)\n",
    "condition99_5p = (mel_only.obs['Aneuploid_combined_clusters'] == 'overlap') & (mel_only.obs['melano'] > 7.32)\n",
    "\n",
    "# Assign colors: 'red' for cells meeting the condition, 'grey' otherwise\n",
    "mel_only.obs['Melano_cancer_DE_80p'] = ['Cancer' if cond else 'Normal' for cond in condition80p]\n",
    "mel_only.obs['Melano_cancer_DE_90p'] = ['Cancer' if cond else 'Normal' for cond in condition90p]\n",
    "mel_only.obs['Melano_cancer_DE_95p'] = ['Cancer' if cond else 'Normal' for cond in condition95p]\n",
    "mel_only.obs['Melano_cancer_DE_99p'] = ['Cancer' if cond else 'Normal' for cond in condition99p]\n",
    "mel_only.obs['Melano_cancer_DE_99_5p'] = ['Cancer' if cond else 'Normal' for cond in condition99_5p]\n",
    "\n",
    "# Define a color map\n",
    "color_map = {'Cancer': 'red', 'Normal': 'lightgrey'}\n",
    "\n",
    "# Plot UMAP\n",
    "sc.pl.umap(mel_only, color=['Melano_cancer_DE_80p','Melano_cancer_DE_90p','Melano_cancer_DE_95p','Melano_cancer_DE_99p'], palette=color_map, size=30)\n",
    "\n",
    "\n",
    "# Assuming `df` is your DataFrame\n",
    "cancer_count80p = mel_only.obs[mel_only.obs['Melano_cancer_DE_80p'] == 'Cancer'].shape[0]\n",
    "cancer_count90p = mel_only.obs[mel_only.obs['Melano_cancer_DE_90p'] == 'Cancer'].shape[0]\n",
    "cancer_count95p=mel_only.obs[mel_only.obs['Melano_cancer_DE_95p'] == 'Cancer'].shape[0]\n",
    "cancer_count99p=mel_only.obs[mel_only.obs['Melano_cancer_DE_99p'] == 'Cancer'].shape[0]\n",
    "cancer_count99_5p=mel_only.obs[mel_only.obs['Melano_cancer_DE_99_5p'] == 'Cancer'].shape[0]\n",
    "print(f\"Number of cells marked as 'Cancer' 90th percentile: {cancer_count80p}\")\n",
    "print(f\"Number of cells marked as 'Cancer' 90th percentile: {cancer_count90p}\")\n",
    "print(f\"Number of cells marked as 'Cancer' 95th percentile: {cancer_count95p}\")\n",
    "print(f\"Number of cells marked as 'Cancer' 99th percentile: {cancer_count99p}\")\n",
    "print(f\"Number of cells marked as 'Cancer' 99.5th percentile: {cancer_count99_5p}\")\n",
    "\n"
   ],
   "outputs": [],
   "execution_count": null
  },
  {
   "cell_type": "code",
   "id": "6a51767f-bc34-4ea3-a40f-540aa805961e",
   "metadata": {},
   "source": [],
   "outputs": [],
   "execution_count": null
  },
  {
   "cell_type": "code",
   "id": "0b543b6a-ce53-4d4a-b71f-60b619094cb8",
   "metadata": {},
   "source": [],
   "outputs": [],
   "execution_count": null
  },
  {
   "cell_type": "code",
   "id": "40d6f40e-280e-4ea0-beba-94bb0959540b",
   "metadata": {},
   "source": [],
   "outputs": [],
   "execution_count": null
  },
  {
   "cell_type": "code",
   "id": "53b41bb2-a368-4dd9-97b3-9ede0c312148",
   "metadata": {},
   "source": [],
   "outputs": [],
   "execution_count": null
  },
  {
   "cell_type": "code",
   "id": "1bad7b4c-9244-455a-8485-b1aa7a27d654",
   "metadata": {},
   "source": [],
   "outputs": [],
   "execution_count": null
  },
  {
   "cell_type": "code",
   "id": "b185d8a5-ec5e-4f8c-9b0e-4e7e4892a78b",
   "metadata": {},
   "source": [],
   "outputs": [],
   "execution_count": null
  },
  {
   "cell_type": "code",
   "id": "b7f4e101-11a5-428b-9fdb-912e412aa198",
   "metadata": {},
   "source": [
    "from matplotlib import rcParams\n",
    "\n",
    "#mel_only = mel[mel.obs['Level2'] == 'Melanocytes']\n",
    "\n",
    "mel_only.raw=None\n",
    "sc.tl.rank_genes_groups(mel_only, 'status', method='wilcoxon', n_genes=200)\n",
    "sc.tl.filter_rank_genes_groups(mel_only)\n",
    "rcParams['figure.figsize'] = 4,4\n",
    "rcParams['axes.grid'] = True\n",
    "#sc.pl.rank_genes_groups(adata_KC_Basal, key='rank_genes_groups_filtered', ncols=3)\n",
    "\n",
    "axs = sc.pl.rank_genes_groups_dotplot(mel_only, n_genes=20, groups=['Malignant', 'Benign'])\n"
   ],
   "outputs": [],
   "execution_count": null
  },
  {
   "cell_type": "code",
   "id": "dd6ebf70-88dd-4f7b-aaa4-78431e6f37fd",
   "metadata": {},
   "source": [
    "print(\"Malignant: \",mel_only.uns['rank_genes_groups']['names']['Malignant'].tolist()[:100])\n",
    "print(\"Benign: \",mel_only.uns['rank_genes_groups']['names']['Benign'].tolist()[:100])"
   ],
   "outputs": [],
   "execution_count": null
  },
  {
   "cell_type": "code",
   "id": "f4441163-1f42-41df-afe4-08f9be5badfb",
   "metadata": {},
   "source": [
    "## SCC genes from literature\n",
    "def split_umap(adata, split_by, ncol=2, nrow=None, **kwargs):\n",
    "    categories = adata.obs[split_by].cat.categories\n",
    "    if nrow is None:\n",
    "        nrow = int(np.ceil(len(categories) / ncol))\n",
    "    fig, axs = plt.subplots(nrow, ncol, figsize=(5*ncol, 4*nrow))\n",
    "    axs = axs.flatten()\n",
    "    for i, cat in enumerate(categories):\n",
    "        ax = axs[i]\n",
    "        sc.pl.umap(adata[adata.obs[split_by] == cat], ax=ax, show=False, title=cat, **kwargs)\n",
    "    plt.tight_layout()\n",
    "\n",
    "gene_sets = {\n",
    "    'melano': mel_only.uns['rank_genes_groups']['names']['Malignant'].tolist()[:100],\n",
    "    'hub_genes':[\"FLG\", \"DSG1\", \"DSG3\", \"IVL\", \"EGFR\"], #https://www.ncbi.nlm.nih.gov/pmc/articles/PMC7596746/\n",
    "    #'edgeR':['MMP16','COL9A3','TIMP3','CNIH3','KCNN4','TBC1D10A','PPIB','XBP1','COL6A3','SRPX','ECM1','ALDH1A3','NES','SH3BGRL3','CCN3','PDIA3','SHTN1','SSR4','AQP1','BST2','FGFR1','TIMP1','LAP3','P4HB','CTHRC1','COL4A2','LGMN','TRAM1','CKAP4','WIPF1','AFAP1L2','CALU','IFI6','FN1','CAVIN3','PDIA6','DUSP6','MYDGF','CD276','MT2A','PKM','BCAP31','FKBP10','CTSK','PLEC','MIA','COL1A2','QDPR','LOXL4','PRNP','COL6A1','COL9A1','SLC5A3','METRN','ACSS2','IFI44','STAT1','SNED1','FGFBP2','IMPAD1','LY6E','FXYD5','KRT2','CC2D1A','AP1S2','IFI44L','IFI27','AKAP6','OAS3','S100A16','RCN1','SLC9A3','EMILIN1','COL6A2','CYTL1','PCOLCE','SOD3','MCAM','RNF125','BMP8B','OAF','SH2B3','DBNDD1','ITM2B','LY96','CD22','ANGPT1','DUSP5','MS4A2','OLFML3','SCML4','ITGB3','MPZ','ISLR','LOXL3','CD68','FCER1G','ITGA10','ITIH5','COL9A2','BAALC','THBS1','PLAUR','AGT','PRRX1','TNC','SLC20A1','WARS','MGP','ANO4','ECE1','LIMK1','S100A4','IER3','A2M','CD109','MX1','OAS1','CAPG','TGFBI','FABP5','HIST1H1B','COL4A1','IGFBP4','ISG15','S100A6'],\n",
    "    'edgeR':['CTHRC1','TIMP1','LOXL4','HIST1H1B','PPIB','PDIA6','FGFBP2','TIMP3','COL1A2','MYDGF','SOD3','LGMN','SCAMP2','EGR1','USP18','TGFBI','HAPLN3','A2M','IGFBP2','LIMK1','FGFR1','TMED2','MGP','MMP16','NRGN','ITGB3','BAALC','AGMO','LIF','ALDH1A1','FOXM1','PCOLCE','ISLR','LAYN','HJURP','MAT1A','ASPM','OLFML3','C2','FCER1G','FMOD','AQP1','KIF23','GGH','KDELR3','QDPR','SSR4','SH2B3','ITGA10','PLAUR','EMILIN1','S100A16','OAF','COL4A2','SELENOM','MEOX2','FABP5','NUSAP1','FREM2','AGT','MDK','EMILIN2','PLEC','CKAP4','WIPF1','COL6A1','COL6A2','TRAM1','CAVIN3','P4HB','COL11A1','ACSS2','AFAP1L2','PRG2','SLC5A3','RNF125','MICALL2','SHTN1','SND1','CYP7B1','AKAP6','COL4A1','CSF2RA','ADGRG6','XBP1','EGR3','SRGN','RELL1','FGL2','PTPRE','MLLT11','ECE1','ANGPTL7','SORL1','COL9A3','SLC20A1','COL22A1','COL9A2','LRP8','DUSP5','MPZ','TTR','RCN1','DBNDD1','BMP8B','LOXL3','RFX8','TIAM1','HSD3B7','STRA6','ORC6','RAB7B','CABP4','DNAH9','CD22','ITGA7','AXL','EBF3','DIO2','GALNT5','FGF1']\n",
    "} #\"GDF15\"=\"PLAB\", MLANA=MART1\n",
    "\n",
    "# Calculate and add module scores\n",
    "for name, genes in gene_sets.items():\n",
    "    sc.tl.score_genes(mel_only, gene_list=genes, score_name=name)\n",
    "\n",
    "# Inspect the results\n",
    "#print(mel.obs.head())\n",
    "#idata.obs['cancer'] = ['cancer' if x == 'KC Cancer' else 'Others' for x in scc.obs['Level3_Cancer']]\n",
    "#idata.obs['cancer'] = idata.obs['cancer'].astype('category')\n",
    "\n",
    "# Plot the module scores\n",
    "split_umap(mel_only, color=['melano'], size=30,split_by='status')\n",
    "split_umap(mel_only, color=['hub_genes'], size=30,split_by='status')\n",
    "split_umap(mel_only, color=['edgeR'], size=30,split_by='status')\n",
    "\n",
    "\n",
    "#split_umap(scc, color = ['InferCNV_and_CopyKAT_aneuploid'], split_by='cancer_status',legend_loc = \"right margin\")\n"
   ],
   "outputs": [],
   "execution_count": null
  },
  {
   "cell_type": "code",
   "id": "2910f518-cbc4-4d24-b167-a47ca1602d07",
   "metadata": {},
   "source": [
    "sc.pl.umap(mel_only, color=['Aneuploid_combined_clusters'], size=30)\n"
   ],
   "outputs": [],
   "execution_count": null
  },
  {
   "cell_type": "code",
   "id": "5b8ba8ff-02e5-4b17-ada5-76df13d69dc3",
   "metadata": {},
   "source": [
    "sc.pl.umap(mel_only, color=['mel_leiden'], size=30,legend_loc=\"on data\")\n"
   ],
   "outputs": [],
   "execution_count": null
  },
  {
   "cell_type": "code",
   "id": "42ae09f4-ae53-4735-b534-e6744066eb8e",
   "metadata": {},
   "source": [
    "import matplotlib.pyplot as plt\n",
    "import seaborn as sns\n",
    "\n",
    "# Extract the 'all_Cancer' data from adata.obs\n",
    "all_cancer_values = mel_only.obs['melano']\n",
    "\n",
    "# Plot a histogram using seaborn for better visualization\n",
    "plt.figure(figsize=(8, 5))\n",
    "sns.histplot(all_cancer_values, kde=False, bins=30, color='blue', edgecolor='black')\n",
    "\n",
    "# Add titles and labels\n",
    "plt.title('Histogram of all_Cancer', fontsize=14)\n",
    "plt.xlabel('melano mod score', fontsize=12)\n",
    "plt.ylabel('Frequency', fontsize=12)\n",
    "\n",
    "# Show the plot\n",
    "plt.tight_layout()\n",
    "plt.show()\n"
   ],
   "outputs": [],
   "execution_count": null
  },
  {
   "cell_type": "code",
   "id": "da02807c-2594-42e7-8f5e-6df4deefec92",
   "metadata": {},
   "source": [
    "import numpy as np\n",
    "# Extract the 'all_Cancer' data from adata.obs\n",
    "all_cancer_values = mel_only.obs['melano']\n",
    "# Calculate the 90th percentile\n",
    "percentile_90 = np.percentile(all_cancer_values, 90)\n",
    "percentile_95 = np.percentile(all_cancer_values, 95)\n",
    "percentile_99 = np.percentile(all_cancer_values, 99)\n",
    "percentile_995 = np.percentile(all_cancer_values, 99.5)\n",
    "\n",
    "\n",
    "# Print the result\n",
    "print(f\"90th Percentile of 'all_Cancer': {percentile_90}\")\n",
    "print(f\"95th Percentile of 'all_Cancer': {percentile_95}\")\n",
    "print(f\"99th Percentile of 'all_Cancer': {percentile_99}\")\n",
    "print(f\"99.5th Percentile of 'all_Cancer': {percentile_995}\")"
   ],
   "outputs": [],
   "execution_count": null
  },
  {
   "cell_type": "code",
   "id": "968c33e6-ca27-4084-a145-6c5a3d1deadb",
   "metadata": {},
   "source": [
    "# Define the condition\n",
    "condition90p = (mel_only.obs['Aneuploid_combined_clusters'] == 'overlap') & (mel_only.obs['melano'] > 1.37)\n",
    "condition95p = (mel_only.obs['Aneuploid_combined_clusters'] == 'overlap') & (mel_only.obs['melano'] > 1.64)\n",
    "condition99p = (mel_only.obs['Aneuploid_combined_clusters'] == 'overlap') & (mel_only.obs['melano'] > 2.08)\n",
    "condition99_5p = (mel_only.obs['Aneuploid_combined_clusters'] == 'overlap') & (mel_only.obs['melano'] > 2.14)\n",
    "\n",
    "# Assign colors: 'red' for cells meeting the condition, 'grey' otherwise\n",
    "mel_only.obs['Melano_cancer_DE_90p'] = ['Cancer' if cond else 'Normal' for cond in condition90p]\n",
    "mel_only.obs['Melano_cancer_DE_95p'] = ['Cancer' if cond else 'Normal' for cond in condition95p]\n",
    "mel_only.obs['Melano_cancer_DE_99p'] = ['Cancer' if cond else 'Normal' for cond in condition99p]\n",
    "mel_only.obs['Melano_cancer_DE_99_5p'] = ['Cancer' if cond else 'Normal' for cond in condition99_5p]\n",
    "\n",
    "# Define a color map\n",
    "color_map = {'Cancer': 'red', 'Normal': 'lightgrey'}\n",
    "\n",
    "# Plot UMAP\n",
    "sc.pl.umap(mel_only, color=['Melano_cancer_DE_90p','Melano_cancer_DE_95p','Melano_cancer_DE_99p','Melano_cancer_DE_99_5p'], palette=color_map, size=30)\n",
    "\n",
    "\n",
    "# Assuming `df` is your DataFrame\n",
    "cancer_count90p = mel_only.obs[mel_only.obs['Melano_cancer_DE_90p'] == 'Cancer'].shape[0]\n",
    "cancer_count95p=mel_only.obs[mel_only.obs['Melano_cancer_DE_95p'] == 'Cancer'].shape[0]\n",
    "cancer_count99p=mel_only.obs[mel_only.obs['Melano_cancer_DE_99p'] == 'Cancer'].shape[0]\n",
    "cancer_count99_5p=mel_only.obs[mel_only.obs['Melano_cancer_DE_99_5p'] == 'Cancer'].shape[0]\n",
    "\n",
    "print(f\"Number of cells marked as 'Cancer' 90th percentile: {cancer_count90p}\")\n",
    "print(f\"Number of cells marked as 'Cancer' 95th percentile: {cancer_count95p}\")\n",
    "print(f\"Number of cells marked as 'Cancer' 99th percentile: {cancer_count99p}\")\n",
    "print(f\"Number of cells marked as 'Cancer' 99.5th percentile: {cancer_count99_5p}\")\n",
    "\n"
   ],
   "outputs": [],
   "execution_count": null
  },
  {
   "cell_type": "code",
   "id": "7d96daa5-6123-4250-bd6a-2c163de40e84",
   "metadata": {},
   "source": [],
   "outputs": [],
   "execution_count": null
  },
  {
   "cell_type": "code",
   "id": "6c2f311e-645f-46b9-a00f-12b13d24babc",
   "metadata": {},
   "source": [
    "#edgeR results"
   ],
   "outputs": [],
   "execution_count": null
  },
  {
   "cell_type": "code",
   "id": "28a727a7-66ce-49d9-9dda-0e1637af01eb",
   "metadata": {},
   "source": [
    "# Extract the 'all_Cancer' data from adata.obs\n",
    "all_cancer_values = mel_only.obs['edgeR']\n",
    "\n",
    "# Plot a histogram using seaborn for better visualization\n",
    "plt.figure(figsize=(8, 5))\n",
    "sns.histplot(all_cancer_values, kde=False, bins=30, color='blue', edgecolor='black')\n",
    "\n",
    "# Add titles and labels\n",
    "plt.title('Histogram of edgeR', fontsize=14)\n",
    "plt.xlabel('melano mod score', fontsize=12)\n",
    "plt.ylabel('Frequency', fontsize=12)\n",
    "\n",
    "# Show the plot\n",
    "plt.tight_layout()\n",
    "plt.show()\n",
    "\n",
    "\n",
    "import numpy as np\n",
    "# Extract the 'all_Cancer' data from adata.obs\n",
    "all_cancer_values = mel_only.obs['edgeR']\n",
    "# Calculate the 90th percentile\n",
    "percentile_90 = np.percentile(all_cancer_values, 90)\n",
    "percentile_95 = np.percentile(all_cancer_values, 95)\n",
    "percentile_99 = np.percentile(all_cancer_values, 99)\n",
    "percentile_995 = np.percentile(all_cancer_values, 99.5)\n",
    "\n",
    "\n",
    "# Print the result\n",
    "print(f\"90th Percentile of 'all_Cancer': {percentile_90}\")\n",
    "print(f\"95th Percentile of 'all_Cancer': {percentile_95}\")\n",
    "print(f\"99th Percentile of 'all_Cancer': {percentile_99}\")\n",
    "print(f\"99.5th Percentile of 'all_Cancer': {percentile_995}\")"
   ],
   "outputs": [],
   "execution_count": null
  },
  {
   "cell_type": "code",
   "id": "33f06db4-a3c8-4d41-a58a-03b7565fdfb7",
   "metadata": {},
   "source": [
    "# Define the condition\n",
    "condition90p = (mel_only.obs['Aneuploid_combined_clusters'] == 'overlap') & (mel_only.obs['edgeR'] > 1.02)\n",
    "condition95p = (mel_only.obs['Aneuploid_combined_clusters'] == 'overlap') & (mel_only.obs['edgeR'] > 1.36)\n",
    "condition99p = (mel_only.obs['Aneuploid_combined_clusters'] == 'overlap') & (mel_only.obs['edgeR'] > 1.76)\n",
    "condition99_5p = (mel_only.obs['Aneuploid_combined_clusters'] == 'overlap') & (mel_only.obs['edgeR'] > 1.9)\n",
    "\n",
    "# Assign colors: 'red' for cells meeting the condition, 'grey' otherwise\n",
    "mel_only.obs['edgeR_cancer_DE_90p'] = ['Cancer' if cond else 'Normal' for cond in condition90p]\n",
    "mel_only.obs['edgeR_cancer_DE_95p'] = ['Cancer' if cond else 'Normal' for cond in condition95p]\n",
    "mel_only.obs['edgeR_cancer_DE_99p'] = ['Cancer' if cond else 'Normal' for cond in condition99p]\n",
    "mel_only.obs['edgeR_cancer_DE_99_5p'] = ['Cancer' if cond else 'Normal' for cond in condition99_5p]\n",
    "\n",
    "# Define a color map\n",
    "color_map = {'Cancer': 'red', 'Normal': 'lightgrey'}\n",
    "\n",
    "# Plot UMAP\n",
    "sc.pl.umap(mel_only, color=['edgeR_cancer_DE_90p','edgeR_cancer_DE_95p','edgeR_cancer_DE_99p','edgeR_cancer_DE_99_5p'], palette=color_map, size=30)\n",
    "\n",
    "\n",
    "# Assuming `df` is your DataFrame\n",
    "cancer_count90p = mel_only.obs[mel_only.obs['edgeR_cancer_DE_90p'] == 'Cancer'].shape[0]\n",
    "cancer_count95p=mel_only.obs[mel_only.obs['edgeR_cancer_DE_95p'] == 'Cancer'].shape[0]\n",
    "cancer_count99p=mel_only.obs[mel_only.obs['edgeR_cancer_DE_99p'] == 'Cancer'].shape[0]\n",
    "cancer_count99_5p=mel_only.obs[mel_only.obs['edgeR_cancer_DE_99_5p'] == 'Cancer'].shape[0]\n",
    "\n",
    "print(f\"Number of cells marked as 'Cancer' 90th percentile: {cancer_count90p}\")\n",
    "print(f\"Number of cells marked as 'Cancer' 95th percentile: {cancer_count95p}\")\n",
    "print(f\"Number of cells marked as 'Cancer' 99th percentile: {cancer_count99p}\")\n",
    "print(f\"Number of cells marked as 'Cancer' 99.5th percentile: {cancer_count99_5p}\")\n",
    "\n"
   ],
   "outputs": [],
   "execution_count": null
  },
  {
   "cell_type": "code",
   "id": "f9a318db-c454-4070-884f-d2cc5922799f",
   "metadata": {},
   "source": [],
   "outputs": [],
   "execution_count": null
  },
  {
   "cell_type": "code",
   "id": "66934964-2b33-4e6b-875a-539fefc845a5",
   "metadata": {},
   "source": [
    "import pickle\n",
    "\n",
    "# Save the AnnData object to a pickle file\n",
    "with open('/QRISdata/Q1851/Prakrithi/skin_atlas/reanalysis_nov2024/Melanocytes_only_nov22_with_modscore_noraw.pkl', 'wb') as f:\n",
    "    pickle.dump(mel_only, f)\n"
   ],
   "outputs": [],
   "execution_count": null
  },
  {
   "cell_type": "code",
   "id": "60e7b9f1-2747-4b0b-a9ce-32a8e2d77238",
   "metadata": {},
   "source": [
    "# edgeR res"
   ],
   "outputs": [],
   "execution_count": null
  },
  {
   "cell_type": "code",
   "id": "c832c0b1-2676-4c17-be74-ed40b6ab7c36",
   "metadata": {},
   "source": [
    "\n",
    "## SCC genes from literature\n",
    "def split_umap(adata, split_by, ncol=2, nrow=None, **kwargs):\n",
    "    adata.obs[split_by] = adata.obs[split_by].astype('category')\n",
    "    categories = adata.obs[split_by].cat.categories\n",
    "    if nrow is None:\n",
    "        nrow = int(np.ceil(len(categories) / ncol))\n",
    "    fig, axs = plt.subplots(nrow, ncol, figsize=(5*ncol, 4*nrow))\n",
    "    axs = axs.flatten()\n",
    "    for i, cat in enumerate(categories):\n",
    "        ax = axs[i]\n",
    "        sc.pl.umap(adata[adata.obs[split_by] == cat], ax=ax, show=False, title=cat, **kwargs)\n",
    "    plt.tight_layout()\n",
    "\n",
    "gene_sets = {\n",
    "  #  'melano': mel_only.uns['rank_genes_groups']['names']['Malignant'].tolist()[:100],\n",
    "    'hub_genes':[\"FLG\", \"DSG1\", \"DSG3\", \"IVL\", \"EGFR\"], #https://www.ncbi.nlm.nih.gov/pmc/articles/PMC7596746/\n",
    "    #'edgeR':['MMP16','COL9A3','TIMP3','CNIH3','KCNN4','TBC1D10A','PPIB','XBP1','COL6A3','SRPX','ECM1','ALDH1A3','NES','SH3BGRL3','CCN3','PDIA3','SHTN1','SSR4','AQP1','BST2','FGFR1','TIMP1','LAP3','P4HB','CTHRC1','COL4A2','LGMN','TRAM1','CKAP4','WIPF1','AFAP1L2','CALU','IFI6','FN1','CAVIN3','PDIA6','DUSP6','MYDGF','CD276','MT2A','PKM','BCAP31','FKBP10','CTSK','PLEC','MIA','COL1A2','QDPR','LOXL4','PRNP','COL6A1','COL9A1','SLC5A3','METRN','ACSS2','IFI44','STAT1','SNED1','FGFBP2','IMPAD1','LY6E','FXYD5','KRT2','CC2D1A','AP1S2','IFI44L','IFI27','AKAP6','OAS3','S100A16','RCN1','SLC9A3','EMILIN1','COL6A2','CYTL1','PCOLCE','SOD3','MCAM','RNF125','BMP8B','OAF','SH2B3','DBNDD1','ITM2B','LY96','CD22','ANGPT1','DUSP5','MS4A2','OLFML3','SCML4','ITGB3','MPZ','ISLR','LOXL3','CD68','FCER1G','ITGA10','ITIH5','COL9A2','BAALC','THBS1','PLAUR','AGT','PRRX1','TNC','SLC20A1','WARS','MGP','ANO4','ECE1','LIMK1','S100A4','IER3','A2M','CD109','MX1','OAS1','CAPG','TGFBI','FABP5','HIST1H1B','COL4A1','IGFBP4','ISG15','S100A6'],\n",
    "    'edgeR':['SASS6','PARP14','CMPK2','DDX60L','IFI44L','IFI44','ACAP3','STAT1','FGF1','ART3','FYB1','RFX8','PARP9','LBH','NRN1','AGTRAP','FKBP7','SIPA1L2','TTL','RGS1','COLEC11','TGFBI','S100A4','EMILIN1','FN1','QDPR','FLG','WIPF1','LAP3','CTNNBIP1','SH3BGRL3','COL6A3','SDF4','PDIA6','RHOC','CTSK','FGFBP2','ANGPTL7','BMP8B','AGT','SOD3','OLFML3','FCER1G','COL9A2','FHL2','COL11A1','NID1','SERPINE2','IFI6','S100A6','NES','SPON2','CNIH3','PRRX1','ITGA1','SHC1','SLC9A3','MPZ','LOXL3','ITGA10','SLC20A1','PLPP3','SNED1','NIPAL3','CITED4','TMEM163','RELL1','S100A16','ADAMTS2','COL5A2','PDLIM4','TMEM158','ASPM','HJURP','CTSS','EGR1','TRIP13','ADCY3','DTL','MTHFD2','RAB7B','STIL','LRP8','HERC6','DDX60','LRP2','SLC7A11','S100A2','ISG15','CYTL1','UCHL1','ECM1','CAPG','GBA','FMOD','IGFBP2','GALNT2','KIF3C','BASP1','ERRFI1','GALNT5','ECE1','MLLT11','NENF','CYBRD1','AGA']\n",
    "} #\"GDF15\"=\"PLAB\", MLANA=MART1\n",
    "# Calculate and add module scores\n",
    "for name, genes in gene_sets.items():\n",
    "    sc.tl.score_genes(mel_only, gene_list=genes, score_name=name)\n",
    "\n",
    "# Inspect the results\n",
    "#print(mel.obs.head())\n",
    "#idata.obs['cancer'] = ['cancer' if x == 'KC Cancer' else 'Others' for x in scc.obs['Level3_Cancer']]\n",
    "#idata.obs['cancer'] = idata.obs['cancer'].astype('category')\n",
    "\n",
    "# Plot the module scores\n",
    "#split_umap(mel_only, color=['melano'], size=30,split_by='status')\n",
    "split_umap(mel_only, color=['hub_genes'], size=30,split_by='status')\n",
    "split_umap(mel_only, color=['edgeR'], size=30,split_by='status')\n",
    "\n",
    "\n",
    "#split_umap(scc, color = ['InferCNV_and_CopyKAT_aneuploid'], split_by='cancer_status',legend_loc = \"right margin\")\n"
   ],
   "outputs": [],
   "execution_count": null
  },
  {
   "cell_type": "code",
   "id": "63017948-0c10-4c16-988e-72a0a76854ba",
   "metadata": {},
   "source": [
    "def split_umap(adata, split_by, ncol=2, nrow=None, vmax=None, **kwargs):\n",
    "    adata.obs[split_by] = adata.obs[split_by].astype('category')\n",
    "    categories = adata.obs[split_by].cat.categories\n",
    "    if nrow is None:\n",
    "        nrow = int(np.ceil(len(categories) / ncol))\n",
    "    \n",
    "    fig, axs = plt.subplots(nrow, ncol, figsize=(5*ncol, 4*nrow))\n",
    "    axs = axs.flatten()\n",
    "    \n",
    "    for i, cat in enumerate(categories):\n",
    "        ax = axs[i]\n",
    "        # Adjust the color scale range using vmax (or vmin if desired)\n",
    "        sc.pl.umap(adata[adata.obs[split_by] == cat], ax=ax, show=False, title=cat, vmax=vmax, **kwargs)\n",
    "    \n",
    "    plt.tight_layout()\n",
    "\n",
    "split_umap(mel_only, color=['edgeR'], size=30, split_by='status', vmax=0.5)\n"
   ],
   "outputs": [],
   "execution_count": null
  },
  {
   "cell_type": "code",
   "id": "9f60e8d0-d76a-4bd1-ad12-5e90f3abd919",
   "metadata": {},
   "source": [
    "split_umap(mel_only, color=['mel_leiden'], size=30, split_by='status')\n"
   ],
   "outputs": [],
   "execution_count": null
  },
  {
   "cell_type": "code",
   "id": "38d8ff75-7d48-4cde-b9bb-aaf7acc133ff",
   "metadata": {},
   "source": [
    "\n",
    "# Assuming 'adata' is your AnnData object and 'adata.obs['cluster']' contains the cluster assignments\n",
    "# Filter the AnnData object to include cells from clusters 9 and 10 (MPS13)\n",
    "adata_mps13 = mel_only[mel_only.obs['mel_leiden'].isin(['9', '10'])]\n",
    "\n",
    "# Create a new group for MPS13 and the rest of the clusters\n",
    "mel_only.obs['orig.ident'] = mel_only.obs['mel_leiden'].apply(lambda x: 'MPS13' if x in ['9', '10'] else 'Others')\n",
    "\n",
    "# Run differential expression analysis between MPS13 (clusters 9 and 10) and all other clusters\n",
    "sc.tl.rank_genes_groups(mel_only, groupby='orig.ident', method='t-test', key_added='rank_genes_mps13')\n",
    "\n",
    "# Inspect the results\n",
    "sc.pl.rank_genes_groups(mel_only, groupby='orig.ident', n_genes=10, key='rank_genes_mps13')\n"
   ],
   "outputs": [],
   "execution_count": null
  },
  {
   "cell_type": "code",
   "id": "839c2289-74c7-4052-b13c-01cb7882248d",
   "metadata": {},
   "source": [],
   "outputs": [],
   "execution_count": null
  },
  {
   "cell_type": "code",
   "id": "f533150c-9214-4acf-97f7-71b93b215e68",
   "metadata": {},
   "source": [
    "sc.pl.rank_genes_groups_dotplot(mel_only, groupby='orig.ident', n_genes=10, key='rank_genes_mps13')\n"
   ],
   "outputs": [],
   "execution_count": null
  },
  {
   "cell_type": "code",
   "id": "15119ea1-286a-4f16-af1f-53c4eb58652f",
   "metadata": {},
   "source": [],
   "outputs": [],
   "execution_count": null
  },
  {
   "cell_type": "code",
   "id": "c57f3aa2-ec64-4809-8a0a-e2e5c3d5c27c",
   "metadata": {},
   "source": [
    "import scanpy as sc\n",
    "\n",
    "# Create a new 'group' column to label clusters 9 and 10 as one group and all other clusters as 'Other_clusters'\n",
    "mel_only.obs['group'] = mel_only.obs['mel_leiden'].apply(lambda x: 'Cluster_9_10' if x in ['9', '10'] else 'Other_clusters')\n",
    "\n",
    "# Verify the 'group' column exists in obs\n",
    "print(mel_only.obs['group'].unique())  # This should show 'Cluster_9_10' and 'Other_clusters'\n",
    "\n",
    "# Perform differential expression analysis (DE) between 'Cluster_9_10' and 'Other_clusters'\n",
    "sc.tl.rank_genes_groups(mel_only, groupby='group', groups=['Cluster_9_10', 'Other_clusters'], method='t-test', key_added='rank_genes_cluster')\n",
    "\n",
    "# Visualize the top DE genes\n",
    "sc.pl.rank_genes_groups(mel_only, groupby='group', n_genes=10, key='rank_genes_cluster')\n"
   ],
   "outputs": [],
   "execution_count": null
  },
  {
   "cell_type": "code",
   "id": "8ce1035b-0b06-45fc-aa19-7184313b6bc9",
   "metadata": {},
   "source": [
    "sc.pl.rank_genes_groups_dotplot(mel_only, groupby='group', n_genes=30, key='rank_genes_cluster')\n"
   ],
   "outputs": [],
   "execution_count": null
  },
  {
   "cell_type": "code",
   "id": "4bece6dd-96f6-4e0c-a15b-ada9289dce9c",
   "metadata": {},
   "source": [
    "print(\"c9: \",mel_only.uns['rank_genes_groups']['names']['9'].tolist()[:100])"
   ],
   "outputs": [],
   "execution_count": null
  },
  {
   "cell_type": "code",
   "id": "13dc18c8-b038-4b48-85a9-54d0ad5fbf46",
   "metadata": {},
   "source": [
    "import scanpy as sc\n",
    "\n",
    "# Log-transform the raw count data (this modifies the raw data stored in adata.raw)\n",
    "sc.pp.log1p(mel_only.raw.X)  # Log-transform raw counts\n",
    "\n",
    "# Now normalize the data per cell (using log-transformed data)\n",
    "sc.pp.normalize_total(mel_only, target_sum=1e4)\n",
    "\n",
    "# Perform differential expression using the Wilcoxon method\n",
    "sc.tl.rank_genes_groups(mel_only, 'mel_leiden', method='wilcoxon', n_genes=200)\n",
    "\n",
    "# Filter the ranked genes\n",
    "sc.tl.filter_rank_genes_groups(mel_only)\n",
    "\n",
    "# Set figure size for visualizations\n",
    "from matplotlib import rcParams\n",
    "rcParams['figure.figsize'] = 4, 4\n",
    "rcParams['axes.grid'] = True\n",
    "\n",
    "# Plot the ranked genes as a dotplot\n",
    "axs = sc.pl.rank_genes_groups_dotplot(mel_only, n_genes=10, groups=['9', '10', '0', '1', '2', '3', '4'])\n"
   ],
   "outputs": [],
   "execution_count": null
  },
  {
   "cell_type": "code",
   "id": "bfef3f58-3b4f-47f8-91ea-3ea2a619c355",
   "metadata": {},
   "source": [
    "mel_only.obs['exclusive_clust'] = np.where(mel_only.obs['mel_leiden'].isin(['9', '10']), 'Malignant', 'Benign')\n",
    "\n",
    "#mel_only = mel[mel.obs['Level2'] == 'Melanocytes']\n",
    "\n",
    "#mel_only.raw=None\n",
    "sc.tl.rank_genes_groups(mel_only, 'exclusive_clust', method='wilcoxon', n_genes=200)\n",
    "sc.tl.filter_rank_genes_groups(mel_only)\n",
    "rcParams['figure.figsize'] = 4,4\n",
    "rcParams['axes.grid'] = True\n",
    "#sc.pl.rank_genes_groups(adata_KC_Basal, key='rank_genes_groups_filtered', ncols=3)\n",
    "\n",
    "axs = sc.pl.rank_genes_groups_dotplot(mel_only, n_genes=20, groups=['Malignant', 'Benign'])\n"
   ],
   "outputs": [],
   "execution_count": null
  },
  {
   "cell_type": "code",
   "id": "30a70db5-8731-4b3f-aa75-a50287472219",
   "metadata": {},
   "source": [
    "#mel_only = mel[mel.obs['Level2'] == 'Melanocytes']\n",
    "\n",
    "#mel_only.raw=None\n",
    "sc.tl.rank_genes_groups(mel_only, 'orig.ident', method='wilcoxon', n_genes=200)\n",
    "sc.tl.filter_rank_genes_groups(mel_only)\n",
    "rcParams['figure.figsize'] = 4,4\n",
    "rcParams['axes.grid'] = True\n",
    "#sc.pl.rank_genes_groups(adata_KC_Basal, key='rank_genes_groups_filtered', ncols=3)\n",
    "\n",
    "axs = sc.pl.rank_genes_groups_dotplot(mel_only, n_genes=20, groups=['MPS13'])\n"
   ],
   "outputs": [],
   "execution_count": null
  },
  {
   "cell_type": "code",
   "id": "26ef8f22-0211-42e6-b16c-8b455d6b5bed",
   "metadata": {},
   "source": [
    "#### edgeR ranodm pseudo"
   ],
   "outputs": [],
   "execution_count": null
  },
  {
   "cell_type": "code",
   "id": "75cb07a8-afa2-4f11-b49e-5f5a0ae731a9",
   "metadata": {},
   "source": [
    "def split_umap(adata, split_by, ncol=2, nrow=None, vmax=None, **kwargs):\n",
    "    adata.obs[split_by] = adata.obs[split_by].astype('category')\n",
    "    categories = adata.obs[split_by].cat.categories\n",
    "    if nrow is None:\n",
    "        nrow = int(np.ceil(len(categories) / ncol))\n",
    "    \n",
    "    fig, axs = plt.subplots(nrow, ncol, figsize=(5*ncol, 4*nrow))\n",
    "    axs = axs.flatten()\n",
    "    \n",
    "    for i, cat in enumerate(categories):\n",
    "        ax = axs[i]\n",
    "        # Adjust the color scale range using vmax (or vmin if desired)\n",
    "        sc.pl.umap(adata[adata.obs[split_by] == cat], ax=ax, show=False, title=cat, vmax=vmax, **kwargs)\n",
    "    \n",
    "    plt.tight_layout() \n",
    "    \n",
    "gene_sets = {\n",
    "    #'melano': mel_only.uns['rank_genes_groups']['names']['Malignant'].tolist()[:100],\n",
    "    'MPS13': mel_only.uns['rank_genes_groups']['names']['MPS13'].tolist()[:100],\n",
    "    'hub_genes':[\"FLG\", \"DSG1\", \"DSG3\", \"IVL\", \"EGFR\"], #https://www.ncbi.nlm.nih.gov/pmc/articles/PMC7596746/\n",
    "    #'edgeR':['MMP16','COL9A3','TIMP3','CNIH3','KCNN4','TBC1D10A','PPIB','XBP1','COL6A3','SRPX','ECM1','ALDH1A3','NES','SH3BGRL3','CCN3','PDIA3','SHTN1','SSR4','AQP1','BST2','FGFR1','TIMP1','LAP3','P4HB','CTHRC1','COL4A2','LGMN','TRAM1','CKAP4','WIPF1','AFAP1L2','CALU','IFI6','FN1','CAVIN3','PDIA6','DUSP6','MYDGF','CD276','MT2A','PKM','BCAP31','FKBP10','CTSK','PLEC','MIA','COL1A2','QDPR','LOXL4','PRNP','COL6A1','COL9A1','SLC5A3','METRN','ACSS2','IFI44','STAT1','SNED1','FGFBP2','IMPAD1','LY6E','FXYD5','KRT2','CC2D1A','AP1S2','IFI44L','IFI27','AKAP6','OAS3','S100A16','RCN1','SLC9A3','EMILIN1','COL6A2','CYTL1','PCOLCE','SOD3','MCAM','RNF125','BMP8B','OAF','SH2B3','DBNDD1','ITM2B','LY96','CD22','ANGPT1','DUSP5','MS4A2','OLFML3','SCML4','ITGB3','MPZ','ISLR','LOXL3','CD68','FCER1G','ITGA10','ITIH5','COL9A2','BAALC','THBS1','PLAUR','AGT','PRRX1','TNC','SLC20A1','WARS','MGP','ANO4','ECE1','LIMK1','S100A4','IER3','A2M','CD109','MX1','OAS1','CAPG','TGFBI','FABP5','HIST1H1B','COL4A1','IGFBP4','ISG15','S100A6'],\n",
    "    'edgeR':['COL5A2','DTL','ART3','DDX60L','EGR1','UCHL1','ADAMTS2','RFX8','ANGPTL7','NRN1','RELL1','AGT','CMPK2','LAP3','NENF','COL6A3','FLG','PDIA6','SOD3','BMP8B','SASS6','OLFML3','FCER1G','LOXL3','ITGA10','MPZ','EMILIN1','SLC9A3','IFI6','SLC20A1','CAPG','S100A6','PRRX1','S100A4','SERPINE2','ECE1','FN1','CYTL1','CTSK','QDPR','ITGA1','ECM1','TGFBI','COL9A2','LRP8','FYB1','CTNNBIP1','IGFBP2','TTL','ASPM','MTHFD2','MLLT11','KIF3C','HJURP','SIPA1L2','TRIP13','GALNT2','SHC1','PARP9','SH3BGRL3','AGA','TMEM158','FMOD','FHL2','GALNT5','BASP1','HERC6','DDX60','COL11A1','CYBRD1','ADCY3','FGFBP2','SDF4','GBA','STAT1','WIPF1','SPON2','SNED1','IFI44L','IFI44','NID1','PARP14','RAB7B','FGF1','S100A16','LBH','ISG15','PDLIM4','ACAP3','AGTRAP','ERRFI1','STIL','CTSS','RGS1','COLEC11','LRP2','SLC7A11','PLPP3','S100A2','CITED4'],\n",
    "    'seurat_FM':['MGP','ITIH5','S100A4','COL6A2','COL6A1','TIMP1','CTHRC1','LOXL3','LAMA4','ITGA10','COL1A2','PLEC','TIMP3','EMILIN1','MPZ','ISLR','SLC9A3','FCER1G','TNC','LGMN','ALDH1A3','SOD3','IER3','OLFML3','AQP1','OAF','FGFBP2','PCOLCE','ITGB3','LOXL4','SLC20A1','TGFBI','DUSP6','CC2D1A','PRNP','ACSS2','MYDGF','A2M','PPIB','AGT','FN1','AKAP6','CD109','PDIA3','MMP16','FGL2','PLAUR','IGFBP2','WFDC1','COL9A2','BMP8B','SCML4','RNF125','RCN1','AGMO','ANGPTL7','FREM2','FUCA2','MEOX2','SHTN1','LY6K','CST7','ANO4','PLPP3','SLC5A3','ANGPT1','FMOD','COL15A1','DUSP5','STRA6','TRAF1','COL11A2','LIF','THBS1','ECRG4','LRP1B','SP140','CSPG5','ADGRL3','EYA4','PLP2','FHL2','SERPING1','MMP15','CTSG','TTR','KDELR3','FKBP14','NOLC1','GASK1B','HERC5','RITA1','TC2N','NPW','BRCA1','SORL1','EME1','YIPF2','IL2RG','ITGA7','CD52','MATN3','CFB','CITED4','CSF2RA','SERTAD1','DLGAP1','ANKH','CPED1','EGFL7','CABP4','TRPM3','LUM','OSBP2','FECH','TMEM143']\n",
    "} #\"GDF15\"=\"PLAB\", MLANA=MART1\n",
    "# Calculate and add module scores\n",
    "for name, genes in gene_sets.items():\n",
    "    sc.tl.score_genes(mel_only, gene_list=genes, score_name=name)\n",
    "\n",
    "# Inspect the results\n",
    "#print(mel.obs.head())\n",
    "#idata.obs['cancer'] = ['cancer' if x == 'KC Cancer' else 'Others' for x in scc.obs['Level3_Cancer']]\n",
    "#idata.obs['cancer'] = idata.obs['cancer'].astype('category')\n",
    "\n",
    "# Plot the module scores\n",
    "#split_umap(mel_only, color=['melano'], size=30,split_by='status')\n",
    "split_umap(mel_only, color=['seurat_FM'], size=30,split_by='status',vmax=1)\n",
    "split_umap(mel_only, color=['edgeR'], size=30,split_by='status',vmax=5)\n",
    "split_umap(mel_only, color=['melano'], size=30,split_by='status',vmax=5)\n",
    "split_umap(mel_only, color=['MPS13'], size=30,split_by='status',vmax=5)\n",
    "\n",
    "\n",
    "#split_umap(scc, color = ['InferCNV_and_CopyKAT_aneuploid'], split_by='cancer_status',legend_loc = \"right margin\")\n"
   ],
   "outputs": [],
   "execution_count": null
  },
  {
   "cell_type": "code",
   "id": "73aa5845-b80d-46c5-92e1-14b40c0bc865",
   "metadata": {},
   "source": [],
   "outputs": [],
   "execution_count": null
  },
  {
   "cell_type": "code",
   "id": "dedde71c-f81f-493e-b52b-d0bccc0f578f",
   "metadata": {},
   "source": [],
   "outputs": [],
   "execution_count": null
  },
  {
   "cell_type": "code",
   "id": "6af092f3-55b8-46d1-ab6b-d3fe3be475f2",
   "metadata": {},
   "source": [
    "\n",
    "# Step 1: Subset rna_data to include only cells in mel_only\n",
    "rna_data_subset = rna_adata[rna_adata.obs.index.isin(mel_only.obs.index), :]\n",
    "\n",
    "# Step 2: Add 'Level2' from mel_only.obs to rna_data_subset.obs\n",
    "rna_data_subset.obs['Level2'] = mel_only.obs.loc[rna_data_subset.obs.index, 'Level2']\n",
    "rna_data_subset.obs['status'] = mel_only.obs.loc[rna_data_subset.obs.index, 'status']\n",
    "rna_data_subset.obs['mel_leiden'] = mel_only.obs.loc[rna_data_subset.obs.index, 'mel_leiden']\n",
    "\n",
    "# Now rna_data_subset will have the 'Level2' column from mel_only for matching cells\n"
   ],
   "outputs": [],
   "execution_count": null
  },
  {
   "cell_type": "code",
   "id": "ccabf0ff-1ad6-49f9-a9d6-64b66463a66b",
   "metadata": {},
   "source": [
    "#mel_only = mel[mel.obs['Level2'] == 'Melanocytes']\n",
    "\n",
    "#rna_data_subset.raw=None\n",
    "sc.tl.rank_genes_groups(rna_data_subset, 'status', method='wilcoxon', n_genes=200)\n",
    "sc.tl.filter_rank_genes_groups(rna_data_subset)\n",
    "rcParams['figure.figsize'] = 4,4\n",
    "rcParams['axes.grid'] = True\n",
    "#sc.pl.rank_genes_groups(adata_KC_Basal, key='rank_genes_groups_filtered', ncols=3)\n",
    "\n",
    "axs = sc.pl.rank_genes_groups_dotplot(rna_data_subset, n_genes=20, groups=['Malignant','Benign'])\n"
   ],
   "outputs": [],
   "execution_count": null
  },
  {
   "cell_type": "code",
   "id": "4dda1ef8-584d-4916-8e0c-3356c415216e",
   "metadata": {},
   "source": [
    "\n",
    "gene_sets = {\n",
    "    'melano_raw': rna_data_subset.uns['rank_genes_groups']['names']['Malignant'].tolist()[:100],\n",
    "} #\"GDF15\"=\"PLAB\", MLANA=MART1\n",
    "# Calculate and add module scores\n",
    "for name, genes in gene_sets.items():\n",
    "    sc.tl.score_genes(mel_only, gene_list=genes, score_name=name)\n",
    "\n",
    "# Inspect the results\n",
    "#print(mel.obs.head())\n",
    "#idata.obs['cancer'] = ['cancer' if x == 'KC Cancer' else 'Others' for x in scc.obs['Level3_Cancer']]\n",
    "#idata.obs['cancer'] = idata.obs['cancer'].astype('category')\n",
    "\n",
    "\n",
    "split_umap(mel_only, color=['melano_raw'], size=30,split_by='status',vmax=2)\n",
    "\n",
    "\n",
    "#split_umap(scc, color = ['InferCNV_and_CopyKAT_aneuploid'], split_by='cancer_status',legend_loc = \"right margin\")\n"
   ],
   "outputs": [],
   "execution_count": null
  },
  {
   "cell_type": "code",
   "id": "f27aa8ff-eec7-499d-bc81-792c921fd062",
   "metadata": {},
   "source": [
    "sc.tl.rank_genes_groups(mel_only, groupby=\"mel_leiden\", method=\"wilcoxon\")\n",
    "sc.tl.dendrogram(mel_only, groupby=\"mel_leiden\")\n",
    "sc.pl.rank_genes_groups_dotplot(\n",
    "    mel_only, groupby=\"mel_leiden\", standard_scale=\"var\", n_genes=5\n",
    ")"
   ],
   "outputs": [],
   "execution_count": null
  },
  {
   "cell_type": "code",
   "id": "5b9ecf0a-dba6-47a3-a5fd-ff022e4a3264",
   "metadata": {},
   "source": [
    "sc.tl.rank_genes_groups(mel_noraw, groupby=\"mel_leiden\", method=\"wilcoxon\")\n",
    "sc.pl.rank_genes_groups_dotplot(\n",
    "    mel_noraw, groupby=\"mel_leiden\", standard_scale=\"var\", n_genes=5\n",
    ")"
   ],
   "outputs": [],
   "execution_count": null
  },
  {
   "cell_type": "code",
   "id": "e2dbde03-fbe7-428b-8cd0-ca100b3221b1",
   "metadata": {},
   "source": [
    "    \n",
    "gene_sets = {\n",
    "    'melano_clus9': mel_noraw.uns['rank_genes_groups']['names']['9'].tolist()[:100],\n",
    "} #\"GDF15\"=\"PLAB\", MLANA=MART1\n",
    "# Calculate and add module scores\n",
    "for name, genes in gene_sets.items():\n",
    "    sc.tl.score_genes(mel_noraw, gene_list=genes, score_name=name)\n",
    "\n",
    "# Inspect the results\n",
    "#print(mel.obs.head())\n",
    "#idata.obs['cancer'] = ['cancer' if x == 'KC Cancer' else 'Others' for x in scc.obs['Level3_Cancer']]\n",
    "#idata.obs['cancer'] = idata.obs['cancer'].astype('category')\n",
    "\n",
    "# Plot the module scores\n",
    "#split_umap(mel_only, color=['melano'], size=30,split_by='status')\n",
    "split_umap(mel_noraw, color=['melano_clus9'], size=30,split_by='status', vmax=2)\n",
    "\n",
    "\n",
    "#split_umap(scc, color = ['InferCNV_and_CopyKAT_aneuploid'], split_by='cancer_status',legend_loc = \"right margin\")\n"
   ],
   "outputs": [],
   "execution_count": null
  },
  {
   "cell_type": "code",
   "id": "f8f4b25a-fe50-45ab-9b0d-b9006fa1560e",
   "metadata": {},
   "source": [],
   "outputs": [],
   "execution_count": null
  },
  {
   "cell_type": "code",
   "id": "c7f60668-cc45-4d25-99a1-45734546a560",
   "metadata": {},
   "source": [],
   "outputs": [],
   "execution_count": null
  },
  {
   "cell_type": "code",
   "id": "d2679b86-bfff-4a69-b033-c861769fdd60",
   "metadata": {},
   "source": [],
   "outputs": [],
   "execution_count": null
  },
  {
   "cell_type": "code",
   "id": "c1ec4d15-960d-452a-8a80-085bda96bdba",
   "metadata": {},
   "source": [],
   "outputs": [],
   "execution_count": null
  },
  {
   "cell_type": "markdown",
   "id": "58476506-eb9f-4959-acb9-595ce516d57b",
   "metadata": {},
   "source": [
    "# Final Clean object"
   ]
  },
  {
   "cell_type": "code",
   "id": "b04c151a-d0a5-42d3-8c0c-aee6ccbef1d6",
   "metadata": {},
   "source": [],
   "outputs": [],
   "execution_count": null
  },
  {
   "cell_type": "code",
   "id": "d2599981-75ea-4396-aed8-1d18ee080013",
   "metadata": {},
   "source": [
    "import scanpy as sc\n",
    "import matplotlib.pyplot as plt\n",
    "\n",
    "# Your existing color dictionary\n",
    "color_dict = {\n",
    "    \"DC\": \"#5F9EA0\",\n",
    "    \"Endothelial cell\": \"#FFA500\",\n",
    "    \"Fibroblast\": \"#458B00\",\n",
    "    \"KC Basal\": \"#FF6A6A\",\n",
    "    \"KC Cornified\": \"#8B3A62\",\n",
    "    \"KC Granular\": \"#bf6290\",\n",
    "    \"KC Differentiating\": \"#AB82FF\",\n",
    "    \"KC Cancer\": \"#000000\",\n",
    "    \"KC Hair\": \"#FF0000\",\n",
    "    \"LC\": \"#0000CD\",\n",
    "    \"Macrophage\": \"#EEEE00\",\n",
    "    \"Melanocytes\": \"#8B4513\",\n",
    "    \"Melanoma\": \"#000000\",\n",
    "    \"NK\": \"#9ACD32\",\n",
    "    \"T cell\": \"#1874CD\",\n",
    "    \"Treg\": \"#00B2EE\",\n",
    "    \"pDC\": \"#8A2BE2\",\n",
    "    \"Mast cell\": \"#ab2952\",\n",
    "    \"mRegDC\":\"#809693\", 'CD8+ T cell': \"#7a4900\",\"B cell\":\"#ffaa92\",\"Pericytes\":\"#dba465\",\"Sweat gland related\":\"#6f9c57\",\"nan\":\"grey\"\n",
    "}\n",
    "\n",
    "# Ensure that your 'Level3' labels match the keys in the color_dict\n",
    "# Example of setting up UMAP\n",
    "sc.pl.umap(\n",
    "    rna_adata,  # Your AnnData object\n",
    "    color='Level3',  # Assuming 'Level3' is the categorical variable you want to color by\n",
    "    palette=color_dict,  # Use your color dictionary\n",
    "    show=True,  # Set to False if you don't want to display the plot immediately\n",
    ")\n",
    "\n",
    "# Optimize layout\n",
    "plt.tight_layout()\n",
    "plt.show()\n"
   ],
   "outputs": [],
   "execution_count": null
  },
  {
   "cell_type": "code",
   "id": "6573e49a-139e-4e42-ad40-f8a840949ab6",
   "metadata": {},
   "source": [
    "sc.pl.umap(\n",
    "    rna_adata,  # Your AnnData object\n",
    "    color='Level3',  # Assuming 'Level3' is the categorical variable you want to color by  # Use your color dictionary\n",
    "    legend_loc='on data',  # Set to False if you don't want to display the plot immediately\n",
    ")"
   ],
   "outputs": [],
   "execution_count": null
  },
  {
   "cell_type": "code",
   "id": "b9194004-a411-418d-bc2b-09b7bcc54eb8",
   "metadata": {},
   "source": [
    "rna_adata.write('skin_atlas/Melanoma_sc_reproduced_final_oct23.h5ad')\n"
   ],
   "outputs": [],
   "execution_count": null
  },
  {
   "cell_type": "code",
   "id": "049ca44f-05be-4526-82cf-cc0ea8b53183",
   "metadata": {},
   "source": [
    "sc.pl.umap(\n",
    "    rna_adata,  # Your AnnData object\n",
    "    color=[\"Level1\",\"Level2\",'Level3'],  # Assuming 'Level3' is the categorical variable you want to color by  # Use your color dictionary\n",
    "    legend_loc='on data',  # Set to False if you don't want to display the plot immediately\n",
    ")"
   ],
   "outputs": [],
   "execution_count": null
  },
  {
   "cell_type": "code",
   "id": "2aa2bf49-c193-4024-a556-b80fb546419a",
   "metadata": {},
   "source": [
    "rna_adata"
   ],
   "outputs": [],
   "execution_count": null
  },
  {
   "cell_type": "code",
   "id": "48bed6a4-3f90-4eb3-a094-0b9b02ea20bc",
   "metadata": {},
   "source": [
    "import anndata\n",
    "rna_adata=anndata.read('/QRISdata/Q2051/SCC_Paper/resources/data/frozen_objects_Nov2024_PP/Melanoma_final_object_Nov10.h5ad')\n"
   ],
   "outputs": [],
   "execution_count": null
  },
  {
   "cell_type": "code",
   "id": "60c2498f-df41-4a21-ab30-11fbbff6261d",
   "metadata": {},
   "source": [
    "rna_adata"
   ],
   "outputs": [],
   "execution_count": null
  },
  {
   "cell_type": "code",
   "id": "8b663780-507d-4742-b81c-c9b788b664cd",
   "metadata": {},
   "source": [
    "sc.pl.umap(\n",
    "    rna_adata,  # Your AnnData object\n",
    "    color='Level1',  # Assuming 'Level3' is the categorical variable you want to color by\n",
    "    show=True,  # Set to False if you don't want to display the plot immediately\n",
    ")\n"
   ],
   "outputs": [],
   "execution_count": null
  },
  {
   "cell_type": "code",
   "id": "13034cb4-723b-403b-b750-35ad32e43178",
   "metadata": {},
   "source": [],
   "outputs": [],
   "execution_count": null
  },
  {
   "cell_type": "code",
   "id": "3b9ecf6a-5046-452f-b077-464a5cc75a5f",
   "metadata": {},
   "source": [],
   "outputs": [],
   "execution_count": null
  },
  {
   "cell_type": "code",
   "id": "64cd7409-e4a3-46a9-a260-8632baa318c0",
   "metadata": {},
   "source": [],
   "outputs": [],
   "execution_count": null
  },
  {
   "cell_type": "code",
   "id": "3cf6d46e-4794-4ef2-8ed9-76d24a4da217",
   "metadata": {},
   "source": [
    "mel=anndata.read(\"/QRISdata/Q2051/SCC_Paper/resources/data/frozen_objects_Nov2024_PP/old_versions/Melanoma_sc_reproduced_final_Nov6.h5ad\")\n",
    "mel"
   ],
   "outputs": [],
   "execution_count": null
  },
  {
   "cell_type": "code",
   "id": "1272d0cc-d9b4-4676-a9b5-b98b6a5be360",
   "metadata": {},
   "source": [
    "mel.obs['Level2'].unique().to_list()"
   ],
   "outputs": [],
   "execution_count": null
  },
  {
   "cell_type": "code",
   "id": "3c817e7b-8ab8-4fd1-bb80-a21554635534",
   "metadata": {},
   "source": [
    "mel.obs['Level2'] = mel.obs['Level2'].str.replace('cell', 'Cell')\n",
    "\n",
    "\n",
    "# Your existing color dictionary\n",
    "level2_color_dict = {\n",
    "    \"DC\": \"#5F9EA0\",\n",
    "    \"Endothelial Cell\": \"#FFA500\",\n",
    "    \"Fibroblast\": \"#458B00\",\n",
    "    \"KC Basal\": \"#FF6A6A\",\n",
    "    \"KC Cornified\": \"#8B3A62\",\n",
    "    \"KC Granular\": \"#7d4a63\",\n",
    "    \"KC Differentiating\": \"#AB82FF\",\n",
    " #   \"KC Cancer\": \"#000000\",\n",
    "    \"KC Hair\": \"#FF0000\",\n",
    "    \"LC\": \"#0000CD\",\n",
    "    \"Macrophage\": \"#EEEE00\",\n",
    "    \"Melanocytes\": \"#8B4513\",\n",
    "    \"Melanoma\": \"#000000\",\n",
    "    \"NK\": \"#9ACD32\",\n",
    "    \"T Cell\": \"#1874CD\",\n",
    "    \"Mast Cell\": \"#ab2952\",\n",
    "\"B Cell\":\"#ffaa92\",\"Pericytes\":\"#dba465\",\"Sweat gland related\":\"#6f9c57\",   'Schwann Cell':'#737475'\n",
    "}\n",
    "\n",
    "# Ensure that your 'Level3' labels match the keys in the color_dict\n",
    "# Example of setting up UMAP\n",
    "sc.pl.umap(\n",
    "    mel,  # Your AnnData object\n",
    "    color='Level2',  # Assuming 'Level3' is the categorical variable you want to color by\n",
    "    palette=level2_color_dict,  # Use your color dictionary\n",
    "    show=True,  # Set to False if you don't want to display the plot immediately\n",
    ")\n",
    "\n",
    "# Optimize layout\n",
    "plt.tight_layout()\n",
    "plt.show()\n"
   ],
   "outputs": [],
   "execution_count": null
  },
  {
   "cell_type": "code",
   "id": "47975bca-38c0-4261-9a74-4dbdb06f5935",
   "metadata": {},
   "source": [
    "mel.obs['Level3'].unique().tolist()"
   ],
   "outputs": [],
   "execution_count": null
  },
  {
   "cell_type": "code",
   "id": "d24b8853-5e80-41e7-8d4a-6cb76b7f4fe0",
   "metadata": {},
   "source": [
    "\n",
    "color_dict = {\n",
    "    \"DC\": \"#5F9EA0\",\n",
    "    \"Endothelial Cell\": \"#FFA500\",\n",
    "    \"Fibroblast\": \"#458B00\",\n",
    "    \"KC Basal\": \"#FF6A6A\",\n",
    "    \"KC Cornified\": \"#8B3A62\",\n",
    "    \"KC Granular\": \"#7d4a63\",\n",
    "    \"KC Differentiating\": \"#AB82FF\",\n",
    "    \"KC Hair\": \"#FF0000\",\n",
    "    \"LC\": \"#0000CD\",\n",
    "    \"Macrophage\": \"#EEEE00\",\n",
    "    \"Melanocytes\": \"#8B4513\",\n",
    "    \"Melanoma\": \"#000000\",\n",
    "    \"NK\": \"#9ACD32\",\n",
    "    \"T Cell\": \"#1874CD\",\n",
    "    \"Treg\": \"#00B2EE\",\n",
    "    \"pDC\": \"#8A2BE2\",\n",
    "    \"Mast Cell\": \"#ab2952\",\n",
    "    \"mRegDC\":\"#809693\",\n",
    "    'CD8+ T Cell': \"#3f6573\",\n",
    "    \"B Cell\":\"#ffaa92\",\n",
    "    \"Pericytes\":\"#dba465\",\n",
    "    \"Sweat gland related\":\"#6f9c57\",\n",
    "    \"nan\":\"grey\",\n",
    "    'Schwann Cell':'#737475'\n",
    "}\n",
    "\n",
    "# Ensure that your 'Level3' labels match the keys in the color_dict\n",
    "# Example of setting up UMAP\n",
    "sc.pl.umap(\n",
    "    mel,  # Your AnnData object\n",
    "    color='Level3',  # Assuming 'Level3' is the categorical variable you want to color by\n",
    "    palette=color_dict,  # Use your color dictionary\n",
    "    show=True,  # Set to False if you don't want to display the plot immediately\n",
    ")\n"
   ],
   "outputs": [],
   "execution_count": null
  },
  {
   "cell_type": "code",
   "id": "462697da-0a4e-4263-8bd7-87c26c751ddc",
   "metadata": {},
   "source": [
    "sc.pl.umap(\n",
    "    mel,  # Your AnnData object\n",
    "    color=['Level1','Level2','Level3'], # Assuming 'Level3' is the categorical variable you want to color by\n",
    "    show=True,  # Set to False if you don't want to display the plot immediately\n",
    ")\n"
   ],
   "outputs": [],
   "execution_count": null
  },
  {
   "cell_type": "code",
   "id": "64939b3c-c556-4049-ab39-6296551c2306",
   "metadata": {},
   "source": [
    "mel.write('/QRISdata/Q2051/SCC_Paper/resources/data/frozen_objects_Nov2024_PP/Melanoma_final_object_Nov10.h5ad')\n"
   ],
   "outputs": [],
   "execution_count": null
  },
  {
   "cell_type": "code",
   "id": "376cccc9-d0aa-4fbc-a84a-42489da09fe0",
   "metadata": {},
   "source": [],
   "outputs": [],
   "execution_count": null
  },
  {
   "cell_type": "code",
   "id": "14981268-9352-4b07-b55e-802fe059e873",
   "metadata": {},
   "source": [
    "sc.pl.umap(\n",
    "    mel,  # Your AnnData object\n",
    "    color=['leiden'], # Assuming 'Level3' is the categorical variable you want to color by\n",
    "    show=True, legend_loc=\"on data\"  # Set to False if you don't want to display the plot immediately\n",
    ")\n"
   ],
   "outputs": [],
   "execution_count": null
  },
  {
   "cell_type": "code",
   "id": "78824aaf-c687-4a94-955a-2b044670e8f8",
   "metadata": {},
   "source": [
    "sc.tl.leiden(mel, resolution=0.2, restrict_to=(\"leiden\", [\"7\"]))\n",
    "\n",
    "#sc.tl.leiden(idata, resolution=0.2, restrict_to=(\"leiden_R\", [\"4\"]))\n",
    "#sc.tl.leiden(idata, resolution=0.2, restrict_to=(\"leiden_R\", [\"6\"]))\n",
    "sc.pl.umap(mel, color=\"leiden_R\", legend_loc=\"on data\", legend_fontoutline=2)"
   ],
   "outputs": [],
   "execution_count": null
  },
  {
   "cell_type": "code",
   "id": "e0701ed1-e380-49ae-9abd-3ed111effd2b",
   "metadata": {},
   "source": [
    "imm_only = mel[mel.obs['Level2'] == 'Macrophage'].copy()\n",
    "sc.pl.umap(imm_only, color=\"leiden_R\", legend_loc=\"on data\", legend_fontoutline=2)"
   ],
   "outputs": [],
   "execution_count": null
  },
  {
   "cell_type": "code",
   "id": "bd89b56e-4fed-4e81-a579-cc2c26229213",
   "metadata": {},
   "source": [
    "# Immune subclusters\n",
    "sc.pl.dotplot(\n",
    "    imm_only,\n",
    "    {\n",
    "        \"General\": [\"ITGAM\"],\n",
    "        \"Melanocyte\": [\"MITF\",\"PMEL\",\"TYR\",\"DCT\",\"MLANA\",\"PMEL\",\"S100A1\"], \n",
    "        \"LC\": [\"CD207\", \"EPCAM\", \"ITGAX\"],\n",
    "        \"Monocyte\": [\"CCR2\", \"CD14\", \"S100A8\", \"S100A9\", \"CX3CR1\"],\n",
    "        \"DC1\": [\"XCR1\", \"CLEC9A\"],\n",
    "        \"DC2\": [\"CLEC10A\", \"THBD\"],\n",
    "        \"DC3\": [\"CSF3R\", \"CSF2RA\"],\n",
    "        \"mRegDC\": [\"LAMP3\", \"CCR7\"],\n",
    "        \"pDC\": [\"IL3RA\", \"KIT\", \"IRF8\"],\n",
    "        \"Mac\": [\n",
    "            \"C1QA\",\n",
    "            \"TREM2\",\n",
    "            \"SIGLEC1\",\n",
    "            \"CD68\",\n",
    "            \"LYVE1\",\n",
    "            \"ARG1\",\n",
    "            \"CD163\",\n",
    "        ],\n",
    "        \"prolif\": [\"UBE2C\",\"NUSAP1\",\"MKI67\"],\n",
    "        \"IFN\": [\"ISG15\", \"IFI27\", \"STAT1\"],\n",
    "   \n",
    "   \n",
    "\n",
    "\n",
    "    },\n",
    "    standard_scale=\"var\",\n",
    "    color_map=\"Blues\",\n",
    "    groupby=\"leiden_R\",\n",
    ") #\"leiden_res0_25\""
   ],
   "outputs": [],
   "execution_count": null
  },
  {
   "cell_type": "code",
   "id": "0610aafb-ee5e-41bb-b6c0-00b694c1099d",
   "metadata": {},
   "source": [
    "sc.tl.leiden(imm_only, resolution=0.2, restrict_to=(\"leiden\", [\"7\"]))\n",
    "\n",
    "#sc.tl.leiden(idata, resolution=0.2, restrict_to=(\"leiden_R\", [\"4\"]))\n",
    "#sc.tl.leiden(idata, resolution=0.2, restrict_to=(\"leiden_R\", [\"6\"]))\n",
    "sc.pl.umap(imm_only, color=\"leiden_R\", legend_loc=\"on data\", legend_fontoutline=2)"
   ],
   "outputs": [],
   "execution_count": null
  },
  {
   "cell_type": "code",
   "id": "24ee709f-6f17-4f7e-bb74-c4bc2cc89787",
   "metadata": {},
   "source": [
    "# Immune subclusters\n",
    "imm_only.raw = None\n",
    "\n",
    "sc.pl.dotplot(\n",
    "    imm_only,\n",
    "    {\n",
    "        \"General\": [\"ITGAM\"],\n",
    "        \"Melanocyte\": [\"MITF\",\"PMEL\",\"TYR\",\"DCT\",\"MLANA\",\"PMEL\",\"S100A1\"], \n",
    "        \"LC\": [\"CD207\", \"EPCAM\", \"ITGAX\"],\n",
    "        \"Monocyte\": [\"CCR2\", \"CD14\", \"S100A8\", \"S100A9\", \"CX3CR1\"],\n",
    "        \"DC1\": [\"XCR1\", \"CLEC9A\"],\n",
    "        \"DC2\": [\"CLEC10A\", \"THBD\"],\n",
    "        \"DC3\": [\"CSF3R\", \"CSF2RA\"],\n",
    "        \"mRegDC\": [\"LAMP3\", \"CCR7\"],\n",
    "        \"pDC\": [\"IL3RA\", \"KIT\", \"IRF8\"],\n",
    "        \"Mac\": [\n",
    "            \"C1QA\",\n",
    "            \"TREM2\",\n",
    "            \"SIGLEC1\",\n",
    "            \"CD68\",\n",
    "            \"LYVE1\",\n",
    "            \"ARG1\",\n",
    "            \"CD163\",\n",
    "        ],\n",
    "        \"prolif\": [\"UBE2C\",\"NUSAP1\",\"MKI67\"],\n",
    "        \"IFN\": [\"ISG15\", \"IFI27\", \"STAT1\"],\n",
    "    },\n",
    "    standard_scale=\"var\",\n",
    "    color_map=\"Blues\",\n",
    "    groupby=\"leiden_R\",\n",
    ") #\"leiden_res0_25\""
   ],
   "outputs": [],
   "execution_count": null
  },
  {
   "cell_type": "code",
   "id": "78a41451-78bd-4286-b03d-62abafe55e9b",
   "metadata": {},
   "source": [
    "mel.X"
   ],
   "outputs": [],
   "execution_count": null
  },
  {
   "cell_type": "markdown",
   "id": "0281ff74-df31-4638-b8ba-bd7e728369e4",
   "metadata": {},
   "source": [
    "# Paper figs"
   ]
  },
  {
   "cell_type": "code",
   "id": "463ee4d7-a87e-41ce-b1fe-5721624d954c",
   "metadata": {},
   "source": [
    "rna_adata=anndata.read('/QRISdata/Q2051/SCC_Paper/resources/data/frozen_objects_Nov2024_PP/Melanoma_final_object_Nov10.h5ad')\n"
   ],
   "outputs": [],
   "execution_count": null
  },
  {
   "cell_type": "code",
   "id": "0004de9c-dbe9-4506-a501-fe371a66a633",
   "metadata": {
    "scrolled": true
   },
   "source": [
    "with plt.rc_context({\"figure.figsize\": (8, 8), \"figure.dpi\": (300)}):\n",
    "    sc.pl.umap(rna_adata, color=\"Level3\", legend_fontoutline=2,show=False)\n",
    "    plt.savefig(\"/scratch/project/stseq/Prakrithi/skin_atlas/reanalysis_figs/mel/Level3.pdf\", bbox_inches=\"tight\")"
   ],
   "outputs": [],
   "execution_count": null
  },
  {
   "cell_type": "code",
   "id": "accfa560-4b62-4f82-900c-031d0f4c8e4d",
   "metadata": {
    "scrolled": true
   },
   "source": [
    "with plt.rc_context({\"figure.figsize\": (8, 8), \"figure.dpi\": (300)}):\n",
    "    sc.pl.umap(rna_adata, color=\"Level2\", legend_fontoutline=2,show=False)\n",
    "    plt.savefig(\"/scratch/project/stseq/Prakrithi/skin_atlas/reanalysis_figs/mel/Level2.pdf\", bbox_inches=\"tight\")"
   ],
   "outputs": [],
   "execution_count": null
  },
  {
   "cell_type": "code",
   "id": "43ff2b38-d00f-48df-a39b-b654777b3819",
   "metadata": {},
   "source": [
    "rna_adata.obs['Level3'].unique().tolist()"
   ],
   "outputs": [],
   "execution_count": null
  },
  {
   "cell_type": "code",
   "id": "0c4cc06b-ce83-49ac-9f28-4aea8168de05",
   "metadata": {
    "scrolled": true
   },
   "source": [
    "import pandas as pd\n",
    "rna_adata.raw = None\n",
    "\n",
    "# Define the desired order of 'Level3' categories\n",
    "level3_order = [\n",
    "    'KC Basal',\n",
    "    'KC Differentiating',\n",
    "    'KC Cornified',\n",
    "    'KC Granular',\n",
    "    'KC Hair',\n",
    "    'Mast Cell',\n",
    "    'LC',\n",
    "    'pDC',\n",
    "    'mRegDC',\n",
    "    'DC',\n",
    "    'Macrophage',\n",
    "    'NK',\n",
    "    'T Cell',\n",
    "    'Treg',\n",
    "    'CD8+ T Cell',\n",
    "    'B Cell',\n",
    "    'Melanocytes',\n",
    "    'Melanoma',\n",
    "    'Endothelial Cell',\n",
    "    'Fibroblast',\n",
    "    'Pericytes',\n",
    "    'Sweat gland related',\n",
    "]\n",
    "\n",
    "# Set 'Level3' as a categorical variable with the defined order\n",
    "rna_adata.obs['Level3'] = pd.Categorical(\n",
    "    rna_adata.obs['Level3'], \n",
    "    categories=level3_order, \n",
    "    ordered=True\n",
    ")\n",
    "with plt.rc_context({\"figure.figsize\": (8, 8), \"figure.dpi\": (300)}):\n",
    "  #Now plot the dotplot with the custom order\n",
    "    sc.pl.dotplot(\n",
    "    rna_adata,\n",
    "    { \"Category1\": ['KRT15','COL7A1','COL17A1','KRT2','KRT10','DMKN','SBSN','SPINK5',\n",
    "                    'LOR', 'KRT2', 'KLK11',\n",
    "                    'ACSL1','HDC','VWA5A','MS4A2',\n",
    "      'SLC18A2','FCGBP','CD207','WDFY4','IRF8','SPI1','CD68','MS4A6A','IGKC','CORO1A','AKNA','ACAP1','CD3E','CD8A','CD79A','CD22','FOXP3','DCT','MLANA','TYRP1','PMEL',\n",
    "      'LY6E','SERPINE2','CDH5','PECAM1','EGFL7','COL6A1','COL6A2','DCN','KRT79','KRT7','KRT19','SCGB2A2']},\n",
    "    standard_scale=\"var\",\n",
    "    color_map=\"Reds\",\n",
    "    groupby=\"Level3\", figsize=(18, 6) , show=False\n",
    ")\n",
    "    plt.savefig(\"/scratch/project/stseq/Prakrithi/skin_atlas/reanalysis_figs/mel/Level3_dotplot.pdf\", bbox_inches=\"tight\")\n",
    "#"
   ],
   "outputs": [],
   "execution_count": null
  },
  {
   "cell_type": "code",
   "id": "d55b0853-5170-4a56-8548-4235183f215a",
   "metadata": {},
   "source": [
    "rna_adata.obs['Level2'].unique().tolist()"
   ],
   "outputs": [],
   "execution_count": null
  },
  {
   "cell_type": "code",
   "id": "3f584cc9-b3d1-4dea-8b7f-93ebfebe517a",
   "metadata": {
    "scrolled": true
   },
   "source": [
    "import pandas as pd\n",
    "rna_adata.raw = None\n",
    "\n",
    "# Define the desired order of 'Level3' categories\n",
    "level3_order = [\n",
    "    'KC Basal',\n",
    "    'KC Differentiating',\n",
    "    'KC Cornified',\n",
    "    'KC Granular',\n",
    "    'KC Hair',\n",
    "    'Mast Cell',\n",
    "    'LC',\n",
    "    'DC',\n",
    "    'Macrophage',\n",
    "    'NK',\n",
    "    'T Cell',\n",
    "    'B Cell',\n",
    "    'Melanocytes',\n",
    "    'Endothelial Cell',\n",
    "    'Fibroblast',\n",
    "    'Pericytes',\n",
    "    'Sweat gland related',\n",
    "]\n",
    "\n",
    "# Set 'Level3' as a categorical variable with the defined order\n",
    "rna_adata.obs['Level2'] = pd.Categorical(\n",
    "    rna_adata.obs['Level2'], \n",
    "    categories=level3_order, \n",
    "    ordered=True\n",
    ")\n",
    "with plt.rc_context({\"figure.figsize\": (8, 8), \"figure.dpi\": (300)}):\n",
    "  #Now plot the dotplot with the custom order\n",
    "    sc.pl.dotplot(\n",
    "    rna_adata,\n",
    "    { \"Category1\": ['KRT15','COL7A1','COL17A1','KRT2','KRT10','DMKN','SBSN','SPINK5',\n",
    "                    'LOR', 'KRT2', 'KLK11',\n",
    "                    'ACSL1','HDC','VWA5A','MS4A2',\n",
    "      'SLC18A2','FCGBP','CD207','WDFY4','IRF8','SPI1','CD68','MS4A6A','IGKC','CORO1A','AKNA','ACAP1','CD3E','CD8A','CD79A','CD22','FOXP3','DCT','MLANA','TYRP1','PMEL',\n",
    "      'LY6E','SERPINE2','CDH5','PECAM1','EGFL7','COL6A1','COL6A2','DCN','KRT79','KRT7','KRT19','SCGB2A2']},\n",
    "    standard_scale=\"var\",\n",
    "    color_map=\"Reds\",\n",
    "    groupby=\"Level2\", figsize=(18, 6),show=False\n",
    ")\n",
    "    plt.savefig(\"/scratch/project/stseq/Prakrithi/skin_atlas/reanalysis_figs/mel/Level2_dotplot.pdf\", bbox_inches=\"tight\")\n",
    "#"
   ],
   "outputs": [],
   "execution_count": null
  },
  {
   "cell_type": "code",
   "id": "f6740859-de03-4eb5-b202-b843e521b30d",
   "metadata": {},
   "source": [
    "import scanpy as sc\n",
    "import pandas as pd\n",
    "import numpy as np\n",
    "import matplotlib.pyplot as plt\n",
    "\n",
    "#rna_adata.obs['copykat_pred']=rna_adata.obs['copykat_pred']\n",
    "#rna_adata.obs['infercnv_pred']=rna_adata_OLD.obs['infercnv_pred']\n",
    "\n",
    "\n",
    "mel_only = rna_adata[rna_adata.obs['Level2'] == 'Melanocytes'].copy() #original_Level2\n",
    "# Lower dimension embedding - UMAP and clustering\n",
    "sc.pp.neighbors(mel_only, n_neighbors=30, n_pcs=75)\n",
    "sc.tl.umap(mel_only)\n",
    "sc.tl.leiden(mel_only, resolution=1)\n",
    "#sc.pl.umap(mel_only, color=['leiden'] , legend_loc = 'best')\n",
    "\n",
    "\n",
    "# Ensure `mel_only` is your AnnData object\n",
    "\n",
    "def handle_categorical(column):\n",
    "    if column.dtype.name == 'category':\n",
    "        # Check if 'nan' is already a category\n",
    "        if 'nan' not in column.cat.categories:\n",
    "            column = column.cat.add_categories(['nan'])\n",
    "        # Fill missing values with 'nan'\n",
    "        column = column.fillna('nan')\n",
    "    else:\n",
    "        # Convert to category and fill missing values\n",
    "        column = pd.Categorical(column.fillna('nan'))\n",
    "    return column\n",
    "\n",
    "# Handle categorical columns\n",
    "mel_only.obs['copykat_pred'] = handle_categorical(mel_only.obs['copykat_pred'])\n",
    "mel_only.obs['infercnv_pred'] = handle_categorical(mel_only.obs['infercnv_pred'])\n",
    "\n",
    "# Create a combined clustering column focusing on \"Aneuploid\" clusters and NA values\n",
    "def categorize_clusters(row):\n",
    "    infercnv = row['infercnv_pred']\n",
    "    copykat = row['copykat_pred']\n",
    "    \n",
    "    if infercnv == 'Aneuploid' and copykat == 'aneuploid':\n",
    "        return 'overlap'\n",
    "    elif infercnv == 'Aneuploid' and copykat != 'aneuploid':\n",
    "        return 'infercnv_only'\n",
    "    elif infercnv != 'Aneuploid' and copykat == 'aneuploid':\n",
    "        return 'copykat_only'\n",
    "    else:\n",
    "        return 'none'\n",
    "\n",
    "mel_only.obs['combined_clusters'] = mel_only.obs.apply(categorize_clusters, axis=1)\n",
    "\n",
    "# Define the color map\n",
    "colors = {\n",
    "    'infercnv_only': 'blue',\n",
    "    'copykat_only': 'orange',\n",
    "    'overlap': 'red',\n",
    "    'none': 'lightgrey'\n",
    "}\n",
    "\n",
    "# Map the colors to the combined clusters\n",
    "#mel_only.obs['combined_clusters_color'] = mel_only.obs['combined_clusters'].map(colors)\n",
    "\n",
    "# Plot the UMAP with reduced spot size and custom colors\n",
    "#sc.pl.umap(mel_only, color='combined_clusters', title='UMAP of Combined Clusters', size=30, palette=colors)\n",
    "\n",
    "\n",
    "# Sort the data to ensure 'none' (grey) is at the back, blue/orange in the middle, and red at the front\n",
    "mel_only.obs['sort_order'] = mel_only.obs['combined_clusters'].map({\n",
    "    'none': 0,             # Grey: plotted first (back)\n",
    "    'infercnv_only': 2,     # Blue: middle\n",
    "    'copykat_only': 3,      # Orange: middle\n",
    "    'overlap': 4            # Red: plotted last (front)\n",
    "})\n",
    "\n",
    "# Sort the data based on the sort order\n",
    "mel_only = mel_only[mel_only.obs.sort_values('sort_order').index]\n",
    "\n",
    "# Plot UMAP with custom colors and point size, ensuring grey is in the background\n",
    "sc.pl.umap(mel_only, color='combined_clusters', title='UMAP of Combined Clusters', size=30, palette=colors,show=True)\n",
    "#sc.pl.umap(mel_only, color=['leiden','orig.ident','combined_clusters'] , legend_loc = 'best')"
   ],
   "outputs": [],
   "execution_count": null
  },
  {
   "cell_type": "code",
   "id": "67e165a6-a7e2-48f9-a6c5-68101b5a47f9",
   "metadata": {
    "scrolled": true
   },
   "source": [
    "with plt.rc_context({\"figure.figsize\": (5, 4), \"figure.dpi\": (300)}):\n",
    "    sc.pl.umap(mel_only, color='combined_clusters', title='UMAP of Combined Clusters', size=30, palette=colors,show=False)\n",
    "    plt.savefig(\"/scratch/project/stseq/Prakrithi/skin_atlas/reanalysis_figs/mel/Aneuploid.pdf\", bbox_inches=\"tight\")"
   ],
   "outputs": [],
   "execution_count": null
  },
  {
   "cell_type": "code",
   "id": "11a18db3-2dd7-4c76-9834-3a46d0e00e7f",
   "metadata": {
    "scrolled": true
   },
   "source": [
    "with plt.rc_context({\"figure.figsize\": (5, 4), \"figure.dpi\": (300)}):\n",
    "    sc.pl.umap(mel_only, color='leiden', title='mel subclusters', size=30, legend_loc=\"on data\",show=False)\n",
    "    plt.savefig(\"/scratch/project/stseq/Prakrithi/skin_atlas/reanalysis_figs/mel/mel_subclusters.pdf\", bbox_inches=\"tight\")"
   ],
   "outputs": [],
   "execution_count": null
  },
  {
   "cell_type": "code",
   "id": "76b078ac-6a8d-4153-a766-de6cdaf6a45b",
   "metadata": {
    "scrolled": true
   },
   "source": [
    "# Define your gene sets\n",
    "gene_sets = {\n",
    "    'melano': [\"GDF15\",\"PLAB\",\"L1CAM\",\"SEMA3B\",\"HEY1\",\"NES\",\"NTRK3\",\"KNSL5\",\"CITED1\",\"SPP1\",\"CSTB\",\"CDH3\",\"PSEN2\",\"PMEL\",\"MLANA\"],\n",
    "    'hub_genes':[\"FLG\", \"DSG1\", \"DSG3\", \"IVL\", \"EGFR\"] #https://www.ncbi.nlm.nih.gov/pmc/articles/PMC7596746/\n",
    "} #\"GDF15\"=\"PLAB\", MLANA=MART1\n",
    "\n",
    "# Calculate and add module scores\n",
    "for name, genes in gene_sets.items():\n",
    "    sc.tl.score_genes(mel_only, gene_list=genes, score_name=name)\n",
    "\n",
    "# Inspect the results\n",
    "#print(mel.obs.head())\n",
    "with plt.rc_context({\"figure.figsize\": (5, 4), \"figure.dpi\": (300)}):\n",
    "# Plot the module scores\n",
    "    sc.pl.umap(mel_only, color=['hub_genes'], size=30, vmax=0.2,show=False)\n",
    "    plt.savefig(\"/scratch/project/stseq/Prakrithi/skin_atlas/reanalysis_figs/mel/mod_score_literature.pdf\", bbox_inches=\"tight\")"
   ],
   "outputs": [],
   "execution_count": null
  },
  {
   "cell_type": "code",
   "id": "02a036e5-f4c3-4c9e-a2b6-54ccf4f9e426",
   "metadata": {},
   "source": [
    "with plt.rc_context({\"figure.figsize\": (5, 4), \"figure.dpi\": (300)}):\n",
    "# Plot the module scores\n",
    "    sc.pl.umap(mel_only, color=['orig.ident'], size=30, vmax=0.2,show=False)\n",
    "    plt.savefig(\"/QRISdata/Q2051/SCC_Paper/resources/data/reanalysis_figs/mel/sample_IDs_melanocytes_only.pdf\", bbox_inches=\"tight\")\n",
    "\n"
   ],
   "outputs": [],
   "execution_count": null
  },
  {
   "cell_type": "code",
   "id": "1d984938-9dd1-4df9-b747-7b1854ee1be0",
   "metadata": {},
   "source": [
    "with plt.rc_context({\"figure.figsize\": (5, 4), \"figure.dpi\": (300)}):\n",
    "# Plot the module scores\n",
    "    sc.pl.umap(rna_adata, color=['orig.ident'], size=10, vmax=0.2,show=False)\n",
    "    plt.savefig(\"/QRISdata/Q2051/SCC_Paper/resources/data/reanalysis_figs/mel/sample_IDs_whole.pdf\", bbox_inches=\"tight\")\n",
    "\n"
   ],
   "outputs": [],
   "execution_count": null
  },
  {
   "cell_type": "code",
   "id": "efd91a96-e202-4aef-8637-662f4ba7e7a3",
   "metadata": {},
   "source": [
    "mel_only.write(\"/QRISdata/Q1851/Prakrithi/skin_atlas/reanalysis_nov2024/Melanocytes_only_nov22.h5ad\")"
   ],
   "outputs": [],
   "execution_count": null
  },
  {
   "cell_type": "code",
   "id": "c1f78e54-0e72-4127-b03c-68fe2a1ea845",
   "metadata": {},
   "source": [],
   "outputs": [],
   "execution_count": null
  }
 ],
 "metadata": {
  "kernelspec": {
   "display_name": "Python_base",
   "language": "python",
   "name": "python_base"
  },
  "language_info": {
   "codemirror_mode": {
    "name": "ipython",
    "version": 3
   },
   "file_extension": ".py",
   "mimetype": "text/x-python",
   "name": "python",
   "nbconvert_exporter": "python",
   "pygments_lexer": "ipython3",
   "version": "3.8.13"
  }
 },
 "nbformat": 4,
 "nbformat_minor": 5
}
