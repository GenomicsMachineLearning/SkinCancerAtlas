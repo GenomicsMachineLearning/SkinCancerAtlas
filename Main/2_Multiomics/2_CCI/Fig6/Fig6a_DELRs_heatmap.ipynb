{
 "cells": [
  {
   "cell_type": "code",
   "id": "18404e37",
   "metadata": {
    "vscode": {
     "languageId": "r"
    }
   },
   "source": [
    "library(edgeR)\n",
    "library(Seurat)\n",
    "library(ggvenn)\n",
    "library(pheatmap)\n",
    "library(dplyr)\n",
    "\n",
    "# source(\"~/aging_functions.R\")\n",
    "# library(UpSetR)\n",
    "# library(tidyverse)\n",
    "# library(SummarizedExperiment)\n",
    "# library(limma)\n",
    "# library(ggplotify)\n",
    "# library(ComplexHeatmap)"
   ],
   "outputs": [],
   "execution_count": null
  },
  {
   "cell_type": "markdown",
   "id": "1a671936-3d62-40f1-a125-78f909f8a14d",
   "metadata": {},
   "source": [
    "### Loading data and pseudobulking"
   ]
  },
  {
   "cell_type": "code",
   "id": "0f6b3669",
   "metadata": {
    "vscode": {
     "languageId": "r"
    }
   },
   "source": [
    "SCC <- c(\n",
    "    '/QRISdata/Q2051/SCC_Paper/resources/data/Data_For_Github_Codes/Onkar_Levi/SkinCancerAtlas/cci_results/visium_scc_B18_SCC_lr_sig_scores.csv',\n",
    "    '/QRISdata/Q2051/SCC_Paper/resources/data/Data_For_Github_Codes/Onkar_Levi/SkinCancerAtlas/cci_results/visium_scc_E15_SCC_lr_sig_scores.csv',\n",
    "    '/QRISdata/Q2051/SCC_Paper/resources/data/Data_For_Github_Codes/Onkar_Levi/SkinCancerAtlas/cci_results/visium_scc_F21_SCC_lr_sig_scores.csv',\n",
    "    '/QRISdata/Q2051/SCC_Paper/resources/data/Data_For_Github_Codes/Onkar_Levi/SkinCancerAtlas/cci_results/visium_scc_P13_SCC_lr_sig_scores.csv',\n",
    "    '/QRISdata/Q2051/SCC_Paper/resources/data/Data_For_Github_Codes/Onkar_Levi/SkinCancerAtlas/cci_results/visium_scc_P30_SCC_lr_sig_scores.csv',\n",
    "    '/QRISdata/Q2051/SCC_Paper/resources/data/Data_For_Github_Codes/Onkar_Levi/SkinCancerAtlas/cci_results/cosmx_scc_B18_SCC_lr_sig_scores.csv',\n",
    "    '/QRISdata/Q2051/SCC_Paper/resources/data/Data_For_Github_Codes/Onkar_Levi/SkinCancerAtlas/cci_results/cosmx_scc_P13_SCC_lr_sig_scores.csv',\n",
    "    '/QRISdata/Q2051/SCC_Paper/resources/data/Data_For_Github_Codes/Onkar_Levi/SkinCancerAtlas/cci_results/cosmx_scc_P30_SCC_lr_sig_scores.csv'\n",
    "    )\n",
    "\n",
    "BCC <- c(\n",
    "    '/QRISdata/Q2051/SCC_Paper/resources/data/Data_For_Github_Codes/Onkar_Levi/SkinCancerAtlas/cci_results/visium_bcc_B18_BCC_lr_sig_scores.csv',\n",
    "    '/QRISdata/Q2051/SCC_Paper/resources/data/Data_For_Github_Codes/Onkar_Levi/SkinCancerAtlas/cci_results/visium_bcc_E15_BCC_lr_sig_scores.csv',\n",
    "    '/QRISdata/Q2051/SCC_Paper/resources/data/Data_For_Github_Codes/Onkar_Levi/SkinCancerAtlas/cci_results/visium_bcc_F21_BCC_lr_sig_scores.csv',\n",
    "    '/QRISdata/Q2051/SCC_Paper/resources/data/Data_For_Github_Codes/Onkar_Levi/SkinCancerAtlas/cci_results/cosmx_bcc_B18_BCC_lr_sig_scores.csv',\n",
    "    '/QRISdata/Q2051/SCC_Paper/resources/data/Data_For_Github_Codes/Onkar_Levi/SkinCancerAtlas/cci_results/cosmx_bcc_D12_BCC_lr_sig_scores.csv'\n",
    "    )\n",
    "\n",
    "mela <- c(\n",
    "    '/QRISdata/Q2051/SCC_Paper/resources/data/Data_For_Github_Codes/Onkar_Levi/SkinCancerAtlas/cci_results/visium_mela_6767_Mel_lr_sig_scores.csv',\n",
    "    '/QRISdata/Q2051/SCC_Paper/resources/data/Data_For_Github_Codes/Onkar_Levi/SkinCancerAtlas/cci_results/visium_mela_21031_Mel_lr_sig_scores.csv',\n",
    "    '/QRISdata/Q2051/SCC_Paper/resources/data/Data_For_Github_Codes/Onkar_Levi/SkinCancerAtlas/cci_results/visium_mela_48974_Mel_lr_sig_scores.csv',\n",
    "    '/QRISdata/Q2051/SCC_Paper/resources/data/Data_For_Github_Codes/Onkar_Levi/SkinCancerAtlas/cci_results/visium_mela_66487_Mel_lr_sig_scores.csv',\n",
    "    '/QRISdata/Q2051/SCC_Paper/resources/data/Data_For_Github_Codes/Onkar_Levi/SkinCancerAtlas/cci_results/cosmx_mela_6747-085P_lr_sig_scores.csv',\n",
    "    '/QRISdata/Q2051/SCC_Paper/resources/data/Data_For_Github_Codes/Onkar_Levi/SkinCancerAtlas/cci_results/cosmx_mela_66487-1A_lr_sig_scores.csv',\n",
    "    '/QRISdata/Q2051/SCC_Paper/resources/data/Data_For_Github_Codes/Onkar_Levi/SkinCancerAtlas/cci_results/cosmx_mela_48974-2B_lr_sig_scores.csv',\n",
    "    '/QRISdata/Q2051/SCC_Paper/resources/data/Data_For_Github_Codes/Onkar_Levi/SkinCancerAtlas/cci_results/cosmx_mela_21031-08TB_lr_sig_scores.csv'\n",
    "    )"
   ],
   "outputs": [],
   "execution_count": null
  },
  {
   "cell_type": "code",
   "id": "dc58f7e6",
   "metadata": {
    "vscode": {
     "languageId": "r"
    }
   },
   "source": [
    "# read in each csv\n",
    "scc <- lapply(SCC, read.csv, row.names=1)\n",
    "bcc <- lapply(BCC, read.csv, row.names=1)\n",
    "mel <- lapply(mela, read.csv, row.names=1)"
   ],
   "outputs": [],
   "execution_count": null
  },
  {
   "cell_type": "code",
   "id": "c3d8c37f",
   "metadata": {
    "scrolled": true,
    "vscode": {
     "languageId": "r"
    }
   },
   "source": [
    "for (i in 1:length(scc)){\n",
    "    scc[[i]] <- CreateSeuratObject(counts = t(scc[[i]]))\n",
    "    # randomly assign a number 1-3 to each cell\n",
    "    set.seed(123)\n",
    "    scc[[i]]$group <- sample(1:3, nrow(scc[[i]]), replace = TRUE)\n",
    "}\n",
    "\n",
    "for (i in 1:length(bcc)){\n",
    "    bcc[[i]] <- CreateSeuratObject(counts = t(bcc[[i]]))\n",
    "    # randomly assign a number 1-3 to each cell\n",
    "    set.seed(123)\n",
    "    bcc[[i]]$group <- sample(1:3, nrow(bcc[[i]]), replace = TRUE)\n",
    "}\n",
    "\n",
    "for (i in 1:length(mel)){\n",
    "    mel[[i]] <- CreateSeuratObject(counts = t(mel[[i]]))\n",
    "    # randomly assign a number 1-3 to each cell\n",
    "    set.seed(123)\n",
    "    mel[[i]]$group <- sample(1:3, nrow(mel[[i]]), replace = TRUE)\n",
    "}"
   ],
   "outputs": [],
   "execution_count": null
  },
  {
   "cell_type": "code",
   "id": "a9d0f413",
   "metadata": {
    "vscode": {
     "languageId": "r"
    }
   },
   "source": [
    "scc_vis <- merge(scc[[1]], y = scc[2:5])\n",
    "scc_vis <- JoinLayers(scc_vis)\n",
    "scc_vis$cancer <- 'SCC'\n",
    "scc_cos <- merge(scc[[6]], y = scc[7:8])\n",
    "scc_cos <- JoinLayers(scc_cos)\n",
    "scc_cos$cancer <- 'SCC'\n",
    "bcc_vis <- merge(bcc[[1]], y = bcc[2:3])\n",
    "bcc_vis <- JoinLayers(bcc_vis)\n",
    "bcc_vis$cancer <- 'BCC'\n",
    "bcc_cos <- merge(bcc[[4]], y = bcc[5])\n",
    "bcc_cos <- JoinLayers(bcc_cos)\n",
    "bcc_cos$cancer <- 'BCC'\n",
    "mel_vis <- merge(mel[[1]], y = mel[2:4])\n",
    "mel_vis <- JoinLayers(mel_vis)\n",
    "mel_vis$cancer <- 'Mel'\n",
    "mel_cos <- merge(mel[[5]], y = mel[6:8])\n",
    "mel_cos <- JoinLayers(mel_cos)\n",
    "mel_cos$cancer <- 'Mel'\n",
    "\n",
    "vis <- merge(scc_vis, y = c(bcc_vis, mel_vis))\n",
    "vis <- JoinLayers(vis)\n",
    "cos <- merge(scc_cos, y = c(bcc_cos, mel_cos))\n",
    "cos <- JoinLayers(cos)"
   ],
   "outputs": [],
   "execution_count": null
  },
  {
   "cell_type": "markdown",
   "id": "e107d392-572e-4516-a9ce-54d4e691931e",
   "metadata": {},
   "source": [
    "### Combine SCC and BCC"
   ]
  },
  {
   "cell_type": "code",
   "id": "46daa664-54eb-4180-bde9-b4c3d5380a16",
   "metadata": {},
   "source": [
    "vis$cancer_SCC_BCC <- ifelse(vis$cancer %in% c(\"SCC\", \"BCC\"), \"Others\", vis$cancer)\n",
    "cos$cancer_SCC_BCC <- ifelse(cos$cancer %in% c(\"SCC\", \"BCC\"), \"Others\", cos$cancer)"
   ],
   "outputs": [],
   "execution_count": null
  },
  {
   "cell_type": "code",
   "id": "36a86552-7bc1-40aa-a614-19ddc180e6f0",
   "metadata": {},
   "source": [
    "vis_pb <- Seurat2PB(vis, sample='cancer_SCC_BCC', cluster='group')\n",
    "cos_pb <- Seurat2PB(cos, sample='cancer_SCC_BCC', cluster='group')\n",
    "\n",
    "\n",
    "\n",
    "keep.genes <- filterByExpr(vis_pb, group=vis_pb$samples$cluster, min.count=1, min.total.count=3)\n",
    "print(\"For Visium\")\n",
    "table(keep.genes)\n",
    "vis_pb <- vis_pb[keep.genes, , keep=FALSE]\n",
    "\n",
    "keep.genes <- filterByExpr(cos_pb, group=cos_pb$samples$cluster, min.count=10, min.total.count=20)\n",
    "print(\"For CosMx\")\n",
    "table(keep.genes)\n",
    "cos_pb <- cos_pb[keep.genes, , keep=FALSE]\n",
    "\n",
    "\n",
    "\n",
    "vis_pb <- normLibSizes(vis_pb)\n",
    "cos_pb <- normLibSizes(cos_pb)"
   ],
   "outputs": [],
   "execution_count": null
  },
  {
   "cell_type": "code",
   "id": "7fd80b3b-e9df-46cb-8db6-9d20d6ddb9db",
   "metadata": {
    "scrolled": true
   },
   "source": [
    "cluster <- as.factor(vis_pb$samples$sample)\n",
    "plotMDS(vis_pb, pch=16, col=c(2:8)[cluster], main=\"MDS\")\n",
    "legend(\"topleft\", legend=paste0(\"cluster\",levels(cluster)), pch=16, col=2:8, cex=0.8)\n",
    "\n",
    "cluster <- as.factor(cos_pb$samples$sample)\n",
    "plotMDS(cos_pb, pch=16, col=c(2:8)[cluster], main=\"MDS\")\n",
    "legend(\"topleft\", legend=paste0(\"cluster\",levels(cluster)), pch=16, col=2:8, cex=0.8)"
   ],
   "outputs": [],
   "execution_count": null
  },
  {
   "cell_type": "code",
   "id": "f7660bd7-cdf3-4f16-a93e-7aa5011108b7",
   "metadata": {
    "scrolled": true
   },
   "source": [
    "# Set up the design matrix\n",
    "cancer <- factor(vis_pb$samples$sample)\n",
    "group <- factor(vis_pb$samples$cluster)\n",
    "vis_design <-  model.matrix(~cancer)\n",
    "colnames(vis_design) <- levels(cancer)\n",
    "colnames(vis_design)[1] <- \"Int\"\n",
    "\n",
    "cancer <- factor(cos_pb$samples$sample)\n",
    "group <- factor(cos_pb$samples$cluster)\n",
    "cos_design <-  model.matrix(~cancer)\n",
    "colnames(cos_design) <- levels(cancer)\n",
    "colnames(cos_design)[1] <- \"Int\"\n",
    "\n",
    "\n",
    "\n",
    "# Estimate dispersion\n",
    "vis_pb <- estimateDisp(vis_pb, vis_design, robust=TRUE)\n",
    "vis_pb$common.dispersion\n",
    "plotBCV(vis_pb)\n",
    "\n",
    "cos_pb <- estimateDisp(cos_pb, cos_design, robust=TRUE)\n",
    "cos_pb$common.dispersion\n",
    "plotBCV(cos_pb)\n",
    "\n",
    "\n",
    "# Fit the glm model\n",
    "vis_fit <- glmQLFit(vis_pb, vis_design, robust=TRUE)\n",
    "plotQLDisp(vis_fit)\n",
    "\n",
    "cos_fit <- glmQLFit(cos_pb, cos_design, robust=TRUE)\n",
    "plotQLDisp(cos_fit)\n",
    "\n",
    "\n",
    "\n",
    "# Plot the design matrix\n",
    "ncls <- nlevels(cluster)\n",
    "contr <- rbind( matrix(1/(1-ncls), ncls, ncls), matrix(0, ncol(vis_design)-ncls, ncls))\n",
    "diag(contr) <- 1\n",
    "contr[1,] <- 0\n",
    "rownames(contr) <- colnames(vis_design)\n",
    "colnames(contr) <- paste0(\"cluster\", levels(cluster))\n",
    "contr\n",
    "\n",
    "ncls <- nlevels(cluster)\n",
    "contr <- rbind( matrix(1/(1-ncls), ncls, ncls), matrix(0, ncol(cos_design)-ncls, ncls))\n",
    "diag(contr) <- 1\n",
    "contr[1,] <- 0\n",
    "rownames(contr) <- colnames(cos_design)\n",
    "colnames(contr) <- paste0(\"cluster\", levels(cluster))\n",
    "contr\n",
    "\n",
    "\n",
    "\n",
    "# Visualise the top DE genes\n",
    "vis_qlf <- list()\n",
    "for(i in 1:ncls) {\n",
    "    vis_qlf[[i]] <- glmQLFTest(vis_fit, contrast=contr[,i])\n",
    "    vis_qlf[[i]]$comparison <- paste0(\"cluster\", levels(cluster)[i], \"_vs_others\")\n",
    "}\n",
    "topTags(vis_qlf[[1]])\n",
    "\n",
    "cos_qlf <- list()\n",
    "for(i in 1:ncls) {\n",
    "    cos_qlf[[i]] <- glmQLFTest(cos_fit, contrast=contr[,i])\n",
    "    cos_qlf[[i]]$comparison <- paste0(\"cluster\", levels(cluster)[i], \"_vs_others\")\n",
    "}\n",
    "topTags(cos_qlf[[1]])"
   ],
   "outputs": [],
   "execution_count": null
  },
  {
   "cell_type": "code",
   "id": "97b97fbd-0d90-4962-bef6-bb154c3d9292",
   "metadata": {},
   "source": [
    "vis_table <- vis_qlf[[2]]$table\n",
    "vis_table$regulate <- 'Normal'\n",
    "# set regulate to up if logfc > 1.2 and pvalue < 0.05\n",
    "vis_table$regulate[vis_table$logFC > 0 & vis_table$PValue < 0.05] <- 'Up'\n",
    "vis_table$regulate[vis_table$logFC < 0 & vis_table$PValue < 0.05] <- 'Down'\n",
    "\n",
    "cos_table <- cos_qlf[[2]]$table\n",
    "cos_table$regulate <- 'Normal'\n",
    "# set regulate to up if logfc > 1.2 and pvalue < 0.05\n",
    "cos_table$regulate[cos_table$logFC > 0 & cos_table$PValue < 0.05] <- 'Up'\n",
    "cos_table$regulate[cos_table$logFC < 0 & cos_table$PValue < 0.05] <- 'Down'\n",
    "\n",
    "\n",
    "cos_up <- row.names(cos_table[cos_table$regulate == 'Up',])\n",
    "vis_up <- row.names(vis_table[vis_table$regulate == 'Up',])\n",
    "cos_down <- row.names(cos_table[cos_table$regulate == 'Down',])\n",
    "vis_down <- row.names(vis_table[vis_table$regulate == 'Down',])"
   ],
   "outputs": [],
   "execution_count": null
  },
  {
   "cell_type": "markdown",
   "id": "ba7e45ee-e07a-4a12-8028-9756432951b1",
   "metadata": {},
   "source": [
    "##### <font color= \"blue\"> The directionality is randomly assigned by edgeR; and here the directionality was with respect to the group \"Other\", so it is reveresed when plotting w.r.t to \"Melanoma\""
   ]
  },
  {
   "cell_type": "code",
   "id": "6b39e6a3-0d28-49f7-a3d7-939092f411cf",
   "metadata": {},
   "source": [
    "pdf(\"/QRISdata/Q2051/SCC_Paper/resources/data/Data_For_Github_Codes/Onkar_Levi/Individual_panels_fig9_10/DELRs_Venn.pdf\",height=6.5, width=6.5)\n",
    "ggvenn(\n",
    "    list('Cos Down' = cos_up, 'Vis Down' = vis_up, 'Cos Up' = cos_down, 'Vis Up' = vis_down), text_size = 5.5\n",
    "    )\n",
    "dev.off()"
   ],
   "outputs": [],
   "execution_count": null
  },
  {
   "cell_type": "code",
   "id": "faaeed02-8e3e-46d0-a5f6-3edd2fef77ed",
   "metadata": {},
   "source": [
    "\n",
    "save_pheatmap_pdf <- function(x, filename, width=25, height=10) {\n",
    "   stopifnot(!missing(x))\n",
    "   stopifnot(!missing(filename))\n",
    "   pdf(filename, width=width, height=height)\n",
    "   grid::grid.newpage()\n",
    "   grid::grid.draw(x$gtable)\n",
    "   dev.off()\n",
    "}\n"
   ],
   "outputs": [],
   "execution_count": null
  },
  {
   "cell_type": "code",
   "id": "669389c4-6a73-41c4-8ef2-a5ac53a11000",
   "metadata": {
    "scrolled": true
   },
   "source": [
    "top <- 20\n",
    "topMarkers <- list()\n",
    "for(i in 1:ncls) {\n",
    "    ord <- order(vis_qlf[[i]]$table$PValue, decreasing=FALSE)\n",
    "    up <- vis_qlf[[i]]$table$logFC > 0\n",
    "    topMarkers[[i]] <- rownames(vis_pb)[ord[up][1:top]]\n",
    "}\n",
    "topMarkers <- unique(unlist(topMarkers))\n",
    "\n",
    "lcpm <- cpm(vis_pb, log=TRUE)\n",
    "annot <- data.frame(cluster=cluster)\n",
    "rownames(annot) <- colnames(vis_pb)\n",
    "ann_colors <- list(cluster=1:2)\n",
    "names(ann_colors$cluster) <- paste0(levels(cluster))\n",
    "\n",
    "plot_pheatmap <- pheatmap::pheatmap(lcpm[topMarkers, ], breaks=seq(-2,2,length.out=101), \n",
    "                                    color=colorRampPalette(c(\"blue\",\"white\",\"red\"))(100), scale=\"row\",\n",
    "                                    cluster_cols=TRUE, border_color=\"NA\", fontsize_row=27.5,\n",
    "                                    treeheight_row=70, treeheight_col=70, fontsize = 15,\n",
    "                                    clustering_method=\"ward.D2\", show_colnames=FALSE,\n",
    "                                    annotation_col=annot, annotation_colors=ann_colors)\n",
    "save_pheatmap_pdf(plot_pheatmap, \"/QRISdata/Q2051/SCC_Paper/resources/data/Data_For_Github_Codes/Onkar_Levi/Individual_panels_fig9_10/Vis_DELRs_heatmap.pdf\", width=12.5, height=17.5)\n",
    "\n",
    "vis_lcpm <- lcpm\n"
   ],
   "outputs": [],
   "execution_count": null
  },
  {
   "cell_type": "code",
   "id": "a35896a0-fb61-4ae0-a361-dffb5f0accb8",
   "metadata": {
    "scrolled": true
   },
   "source": [
    "top <- 20\n",
    "topMarkers <- list()\n",
    "for(i in 1:ncls) {\n",
    "    ord <- order(cos_qlf[[i]]$table$PValue, decreasing=FALSE)\n",
    "    up <- cos_qlf[[i]]$table$logFC > 0\n",
    "    topMarkers[[i]] <- rownames(cos_pb)[ord[up][1:top]]\n",
    "}\n",
    "topMarkers <- unique(unlist(topMarkers))\n",
    "\n",
    "lcpm <- cpm(cos_pb, log=TRUE)\n",
    "annot <- data.frame(cluster=cluster)\n",
    "rownames(annot) <- colnames(cos_pb)\n",
    "ann_colors <- list(cluster=1:2)\n",
    "names(ann_colors$cluster) <- paste0(levels(cluster))\n",
    "plot_pheatmap <- pheatmap::pheatmap(lcpm[topMarkers, ], breaks=seq(-2,2,length.out=101), \n",
    "                                    color=colorRampPalette(c(\"blue\",\"white\",\"red\"))(100), scale=\"row\",\n",
    "                                    cluster_cols=TRUE, border_color=\"NA\", fontsize_row=27.5,\n",
    "                                    treeheight_row=70, treeheight_col=70,\n",
    "                                    clustering_method=\"ward.D2\", show_colnames=FALSE,\n",
    "                                    annotation_col=annot, annotation_colors=ann_colors)\n",
    "save_pheatmap_pdf(plot_pheatmap, \"/QRISdata/Q2051/SCC_Paper/resources/data/Data_For_Github_Codes/Onkar_Levi/Individual_panels_fig9_10/CosMx_DELRs_heatmap.pdf\", width=12.5, height=17.5)\n",
    "\n",
    "cos_lcpm <- lcpm"
   ],
   "outputs": [],
   "execution_count": null
  },
  {
   "cell_type": "code",
   "id": "0f6b3622-bd2c-42ae-9713-02fa32d52096",
   "metadata": {
    "collapsed": true,
    "jupyter": {
     "outputs_hidden": true
    }
   },
   "source": [
    "print(intersect(cos_up, vis_up))"
   ],
   "outputs": [],
   "execution_count": null
  },
  {
   "cell_type": "code",
   "id": "f361032b-afea-4bb2-a8df-2da07fadbe61",
   "metadata": {
    "collapsed": true,
    "jupyter": {
     "outputs_hidden": true
    }
   },
   "source": [
    "print(intersect(cos_down, vis_down))"
   ],
   "outputs": [],
   "execution_count": null
  },
  {
   "cell_type": "code",
   "id": "cf2c03c1-bc43-4bfb-9aca-013cc0e241ef",
   "metadata": {},
   "source": [
    "saveRDS(intersect(cos_down, vis_down),\"/QRISdata/Q2051/SCC_Paper/resources/data/Data_For_Github_Codes/Onkar_Levi/edgeR_LRsMelanoma_upreg_2way_comparison.rds\")\n",
    "saveRDS(intersect(cos_up, vis_up),\"/QRISdata/Q2051/SCC_Paper/resources/data/Data_For_Github_Codes/Onkar_Levi/edgeR_LRsMelanoma_downreg_2way_comparison.rds\")"
   ],
   "outputs": [],
   "execution_count": null
  },
  {
   "cell_type": "code",
   "id": "8e03d6df-18d7-487b-88ff-7213a4e43015",
   "metadata": {},
   "source": [
    "mel_up <- readRDS(\"/QRISdata/Q2051/SCC_Paper/resources/data/Data_For_Github_Codes/Onkar_Levi/edgeR_LRsMelanoma_upreg_2way_comparison.rds\")\n",
    "mel_up\n",
    "mel_down <- readRDS(\"/QRISdata/Q2051/SCC_Paper/resources/data/Data_For_Github_Codes/Onkar_Levi/edgeR_LRsMelanoma_downreg_2way_comparison.rds\")\n",
    "mel_down"
   ],
   "outputs": [],
   "execution_count": null
  },
  {
   "cell_type": "markdown",
   "id": "6f018083-06de-4aba-b694-46b1c092e0bc",
   "metadata": {},
   "source": [
    "### Combine Melanoma and BCC"
   ]
  },
  {
   "cell_type": "code",
   "id": "8ce275a3-977a-4ae5-9def-30e130f3448c",
   "metadata": {},
   "source": [
    "vis$cancer_Mel_BCC <- ifelse(vis$cancer %in% c(\"Mel\", \"BCC\"), \"Others\", vis$cancer)\n",
    "cos$cancer_Mel_BCC <- ifelse(cos$cancer %in% c(\"Mel\", \"BCC\"), \"Others\", cos$cancer)"
   ],
   "outputs": [],
   "execution_count": null
  },
  {
   "cell_type": "code",
   "id": "3fdcb36a-a578-48ee-9e97-69ddd393d3a0",
   "metadata": {},
   "source": [
    "vis_pb <- Seurat2PB(vis, sample='cancer_Mel_BCC', cluster='group')\n",
    "cos_pb <- Seurat2PB(cos, sample='cancer_Mel_BCC', cluster='group')\n",
    "\n",
    "\n",
    "\n",
    "keep.genes <- filterByExpr(vis_pb, group=vis_pb$samples$cluster, min.count=1, min.total.count=3)\n",
    "print(\"For Visium\")\n",
    "table(keep.genes)\n",
    "vis_pb <- vis_pb[keep.genes, , keep=FALSE]\n",
    "\n",
    "keep.genes <- filterByExpr(cos_pb, group=cos_pb$samples$cluster, min.count=10, min.total.count=20)\n",
    "print(\"For CosMx\")\n",
    "table(keep.genes)\n",
    "cos_pb <- cos_pb[keep.genes, , keep=FALSE]\n",
    "\n",
    "\n",
    "\n",
    "vis_pb <- normLibSizes(vis_pb)\n",
    "cos_pb <- normLibSizes(cos_pb)"
   ],
   "outputs": [],
   "execution_count": null
  },
  {
   "cell_type": "code",
   "id": "d20e7dbc-8d59-4b4b-b338-b5a6c5a64941",
   "metadata": {
    "scrolled": true
   },
   "source": [
    "cluster <- as.factor(vis_pb$samples$sample)\n",
    "plotMDS(vis_pb, pch=16, col=c(2:8)[cluster], main=\"MDS\")\n",
    "legend(\"topleft\", legend=paste0(\"cluster\",levels(cluster)), pch=16, col=2:8, cex=0.8)\n",
    "\n",
    "cluster <- as.factor(cos_pb$samples$sample)\n",
    "plotMDS(cos_pb, pch=16, col=c(2:8)[cluster], main=\"MDS\")\n",
    "legend(\"topleft\", legend=paste0(\"cluster\",levels(cluster)), pch=16, col=2:8, cex=0.8)"
   ],
   "outputs": [],
   "execution_count": null
  },
  {
   "cell_type": "code",
   "id": "b362b52d-4ffc-423b-8262-2f5cf3c9f993",
   "metadata": {
    "scrolled": true
   },
   "source": [
    "# Set up the design matrix\n",
    "cancer <- factor(vis_pb$samples$sample)\n",
    "group <- factor(vis_pb$samples$cluster)\n",
    "vis_design <-  model.matrix(~cancer)\n",
    "colnames(vis_design) <- levels(cancer)\n",
    "colnames(vis_design)[1] <- \"Int\"\n",
    "\n",
    "cancer <- factor(cos_pb$samples$sample)\n",
    "group <- factor(cos_pb$samples$cluster)\n",
    "cos_design <-  model.matrix(~cancer)\n",
    "colnames(cos_design) <- levels(cancer)\n",
    "colnames(cos_design)[1] <- \"Int\"\n",
    "\n",
    "\n",
    "\n",
    "# Estimate dispersion\n",
    "vis_pb <- estimateDisp(vis_pb, vis_design, robust=TRUE)\n",
    "vis_pb$common.dispersion\n",
    "plotBCV(vis_pb)\n",
    "\n",
    "cos_pb <- estimateDisp(cos_pb, cos_design, robust=TRUE)\n",
    "cos_pb$common.dispersion\n",
    "plotBCV(cos_pb)\n",
    "\n",
    "\n",
    "# Fit the glm model\n",
    "vis_fit <- glmQLFit(vis_pb, vis_design, robust=TRUE)\n",
    "plotQLDisp(vis_fit)\n",
    "\n",
    "cos_fit <- glmQLFit(cos_pb, cos_design, robust=TRUE)\n",
    "plotQLDisp(cos_fit)\n",
    "\n",
    "\n",
    "\n",
    "# Plot the design matrix\n",
    "ncls <- nlevels(cluster)\n",
    "contr <- rbind( matrix(1/(1-ncls), ncls, ncls), matrix(0, ncol(vis_design)-ncls, ncls))\n",
    "diag(contr) <- 1\n",
    "contr[1,] <- 0\n",
    "rownames(contr) <- colnames(vis_design)\n",
    "colnames(contr) <- paste0(\"cluster\", levels(cluster))\n",
    "contr\n",
    "\n",
    "ncls <- nlevels(cluster)\n",
    "contr <- rbind( matrix(1/(1-ncls), ncls, ncls), matrix(0, ncol(cos_design)-ncls, ncls))\n",
    "diag(contr) <- 1\n",
    "contr[1,] <- 0\n",
    "rownames(contr) <- colnames(cos_design)\n",
    "colnames(contr) <- paste0(\"cluster\", levels(cluster))\n",
    "contr\n",
    "\n",
    "\n",
    "\n",
    "# Visualise the top DE genes\n",
    "vis_qlf <- list()\n",
    "for(i in 1:ncls) {\n",
    "    vis_qlf[[i]] <- glmQLFTest(vis_fit, contrast=contr[,i])\n",
    "    vis_qlf[[i]]$comparison <- paste0(\"cluster\", levels(cluster)[i], \"_vs_others\")\n",
    "}\n",
    "topTags(vis_qlf[[1]])\n",
    "\n",
    "cos_qlf <- list()\n",
    "for(i in 1:ncls) {\n",
    "    cos_qlf[[i]] <- glmQLFTest(cos_fit, contrast=contr[,i])\n",
    "    cos_qlf[[i]]$comparison <- paste0(\"cluster\", levels(cluster)[i], \"_vs_others\")\n",
    "}\n",
    "topTags(cos_qlf[[1]])"
   ],
   "outputs": [],
   "execution_count": null
  },
  {
   "cell_type": "code",
   "id": "98fe89b9-97d7-41cd-9807-1fc79eceb83a",
   "metadata": {},
   "source": [
    "vis_table <- vis_qlf[[2]]$table\n",
    "vis_table$regulate <- 'Normal'\n",
    "# set regulate to up if logfc > 1.2 and pvalue < 0.05\n",
    "vis_table$regulate[vis_table$logFC > 0 & vis_table$PValue < 0.05] <- 'Up'\n",
    "vis_table$regulate[vis_table$logFC < 0 & vis_table$PValue < 0.05] <- 'Down'\n",
    "\n",
    "cos_table <- cos_qlf[[2]]$table\n",
    "cos_table$regulate <- 'Normal'\n",
    "# set regulate to up if logfc > 1.2 and pvalue < 0.05\n",
    "cos_table$regulate[cos_table$logFC > 0 & cos_table$PValue < 0.05] <- 'Up'\n",
    "cos_table$regulate[cos_table$logFC < 0 & cos_table$PValue < 0.05] <- 'Down'\n",
    "\n",
    "\n",
    "cos_up <- row.names(cos_table[cos_table$regulate == 'Up',])\n",
    "vis_up <- row.names(vis_table[vis_table$regulate == 'Up',])\n",
    "cos_down <- row.names(cos_table[cos_table$regulate == 'Down',])\n",
    "vis_down <- row.names(vis_table[vis_table$regulate == 'Down',])"
   ],
   "outputs": [],
   "execution_count": null
  },
  {
   "cell_type": "code",
   "id": "144970fe-fbb1-4318-8540-e667c0ae4aa9",
   "metadata": {},
   "source": [
    "print(intersect(cos_up,vis_up))"
   ],
   "outputs": [],
   "execution_count": null
  },
  {
   "cell_type": "code",
   "id": "df26626b-3389-4d76-b8eb-29e40b74a225",
   "metadata": {},
   "source": [
    "print(intersect(cos_down,vis_down))"
   ],
   "outputs": [],
   "execution_count": null
  },
  {
   "cell_type": "code",
   "id": "9d16f945-eea3-4fb1-a054-03feb3c774a6",
   "metadata": {},
   "source": [
    "saveRDS(intersect(cos_up, vis_up),\"/QRISdata/Q2051/SCC_Paper/resources/data/Data_For_Github_Codes/Onkar_Levi/edgeR_LRsSCC_upreg_2way_comparison.rds\")\n",
    "saveRDS(intersect(cos_down, vis_down),\"/QRISdata/Q2051/SCC_Paper/resources/data/Data_For_Github_Codes/Onkar_Levi/edgeR_LRsSCC_downreg_2way_comparison.rds\")"
   ],
   "outputs": [],
   "execution_count": null
  },
  {
   "cell_type": "markdown",
   "id": "3db288b2-b42d-4be1-9f20-2c179cc204fc",
   "metadata": {},
   "source": [
    "### Combine Melanoma and SCC"
   ]
  },
  {
   "cell_type": "code",
   "id": "4571630e-4ab0-4bed-ba8e-c5e4791ba4c0",
   "metadata": {},
   "source": [
    "vis$cancer_Mel_SCC <- ifelse(vis$cancer %in% c(\"Mel\", \"SCC\"), \"Others\", vis$cancer)\n",
    "cos$cancer_Mel_SCC <- ifelse(cos$cancer %in% c(\"Mel\", \"SCC\"), \"Others\", cos$cancer)"
   ],
   "outputs": [],
   "execution_count": null
  },
  {
   "cell_type": "code",
   "id": "06a21175-93d9-42a9-8adb-0cf3c2be9f88",
   "metadata": {},
   "source": [
    "vis_pb <- Seurat2PB(vis, sample='cancer_Mel_SCC', cluster='group')\n",
    "cos_pb <- Seurat2PB(cos, sample='cancer_Mel_SCC', cluster='group')\n",
    "\n",
    "\n",
    "\n",
    "keep.genes <- filterByExpr(vis_pb, group=vis_pb$samples$cluster, min.count=1, min.total.count=3)\n",
    "print(\"For Visium\")\n",
    "table(keep.genes)\n",
    "vis_pb <- vis_pb[keep.genes, , keep=FALSE]\n",
    "\n",
    "keep.genes <- filterByExpr(cos_pb, group=cos_pb$samples$cluster, min.count=10, min.total.count=20)\n",
    "print(\"For CosMx\")\n",
    "table(keep.genes)\n",
    "cos_pb <- cos_pb[keep.genes, , keep=FALSE]\n",
    "\n",
    "\n",
    "\n",
    "vis_pb <- normLibSizes(vis_pb)\n",
    "cos_pb <- normLibSizes(cos_pb)"
   ],
   "outputs": [],
   "execution_count": null
  },
  {
   "cell_type": "code",
   "id": "9af6e11c-1d90-4f9b-a382-282f6244dcfa",
   "metadata": {
    "scrolled": true
   },
   "source": [
    "cluster <- as.factor(vis_pb$samples$sample)\n",
    "plotMDS(vis_pb, pch=16, col=c(2:8)[cluster], main=\"MDS\")\n",
    "legend(\"topleft\", legend=paste0(\"cluster\",levels(cluster)), pch=16, col=2:8, cex=0.8)\n",
    "\n",
    "cluster <- as.factor(cos_pb$samples$sample)\n",
    "plotMDS(cos_pb, pch=16, col=c(2:8)[cluster], main=\"MDS\")\n",
    "legend(\"topleft\", legend=paste0(\"cluster\",levels(cluster)), pch=16, col=2:8, cex=0.8)"
   ],
   "outputs": [],
   "execution_count": null
  },
  {
   "cell_type": "code",
   "id": "60d204f7-2733-43be-95d8-72c5255189b1",
   "metadata": {
    "collapsed": true,
    "jupyter": {
     "outputs_hidden": true
    }
   },
   "source": [
    "# Set up the design matrix\n",
    "cancer <- factor(vis_pb$samples$sample)\n",
    "group <- factor(vis_pb$samples$cluster)\n",
    "vis_design <-  model.matrix(~cancer)\n",
    "colnames(vis_design) <- levels(cancer)\n",
    "colnames(vis_design)[1] <- \"Int\"\n",
    "\n",
    "cancer <- factor(cos_pb$samples$sample)\n",
    "group <- factor(cos_pb$samples$cluster)\n",
    "cos_design <-  model.matrix(~cancer)\n",
    "colnames(cos_design) <- levels(cancer)\n",
    "colnames(cos_design)[1] <- \"Int\"\n",
    "\n",
    "\n",
    "\n",
    "# Estimate dispersion\n",
    "vis_pb <- estimateDisp(vis_pb, vis_design, robust=TRUE)\n",
    "vis_pb$common.dispersion\n",
    "plotBCV(vis_pb)\n",
    "\n",
    "cos_pb <- estimateDisp(cos_pb, cos_design, robust=TRUE)\n",
    "cos_pb$common.dispersion\n",
    "plotBCV(cos_pb)\n",
    "\n",
    "\n",
    "# Fit the glm model\n",
    "vis_fit <- glmQLFit(vis_pb, vis_design, robust=TRUE)\n",
    "plotQLDisp(vis_fit)\n",
    "\n",
    "cos_fit <- glmQLFit(cos_pb, cos_design, robust=TRUE)\n",
    "plotQLDisp(cos_fit)\n",
    "\n",
    "\n",
    "\n",
    "# Plot the design matrix\n",
    "ncls <- nlevels(cluster)\n",
    "contr <- rbind( matrix(1/(1-ncls), ncls, ncls), matrix(0, ncol(vis_design)-ncls, ncls))\n",
    "diag(contr) <- 1\n",
    "contr[1,] <- 0\n",
    "rownames(contr) <- colnames(vis_design)\n",
    "colnames(contr) <- paste0(\"cluster\", levels(cluster))\n",
    "contr\n",
    "\n",
    "ncls <- nlevels(cluster)\n",
    "contr <- rbind( matrix(1/(1-ncls), ncls, ncls), matrix(0, ncol(cos_design)-ncls, ncls))\n",
    "diag(contr) <- 1\n",
    "contr[1,] <- 0\n",
    "rownames(contr) <- colnames(cos_design)\n",
    "colnames(contr) <- paste0(\"cluster\", levels(cluster))\n",
    "contr\n",
    "\n",
    "\n",
    "\n",
    "# Visualise the top DE genes\n",
    "vis_qlf <- list()\n",
    "for(i in 1:ncls) {\n",
    "    vis_qlf[[i]] <- glmQLFTest(vis_fit, contrast=contr[,i])\n",
    "    vis_qlf[[i]]$comparison <- paste0(\"cluster\", levels(cluster)[i], \"_vs_others\")\n",
    "}\n",
    "topTags(vis_qlf[[1]])\n",
    "\n",
    "cos_qlf <- list()\n",
    "for(i in 1:ncls) {\n",
    "    cos_qlf[[i]] <- glmQLFTest(cos_fit, contrast=contr[,i])\n",
    "    cos_qlf[[i]]$comparison <- paste0(\"cluster\", levels(cluster)[i], \"_vs_others\")\n",
    "}\n",
    "topTags(cos_qlf[[1]])"
   ],
   "outputs": [],
   "execution_count": null
  },
  {
   "cell_type": "code",
   "id": "0dc9b493-6536-40c3-b2d9-e2dbc016e6b8",
   "metadata": {},
   "source": [
    "vis_table <- vis_qlf[[2]]$table\n",
    "vis_table$regulate <- 'Normal'\n",
    "# set regulate to up if logfc > 1.2 and pvalue < 0.05\n",
    "vis_table$regulate[vis_table$logFC > 0 & vis_table$PValue < 0.05] <- 'Up'\n",
    "vis_table$regulate[vis_table$logFC < 0 & vis_table$PValue < 0.05] <- 'Down'\n",
    "\n",
    "cos_table <- cos_qlf[[2]]$table\n",
    "cos_table$regulate <- 'Normal'\n",
    "# set regulate to up if logfc > 1.2 and pvalue < 0.05\n",
    "cos_table$regulate[cos_table$logFC > 0 & cos_table$PValue < 0.05] <- 'Up'\n",
    "cos_table$regulate[cos_table$logFC < 0 & cos_table$PValue < 0.05] <- 'Down'\n",
    "\n",
    "\n",
    "cos_up <- row.names(cos_table[cos_table$regulate == 'Up',])\n",
    "vis_up <- row.names(vis_table[vis_table$regulate == 'Up',])\n",
    "cos_down <- row.names(cos_table[cos_table$regulate == 'Down',])\n",
    "vis_down <- row.names(vis_table[vis_table$regulate == 'Down',])"
   ],
   "outputs": [],
   "execution_count": null
  },
  {
   "cell_type": "code",
   "id": "8440ac8c-b07f-4b2e-9fb7-2d7a19fd708c",
   "metadata": {},
   "source": [
    "print(intersect(cos_up,vis_up))"
   ],
   "outputs": [],
   "execution_count": null
  },
  {
   "cell_type": "code",
   "id": "e2830c54-79ad-4473-b5cb-16ea8432052a",
   "metadata": {},
   "source": [
    "print(intersect(cos_down,vis_down))"
   ],
   "outputs": [],
   "execution_count": null
  },
  {
   "cell_type": "code",
   "id": "32746131-8796-483f-b17d-1a7910aa7f63",
   "metadata": {},
   "source": [
    "saveRDS(intersect(cos_down, vis_down),\"/QRISdata/Q2051/SCC_Paper/resources/data/Data_For_Github_Codes/Onkar_Levi/edgeR_LRsBCC_upreg_2way_comparison.rds\")\n",
    "saveRDS(intersect(cos_up, vis_up),\"/QRISdata/Q2051/SCC_Paper/resources/data/Data_For_Github_Codes/Onkar_Levi/edgeR_LRsBCC_downreg_2way_comparison.rds\")"
   ],
   "outputs": [],
   "execution_count": null
  },
  {
   "cell_type": "markdown",
   "id": "731e1c6d-a27e-4756-b13e-6292131bf047",
   "metadata": {},
   "source": [
    "### Unique interactions"
   ]
  },
  {
   "cell_type": "code",
   "id": "ebfb1a74-a5c5-447e-b747-c18270706d9a",
   "metadata": {},
   "source": [
    "scc_up <- readRDS(\"/QRISdata/Q2051/SCC_Paper/resources/data/Data_For_Github_Codes/Onkar_Levi/edgeR_LRsSCC_upreg_2way_comparison.rds\")\n",
    "bcc_up <- readRDS(\"/QRISdata/Q2051/SCC_Paper/resources/data/Data_For_Github_Codes/Onkar_Levi/edgeR_LRsBCC_upreg_2way_comparison.rds\")\n",
    "mel_up <- readRDS(\"/QRISdata/Q2051/SCC_Paper/resources/data/Data_For_Github_Codes/Onkar_Levi/edgeR_LRsMelanoma_upreg_2way_comparison.rds\")"
   ],
   "outputs": [],
   "execution_count": null
  },
  {
   "cell_type": "code",
   "id": "9569c802-ffbc-44b8-bb9a-e5ba93330691",
   "metadata": {},
   "source": [
    "print(\"SCC===============\")\n",
    "print(scc_up)\n",
    "print(\"BCC===============\")\n",
    "print(bcc_up)\n",
    "print(\"Mel===============\")\n",
    "print(mel_up)"
   ],
   "outputs": [],
   "execution_count": null
  },
  {
   "cell_type": "code",
   "id": "92e13379-c111-42ee-a284-483cf88e19d2",
   "metadata": {},
   "source": [
    "scc_up <- setdiff(scc_up,c(bcc_up,mel_up))\n",
    "bcc_up <- setdiff(bcc_up,c(scc_up,mel_up))\n",
    "mel_up <- setdiff(mel_up,c(bcc_up,scc_up))"
   ],
   "outputs": [],
   "execution_count": null
  },
  {
   "cell_type": "code",
   "id": "26b26483-77ff-49ab-8191-c9809695d241",
   "metadata": {},
   "source": [
    "print(\"SCC===============\")\n",
    "print(scc_up)\n",
    "print(\"BCC===============\")\n",
    "print(bcc_up)\n",
    "print(\"Mel===============\")\n",
    "print(mel_up)"
   ],
   "outputs": [],
   "execution_count": null
  },
  {
   "cell_type": "markdown",
   "id": "b1a0e0c1-80c6-43ed-9123-dd68837b1ea0",
   "metadata": {},
   "source": [
    "### LR Heatmap"
   ]
  },
  {
   "cell_type": "code",
   "id": "88d1488e-8c3a-417b-ad73-8f0364b71047",
   "metadata": {},
   "source": [
    "vis_B18_SCC <- read.csv('/QRISdata/Q2051/SCC_Paper/resources/data/Data_For_Github_Codes/Onkar_Levi/SkinCancerAtlas/cci_results/visium_scc_B18_SCC_lr_sig_scores.csv', row.names = 1)\n",
    "vis_E15_SCC <- read.csv('/QRISdata/Q2051/SCC_Paper/resources/data/Data_For_Github_Codes/Onkar_Levi/SkinCancerAtlas/cci_results/visium_scc_E15_SCC_lr_sig_scores.csv', row.names = 1)\n",
    "vis_F21_SCC <- read.csv('/QRISdata/Q2051/SCC_Paper/resources/data/Data_For_Github_Codes/Onkar_Levi/SkinCancerAtlas/cci_results/visium_scc_F21_SCC_lr_sig_scores.csv', row.names = 1)\n",
    "vis_P13_SCC <- read.csv('/QRISdata/Q2051/SCC_Paper/resources/data/Data_For_Github_Codes/Onkar_Levi/SkinCancerAtlas/cci_results/visium_scc_P13_SCC_lr_sig_scores.csv', row.names = 1)\n",
    "vis_P30_SCC <- read.csv('/QRISdata/Q2051/SCC_Paper/resources/data/Data_For_Github_Codes/Onkar_Levi/SkinCancerAtlas/cci_results/visium_scc_P30_SCC_lr_sig_scores.csv', row.names = 1)\n",
    "cos_B18_SCC <- read.csv('/QRISdata/Q2051/SCC_Paper/resources/data/Data_For_Github_Codes/Onkar_Levi/SkinCancerAtlas/cci_results/cosmx_scc_B18_SCC_lr_sig_scores.csv', row.names = 1)\n",
    "cos_P13_SCC <- read.csv('/QRISdata/Q2051/SCC_Paper/resources/data/Data_For_Github_Codes/Onkar_Levi/SkinCancerAtlas/cci_results/cosmx_scc_P13_SCC_lr_sig_scores.csv', row.names = 1)\n",
    "cos_P30_SCC <- read.csv('/QRISdata/Q2051/SCC_Paper/resources/data/Data_For_Github_Codes/Onkar_Levi/SkinCancerAtlas/cci_results/cosmx_scc_P30_SCC_lr_sig_scores.csv', row.names = 1)\n",
    "\n",
    "vis_B18_BCC <- read.csv('/QRISdata/Q2051/SCC_Paper/resources/data/Data_For_Github_Codes/Onkar_Levi/SkinCancerAtlas/cci_results/visium_bcc_B18_BCC_lr_sig_scores.csv', row.names = 1)\n",
    "vis_E15_BCC <- read.csv('/QRISdata/Q2051/SCC_Paper/resources/data/Data_For_Github_Codes/Onkar_Levi/SkinCancerAtlas/cci_results/visium_bcc_E15_BCC_lr_sig_scores.csv', row.names = 1)\n",
    "vis_F21_BCC <- read.csv('/QRISdata/Q2051/SCC_Paper/resources/data/Data_For_Github_Codes/Onkar_Levi/SkinCancerAtlas/cci_results/visium_bcc_F21_BCC_lr_sig_scores.csv', row.names = 1)\n",
    "cos_B18_BCC <- read.csv('/QRISdata/Q2051/SCC_Paper/resources/data/Data_For_Github_Codes/Onkar_Levi/SkinCancerAtlas/cci_results/cosmx_bcc_B18_BCC_lr_sig_scores.csv', row.names = 1)\n",
    "cos_D12_BCC <- read.csv('/QRISdata/Q2051/SCC_Paper/resources/data/Data_For_Github_Codes/Onkar_Levi/SkinCancerAtlas/cci_results/cosmx_bcc_D12_BCC_lr_sig_scores.csv', row.names = 1)\n",
    "\n",
    "vis_6767_Mel <- read.csv('/QRISdata/Q2051/SCC_Paper/resources/data/Data_For_Github_Codes/Onkar_Levi/SkinCancerAtlas/cci_results/visium_mela_6767_Mel_lr_sig_scores.csv', row.names = 1)\n",
    "vis_21031_Mel <- read.csv('/QRISdata/Q2051/SCC_Paper/resources/data/Data_For_Github_Codes/Onkar_Levi/SkinCancerAtlas/cci_results/visium_mela_21031_Mel_lr_sig_scores.csv', row.names = 1)\n",
    "vis_48974_Mel <- read.csv('/QRISdata/Q2051/SCC_Paper/resources/data/Data_For_Github_Codes/Onkar_Levi/SkinCancerAtlas/cci_results/visium_mela_48974_Mel_lr_sig_scores.csv', row.names = 1)\n",
    "vis_66487_Mel <- read.csv('/QRISdata/Q2051/SCC_Paper/resources/data/Data_For_Github_Codes/Onkar_Levi/SkinCancerAtlas/cci_results/visium_mela_66487_Mel_lr_sig_scores.csv', row.names = 1)\n",
    "cos_6747_Mel <- read.csv('/QRISdata/Q2051/SCC_Paper/resources/data/Data_For_Github_Codes/Onkar_Levi/SkinCancerAtlas/cci_results/cosmx_mela_6747-085P_lr_sig_scores.csv', row.names = 1)\n",
    "cos_66487_Mel <- read.csv('/QRISdata/Q2051/SCC_Paper/resources/data/Data_For_Github_Codes/Onkar_Levi/SkinCancerAtlas/cci_results/cosmx_mela_66487-1A_lr_sig_scores.csv', row.names = 1)\n",
    "cos_48974_Mel <- read.csv('/QRISdata/Q2051/SCC_Paper/resources/data/Data_For_Github_Codes/Onkar_Levi/SkinCancerAtlas/cci_results/cosmx_mela_48974-2B_lr_sig_scores.csv', row.names = 1)\n",
    "cos_21031_Mel <- read.csv('/QRISdata/Q2051/SCC_Paper/resources/data/Data_For_Github_Codes/Onkar_Levi/SkinCancerAtlas/cci_results/cosmx_mela_21031-08TB_lr_sig_scores.csv', row.names = 1)"
   ],
   "outputs": [],
   "execution_count": null
  },
  {
   "cell_type": "code",
   "id": "5e3987cd-f2fa-4139-8e57-f68e85234b5a",
   "metadata": {},
   "source": [
    "# Calculate the average of each column for each data frame\n",
    "avg_vis_B18_SCC <- as.data.frame(colMeans(vis_B18_SCC, na.rm = TRUE))\n",
    "colnames(avg_vis_B18_SCC) <- \"B18_SCC\"\n",
    "avg_vis_E15_SCC <- as.data.frame(colMeans(vis_E15_SCC, na.rm = TRUE))\n",
    "colnames(avg_vis_E15_SCC) <- \"E15_SCC\"\n",
    "avg_vis_F21_SCC <- as.data.frame(colMeans(vis_F21_SCC, na.rm = TRUE))\n",
    "colnames(avg_vis_F21_SCC) <- \"F21_SCC\"\n",
    "avg_vis_P13_SCC <- as.data.frame(colMeans(vis_P13_SCC, na.rm = TRUE))\n",
    "colnames(avg_vis_P13_SCC) <- \"P13_SCC\"\n",
    "avg_vis_P30_SCC <- as.data.frame(colMeans(vis_P30_SCC, na.rm = TRUE))\n",
    "colnames(avg_vis_P30_SCC) <- \"P30_SCC\"\n",
    "avg_cos_B18_SCC <- as.data.frame(colMeans(cos_B18_SCC, na.rm = TRUE))\n",
    "colnames(avg_cos_B18_SCC) <- \"B18_SCC\"\n",
    "avg_cos_P13_SCC <- as.data.frame(colMeans(cos_P13_SCC, na.rm = TRUE))\n",
    "colnames(avg_cos_P13_SCC) <- \"P13_SCC\"\n",
    "avg_cos_P30_SCC <- as.data.frame(colMeans(cos_P30_SCC, na.rm = TRUE))\n",
    "colnames(avg_cos_P30_SCC) <- \"P30_SCC\"\n",
    "\n",
    "avg_vis_B18_BCC <- as.data.frame(colMeans(vis_B18_BCC, na.rm = TRUE))\n",
    "colnames(avg_vis_B18_BCC) <- \"B18_BCC\"\n",
    "avg_vis_E15_BCC <- as.data.frame(colMeans(vis_E15_BCC, na.rm = TRUE))\n",
    "colnames(avg_vis_E15_BCC) <- \"E15_BCC\"\n",
    "avg_vis_F21_BCC <- as.data.frame(colMeans(vis_F21_BCC, na.rm = TRUE))\n",
    "colnames(avg_vis_F21_BCC) <- \"F21_BCC\"\n",
    "avg_cos_B18_BCC <- as.data.frame(colMeans(cos_B18_BCC, na.rm = TRUE))\n",
    "colnames(avg_cos_B18_BCC) <- \"B18_BCC\"\n",
    "avg_cos_D12_BCC <- as.data.frame(colMeans(cos_D12_BCC, na.rm = TRUE))\n",
    "colnames(avg_cos_D12_BCC) <- \"D12_BCC\"\n",
    "\n",
    "avg_vis_6767_Mel <- as.data.frame(colMeans(vis_6767_Mel, na.rm = TRUE))\n",
    "colnames(avg_vis_6767_Mel) <- \"6767_Mel\"\n",
    "avg_vis_21031_Mel <- as.data.frame(colMeans(vis_21031_Mel, na.rm = TRUE))\n",
    "colnames(avg_vis_21031_Mel) <- \"21031_Mel\"\n",
    "avg_vis_48974_Mel <- as.data.frame(colMeans(vis_48974_Mel, na.rm = TRUE))\n",
    "colnames(avg_vis_48974_Mel) <- \"48974_Mel\"\n",
    "avg_vis_66487_Mel <- as.data.frame(colMeans(vis_66487_Mel, na.rm = TRUE))\n",
    "colnames(avg_vis_66487_Mel) <- \"66487_Mel\"\n",
    "avg_cos_6747_Mel <- as.data.frame(colMeans(cos_6747_Mel, na.rm = TRUE))\n",
    "colnames(avg_cos_6747_Mel) <- \"6747_Mel\"\n",
    "avg_cos_66487_Mel <- as.data.frame(colMeans(cos_66487_Mel, na.rm = TRUE))\n",
    "colnames(avg_cos_66487_Mel) <- \"66487_Mel\"\n",
    "avg_cos_48974_Mel <- as.data.frame(colMeans(cos_48974_Mel, na.rm = TRUE))\n",
    "colnames(avg_cos_48974_Mel) <- \"48974_Mel\"\n",
    "avg_cos_21031_Mel <- as.data.frame(colMeans(cos_21031_Mel, na.rm = TRUE))\n",
    "colnames(avg_cos_21031_Mel) <- \"21031_Mel\""
   ],
   "outputs": [],
   "execution_count": null
  },
  {
   "cell_type": "code",
   "id": "228d9c1c-dd65-4d78-b11e-97521116fa55",
   "metadata": {},
   "source": [
    "multimerge <- function (mylist) {\n",
    "    ## mimics a recursive merge or full outer join\n",
    "\n",
    "    unames <- unique(unlist(lapply(mylist, rownames)))\n",
    "\n",
    "    n <- length(unames)\n",
    "\n",
    "    out <- lapply(mylist, function(df) {\n",
    "\n",
    "    tmp <- matrix(nr = n, nc = ncol(df), dimnames = list(unames,colnames(df)))\n",
    "    tmp[rownames(df), ] <- as.matrix(df)\n",
    "    rm(df); gc()\n",
    "\n",
    "    return(tmp)\n",
    "    })\n",
    "\n",
    "    stopifnot( all( sapply(out, function(x) identical(rownames(x), unames)) ) )\n",
    "\n",
    "    bigout <- do.call(cbind, out)\n",
    "    colnames(bigout) <- paste(rep(names(mylist), sapply(mylist, ncol)), unlist(sapply(mylist, colnames)), sep = \"_\")\n",
    "    return(bigout)\n",
    "}\n",
    "\n",
    "# Combine all the data frames into one\n",
    "l <- list(avg_vis_B18_SCC, avg_vis_E15_SCC, avg_vis_F21_SCC, avg_vis_P13_SCC, avg_vis_P30_SCC, avg_cos_B18_SCC, avg_cos_P13_SCC, avg_cos_P30_SCC, avg_vis_B18_BCC, avg_vis_E15_BCC, avg_vis_F21_BCC, avg_cos_B18_BCC, avg_cos_D12_BCC, avg_vis_6767_Mel, avg_vis_21031_Mel, avg_vis_48974_Mel, avg_vis_66487_Mel, avg_cos_6747_Mel, avg_cos_66487_Mel, avg_cos_48974_Mel, avg_cos_21031_Mel)\n",
    "\n",
    "all_df <- multimerge(l)\n",
    "colnames(all_df) <- c(\"vis_B18_SCC\", \"vis_E15_SCC\", \"vis_F21_SCC\", \"vis_P13_SCC\", \"vis_P30_SCC\", \"cos_B18_SCC\", \"cos_P13_SCC\", \"cos_P30_SCC\", \"vis_B18_BCC\", \"vis_E15_BCC\", \"vis_F21_BCC\", \"cos_B18_BCC\", \"cos_D12_BCC\", \"vis_6767_Mel\", \"vis_21031_Mel\", \"vis_48974_Mel\", \"vis_66487_Mel\", \"cos_6747_Mel\", \"cos_66487_Mel\", \"cos_48974_Mel\", \"cos_21031_Mel\")\n",
    "\n",
    "# make NA values 0\n",
    "all_df[is.na(all_df)] <- 0"
   ],
   "outputs": [],
   "execution_count": null
  },
  {
   "cell_type": "code",
   "id": "6a05409e-c56a-4370-abbc-b05e648fbd52",
   "metadata": {},
   "source": [
    "library(stringr)\n",
    "\n",
    "all_df_t <- as.data.frame(t(all_df))\n",
    "all_df_t$Tech <- c(rep(\"Vis\",5),rep(\"Cos\",3),rep(\"Vis\",3),rep(\"Cos\",2),rep(\"Vis\",4),rep(\"Cos\",4))\n",
    "all_df_t$Cancer <- c(rep(\"SCC\",8),rep(\"BCC\",5),rep(\"Mel\",8))\n",
    "all_df_t$sample <- str_extract(rownames(all_df_t), \"(?<=_)[^_]+(?=_)\")"
   ],
   "outputs": [],
   "execution_count": null
  },
  {
   "cell_type": "code",
   "id": "6706b8ce-9c26-40c9-9d1f-9756ccc33f2f",
   "metadata": {
    "scrolled": true
   },
   "source": [
    "# Normalization and scaling function\n",
    "normalize_and_scale <- function(data) {\n",
    "  numeric_cols <- sapply(data, is.numeric)\n",
    "  data[, numeric_cols] <- scale(data[, numeric_cols]) # Standardization\n",
    "  data[, numeric_cols] <- apply(data[, numeric_cols], 2, function(x) (x - min(x)) / (max(x) - min(x))) # Normalization\n",
    "  \n",
    "  return(data)\n",
    "}\n",
    "\n",
    "# Group by the last two categorical columns and normalize/scale within groups\n",
    "df_normalized <- all_df_t %>%\n",
    "  group_by(Tech) %>%\n",
    "  group_modify(~ normalize_and_scale(.x)) %>%\n",
    "  ungroup()\n",
    "\n",
    "df_normalized[is.na(df_normalized)] <- 0\n",
    "df_normalized <- as.data.frame(df_normalized)\n",
    "rownames(df_normalized) <- paste0(df_normalized$Tech,\"_\",df_normalized$sample,\"_\",df_normalized$Cancer)\n",
    "\n",
    "df_normalized <- df_normalized %>%\n",
    "                 mutate(Cancer = factor(Cancer, levels = c(\"BCC\", \"SCC\", \"Mel\"))) %>%\n",
    "                 arrange(Cancer) "
   ],
   "outputs": [],
   "execution_count": null
  },
  {
   "cell_type": "code",
   "id": "4cae0dda-b3eb-41e4-aa42-b01532cfbfd4",
   "metadata": {},
   "source": [
    "options(repr.plot.height=7.5,repr.plot.width=15)\n",
    "\n",
    "colors <- colorRampPalette(c(\"blue\", \"white\", \"gold\"))(100)\n",
    "annotation_colors <- list(\n",
    "  Cancer = c(\"BCC\" = \"#FAA0A0\", \"SCC\" = \"#FF0000\", \"Mel\" = \"#800000\"),\n",
    "  Tech = c(\"Vis\" = \"Grey\", \"Cos\" = \"Black\")\n",
    ")\n",
    "plot_pheatmap <- pheatmap::pheatmap(df_normalized[,gsub(\"-\",\"_\",c(bcc_up,scc_up,mel_up))], \n",
    "                   cluster_cols = F, \n",
    "                   cluster_rows = F,\n",
    "                   border_color = \"black\",\n",
    "                   gaps_row = c(5,13),\n",
    "                   gaps_col = c(16,33),\n",
    "                   annotation_row=df_normalized[c(\"Tech\",\"Cancer\")],\n",
    "                   annotation_colors = annotation_colors,\n",
    "                   color=colors,\n",
    "                   fontsize_col=20,                 \n",
    "                   angle_col = 90,\n",
    "                   fontsize_row = 17.5)\n",
    "save_pheatmap_pdf(plot_pheatmap, \"/QRISdata/Q2051/SCC_Paper/resources/data/Data_For_Github_Codes/Onkar_Levi/Individual_panels_fig9_10/Cancer_specific_DELRs_heatmap.pdf\", width=25, height=12.5)\n"
   ],
   "outputs": [],
   "execution_count": null
  },
  {
   "cell_type": "code",
   "id": "b03ddd60-793d-4a38-b39e-afa25ab75ed3",
   "metadata": {},
   "source": [],
   "outputs": [],
   "execution_count": null
  }
 ],
 "metadata": {
  "kernelspec": {
   "display_name": "R",
   "language": "R",
   "name": "ir"
  },
  "language_info": {
   "codemirror_mode": "r",
   "file_extension": ".r",
   "mimetype": "text/x-r-source",
   "name": "R",
   "pygments_lexer": "r",
   "version": "4.4.2"
  }
 },
 "nbformat": 4,
 "nbformat_minor": 5
}
