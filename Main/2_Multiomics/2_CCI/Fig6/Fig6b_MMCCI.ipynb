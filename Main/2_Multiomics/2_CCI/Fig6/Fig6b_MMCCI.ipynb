{
 "cells": [
  {
   "cell_type": "code",
   "metadata": {},
   "source": [
    "import multimodal_cci as mmcci\n",
    "import pickle\n",
    "import pandas as pd\n",
    "\n",
    "data_dir = \"/QRISdata/Q2051/SCC_Paper/resources/data/Data_For_Github_Codes/Onkar_Levi/SkinCancerAtlas/cci_results/\"\n",
    "copy_dir = \"/QRISdata/Q2051/SCC_Paper/resources/data/Data_For_Github_Codes/Onkar_Levi/BigData/SCC/stLearn/\"\n",
    "save_dir = '/QRISdata/Q2051/SCC_Paper/resources/data/Data_For_Github_Codes/Onkar_Levi/Individual_panels_fig9_10/'"
   ],
   "outputs": [],
   "execution_count": null
  },
  {
   "cell_type": "code",
   "metadata": {},
   "source": [
    "samples = {\n",
    "    'visium_scc': {\n",
    "        'B18_SCC': 'B18_SCC_stlearn.pkl',\n",
    "        'E15_SCC': 'E15_SCC_stlearn.pkl',\n",
    "        'F21_SCC': 'F21_SCC_stlearn.pkl',\n",
    "        'P13_SCC': 'P13_SCC_stlearn.pkl',\n",
    "        'P30_SCC': 'P30_SCC_stlearn.pkl'\n",
    "    },\n",
    "    'visium_bcc': {\n",
    "        'B18_BCC': 'B18_BCC_stlearn.pkl',\n",
    "        'E15_BCC': 'E15_BCC_stlearn.pkl',\n",
    "        'F21_BCC': 'F21_BCC_stlearn.pkl'\n",
    "    },\n",
    "    'visium_mela': {\n",
    "        '6767_Mel': '6767_Mel_stlearn.pkl',\n",
    "        '21031_Mel': '21031_Mel_stlearn.pkl',\n",
    "        '48974_Mel': '48974_Mel_stlearn.pkl',\n",
    "        '66487_Mel': '66487_Mel_stlearn.pkl'\n",
    "    },\n",
    "    'xenium_mela': {\n",
    "        '23346-10SP': '23346-10SP_stlearn.pkl',\n",
    "        '30037-07BR': '30037-07BR_stlearn.pkl',\n",
    "        '53023-07BR': '53023-07BR_stlearn.pkl',\n",
    "        '6475-07FC': '6475-07FC_stlearn.pkl',\n",
    "        '9474-06BR': '9474-06BR_stlearn.pkl',\n",
    "        '98594-09PY': '98594-09PY_stlearn.pkl'\n",
    "    },\n",
    "    'cosmx_scc': {\n",
    "        'B18_SCC': 'B18_SCC_cutoff50_cosmx_stlearn.pkl',\n",
    "        'P13_SCC': 'P13_cutoff50_cosmx_stlearn.pkl',\n",
    "        'P30_SCC': 'P30_cutoff50_cosmx_stlearn.pkl'\n",
    "    },\n",
    "    'cosmx_bcc': {\n",
    "        'B18_BCC': 'B18_BCC_cutoff50_cosmx_stlearn.pkl',\n",
    "        'D12_BCC': 'D12_cutoff50_cosmx_stlearn.pkl',\n",
    "    },\n",
    "    'cosmx_mela': {\n",
    "        '6747-085P': '6747-085P_cutoff50_cosmx_stlearn.pkl',\n",
    "        '66487-1A': '66487-1A_cutoff50_cosmx_stlearn.pkl',\n",
    "        '48974-2B': '48974-2B_cutoff50_cosmx_stlearn.pkl',\n",
    "        '21031-08TB': '21031-08TB_cutoff50_cosmx_stlearn.pkl'\n",
    "    }\n",
    "}"
   ],
   "outputs": [],
   "execution_count": null
  },
  {
   "cell_type": "code",
   "metadata": {},
   "source": [
    "for tech, sample in samples.items():\n",
    "    for sample_name, file_name in samples[tech].items():\n",
    "        with open(data_dir + file_name, 'rb') as f:\n",
    "            samples[tech][sample_name] = mmcci.tl.convert_stLearn(pickle.load(f), return_adata=True)\n",
    "            # pd.DataFrame(\n",
    "            #     samples[tech][sample_name]['adata'].obsm['lr_sig_scores'], \n",
    "            #     index=samples[tech][sample_name]['adata'].obs_names, \n",
    "            #     columns=samples[tech][sample_name]['adata'].uns['lr_summary'].index\n",
    "            #     ).to_csv(copy_dir + tech + '_' + sample_name + '_lr_sig_scores.csv')"
   ],
   "outputs": [],
   "execution_count": null
  },
  {
   "cell_type": "code",
   "metadata": {},
   "source": [
    "colors = {\n",
    "    \"DC\": \"#5f9d9e\",\n",
    "    \"Endothelial Cell\": \"#f8a41e\",\n",
    "    \"Fibroblast\": \"#458b41\",\n",
    "    \"KC Basal\": \"#f16b6b\",\n",
    "    \"KC Cornified\": \"#9a1f61\",\n",
    "    \"KC Granular\": \"#c72685\",\n",
    "    \"KC Differentiating\": \"#9583bd\",\n",
    "    \"KC Hair\": \"#eb2627\",\n",
    "    \"LC\": \"#37479b\",\n",
    "    \"Macrophage\": \"#eae71d\",\n",
    "    \"Melanocytes\": \"#8b471f\",\n",
    "    \"Melanoma\": \"black\",\n",
    "    \"NK\": \"#99ca3e\",\n",
    "    \"T Cell\": \"#41baeb\",\n",
    "    \"Treg\": \"#bbe5f3\",\n",
    "    \"pDC\": \"#66bf76\",\n",
    "    \"Mast Cell\": \"#7f8133\",\n",
    "    \"mRegDC\":\"#105146\",\n",
    "    'CD8+ T Cell': \"#406573\",\n",
    "    \"B Cell\":\"#fed9b9\",\n",
    "    \"Pericytes\":\"#dca566\",\n",
    "    \"Sweat gland related\":\"#f2634b\",\n",
    "    \"nan\":\"grey\",\n",
    "    'Schwann Cell':'#0b507b',\n",
    "   'Plasma' : '#f1ea9d',\n",
    "   'B Cell' : '#fed9b9',\n",
    "   'KC IFN' : '#f06ba8', \n",
    "   \"Monocytes\":\"#9cc7a1\",\n",
    "   \"KC Dysplastic\": \"#d8c0dd\",\n",
    "   \"Ambiguous\":\"grey\"\n",
    "}\n",
    "\n",
    "# plot colors\n",
    "import matplotlib.pyplot as plt\n",
    "\n",
    "# plot color2dict\n",
    "fig, ax = plt.subplots()\n",
    "for i, (key, value) in enumerate(colors.items()):\n",
    "    ax.bar(i, 0, color=value, label=key)\n",
    "#make legend fully opaque\n",
    "leg = ax.legend()\n",
    "#remove axis ticks and lines\n",
    "ax.axis('off')\n",
    "plt.show()"
   ],
   "outputs": [],
   "execution_count": null
  },
  {
   "cell_type": "code",
   "metadata": {},
   "source": [
    "visium_cci = [sample['lr_scores'] for sample in list(samples['visium_scc'].values()) + list(samples['visium_bcc'].values()) + list(samples['visium_mela'].values())]\n",
    "cosmx_cci = [sample['lr_scores'] for sample in list(samples['cosmx_scc'].values()) + list(samples['cosmx_bcc'].values()) + list(samples['cosmx_mela'].values())]\n",
    "\n",
    "visium_sizes = [sample['n_spots'] for sample in list(samples['visium_scc'].values()) + list(samples['visium_bcc'].values()) + list(samples['visium_mela'].values())]\n",
    "cosmx_sizes = [sample['n_spots'] for sample in list(samples['cosmx_scc'].values()) + list(samples['cosmx_bcc'].values()) + list(samples['cosmx_mela'].values())]\n",
    "\n",
    "visium_scc_pvals = [sample['lr_pvals'] for sample in list(samples['visium_scc'].values())]\n",
    "visium_bcc_pvals = [sample['lr_pvals'] for sample in list(samples['visium_bcc'].values())]\n",
    "visium_mela_pvals = [sample['lr_pvals'] for sample in list(samples['visium_mela'].values())]\n",
    "cosmx_scc_pvals = [sample['lr_pvals'] for sample in list(samples['cosmx_scc'].values())]\n",
    "cosmx_bcc_pvals = [sample['lr_pvals'] for sample in list(samples['cosmx_bcc'].values())]\n",
    "cosmx_mela_pvals = [sample['lr_pvals'] for sample in list(samples['cosmx_mela'].values())]"
   ],
   "outputs": [],
   "execution_count": null
  },
  {
   "cell_type": "code",
   "metadata": {},
   "source": [
    "visium_normalised = mmcci.it.normalise_within_tech(visium_cci, visium_sizes)\n",
    "cosmx_normalised = mmcci.it.normalise_within_tech(cosmx_cci, cosmx_sizes)"
   ],
   "outputs": [],
   "execution_count": null
  },
  {
   "cell_type": "code",
   "metadata": {},
   "source": [
    "visium_scc_normalised = visium_normalised[:5]\n",
    "visium_bcc_normalised = visium_normalised[5:8]\n",
    "visium_mela_normalised = visium_normalised[8:]\n",
    "cosmx_scc_normalised = cosmx_normalised[:3]\n",
    "cosmx_bcc_normalised = cosmx_normalised[3:5]\n",
    "cosmx_mela_normalised = cosmx_normalised[5:]"
   ],
   "outputs": [],
   "execution_count": null
  },
  {
   "cell_type": "code",
   "metadata": {
    "scrolled": true
   },
   "source": [
    "integrated_tech = {}\n",
    "integrated_tech_filtered = {}\n",
    "overall = {}\n",
    "\n",
    "group_names = ['vis_scc', 'vis_bcc', 'vis_mela', 'cos_scc', 'cos_bcc', 'cos_mela']\n",
    "group_samples = [visium_scc_normalised, visium_bcc_normalised, visium_mela_normalised, cosmx_scc_normalised, cosmx_bcc_normalised, cosmx_mela_normalised]\n",
    "group_pvals = [visium_scc_pvals, visium_bcc_pvals, visium_mela_pvals, cosmx_scc_pvals, cosmx_bcc_pvals, cosmx_mela_pvals]\n",
    "\n",
    "for tech, samples, pvals in zip(group_names, group_samples, group_pvals):\n",
    "    integrated_tech[tech] = mmcci.it.integrate_samples(samples, method=\">50%\")\n",
    "    p_vals = mmcci.it.integrate_p_vals(pvals)\n",
    "        \n",
    "    integrated = mmcci.it.remove_insignificant(integrated_tech[tech], p_vals)\n",
    "    integrated_tech_filtered[tech] = integrated\n",
    "    overall[tech] = mmcci.it.calculate_overall_interactions(integrated)\n",
    "    mmcci.plt.network_plot(overall[tech], show_labels=False, node_size=2500, edge_weight=50, figsize=(8,8), node_colors=colors)"
   ],
   "outputs": [],
   "execution_count": null
  },
  {
   "cell_type": "markdown",
   "metadata": {},
   "source": [
    "### SCC, BCC and Melanoma - individual networks"
   ]
  },
  {
   "cell_type": "code",
   "metadata": {},
   "source": [
    "scc_normalised = mmcci.it.normalise_between_tech([integrated_tech['vis_scc'], integrated_tech['cos_scc']])\n",
    "bcc_normalised = mmcci.it.normalise_between_tech([integrated_tech['vis_bcc'], integrated_tech['cos_bcc']])\n",
    "# mela_normalised = mmcci.it.normalise_between_tech([integrated_tech['vis_mela'], integrated_tech['xen_mela'], integrated_tech['cos_mela']])\n",
    "mela_normalised = mmcci.it.normalise_between_tech([integrated_tech['vis_mela'], integrated_tech['cos_mela']])"
   ],
   "outputs": [],
   "execution_count": null
  },
  {
   "cell_type": "code",
   "metadata": {
    "scrolled": true
   },
   "source": [
    "scc_integrated = mmcci.it.integrate_samples(scc_normalised)\n",
    "scc_p_vals = mmcci.it.integrate_p_vals(visium_scc_pvals + cosmx_scc_pvals)\n",
    "scc_integrated = mmcci.it.remove_insignificant(scc_integrated, scc_p_vals)\n",
    "scc_overall = mmcci.it.calculate_overall_interactions(scc_integrated)\n",
    "with plt.rc_context({\"figure.figsize\": (5, 4), \"figure.dpi\": (1200)}):\n",
    "    mmcci.plt.network_plot(scc_overall, show_labels=False, node_size=2500, edge_weight=50, figsize=(8,8), node_colors=colors)\n",
    "    # plt.savefig(save_dir+\"SCC_integrated_net.pdf\", bbox_inches=\"tight\")\n",
    "plt.show()\n",
    "\n",
    "bcc_integrated = mmcci.it.integrate_samples(bcc_normalised)\n",
    "bcc_p_vals = mmcci.it.integrate_p_vals(visium_bcc_pvals + cosmx_bcc_pvals)\n",
    "bcc_integrated = mmcci.it.remove_insignificant(bcc_integrated, bcc_p_vals)\n",
    "bcc_overall = mmcci.it.calculate_overall_interactions(bcc_integrated)\n",
    "with plt.rc_context({\"figure.figsize\": (5, 4), \"figure.dpi\": (1200)}):\n",
    "    mmcci.plt.network_plot(bcc_overall, show_labels=False, node_size=2500, edge_weight=50, figsize=(8,8), node_colors=colors)\n",
    "    # plt.savefig(save_dir+\"BCC_integrated_net.pdf\", bbox_inches=\"tight\")\n",
    "plt.show()\n",
    "\n",
    "mela_integrated = mmcci.it.integrate_samples(mela_normalised)\n",
    "# p_vals = mmcci.it.integrate_p_vals(visium_mela_pvals + xenium_mela_pvals + cosmx_mela_pvals)\n",
    "mela_p_vals = mmcci.it.integrate_p_vals(visium_mela_pvals + cosmx_mela_pvals)\n",
    "mela_integrated = mmcci.it.remove_insignificant(mela_integrated, mela_p_vals)\n",
    "mela_overall = mmcci.it.calculate_overall_interactions(mela_integrated)\n",
    "with plt.rc_context({\"figure.figsize\": (5, 4), \"figure.dpi\": (1200)}):\n",
    "    mmcci.plt.network_plot(mela_overall, show_labels=False, node_size=2500, edge_weight=50, figsize=(8,8), node_colors=colors)\n",
    "    # plt.savefig(save_dir+\"Mela_integrated_net.pdf\", bbox_inches=\"tight\")\n",
    "plt.show()"
   ],
   "outputs": [],
   "execution_count": null
  },
  {
   "cell_type": "code",
   "metadata": {
    "scrolled": true
   },
   "source": [
    "all_integrated = mmcci.it.integrate_samples([scc_integrated, bcc_integrated, mela_integrated], method=\"all\")\n",
    "p_vals = mmcci.it.integrate_p_vals(visium_scc_pvals + cosmx_scc_pvals + visium_bcc_pvals + cosmx_bcc_pvals + visium_mela_pvals + cosmx_mela_pvals)\n",
    "all_integrated = mmcci.it.remove_insignificant(all_integrated, p_vals)\n",
    "all_overall = mmcci.it.calculate_overall_interactions(all_integrated)\n",
    "with plt.rc_context({\"figure.figsize\": (5, 4), \"figure.dpi\": (1200)}):\n",
    "    mmcci.plt.network_plot(all_overall, show_labels=False, node_size=2500, edge_weight=50, figsize=(8,8), node_colors=colors)\n",
    "    # plt.savefig(save_dir+\"All_integrated_net.pdf\", bbox_inches=\"tight\")\n",
    "plt.show()"
   ],
   "outputs": [],
   "execution_count": null
  },
  {
   "cell_type": "code",
   "metadata": {
    "scrolled": true
   },
   "source": [
    "print(list(set(list(scc_integrated.keys()) + list(bcc_integrated.keys()) + list(mela_integrated.keys()))))"
   ],
   "outputs": [],
   "execution_count": null
  },
  {
   "cell_type": "markdown",
   "metadata": {},
   "source": [
    "### SCC vs BCC"
   ]
  },
  {
   "cell_type": "code",
   "metadata": {
    "scrolled": true
   },
   "source": [
    "# scc vs bcc\n",
    "diff = mmcci.an.get_network_diff(scc_overall, bcc_overall)\n",
    "p_values = mmcci.an.perm_test(scc_overall, bcc_overall)\n",
    "with plt.rc_context({\"figure.figsize\": (5, 4), \"figure.dpi\": (1200)}):\n",
    "    mmcci.plt.network_plot(diff, p_values, diff_plot=True, show_labels=False, node_size=2500, edge_weight=50, figsize=(8,8), node_colors=colors)\n",
    "    # plt.savefig(save_dir+\"SCC_vs_BCC_LR_diff_net.pdf\", bbox_inches=\"tight\")\n",
    "plt.show()\n",
    "\n",
    "dissimilarity_scores = mmcci.an.calculate_dissim(scc_integrated, bcc_integrated)\n",
    "mmcci.plt.dissim_hist(dissimilarity_scores)\n",
    "\n",
    "with plt.rc_context({\"figure.figsize\": (5, 4), \"figure.dpi\": (1200)}):\n",
    "    mmcci.plt.lr_top_dissimilarity(dissimilarity_scores)\n",
    "    # plt.savefig(save_dir+\"SCC_vs_BCC_LR_diff_barplot.pdf\", bbox_inches=\"tight\")\n",
    "plt.show()\n",
    "\n",
    "mmcci.plt.lr_top_dissimilarity(dissimilarity_scores, top=False)\n",
    "\n",
    "top = sorted(\n",
    "    dissimilarity_scores.items(), key=lambda x: x[1], reverse=False\n",
    ")\n",
    "top_n_items = top[-(int(len(top)/2)):]\n",
    "top_pairs, values = zip(*top_n_items)\n",
    "\n",
    "bottom = sorted(\n",
    "    dissimilarity_scores.items(), key=lambda x: x[1], reverse=True\n",
    ")\n",
    "bottom_n_items = bottom[-(int(len(bottom)/2)):]\n",
    "bottom_pairs, values = zip(*bottom_n_items)\n",
    "\n",
    "# top_pathways = mmcci.an.run_gsea(None, top_pairs, top_term=20, figsize=(5,10))\n",
    "# bottom_pathways = mmcci.an.run_gsea(None, bottom_pairs, top_term=20, figsize=(5,10))\n",
    "\n",
    "# print(set(top_pathways[top_pathways['Adjusted P-value'] < 0.05]['Term']) - set(bottom_pathways[bottom_pathways['Adjusted P-value'] < 0.05]['Term']))\n",
    "# print(set(bottom_pathways[bottom_pathways['Adjusted P-value'] < 0.05]['Term']) - set(top_pathways[top_pathways['Adjusted P-value'] < 0.05]['Term']))\n",
    "\n",
    "scc_bcc_dissimilar = [item[0] for item in top_n_items if item[1] > 0.15]\n",
    "scc_bcc_similar = [item[0] for item in top_n_items if item[1] < 0.15]"
   ],
   "outputs": [],
   "execution_count": null
  },
  {
   "cell_type": "markdown",
   "metadata": {},
   "source": [
    "### SCC+BCC vs Melanoma"
   ]
  },
  {
   "cell_type": "code",
   "metadata": {
    "scrolled": true
   },
   "source": [
    "scc_bcc_integrated = mmcci.it.integrate_samples([scc_integrated, bcc_integrated], method=\"all\")\n",
    "p_vals = mmcci.it.integrate_p_vals(visium_scc_pvals + cosmx_scc_pvals + visium_bcc_pvals + cosmx_bcc_pvals)\n",
    "scc_bcc_integrated = mmcci.it.remove_insignificant(scc_bcc_integrated, p_vals)\n",
    "scc_bcc_overall = mmcci.it.calculate_overall_interactions(scc_bcc_integrated)\n",
    "mmcci.plt.network_plot(scc_bcc_overall, show_labels=False, node_size=2500, edge_weight=50, figsize=(8,8), node_colors=colors)"
   ],
   "outputs": [],
   "execution_count": null
  },
  {
   "cell_type": "code",
   "metadata": {},
   "source": [
    "len(list(scc_bcc_integrated.keys()))"
   ],
   "outputs": [],
   "execution_count": null
  },
  {
   "cell_type": "code",
   "metadata": {},
   "source": [
    "diff = mmcci.an.get_network_diff(mela_overall, scc_bcc_overall)\n",
    "p_values = mmcci.an.perm_test(mela_overall, scc_bcc_overall)\n",
    "with plt.rc_context({\"figure.figsize\": (5, 4), \"figure.dpi\": (1200)}):\n",
    "    mmcci.plt.network_plot(diff, p_values, diff_plot=True, show_labels=False, node_size=2500, edge_weight=50, figsize=(8,8), node_colors=colors, remove_unconnected=False, show=False)\n",
    "    # plt.savefig(save_dir+\"SCC-BCC_vs_Mel_LR_diff_net.pdf\", bbox_inches=\"tight\")\n",
    "plt.show()\n",
    "\n",
    "dissimilarity_scores = mmcci.an.calculate_dissim(mela_integrated, scc_bcc_integrated)\n",
    "mmcci.plt.dissim_hist(dissimilarity_scores)\n",
    "with plt.rc_context({\"figure.figsize\": (5, 4), \"figure.dpi\": (1200)}):\n",
    "    mmcci.plt.lr_top_dissimilarity(dissimilarity_scores)\n",
    "    # plt.savefig(save_dir+\"SCC-BCC_vs_Mel_LR_diff_barplot.pdf\", bbox_inches=\"tight\")\n",
    "plt.show()"
   ],
   "outputs": [],
   "execution_count": null
  },
  {
   "cell_type": "markdown",
   "metadata": {},
   "source": [
    "### DELRs Networks"
   ]
  },
  {
   "cell_type": "code",
   "metadata": {},
   "source": [
    "mel_up_lrs = [\n",
    "    'COL1A1_DDR2', 'COL1A1_ITGB1', 'COL1A1_CD44', 'COL1A1_CD36', 'COL1A1_ITGA5', \n",
    "    'COL1A1_ITGA2', 'COL1A1_DDR1', 'COL3A1_DDR2', 'COL3A1_DDR1', 'COL1A2_ITGB1', \n",
    "    'COL1A2_ITGA2', 'COL1A2_CD44', 'CCL19_CXCR3', 'CCL19_CCRL2', 'CCL5_ACKR1', \n",
    "    'AZGP1_ITGAV', 'CCL5_CCR1', 'FGF18_FGFR1', 'FGF2_FGFR1', 'VCAN_CD44', \n",
    "    'FGF1_FGFR1', 'FGF9_FGFR1', 'LTB_CD40', 'IL34_CSF1R', 'ICAM3_ITGB2', \n",
    "    'FGF1_CD44', 'LTB_LTBR', 'IL15_IL2RG', 'EGF_ERBB3', 'ICAM2_ITGB2', \n",
    "    'TSLP_IL7R', 'FGF2_CD44', 'ADM2_RAMP3', 'IL15_IL15RA', 'CLCF1_LIFR', \n",
    "    'PDCD1LG2_PDCD1', 'TNFSF14_TNFRSF14'\n",
    "]\n",
    "\n",
    "scc_bcc_up_lrs = [\n",
    "    'S100A8_TLR4', 'S100A9_TLR4', 'EPCAM_EPCAM', 'CCL21_CCR7', 'CCL21_ACKR4', \n",
    "    'CCL21_CXCR3', 'CCL2_ACKR4', 'CCL7_CCR1', 'SPP1_ITGB1', 'COL4A1_ITGAV', \n",
    "    'SPP1_ITGAV', 'SPP1_ITGB5', 'CXCL1_CXCR2', 'IL1B_IL1R2', 'THBS1_ITGB1', \n",
    "    'THBS1_CD47', 'THBS1_TNFRSF11B', 'IL1RN_IL1R2', 'IL1B_IL1R1', 'MMP1_ITGA2', \n",
    "    'IL1B_IL1RAP', 'WNT5A_FZD7', 'CCL3_CCR5', 'WNT5A_FZD8', 'CCL4_CCR5', \n",
    "    'INHBA_ACVR1', 'CXCL2_CXCR1', 'WNT5A_FZD6', 'IL24_IL20RA', 'CCL8_CCR5', \n",
    "    'CXCL8_CXCR2', 'CXCL16_CXCR6', 'CXCL8_CXCR1', 'IL6_IL6ST', 'CSF3_CSF3R'\n",
    "]\n",
    "\n",
    "# Old list  ========================================================================================================================================\n",
    "# mel_up_lrs = ['COL1A1_ITGB1', 'COL1A1_DDR2', 'COL1A1_ITGA2', 'COL1A1_CD36', 'COL1A1_ITGA5', 'COL1A1_CD44', 'COL1A1_DDR1', 'COL3A1_DDR2', 'COL3A1_DDR1', 'COL1A2_ITGB1', 'COL1A2_ITGA2', 'COL1A2_CD44', 'CCL5_ACKR1', 'CCL5_CCR1', 'FGF1_FGFR1', 'FGF2_FGFR1', 'VCAN_CD44', 'CCL5_CCR5', 'MMP7_CD44', 'ICAM3_ITGB2', 'FGF1_CD44', 'CD34_SELL', 'IL34_CSF1R', 'FGF2_CD44', 'ICAM2_ITGB2', 'BMP4_BMPR2', 'LGALS3_LAG3', 'IL11_IL11RA', 'NRG1_ERBB3', 'TNFSF14_TNFRSF14']\n",
    "# scc_bcc_up_lrs = ['S100A8_TLR4', 'S100A9_TLR4', 'EPCAM_EPCAM', 'CCL21_ACKR4', 'CCL21_CXCR3', 'CCL2_ACKR4', 'COL4A1_ITGA1', 'CCL7_CCR1', 'COL4A1_ITGAV', 'SPP1_ITGAV', 'IL1B_IL1R2', 'THBS1_ITGB1', 'THBS1_TNFRSF11B', 'IL1B_IL1R1', 'IL1B_IL1RAP', 'MMP1_ITGA2', 'COL18A1_ITGA5', 'WNT5A_FZD8', 'CXCL8_CXCR2', 'CXCL8_CXCR1']"
   ],
   "outputs": [],
   "execution_count": null
  },
  {
   "cell_type": "code",
   "metadata": {
    "scrolled": true
   },
   "source": [
    "mela_up_subset = {lr: mela_integrated[lr] for lr in mel_up_lrs}\n",
    "mela_up_subset_overall = mmcci.it.calculate_overall_interactions(mela_up_subset)\n",
    "mmcci.plt.network_plot(mela_up_subset_overall, show_labels=False, node_size=2500, edge_weight=50, figsize=(8,8), node_colors=colors, remove_unconnected=False)\n",
    "with plt.rc_context({\"figure.figsize\": (5, 4), \"figure.dpi\": (1200)}):\n",
    "    mmcci.an.run_gsea(mela_up_subset, gene_sets=[\"MSigDB_Hallmark_2020\"], top_term=10)\n",
    "    plt.savefig(save_dir+\"Mela_up_LRs_MSigDB_Hallmark_2020.pdf\", bbox_inches=\"tight\")\n",
    "\n",
    "scc_bcc_mela_up_subset = {lr: scc_bcc_integrated[lr] for lr in mel_up_lrs}\n",
    "scc_bcc_mela_up_subset_overall = mmcci.it.calculate_overall_interactions(scc_bcc_mela_up_subset)\n",
    "mmcci.plt.network_plot(scc_bcc_mela_up_subset_overall, show_labels=False, node_size=2500, edge_weight=50, figsize=(8,8), node_colors=colors, remove_unconnected=False)\n",
    "# mmcci.an.run_gsea(mela_up_subset, gene_sets=[\"KEGG_2021_Human\", \"MSigDB_Hallmark_2020\"])\n",
    "\n",
    "diff = mmcci.an.get_network_diff(mela_up_subset_overall, scc_bcc_mela_up_subset_overall)\n",
    "p_values = mmcci.an.perm_test(mela_up_subset_overall, scc_bcc_mela_up_subset_overall)\n",
    "\n",
    "with plt.rc_context({\"figure.figsize\": (5, 4), \"figure.dpi\": (1200)}):\n",
    "    mmcci.plt.network_plot(diff, p_values, diff_plot=True, show_labels=False, node_size=2500, edge_weight=50, figsize=(8,8), node_colors=colors, remove_unconnected=False)\n",
    "    plt.savefig(save_dir+\"SCC-BCC_vs_Mela_up_LR_diffnet.pdf\", bbox_inches=\"tight\")"
   ],
   "outputs": [],
   "execution_count": null
  },
  {
   "cell_type": "code",
   "metadata": {
    "scrolled": true
   },
   "source": [
    "scc_bcc_up_subset = {lr: scc_integrated[lr] for lr in scc_bcc_up_lrs}\n",
    "scc_bcc_up_subset_overall = mmcci.it.calculate_overall_interactions(scc_bcc_up_subset)\n",
    "mmcci.plt.network_plot(scc_bcc_up_subset_overall, show_labels=False, node_size=2500, edge_weight=50, figsize=(8,8), node_colors=colors, remove_unconnected=False)\n",
    "\n",
    "with plt.rc_context({\"figure.figsize\": (5, 4), \"figure.dpi\": (1200)}):\n",
    "    mmcci.an.run_gsea(scc_bcc_up_subset, gene_sets=[\"MSigDB_Hallmark_2020\"], top_term=10)\n",
    "    plt.savefig(save_dir+\"SCC-BCC_up_LRs_MSigDB_Hallmark_2020.pdf\", bbox_inches=\"tight\")\n",
    "    \n",
    "mela_scc_bcc_up_subset = {lr: mela_integrated[lr] for lr in scc_bcc_up_lrs}\n",
    "mela_scc_bcc_up_subset_overall = mmcci.it.calculate_overall_interactions(mela_scc_bcc_up_subset)\n",
    "mmcci.plt.network_plot(mela_scc_bcc_up_subset_overall, show_labels=False, node_size=2500, edge_weight=50, figsize=(8,8), node_colors=colors, remove_unconnected=False)\n",
    "# mmcci.an.run_gsea(mela_up_subset, gene_sets=[\"KEGG_2021_Human\", \"MSigDB_Hallmark_2020\"])\n",
    "\n",
    "diff = mmcci.an.get_network_diff(mela_scc_bcc_up_subset_overall, scc_bcc_up_subset_overall)\n",
    "p_values = mmcci.an.perm_test(mela_scc_bcc_up_subset_overall, scc_bcc_up_subset_overall)\n",
    "with plt.rc_context({\"figure.figsize\": (5, 4), \"figure.dpi\": (1200)}):\n",
    "    mmcci.plt.network_plot(diff, p_values, diff_plot=True, show_labels=False, node_size=2500, edge_weight=50, figsize=(8,8), node_colors=colors, remove_unconnected=False)\n",
    "    plt.savefig(save_dir+\"Mela_vs_SCC-BCC_up_LR_diffnet.pdf\", bbox_inches=\"tight\")\n"
   ],
   "outputs": [],
   "execution_count": null
  },
  {
   "cell_type": "code",
   "metadata": {},
   "source": [
    "scc_bcc_results = mmcci.an.run_gsea(scc_bcc_integrated, gene_sets=[\"MSigDB_Hallmark_2020\"], show_barplot=False)\n",
    "mela_results = mmcci.an.run_gsea(mela_integrated, gene_sets=[\"MSigDB_Hallmark_2020\"], show_barplot=False)"
   ],
   "outputs": [],
   "execution_count": null
  },
  {
   "cell_type": "code",
   "metadata": {
    "scrolled": true
   },
   "source": [
    "scc_bcc_grouped = mmcci.an.pathway_subset(scc_bcc_integrated, scc_bcc_results, [\"Epithelial Mesenchymal Transition\"], strict=True)\n",
    "scc_bcc_grouped_overall = mmcci.it.calculate_overall_interactions(scc_bcc_grouped)\n",
    "mmcci.plt.network_plot(scc_bcc_grouped_overall, show_labels=False, node_size=2500, edge_weight=50, figsize=(8,8), node_colors=colors, remove_unconnected=False)\n",
    "mmcci.plt.lr_barplot(scc_bcc_grouped)\n",
    "\n",
    "mela_grouped = mmcci.an.pathway_subset(mela_integrated, mela_results, [\"Epithelial Mesenchymal Transition\"], strict=True)\n",
    "mela_grouped_overall = mmcci.it.calculate_overall_interactions(mela_grouped)\n",
    "mmcci.plt.network_plot(mela_grouped_overall, show_labels=False, node_size=2500, edge_weight=50, figsize=(8,8), node_colors=colors, remove_unconnected=False)\n",
    "mmcci.plt.lr_barplot(mela_grouped)\n",
    "\n",
    "diff = mmcci.an.get_network_diff(mela_grouped_overall, scc_bcc_grouped_overall)\n",
    "p_values = mmcci.an.perm_test(mela_scc_bcc_up_subset_overall, scc_bcc_up_subset_overall)\n",
    "with plt.rc_context({\"figure.figsize\": (5, 4), \"figure.dpi\": (1200)}):\n",
    "    mmcci.plt.network_plot(diff, p_values, diff_plot=True, show_labels=False, node_size=2500, edge_weight=50, figsize=(8,8), node_colors=colors, remove_unconnected=False)\n",
    "    plt.savefig(save_dir+\"Mela_vs_SCC-BCC_EMT.pdf\", bbox_inches=\"tight\")"
   ],
   "outputs": [],
   "execution_count": null
  },
  {
   "cell_type": "markdown",
   "metadata": {},
   "source": [
    "### MIF-CD74 network"
   ]
  },
  {
   "cell_type": "code",
   "metadata": {
    "scrolled": true
   },
   "source": [
    "with plt.rc_context({\"figure.figsize\": (5, 4), \"figure.dpi\": (1200)}):\n",
    "    mmcci.plt.network_plot(scc_integrated['MIF_CD74'], show_labels=False, node_size=2500, edge_weight=50, figsize=(8,8), node_colors=colors, remove_unconnected=False)\n",
    "    plt.savefig(save_dir+\"SCC_MIF-CD74.pdf\", bbox_inches=\"tight\")\n",
    "\n",
    "with plt.rc_context({\"figure.figsize\": (5, 4), \"figure.dpi\": (1200)}):\n",
    "    mmcci.plt.network_plot(bcc_integrated['MIF_CD74'], show_labels=False, node_size=2500, edge_weight=50, figsize=(8,8), node_colors=colors, remove_unconnected=False)\n",
    "    plt.savefig(save_dir+\"BCC_MIF-CD74.pdf\", bbox_inches=\"tight\")\n",
    "\n",
    "with plt.rc_context({\"figure.figsize\": (5, 4), \"figure.dpi\": (1200)}):\n",
    "    mmcci.plt.network_plot(mela_integrated['MIF_CD74'], show_labels=False, node_size=2500, edge_weight=50, figsize=(8,8), node_colors=colors, remove_unconnected=False)\n",
    "    plt.savefig(save_dir+\"Mela_MIF-CD74.pdf\", bbox_inches=\"tight\")"
   ],
   "outputs": [],
   "execution_count": null
  },
  {
   "cell_type": "code",
   "metadata": {
    "scrolled": true
   },
   "source": [
    "# diff = mmcci.an.get_network_diff(scc_bcc_integrated['MIF_CD74'], mela_integrated['MIF_CD74'])\n",
    "# p_values = mmcci.an.perm_test(scc_bcc_integrated['MIF_CD74'], mela_integrated['MIF_CD74'])\n",
    "with plt.rc_context({\"figure.figsize\": (5, 4), \"figure.dpi\": (1200)}):\n",
    "    mmcci.plt.network_plot(diff, p_values, diff_plot=True, show_labels=False, node_size=2500, edge_weight=0.005, figsize=(8,8), node_colors=colors, remove_unconnected=False)\n",
    "    plt.savefig(save_dir+\"SCC-BCC_vs_Mela_MIF-CD74.pdf\", bbox_inches=\"tight\")"
   ],
   "outputs": [],
   "execution_count": null
  },
  {
   "cell_type": "markdown",
   "metadata": {},
   "source": [
    "## Heatmaps"
   ]
  },
  {
   "cell_type": "code",
   "metadata": {
    "scrolled": true
   },
   "source": [
    "def mask_non_significant(diff, pval, pval_threshold):\n",
    "    significant_rows = pval.lt(pval_threshold).any(axis=1)\n",
    "    significant_cols = pval.lt(pval_threshold).any(axis=0)\n",
    "    filtered_diff = diff.loc[significant_rows, significant_cols]\n",
    "    return filtered_diff\n",
    "\n",
    "diff_mela = mmcci.an.get_network_diff(mela_overall, scc_bcc_overall)\n",
    "p_values_mela = mmcci.an.perm_test(mela_overall, scc_bcc_overall)\n",
    "diff_mela = mask_non_significant(diff_mela, p_values_mela, pval_threshold=0.05)\n",
    "\n",
    "diff_scc = mmcci.an.get_network_diff(scc_overall, bcc_overall)\n",
    "p_values_scc = mmcci.an.perm_test(scc_overall, bcc_overall)\n",
    "diff_scc = mask_non_significant(diff_scc, p_values_scc, pval_threshold=0.05)\n",
    "\n",
    "# diff_bcc = mmcci.an.get_network_diff(bcc_overall, scc_mel_overall)\n",
    "# p_values_bcc = mmcci.an.perm_test(bcc_overall, scc_mel_overall)\n",
    "# diff_bcc = mask_non_significant(diff_bcc, p_values_bcc, pval_threshold=0.05)\n",
    "\n",
    "import seaborn as sns\n",
    "with plt.rc_context({\"figure.figsize\": (5, 4), \"figure.dpi\": (300)}):\n",
    "    sns.heatmap(diff_mela, center=0, cmap=\"coolwarm\", vmin=-0.1, vmax=0.1)\n",
    "    plt.xticks(fontsize=12)  \n",
    "    plt.yticks(fontsize=12)\n",
    "    plt.savefig(\"Mela_differential_interactions_heatmap.pdf\", bbox_inches=\"tight\")\n",
    "    plt.show()\n",
    "    \n",
    "with plt.rc_context({\"figure.figsize\": (5, 4), \"figure.dpi\": (300)}):\n",
    "    sns.heatmap(diff_scc, center=0, cmap=\"coolwarm\", vmin=-0.1, vmax=0.1)\n",
    "    plt.xticks(fontsize=12)  \n",
    "    plt.yticks(fontsize=12)\n",
    "    # plt.show()\n",
    "    plt.savefig(\"SCC_differential_interactions_heatmap.pdf\", bbox_inches=\"tight\")\n",
    "    plt.show()"
   ],
   "outputs": [],
   "execution_count": null
  },
  {
   "cell_type": "code",
   "metadata": {},
   "source": [
    "len(scc_bcc_grouped)"
   ],
   "outputs": [],
   "execution_count": null
  },
  {
   "cell_type": "code",
   "metadata": {},
   "source": [
    "len(mela_grouped)"
   ],
   "outputs": [],
   "execution_count": null
  },
  {
   "cell_type": "code",
   "metadata": {},
   "source": [
    "diff_emt = mask_non_significant(diff, p_values, pval_threshold=0.05)\n",
    "\n",
    "with plt.rc_context({\"figure.figsize\": (5, 4), \"figure.dpi\": (300)}):\n",
    "    sns.heatmap(diff_emt, center=0, cmap=\"coolwarm\", vmin=-0.1, vmax=0.1)\n",
    "    plt.xticks(fontsize=12)  \n",
    "    plt.yticks(fontsize=12)\n",
    "    plt.savefig(\"EMT_differential_interactions_heatmap.pdf\", bbox_inches=\"tight\")\n",
    "    plt.show()"
   ],
   "outputs": [],
   "execution_count": null
  },
  {
   "cell_type": "code",
   "metadata": {},
   "source": [],
   "outputs": [],
   "execution_count": null
  }
 ],
 "metadata": {
  "kernelspec": {
   "display_name": "Python 3 (ipykernel)",
   "language": "python",
   "name": "python3"
  },
  "language_info": {
   "codemirror_mode": {
    "name": "ipython",
    "version": 3
   },
   "file_extension": ".py",
   "mimetype": "text/x-python",
   "name": "python",
   "nbconvert_exporter": "python",
   "pygments_lexer": "ipython3",
   "version": "3.9.21"
  }
 },
 "nbformat": 4,
 "nbformat_minor": 4
}
