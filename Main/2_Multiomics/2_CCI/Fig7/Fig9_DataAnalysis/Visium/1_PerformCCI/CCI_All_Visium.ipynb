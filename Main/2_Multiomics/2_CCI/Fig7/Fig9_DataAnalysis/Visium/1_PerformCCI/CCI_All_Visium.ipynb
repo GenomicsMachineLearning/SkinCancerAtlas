{
 "cells": [
  {
   "cell_type": "code",
   "metadata": {},
   "source": [
    "import stlearn as st\n",
    "import numpy as np\n",
    "import pandas as pd\n",
    "import matplotlib.pyplot as plt"
   ],
   "id": "985eb212dac9e761",
   "outputs": [],
   "execution_count": null
  },
  {
   "cell_type": "code",
   "metadata": {},
   "source": [
    "import scanpy as sc"
   ],
   "id": "d6c4ffb4d286d65e",
   "outputs": [],
   "execution_count": null
  },
  {
   "cell_type": "code",
   "metadata": {},
   "source": [
    "import seaborn as sns"
   ],
   "id": "e6bacd89f69f993d",
   "outputs": [],
   "execution_count": null
  },
  {
   "cell_type": "code",
   "metadata": {},
   "source": [
    "stlearn_path = '/home/s4574396/stLearn/' # stlearn install location, not necessary if pip installed\n",
    "import sys\n",
    "sys.path.append(stlearn_path)\n",
    "import stlearn as st"
   ],
   "id": "4ce9e48928b8e8fb",
   "outputs": [],
   "execution_count": null
  },
  {
   "cell_type": "code",
   "metadata": {},
   "source": [
    "import pickle"
   ],
   "id": "f40ab5490190c412",
   "outputs": [],
   "execution_count": null
  },
  {
   "cell_type": "code",
   "metadata": {},
   "source": [
    "with open('/Users/uqxjin3/Desktop/Visium/Data/Visium_SCC_cci.pkl', 'rb') as inp: \n",
    "    P30SCC = pickle.load(inp) \n",
    "    P13SCC = pickle.load(inp) \n",
    "    B18SCC = pickle.load(inp) \n",
    "    E15SCC = pickle.load(inp) \n",
    "    F21SCC = pickle.load(inp)\n",
    "    \n",
    "with open('/Users/uqxjin3/Desktop/Visium/Data/Visium_Mela_cci.pkl', 'rb') as inp:\n",
    "    Mela66487 = pickle.load(inp) \n",
    "    Mela48974 = pickle.load(inp) \n",
    "    Mela6747 = pickle.load(inp) \n",
    "    Mela21031 = pickle.load(inp)\n",
    "    \n",
    "with open('/Users/uqxjin3/Desktop/Visium/Data/Visium_Mela_cci.pkl', 'rb') as inp:\n",
    "    B18BCC = pickle.load(inp) \n",
    "    E15BCC = pickle.load(inp) \n",
    "    F21BCC = pickle.load(inp) "
   ],
   "id": "a92ac8b6eac37909",
   "outputs": [],
   "execution_count": null
  },
  {
   "cell_type": "code",
   "metadata": {},
   "source": [
    "with open('/scratch/90days/uqxjin3/Visium_SCC_cci.pkl', 'rb') as inp:\n",
    "    P30SCC = pickle.load(inp) \n",
    "    P13SCC = pickle.load(inp) \n",
    "    B18SCC = pickle.load(inp) \n",
    "    E15SCC = pickle.load(inp) \n",
    "    F21SCC = pickle.load(inp) \n",
    "    \n",
    "with open('/scratch/90days/uqxjin3/Visium_Mela_cci.pkl', 'rb') as inp:\n",
    "    Mela66487 = pickle.load(inp) \n",
    "    Mela48974 = pickle.load(inp) \n",
    "    Mela6747 = pickle.load(inp) \n",
    "    Mela21031 = pickle.load(inp)\n",
    "    \n",
    "with open('/scratch/90days/uqxjin3/Visium_BCC_cci.pkl', 'rb') as inp:\n",
    "    B18BCC = pickle.load(inp) \n",
    "    E15BCC = pickle.load(inp) \n",
    "    F21BCC = pickle.load(inp) "
   ],
   "id": "e4d457fcdf1d1a4f",
   "outputs": [],
   "execution_count": null
  },
  {
   "cell_type": "code",
   "metadata": {},
   "source": [
    "### Right Place\n",
    "with open('/afm01/UQ/Q1851/Xinnan/Visium/Visium_result/Visium_SCC_cci.pkl', 'rb') as inp:\n",
    "    P30SCC = pickle.load(inp) \n",
    "    P13SCC = pickle.load(inp) \n",
    "    B18SCC = pickle.load(inp) \n",
    "    E15SCC = pickle.load(inp) \n",
    "    F21SCC = pickle.load(inp) \n",
    "    \n",
    "with open('/afm01/UQ/Q1851/Xinnan/Visium/Visium_result/Visium_Mela_cci.pkl', 'rb') as inp:\n",
    "    Mela66487 = pickle.load(inp) \n",
    "    Mela48974 = pickle.load(inp) \n",
    "    Mela6747 = pickle.load(inp) \n",
    "    Mela21031 = pickle.load(inp)\n",
    "    \n",
    "with open('/afm01/UQ/Q1851/Xinnan/Visium/Visium_result/Visium_BCC_cci.pkl', 'rb') as inp:\n",
    "    B18BCC = pickle.load(inp) \n",
    "    E15BCC = pickle.load(inp) \n",
    "    F21BCC = pickle.load(inp) "
   ],
   "id": "b7f510157d844e0e",
   "outputs": [],
   "execution_count": null
  },
  {
   "cell_type": "code",
   "metadata": {},
   "source": [
    "import csv\n",
    "\n",
    "lr_info_P30SCC = pd.read_csv('/afm01/UQ/Q1851/Xinnan/Visium/Visium_result/P30SCC_All_LR.csv', index_col = 0)\n",
    "lr_info_P13SCC = pd.read_csv(\"/afm01/UQ/Q1851/Xinnan/Visium/Visium_result/P13SCC_All_LR.csv\", index_col = 0)\n",
    "lr_info_B18SCC = pd.read_csv(\"/afm01/UQ/Q1851/Xinnan/Visium/Visium_result/B18SCC_All_LR.csv\", index_col = 0)\n",
    "lr_info_E15SCC = pd.read_csv(\"/afm01/UQ/Q1851/Xinnan/Visium/Visium_result/E15SCC_All_LR.csv\", index_col = 0)\n",
    "lr_info_F21SCC = pd.read_csv(\"/afm01/UQ/Q1851/Xinnan/Visium/Visium_result/F21SCC_All_LR.csv\", index_col = 0)\n",
    "lr_info_Mela66487 = pd.read_csv(\"/afm01/UQ/Q1851/Xinnan/Visium/Visium_result/Mela66487_All_LR.csv\", index_col = 0)\n",
    "lr_info_Mela48974 = pd.read_csv(\"/afm01/UQ/Q1851/Xinnan/Visium/Visium_result/Mela48974_All_LR.csv\", index_col = 0)\n",
    "lr_info_Mela6747 = pd.read_csv(\"/afm01/UQ/Q1851/Xinnan/Visium/Visium_result/Mela6747_All_LR.csv\", index_col = 0)\n",
    "lr_info_Mela21031 = pd.read_csv(\"/afm01/UQ/Q1851/Xinnan/Visium/Visium_result/Mela21031_All_LR.csv\", index_col = 0)\n",
    "lr_info_B18BCC = pd.read_csv(\"/afm01/UQ/Q1851/Xinnan/Visium/Visium_result/B18BCC_All_LR.csv\", index_col = 0)\n",
    "lr_info_E15BCC = pd.read_csv(\"/afm01/UQ/Q1851/Xinnan/Visium/Visium_result/E15BCC_All_LR.csv\", index_col = 0)\n",
    "lr_info_F21BCC = pd.read_csv(\"/afm01/UQ/Q1851/Xinnan/Visium/Visium_result/F21BCC_All_LR.csv\", index_col = 0)"
   ],
   "id": "5f0ea83e65513f85",
   "outputs": [],
   "execution_count": null
  },
  {
   "cell_type": "code",
   "metadata": {},
   "source": [
    "E15BCC.uns['lr_summary']"
   ],
   "id": "d74118c67df263d1",
   "outputs": [],
   "execution_count": null
  },
  {
   "cell_type": "code",
   "metadata": {},
   "source": [
    "Mela6747.uns['lr_summary']"
   ],
   "id": "9828054b9320e9d9",
   "outputs": [],
   "execution_count": null
  },
  {
   "cell_type": "code",
   "metadata": {},
   "source": [
    "E15BCC"
   ],
   "id": "ff3f864435076427",
   "outputs": [],
   "execution_count": null
  },
  {
   "cell_type": "code",
   "metadata": {},
   "source": [
    "with open('/RDS/Q1851/Xinnan/Visium/Visium_result/all_Visium_cci.pkl', 'rb') as inp:\n",
    "    data32A = pickle.load(inp) \n",
    "    data32B = pickle.load(inp) \n",
    "    data25A = pickle.load(inp) \n",
    "    data25C = pickle.load(inp) \n",
    "    data9B1 = pickle.load(inp) \n",
    "    data9C1 = pickle.load(inp) \n",
    "    data9D1 = pickle.load(inp) "
   ],
   "id": "dea780245432d801",
   "outputs": [],
   "execution_count": null
  },
  {
   "cell_type": "code",
   "metadata": {},
   "source": [
    "lr_info_32A = data32A.uns['lr_summary']\n",
    "lr_info_32B = data32B.uns['lr_summary']\n",
    "lr_info_25A = data25A.uns['lr_summary']\n",
    "lr_info_25C = data25C.uns['lr_summary']\n",
    "lr_info_9B1 = data9B1.uns['lr_summary']\n",
    "lr_info_9C1 = data9C1.uns['lr_summary']\n",
    "lr_info_9D1 = data9D1.uns['lr_summary']"
   ],
   "id": "62cd0c9595b933a4",
   "outputs": [],
   "execution_count": null
  },
  {
   "cell_type": "code",
   "metadata": {},
   "source": [
    "#data32A = st.Read10X(\"/RDS/Q2051/SCC_Paper/figures/Fig3_VisiumNanostring_celltypes/working_data/Visium32_BCC_SCC/A1_B18BCC/outs/\")\n",
    "#data32B = st.Read10X(\"/RDS/Q2051/SCC_Paper/figures/Fig3_VisiumNanostring_celltypes/working_data/Visium32_BCC_SCC/B1_P30SCC_P13SCC/outs/\")\n",
    "#data25A = st.Read10X(\"/RDS/Q2051/SCC_Paper/figures/Fig3_VisiumNanostring_celltypes/working_data/Visium25_Melanoma/FFPE_A1s1_66487_48974/outs/\")\n",
    "#data25C = st.Read10X(\"/RDS/Q2051/SCC_Paper/figures/Fig3_VisiumNanostring_celltypes/working_data/Visium25_Melanoma/FFPE_C1s3_6474_21031/outs/\")\n",
    "data9B1 = st.Read10X(\"//scratch/90days/uqxjin3/Visium9_BCC_SCC/Visium9_B1/B1/outs/\")\n",
    "#data9B2 = st.Read10X(\"/RDS/Q2051/SCC_Paper/figures/figX_visium/working_data/Visium9_BCC_SCC/Visium9_B1_SCCB18_SCCE15/outs/\")\n",
    "data9C1 = st.Read10X(\"/scratch/90days/uqxjin3/Visium9_BCC_SCC/Visium9_C1/C1/outs/\")\n",
    "#data9C2 = st.Read10X(\"/RDS/Q2051/SCC_Paper/figures/figX_visium/working_data/Visium9_BCC_SCC/Visium9_C1_SCCF21/outs/\")\n",
    "data9D1 = st.Read10X(\"/scratch/90days/uqxjin3/Visium9_BCC_SCC/Visium9_D1/D1/outs/\")\n",
    "#data9D2 = st.Read10X(\"/RDS/Q2051/SCC_Paper/figures/figX_visium/working_data/Visium9_BCC_SCC/Visium9_D1_BCCE15_BCCF21/outs/\")"
   ],
   "id": "842c742afb684fb5",
   "outputs": [],
   "execution_count": null
  },
  {
   "cell_type": "code",
   "metadata": {},
   "source": [
    "data32B.obs.imagerow"
   ],
   "id": "8ca0365e38fa072f",
   "outputs": [],
   "execution_count": null
  },
  {
   "cell_type": "code",
   "metadata": {},
   "source": [
    "plt.scatter(data32B.obs.imagerow,data32B.obs.imagecol)\n",
    "plt.grid()\n",
    "plt.show()\n",
    "\n",
    "plt.scatter(data25A.obs.imagerow,data25A.obs.imagecol)\n",
    "plt.grid()\n",
    "plt.show()\n",
    "\n",
    "plt.scatter(data25C.obs.imagerow,data25C.obs.imagecol)\n",
    "plt.grid()\n",
    "plt.show()\n",
    "\n",
    "plt.scatter(data9B1.obs.imagerow,data9B1.obs.imagecol)\n",
    "plt.grid()\n",
    "plt.show()\n",
    "\n",
    "plt.scatter(data9D1.obs.imagerow,data9D1.obs.imagecol)\n",
    "plt.grid()\n",
    "plt.show()"
   ],
   "id": "eee5d375e9940462",
   "outputs": [],
   "execution_count": null
  },
  {
   "cell_type": "code",
   "metadata": {},
   "source": [
    "B18SCC = data9B1[data9B1.obs.imagecol < 800 ]\n",
    "E15SCC = data9B1[data9B1.obs.imagecol >= 800]\n",
    "st.pl.QC_plot(B18SCC)\n",
    "st.pl.QC_plot(E15SCC)\n",
    "\n",
    "E15BCC = data9D1[data9D1.obs.imagecol < 900 ]\n",
    "F21BCC = data9D1[data9D1.obs.imagecol >= 900]\n",
    "st.pl.QC_plot(E15BCC)\n",
    "st.pl.QC_plot(F21BCC)"
   ],
   "id": "cd2756fb71de1fa8",
   "outputs": [],
   "execution_count": null
  },
  {
   "cell_type": "code",
   "metadata": {},
   "source": [
    "P30SCC = data32B[data32B.obs.imagerow < 1000 ]\n",
    "P13SCC = data32B[data32B.obs.imagerow >= 1000]\n",
    "st.pl.QC_plot(P30SCC)\n",
    "st.pl.QC_plot(P13SCC)\n",
    "\n",
    "Mela66487 = data25A[data25A.obs.imagerow < 750 ]\n",
    "Mela48974 = data25A[data25A.obs.imagerow >= 750]\n",
    "st.pl.QC_plot(Mela66487)\n",
    "st.pl.QC_plot(Mela48974)\n",
    "\n",
    "Mela6747 = data25C[data25C.obs.imagerow < 750 ]\n",
    "Mela21031 = data25C[data25C.obs.imagerow >= 750]\n",
    "st.pl.QC_plot(Mela6747)\n",
    "st.pl.QC_plot(Mela21031)\n",
    "\n",
    "B18SCC = data9B1[data9B1.obs.imagecol < 800 ]\n",
    "E15SCC = data9B1[data9B1.obs.imagecol >= 800]\n",
    "st.pl.QC_plot(B18SCC)\n",
    "st.pl.QC_plot(E15SCC)\n",
    "\n",
    "E15BCC = data9D1[data9D1.obs.imagecol < 900 ]\n",
    "F21BCC = data9D1[data9D1.obs.imagecol >= 900]\n",
    "st.pl.QC_plot(E15BCC)\n",
    "st.pl.QC_plot(F21BCC)"
   ],
   "id": "69d1c044e51037d8",
   "outputs": [],
   "execution_count": null
  },
  {
   "cell_type": "code",
   "metadata": {},
   "source": [
    "#B18BCC = data32A\n",
    "F21SCC = data9C1"
   ],
   "id": "b30a457110ad8bae",
   "outputs": [],
   "execution_count": null
  },
  {
   "cell_type": "code",
   "metadata": {},
   "source": [
    "F21SCC.obsm['spatial']"
   ],
   "id": "d443f35c3d80f06e",
   "outputs": [],
   "execution_count": null
  },
  {
   "cell_type": "code",
   "metadata": {},
   "source": [
    "F21BCC"
   ],
   "id": "d6688f76e9a9a29f",
   "outputs": [],
   "execution_count": null
  },
  {
   "cell_type": "code",
   "metadata": {},
   "source": [
    "F21BCC.obs.pct_counts_mt"
   ],
   "id": "244ef266f44a6b6b",
   "outputs": [],
   "execution_count": null
  },
  {
   "cell_type": "markdown",
   "metadata": {},
   "source": [
    "### Quality Control"
   ],
   "id": "f77df5a11362ab79"
  },
  {
   "cell_type": "code",
   "metadata": {},
   "source": [
    "sc.pp.filter_cells(F21BCC, min_genes=100)\n",
    "sc.pp.filter_cells(E15BCC, min_genes=100)\n",
    "sc.pp.filter_cells(F21SCC, min_genes=100)\n",
    "sc.pp.filter_cells(E15SCC, min_genes=100)\n",
    "sc.pp.filter_cells(B18SCC, min_genes=100)"
   ],
   "id": "64127916f461514e",
   "outputs": [],
   "execution_count": null
  },
  {
   "cell_type": "code",
   "metadata": {},
   "source": [
    "F21BCC.var['mt'] = F21BCC.var_names.str.startswith('MT-')  # annotate the group of mitochondrial genes as 'mt'\n",
    "sc.pp.calculate_qc_metrics(F21BCC, qc_vars=['mt'], percent_top=None, log1p=False, inplace=True)\n",
    "#adata = adata[adata.obs.n_genes_by_counts < 2500, :]\n",
    "F21BCC = F21BCC[F21BCC.obs.pct_counts_mt < 20, :]\n",
    "\n",
    "E15BCC.var['mt'] = E15BCC.var_names.str.startswith('MT-')  # annotate the group of mitochondrial genes as 'mt'\n",
    "sc.pp.calculate_qc_metrics(E15BCC, qc_vars=['mt'], percent_top=None, log1p=False, inplace=True)\n",
    "#adata = adata[adata.obs.n_genes_by_counts < 2500, :]\n",
    "E15BCC = E15BCC[E15BCC.obs.pct_counts_mt < 20, :]\n",
    "\n",
    "F21SCC.var['mt'] = F21SCC.var_names.str.startswith('MT-')  # annotate the group of mitochondrial genes as 'mt'\n",
    "sc.pp.calculate_qc_metrics(F21SCC, qc_vars=['mt'], percent_top=None, log1p=False, inplace=True)\n",
    "#adata = adata[adata.obs.n_genes_by_counts < 2500, :]\n",
    "F21SCC = F21SCC[F21SCC.obs.pct_counts_mt < 20, :]\n",
    "\n",
    "E15SCC.var['mt'] = E15SCC.var_names.str.startswith('MT-')  # annotate the group of mitochondrial genes as 'mt'\n",
    "sc.pp.calculate_qc_metrics(E15SCC, qc_vars=['mt'], percent_top=None, log1p=False, inplace=True)\n",
    "#adata = adata[adata.obs.n_genes_by_counts < 2500, :]\n",
    "E15SCC = E15SCC[E15SCC.obs.pct_counts_mt < 20, :]\n",
    "\n",
    "B18SCC.var['mt'] = B18SCC.var_names.str.startswith('MT-')  # annotate the group of mitochondrial genes as 'mt'\n",
    "sc.pp.calculate_qc_metrics(B18SCC, qc_vars=['mt'], percent_top=None, log1p=False, inplace=True)\n",
    "#adata = adata[adata.obs.n_genes_by_counts < 2500, :]\n",
    "B18SCC = B18SCC[B18SCC.obs.pct_counts_mt < 20, :]"
   ],
   "id": "5f1050b9c74f104c",
   "outputs": [],
   "execution_count": null
  },
  {
   "cell_type": "code",
   "metadata": {},
   "source": [],
   "id": "8271ebb05ea9477b",
   "outputs": [],
   "execution_count": null
  },
  {
   "cell_type": "code",
   "metadata": {},
   "source": [],
   "id": "acf7e0531e6322ec",
   "outputs": [],
   "execution_count": null
  },
  {
   "cell_type": "code",
   "metadata": {},
   "source": [
    "data32A.var.gene_ids"
   ],
   "id": "cfb1772d9b2f89f",
   "outputs": [],
   "execution_count": null
  },
  {
   "cell_type": "code",
   "metadata": {},
   "source": [
    "st.pl.QC_plot(data32A)"
   ],
   "id": "9f1a2e368db98b13",
   "outputs": [],
   "execution_count": null
  },
  {
   "cell_type": "code",
   "metadata": {},
   "source": [
    "data32A.obs.imagecol"
   ],
   "id": "99bd3737418b6e9a",
   "outputs": [],
   "execution_count": null
  },
  {
   "cell_type": "code",
   "metadata": {},
   "source": [
    "P30SCC.var_names_make_unique()\n",
    "P13SCC.var_names_make_unique()\n",
    "B18SCC.var_names_make_unique()\n",
    "E15SCC.var_names_make_unique()\n",
    "F21SCC.var_names_make_unique()\n",
    "Mela66487.var_names_make_unique()\n",
    "Mela48974.var_names_make_unique()\n",
    "Mela6747.var_names_make_unique()\n",
    "Mela21031.var_names_make_unique()\n",
    "B18BCC.var_names_make_unique()\n",
    "E15BCC.var_names_make_unique()\n",
    "F21BCC.var_names_make_unique()"
   ],
   "id": "4aa03782f232a959",
   "outputs": [],
   "execution_count": null
  },
  {
   "cell_type": "code",
   "metadata": {},
   "source": [
    "# Basic normalisation #\n",
    "st.pp.filter_genes(P30SCC, min_cells=3)\n",
    "st.pp.normalize_total(P30SCC) # NOTE: no log1p.\n",
    "\n",
    "st.pp.filter_genes(P13SCC, min_cells=3)\n",
    "st.pp.normalize_total(P13SCC) \n",
    "\n",
    "st.pp.filter_genes(B18SCC, min_cells=3)\n",
    "st.pp.normalize_total(B18SCC) \n",
    "\n",
    "st.pp.filter_genes(E15SCC, min_cells=3)\n",
    "st.pp.normalize_total(E15SCC) \n",
    "\n",
    "st.pp.filter_genes(F21SCC, min_cells=3)\n",
    "st.pp.normalize_total(F21SCC) \n",
    "\n",
    "st.pp.filter_genes(Mela66487, min_cells=3)\n",
    "st.pp.normalize_total(Mela66487) \n",
    "\n",
    "st.pp.filter_genes(Mela48974, min_cells=3)\n",
    "st.pp.normalize_total(Mela48974) \n",
    "\n",
    "st.pp.filter_genes(Mela6747, min_cells=3)\n",
    "st.pp.normalize_total(Mela6747) \n",
    "\n",
    "st.pp.filter_genes(Mela21031, min_cells=3)\n",
    "st.pp.normalize_total(Mela21031) \n",
    "\n",
    "st.pp.filter_genes(B18BCC, min_cells=3)\n",
    "st.pp.normalize_total(B18BCC) \n",
    "\n",
    "st.pp.filter_genes(E15BCC, min_cells=3)\n",
    "st.pp.normalize_total(E15BCC) \n",
    "\n",
    "st.pp.filter_genes(F21BCC, min_cells=3)\n",
    "st.pp.normalize_total(F21BCC) "
   ],
   "id": "7a94249100a850ae",
   "outputs": [],
   "execution_count": null
  },
  {
   "cell_type": "code",
   "metadata": {},
   "source": [
    "lrs = st.tl.cci.load_lrs(['connectomeDB2020_lit'], species='human')"
   ],
   "id": "be5575c18e8af259",
   "outputs": [],
   "execution_count": null
  },
  {
   "cell_type": "code",
   "metadata": {},
   "source": [
    "st.tl.cci.run(P30SCC, lrs,\n",
    "                  min_spots = 20, #Filter out any LR pairs with no scores for less than min_spots\n",
    "                  distance=None, # None defaults to spot+immediate neighbours; distance=0 for within-spot mode\n",
    "                  n_pairs=10000, # Number of random pairs to generate; low as example, recommend ~10,000\n",
    "                  n_cpus=4, # Number of CPUs for parallel. If None, detects & use all available.\n",
    "                  )\n",
    "\n",
    "lr_info_P30SCC = P30SCC.uns['lr_summary'] # A dataframe detailing the LR pairs ranked by number of significant spots.\n",
    "print('\\n', lr_info_P30SCC)"
   ],
   "id": "956b905a08073ebf",
   "outputs": [],
   "execution_count": null
  },
  {
   "cell_type": "code",
   "metadata": {},
   "source": [
    "st.tl.cci.run(P13SCC, lrs,\n",
    "                  min_spots = 20, #Filter out any LR pairs with no scores for less than min_spots\n",
    "                  distance=None, # None defaults to spot+immediate neighbours; distance=0 for within-spot mode\n",
    "                  n_pairs=10000, # Number of random pairs to generate; low as example, recommend ~10,000\n",
    "                  n_cpus=4, # Number of CPUs for parallel. If None, detects & use all available.\n",
    "                  )\n",
    "\n",
    "lr_info_P13SCC = P13SCC.uns['lr_summary'] # A dataframe detailing the LR p\n",
    "print('\\n', lr_info_P13SCC)"
   ],
   "id": "40c0f7f94577b110",
   "outputs": [],
   "execution_count": null
  },
  {
   "cell_type": "code",
   "metadata": {},
   "source": [
    "st.tl.cci.run(B18SCC, lrs,\n",
    "                  min_spots = 20, #Filter out any LR pairs with no scores for less than min_spots\n",
    "                  distance=None, # None defaults to spot+immediate neighbours; distance=0 for within-spot mode\n",
    "                  n_pairs=10000, # Number of random pairs to generate; low as example, recommend ~10,000\n",
    "                  n_cpus=4, # Number of CPUs for parallel. If None, detects & use all available.\n",
    "                  )\n",
    "\n",
    "lr_info_B18SCC = B18SCC.uns['lr_summary'] # A dataframe detailing the LR pairs ranked by number of significant spots.\n",
    "print('\\n', lr_info_B18SCC)"
   ],
   "id": "6676da74347f716d",
   "outputs": [],
   "execution_count": null
  },
  {
   "cell_type": "code",
   "metadata": {},
   "source": [
    "st.tl.cci.run(E15SCC, lrs,\n",
    "                  min_spots = 20, #Filter out any LR pairs with no scores for less than min_spots\n",
    "                  distance=None, # None defaults to spot+immediate neighbours; distance=0 for within-spot mode\n",
    "                  n_pairs=10000, # Number of random pairs to generate; low as example, recommend ~10,000\n",
    "                  n_cpus=4, # Number of CPUs for parallel. If None, detects & use all available.\n",
    "                  )\n",
    "\n",
    "lr_info_E15SCC = E15SCC.uns['lr_summary'] # A dataframe detailing the LR pairs ranked by number of significant spots.\n",
    "print('\\n', lr_info_E15SCC)"
   ],
   "id": "2279ea1b87590ff7",
   "outputs": [],
   "execution_count": null
  },
  {
   "cell_type": "code",
   "metadata": {},
   "source": [
    "st.tl.cci.run(F21SCC, lrs,\n",
    "                  min_spots = 20, #Filter out any LR pairs with no scores for less than min_spots\n",
    "                  distance=None, # None defaults to spot+immediate neighbours; distance=0 for within-spot mode\n",
    "                  n_pairs=10000, # Number of random pairs to generate; low as example, recommend ~10,000\n",
    "                  n_cpus=4, # Number of CPUs for parallel. If None, detects & use all available.\n",
    "                  )\n",
    "\n",
    "lr_info_F21SCC = F21SCC.uns['lr_summary'] # A dataframe detailing the LR pairs ranked by number of significant spots.\n",
    "print('\\n', lr_info_F21SCC)"
   ],
   "id": "f48cda722ab872e0",
   "outputs": [],
   "execution_count": null
  },
  {
   "cell_type": "code",
   "metadata": {},
   "source": [
    "st.tl.cci.run(Mela66487, lrs,\n",
    "                  min_spots = 20, #Filter out any LR pairs with no scores for less than min_spots\n",
    "                  distance=None, # None defaults to spot+immediate neighbours; distance=0 for within-spot mode\n",
    "                  n_pairs=10000, # Number of random pairs to generate; low as example, recommend ~10,000\n",
    "                  n_cpus=4, # Number of CPUs for parallel. If None, detects & use all available.\n",
    "                  )\n",
    "\n",
    "lr_info_Mela66487 = Mela66487.uns['lr_summary'] # A dataframe detailing the LR pairs ranked by number of significant spots.\n",
    "print('\\n', lr_info_Mela66487)"
   ],
   "id": "3826bfab22b142ef",
   "outputs": [],
   "execution_count": null
  },
  {
   "cell_type": "code",
   "metadata": {},
   "source": [
    "st.tl.cci.run(Mela48974, lrs,\n",
    "                  min_spots = 20, #Filter out any LR pairs with no scores for less than min_spots\n",
    "                  distance=None, # None defaults to spot+immediate neighbours; distance=0 for within-spot mode\n",
    "                  n_pairs=10000, # Number of random pairs to generate; low as example, recommend ~10,000\n",
    "                  n_cpus=4, # Number of CPUs for parallel. If None, detects & use all available.\n",
    "                  )\n",
    "\n",
    "lr_info_Mela48974 = Mela48974.uns['lr_summary'] # A dataframe detailing the LR pairs ranked by number of significant spots.\n",
    "print('\\n', lr_info_Mela48974)"
   ],
   "id": "42a85f7701514d5b",
   "outputs": [],
   "execution_count": null
  },
  {
   "cell_type": "code",
   "metadata": {},
   "source": [],
   "id": "49d5969082d4d80f",
   "outputs": [],
   "execution_count": null
  },
  {
   "cell_type": "code",
   "metadata": {},
   "source": [
    "###\n",
    "st.tl.cci.run(Mela6747, lrs,\n",
    "                  min_spots = 20, #Filter out any LR pairs with no scores for less than min_spots\n",
    "                  distance=None, # None defaults to spot+immediate neighbours; distance=0 for within-spot mode\n",
    "                  n_pairs=10000, # Number of random pairs to generate; low as example, recommend ~10,000\n",
    "                  n_cpus=4, # Number of CPUs for parallel. If None, detects & use all available.\n",
    "                  )\n",
    "\n",
    "lr_info_Mela6747 = Mela6747.uns['lr_summary'] # A dataframe detailing the LR pairs ranked by number of significant spots.\n",
    "print('\\n', lr_info_Mela6747)"
   ],
   "id": "12e3568bfc2147f7",
   "outputs": [],
   "execution_count": null
  },
  {
   "cell_type": "code",
   "metadata": {},
   "source": [
    "###\n",
    "st.tl.cci.run(Mela21031, lrs,\n",
    "                  min_spots = 20, #Filter out any LR pairs with no scores for less than min_spots\n",
    "                  distance=None, # None defaults to spot+immediate neighbours; distance=0 for within-spot mode\n",
    "                  n_pairs=10000, # Number of random pairs to generate; low as example, recommend ~10,000\n",
    "                  n_cpus=4, # Number of CPUs for parallel. If None, detects & use all available.\n",
    "                  )\n",
    "\n",
    "lr_info_Mela21031 = Mela21031.uns['lr_summary'] # A dataframe detailing the LR pairs ranked by number of significant spots.\n",
    "print('\\n', lr_info_Mela21031)"
   ],
   "id": "afe85b1854202c68",
   "outputs": [],
   "execution_count": null
  },
  {
   "cell_type": "code",
   "metadata": {},
   "source": [
    "import os\n",
    "os.cpu_count() "
   ],
   "id": "394116eca034f7c1",
   "outputs": [],
   "execution_count": null
  },
  {
   "cell_type": "code",
   "metadata": {},
   "source": [
    "###\n",
    "st.tl.cci.run(B18BCC, lrs,\n",
    "                  min_spots = 20, #Filter out any LR pairs with no scores for less than min_spots\n",
    "                  distance=None, # None defaults to spot+immediate neighbours; distance=0 for within-spot mode\n",
    "                  n_pairs=10000, # Number of random pairs to generate; low as example, recommend ~10,000\n",
    "                  n_cpus=48, # Number of CPUs for parallel. If None, detects & use all available.\n",
    "                  )\n",
    "\n",
    "lr_info_B18BCC = B18BCC.uns['lr_summary'] # A dataframe detailing the LR pairs ranked by number of significant spots.\n",
    "print('\\n', lr_info_B18BCC)"
   ],
   "id": "49a3fbd6e20d7d81",
   "outputs": [],
   "execution_count": null
  },
  {
   "cell_type": "code",
   "metadata": {},
   "source": [
    "###\n",
    "st.tl.cci.run(E15BCC, lrs,\n",
    "                  min_spots = 20, #Filter out any LR pairs with no scores for less than min_spots\n",
    "                  distance=None, # None defaults to spot+immediate neighbours; distance=0 for within-spot mode\n",
    "                  n_pairs=10000, # Number of random pairs to generate; low as example, recommend ~10,000\n",
    "                  #n_cpus=48, # Number of CPUs for parallel. If None, detects & use all available.\n",
    "                  )\n",
    "\n",
    "lr_info_E15BCC = E15BCC.uns['lr_summary'] # A dataframe detailing the LR pairs ranked by number of significant spots.\n",
    "print('\\n', lr_info_E15BCC)"
   ],
   "id": "7b6f9662acb856ff",
   "outputs": [],
   "execution_count": null
  },
  {
   "cell_type": "code",
   "metadata": {},
   "source": [
    "st.tl.cci.run(F21BCC, lrs,\n",
    "                  min_spots = 20, #Filter out any LR pairs with no scores for less than min_spots\n",
    "                  distance=None, # None defaults to spot+immediate neighbours; distance=0 for within-spot mode\n",
    "                  n_pairs=10000, # Number of random pairs to generate; low as example, recommend ~10,000\n",
    "                  #n_cpus=48, # Number of CPUs for parallel. If None, detects & use all available.\n",
    "                  )\n",
    "\n",
    "lr_info_F21BCC = F21BCC.uns['lr_summary'] # A dataframe detailing the LR pairs ranked by number of significant spots.\n",
    "print('\\n', lr_info_F21BCC)"
   ],
   "id": "8a74e7dba3e37ad0",
   "outputs": [],
   "execution_count": null
  },
  {
   "cell_type": "markdown",
   "metadata": {},
   "source": [
    "### Save samples"
   ],
   "id": "442dfca3b21e740e"
  },
  {
   "cell_type": "code",
   "metadata": {},
   "source": [
    "scc_data = [P30SCC, P13SCC, B18SCC, E15SCC, F21SCC]\n",
    "with open('/RDS/Q1851/Xinnan/Visium/Visium_result/Visium_SCC_cci.pkl', 'wb') as outp:\n",
    "    for data in scc_data:\n",
    "        pickle.dump(data, outp, pickle.HIGHEST_PROTOCOL)"
   ],
   "id": "ad4fd638b7f74724",
   "outputs": [],
   "execution_count": null
  },
  {
   "cell_type": "code",
   "metadata": {},
   "source": [
    "bcc_data = [B18BCC, E15BCC, F21BCC]\n",
    "with open('/RDS/Q1851/Xinnan/Visium/Visium_result/Visium_BCC_cci.pkl', 'wb') as outp:\n",
    "    for data in bcc_data:\n",
    "        pickle.dump(data, outp, pickle.HIGHEST_PROTOCOL)"
   ],
   "id": "cce4258a1328b07c",
   "outputs": [],
   "execution_count": null
  },
  {
   "cell_type": "code",
   "metadata": {},
   "source": [
    "mela_data = [Mela66487, Mela48974, Mela6747, Mela21031]\n",
    "with open('/RDS/Q1851/Xinnan/Visium/Visium_result/Visium_Mela_cci.pkl', 'wb') as outp:\n",
    "    for data in mela_data:\n",
    "        pickle.dump(data, outp, pickle.HIGHEST_PROTOCOL)"
   ],
   "id": "6bc6de7fc630a13a",
   "outputs": [],
   "execution_count": null
  },
  {
   "cell_type": "code",
   "metadata": {},
   "source": [
    "scc_data = [P30SCC, P13SCC, B18SCC, E15SCC, F21SCC]\n",
    "with open('/afm01/UQ/Q1851/Xinnan/Visium/Visium_result/Visium_SCC_cci.pkl', 'wb') as outp:\n",
    "    for data in scc_data:\n",
    "        pickle.dump(data, outp, pickle.HIGHEST_PROTOCOL)\n",
    "        \n",
    "\n",
    "bcc_data = [B18BCC, E15BCC, F21BCC]\n",
    "with open('/afm01/UQ/Q1851/Xinnan/Visium/Visium_result/Visium_BCC_cci.pkl', 'wb') as outp:\n",
    "    for data in bcc_data:\n",
    "        pickle.dump(data, outp, pickle.HIGHEST_PROTOCOL)\n",
    "        \n",
    "        \n",
    "mela_data = [Mela66487, Mela48974, Mela6747, Mela21031]\n",
    "with open('/afm01/UQ/Q1851/Xinnan/Visium/Visium_result/Visium_Mela_cci.pkl', 'wb') as outp:\n",
    "    for data in mela_data:\n",
    "        pickle.dump(data, outp, pickle.HIGHEST_PROTOCOL)"
   ],
   "id": "102f5218a36c2f4a",
   "outputs": [],
   "execution_count": null
  },
  {
   "cell_type": "code",
   "metadata": {},
   "source": [
    "with open('/RDS/Q1851/Xinnan/Visium/Visium_result/Visium_SCC_cci.pkl', 'wb') as outp:\n",
    "    for data in data_dict.values():\n",
    "        pickle.dump(data, outp, pickle.HIGHEST_PROTOCOL)"
   ],
   "id": "5403ae8563759e5d",
   "outputs": [],
   "execution_count": null
  },
  {
   "cell_type": "code",
   "metadata": {},
   "source": [
    "lr_info_9D1[\"n_spots_sig\"][\"VIM_CD44\"]"
   ],
   "id": "5fc4b70d00f09bee",
   "outputs": [],
   "execution_count": null
  },
  {
   "cell_type": "markdown",
   "metadata": {},
   "source": [
    "## Save to CSV"
   ],
   "id": "fedc5248c51c6422"
  },
  {
   "cell_type": "code",
   "metadata": {},
   "source": [
    "import csv"
   ],
   "id": "a45e20d7d3c9e40a",
   "outputs": [],
   "execution_count": null
  },
  {
   "cell_type": "code",
   "metadata": {},
   "source": [
    "lr_info_P30SCC.to_csv(\"/afm01/UQ/Q1851/Xinnan/Visium/Visium_result/P30SCC_All_LR.csv\")\n",
    "lr_info_P13SCC.to_csv(\"/afm01/UQ/Q1851/Xinnan/Visium/Visium_result/P13SCC_All_LR.csv\")\n",
    "lr_info_B18SCC.to_csv(\"/afm01/UQ/Q1851/Xinnan/Visium/Visium_result/B18SCC_All_LR.csv\")\n",
    "lr_info_E15SCC.to_csv(\"/afm01/UQ/Q1851/Xinnan/Visium/Visium_result/E15SCC_All_LR.csv\")\n",
    "lr_info_F21SCC.to_csv(\"/afm01/UQ/Q1851/Xinnan/Visium/Visium_result/F21SCC_All_LR.csv\")\n",
    "lr_info_Mela66487.to_csv(\"/afm01/UQ/Q1851/Xinnan/Visium/Visium_result/Mela66487_All_LR.csv\")\n",
    "lr_info_Mela48974.to_csv(\"/afm01/UQ/Q1851/Xinnan/Visium/Visium_result/Mela48974_All_LR.csv\")\n",
    "lr_info_Mela6747.to_csv(\"/afm01/UQ/Q1851/Xinnan/Visium/Visium_result/Mela6747_All_LR.csv\")\n",
    "lr_info_Mela21031.to_csv(\"/afm01/UQ/Q1851/Xinnan/Visium/Visium_result/Mela21031_All_LR.csv\")\n",
    "lr_info_B18BCC.to_csv(\"/afm01/UQ/Q1851/Xinnan/Visium/Visium_result/B18BCC_All_LR.csv\")\n",
    "lr_info_E15BCC.to_csv(\"/afm01/UQ/Q1851/Xinnan/Visium/Visium_result/E15BCC_All_LR.csv\")\n",
    "lr_info_F21BCC.to_csv(\"/afm01/UQ/Q1851/Xinnan/Visium/Visium_result/F21BCC_All_LR.csv\")"
   ],
   "id": "62923bf989badd89",
   "outputs": [],
   "execution_count": null
  },
  {
   "cell_type": "code",
   "metadata": {},
   "source": [
    "lr_info_P30SCC = pd.read_csv('/afm01/UQ/Q1851/Xinnan/Visium/Visium_result/P30SCC_All_LR.csv', index_col = 0)\n",
    "lr_info_P13SCC = pd.read_csv(\"/afm01/UQ/Q1851/Xinnan/Visium/Visium_result/P13SCC_All_LR.csv\", index_col = 0)\n",
    "lr_info_B18SCC = pd.read_csv(\"/afm01/UQ/Q1851/Xinnan/Visium/Visium_result/B18SCC_All_LR.csv\", index_col = 0)\n",
    "lr_info_E15SCC = pd.read_csv(\"/afm01/UQ/Q1851/Xinnan/Visium/Visium_result/E15SCC_All_LR.csv\", index_col = 0)\n",
    "lr_info_F21SCC = pd.read_csv(\"/afm01/UQ/Q1851/Xinnan/Visium/Visium_result/F21SCC_All_LR.csv\", index_col = 0)\n",
    "lr_info_Mela66487 = pd.read_csv(\"/afm01/UQ/Q1851/Xinnan/Visium/Visium_result/Mela66487_All_LR.csv\", index_col = 0)\n",
    "lr_info_Mela48974 = pd.read_csv(\"/afm01/UQ/Q1851/Xinnan/Visium/Visium_result/Mela48974_All_LR.csv\", index_col = 0)\n",
    "lr_info_Mela6747 = pd.read_csv(\"/afm01/UQ/Q1851/Xinnan/Visium/Visium_result/Mela6747_All_LR.csv\", index_col = 0)\n",
    "lr_info_Mela21031 = pd.read_csv(\"/afm01/UQ/Q1851/Xinnan/Visium/Visium_result/Mela21031_All_LR.csv\", index_col = 0)\n",
    "lr_info_B18BCC = pd.read_csv(\"/afm01/UQ/Q1851/Xinnan/Visium/Visium_result/B18BCC_All_LR.csv\", index_col = 0)\n",
    "lr_info_E15BCC = pd.read_csv(\"/afm01/UQ/Q1851/Xinnan/Visium/Visium_result/E15BCC_All_LR.csv\", index_col = 0)\n",
    "lr_info_F21BCC = pd.read_csv(\"/afm01/UQ/Q1851/Xinnan/Visium/Visium_result/F21BCC_All_LR.csv\", index_col = 0)"
   ],
   "id": "2f09cff0e68d4b1f",
   "outputs": [],
   "execution_count": null
  },
  {
   "cell_type": "markdown",
   "metadata": {},
   "source": [
    "## Remove duplicate LRs"
   ],
   "id": "de5f35417978a4d2"
  },
  {
   "cell_type": "code",
   "metadata": {},
   "source": [
    "string = \"AAAAA_BBBBB\""
   ],
   "id": "b941482722c05e28",
   "outputs": [],
   "execution_count": null
  },
  {
   "cell_type": "code",
   "metadata": {},
   "source": [
    "string.find(\"_\")"
   ],
   "id": "9b9a15fe73a92d1e",
   "outputs": [],
   "execution_count": null
  },
  {
   "cell_type": "code",
   "metadata": {},
   "source": [
    "string.count(\"_\")"
   ],
   "id": "3344d7ea13c6253b",
   "outputs": [],
   "execution_count": null
  },
  {
   "cell_type": "code",
   "metadata": {},
   "source": [
    "string.index(\"_\")"
   ],
   "id": "fefef66cae775458",
   "outputs": [],
   "execution_count": null
  },
  {
   "cell_type": "code",
   "metadata": {},
   "source": [
    "head = string[:string.index(\"_\")]\n",
    "tail = string[string.index(\"_\") + 1:]"
   ],
   "id": "87b1464b04e010a4",
   "outputs": [],
   "execution_count": null
  },
  {
   "cell_type": "code",
   "metadata": {},
   "source": [
    "print(head, tail)"
   ],
   "id": "7fc8d02d6489c014",
   "outputs": [],
   "execution_count": null
  },
  {
   "cell_type": "code",
   "metadata": {},
   "source": [
    "lr_info_P30SCC = P30SCC.uns['lr_summary']\n",
    "lr_info_P13SCC = P13SCC.uns['lr_summary']\n",
    "lr_info_B18SCC = B18SCC.uns['lr_summary']\n",
    "lr_info_E15SCC = E15SCC.uns['lr_summary']\n",
    "lr_info_F21SCC = F21SCC.uns['lr_summary']\n",
    "lr_info_Mela66487 = Mela66487.uns['lr_summary']\n",
    "lr_info_Mela48974 = Mela48974.uns['lr_summary']\n",
    "lr_info_Mela6747 = Mela6747.uns['lr_summary']\n",
    "lr_info_Mela21031 = Mela21031.uns['lr_summary']\n",
    "lr_info_B18BCC = B18BCC.uns['lr_summary']\n",
    "lr_info_E15BCC = E15BCC.uns['lr_summary']\n",
    "lr_info_F21BCC = F21BCC.uns['lr_summary']"
   ],
   "id": "ee8e6af42c698bd",
   "outputs": [],
   "execution_count": null
  },
  {
   "cell_type": "code",
   "metadata": {},
   "source": [
    "lr_info_F21BCC.index"
   ],
   "id": "f2b51463d5ca282d",
   "outputs": [],
   "execution_count": null
  },
  {
   "cell_type": "code",
   "metadata": {},
   "source": [
    "lr_list = [lr_info_P30SCC, lr_info_P13SCC, lr_info_B18SCC, lr_info_E15SCC, lr_info_F21SCC, lr_info_Mela66487, lr_info_Mela48974,\n",
    "            lr_info_Mela6747, lr_info_Mela21031,lr_info_B18BCC,lr_info_E15BCC, lr_info_F21BCC]\n",
    "three = []\n",
    "\n",
    "for sample in lr_list:\n",
    "    for lr in sample.index:\n",
    "        if lr.count(\"_\") > 1:\n",
    "            three.append(lr.index)"
   ],
   "id": "6c7fdb3d9ce22f61",
   "outputs": [],
   "execution_count": null
  },
  {
   "cell_type": "code",
   "metadata": {},
   "source": [
    "three ## So do not exist LR like: AAA_BBB_CCC"
   ],
   "id": "f75320609b978a74",
   "outputs": [],
   "execution_count": null
  },
  {
   "cell_type": "code",
   "metadata": {},
   "source": [
    "dup_lr = []\n",
    "\n",
    "for sample in lr_list:\n",
    "    for lr in sample.index:\n",
    "        head = lr[:lr.index(\"_\")]\n",
    "        tail = lr[lr.index(\"_\") + 1:]\n",
    "        if tail + \"_\" + head in sample.index:\n",
    "            dup_lr.append(lr)"
   ],
   "id": "2c915b550511ad2",
   "outputs": [],
   "execution_count": null
  },
  {
   "cell_type": "code",
   "metadata": {},
   "source": [
    "dup_lr = []"
   ],
   "id": "dea49d8a71a13017",
   "outputs": [],
   "execution_count": null
  },
  {
   "cell_type": "code",
   "metadata": {},
   "source": [
    "lr_info_B18BCC.loc[(\"CD80_CD274\", \"CD274_CD80\"),]"
   ],
   "id": "76e04d701fd68fa6",
   "outputs": [],
   "execution_count": null
  },
  {
   "cell_type": "code",
   "metadata": {},
   "source": [
    "st.pl.lr_result_plot(B18BCC, use_result='-log10(p_adjs)', use_lr=\"CD80_CD274\")\n",
    "st.pl.lr_result_plot(B18BCC, use_result='-log10(p_adjs)', use_lr=\"CD274_CD80\")"
   ],
   "id": "b67c7a09e11b31eb",
   "outputs": [],
   "execution_count": null
  },
  {
   "cell_type": "code",
   "metadata": {},
   "source": [
    "B18BCC.obsm['-log10(p_adjs)']"
   ],
   "id": "9caa43aab8db5b52",
   "outputs": [],
   "execution_count": null
  },
  {
   "cell_type": "code",
   "metadata": {},
   "source": [],
   "id": "7ddc706e08b8478f",
   "outputs": [],
   "execution_count": null
  },
  {
   "cell_type": "code",
   "metadata": {},
   "source": [
    "lr_info_E15SCC"
   ],
   "id": "3723fbaf4b2cf212",
   "outputs": [],
   "execution_count": null
  },
  {
   "cell_type": "code",
   "metadata": {},
   "source": [
    "E15SCC"
   ],
   "id": "ffafa18843ffc0cf",
   "outputs": [],
   "execution_count": null
  },
  {
   "cell_type": "code",
   "metadata": {},
   "source": [
    "len(E15SCC.obsm['lr_scores'][0])"
   ],
   "id": "7afdc88f996af181",
   "outputs": [],
   "execution_count": null
  },
  {
   "cell_type": "code",
   "metadata": {},
   "source": [],
   "id": "1977f59f05e4c407",
   "outputs": [],
   "execution_count": null
  },
  {
   "cell_type": "code",
   "metadata": {},
   "source": [],
   "id": "e9f05a88bc338dd5",
   "outputs": [],
   "execution_count": null
  },
  {
   "cell_type": "code",
   "metadata": {},
   "source": [],
   "id": "d88810134fb01e60",
   "outputs": [],
   "execution_count": null
  },
  {
   "cell_type": "code",
   "metadata": {},
   "source": [],
   "id": "527870175e8755e9",
   "outputs": [],
   "execution_count": null
  },
  {
   "cell_type": "markdown",
   "metadata": {},
   "source": [
    "### rownames: LR list"
   ],
   "id": "c728c3e2ba36fcf5"
  },
  {
   "cell_type": "code",
   "metadata": {},
   "source": [
    "lr_info_P30SCC = P30SCC.uns['lr_summary']\n",
    "lr_info_P13SCC = P13SCC.uns['lr_summary']\n",
    "lr_info_B18SCC = B18SCC.uns['lr_summary']\n",
    "lr_info_E15SCC = E15SCC.uns['lr_summary']\n",
    "lr_info_F21SCC = F21SCC.uns['lr_summary']\n",
    "lr_info_Mela48974 = Mela48974.uns['lr_summary']"
   ],
   "id": "27ee569dbceed27",
   "outputs": [],
   "execution_count": null
  },
  {
   "cell_type": "code",
   "metadata": {},
   "source": [
    "rownames = (list(lr_info_P30SCC.index.values) + \n",
    "            list(lr_info_P13SCC.index.values) + \n",
    "            list(lr_info_B18SCC.index.values) + \n",
    "            list(lr_info_E15SCC.index.values) + \n",
    "            list(lr_info_F21SCC.index.values) + \n",
    "            list(lr_info_Mela66487.index.values) + \n",
    "            list(lr_info_Mela48974.index.values) +\n",
    "            list(lr_info_Mela6747.index.values) + \n",
    "            list(lr_info_Mela21031.index.values) + \n",
    "            list(lr_info_B18BCC.index.values) + \n",
    "            list(lr_info_E15BCC.index.values) + \n",
    "            list(lr_info_F21BCC.index.values)) "
   ],
   "id": "98f02717eb07312d",
   "outputs": [],
   "execution_count": null
  },
  {
   "cell_type": "code",
   "metadata": {},
   "source": [
    "colnames = [\"P30SCC\",\"P13SCC\",\"B18SCC\",\"E15SCC\",\"F21SCC\",\"Mela66487\",\"Mela48974\",\"Mela6747\",\"Mela21031\",\"B18BCC\",\"E15BCC\",\"F21BCC\"]"
   ],
   "id": "3064edba3b53e56",
   "outputs": [],
   "execution_count": null
  },
  {
   "cell_type": "code",
   "metadata": {},
   "source": [
    "a = [1,1,2,2,3]\n",
    "a.remove(1)\n",
    "a\n",
    "a.remove(1)\n",
    "a"
   ],
   "id": "3fa48eb16554f42f",
   "outputs": [],
   "execution_count": null
  },
  {
   "cell_type": "code",
   "metadata": {},
   "source": [
    "len(rownames)"
   ],
   "id": "64fdd4729b0b955c",
   "outputs": [],
   "execution_count": null
  },
  {
   "cell_type": "code",
   "metadata": {},
   "source": [
    "for i in rownames:\n",
    "    if rownames.count(i) > 1:\n",
    "        rownames.remove(i)"
   ],
   "id": "efe17c8f82c1b7f0",
   "outputs": [],
   "execution_count": null
  },
  {
   "cell_type": "code",
   "metadata": {},
   "source": [
    "len(rownames)"
   ],
   "id": "3e99a6135720f1ae",
   "outputs": [],
   "execution_count": null
  },
  {
   "cell_type": "code",
   "metadata": {},
   "source": [
    "for i in rownames:\n",
    "    if rownames.count(i) > 1:\n",
    "        rownames.remove(i)"
   ],
   "id": "4c838e40ca5f33fd",
   "outputs": [],
   "execution_count": null
  },
  {
   "cell_type": "code",
   "metadata": {},
   "source": [
    "len(rownames)"
   ],
   "id": "7c7f7e9d89a4854c",
   "outputs": [],
   "execution_count": null
  },
  {
   "cell_type": "code",
   "metadata": {},
   "source": [
    "for i in rownames:\n",
    "    if rownames.count(i) > 1:\n",
    "        print(i)"
   ],
   "id": "c35ea10239b13cc3",
   "outputs": [],
   "execution_count": null
  },
  {
   "cell_type": "code",
   "metadata": {},
   "source": [
    "b = tuple(a)\n",
    "b"
   ],
   "id": "74ac78c7d10bced8",
   "outputs": [],
   "execution_count": null
  },
  {
   "cell_type": "code",
   "metadata": {},
   "source": [],
   "id": "636fd0be23b57882",
   "outputs": [],
   "execution_count": null
  },
  {
   "cell_type": "code",
   "metadata": {},
   "source": [
    "P30SCC.var['n_cells']"
   ],
   "id": "ebdb1711dddca0fb",
   "outputs": [],
   "execution_count": null
  },
  {
   "cell_type": "code",
   "metadata": {},
   "source": [
    "P30SCC.obsm['lr_sig_scores']"
   ],
   "id": "698e389f2190a8c7",
   "outputs": [],
   "execution_count": null
  },
  {
   "cell_type": "code",
   "metadata": {},
   "source": [
    "Mela48974.uns['lr_summary']"
   ],
   "id": "73aedf30f495e3a7",
   "outputs": [],
   "execution_count": null
  },
  {
   "cell_type": "markdown",
   "metadata": {},
   "source": [
    "## Calculate Normaliza LR score"
   ],
   "id": "fa7717c4f49947af"
  },
  {
   "cell_type": "code",
   "metadata": {},
   "source": [
    "P30SCC.uns['lr_summary'] = P30SCC.uns['lr_summary'].assign(all_spots = [P30SCC.n_obs for i in range(len(P30SCC.uns['lr_summary']))])"
   ],
   "id": "a0b845650622d327",
   "outputs": [],
   "execution_count": null
  },
  {
   "cell_type": "code",
   "metadata": {},
   "source": [
    "P30SCC.uns['lr_summary']['lr_score1'] = P30SCC.uns['lr_summary']['n_spots_sig']/(P30SCC.uns['lr_summary']['n_spots'] * P30SCC.uns['lr_summary']['all_spots'])\n",
    "P30SCC.uns['lr_summary']['lr_score2'] = P30SCC.uns['lr_summary']['n_spots_sig']/P30SCC.uns['lr_summary']['all_spots']"
   ],
   "id": "bfca558e51dbdbf3",
   "outputs": [],
   "execution_count": null
  },
  {
   "cell_type": "code",
   "metadata": {},
   "source": [
    "type(lr_info_P30SCC)"
   ],
   "id": "5e51a7e6e26b73d5",
   "outputs": [],
   "execution_count": null
  },
  {
   "cell_type": "code",
   "metadata": {},
   "source": [
    "type(lr_info_P13SCC)"
   ],
   "id": "9aac0e4d0cd6b749",
   "outputs": [],
   "execution_count": null
  },
  {
   "cell_type": "code",
   "metadata": {},
   "source": [
    "for i in range(12):\n",
    "    print(i)"
   ],
   "id": "f14306cb5ce22ba7",
   "outputs": [],
   "execution_count": null
  },
  {
   "cell_type": "code",
   "metadata": {},
   "source": [
    "lr_list = [lr_info_P30SCC, lr_info_P13SCC, lr_info_B18SCC, lr_info_E15SCC, lr_info_F21SCC, lr_info_Mela66487, lr_info_Mela48974, lr_info_Mela6747, lr_info_Mela21031, lr_info_B18BCC, lr_info_E15BCC, lr_info_F21BCC]\n",
    "\n",
    "sample_list = [P30SCC, P13SCC, B18SCC, E15SCC, F21SCC, Mela66487, Mela48974, Mela6747, Mela21031, B18BCC, E15BCC, F21BCC]\n",
    "\n",
    "for i in range(11):\n",
    "    #lr_list.index(lr_info_P30SCC)\n",
    "    lr_list[i][\"all_spots\"] = sample_list[i].n_obs"
   ],
   "id": "25de4420e8d59390",
   "outputs": [],
   "execution_count": null
  },
  {
   "cell_type": "code",
   "metadata": {},
   "source": [
    "lr_info_F21BCC[\"all_spots\"] = F21BCC.n_obs"
   ],
   "id": "d6fefb53533bea12",
   "outputs": [],
   "execution_count": null
  },
  {
   "cell_type": "code",
   "metadata": {},
   "source": [
    "lr_info_F21BCC"
   ],
   "id": "ec2e66672ce4a82e",
   "outputs": [],
   "execution_count": null
  },
  {
   "cell_type": "code",
   "metadata": {},
   "source": [
    "a = [1,23,4,5]\n",
    "a.index(23)"
   ],
   "id": "6416c6605ff1cadb",
   "outputs": [],
   "execution_count": null
  },
  {
   "cell_type": "code",
   "metadata": {},
   "source": [
    "lr_info_F21BCC['lr_score1'] = lr_info_F21BCC['n_spots_sig']/(lr_info_F21BCC['n_spots'] * lr_info_F21BCC['all_spots'])\n",
    "lr_info_F21BCC['lr_score2'] = lr_info_F21BCC['n_spots_sig']/lr_info_F21BCC['all_spots']\n",
    "lr_info_F21BCC['lr_score3'] = lr_info_F21BCC['n_spots_sig']/lr_info_F21BCC['n_spots']\n",
    "lr_info_F21BCC['orig_index'] = range(1, len(lr_info_F21BCC) + 1)"
   ],
   "id": "7d94532f9ca012e6",
   "outputs": [],
   "execution_count": null
  },
  {
   "cell_type": "code",
   "metadata": {},
   "source": [
    "pro_list = [lr_info_P30SCC, lr_info_P13SCC, lr_info_B18SCC, lr_info_E15SCC, lr_info_F21SCC, lr_info_Mela66487,\n",
    "lr_info_Mela48974, lr_info_Mela6747, lr_info_Mela21031, lr_info_B18BCC, lr_info_E15BCC, lr_info_F21BCC]\n",
    "\n",
    "for sample in pro_list:\n",
    "    #sample.uns['lr_summary'][\"all_spots\"] = sample.n_obs\n",
    "    sample['lr_score1'] = sample['n_spots_sig']/(sample['n_spots'] * sample['all_spots'])\n",
    "    sample['lr_score2'] = sample['n_spots_sig']/sample['all_spots']\n",
    "    sample['lr_score3'] = sample['n_spots_sig']/sample['n_spots']\n",
    "    sample['orig_index'] = range(1, len(sample) + 1)"
   ],
   "id": "5f736702439a4edb",
   "outputs": [],
   "execution_count": null
  },
  {
   "cell_type": "code",
   "metadata": {},
   "source": [
    "# Don't sure why... con not normally for\n",
    "pro_list = [lr_info_P30SCC, lr_info_P13SCC, lr_info_B18SCC, lr_info_E15SCC, lr_info_F21SCC, lr_info_Mela66487,\n",
    "lr_info_Mela48974, lr_info_Mela6747, lr_info_Mela21031, lr_info_B18BCC, lr_info_E15BCC, lr_info_F21BCC]\n",
    "\n",
    "for sample in pro_list:\n",
    "    #sample = sample.sort_values(by = [\"lr_score1\"], ascending=False)\n",
    "    sample = sample.sort_values(by = [\"lr_score3\"], ascending=False)"
   ],
   "id": "2f6b160429998071",
   "outputs": [],
   "execution_count": null
  },
  {
   "cell_type": "code",
   "metadata": {},
   "source": [
    "lr_info_P30SCC = lr_info_P30SCC.sort_values(by = [\"lr_score1\"], ascending=False)\n",
    "lr_info_P13SCC = lr_info_P13SCC.sort_values(by = [\"lr_score1\"], ascending=False)\n",
    "lr_info_B18SCC = lr_info_B18SCC.sort_values(by = [\"lr_score1\"], ascending=False)\n",
    "lr_info_E15SCC = lr_info_E15SCC.sort_values(by = [\"lr_score1\"], ascending=False)\n",
    "lr_info_F21SCC = lr_info_F21SCC.sort_values(by = [\"lr_score1\"], ascending=False)\n",
    "lr_info_Mela66487 = lr_info_Mela66487.sort_values(by = [\"lr_score1\"], ascending=False)\n",
    "lr_info_Mela48974 = lr_info_Mela48974.sort_values(by = [\"lr_score1\"], ascending=False)\n",
    "lr_info_Mela6747 = lr_info_Mela6747.sort_values(by = [\"lr_score1\"], ascending=False)\n",
    "lr_info_Mela21031 = lr_info_Mela21031.sort_values(by = [\"lr_score1\"], ascending=False)\n",
    "lr_info_B18BCC = lr_info_B18BCC.sort_values(by = [\"lr_score1\"], ascending=False)\n",
    "lr_info_E15BCC = lr_info_E15BCC.sort_values(by = [\"lr_score1\"], ascending=False)\n",
    "lr_info_F21BCC = lr_info_F21BCC.sort_values(by = [\"lr_score1\"], ascending=False)"
   ],
   "id": "ca1b90d2c34dbb00",
   "outputs": [],
   "execution_count": null
  },
  {
   "cell_type": "code",
   "metadata": {},
   "source": [
    "lr_info_P30SCC[1:20]"
   ],
   "id": "120934da8ccd2f17",
   "outputs": [],
   "execution_count": null
  },
  {
   "cell_type": "code",
   "metadata": {},
   "source": [
    "#s3\n",
    "lr_info_B18SCC[1:20]"
   ],
   "id": "d7e43ba2ce08e402",
   "outputs": [],
   "execution_count": null
  },
  {
   "cell_type": "code",
   "metadata": {},
   "source": [
    "lr_info_P30SCC[1:30]"
   ],
   "id": "1709cb5785449f49",
   "outputs": [],
   "execution_count": null
  },
  {
   "cell_type": "code",
   "metadata": {},
   "source": [
    "#s1\n",
    "lr_info_P30SCC[1:30]"
   ],
   "id": "832abd74eb9eddfa",
   "outputs": [],
   "execution_count": null
  },
  {
   "cell_type": "code",
   "metadata": {},
   "source": [
    "F21BCC.uns['lr_summary']"
   ],
   "id": "d772edf71f8a57f1",
   "outputs": [],
   "execution_count": null
  },
  {
   "cell_type": "code",
   "metadata": {},
   "source": [
    "tryM = Mela48974.uns['lr_summary']\n",
    "tryM.sort_values(by = [\"lr_score1\", \"n_spots_sig\"], ascending=False)"
   ],
   "id": "c46c2b64f95c82c3",
   "outputs": [],
   "execution_count": null
  },
  {
   "cell_type": "code",
   "metadata": {},
   "source": [],
   "id": "e9354ef54f32f3e0",
   "outputs": [],
   "execution_count": null
  },
  {
   "cell_type": "code",
   "metadata": {},
   "source": [],
   "id": "94f6536ba6e206ab",
   "outputs": [],
   "execution_count": null
  },
  {
   "cell_type": "markdown",
   "metadata": {},
   "source": [
    "## Creat dataframe for top20 LRs"
   ],
   "id": "36b5d54a1346185b"
  },
  {
   "cell_type": "code",
   "metadata": {},
   "source": [
    "lr_info_P30SCC = P30SCC.uns['lr_summary']\n",
    "lr_info_P13SCC = P13SCC.uns['lr_summary']\n",
    "lr_info_B18SCC = B18SCC.uns['lr_summary']\n",
    "lr_info_E15SCC = E15SCC.uns['lr_summary']\n",
    "lr_info_F21SCC = F21SCC.uns['lr_summary']\n",
    "lr_info_Mela66487 = Mela66487.uns['lr_summary']\n",
    "lr_info_Mela48974 = Mela48974.uns['lr_summary']\n",
    "lr_info_Mela6747 = Mela6747.uns['lr_summary']\n",
    "lr_info_Mela21031 = Mela21031.uns['lr_summary']\n",
    "lr_info_B18BCC = B18BCC.uns['lr_summary']\n",
    "lr_info_E15BCC = E15BCC.uns['lr_summary']\n",
    "lr_info_F21BCC = F21BCC.uns['lr_summary']"
   ],
   "id": "f9470270909097df",
   "outputs": [],
   "execution_count": null
  },
  {
   "cell_type": "code",
   "metadata": {},
   "source": [
    "lr_info_F21BCC[\"n_spots_sig\"]['COL1A2_CD44']"
   ],
   "id": "f20d0187efeaf361",
   "outputs": [],
   "execution_count": null
  },
  {
   "cell_type": "markdown",
   "metadata": {},
   "source": [
    "### Remove duplicate"
   ],
   "id": "5687b41a4e418282"
  },
  {
   "cell_type": "code",
   "metadata": {},
   "source": [
    "for lr in rownames:\n",
    "    if rownames.count(lr) > 1:\n",
    "        rownames.remove(lr)"
   ],
   "id": "5aa548b8c20fceda",
   "outputs": [],
   "execution_count": null
  },
  {
   "cell_type": "code",
   "metadata": {},
   "source": [
    "len(rownames)"
   ],
   "id": "daca93eb013e26aa",
   "outputs": [],
   "execution_count": null
  },
  {
   "cell_type": "code",
   "metadata": {},
   "source": [
    "rown = rownames"
   ],
   "id": "fc3e6ed79d3f90f9",
   "outputs": [],
   "execution_count": null
  },
  {
   "cell_type": "code",
   "metadata": {},
   "source": [
    "dup_list = []\n",
    "\n",
    "for lr in rown:\n",
    "    i = lr.find(\"_\")\n",
    "    if lr[i+1:] + \"_\" + lr[0:i] in rownames:\n",
    "        if lr[i+1:] != lr[0:i]:\n",
    "            dup_list.append(lr)\n",
    "            rown.remove(lr)"
   ],
   "id": "b2d59d06373a6fd0",
   "outputs": [],
   "execution_count": null
  },
  {
   "cell_type": "code",
   "metadata": {},
   "source": [
    "len(dup_list)"
   ],
   "id": "703ab93e64d0430e",
   "outputs": [],
   "execution_count": null
  },
  {
   "cell_type": "code",
   "metadata": {},
   "source": [
    "len(rown)"
   ],
   "id": "418085a6bf05f279",
   "outputs": [],
   "execution_count": null
  },
  {
   "cell_type": "code",
   "metadata": {},
   "source": [
    "rownames = rown"
   ],
   "id": "26914a284a3f623",
   "outputs": [],
   "execution_count": null
  },
  {
   "cell_type": "code",
   "metadata": {},
   "source": [],
   "id": "543a548b3dffd828",
   "outputs": [],
   "execution_count": null
  },
  {
   "cell_type": "code",
   "metadata": {},
   "source": [],
   "id": "d56afc170276c03a",
   "outputs": [],
   "execution_count": null
  },
  {
   "cell_type": "code",
   "metadata": {},
   "source": [
    "a = 'SHH_PTCH1'\n",
    "a[4:] + \"_\" + a[0:3]"
   ],
   "id": "88773984e7b0920f",
   "outputs": [],
   "execution_count": null
  },
  {
   "cell_type": "code",
   "metadata": {},
   "source": [
    "lr_list = [lr_info_P30SCC, lr_info_P13SCC, lr_info_B18SCC, lr_info_E15SCC, lr_info_F21SCC, lr_info_Mela66487, lr_info_Mela48974,\n",
    "            lr_info_Mela6747, lr_info_Mela21031,lr_info_B18BCC,lr_info_E15BCC, lr_info_F21BCC]\n",
    "dataframe_data = []\n",
    "\n",
    "for lr in rownames:\n",
    "    data_row = []\n",
    "    #print(lr)\n",
    "    for info in lr_list:\n",
    "        if lr in info.index:\n",
    "            data_row.append(info[\"lr_score1\"][lr])\n",
    "        else:\n",
    "            data_row.append(0)\n",
    "    data_row = tuple(data_row)\n",
    "    dataframe_data.append(data_row)\n",
    "        "
   ],
   "id": "110296625740744f",
   "outputs": [],
   "execution_count": null
  },
  {
   "cell_type": "code",
   "metadata": {},
   "source": [
    "dataframe_data"
   ],
   "id": "5038da9605cd7092",
   "outputs": [],
   "execution_count": null
  },
  {
   "cell_type": "code",
   "metadata": {},
   "source": [
    "len(dataframe_data)"
   ],
   "id": "2733f9fc90c41fbc",
   "outputs": [],
   "execution_count": null
  },
  {
   "cell_type": "code",
   "metadata": {},
   "source": [
    "sig_lr = pd.DataFrame(dataframe_data, columns = colnames, index = rownames)"
   ],
   "id": "adc489a37f32abc9",
   "outputs": [],
   "execution_count": null
  },
  {
   "cell_type": "code",
   "metadata": {},
   "source": [
    "sig_lr"
   ],
   "id": "4a214b5af6fcc02c",
   "outputs": [],
   "execution_count": null
  },
  {
   "cell_type": "code",
   "metadata": {},
   "source": [
    "sig_lr.to_csv('Top50_Sig_LR.csv')"
   ],
   "id": "a1497b3feabd7ad4",
   "outputs": [],
   "execution_count": null
  },
  {
   "cell_type": "code",
   "metadata": {},
   "source": [
    "log_sig_lr.to_csv('Top50_Log_Sig_LR.csv')"
   ],
   "id": "ad6226eaeb4086d8",
   "outputs": [],
   "execution_count": null
  },
  {
   "cell_type": "code",
   "metadata": {},
   "source": [
    "log_sig_lr = sig_lr + 0.00001\n",
    "log_sig_lr = np.log(log_sig_lr)"
   ],
   "id": "1bf45bd3d0fe435",
   "outputs": [],
   "execution_count": null
  },
  {
   "cell_type": "code",
   "metadata": {},
   "source": [
    "log_sig_lr"
   ],
   "id": "7c8ae1530ff19978",
   "outputs": [],
   "execution_count": null
  },
  {
   "cell_type": "code",
   "metadata": {},
   "source": [
    "fig, (ax1, ax2) = plt.subplots(1,2)"
   ],
   "id": "3dcb42d2618b05b5",
   "outputs": [],
   "execution_count": null
  },
  {
   "cell_type": "code",
   "metadata": {},
   "source": [
    "ax2"
   ],
   "id": "bac487a70f35efb4",
   "outputs": [],
   "execution_count": null
  },
  {
   "cell_type": "code",
   "metadata": {},
   "source": [
    "ax.set(aspect=1, xlim=(-15, 15), ylim=(-20, 5))\n",
    "plt.show()"
   ],
   "id": "9e845155b3672f24",
   "outputs": [],
   "execution_count": null
  },
  {
   "cell_type": "code",
   "metadata": {},
   "source": [
    "ax"
   ],
   "id": "53c87fbcb13a48a1",
   "outputs": [],
   "execution_count": null
  },
  {
   "cell_type": "code",
   "metadata": {},
   "source": [
    "sns.set()\n",
    "plt.subplots(figsize=(7,15)) \n",
    "ax = sns.heatmap(log_sig_lr, cmap=\"YlGnBu\", xticklabels=1, yticklabels = 0, vmin = 0, vmax = 8) \n",
    "plt.title( \"Top50 LR\" )\n",
    "plt.show()"
   ],
   "id": "1567e911a278e42c",
   "outputs": [],
   "execution_count": null
  },
  {
   "cell_type": "code",
   "metadata": {},
   "source": [
    "ax.append_trace(go.Heatmap(colorscale='spectral', showscale=False), row=1, col=2)"
   ],
   "id": "44a3e342c843834d",
   "outputs": [],
   "execution_count": null
  },
  {
   "cell_type": "code",
   "metadata": {},
   "source": [
    "dir(ax)"
   ],
   "id": "e31af0dfe8a49c08",
   "outputs": [],
   "execution_count": null
  },
  {
   "cell_type": "code",
   "metadata": {},
   "source": [
    "len(ax.get_yticklabels())"
   ],
   "id": "4a8d6715361c416a",
   "outputs": [],
   "execution_count": null
  },
  {
   "cell_type": "code",
   "metadata": {},
   "source": [
    "sns.set()\n",
    "plt.subplots(figsize=(7,15)) \n",
    "ax = sns.heatmap(log_sig_lr, cmap=\"YlGnBu\", xticklabels=1, yticklabels = 0) \n",
    "plt.title( \"2-D Heat Map\" )\n",
    "plt.show()"
   ],
   "id": "de00ab1d46f1ccfd",
   "outputs": [],
   "execution_count": null
  },
  {
   "cell_type": "code",
   "metadata": {},
   "source": [
    "sns.set()\n",
    "plt.subplots(figsize=(7,15)) \n",
    "ax = sns.heatmap(sig_lr, cmap=\"YlGnBu\", xticklabels=1, yticklabels = 1) \n",
    "plt.title( \"2-D Heat Map\" )\n",
    "plt.show()"
   ],
   "id": "76cfb915d54dd9d0",
   "outputs": [],
   "execution_count": null
  },
  {
   "cell_type": "code",
   "metadata": {},
   "source": [
    "dataframe_data_all = []\n",
    "\n",
    "for lr in rownames:\n",
    "    data_row = []\n",
    "    #print(lr)\n",
    "    for info in lr_list:\n",
    "        if lr in info[1:50].index:\n",
    "            data_row.append(info[\"n_spots\"][lr])\n",
    "        else:\n",
    "            data_row.append(0)\n",
    "    data_row = tuple(data_row)\n",
    "    dataframe_data_all.append(data_row)"
   ],
   "id": "2533382456e26b3d",
   "outputs": [],
   "execution_count": null
  },
  {
   "cell_type": "code",
   "metadata": {},
   "source": [
    "sig_lr_all = pd.DataFrame(dataframe_data_all, columns = conames, index = rownames)"
   ],
   "id": "7a0346fa691627fb",
   "outputs": [],
   "execution_count": null
  },
  {
   "cell_type": "code",
   "metadata": {},
   "source": [
    "sig_lr_all"
   ],
   "id": "ccd9d9cad6858308",
   "outputs": [],
   "execution_count": null
  },
  {
   "cell_type": "code",
   "metadata": {},
   "source": [
    "st.pl.lr_result_plot(data32B, use_result='-log10(p_adjs)', use_lr='COL1A2_ITGB1')\n",
    "plt.show()"
   ],
   "id": "20676dfcef752128",
   "outputs": [],
   "execution_count": null
  },
  {
   "cell_type": "code",
   "metadata": {},
   "source": [
    "sig_lr.to_csv(\"/RDS/Q2051/SCC_Paper/figures/Fig3_VisiumNanostring_celltypes/shareable_data/Top50_LR_Sig_spots.csv\")\n",
    "sig_lr.to_csv(\"/RDS/Q1851/Xinnan/Visium/Visium_result/Top50_LR_Sig_spots.csv\")\n",
    "sig_lr_all.to_csv(\"/RDS/Q2051/SCC_Paper/figures/Fig3_VisiumNanostring_celltypes/shareable_data/Top50_LR_All_spots.csv\")\n",
    "sig_lr_all.to_csv(\"/RDS/Q1851/Xinnan/Visium/Visium_result/Top50_LR_All_spots.csv\")"
   ],
   "id": "976be1d2402c92f1",
   "outputs": [],
   "execution_count": null
  },
  {
   "cell_type": "code",
   "metadata": {},
   "source": [],
   "id": "82382eb13c829a2b",
   "outputs": [],
   "execution_count": null
  },
  {
   "cell_type": "code",
   "metadata": {},
   "source": [
    "##########"
   ],
   "id": "d6b83a0daf56fa53",
   "outputs": [],
   "execution_count": null
  },
  {
   "cell_type": "code",
   "metadata": {},
   "source": [
    "data_dict = {\"P30SCC\": P30SCC, \"P13_SCC\": P13SCC, \"B18SCC\": B18SCC, \n",
    "             \"E15SCC\": E15SCC, \"F21_SCC\": F21SCC, \n",
    "             \"Mela66487\": Mela66487, \"Mela48974\": Mela48974, \"Mela6747\": Mela6747,\n",
    "             \"Mela21031\": Mela21031, \"B18BCC\": B18BCC, \"E15BCC\": E15BCC, \"F21BCC\": F21BCC}"
   ],
   "id": "ae915b8a9d27884",
   "outputs": [],
   "execution_count": null
  },
  {
   "cell_type": "code",
   "metadata": {},
   "source": [
    "for key in data_dict.keys():\n",
    "    print(key, type(key))"
   ],
   "id": "70072982a050cd7c",
   "outputs": [],
   "execution_count": null
  },
  {
   "cell_type": "code",
   "metadata": {},
   "source": [
    "for v in data_dict.values():\n",
    "    print(v)"
   ],
   "id": "79c667dc4c6a3f",
   "outputs": [],
   "execution_count": null
  },
  {
   "cell_type": "code",
   "metadata": {},
   "source": [
    "for key, val in data_dict.items():\n",
    "    print(key, val)\n",
    "    break"
   ],
   "id": "53671bf19365e0f1",
   "outputs": [],
   "execution_count": null
  },
  {
   "cell_type": "code",
   "metadata": {},
   "source": [
    "lr_list = [lr_info_P30SCC, lr_info_P13SCC, lr_info_B18SCC, lr_info_E15SCC, lr_info_F21SCC, lr_info_Mela66487, lr_info_Mela48974,\n",
    "            lr_info_Mela6747, lr_info_Mela21031,lr_info_B18BCC,lr_info_E15BCC, lr_info_F21BCC]"
   ],
   "id": "729844c3a1ddc801",
   "outputs": [],
   "execution_count": null
  },
  {
   "cell_type": "code",
   "metadata": {},
   "source": [
    "PD_list = [] ### 'CD274_PDCD1' = PDL1_PD1\n",
    "\n",
    "index = 1\n",
    "for sample in lr_list:\n",
    "    for lr in sample.index:\n",
    "        if \"PDCD1LG2\" in lr:\n",
    "            PD_list.append(lr)\n",
    "            PD_list.append(index)\n",
    "    index = index + 1"
   ],
   "id": "d85f113989b77d44",
   "outputs": [],
   "execution_count": null
  },
  {
   "cell_type": "code",
   "metadata": {
    "scrolled": true
   },
   "source": [
    "PD_list"
   ],
   "id": "568ca2325b4d80bb",
   "outputs": [],
   "execution_count": null
  },
  {
   "cell_type": "code",
   "metadata": {},
   "source": [
    "# P13SCC: CD80_CD274/CD274_CD80\n",
    "# B18SCC: CD80_CD274/CD274_CD80, CD274_PDCD1\n",
    "# Mela48974: CD80_CD274/CD274_CD80, CD274_PDCD1, 'PDCD1LG2_PDCD1'\n",
    "# B18BCC: CD80_CD274/CD274_CD80, CD274_PDCD1, 'PDCD1LG2_PDCD1'"
   ],
   "id": "821498bfaa9a4f50",
   "outputs": [],
   "execution_count": null
  },
  {
   "cell_type": "code",
   "metadata": {},
   "source": [
    "for i in rownames:\n",
    "    if \"PD\" in i:\n",
    "        print(i)"
   ],
   "id": "3c9ee46a77d72c0e",
   "outputs": [],
   "execution_count": null
  },
  {
   "cell_type": "markdown",
   "metadata": {},
   "source": [
    "## How to save plot to path"
   ],
   "id": "3905169c94f4871e"
  },
  {
   "cell_type": "code",
   "metadata": {},
   "source": [
    "#import os"
   ],
   "id": "3ca8e5808349a9ef",
   "outputs": [],
   "execution_count": null
  },
  {
   "cell_type": "code",
   "metadata": {},
   "source": [
    "#pdf_path = os."
   ],
   "id": "e5f07f8bc4c1900",
   "outputs": [],
   "execution_count": null
  },
  {
   "cell_type": "code",
   "metadata": {},
   "source": [
    "#data32A.__contains__"
   ],
   "id": "554f5faccfcf283f",
   "outputs": [],
   "execution_count": null
  },
  {
   "cell_type": "code",
   "metadata": {},
   "source": [],
   "id": "920f8365b80a7a74",
   "outputs": [],
   "execution_count": null
  },
  {
   "cell_type": "code",
   "metadata": {},
   "source": [
    "SCC_names = (list(lr_info_P30SCC[1:50].index.values) + \n",
    "            list(lr_info_P13SCC[1:50].index.values) + \n",
    "            list(lr_info_B18SCC[1:50].index.values) + \n",
    "            list(lr_info_E15SCC[1:50].index.values) + \n",
    "            list(lr_info_F21SCC[1:50].index.values))\n",
    "\n",
    "Mela_names = (list(lr_info_Mela66487[1:50].index.values) + \n",
    "            list(lr_info_Mela48974[1:50].index.values) +\n",
    "            list(lr_info_Mela6747[1:50].index.values) + \n",
    "            list(lr_info_Mela21031[1:50].index.values))\n",
    "\n",
    "BCC_names = (list(lr_info_B18BCC[1:50].index.values) + \n",
    "            list(lr_info_E15BCC[1:50].index.values) + \n",
    "            list(lr_info_F21BCC[1:50].index.values)) \n",
    "\n",
    "for i in SCC_names:\n",
    "    if SCC_names.count(i) > 1:\n",
    "        SCC_names.remove(i)\n",
    "\n",
    "for i in Mela_names:\n",
    "    if Mela_names.count(i) > 1:\n",
    "        Mela_names.remove(i)\n",
    "        \n",
    "for i in BCC_names:\n",
    "    if BCC_names.count(i) > 1:\n",
    "        BCC_names.remove(i)"
   ],
   "id": "ec3ea07091b8a4c5",
   "outputs": [],
   "execution_count": null
  },
  {
   "cell_type": "code",
   "metadata": {},
   "source": [
    "BCC_names = (list(lr_info_B18BCC[1:50].index.values) + \n",
    "            list(lr_info_E15BCC[1:50].index.values) + \n",
    "            list(lr_info_F21BCC[1:50].index.values)) \n",
    "if ('COL4A1_CD93' in BCC_names):\n",
    "    print(\"TRUE\")"
   ],
   "id": "c0accbb73d46a253",
   "outputs": [],
   "execution_count": null
  },
  {
   "cell_type": "code",
   "metadata": {},
   "source": [
    "#SCC_list = []\n",
    "#BCC_list = []\n",
    "#Mela_list = []\n",
    "\n",
    "SCC_dict = {\"P30SCC\": P30SCC, \"P13_SCC\": P13SCC, \"B18SCC\": B18SCC, \n",
    "             \"E15SCC\": E15SCC, \"F21_SCC\": F21SCC}\n",
    "Mela_dict = {\"Mela66487\": Mela66487, \"Mela48974\": Mela48974, \"Mela6747\": Mela6747,\n",
    "             \"Mela21031\": Mela21031}\n",
    "BCC_dict = {\"B18BCC\": B18BCC, \"E15BCC\": E15BCC, \"F21BCC\": F21BCC}"
   ],
   "id": "86216a1a78f5b96d",
   "outputs": [],
   "execution_count": null
  },
  {
   "cell_type": "code",
   "metadata": {},
   "source": [
    "#for lr in rownames:\n",
    "    #for key, data in SCC_dict.items():\n",
    "        #if (lr in data.uns['lr_summary'].index) and (lr not in SCC_list):\n",
    "            #SCC_list.append(lr)  \n",
    "    #for key, data in BCC_dict.items():\n",
    "        #if lr in data.uns['lr_summary'].index:\n",
    "            #BCC_list.append(lr)\n",
    "    #for key, data in Mela_dict.items():\n",
    "        #if lr in data.uns['lr_summary'].index:\n",
    "            #Mela_list.append(lr)"
   ],
   "id": "d3c4defeb28937e8",
   "outputs": [],
   "execution_count": null
  },
  {
   "cell_type": "code",
   "metadata": {},
   "source": [
    "print(len(SCC_names), len(BCC_names), len(Mela_names), len(rownames))"
   ],
   "id": "aad7713b1e3e5860",
   "outputs": [],
   "execution_count": null
  },
  {
   "cell_type": "code",
   "metadata": {},
   "source": [
    "Only_SCC = []\n",
    "Only_BCC = []\n",
    "Only_Mela = []\n",
    "Only_SCCBCC = []\n",
    "Only_SCCMela = []\n",
    "Only_BCCMela = []\n",
    "\n",
    "for lr in rownames:\n",
    "    if (lr in SCC_names) and (lr not in BCC_names) and (lr not in Mela_names):\n",
    "        Only_SCC.append(lr)\n",
    "    if (lr not in SCC_names) and (lr in BCC_names) and (lr not in Mela_names):\n",
    "        Only_BCC.append(lr)\n",
    "    if (lr not in SCC_names) and (lr not in BCC_names) and (lr in Mela_names):\n",
    "        Only_Mela.append(lr)\n",
    "    if (lr in SCC_names) and (lr in BCC_names) and (lr not in Mela_names):\n",
    "        Only_SCCBCC.append(lr)\n",
    "    if (lr in SCC_names) and (lr not in BCC_names) and (lr in Mela_names):\n",
    "        Only_SCCMela.append(lr)\n",
    "    if (lr not in SCC_names) and (lr in BCC_names) and (lr in Mela_names):\n",
    "        Only_BCCMela.append(lr)"
   ],
   "id": "449b1d5ebc1f97d8",
   "outputs": [],
   "execution_count": null
  },
  {
   "cell_type": "code",
   "metadata": {},
   "source": [
    "Three_All = []\n",
    "\n",
    "for lr in rownames:\n",
    "    if (lr in SCC_names) and (lr in BCC_names) and (lr in Mela_names):\n",
    "        Three_All.append(lr)"
   ],
   "id": "1bfb84e7805ff6fa",
   "outputs": [],
   "execution_count": null
  },
  {
   "cell_type": "code",
   "metadata": {},
   "source": [
    "print(len(Only_SCC),len(Only_BCC),len(Only_Mela),len(Only_SCCBCC),len(Only_SCCMela),len(Only_BCCMela),len(Three_All))"
   ],
   "id": "c2aa8044ca61c058",
   "outputs": [],
   "execution_count": null
  },
  {
   "cell_type": "code",
   "metadata": {},
   "source": [
    "sig_lr.to_csv(\"/RDS/Q2051/SCC_Paper/figures/Fig3_VisiumNanostring_celltypes/shareable_data/Top50_LR_Sig_spots.csv\")\n",
    "sig_lr.to_csv(\"/RDS/Q1851/Xinnan/Visium/Visium_result/Top50_LR_Sig_spots.csv\")"
   ],
   "id": "20b46d17a4119e76",
   "outputs": [],
   "execution_count": null
  },
  {
   "cell_type": "code",
   "metadata": {},
   "source": [
    "Only_Mela"
   ],
   "id": "b5da3de93a219da6",
   "outputs": [],
   "execution_count": null
  },
  {
   "cell_type": "code",
   "metadata": {},
   "source": [
    "#Import libraries\n",
    "from matplotlib_venn import venn2, venn2_circles, venn2_unweighted\n",
    "from matplotlib_venn import venn3, venn3_circles\n",
    "from matplotlib import pyplot as plt\n",
    "%matplotlib inline"
   ],
   "id": "b188636d116b81db",
   "outputs": [],
   "execution_count": null
  },
  {
   "cell_type": "code",
   "metadata": {},
   "source": [
    "venn3(subsets = (73, 31, 47, 57, 17, 12, 114), set_labels = ('SCC', 'BCC', 'Melanoma'), alpha = 0.4);"
   ],
   "id": "6db8b553ad6e4b63",
   "outputs": [],
   "execution_count": null
  },
  {
   "cell_type": "code",
   "metadata": {},
   "source": [
    "LR_notIn_list = []"
   ],
   "id": "5e7e51f94b00e6dd",
   "outputs": [],
   "execution_count": null
  },
  {
   "cell_type": "code",
   "metadata": {},
   "source": [
    "for lr in rownames:\n",
    "    for key, data in data_dict.items():\n",
    "        if lr in data.uns['lr_summary'].index:\n",
    "            a=1\n",
    "            #st.pl.lr_result_plot(data, use_result='-log10(p_adjs)', use_lr=lr)\n",
    "            #plt.savefig(\"/RDS/Q1851/Xinnan/Visium/Visium_fig/CCI/CCI_jpeg/%s_%s.jpeg\" % (key, lr))\n",
    "            #plt.savefig(\"/RDS/Q1851/Xinnan/Visium/Visium_fig/CCI/CCI_pdf/%s_%s.pdf\" % (key, lr))\n",
    "            #plt.show()\n",
    "        else:\n",
    "            LR_notIn_list.append(\"%s not in sample %s\" % (lr, key))   "
   ],
   "id": "d6a2a96471efc95f",
   "outputs": [],
   "execution_count": null
  },
  {
   "cell_type": "code",
   "metadata": {},
   "source": [
    "LR_notIn_list"
   ],
   "id": "62d59e96781b2808",
   "outputs": [],
   "execution_count": null
  },
  {
   "cell_type": "code",
   "metadata": {},
   "source": [
    "with open('/RDS/Q1851/Xinnan/Visium/Visium_fig/CCI/LR_notIn_samples_Top50.txt', 'w') as notin_txt:\n",
    "    for line in LR_notIn_list:\n",
    "        notin_txt.write(\"%s\\n\" % line)"
   ],
   "id": "dc8dce3e5c2671d8",
   "outputs": [],
   "execution_count": null
  },
  {
   "cell_type": "code",
   "metadata": {},
   "source": [
    "IL34_CSF1R_notIn_list = []"
   ],
   "id": "d4d9df44067dea2",
   "outputs": [],
   "execution_count": null
  },
  {
   "cell_type": "code",
   "metadata": {},
   "source": [
    "?st.pl.lr_result_plot"
   ],
   "id": "1735ad25bfc94568",
   "outputs": [],
   "execution_count": null
  },
  {
   "cell_type": "code",
   "metadata": {},
   "source": [
    "st.pl.lr_result_plot(B18BCC, use_result='-log10(p_adjs)', use_lr=\"CD80_CD274\", size=0)"
   ],
   "id": "b67146cd46668911",
   "outputs": [],
   "execution_count": null
  },
  {
   "cell_type": "code",
   "metadata": {
    "scrolled": false
   },
   "source": [
    "### CD80_PDL1\n",
    "st.pl.lr_result_plot(P13SCC, use_result='-log10(p_adjs)', use_lr=\"CD80_CD274\")\n",
    "st.pl.lr_result_plot(P13SCC, use_result='-log10(p_adjs)', use_lr=\"CD274_CD80\")\n",
    "st.pl.lr_result_plot(B18SCC, use_result='-log10(p_adjs)', use_lr=\"CD80_CD274\")\n",
    "st.pl.lr_result_plot(B18SCC, use_result='-log10(p_adjs)', use_lr=\"CD274_CD80\")\n",
    "st.pl.lr_result_plot(Mela48974, use_result='-log10(p_adjs)', use_lr=\"CD80_CD274\")\n",
    "st.pl.lr_result_plot(Mela48974, use_result='-log10(p_adjs)', use_lr=\"CD274_CD80\")\n",
    "st.pl.lr_result_plot(B18BCC, use_result='-log10(p_adjs)', use_lr=\"CD80_CD274\")\n",
    "st.pl.lr_result_plot(B18BCC, use_result='-log10(p_adjs)', use_lr=\"CD274_CD80\")"
   ],
   "id": "b44cfff03ff82098",
   "outputs": [],
   "execution_count": null
  },
  {
   "cell_type": "code",
   "metadata": {},
   "source": [
    "### PDL1_PD1\n",
    "st.pl.lr_result_plot(B18SCC, use_result='-log10(p_adjs)', use_lr=\"CD274_PDCD1\")\n",
    "st.pl.lr_result_plot(Mela48974, use_result='-log10(p_adjs)', use_lr=\"CD274_PDCD1\")\n",
    "st.pl.lr_result_plot(B18BCC, use_result='-log10(p_adjs)', use_lr=\"CD274_PDCD1\")"
   ],
   "id": "c20389bf39964802",
   "outputs": [],
   "execution_count": null
  },
  {
   "cell_type": "code",
   "metadata": {},
   "source": [
    " for key, data in data_dict.items():\n",
    "    if \"IL34_CSF1R\" in data.uns['lr_summary'].index:\n",
    "        st.pl.lr_result_plot(data, use_result='-log10(p_adjs)', use_lr=\"IL34_CSF1R\")\n",
    "        plt.savefig(\"/RDS/Q1851/Xinnan/Visium/Visium_fig/CCI/CCI_jpeg/IL34_CSF1R_%s.jpeg\" % (key))\n",
    "        plt.savefig(\"/RDS/Q1851/Xinnan/Visium/Visium_fig/CCI/CCI_pdf/IL34_CSF1R_%s.pdf\" % (key))\n",
    "        plt.show()\n",
    "    else:\n",
    "        IL34_CSF1R_notIn_list.append(\"IL34_CSF1R not in sample %s\" % (key))   "
   ],
   "id": "8c70fdaa4a924cee",
   "outputs": [],
   "execution_count": null
  },
  {
   "cell_type": "code",
   "metadata": {},
   "source": [
    "IL34_CSF1R_notIn_list"
   ],
   "id": "c16ec54a59f636eb",
   "outputs": [],
   "execution_count": null
  },
  {
   "cell_type": "markdown",
   "metadata": {},
   "source": [
    "## Find overlapped LR with SMI and Nanostring"
   ],
   "id": "b77e1f1087c1a484"
  },
  {
   "cell_type": "code",
   "metadata": {},
   "source": [
    "a = '1\\tANGPT2_ITGA5_ITGB1\\t0\\t0\\t0\\t0\\t1\\t0\\t0\\t0\\t0\\t0\\n'\n",
    "a.index('\\t')"
   ],
   "id": "5f41519ebffe28f9",
   "outputs": [],
   "execution_count": null
  },
  {
   "cell_type": "code",
   "metadata": {},
   "source": [
    "a.find(\"d\")"
   ],
   "id": "f87f4a068dfb1b2a",
   "outputs": [],
   "execution_count": null
  },
  {
   "cell_type": "code",
   "metadata": {},
   "source": [
    "a.find(\"d\", 3)"
   ],
   "id": "4ac3361b8b962d96",
   "outputs": [],
   "execution_count": null
  },
  {
   "cell_type": "code",
   "metadata": {},
   "source": [
    "a.index(\"\\t\", 2)"
   ],
   "id": "f79c32b90c9f194a",
   "outputs": [],
   "execution_count": null
  },
  {
   "cell_type": "code",
   "metadata": {},
   "source": [
    "a[2:20]"
   ],
   "id": "d2212055769d0bf9",
   "outputs": [],
   "execution_count": null
  },
  {
   "cell_type": "code",
   "metadata": {},
   "source": [
    "smi_list = []\n",
    "nano_list = []"
   ],
   "id": "633cb1c9d4d06e98",
   "outputs": [],
   "execution_count": null
  },
  {
   "cell_type": "code",
   "metadata": {},
   "source": [
    "## read Laura's result\n",
    "## add \"\\\" at the end of a line to connect it with the next line\n",
    "with open(\"/RDS/Q2051/SCC_Paper/figures/Fig2_scRNASeq_cancerVhealthy/working_data/panelG_CellChat/\\\n",
    "571SMIGenes_NotInFig/2_RunCellChat/MergeResults/outdir/allCellChat_summaryTable.txt\", \"r\") as SMI:\n",
    "    for line in SMI:\n",
    "        smi_list.append(line)"
   ],
   "id": "9981d6e0b3e4cfbf",
   "outputs": [],
   "execution_count": null
  },
  {
   "cell_type": "code",
   "metadata": {},
   "source": [
    "with open('/RDS/Q2051/SCC_Paper/figures/Fig2_scRNASeq_cancerVhealthy/working_data/panelG_CellChat/\\\n",
    "1800NanostringGenes_InFig/10_CellChat/1800NanostringGenes/MergeResults/outdir/\\\n",
    "allCellChat_summaryTable.txt', 'r') as Nano:\n",
    "    for line in Nano:\n",
    "        nano_list.append(line)"
   ],
   "id": "57efb06bcb1d749d",
   "outputs": [],
   "execution_count": null
  },
  {
   "cell_type": "code",
   "metadata": {},
   "source": [
    "smi_LR = []\n",
    "nano_LR = []"
   ],
   "id": "38f8a1d9444f057c",
   "outputs": [],
   "execution_count": null
  },
  {
   "cell_type": "code",
   "metadata": {},
   "source": [
    "for line in smi_list[1:]:\n",
    "    i1 = line.find(\"\\t\")\n",
    "    i2 = line.find('\\t', i1+1)\n",
    "    smi_LR.append(line[i1 + 1:i2])   "
   ],
   "id": "db0f08e4e0d50c77",
   "outputs": [],
   "execution_count": null
  },
  {
   "cell_type": "code",
   "metadata": {},
   "source": [
    "for line in nano_list[1:]:\n",
    "    i1 = line.find(\"\\t\")\n",
    "    i2 = line.find('\\t', i1+1)\n",
    "    nano_LR.append(line[i1 + 1:i2])"
   ],
   "id": "ab22a1404246dabf",
   "outputs": [],
   "execution_count": null
  },
  {
   "cell_type": "code",
   "metadata": {},
   "source": [
    "smi_LR"
   ],
   "id": "f2f7736a8048d5ec",
   "outputs": [],
   "execution_count": null
  },
  {
   "cell_type": "code",
   "metadata": {},
   "source": [
    "nano_LR"
   ],
   "id": "94e9d7d35be2a619",
   "outputs": [],
   "execution_count": null
  },
  {
   "cell_type": "code",
   "metadata": {},
   "source": [
    "smi_overlap = []\n",
    "#all_smi = []\n",
    "nano_overlap = []\n",
    "#all_nano = []"
   ],
   "id": "5391ef093579feff",
   "outputs": [],
   "execution_count": null
  },
  {
   "cell_type": "code",
   "metadata": {},
   "source": [
    "for lr in smi_LR:\n",
    "    if lr in rownames:\n",
    "        smi_overlap.append(lr)\n",
    "    #if smi_list[0] in rownames:\n",
    "    \n",
    "for lr in nano_LR:\n",
    "    if lr in rownames:\n",
    "        nano_overlap.append(lr)"
   ],
   "id": "a4cc95d161a6cd86",
   "outputs": [],
   "execution_count": null
  },
  {
   "cell_type": "code",
   "metadata": {},
   "source": [
    "smi_overlap"
   ],
   "id": "ae1274349e35aaff",
   "outputs": [],
   "execution_count": null
  },
  {
   "cell_type": "code",
   "metadata": {},
   "source": [
    "nano_overlap"
   ],
   "id": "cc8d27097031ef19",
   "outputs": [],
   "execution_count": null
  },
  {
   "cell_type": "markdown",
   "metadata": {},
   "source": [
    "### just some python practice"
   ],
   "id": "6af490b665e16bc4"
  },
  {
   "cell_type": "code",
   "metadata": {},
   "source": [
    "'%s_%s.jpg' % (\"C1LOA1_TIGB1\", \"Visum32A\")"
   ],
   "id": "3a09417219449a9d",
   "outputs": [],
   "execution_count": null
  },
  {
   "cell_type": "code",
   "metadata": {},
   "source": [
    "'COL1A2_ITGB1' in data32A.uns['lr_summary'].index"
   ],
   "id": "aef18d144d69826b",
   "outputs": [],
   "execution_count": null
  },
  {
   "cell_type": "code",
   "metadata": {},
   "source": [
    "data32A.uns['lr_summary']"
   ],
   "id": "5e48760b6cac98ec",
   "outputs": [],
   "execution_count": null
  },
  {
   "cell_type": "markdown",
   "metadata": {},
   "source": [
    "### save objects use pickle"
   ],
   "id": "e35f29cd19e5118a"
  },
  {
   "cell_type": "code",
   "metadata": {},
   "source": [
    "with open('/RDS/Q1851/Xinnan/Visium/Visium_result/all_Visium_cci.pkl', 'wb') as outp:\n",
    "    for data in data_dict.values():\n",
    "        pickle.dump(data, outp, pickle.HIGHEST_PROTOCOL)"
   ],
   "id": "e74229adbc2db131",
   "outputs": [],
   "execution_count": null
  },
  {
   "cell_type": "code",
   "metadata": {},
   "source": [],
   "id": "416f2719eceb843b",
   "outputs": [],
   "execution_count": null
  }
 ],
 "metadata": {
  "kernelspec": {
   "display_name": "Python 3",
   "language": "python",
   "name": "python3"
  },
  "language_info": {
   "codemirror_mode": {
    "name": "ipython",
    "version": 3
   },
   "file_extension": ".py",
   "mimetype": "text/x-python",
   "name": "python",
   "nbconvert_exporter": "python",
   "pygments_lexer": "ipython3",
   "version": "3.7.6"
  }
 },
 "nbformat": 4,
 "nbformat_minor": 5
}
