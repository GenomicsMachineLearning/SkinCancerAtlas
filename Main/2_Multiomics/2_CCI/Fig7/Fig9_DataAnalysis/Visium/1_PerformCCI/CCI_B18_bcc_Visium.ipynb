{
 "cells": [
  {
   "cell_type": "code",
   "metadata": {},
   "source": [
    "#import stlearn as st\n",
    "#import numpy as np\n",
    "import pandas as pd\n",
    "import matplotlib.pyplot as plt"
   ],
   "id": "291065de18ec9094",
   "outputs": [],
   "execution_count": null
  },
  {
   "cell_type": "code",
   "metadata": {},
   "source": [
    "import numpy as np"
   ],
   "id": "fcb7be3eade1d574",
   "outputs": [],
   "execution_count": null
  },
  {
   "cell_type": "code",
   "metadata": {},
   "source": [
    "import stlearn as st"
   ],
   "id": "8f8c4318a77abc40",
   "outputs": [],
   "execution_count": null
  },
  {
   "cell_type": "code",
   "metadata": {},
   "source": [
    "np.__version__\n",
    "st.__version__"
   ],
   "id": "e80fc327c4402c5a",
   "outputs": [],
   "execution_count": null
  },
  {
   "cell_type": "code",
   "metadata": {},
   "source": [
    "data_dir = \"/RDS/Q2051/SCC_Paper/figures/figX_visium/working_data/Visium32_BCC_SCC/A1_B18BCC/outs/\""
   ],
   "id": "a3e17106f1e856ec",
   "outputs": [],
   "execution_count": null
  },
  {
   "cell_type": "code",
   "metadata": {},
   "source": [
    "# Loading raw data #\n",
    "data = st.Read10X(\"/RDS/Q2051/SCC_Paper/figures/figX_visium/working_data/Visium32_BCC_SCC/A1_B18BCC/outs/\")\n",
    "data.var_names_make_unique()\n",
    "#st.add.image(adata=data,\n",
    "             #imgpath=data_dir+\"spatial/tissue_hires_image.png\",\n",
    "             #library_id=\"B18_BCC\", visium=True)\n",
    "\n",
    "# Basic normalisation #\n",
    "st.pp.filter_genes(data, min_cells=3)\n",
    "st.pp.normalize_total(data) # NOTE: no log1p."
   ],
   "id": "8b00fb62688f5c46",
   "outputs": [],
   "execution_count": null
  },
  {
   "cell_type": "code",
   "metadata": {},
   "source": [
    "print(spot_mixtures.columns)"
   ],
   "id": "238ef2a39ce62327",
   "outputs": [],
   "execution_count": null
  },
  {
   "cell_type": "code",
   "metadata": {},
   "source": [
    "spot_mixtures.rename(columns = {'KC.Basal': 'KC Basal', 'KC.Differentiating': 'KC Differentiating', \n",
    "                                'KC.Other': 'KC Other', 'KC.Cycling': 'KC Cycling', 'NK...T': 'NK + T',\n",
    "                                'B...PDC': 'B + PDC'})"
   ],
   "id": "5e6e50078eda2640",
   "outputs": [],
   "execution_count": null
  },
  {
   "cell_type": "code",
   "metadata": {},
   "source": [
    "spot_mixtures.drop(columns = ['orig.ident', 'nCount_Spatial', 'nFeature_Spatial', 'nCount_SCT',\n",
    "       'nFeature_SCT', 'SCT_snn_res.0.8', 'seurat_clusters', 'SCT_snn_res.0.5',\n",
    "       'SCT_snn_res.0.3'])"
   ],
   "id": "39c84cfabd638b3e",
   "outputs": [],
   "execution_count": null
  },
  {
   "cell_type": "code",
   "metadata": {},
   "source": [
    "spot_mixtures\n",
    "type(spot_mixtures)\n",
    "#spot_mixtures.columns = [col.replace('prediction.score.', '')\n",
    "#                         for col in spot_mixtures.columns]"
   ],
   "id": "fd691d24c2012a55",
   "outputs": [],
   "execution_count": null
  },
  {
   "cell_type": "markdown",
   "metadata": {},
   "source": [
    "### Preprocessing of matrix"
   ],
   "id": "b987908f1ab1c6f4"
  },
  {
   "cell_type": "code",
   "metadata": {},
   "source": [
    "# Adding the label transfer results,  #\n",
    "spot_mixtures = pd.read_csv(\"/RDS/Q1851/Xinnan/Visium/B18_bcc_meta_data.csv\", index_col=0, sep=',')"
   ],
   "id": "501776a7c5b0f706",
   "outputs": [],
   "execution_count": null
  },
  {
   "cell_type": "code",
   "metadata": {},
   "source": [
    "print(spot_mixtures.columns)"
   ],
   "id": "f62161230d0437fd",
   "outputs": [],
   "execution_count": null
  },
  {
   "cell_type": "code",
   "metadata": {},
   "source": [
    "spot_mixtures = spot_mixtures.drop(columns = ['orig.ident', 'nCount_Spatial', 'nFeature_Spatial', 'nCount_SCT',\n",
    "       'nFeature_SCT', 'SCT_snn_res.0.8', 'seurat_clusters', 'SCT_snn_res.0.5',\n",
    "       'SCT_snn_res.0.3'])"
   ],
   "id": "22dc7b8827cde680",
   "outputs": [],
   "execution_count": null
  },
  {
   "cell_type": "code",
   "metadata": {},
   "source": [
    "spot_mixtures"
   ],
   "id": "eaa902d7c23e9692",
   "outputs": [],
   "execution_count": null
  },
  {
   "cell_type": "code",
   "metadata": {},
   "source": [
    "print(spot_mixtures.columns)"
   ],
   "id": "ac4d4a5dff5e0100",
   "outputs": [],
   "execution_count": null
  },
  {
   "cell_type": "code",
   "metadata": {},
   "source": [
    "spot_mixtures = spot_mixtures.rename(columns = {'prediction.score.KC.Basal': 'prediction.score.KC Basal', \n",
    "                                'prediction.score.KC.Differentiating': 'prediction.score.KC Differentiating', \n",
    "                                'prediction.score.KC.Other': 'prediction.score.KC Other', \n",
    "                                'prediction.score.KC.Cycling': 'prediction.score.KC Cycling', \n",
    "                                'prediction.score.NK...T': 'prediction.score.NK + T',\n",
    "                                'prediction.score.B...PDC': 'prediction.score.B + PDC'})"
   ],
   "id": "792a403c70638ea6",
   "outputs": [],
   "execution_count": null
  },
  {
   "cell_type": "code",
   "metadata": {},
   "source": [
    "spot_mixtures"
   ],
   "id": "a4ba61c291c52f85",
   "outputs": [],
   "execution_count": null
  },
  {
   "cell_type": "code",
   "metadata": {
    "scrolled": false
   },
   "source": [
    "# Adding the label transfer results,  #\n",
    "#spot_mixtures = pd.read_csv(\"/RDS/Q1851/Xinnan/Visium/B18_bcc_meta_data.csv\", index_col=0, sep=',')\n",
    "\n",
    "labels = spot_mixtures.loc[:,'predicted.id'].values.astype(str) #dataframe so use \",\"\n",
    "spot_mixtures = spot_mixtures.drop(['predicted.id','prediction.score.max'],\n",
    "                                   axis=1)\n",
    "spot_mixtures.columns = [col.replace('prediction.score.', '')\n",
    "                         for col in spot_mixtures.columns]\n",
    "\n",
    "# Note the format! #\n",
    "print(labels)\n",
    "print(spot_mixtures)\n",
    "\n",
    "data.obs['cell_type'] = labels\n",
    "data.obs['cell_type'] = data.obs['cell_type'].astype('category')\n",
    "data.uns['cell_type'] = spot_mixtures\n",
    "\n",
    "\n",
    "st.pl.cluster_plot(data, use_label='cell_type')"
   ],
   "id": "447debd34dc8c518",
   "outputs": [],
   "execution_count": null
  },
  {
   "cell_type": "code",
   "metadata": {},
   "source": [
    "print(labels)\n",
    "print(spot_mixtures)"
   ],
   "id": "280b86f79acc1975",
   "outputs": [],
   "execution_count": null
  },
  {
   "cell_type": "code",
   "metadata": {},
   "source": [
    "st.__version__"
   ],
   "id": "5b6272f545bf979b",
   "outputs": [],
   "execution_count": null
  },
  {
   "cell_type": "code",
   "metadata": {},
   "source": [
    "stlearn_path = '/home/s4574396/stLearn/stlearn/'\n",
    "import os, sys\n",
    "#os.chdir(work_dir)\n",
    "sys.path.append(stlearn_path)"
   ],
   "id": "e4c53fdf1d926664",
   "outputs": [],
   "execution_count": null
  },
  {
   "cell_type": "code",
   "metadata": {
    "scrolled": false
   },
   "source": [
    "# Loading the LR databases available within stlearn (from NATMI)\n",
    "lrs = st.tl.cci.load_lrs(['connectomeDB2020_lit'], species='human')\n",
    "print(len(lrs))"
   ],
   "id": "66682a4bd7fe51fc",
   "outputs": [],
   "execution_count": null
  },
  {
   "cell_type": "code",
   "metadata": {},
   "source": [
    "# Before run st.tl.cci.run()\n",
    "data"
   ],
   "id": "35c04cb11dfde1a6",
   "outputs": [],
   "execution_count": null
  },
  {
   "cell_type": "code",
   "metadata": {},
   "source": [
    "# Running the analysis #\n",
    "st.tl.cci.run(data, lrs,\n",
    "                  min_spots = 20, #Filter out any LR pairs with no scores for less than min_spots\n",
    "                  distance=None, # None defaults to spot+immediate neighbours; distance=0 for within-spot mode\n",
    "                  n_pairs=100, # Number of random pairs to generate; low as example, recommend ~10,000\n",
    "                  n_cpus=4, # Number of CPUs for parallel. If None, detects & use all available.\n",
    "                  )\n",
    "\n",
    "lr_info = data.uns['lr_summary'] # A dataframe detailing the LR pairs ranked by number of significant spots.\n",
    "print('\\n', lr_info)"
   ],
   "id": "d39ae2818c498862",
   "outputs": [],
   "execution_count": null
  },
  {
   "cell_type": "code",
   "metadata": {},
   "source": [
    "type(lr_info)"
   ],
   "id": "46a4bca936bd96fb",
   "outputs": [],
   "execution_count": null
  },
  {
   "cell_type": "code",
   "metadata": {},
   "source": [
    "# After run st.tl.cci.run()\n",
    "data"
   ],
   "id": "f6c29de5c6b38781",
   "outputs": [],
   "execution_count": null
  },
  {
   "cell_type": "code",
   "metadata": {},
   "source": [
    "lr_info[1:10]"
   ],
   "id": "8882de4c11a13a00",
   "outputs": [],
   "execution_count": null
  },
  {
   "cell_type": "code",
   "metadata": {},
   "source": [
    "data"
   ],
   "id": "67d2155f14165a24",
   "outputs": [],
   "execution_count": null
  },
  {
   "cell_type": "code",
   "metadata": {},
   "source": [
    "data.obs"
   ],
   "id": "4dd58c2c714a6924",
   "outputs": [],
   "execution_count": null
  },
  {
   "cell_type": "code",
   "metadata": {},
   "source": [
    "type(data.obs)"
   ],
   "id": "49cba370054494",
   "outputs": [],
   "execution_count": null
  },
  {
   "cell_type": "code",
   "metadata": {},
   "source": [
    "data.var"
   ],
   "id": "6e78ac2cace2bc22",
   "outputs": [],
   "execution_count": null
  },
  {
   "cell_type": "code",
   "metadata": {},
   "source": [
    "data.uns['lr_summary']"
   ],
   "id": "ba76b064c16aec04",
   "outputs": [],
   "execution_count": null
  },
  {
   "cell_type": "code",
   "metadata": {},
   "source": [
    "data.obsm"
   ],
   "id": "622b4da66032078e",
   "outputs": [],
   "execution_count": null
  },
  {
   "cell_type": "code",
   "metadata": {},
   "source": [
    "data.obsm[\"lr_scores\"]"
   ],
   "id": "9d86400aabbf36e7",
   "outputs": [],
   "execution_count": null
  },
  {
   "cell_type": "code",
   "metadata": {},
   "source": [
    "data.obsm[\"p_vals\"]"
   ],
   "id": "b077bf352e8dba31",
   "outputs": [],
   "execution_count": null
  },
  {
   "cell_type": "code",
   "metadata": {},
   "source": [
    "best_lr = \"COL1A1_CD44\""
   ],
   "id": "c7302a1705d49514",
   "outputs": [],
   "execution_count": null
  },
  {
   "cell_type": "code",
   "metadata": {},
   "source": [
    "st.pl.lr_result_plot(data, use_result='lr_scores', use_lr=best_lr)\n",
    "plt.show()"
   ],
   "id": "be279ecb26d4ce2a",
   "outputs": [],
   "execution_count": null
  },
  {
   "cell_type": "code",
   "metadata": {},
   "source": [
    "st.pl.lr_result_plot(data, use_result='p_vals', use_lr=best_lr)\n",
    "plt.show()"
   ],
   "id": "4fc4dad9cadc34c0",
   "outputs": [],
   "execution_count": null
  },
  {
   "cell_type": "code",
   "metadata": {},
   "source": [
    "st.pl.lr_result_plot(data, use_result='p_adjs', use_lr=best_lr)\n",
    "plt.show()"
   ],
   "id": "7af84c96199d4d1e",
   "outputs": [],
   "execution_count": null
  },
  {
   "cell_type": "code",
   "metadata": {},
   "source": [
    "st.pl.lr_result_plot(data, use_result='-log10(p_adjs)', use_lr=best_lr)\n",
    "plt.show()"
   ],
   "id": "7cfa68547f7127c3",
   "outputs": [],
   "execution_count": null
  },
  {
   "cell_type": "code",
   "metadata": {},
   "source": [
    "st.pl.lr_result_plot(data, use_result='-log10(p_adjs)', use_lr=best_lr)\n",
    "plt.show()"
   ],
   "id": "ed575d61ebdcdc9f",
   "outputs": [],
   "execution_count": null
  },
  {
   "cell_type": "markdown",
   "metadata": {},
   "source": [
    "## Plot important LRs"
   ],
   "id": "59e3a0f102b65986"
  },
  {
   "cell_type": "code",
   "metadata": {},
   "source": [
    "st.pl.lr_result_plot(data, use_result='-log10(p_adjs)', use_lr=\"COL1A1_CD44\")\n",
    "plt.show()"
   ],
   "id": "9847a4ede834c9ae",
   "outputs": [],
   "execution_count": null
  },
  {
   "cell_type": "code",
   "metadata": {},
   "source": [
    "st.pl.lr_result_plot(data, use_result='-log10(p_adjs)', use_lr=\"COL1A1_ITGB1\")\n",
    "plt.show()"
   ],
   "id": "4311697df7c6955e",
   "outputs": [],
   "execution_count": null
  },
  {
   "cell_type": "code",
   "metadata": {},
   "source": [
    "st.pl.lr_result_plot(data, use_result='-log10(p_adjs)', use_lr=\"DCN_EGFR\")\n",
    "plt.show()"
   ],
   "id": "a7198eaa9421b14b",
   "outputs": [],
   "execution_count": null
  },
  {
   "cell_type": "code",
   "metadata": {},
   "source": [
    "st.pl.lr_result_plot(data, use_result='-log10(p_adjs)', use_lr=\"TFPI_LRP1\")\n",
    "plt.show()"
   ],
   "id": "1984d5a6a4c9ecc4",
   "outputs": [],
   "execution_count": null
  },
  {
   "cell_type": "code",
   "metadata": {},
   "source": [
    "st.pl.lr_result_plot(data, use_result='-log10(p_adjs)', use_lr=\"PDCD1_CD274\")\n",
    "plt.show()"
   ],
   "id": "37739e1dfdcc2cd5",
   "outputs": [],
   "execution_count": null
  },
  {
   "cell_type": "code",
   "metadata": {},
   "source": [
    "st.pl.lr_result_plot(data, use_result='-log10(p_adjs)', use_lr=\"IL34_CSF1R\")\n",
    "plt.show()"
   ],
   "id": "aa8a08e8925bfa8c",
   "outputs": [],
   "execution_count": null
  },
  {
   "cell_type": "code",
   "metadata": {},
   "source": [
    "st.pl.lr_result_plot(data, use_result='-log10(p_adjs)', use_lr=\"ITGAM_THY1\")\n",
    "plt.show()"
   ],
   "id": "705e2949ef484dc8",
   "outputs": [],
   "execution_count": null
  },
  {
   "cell_type": "code",
   "metadata": {},
   "source": [],
   "id": "92aaffd00614e460",
   "outputs": [],
   "execution_count": null
  },
  {
   "cell_type": "code",
   "metadata": {},
   "source": [],
   "id": "5c60fe9fa2976622",
   "outputs": [],
   "execution_count": null
  },
  {
   "cell_type": "code",
   "metadata": {},
   "source": [],
   "id": "b795c400fbe0c12b",
   "outputs": [],
   "execution_count": null
  },
  {
   "cell_type": "code",
   "metadata": {},
   "source": [
    "# Showing the rankings of the LR from a global and local perspective.\n",
    "# Ranking based on number of significant hotspots.\n",
    "st.pl.lr_summary(data, n_top=500)\n",
    "st.pl.lr_summary(data, n_top=50, figsize=(10,3))"
   ],
   "id": "38b0c818b96b07dd",
   "outputs": [],
   "execution_count": null
  },
  {
   "cell_type": "code",
   "metadata": {},
   "source": [
    "st.pl.lr_diagnostics(data, figsize=(10,2.5))"
   ],
   "id": "c34e1c3e8e8b5a3b",
   "outputs": [],
   "execution_count": null
  },
  {
   "cell_type": "code",
   "metadata": {},
   "source": [
    "st.pl.lr_n_spots(data, n_top=50, figsize=(11, 3),\n",
    "                    max_text=100)\n",
    "st.pl.lr_n_spots(data, n_top=500, figsize=(11, 3),\n",
    "                    max_text=100)"
   ],
   "id": "dbd772097f3cf1b4",
   "outputs": [],
   "execution_count": null
  },
  {
   "cell_type": "code",
   "metadata": {},
   "source": [
    "r_path = \"~/.conda/envs/R4.1/bin/R\"\n",
    "st.tl.cci.run_lr_go(data, r_path)"
   ],
   "id": "22cbc963f7fe057d",
   "outputs": [],
   "execution_count": null
  },
  {
   "cell_type": "code",
   "metadata": {},
   "source": [
    "st.pl.lr_go(data, lr_text_fp={'weight': 'bold', 'size': 10}, rot=15,\n",
    "               figsize=(12,3.65), n_top=15, show=False)"
   ],
   "id": "1c548b000326a654",
   "outputs": [],
   "execution_count": null
  },
  {
   "cell_type": "markdown",
   "metadata": {},
   "source": [
    "### Significant CCIs"
   ],
   "id": "b3216a4cb04eb45a"
  },
  {
   "cell_type": "code",
   "metadata": {},
   "source": [
    "print(data.obs['cell_type'])\n",
    "#print([sum(data.obs['cell_type'].values.astype(str)==cell_type) for cell_type in data.obs['cell_type'].cat.categories])\n",
    "print(np.unique(data.obs['cell_type'].astype(str)))\n",
    "print(data.uns['cell_type'].columns)"
   ],
   "id": "2ddfd204dbac07a",
   "outputs": [],
   "execution_count": null
  },
  {
   "cell_type": "code",
   "metadata": {},
   "source": [],
   "id": "461edbfd5b5133aa",
   "outputs": [],
   "execution_count": null
  },
  {
   "cell_type": "code",
   "metadata": {},
   "source": [],
   "id": "a815e27eb040370d",
   "outputs": [],
   "execution_count": null
  },
  {
   "cell_type": "code",
   "metadata": {},
   "source": [
    "# Running the counting of co-occurence of cell types and LR expression #\n",
    "st.tl.cci.run_cci(data, 'cell_type', # Spot cell information either in data.obs or data.uns\n",
    "                  min_spots=3, # Minimum number of spots for LR to be tested.\n",
    "                  spot_mixtures=True, # If True will use the label transfer scores,\n",
    "                                      # so spots can have multiple cell types if score>cell_prop_cutoff\n",
    "                  cell_prop_cutoff=0.2, # Spot considered to have cell type if score>0.2\n",
    "                  sig_spots=True, # Only consider neighbourhoods of spots which had significant LR scores.\n",
    "                  n_perms=100 # No. of permutations of the cell information to get background counts.\n",
    "                 )"
   ],
   "id": "d7e0a1ebd87a30aa",
   "outputs": [],
   "execution_count": null
  },
  {
   "cell_type": "code",
   "metadata": {},
   "source": [
    "st.pl.ccinet_plot(data, 'cell_type', return_pos=True)"
   ],
   "id": "35682aac0a6bc85b",
   "outputs": [],
   "execution_count": null
  },
  {
   "cell_type": "code",
   "metadata": {
    "scrolled": true
   },
   "source": [
    "# Visualising the no. of interactions between cell types across all LR pairs #\n",
    "pos_1 = st.pl.ccinet_plot(data, 'cell_type', return_pos=True)\n",
    "\n",
    "# Just examining the cell type interactions between selected pairs #\n",
    "lrs = data.uns['lr_summary'].index.values[0:5]\n",
    "for best_lr in lrs: #[0:3]:\n",
    "    st.pl.ccinet_plot(data, 'cell_type', best_lr, min_counts=2,\n",
    "                         figsize=(10,7.5), pos=pos_1,\n",
    "                      )"
   ],
   "id": "ead446dd4b7e2bda",
   "outputs": [],
   "execution_count": null
  },
  {
   "cell_type": "code",
   "metadata": {},
   "source": [
    "st.pl.lr_chord_plot(data, 'cell_type')\n",
    "\n",
    "for lr in lrs:\n",
    "    st.pl.lr_chord_plot(data, 'cell_type', lr)"
   ],
   "id": "2e0ebb5175a82817",
   "outputs": [],
   "execution_count": null
  },
  {
   "cell_type": "code",
   "metadata": {},
   "source": [
    "# This will automatically select the top interacting CCIs and their respective LRs #\n",
    "st.pl.lr_cci_map(data, 'cell_type', lrs=None, min_total=100, figsize=(20,4)) # Default Top 5"
   ],
   "id": "d50df7be95876bdc",
   "outputs": [],
   "execution_count": null
  },
  {
   "cell_type": "code",
   "metadata": {},
   "source": [
    "st.pl.lr_cci_map(data, 'cell_type', lrs=lrs, min_total=100, figsize=(20,4))"
   ],
   "id": "4a0da64c35682de2",
   "outputs": [],
   "execution_count": null
  },
  {
   "cell_type": "code",
   "metadata": {},
   "source": [
    "st.pl.cci_map(data, 'cell_type')\n",
    "\n",
    "lrs = data.uns['lr_summary'].index.values[0:3]\n",
    "for lr in lrs[0:3]:\n",
    "    st.pl.cci_map(data, 'cell_type', lr)"
   ],
   "id": "540b6313729e3c1c",
   "outputs": [],
   "execution_count": null
  },
  {
   "cell_type": "code",
   "metadata": {},
   "source": [],
   "id": "510ecac35545abdc",
   "outputs": [],
   "execution_count": null
  },
  {
   "cell_type": "code",
   "metadata": {},
   "source": [],
   "id": "6a201ba6e2a2d5d5",
   "outputs": [],
   "execution_count": null
  },
  {
   "cell_type": "code",
   "metadata": {},
   "source": [
    "data"
   ],
   "id": "6c85a51c4f9c85c3",
   "outputs": [],
   "execution_count": null
  },
  {
   "cell_type": "code",
   "metadata": {},
   "source": [
    "cell_props = data.uns['cell_type']"
   ],
   "id": "91c4b728f72df204",
   "outputs": [],
   "execution_count": null
  },
  {
   "cell_type": "code",
   "metadata": {},
   "source": [
    "data.uns['cell_type']"
   ],
   "id": "76f3bd516a30a81f",
   "outputs": [],
   "execution_count": null
  },
  {
   "cell_type": "code",
   "metadata": {},
   "source": [
    "cols = cell_props.columns.values.astype(str)\n",
    "cell_props.columns.values.astype(str)"
   ],
   "id": "58cb54c62ce71435",
   "outputs": [],
   "execution_count": null
  },
  {
   "cell_type": "code",
   "metadata": {},
   "source": [
    "np.where([cell_type in col for col in cols])[0][0]"
   ],
   "id": "e48a4c071e1d27e8",
   "outputs": [],
   "execution_count": null
  },
  {
   "cell_type": "code",
   "metadata": {},
   "source": [
    "col_order = [np.where([cell_type in col for col in cols])[0][0]\n",
    "                                                       for cell_type in all_set]"
   ],
   "id": "9306965d6f5efd74",
   "outputs": [],
   "execution_count": null
  }
 ],
 "metadata": {
  "kernelspec": {
   "display_name": "Python 3",
   "language": "python",
   "name": "python3"
  },
  "language_info": {
   "codemirror_mode": {
    "name": "ipython",
    "version": 3
   },
   "file_extension": ".py",
   "mimetype": "text/x-python",
   "name": "python",
   "nbconvert_exporter": "python",
   "pygments_lexer": "ipython3",
   "version": "3.7.6"
  }
 },
 "nbformat": 4,
 "nbformat_minor": 5
}
